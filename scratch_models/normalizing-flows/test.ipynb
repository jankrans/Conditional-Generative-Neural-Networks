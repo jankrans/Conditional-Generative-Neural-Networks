{
 "cells": [
  {
   "cell_type": "code",
   "execution_count": 1,
   "metadata": {},
   "outputs": [],
   "source": [
    "import os,sys, json, random\n",
    "from tqdm import tqdm\n",
    "import math\n",
    "import numpy as np\n",
    "\n",
    "sys.path.append('..')\n",
    "sys.path.append('../../generative-models-main/')\n",
    "\n",
    "import torch\n",
    "from torch.utils.data import TensorDataset, DataLoader\n",
    "\n",
    "from tensorboardX import SummaryWriter\n",
    "# Set the torch seed for result reproducibility\n",
    "torch_seed = 0\n",
    "torch.manual_seed(torch_seed)\n",
    "\n",
    "device = torch.device(\"cuda:0\" if torch.cuda.is_available() else \"cpu\")\n",
    "\n",
    "import utils\n",
    "import plot\n",
    "\n",
    "from models import *\n",
    "\n",
    "from numpyencoder import NumpyEncoder\n",
    "from sklearn.preprocessing import MinMaxScaler, StandardScaler"
   ]
  },
  {
   "cell_type": "code",
   "execution_count": 2,
   "metadata": {},
   "outputs": [],
   "source": [
    "#Load the date from 2021\n",
    "train_series, train_attr, val_series, val_attr, test_series, test_attr = utils.get_data('2021')\n",
    "\n",
    "#Standardize the data\n",
    "train_series, val_series, test_series, scaler_data = utils.standardize_data(train_series, val_series, test_series)\n",
    "\n",
    "#perform one-hot encoding\n",
    "ONEHOTENCODE = ['is_weekend','season','PV']\n",
    "train_attr = utils.one_hot_encode_columns(train_attr, ONEHOTENCODE)\n",
    "val_attr = utils.one_hot_encode_columns(val_attr, ONEHOTENCODE)\n",
    "test_attr = utils.one_hot_encode_columns(test_attr, ONEHOTENCODE)\n",
    "\n",
    "# MinMax scale the attributes -> this keeps the scales, which might be important for some attributes!\n",
    "train_attr, val_attr, test_attr, scaler_attr = utils.minmax_scale_attributes(train_attr,val_attr,test_attr)\n",
    "\n",
    "#Create dataloaders for pytorch\n",
    "train_dataset = TensorDataset(torch.tensor(train_series, dtype=torch.float32), torch.tensor(train_attr, dtype=torch.float32))\n",
    "val_dataset = TensorDataset(torch.tensor(val_series, dtype=torch.float32), torch.tensor(val_attr, dtype=torch.float32))\n",
    "test_dataset = TensorDataset(torch.tensor(test_series, dtype=torch.float32), torch.tensor(test_attr, dtype=torch.float32))\n",
    "\n",
    "test_attr  = torch.tensor(test_attr, dtype=torch.float32)"
   ]
  },
  {
   "cell_type": "code",
   "execution_count": 3,
   "metadata": {},
   "outputs": [],
   "source": [
    "training_run_name = 'run5'\n",
    "\n",
    "output_main_path = r'C:\\Thesis\\scripts\\normalizing-flows\\runs'\n",
    "output_path = os.path.join(output_main_path,training_run_name)\n",
    "os.makedirs(output_path, exist_ok=True)\n",
    "\n",
    "nb_layers = 2\n",
    "nb_neurons = 200\n",
    "out_size = 16\n",
    "learning_rate = 1e-3\n",
    "weight_decay = 1e-4\n",
    "\n",
    "nb_epochs = 100\n",
    "batch_size = 64\n",
    "\n",
    "train_loader = DataLoader(train_dataset, batch_size=batch_size, shuffle=True)\n",
    "val_loader = DataLoader(val_dataset, batch_size=batch_size, shuffle=False)\n",
    "test_loader = DataLoader(test_dataset, batch_size=batch_size, shuffle=False)\n",
    "\n",
    "config = {\n",
    "    'name': 'UMNN_M',\n",
    "    'nb_steps': 2,\n",
    "    'nb_layers': nb_layers,\n",
    "    'nb_neurons': nb_neurons,\n",
    "    'out_size': out_size,\n",
    "    'weight_decay': weight_decay,\n",
    "    'learning_rate': learning_rate,\n",
    "    'conditioner_type': 'AutoregressiveConditioner',\n",
    "    'normalizer_type': 'MonotonicNormalizer',\n",
    "    'conditioner_args': {\n",
    "        'in_size': train_series.shape[1] ,\n",
    "        'hidden': [nb_neurons]*nb_layers,\n",
    "        'out_size': out_size,\n",
    "        'cond_in':train_attr.shape[1]},\n",
    "    'normalizer_args': {\n",
    "        'integrand_net': [out_size * 2, out_size * 2, out_size * 2],\n",
    "        'cond_size':out_size,\n",
    "        'nb_steps':50,\n",
    "        'solver':'CCParallel',\n",
    "        'hot_encoding': True},\n",
    "    'Adam_args':{\n",
    "        'lr': learning_rate,\n",
    "        'weight_decay':weight_decay}\n",
    "    }\n",
    "\n",
    "\n",
    "with open(os.path.join(output_path, config['name']+'.json'), 'w') as file:\n",
    "    json.dump(config, file, cls=NumpyEncoder)\n",
    "\n",
    "flow = buildFCNormalizingFlow(nb_steps=config['nb_steps'], \n",
    "                             conditioner_type=AutoregressiveConditioner,\n",
    "                             conditioner_args=config['conditioner_args'], \n",
    "                             normalizer_type=MonotonicNormalizer,\n",
    "                             normalizer_args=config['normalizer_args'])\n",
    "\n",
    "opt = torch.optim.Adam(flow.parameters(), lr=config['learning_rate'], weight_decay=config['weight_decay'])"
   ]
  },
  {
   "cell_type": "code",
   "execution_count": 4,
   "metadata": {},
   "outputs": [
    {
     "name": "stderr",
     "output_type": "stream",
     "text": [
      "100%|██████████| 355/355 [00:08<00:00, 42.01it/s]\n",
      "100%|██████████| 355/355 [00:06<00:00, 51.93it/s]\n"
     ]
    },
    {
     "name": "stdout",
     "output_type": "stream",
     "text": [
      "Epoch 1 - LS loss: 10.613004 VS loss: 8.581617 TEST loss: 6.369230\r"
     ]
    },
    {
     "name": "stderr",
     "output_type": "stream",
     "text": [
      "100%|██████████| 355/355 [00:06<00:00, 52.09it/s]\n"
     ]
    },
    {
     "name": "stdout",
     "output_type": "stream",
     "text": [
      "Epoch 2 - LS loss: 2.188272 VS loss: 2.072469 TEST loss: 0.072844\r"
     ]
    },
    {
     "name": "stderr",
     "output_type": "stream",
     "text": [
      "100%|██████████| 355/355 [00:06<00:00, 51.97it/s]\n"
     ]
    },
    {
     "name": "stdout",
     "output_type": "stream",
     "text": [
      "Epoch 3 - LS loss: -3.317324 VS loss: -2.103624 TEST loss: -4.033069\r"
     ]
    },
    {
     "name": "stderr",
     "output_type": "stream",
     "text": [
      "100%|██████████| 355/355 [00:06<00:00, 51.71it/s]\n"
     ]
    },
    {
     "name": "stdout",
     "output_type": "stream",
     "text": [
      "Epoch 4 - LS loss: -7.218832 VS loss: -5.545211 TEST loss: -7.476799\r"
     ]
    },
    {
     "name": "stderr",
     "output_type": "stream",
     "text": [
      "100%|██████████| 355/355 [00:06<00:00, 51.82it/s]\n"
     ]
    },
    {
     "name": "stdout",
     "output_type": "stream",
     "text": [
      "Epoch 5 - LS loss: -10.634220 VS loss: -8.089335 TEST loss: -9.939967\r"
     ]
    },
    {
     "name": "stderr",
     "output_type": "stream",
     "text": [
      "100%|██████████| 355/355 [00:06<00:00, 51.92it/s]\n"
     ]
    },
    {
     "name": "stdout",
     "output_type": "stream",
     "text": [
      "Epoch 6 - LS loss: -13.167016 VS loss: -10.386600 TEST loss: -12.219725\r"
     ]
    },
    {
     "name": "stderr",
     "output_type": "stream",
     "text": [
      "100%|██████████| 355/355 [00:06<00:00, 52.14it/s]\n"
     ]
    },
    {
     "name": "stdout",
     "output_type": "stream",
     "text": [
      "Epoch 7 - LS loss: -15.093256 VS loss: -11.451255 TEST loss: -13.223941\r"
     ]
    },
    {
     "name": "stderr",
     "output_type": "stream",
     "text": [
      "100%|██████████| 355/355 [00:06<00:00, 52.14it/s]\n"
     ]
    },
    {
     "name": "stdout",
     "output_type": "stream",
     "text": [
      "Epoch 8 - LS loss: -17.043870 VS loss: -13.673982 TEST loss: -15.452192\r"
     ]
    },
    {
     "name": "stderr",
     "output_type": "stream",
     "text": [
      "100%|██████████| 355/355 [00:06<00:00, 51.84it/s]\n"
     ]
    },
    {
     "name": "stdout",
     "output_type": "stream",
     "text": [
      "Epoch 9 - LS loss: -18.582306 VS loss: -14.931628 TEST loss: -16.610397\r"
     ]
    },
    {
     "name": "stderr",
     "output_type": "stream",
     "text": [
      "100%|██████████| 355/355 [00:06<00:00, 51.66it/s]\n"
     ]
    },
    {
     "name": "stdout",
     "output_type": "stream",
     "text": [
      "Epoch 10 - LS loss: -20.026415 VS loss: -16.289269 TEST loss: -17.904271\r"
     ]
    },
    {
     "name": "stderr",
     "output_type": "stream",
     "text": [
      "100%|██████████| 355/355 [00:06<00:00, 52.01it/s]\n"
     ]
    },
    {
     "name": "stdout",
     "output_type": "stream",
     "text": [
      "Epoch 11 - LS loss: -20.960385 VS loss: -15.465451 TEST loss: -17.084968\r"
     ]
    },
    {
     "name": "stderr",
     "output_type": "stream",
     "text": [
      "100%|██████████| 355/355 [00:06<00:00, 52.20it/s]\n"
     ]
    },
    {
     "name": "stdout",
     "output_type": "stream",
     "text": [
      "Epoch 12 - LS loss: -22.195697 VS loss: -18.045847 TEST loss: -19.754369\r"
     ]
    },
    {
     "name": "stderr",
     "output_type": "stream",
     "text": [
      "100%|██████████| 355/355 [00:06<00:00, 52.10it/s]\n"
     ]
    },
    {
     "name": "stdout",
     "output_type": "stream",
     "text": [
      "Epoch 13 - LS loss: -23.159786 VS loss: -18.071355 TEST loss: -19.720109\r"
     ]
    },
    {
     "name": "stderr",
     "output_type": "stream",
     "text": [
      "100%|██████████| 355/355 [00:07<00:00, 50.19it/s]\n"
     ]
    },
    {
     "name": "stdout",
     "output_type": "stream",
     "text": [
      "Epoch 14 - LS loss: -23.683970 VS loss: -18.877710 TEST loss: -20.357006\r"
     ]
    },
    {
     "name": "stderr",
     "output_type": "stream",
     "text": [
      "100%|██████████| 355/355 [00:07<00:00, 49.75it/s]\n"
     ]
    },
    {
     "name": "stdout",
     "output_type": "stream",
     "text": [
      "Epoch 15 - LS loss: -24.740675 VS loss: -19.818501 TEST loss: -21.373388\r"
     ]
    },
    {
     "name": "stderr",
     "output_type": "stream",
     "text": [
      "100%|██████████| 355/355 [00:07<00:00, 50.17it/s]\n"
     ]
    },
    {
     "name": "stdout",
     "output_type": "stream",
     "text": [
      "Epoch 16 - LS loss: -25.157496 VS loss: -19.660772 TEST loss: -21.215184\r"
     ]
    },
    {
     "name": "stderr",
     "output_type": "stream",
     "text": [
      "100%|██████████| 355/355 [00:07<00:00, 50.20it/s]\n"
     ]
    },
    {
     "name": "stdout",
     "output_type": "stream",
     "text": [
      "Epoch 17 - LS loss: -25.665347 VS loss: -20.466556 TEST loss: -21.986129\r"
     ]
    },
    {
     "name": "stderr",
     "output_type": "stream",
     "text": [
      "100%|██████████| 355/355 [00:07<00:00, 50.15it/s]\n"
     ]
    },
    {
     "name": "stdout",
     "output_type": "stream",
     "text": [
      "Epoch 18 - LS loss: -26.243970 VS loss: -21.455259 TEST loss: -23.077622\r"
     ]
    },
    {
     "name": "stderr",
     "output_type": "stream",
     "text": [
      "100%|██████████| 355/355 [00:07<00:00, 50.26it/s]\n"
     ]
    },
    {
     "name": "stdout",
     "output_type": "stream",
     "text": [
      "Epoch 19 - LS loss: -26.939186 VS loss: -20.852719 TEST loss: -22.274649\r"
     ]
    },
    {
     "name": "stderr",
     "output_type": "stream",
     "text": [
      "100%|██████████| 355/355 [00:07<00:00, 50.45it/s]\n"
     ]
    },
    {
     "name": "stdout",
     "output_type": "stream",
     "text": [
      "Epoch 20 - LS loss: -27.446084 VS loss: -21.442233 TEST loss: -22.872224\r"
     ]
    },
    {
     "name": "stderr",
     "output_type": "stream",
     "text": [
      "100%|██████████| 355/355 [00:07<00:00, 49.92it/s]\n"
     ]
    },
    {
     "name": "stdout",
     "output_type": "stream",
     "text": [
      "Epoch 21 - LS loss: -27.927877 VS loss: -21.985770 TEST loss: -23.566943\r"
     ]
    },
    {
     "name": "stderr",
     "output_type": "stream",
     "text": [
      "100%|██████████| 355/355 [00:07<00:00, 50.01it/s]\n"
     ]
    },
    {
     "name": "stdout",
     "output_type": "stream",
     "text": [
      "Epoch 22 - LS loss: -28.158712 VS loss: -22.691207 TEST loss: -24.103220\r"
     ]
    },
    {
     "name": "stderr",
     "output_type": "stream",
     "text": [
      "100%|██████████| 355/355 [00:07<00:00, 49.56it/s]\n"
     ]
    },
    {
     "name": "stdout",
     "output_type": "stream",
     "text": [
      "Epoch 23 - LS loss: -28.913090 VS loss: -22.327288 TEST loss: -23.635219\r"
     ]
    },
    {
     "name": "stderr",
     "output_type": "stream",
     "text": [
      "100%|██████████| 355/355 [00:07<00:00, 47.65it/s]\n"
     ]
    },
    {
     "name": "stdout",
     "output_type": "stream",
     "text": [
      "Epoch 24 - LS loss: -29.052859 VS loss: -23.636635 TEST loss: -24.997432\r"
     ]
    },
    {
     "name": "stderr",
     "output_type": "stream",
     "text": [
      "100%|██████████| 355/355 [00:07<00:00, 49.29it/s]\n"
     ]
    },
    {
     "name": "stdout",
     "output_type": "stream",
     "text": [
      "Epoch 25 - LS loss: -29.751502 VS loss: -23.231485 TEST loss: -24.728748\r"
     ]
    },
    {
     "name": "stderr",
     "output_type": "stream",
     "text": [
      "100%|██████████| 355/355 [00:07<00:00, 50.03it/s]\n"
     ]
    },
    {
     "name": "stdout",
     "output_type": "stream",
     "text": [
      "Epoch 26 - LS loss: -29.960565 VS loss: -22.862707 TEST loss: -24.414856\r"
     ]
    },
    {
     "name": "stderr",
     "output_type": "stream",
     "text": [
      "100%|██████████| 355/355 [00:08<00:00, 41.51it/s]\n"
     ]
    },
    {
     "name": "stdout",
     "output_type": "stream",
     "text": [
      "Epoch 27 - LS loss: -30.405512 VS loss: -23.634660 TEST loss: -25.241680\r"
     ]
    },
    {
     "name": "stderr",
     "output_type": "stream",
     "text": [
      "100%|██████████| 355/355 [00:08<00:00, 40.64it/s]\n"
     ]
    },
    {
     "name": "stdout",
     "output_type": "stream",
     "text": [
      "Epoch 28 - LS loss: -30.541131 VS loss: -23.471937 TEST loss: -24.952749\r"
     ]
    },
    {
     "name": "stderr",
     "output_type": "stream",
     "text": [
      "100%|██████████| 355/355 [00:08<00:00, 40.95it/s]\n"
     ]
    },
    {
     "name": "stdout",
     "output_type": "stream",
     "text": [
      "Epoch 29 - LS loss: -30.922250 VS loss: -23.958578 TEST loss: -25.262729\r"
     ]
    },
    {
     "name": "stderr",
     "output_type": "stream",
     "text": [
      "100%|██████████| 355/355 [00:09<00:00, 39.17it/s]\n"
     ]
    },
    {
     "name": "stdout",
     "output_type": "stream",
     "text": [
      "Epoch 30 - LS loss: -30.975125 VS loss: -22.341720 TEST loss: -23.875523\r"
     ]
    },
    {
     "name": "stderr",
     "output_type": "stream",
     "text": [
      "100%|██████████| 355/355 [00:06<00:00, 50.76it/s]\n"
     ]
    },
    {
     "name": "stdout",
     "output_type": "stream",
     "text": [
      "Epoch 31 - LS loss: -31.548634 VS loss: -22.031976 TEST loss: -23.691454\r"
     ]
    },
    {
     "name": "stderr",
     "output_type": "stream",
     "text": [
      "100%|██████████| 355/355 [00:06<00:00, 50.93it/s]\n"
     ]
    },
    {
     "name": "stdout",
     "output_type": "stream",
     "text": [
      "Epoch 32 - LS loss: -31.769017 VS loss: -23.702659 TEST loss: -25.057033\r"
     ]
    },
    {
     "name": "stderr",
     "output_type": "stream",
     "text": [
      "100%|██████████| 355/355 [00:07<00:00, 50.67it/s]\n"
     ]
    },
    {
     "name": "stdout",
     "output_type": "stream",
     "text": [
      "Epoch 33 - LS loss: -32.038750 VS loss: -24.515528 TEST loss: -25.853812\r"
     ]
    },
    {
     "name": "stderr",
     "output_type": "stream",
     "text": [
      "100%|██████████| 355/355 [00:07<00:00, 49.99it/s]\n"
     ]
    },
    {
     "name": "stdout",
     "output_type": "stream",
     "text": [
      "Epoch 34 - LS loss: -32.350241 VS loss: -24.736785 TEST loss: -26.198924\r"
     ]
    },
    {
     "name": "stderr",
     "output_type": "stream",
     "text": [
      "100%|██████████| 355/355 [00:07<00:00, 50.38it/s]\n"
     ]
    },
    {
     "name": "stdout",
     "output_type": "stream",
     "text": [
      "Epoch 35 - LS loss: -32.410384 VS loss: -24.248685 TEST loss: -25.387415\r"
     ]
    },
    {
     "name": "stderr",
     "output_type": "stream",
     "text": [
      "100%|██████████| 355/355 [00:07<00:00, 50.28it/s]\n"
     ]
    },
    {
     "name": "stdout",
     "output_type": "stream",
     "text": [
      "Epoch 36 - LS loss: -32.961297 VS loss: -23.266477 TEST loss: -24.831533\r"
     ]
    },
    {
     "name": "stderr",
     "output_type": "stream",
     "text": [
      "100%|██████████| 355/355 [00:07<00:00, 50.09it/s]\n"
     ]
    },
    {
     "name": "stdout",
     "output_type": "stream",
     "text": [
      "Epoch 37 - LS loss: -32.911758 VS loss: -24.938843 TEST loss: -26.373623\r"
     ]
    },
    {
     "name": "stderr",
     "output_type": "stream",
     "text": [
      "100%|██████████| 355/355 [00:07<00:00, 50.17it/s]\n"
     ]
    },
    {
     "name": "stdout",
     "output_type": "stream",
     "text": [
      "Epoch 38 - LS loss: -33.044556 VS loss: -24.485753 TEST loss: -25.957190\r"
     ]
    },
    {
     "name": "stderr",
     "output_type": "stream",
     "text": [
      "100%|██████████| 355/355 [00:07<00:00, 50.02it/s]\n"
     ]
    },
    {
     "name": "stdout",
     "output_type": "stream",
     "text": [
      "Epoch 39 - LS loss: -33.575752 VS loss: -25.208512 TEST loss: -26.636851\r"
     ]
    },
    {
     "name": "stderr",
     "output_type": "stream",
     "text": [
      "100%|██████████| 355/355 [00:07<00:00, 48.99it/s]\n"
     ]
    },
    {
     "name": "stdout",
     "output_type": "stream",
     "text": [
      "Epoch 40 - LS loss: -33.839760 VS loss: -25.368796 TEST loss: -26.778823\r"
     ]
    },
    {
     "name": "stderr",
     "output_type": "stream",
     "text": [
      "100%|██████████| 355/355 [00:07<00:00, 48.67it/s]\n"
     ]
    },
    {
     "name": "stdout",
     "output_type": "stream",
     "text": [
      "Epoch 41 - LS loss: -34.022793 VS loss: -23.543030 TEST loss: -24.942403\r"
     ]
    },
    {
     "name": "stderr",
     "output_type": "stream",
     "text": [
      "100%|██████████| 355/355 [00:07<00:00, 49.30it/s]\n"
     ]
    },
    {
     "name": "stdout",
     "output_type": "stream",
     "text": [
      "Epoch 42 - LS loss: -34.063696 VS loss: -25.149650 TEST loss: -26.502967\r"
     ]
    },
    {
     "name": "stderr",
     "output_type": "stream",
     "text": [
      "100%|██████████| 355/355 [00:08<00:00, 43.71it/s]\n"
     ]
    },
    {
     "name": "stdout",
     "output_type": "stream",
     "text": [
      "Epoch 43 - LS loss: -34.327377 VS loss: -25.650490 TEST loss: -27.064670\r"
     ]
    },
    {
     "name": "stderr",
     "output_type": "stream",
     "text": [
      "100%|██████████| 355/355 [00:08<00:00, 41.87it/s]\n"
     ]
    },
    {
     "name": "stdout",
     "output_type": "stream",
     "text": [
      "Epoch 44 - LS loss: -34.458447 VS loss: -25.185061 TEST loss: -26.532905\r"
     ]
    },
    {
     "name": "stderr",
     "output_type": "stream",
     "text": [
      "100%|██████████| 355/355 [00:08<00:00, 40.68it/s]\n"
     ]
    },
    {
     "name": "stdout",
     "output_type": "stream",
     "text": [
      "Epoch 45 - LS loss: -34.626363 VS loss: -25.395516 TEST loss: -26.739511\r"
     ]
    },
    {
     "name": "stderr",
     "output_type": "stream",
     "text": [
      "100%|██████████| 355/355 [00:08<00:00, 39.60it/s]\n"
     ]
    },
    {
     "name": "stdout",
     "output_type": "stream",
     "text": [
      "Epoch 46 - LS loss: -34.607987 VS loss: -25.708912 TEST loss: -27.009575\r"
     ]
    },
    {
     "name": "stderr",
     "output_type": "stream",
     "text": [
      "100%|██████████| 355/355 [00:08<00:00, 40.13it/s]\n"
     ]
    },
    {
     "name": "stdout",
     "output_type": "stream",
     "text": [
      "Epoch 47 - LS loss: -35.194798 VS loss: -25.451289 TEST loss: -26.665454\r"
     ]
    },
    {
     "name": "stderr",
     "output_type": "stream",
     "text": [
      "100%|██████████| 355/355 [00:09<00:00, 39.23it/s]\n"
     ]
    },
    {
     "name": "stdout",
     "output_type": "stream",
     "text": [
      "Epoch 48 - LS loss: -35.196666 VS loss: -25.772812 TEST loss: -27.067996\r"
     ]
    },
    {
     "name": "stderr",
     "output_type": "stream",
     "text": [
      "100%|██████████| 355/355 [00:08<00:00, 40.05it/s]\n"
     ]
    },
    {
     "name": "stdout",
     "output_type": "stream",
     "text": [
      "Epoch 49 - LS loss: -35.467412 VS loss: -25.837047 TEST loss: -27.049511\r"
     ]
    },
    {
     "name": "stderr",
     "output_type": "stream",
     "text": [
      "100%|██████████| 355/355 [00:08<00:00, 41.86it/s]\n"
     ]
    },
    {
     "name": "stdout",
     "output_type": "stream",
     "text": [
      "Epoch 50 - LS loss: -35.670491 VS loss: -25.094653 TEST loss: -26.505881\r"
     ]
    },
    {
     "name": "stderr",
     "output_type": "stream",
     "text": [
      "100%|██████████| 355/355 [00:08<00:00, 40.66it/s]\n"
     ]
    },
    {
     "name": "stdout",
     "output_type": "stream",
     "text": [
      "Epoch 51 - LS loss: -35.685291 VS loss: -24.438272 TEST loss: -25.689625\r"
     ]
    },
    {
     "name": "stderr",
     "output_type": "stream",
     "text": [
      "100%|██████████| 355/355 [00:08<00:00, 41.46it/s]\n"
     ]
    },
    {
     "name": "stdout",
     "output_type": "stream",
     "text": [
      "Epoch 52 - LS loss: -36.033333 VS loss: -25.768934 TEST loss: -27.112097\r"
     ]
    },
    {
     "name": "stderr",
     "output_type": "stream",
     "text": [
      "100%|██████████| 355/355 [00:08<00:00, 41.51it/s]\n"
     ]
    },
    {
     "name": "stdout",
     "output_type": "stream",
     "text": [
      "Epoch 53 - LS loss: -35.688165 VS loss: -24.432108 TEST loss: -25.716400\r"
     ]
    },
    {
     "name": "stderr",
     "output_type": "stream",
     "text": [
      "100%|██████████| 355/355 [00:09<00:00, 38.51it/s]\n"
     ]
    },
    {
     "name": "stdout",
     "output_type": "stream",
     "text": [
      "Epoch 54 - LS loss: -36.303098 VS loss: -25.868053 TEST loss: -27.173229\r"
     ]
    },
    {
     "name": "stderr",
     "output_type": "stream",
     "text": [
      "100%|██████████| 355/355 [00:08<00:00, 40.22it/s]\n"
     ]
    },
    {
     "name": "stdout",
     "output_type": "stream",
     "text": [
      "Epoch 55 - LS loss: -36.145191 VS loss: -23.956648 TEST loss: -25.460596\r"
     ]
    },
    {
     "name": "stderr",
     "output_type": "stream",
     "text": [
      "100%|██████████| 355/355 [00:08<00:00, 42.44it/s]\n"
     ]
    },
    {
     "name": "stdout",
     "output_type": "stream",
     "text": [
      "Epoch 56 - LS loss: -36.382237 VS loss: -24.864851 TEST loss: -26.151770\r"
     ]
    },
    {
     "name": "stderr",
     "output_type": "stream",
     "text": [
      "100%|██████████| 355/355 [00:08<00:00, 41.80it/s]\n"
     ]
    },
    {
     "name": "stdout",
     "output_type": "stream",
     "text": [
      "Epoch 57 - LS loss: -36.625121 VS loss: -25.615214 TEST loss: -26.921261\r"
     ]
    },
    {
     "name": "stderr",
     "output_type": "stream",
     "text": [
      "100%|██████████| 355/355 [00:08<00:00, 41.75it/s]\n"
     ]
    },
    {
     "name": "stdout",
     "output_type": "stream",
     "text": [
      "Epoch 58 - LS loss: -36.581529 VS loss: -25.491635 TEST loss: -26.883230\r"
     ]
    },
    {
     "name": "stderr",
     "output_type": "stream",
     "text": [
      "100%|██████████| 355/355 [00:08<00:00, 41.74it/s]\n"
     ]
    },
    {
     "name": "stdout",
     "output_type": "stream",
     "text": [
      "Epoch 59 - LS loss: -37.072419 VS loss: -25.198376 TEST loss: -26.520588\r"
     ]
    },
    {
     "name": "stderr",
     "output_type": "stream",
     "text": [
      "100%|██████████| 355/355 [00:08<00:00, 41.27it/s]\n"
     ]
    },
    {
     "name": "stdout",
     "output_type": "stream",
     "text": [
      "Epoch 60 - LS loss: -36.795868 VS loss: -25.721390 TEST loss: -27.063499\r"
     ]
    },
    {
     "name": "stderr",
     "output_type": "stream",
     "text": [
      "100%|██████████| 355/355 [00:08<00:00, 42.46it/s]\n"
     ]
    },
    {
     "name": "stdout",
     "output_type": "stream",
     "text": [
      "Epoch 61 - LS loss: -37.056967 VS loss: -24.332608 TEST loss: -25.798247\r"
     ]
    },
    {
     "name": "stderr",
     "output_type": "stream",
     "text": [
      "100%|██████████| 355/355 [00:08<00:00, 41.19it/s]\n"
     ]
    },
    {
     "name": "stdout",
     "output_type": "stream",
     "text": [
      "Epoch 62 - LS loss: -37.297284 VS loss: -24.474234 TEST loss: -25.679483\r"
     ]
    },
    {
     "name": "stderr",
     "output_type": "stream",
     "text": [
      "100%|██████████| 355/355 [00:08<00:00, 40.21it/s]\n"
     ]
    },
    {
     "name": "stdout",
     "output_type": "stream",
     "text": [
      "Epoch 63 - LS loss: -37.453254 VS loss: -25.494089 TEST loss: -26.793909\r"
     ]
    },
    {
     "name": "stderr",
     "output_type": "stream",
     "text": [
      "100%|██████████| 355/355 [00:08<00:00, 41.92it/s]\n"
     ]
    },
    {
     "name": "stdout",
     "output_type": "stream",
     "text": [
      "Epoch 64 - LS loss: -37.471100 VS loss: -25.305634 TEST loss: -26.464452\r"
     ]
    },
    {
     "name": "stderr",
     "output_type": "stream",
     "text": [
      "100%|██████████| 355/355 [00:08<00:00, 42.40it/s]\n"
     ]
    },
    {
     "name": "stdout",
     "output_type": "stream",
     "text": [
      "Epoch 65 - LS loss: -37.552483 VS loss: -24.726903 TEST loss: -25.998976\r"
     ]
    },
    {
     "name": "stderr",
     "output_type": "stream",
     "text": [
      "100%|██████████| 355/355 [00:08<00:00, 42.47it/s]\n"
     ]
    },
    {
     "name": "stdout",
     "output_type": "stream",
     "text": [
      "Epoch 66 - LS loss: -37.640101 VS loss: -25.547926 TEST loss: -26.823407\r"
     ]
    },
    {
     "name": "stderr",
     "output_type": "stream",
     "text": [
      "100%|██████████| 355/355 [00:08<00:00, 40.37it/s]\n"
     ]
    },
    {
     "name": "stdout",
     "output_type": "stream",
     "text": [
      "Epoch 67 - LS loss: -38.093926 VS loss: -24.946767 TEST loss: -26.323546\r"
     ]
    },
    {
     "name": "stderr",
     "output_type": "stream",
     "text": [
      "100%|██████████| 355/355 [00:07<00:00, 49.98it/s]\n"
     ]
    },
    {
     "name": "stdout",
     "output_type": "stream",
     "text": [
      "Epoch 68 - LS loss: -38.247915 VS loss: -24.569978 TEST loss: -25.992701\r"
     ]
    },
    {
     "name": "stderr",
     "output_type": "stream",
     "text": [
      "  9%|▉         | 33/355 [00:00<00:06, 49.62it/s]\n"
     ]
    },
    {
     "ename": "KeyboardInterrupt",
     "evalue": "",
     "output_type": "error",
     "traceback": [
      "\u001b[1;31m---------------------------------------------------------------------------\u001b[0m",
      "\u001b[1;31mKeyboardInterrupt\u001b[0m                         Traceback (most recent call last)",
      "Cell \u001b[1;32mIn[4], line 24\u001b[0m\n\u001b[0;32m     22\u001b[0m loss \u001b[39m=\u001b[39m \u001b[39m-\u001b[39mll\u001b[39m.\u001b[39mmean()\n\u001b[0;32m     23\u001b[0m opt\u001b[39m.\u001b[39mzero_grad()\n\u001b[1;32m---> 24\u001b[0m loss\u001b[39m.\u001b[39;49mbackward()\n\u001b[0;32m     25\u001b[0m opt\u001b[39m.\u001b[39mstep()\n\u001b[0;32m     26\u001b[0m loss_batch \u001b[39m+\u001b[39m\u001b[39m=\u001b[39m loss\u001b[39m.\u001b[39mitem()\n",
      "File \u001b[1;32mc:\\Users\\jankr\\.conda\\envs\\torch\\lib\\site-packages\\torch\\_tensor.py:487\u001b[0m, in \u001b[0;36mTensor.backward\u001b[1;34m(self, gradient, retain_graph, create_graph, inputs)\u001b[0m\n\u001b[0;32m    477\u001b[0m \u001b[39mif\u001b[39;00m has_torch_function_unary(\u001b[39mself\u001b[39m):\n\u001b[0;32m    478\u001b[0m     \u001b[39mreturn\u001b[39;00m handle_torch_function(\n\u001b[0;32m    479\u001b[0m         Tensor\u001b[39m.\u001b[39mbackward,\n\u001b[0;32m    480\u001b[0m         (\u001b[39mself\u001b[39m,),\n\u001b[1;32m   (...)\u001b[0m\n\u001b[0;32m    485\u001b[0m         inputs\u001b[39m=\u001b[39minputs,\n\u001b[0;32m    486\u001b[0m     )\n\u001b[1;32m--> 487\u001b[0m torch\u001b[39m.\u001b[39;49mautograd\u001b[39m.\u001b[39;49mbackward(\n\u001b[0;32m    488\u001b[0m     \u001b[39mself\u001b[39;49m, gradient, retain_graph, create_graph, inputs\u001b[39m=\u001b[39;49minputs\n\u001b[0;32m    489\u001b[0m )\n",
      "File \u001b[1;32mc:\\Users\\jankr\\.conda\\envs\\torch\\lib\\site-packages\\torch\\autograd\\__init__.py:193\u001b[0m, in \u001b[0;36mbackward\u001b[1;34m(tensors, grad_tensors, retain_graph, create_graph, grad_variables, inputs)\u001b[0m\n\u001b[0;32m    189\u001b[0m inputs \u001b[39m=\u001b[39m (inputs,) \u001b[39mif\u001b[39;00m \u001b[39misinstance\u001b[39m(inputs, torch\u001b[39m.\u001b[39mTensor) \u001b[39melse\u001b[39;00m \\\n\u001b[0;32m    190\u001b[0m     \u001b[39mtuple\u001b[39m(inputs) \u001b[39mif\u001b[39;00m inputs \u001b[39mis\u001b[39;00m \u001b[39mnot\u001b[39;00m \u001b[39mNone\u001b[39;00m \u001b[39melse\u001b[39;00m \u001b[39mtuple\u001b[39m()\n\u001b[0;32m    192\u001b[0m grad_tensors_ \u001b[39m=\u001b[39m _tensor_or_tensors_to_tuple(grad_tensors, \u001b[39mlen\u001b[39m(tensors))\n\u001b[1;32m--> 193\u001b[0m grad_tensors_ \u001b[39m=\u001b[39m _make_grads(tensors, grad_tensors_, is_grads_batched\u001b[39m=\u001b[39;49m\u001b[39mFalse\u001b[39;49;00m)\n\u001b[0;32m    194\u001b[0m \u001b[39mif\u001b[39;00m retain_graph \u001b[39mis\u001b[39;00m \u001b[39mNone\u001b[39;00m:\n\u001b[0;32m    195\u001b[0m     retain_graph \u001b[39m=\u001b[39m create_graph\n",
      "File \u001b[1;32mc:\\Users\\jankr\\.conda\\envs\\torch\\lib\\site-packages\\torch\\autograd\\__init__.py:89\u001b[0m, in \u001b[0;36m_make_grads\u001b[1;34m(outputs, grads, is_grads_batched)\u001b[0m\n\u001b[0;32m     87\u001b[0m     \u001b[39mif\u001b[39;00m out\u001b[39m.\u001b[39mnumel() \u001b[39m!=\u001b[39m \u001b[39m1\u001b[39m:\n\u001b[0;32m     88\u001b[0m         \u001b[39mraise\u001b[39;00m \u001b[39mRuntimeError\u001b[39;00m(\u001b[39m\"\u001b[39m\u001b[39mgrad can be implicitly created only for scalar outputs\u001b[39m\u001b[39m\"\u001b[39m)\n\u001b[1;32m---> 89\u001b[0m     new_grads\u001b[39m.\u001b[39mappend(torch\u001b[39m.\u001b[39;49mones_like(out, memory_format\u001b[39m=\u001b[39;49mtorch\u001b[39m.\u001b[39;49mpreserve_format))\n\u001b[0;32m     90\u001b[0m \u001b[39melse\u001b[39;00m:\n\u001b[0;32m     91\u001b[0m     new_grads\u001b[39m.\u001b[39mappend(\u001b[39mNone\u001b[39;00m)\n",
      "\u001b[1;31mKeyboardInterrupt\u001b[0m: "
     ]
    }
   ],
   "source": [
    "flow.to(device)\n",
    "loss_list = []\n",
    "best_flow = flow\n",
    "\n",
    "torch.cuda.empty_cache()\n",
    "\n",
    "# Initialize SummaryWriter to log metrics\n",
    "writer = SummaryWriter(output_path)\n",
    "\n",
    "for epoch in range(nb_epochs):\n",
    "    loss_tot = 0\n",
    "    \n",
    "    loss_batch = 0\n",
    "    for y_batch, x_batch in tqdm(train_loader):\n",
    "        if np.isnan(y_batch).any():\n",
    "            continue\n",
    "        \n",
    "        # We compute the log-likelihood as well as the base variable\n",
    "        ll, _ = flow.compute_ll(x=y_batch.to(device), context=x_batch.to(device))\n",
    "        \n",
    "        # Here we would like to maximize the log-likelihood of our model!\n",
    "        loss = -ll.mean()\n",
    "        opt.zero_grad()\n",
    "        loss.backward()\n",
    "        opt.step()\n",
    "        loss_batch += loss.item()\n",
    "\n",
    "    # LS loss is the average over all the batch\n",
    "    loss_ls = loss_batch / len(train_loader)\n",
    "\n",
    "    loss_batch = 0\n",
    "    for y_batch, x_batch in val_loader:\n",
    "        ll, _ = flow.compute_ll(x=y_batch.to(device), context=x_batch.to(device))\n",
    "        loss_batch += -ll.mean().item()\n",
    "    loss_vs = loss_batch / len(val_loader)\n",
    "\n",
    "    loss_batch = 0\n",
    "    for y_batch, x_batch in test_loader:\n",
    "        ll, _ = flow.compute_ll(x=y_batch.to(device), context=x_batch.to(device))\n",
    "        loss_batch += -ll.mean().item()\n",
    "    loss_test = loss_batch / len(test_loader)\n",
    "\n",
    "    loss_list.append([loss_ls, loss_vs, loss_test])\n",
    "\n",
    "    ll_VS_min = np.nanmin(np.asarray(loss_list)[:, 1]) # ignore nan value when considering the min\n",
    "\n",
    "    if not math.isnan(loss_vs) and loss_vs <= ll_VS_min:\n",
    "        # print('NEW MIN ON VS at epoch %s loss_vs %.2f ll_VS_min %.2f' %(epoch, loss_vs, ll_VS_min))\n",
    "        best_flow = flow # update the best flow\n",
    "        output_model_path = os.path.join(output_path,'best_model.pt')\n",
    "        torch.save(best_flow, output_model_path)\n",
    "\n",
    "    if epoch % 1 == 0 and epoch != 0:\n",
    "        # print(\"Epoch {:.0f} Approximate time left : {:2f} min - LS loss: {:4f} VS loss: {:4f} TEST loss: {:4f}\".format(epoch, time_tot / (epoch + 1) * (nb_epoch - (epoch + 1)) / 60, loss_ls, loss_vs, loss_test))\n",
    "        output_model_path = os.path.join(output_path,f'model{epoch}.pt')\n",
    "        torch.save(flow, output_model_path)\n",
    "        print(\"Epoch {:.0f} - LS loss: {:4f} VS loss: {:4f} TEST loss: {:4f}\".format(epoch, loss_ls, loss_vs, loss_test), end=\"\\r\", flush=True)\n",
    "\n",
    "    writer.add_scalar('Losses/train', loss_ls, epoch)\n",
    "    writer.add_scalar('Losses/val', loss_vs, epoch)\n",
    "    writer.add_scalar('Losses/test', loss_test, epoch)"
   ]
  },
  {
   "cell_type": "code",
   "execution_count": 13,
   "metadata": {},
   "outputs": [
    {
     "name": "stderr",
     "output_type": "stream",
     "text": [
      "No artists with labels found to put in legend.  Note that artists whose label start with an underscore are ignored when legend() is called with no argument.\n"
     ]
    },
    {
     "data": {
      "image/png": "[encoded data removed]",
      "text/plain": [
       "<Figure size 1500x500 with 1 Axes>"
      ]
     },
     "metadata": {},
     "output_type": "display_data"
    }
   ],
   "source": [
    "best_flow = torch.load(r'C:\\Thesis\\scripts\\normalizing-flows\\runs\\run5\\best_model.pt').to('cuda')\n",
    "index = 4\n",
    "n = 50\n",
    "nb_output, cond_in = config['conditioner_args']['in_size'], config['conditioner_args']['cond_in']\n",
    "predictions = best_flow.invert(z=torch.randn(n, nb_output).to(device), context=torch.tensor(np.tile(test_attr[index], n).reshape(n, cond_in)).to(device).float()).cpu().detach().numpy()\n",
    "\n",
    "import plot\n",
    "transform = scaler_data.inverse_transform(predictions)\n",
    "org = scaler_data.inverse_transform([test_series[index]])\n",
    "plot.plotday(np.concatenate([transform,org]))"
   ]
  },
  {
   "cell_type": "code",
   "execution_count": 47,
   "metadata": {},
   "outputs": [],
   "source": [
    "from sklearn.metrics import mean_squared_error, mean_absolute_error\n",
    "\n",
    "def calculate_metrics_model(model, test_series, test_attr, scaler_data):\n",
    "    energy_score = []\n",
    "    mse = []\n",
    "    mae = []\n",
    "    test_series = scaler_data.inverse_transform(test_series)\n",
    "    for i,(org_serie,attr) in tqdm(enumerate(zip(test_series,test_attr)),total=len(test_attr)):\n",
    "        n = 50\n",
    "        new_samples = model.invert(z=torch.randn(n, nb_output).to(device), context=torch.tensor(np.tile(attr, n).reshape(n, cond_in)).to(device)).cpu().detach().numpy()\n",
    "        new_samples = scaler_data.inverse_transform(new_samples)\n",
    "        energy_score.append(utils.calculate_energy_score([1/n]*n, new_samples, org_serie))\n",
    "        mse.append(mean_squared_error(new_samples,np.array([org_serie]*n)))\n",
    "        mae.append(mean_absolute_error(new_samples,np.array([org_serie]*n)))\n",
    "\n",
    "        print('Energy Score:', np.mean(energy_score))\n",
    "        print('mse', np.mean(mse))\n",
    "        print('mae', np.mean(mae))"
   ]
  },
  {
   "cell_type": "code",
   "execution_count": 48,
   "metadata": {},
   "outputs": [
    {
     "name": "stderr",
     "output_type": "stream",
     "text": [
      "  0%|          | 1/4857 [00:02<4:02:32,  3.00s/it]"
     ]
    },
    {
     "name": "stdout",
     "output_type": "stream",
     "text": [
      "Energy Score: 1.9051136339641086\n",
      "mse 0.15260655042658447\n",
      "mae 0.2510470483067495\n"
     ]
    },
    {
     "name": "stderr",
     "output_type": "stream",
     "text": [
      "  0%|          | 2/4857 [00:06<4:03:47,  3.01s/it]"
     ]
    },
    {
     "name": "stdout",
     "output_type": "stream",
     "text": [
      "Energy Score: 1.7310700421539866\n",
      "mse 0.12659351187592371\n",
      "mae 0.23187496860142526\n"
     ]
    },
    {
     "name": "stderr",
     "output_type": "stream",
     "text": [
      "  0%|          | 3/4857 [00:08<3:52:29,  2.87s/it]"
     ]
    },
    {
     "name": "stdout",
     "output_type": "stream",
     "text": [
      "Energy Score: 1.6874957383489322\n",
      "mse 0.11772062202026488\n",
      "mae 0.22023946677642692\n"
     ]
    },
    {
     "name": "stderr",
     "output_type": "stream",
     "text": [
      "  0%|          | 4/4857 [00:11<3:52:56,  2.88s/it]"
     ]
    },
    {
     "name": "stdout",
     "output_type": "stream",
     "text": [
      "Energy Score: 1.6743167004222665\n",
      "mse 0.11292504927527804\n",
      "mae 0.21410078895693346\n"
     ]
    },
    {
     "name": "stderr",
     "output_type": "stream",
     "text": [
      "  0%|          | 5/4857 [00:14<3:41:45,  2.74s/it]"
     ]
    },
    {
     "name": "stdout",
     "output_type": "stream",
     "text": [
      "Energy Score: 1.6220628747028818\n",
      "mse 0.1037517226744622\n",
      "mae 0.20773171911112892\n"
     ]
    },
    {
     "name": "stderr",
     "output_type": "stream",
     "text": [
      "  0%|          | 6/4857 [00:16<3:43:29,  2.76s/it]"
     ]
    },
    {
     "name": "stdout",
     "output_type": "stream",
     "text": [
      "Energy Score: 1.6132934280840894\n",
      "mse 0.10423253305007492\n",
      "mae 0.20801757278556246\n"
     ]
    },
    {
     "name": "stderr",
     "output_type": "stream",
     "text": [
      "  0%|          | 7/4857 [00:19<3:42:35,  2.75s/it]"
     ]
    },
    {
     "name": "stdout",
     "output_type": "stream",
     "text": [
      "Energy Score: 1.5872103636563584\n",
      "mse 0.10020238889974746\n",
      "mae 0.20602481792240926\n"
     ]
    },
    {
     "name": "stderr",
     "output_type": "stream",
     "text": [
      "  0%|          | 8/4857 [00:22<3:44:46,  2.78s/it]"
     ]
    },
    {
     "name": "stdout",
     "output_type": "stream",
     "text": [
      "Energy Score: 1.5691673341731642\n",
      "mse 0.097430891602895\n",
      "mae 0.20350043648795144\n"
     ]
    },
    {
     "name": "stderr",
     "output_type": "stream",
     "text": [
      "  0%|          | 9/4857 [00:25<3:39:17,  2.71s/it]"
     ]
    },
    {
     "name": "stdout",
     "output_type": "stream",
     "text": [
      "Energy Score: 1.5827049312269506\n",
      "mse 0.0964374968108756\n",
      "mae 0.20466716485112732\n"
     ]
    },
    {
     "name": "stderr",
     "output_type": "stream",
     "text": [
      "  0%|          | 10/4857 [00:28<3:46:28,  2.80s/it]"
     ]
    },
    {
     "name": "stdout",
     "output_type": "stream",
     "text": [
      "Energy Score: 1.587226844926415\n",
      "mse 0.09793016253041686\n",
      "mae 0.20612915221094114\n"
     ]
    },
    {
     "name": "stderr",
     "output_type": "stream",
     "text": [
      "  0%|          | 11/4857 [00:30<3:48:26,  2.83s/it]"
     ]
    },
    {
     "name": "stdout",
     "output_type": "stream",
     "text": [
      "Energy Score: 1.5493492048402073\n",
      "mse 0.0942298505053253\n",
      "mae 0.2009142464273469\n"
     ]
    },
    {
     "name": "stderr",
     "output_type": "stream",
     "text": [
      "  0%|          | 12/4857 [00:33<3:50:02,  2.85s/it]"
     ]
    },
    {
     "name": "stdout",
     "output_type": "stream",
     "text": [
      "Energy Score: 1.586867581506935\n",
      "mse 0.09838436489844947\n",
      "mae 0.20653550721434133\n"
     ]
    },
    {
     "name": "stderr",
     "output_type": "stream",
     "text": [
      "  0%|          | 13/4857 [00:36<3:50:44,  2.86s/it]"
     ]
    },
    {
     "name": "stdout",
     "output_type": "stream",
     "text": [
      "Energy Score: 1.568409598492547\n",
      "mse 0.09645871826756228\n",
      "mae 0.20413211295646694\n"
     ]
    },
    {
     "name": "stderr",
     "output_type": "stream",
     "text": [
      "  0%|          | 14/4857 [00:39<4:00:44,  2.98s/it]"
     ]
    },
    {
     "name": "stdout",
     "output_type": "stream",
     "text": [
      "Energy Score: 1.550428736454339\n",
      "mse 0.09471390922770985\n",
      "mae 0.20179835301307314\n"
     ]
    },
    {
     "name": "stderr",
     "output_type": "stream",
     "text": [
      "  0%|          | 15/4857 [00:42<4:00:58,  2.99s/it]"
     ]
    },
    {
     "name": "stdout",
     "output_type": "stream",
     "text": [
      "Energy Score: 1.5710648482571576\n",
      "mse 0.09769500673203574\n",
      "mae 0.20549537864844028\n"
     ]
    },
    {
     "name": "stderr",
     "output_type": "stream",
     "text": [
      "  0%|          | 16/4857 [00:45<3:55:28,  2.92s/it]"
     ]
    },
    {
     "name": "stdout",
     "output_type": "stream",
     "text": [
      "Energy Score: 1.558140458624185\n",
      "mse 0.09600451199754079\n",
      "mae 0.20427402740150036\n"
     ]
    },
    {
     "name": "stderr",
     "output_type": "stream",
     "text": [
      "  0%|          | 17/4857 [00:48<3:55:46,  2.92s/it]"
     ]
    },
    {
     "name": "stdout",
     "output_type": "stream",
     "text": [
      "Energy Score: 1.572548836994988\n",
      "mse 0.09799497779343218\n",
      "mae 0.20690137417794685\n"
     ]
    },
    {
     "name": "stderr",
     "output_type": "stream",
     "text": [
      "  0%|          | 18/4857 [00:51<3:50:43,  2.86s/it]"
     ]
    },
    {
     "name": "stdout",
     "output_type": "stream",
     "text": [
      "Energy Score: 1.5559410270219485\n",
      "mse 0.09553278763669543\n",
      "mae 0.20412896093839497\n"
     ]
    },
    {
     "name": "stderr",
     "output_type": "stream",
     "text": [
      "  0%|          | 19/4857 [00:54<3:46:04,  2.80s/it]"
     ]
    },
    {
     "name": "stdout",
     "output_type": "stream",
     "text": [
      "Energy Score: 1.549814904420638\n",
      "mse 0.09394658187031431\n",
      "mae 0.20249802053152988\n"
     ]
    },
    {
     "name": "stderr",
     "output_type": "stream",
     "text": [
      "  0%|          | 20/4857 [00:57<3:49:05,  2.84s/it]"
     ]
    },
    {
     "name": "stdout",
     "output_type": "stream",
     "text": [
      "Energy Score: 1.5270580784512977\n",
      "mse 0.09190583337895514\n",
      "mae 0.20032766349786146\n"
     ]
    },
    {
     "name": "stderr",
     "output_type": "stream",
     "text": [
      "  0%|          | 21/4857 [01:00<3:54:23,  2.91s/it]"
     ]
    },
    {
     "name": "stdout",
     "output_type": "stream",
     "text": [
      "Energy Score: 1.5143665754710387\n",
      "mse 0.09062387317997407\n",
      "mae 0.19843864145420742\n"
     ]
    },
    {
     "name": "stderr",
     "output_type": "stream",
     "text": [
      "  0%|          | 22/4857 [01:02<3:54:39,  2.91s/it]"
     ]
    },
    {
     "name": "stdout",
     "output_type": "stream",
     "text": [
      "Energy Score: 1.4940908799925294\n",
      "mse 0.0888092814680951\n",
      "mae 0.19614671858161117\n"
     ]
    },
    {
     "name": "stderr",
     "output_type": "stream",
     "text": [
      "  0%|          | 23/4857 [01:06<3:58:38,  2.96s/it]"
     ]
    },
    {
     "name": "stdout",
     "output_type": "stream",
     "text": [
      "Energy Score: 1.481144730803338\n",
      "mse 0.08730619215139433\n",
      "mae 0.19448137120245254\n"
     ]
    },
    {
     "name": "stderr",
     "output_type": "stream",
     "text": [
      "  0%|          | 24/4857 [01:08<3:48:50,  2.84s/it]"
     ]
    },
    {
     "name": "stdout",
     "output_type": "stream",
     "text": [
      "Energy Score: 1.4760433093639147\n",
      "mse 0.08680267833520357\n",
      "mae 0.19432577928893935\n"
     ]
    },
    {
     "name": "stderr",
     "output_type": "stream",
     "text": [
      "  1%|          | 25/4857 [01:11<3:48:08,  2.83s/it]"
     ]
    },
    {
     "name": "stdout",
     "output_type": "stream",
     "text": [
      "Energy Score: 1.4878538805654775\n",
      "mse 0.08772733187176783\n",
      "mae 0.19537149590231828\n"
     ]
    },
    {
     "name": "stderr",
     "output_type": "stream",
     "text": [
      "  1%|          | 26/4857 [01:13<3:40:30,  2.74s/it]"
     ]
    },
    {
     "name": "stdout",
     "output_type": "stream",
     "text": [
      "Energy Score: 1.4915675523136758\n",
      "mse 0.08745698200001019\n",
      "mae 0.19584550902364756\n"
     ]
    },
    {
     "name": "stderr",
     "output_type": "stream",
     "text": [
      "  1%|          | 27/4857 [01:16<3:41:41,  2.75s/it]"
     ]
    },
    {
     "name": "stdout",
     "output_type": "stream",
     "text": [
      "Energy Score: 1.4817851943180695\n",
      "mse 0.0863726781500498\n",
      "mae 0.19487155597059946\n"
     ]
    },
    {
     "name": "stderr",
     "output_type": "stream",
     "text": [
      "  1%|          | 28/4857 [01:19<3:41:10,  2.75s/it]"
     ]
    },
    {
     "name": "stdout",
     "output_type": "stream",
     "text": [
      "Energy Score: 1.4651039500337308\n",
      "mse 0.0844274798400582\n",
      "mae 0.1918869762304365\n"
     ]
    },
    {
     "name": "stderr",
     "output_type": "stream",
     "text": [
      "  1%|          | 29/4857 [01:22<3:49:45,  2.86s/it]"
     ]
    },
    {
     "name": "stdout",
     "output_type": "stream",
     "text": [
      "Energy Score: 1.4607190162356567\n",
      "mse 0.08370926143161037\n",
      "mae 0.19113320432519498\n"
     ]
    },
    {
     "name": "stderr",
     "output_type": "stream",
     "text": [
      "  1%|          | 30/4857 [01:25<3:45:10,  2.80s/it]"
     ]
    },
    {
     "name": "stdout",
     "output_type": "stream",
     "text": [
      "Energy Score: 1.4524132397455787\n",
      "mse 0.08280970756945565\n",
      "mae 0.19019528843822114\n"
     ]
    },
    {
     "name": "stderr",
     "output_type": "stream",
     "text": [
      "  1%|          | 31/4857 [01:28<3:45:51,  2.81s/it]"
     ]
    },
    {
     "name": "stdout",
     "output_type": "stream",
     "text": [
      "Energy Score: 1.4552303761813603\n",
      "mse 0.08281536681082685\n",
      "mae 0.1908230741560539\n"
     ]
    },
    {
     "name": "stderr",
     "output_type": "stream",
     "text": [
      "  1%|          | 32/4857 [01:30<3:42:43,  2.77s/it]"
     ]
    },
    {
     "name": "stdout",
     "output_type": "stream",
     "text": [
      "Energy Score: 1.4451622966335458\n",
      "mse 0.08182203749568201\n",
      "mae 0.18977498236998835\n"
     ]
    },
    {
     "name": "stderr",
     "output_type": "stream",
     "text": [
      "  1%|          | 33/4857 [01:33<3:42:59,  2.77s/it]"
     ]
    },
    {
     "name": "stdout",
     "output_type": "stream",
     "text": [
      "Energy Score: 1.439594192073557\n",
      "mse 0.08110887727067143\n",
      "mae 0.1891982389979071\n"
     ]
    },
    {
     "name": "stderr",
     "output_type": "stream",
     "text": [
      "  1%|          | 34/4857 [01:36<3:48:10,  2.84s/it]"
     ]
    },
    {
     "name": "stdout",
     "output_type": "stream",
     "text": [
      "Energy Score: 1.4306819608530887\n",
      "mse 0.0802929504043986\n",
      "mae 0.18849966644768584\n"
     ]
    },
    {
     "name": "stderr",
     "output_type": "stream",
     "text": [
      "  1%|          | 35/4857 [01:39<3:48:18,  2.84s/it]"
     ]
    },
    {
     "name": "stdout",
     "output_type": "stream",
     "text": [
      "Energy Score: 1.422563194881766\n",
      "mse 0.07914163383395843\n",
      "mae 0.18709743480995675\n"
     ]
    },
    {
     "name": "stderr",
     "output_type": "stream",
     "text": [
      "  1%|          | 36/4857 [01:42<3:43:23,  2.78s/it]"
     ]
    },
    {
     "name": "stdout",
     "output_type": "stream",
     "text": [
      "Energy Score: 1.4278434840227834\n",
      "mse 0.07921495251151096\n",
      "mae 0.18744519186414882\n"
     ]
    },
    {
     "name": "stderr",
     "output_type": "stream",
     "text": [
      "  1%|          | 37/4857 [01:44<3:45:10,  2.80s/it]"
     ]
    },
    {
     "name": "stdout",
     "output_type": "stream",
     "text": [
      "Energy Score: 1.4218602903817\n",
      "mse 0.07854680314949002\n",
      "mae 0.18689997778424078\n"
     ]
    },
    {
     "name": "stderr",
     "output_type": "stream",
     "text": [
      "  1%|          | 38/4857 [01:47<3:43:16,  2.78s/it]"
     ]
    },
    {
     "name": "stdout",
     "output_type": "stream",
     "text": [
      "Energy Score: 1.4171570878001354\n",
      "mse 0.07778728018591445\n",
      "mae 0.18640242983012226\n"
     ]
    },
    {
     "name": "stderr",
     "output_type": "stream",
     "text": [
      "  1%|          | 39/4857 [01:50<3:40:12,  2.74s/it]"
     ]
    },
    {
     "name": "stdout",
     "output_type": "stream",
     "text": [
      "Energy Score: 1.413251914269224\n",
      "mse 0.07694872110138705\n",
      "mae 0.18567846449597963\n"
     ]
    },
    {
     "name": "stderr",
     "output_type": "stream",
     "text": [
      "  1%|          | 40/4857 [01:53<3:45:14,  2.81s/it]"
     ]
    },
    {
     "name": "stdout",
     "output_type": "stream",
     "text": [
      "Energy Score: 1.4054720376410255\n",
      "mse 0.07584892158032386\n",
      "mae 0.18432904363782215\n"
     ]
    },
    {
     "name": "stderr",
     "output_type": "stream",
     "text": [
      "  1%|          | 41/4857 [01:55<3:39:46,  2.74s/it]"
     ]
    },
    {
     "name": "stdout",
     "output_type": "stream",
     "text": [
      "Energy Score: 1.404512427944252\n",
      "mse 0.07509881975742695\n",
      "mae 0.1838508191707797\n"
     ]
    },
    {
     "name": "stderr",
     "output_type": "stream",
     "text": [
      "  1%|          | 42/4857 [01:58<3:38:14,  2.72s/it]"
     ]
    },
    {
     "name": "stdout",
     "output_type": "stream",
     "text": [
      "Energy Score: 1.3959666145530867\n",
      "mse 0.07410343949953234\n",
      "mae 0.18238800426722468\n"
     ]
    },
    {
     "name": "stderr",
     "output_type": "stream",
     "text": [
      "  1%|          | 43/4857 [02:01<3:42:08,  2.77s/it]"
     ]
    },
    {
     "name": "stdout",
     "output_type": "stream",
     "text": [
      "Energy Score: 1.3936345234766123\n",
      "mse 0.07340900825657823\n",
      "mae 0.18162275791653404\n"
     ]
    },
    {
     "name": "stderr",
     "output_type": "stream",
     "text": [
      "  1%|          | 44/4857 [02:04<3:39:43,  2.74s/it]"
     ]
    },
    {
     "name": "stdout",
     "output_type": "stream",
     "text": [
      "Energy Score: 1.3945857900830299\n",
      "mse 0.07314684345425694\n",
      "mae 0.18142854295555372\n"
     ]
    },
    {
     "name": "stderr",
     "output_type": "stream",
     "text": [
      "  1%|          | 45/4857 [02:06<3:39:36,  2.74s/it]"
     ]
    },
    {
     "name": "stdout",
     "output_type": "stream",
     "text": [
      "Energy Score: 1.3896032892772063\n",
      "mse 0.07247787510216724\n",
      "mae 0.1807202317092156\n"
     ]
    },
    {
     "name": "stderr",
     "output_type": "stream",
     "text": [
      "  1%|          | 46/4857 [02:09<3:46:12,  2.82s/it]"
     ]
    },
    {
     "name": "stdout",
     "output_type": "stream",
     "text": [
      "Energy Score: 1.3902406386651323\n",
      "mse 0.07238401185874473\n",
      "mae 0.18018466050912657\n"
     ]
    },
    {
     "name": "stderr",
     "output_type": "stream",
     "text": [
      "  1%|          | 47/4857 [02:11<3:31:31,  2.64s/it]"
     ]
    },
    {
     "name": "stdout",
     "output_type": "stream",
     "text": [
      "Energy Score: 1.3621197120291086\n",
      "mse 0.07084969378108759\n",
      "mae 0.17660605245024721\n"
     ]
    },
    {
     "name": "stderr",
     "output_type": "stream",
     "text": [
      "  1%|          | 48/4857 [02:14<3:23:15,  2.54s/it]"
     ]
    },
    {
     "name": "stdout",
     "output_type": "stream",
     "text": [
      "Energy Score: 1.3371619677260291\n",
      "mse 0.0694110866781177\n",
      "mae 0.17354746492478104\n"
     ]
    },
    {
     "name": "stderr",
     "output_type": "stream",
     "text": [
      "  1%|          | 49/4857 [02:16<3:18:32,  2.48s/it]"
     ]
    },
    {
     "name": "stdout",
     "output_type": "stream",
     "text": [
      "Energy Score: 1.3148209255846854\n",
      "mse 0.06806342037624688\n",
      "mae 0.17074367964157303\n"
     ]
    },
    {
     "name": "stderr",
     "output_type": "stream",
     "text": [
      "  1%|          | 50/4857 [02:18<3:12:03,  2.40s/it]"
     ]
    },
    {
     "name": "stdout",
     "output_type": "stream",
     "text": [
      "Energy Score: 1.2944126548549328\n",
      "mse 0.06679023104200149\n",
      "mae 0.1681739850000324\n"
     ]
    },
    {
     "name": "stderr",
     "output_type": "stream",
     "text": [
      "  1%|          | 51/4857 [02:21<3:11:11,  2.39s/it]"
     ]
    },
    {
     "name": "stdout",
     "output_type": "stream",
     "text": [
      "Energy Score: 1.2790578813612166\n",
      "mse 0.06572690882898735\n",
      "mae 0.16616170648137654\n"
     ]
    },
    {
     "name": "stderr",
     "output_type": "stream",
     "text": [
      "  1%|          | 52/4857 [02:23<3:07:40,  2.34s/it]"
     ]
    },
    {
     "name": "stdout",
     "output_type": "stream",
     "text": [
      "Energy Score: 1.2571212097376925\n",
      "mse 0.06447938854979104\n",
      "mae 0.16338791201885494\n"
     ]
    },
    {
     "name": "stderr",
     "output_type": "stream",
     "text": [
      "  1%|          | 53/4857 [02:25<3:05:34,  2.32s/it]"
     ]
    },
    {
     "name": "stdout",
     "output_type": "stream",
     "text": [
      "Energy Score: 1.2378038913398979\n",
      "mse 0.0633263791749337\n",
      "mae 0.1610087668920392\n"
     ]
    },
    {
     "name": "stderr",
     "output_type": "stream",
     "text": [
      "  1%|          | 54/4857 [02:27<3:05:09,  2.31s/it]"
     ]
    },
    {
     "name": "stdout",
     "output_type": "stream",
     "text": [
      "Energy Score: 1.2245558550825166\n",
      "mse 0.062418246009319486\n",
      "mae 0.15921917343545852\n"
     ]
    },
    {
     "name": "stderr",
     "output_type": "stream",
     "text": [
      "  1%|          | 55/4857 [02:30<3:10:51,  2.38s/it]"
     ]
    },
    {
     "name": "stdout",
     "output_type": "stream",
     "text": [
      "Energy Score: 1.2168504651420986\n",
      "mse 0.061753522070805304\n",
      "mae 0.15796585731061508\n"
     ]
    },
    {
     "name": "stderr",
     "output_type": "stream",
     "text": [
      "  1%|          | 56/4857 [02:33<3:12:42,  2.41s/it]"
     ]
    },
    {
     "name": "stdout",
     "output_type": "stream",
     "text": [
      "Energy Score: 1.2062791159382247\n",
      "mse 0.060974413458155005\n",
      "mae 0.1565544488561376\n"
     ]
    },
    {
     "name": "stderr",
     "output_type": "stream",
     "text": [
      "  1%|          | 57/4857 [02:35<3:09:57,  2.37s/it]"
     ]
    },
    {
     "name": "stdout",
     "output_type": "stream",
     "text": [
      "Energy Score: 1.1891589516816676\n",
      "mse 0.05995274904625853\n",
      "mae 0.1544432908124317\n"
     ]
    },
    {
     "name": "stderr",
     "output_type": "stream",
     "text": [
      "  1%|          | 58/4857 [02:37<3:05:33,  2.32s/it]"
     ]
    },
    {
     "name": "stdout",
     "output_type": "stream",
     "text": [
      "Energy Score: 1.17039658428372\n",
      "mse 0.05892767476377481\n",
      "mae 0.1520734811625291\n"
     ]
    },
    {
     "name": "stderr",
     "output_type": "stream",
     "text": [
      "  1%|          | 59/4857 [02:39<3:08:26,  2.36s/it]"
     ]
    },
    {
     "name": "stdout",
     "output_type": "stream",
     "text": [
      "Energy Score: 1.1632697934475948\n",
      "mse 0.05837103168659142\n",
      "mae 0.15110501082955757\n"
     ]
    },
    {
     "name": "stderr",
     "output_type": "stream",
     "text": [
      "  1%|          | 60/4857 [02:42<3:09:59,  2.38s/it]"
     ]
    },
    {
     "name": "stdout",
     "output_type": "stream",
     "text": [
      "Energy Score: 1.1516706807539088\n",
      "mse 0.057622996460230905\n",
      "mae 0.14967566907020927\n"
     ]
    },
    {
     "name": "stderr",
     "output_type": "stream",
     "text": [
      "  1%|▏         | 61/4857 [02:44<3:07:03,  2.34s/it]"
     ]
    },
    {
     "name": "stdout",
     "output_type": "stream",
     "text": [
      "Energy Score: 1.1378756536965167\n",
      "mse 0.05672909307117864\n",
      "mae 0.14781717158875848\n"
     ]
    },
    {
     "name": "stderr",
     "output_type": "stream",
     "text": [
      "  1%|▏         | 62/4857 [02:46<2:58:19,  2.23s/it]"
     ]
    },
    {
     "name": "stdout",
     "output_type": "stream",
     "text": [
      "Energy Score: 1.1210485421186578\n",
      "mse 0.05582028836274319\n",
      "mae 0.1456768530905754\n"
     ]
    },
    {
     "name": "stderr",
     "output_type": "stream",
     "text": [
      "  1%|▏         | 63/4857 [02:48<2:57:15,  2.22s/it]"
     ]
    },
    {
     "name": "stdout",
     "output_type": "stream",
     "text": [
      "Energy Score: 1.1071860800996107\n",
      "mse 0.05498870694903715\n",
      "mae 0.14395704675774829\n"
     ]
    },
    {
     "name": "stderr",
     "output_type": "stream",
     "text": [
      "  1%|▏         | 64/4857 [02:50<2:52:03,  2.15s/it]"
     ]
    },
    {
     "name": "stdout",
     "output_type": "stream",
     "text": [
      "Energy Score: 1.092184913618853\n",
      "mse 0.0541465881350309\n",
      "mae 0.1420703241142443\n"
     ]
    },
    {
     "name": "stderr",
     "output_type": "stream",
     "text": [
      "  1%|▏         | 65/4857 [02:53<2:59:24,  2.25s/it]"
     ]
    },
    {
     "name": "stdout",
     "output_type": "stream",
     "text": [
      "Energy Score: 1.0791261697931254\n",
      "mse 0.05334968228214128\n",
      "mae 0.1403824221115202\n"
     ]
    },
    {
     "name": "stderr",
     "output_type": "stream",
     "text": [
      "  1%|▏         | 66/4857 [02:55<2:58:07,  2.23s/it]"
     ]
    },
    {
     "name": "stdout",
     "output_type": "stream",
     "text": [
      "Energy Score: 1.0735290777867843\n",
      "mse 0.05283095669993319\n",
      "mae 0.13934138070198593\n"
     ]
    },
    {
     "name": "stderr",
     "output_type": "stream",
     "text": [
      "  1%|▏         | 67/4857 [02:57<2:56:44,  2.21s/it]"
     ]
    },
    {
     "name": "stdout",
     "output_type": "stream",
     "text": [
      "Energy Score: 1.0670436326129689\n",
      "mse 0.052271732167373075\n",
      "mae 0.13817510160496593\n"
     ]
    },
    {
     "name": "stderr",
     "output_type": "stream",
     "text": [
      "  1%|▏         | 68/4857 [02:59<2:53:34,  2.17s/it]"
     ]
    },
    {
     "name": "stdout",
     "output_type": "stream",
     "text": [
      "Energy Score: 1.0526963108330365\n",
      "mse 0.0515091409118893\n",
      "mae 0.13636491161211697\n"
     ]
    },
    {
     "name": "stderr",
     "output_type": "stream",
     "text": [
      "  1%|▏         | 69/4857 [03:01<2:55:27,  2.20s/it]"
     ]
    },
    {
     "name": "stdout",
     "output_type": "stream",
     "text": [
      "Energy Score: 1.040131823543426\n",
      "mse 0.050785335151909465\n",
      "mae 0.13481936056947266\n"
     ]
    },
    {
     "name": "stderr",
     "output_type": "stream",
     "text": [
      "  1%|▏         | 70/4857 [03:04<2:54:11,  2.18s/it]"
     ]
    },
    {
     "name": "stdout",
     "output_type": "stream",
     "text": [
      "Energy Score: 1.0265911071827405\n",
      "mse 0.05006547241466386\n",
      "mae 0.1331142893575782\n"
     ]
    },
    {
     "name": "stderr",
     "output_type": "stream",
     "text": [
      "  1%|▏         | 71/4857 [03:06<2:56:15,  2.21s/it]"
     ]
    },
    {
     "name": "stdout",
     "output_type": "stream",
     "text": [
      "Energy Score: 1.0186468366575776\n",
      "mse 0.049534435074814885\n",
      "mae 0.13208763244331134\n"
     ]
    },
    {
     "name": "stderr",
     "output_type": "stream",
     "text": [
      "  1%|▏         | 72/4857 [03:08<2:59:24,  2.25s/it]"
     ]
    },
    {
     "name": "stdout",
     "output_type": "stream",
     "text": [
      "Energy Score: 1.0072818559724324\n",
      "mse 0.04887659218596046\n",
      "mae 0.13067653314293698\n"
     ]
    },
    {
     "name": "stderr",
     "output_type": "stream",
     "text": [
      "  2%|▏         | 73/4857 [03:11<3:02:26,  2.29s/it]"
     ]
    },
    {
     "name": "stdout",
     "output_type": "stream",
     "text": [
      "Energy Score: 0.9993555615032756\n",
      "mse 0.048339266830284194\n",
      "mae 0.12947358908816434\n"
     ]
    },
    {
     "name": "stderr",
     "output_type": "stream",
     "text": [
      "  2%|▏         | 74/4857 [03:13<3:02:17,  2.29s/it]"
     ]
    },
    {
     "name": "stdout",
     "output_type": "stream",
     "text": [
      "Energy Score: 0.9922601858277276\n",
      "mse 0.04781959983479749\n",
      "mae 0.1284249499053616\n"
     ]
    },
    {
     "name": "stderr",
     "output_type": "stream",
     "text": [
      "  2%|▏         | 75/4857 [03:15<3:04:57,  2.32s/it]"
     ]
    },
    {
     "name": "stdout",
     "output_type": "stream",
     "text": [
      "Energy Score: 0.9835923041145713\n",
      "mse 0.047271872184772884\n",
      "mae 0.12725189454298905\n"
     ]
    },
    {
     "name": "stderr",
     "output_type": "stream",
     "text": [
      "  2%|▏         | 76/4857 [03:18<3:05:22,  2.33s/it]"
     ]
    },
    {
     "name": "stdout",
     "output_type": "stream",
     "text": [
      "Energy Score: 0.9792978377582671\n",
      "mse 0.04685027354192641\n",
      "mae 0.12634989982004544\n"
     ]
    },
    {
     "name": "stderr",
     "output_type": "stream",
     "text": [
      "  2%|▏         | 77/4857 [03:20<3:05:22,  2.33s/it]"
     ]
    },
    {
     "name": "stdout",
     "output_type": "stream",
     "text": [
      "Energy Score: 0.9718106723489145\n",
      "mse 0.04632997130814358\n",
      "mae 0.12524127010995276\n"
     ]
    },
    {
     "name": "stderr",
     "output_type": "stream",
     "text": [
      "  2%|▏         | 78/4857 [03:22<2:58:09,  2.24s/it]"
     ]
    },
    {
     "name": "stdout",
     "output_type": "stream",
     "text": [
      "Energy Score: 0.9606322022810895\n",
      "mse 0.04574182315058164\n",
      "mae 0.12384652771706768\n"
     ]
    },
    {
     "name": "stderr",
     "output_type": "stream",
     "text": [
      "  2%|▏         | 79/4857 [03:24<2:55:01,  2.20s/it]"
     ]
    },
    {
     "name": "stdout",
     "output_type": "stream",
     "text": [
      "Energy Score: 0.9498389067416393\n",
      "mse 0.045170915104337434\n",
      "mae 0.12250474945200933\n"
     ]
    },
    {
     "name": "stderr",
     "output_type": "stream",
     "text": [
      "  2%|▏         | 80/4857 [03:27<3:04:52,  2.32s/it]"
     ]
    },
    {
     "name": "stdout",
     "output_type": "stream",
     "text": [
      "Energy Score: 0.9509846107355807\n",
      "mse 0.04513553601063223\n",
      "mae 0.12247654999001126\n"
     ]
    },
    {
     "name": "stderr",
     "output_type": "stream",
     "text": [
      "  2%|▏         | 81/4857 [03:29<3:00:26,  2.27s/it]"
     ]
    },
    {
     "name": "stdout",
     "output_type": "stream",
     "text": [
      "Energy Score: 0.9404555194369497\n",
      "mse 0.04458317336883789\n",
      "mae 0.12115794827052774\n"
     ]
    },
    {
     "name": "stderr",
     "output_type": "stream",
     "text": [
      "  2%|▏         | 82/4857 [03:31<2:58:45,  2.25s/it]"
     ]
    },
    {
     "name": "stdout",
     "output_type": "stream",
     "text": [
      "Energy Score: 0.930145842449453\n",
      "mse 0.044044898572741936\n",
      "mae 0.11987838741473573\n"
     ]
    },
    {
     "name": "stderr",
     "output_type": "stream",
     "text": [
      "  2%|▏         | 83/4857 [03:33<2:57:41,  2.23s/it]"
     ]
    },
    {
     "name": "stdout",
     "output_type": "stream",
     "text": [
      "Energy Score: 0.9200877262719387\n",
      "mse 0.04351904623949471\n",
      "mae 0.11862131428256177\n"
     ]
    },
    {
     "name": "stderr",
     "output_type": "stream",
     "text": [
      "  2%|▏         | 84/4857 [03:35<2:51:41,  2.16s/it]"
     ]
    },
    {
     "name": "stdout",
     "output_type": "stream",
     "text": [
      "Energy Score: 0.9102859134485923\n",
      "mse 0.043006817093101904\n",
      "mae 0.11741035462003312\n"
     ]
    },
    {
     "name": "stderr",
     "output_type": "stream",
     "text": [
      "  2%|▏         | 85/4857 [03:37<2:47:21,  2.10s/it]"
     ]
    },
    {
     "name": "stdout",
     "output_type": "stream",
     "text": [
      "Energy Score: 0.9007543806660839\n",
      "mse 0.042506676066547185\n",
      "mae 0.11623076767847479\n"
     ]
    },
    {
     "name": "stderr",
     "output_type": "stream",
     "text": [
      "  2%|▏         | 86/4857 [03:39<2:48:49,  2.12s/it]"
     ]
    },
    {
     "name": "stdout",
     "output_type": "stream",
     "text": [
      "Energy Score: 0.891614751760204\n",
      "mse 0.04202022637776445\n",
      "mae 0.11509600737344296\n"
     ]
    },
    {
     "name": "stderr",
     "output_type": "stream",
     "text": [
      "  2%|▏         | 87/4857 [03:42<2:53:04,  2.18s/it]"
     ]
    },
    {
     "name": "stdout",
     "output_type": "stream",
     "text": [
      "Energy Score: 0.8844055448410939\n",
      "mse 0.04157359149817541\n",
      "mae 0.11412850834492537\n"
     ]
    },
    {
     "name": "stderr",
     "output_type": "stream",
     "text": [
      "  2%|▏         | 88/4857 [03:44<3:00:16,  2.27s/it]"
     ]
    },
    {
     "name": "stdout",
     "output_type": "stream",
     "text": [
      "Energy Score: 0.8829414953509045\n",
      "mse 0.04133096369555002\n",
      "mae 0.11365632964336042\n"
     ]
    },
    {
     "name": "stderr",
     "output_type": "stream",
     "text": [
      "  2%|▏         | 89/4857 [03:46<2:56:01,  2.22s/it]"
     ]
    },
    {
     "name": "stdout",
     "output_type": "stream",
     "text": [
      "Energy Score: 0.8753195386481591\n",
      "mse 0.04088638979548965\n",
      "mae 0.1126857351226281\n"
     ]
    },
    {
     "name": "stderr",
     "output_type": "stream",
     "text": [
      "  2%|▏         | 90/4857 [03:48<2:51:15,  2.16s/it]"
     ]
    },
    {
     "name": "stdout",
     "output_type": "stream",
     "text": [
      "Energy Score: 0.8666926408496771\n",
      "mse 0.04043708218519738\n",
      "mae 0.11161493134719418\n"
     ]
    },
    {
     "name": "stderr",
     "output_type": "stream",
     "text": [
      "  2%|▏         | 91/4857 [03:51<2:54:18,  2.19s/it]"
     ]
    },
    {
     "name": "stdout",
     "output_type": "stream",
     "text": [
      "Energy Score: 0.8589491776007022\n",
      "mse 0.04000740074424914\n",
      "mae 0.11070054749486061\n"
     ]
    },
    {
     "name": "stderr",
     "output_type": "stream",
     "text": [
      "  2%|▏         | 92/4857 [03:53<3:00:16,  2.27s/it]"
     ]
    },
    {
     "name": "stdout",
     "output_type": "stream",
     "text": [
      "Energy Score: 0.8529838373166807\n",
      "mse 0.03963179923310893\n",
      "mae 0.10999598172304417\n"
     ]
    },
    {
     "name": "stderr",
     "output_type": "stream",
     "text": [
      "  2%|▏         | 93/4857 [03:55<3:05:45,  2.34s/it]"
     ]
    },
    {
     "name": "stdout",
     "output_type": "stream",
     "text": [
      "Energy Score: 0.8488032060938215\n",
      "mse 0.03931963381233118\n",
      "mae 0.10945988810064249\n"
     ]
    },
    {
     "name": "stderr",
     "output_type": "stream",
     "text": [
      "  2%|▏         | 94/4857 [03:58<3:05:24,  2.34s/it]"
     ]
    },
    {
     "name": "stdout",
     "output_type": "stream",
     "text": [
      "Energy Score: 0.8432903932165252\n",
      "mse 0.038978143931762105\n",
      "mae 0.10883143682456944\n"
     ]
    },
    {
     "name": "stderr",
     "output_type": "stream",
     "text": [
      "  2%|▏         | 95/4857 [04:00<3:08:47,  2.38s/it]"
     ]
    },
    {
     "name": "stdout",
     "output_type": "stream",
     "text": [
      "Energy Score: 0.8383286431893903\n",
      "mse 0.03865244097053026\n",
      "mae 0.10825571564085727\n"
     ]
    },
    {
     "name": "stderr",
     "output_type": "stream",
     "text": [
      "  2%|▏         | 96/4857 [04:02<3:03:18,  2.31s/it]"
     ]
    },
    {
     "name": "stdout",
     "output_type": "stream",
     "text": [
      "Energy Score: 0.8347993158311429\n",
      "mse 0.03835376078329925\n",
      "mae 0.10777254741610742\n"
     ]
    },
    {
     "name": "stderr",
     "output_type": "stream",
     "text": [
      "  2%|▏         | 97/4857 [04:05<2:58:02,  2.24s/it]"
     ]
    },
    {
     "name": "stdout",
     "output_type": "stream",
     "text": [
      "Energy Score: 0.8271805236614582\n",
      "mse 0.0379625328135977\n",
      "mae 0.10682434323061703\n"
     ]
    },
    {
     "name": "stderr",
     "output_type": "stream",
     "text": [
      "  2%|▏         | 98/4857 [04:07<2:56:38,  2.23s/it]"
     ]
    },
    {
     "name": "stdout",
     "output_type": "stream",
     "text": [
      "Energy Score: 0.8203644006111582\n",
      "mse 0.037590250802387974\n",
      "mae 0.10602057368692533\n"
     ]
    },
    {
     "name": "stderr",
     "output_type": "stream",
     "text": [
      "  2%|▏         | 99/4857 [04:09<2:57:00,  2.23s/it]"
     ]
    },
    {
     "name": "stdout",
     "output_type": "stream",
     "text": [
      "Energy Score: 0.8147627875538338\n",
      "mse 0.037250292319024145\n",
      "mae 0.10540001977447365\n"
     ]
    },
    {
     "name": "stderr",
     "output_type": "stream",
     "text": [
      "  2%|▏         | 100/4857 [04:12<3:04:42,  2.33s/it]"
     ]
    },
    {
     "name": "stdout",
     "output_type": "stream",
     "text": [
      "Energy Score: 0.815030932324027\n",
      "mse 0.03718877649686499\n",
      "mae 0.10534103430521545\n"
     ]
    },
    {
     "name": "stderr",
     "output_type": "stream",
     "text": [
      "  2%|▏         | 101/4857 [04:14<3:03:18,  2.31s/it]"
     ]
    },
    {
     "name": "stdout",
     "output_type": "stream",
     "text": [
      "Energy Score: 0.8092454221948748\n",
      "mse 0.03684089047644466\n",
      "mae 0.10462886760295305\n"
     ]
    },
    {
     "name": "stderr",
     "output_type": "stream",
     "text": [
      "  2%|▏         | 102/4857 [04:16<3:02:21,  2.30s/it]"
     ]
    },
    {
     "name": "stdout",
     "output_type": "stream",
     "text": [
      "Energy Score: 0.8028178234802639\n",
      "mse 0.036490294296675475\n",
      "mae 0.1038519480984612\n"
     ]
    },
    {
     "name": "stderr",
     "output_type": "stream",
     "text": [
      "  2%|▏         | 103/4857 [04:18<3:02:54,  2.31s/it]"
     ]
    },
    {
     "name": "stdout",
     "output_type": "stream",
     "text": [
      "Energy Score: 0.7975009049711428\n",
      "mse 0.03616115290873286\n",
      "mae 0.10320767833230875\n"
     ]
    },
    {
     "name": "stderr",
     "output_type": "stream",
     "text": [
      "  2%|▏         | 104/4857 [04:21<3:01:09,  2.29s/it]"
     ]
    },
    {
     "name": "stdout",
     "output_type": "stream",
     "text": [
      "Energy Score: 0.7913309840580514\n",
      "mse 0.03582685378288586\n",
      "mae 0.10248523945238021\n"
     ]
    },
    {
     "name": "stderr",
     "output_type": "stream",
     "text": [
      "  2%|▏         | 105/4857 [04:23<3:04:41,  2.33s/it]"
     ]
    },
    {
     "name": "stdout",
     "output_type": "stream",
     "text": [
      "Energy Score: 0.7854601346706185\n",
      "mse 0.035505760938031074\n",
      "mae 0.10182053025716978\n"
     ]
    },
    {
     "name": "stderr",
     "output_type": "stream",
     "text": [
      "  2%|▏         | 106/4857 [04:26<3:07:20,  2.37s/it]"
     ]
    },
    {
     "name": "stdout",
     "output_type": "stream",
     "text": [
      "Energy Score: 0.7811035628907289\n",
      "mse 0.035224586978418265\n",
      "mae 0.10130686094534358\n"
     ]
    },
    {
     "name": "stderr",
     "output_type": "stream",
     "text": [
      "  2%|▏         | 107/4857 [04:28<3:04:50,  2.33s/it]"
     ]
    },
    {
     "name": "stdout",
     "output_type": "stream",
     "text": [
      "Energy Score: 0.7745804367263619\n",
      "mse 0.03489869127477654\n",
      "mae 0.1004888636673093\n"
     ]
    },
    {
     "name": "stderr",
     "output_type": "stream",
     "text": [
      "  2%|▏         | 108/4857 [04:30<2:55:35,  2.22s/it]"
     ]
    },
    {
     "name": "stdout",
     "output_type": "stream",
     "text": [
      "Energy Score: 0.7682519456681817\n",
      "mse 0.03457965057265634\n",
      "mae 0.09970325746876035\n"
     ]
    },
    {
     "name": "stderr",
     "output_type": "stream",
     "text": [
      "  2%|▏         | 109/4857 [04:32<2:55:22,  2.22s/it]"
     ]
    },
    {
     "name": "stdout",
     "output_type": "stream",
     "text": [
      "Energy Score: 0.7618595818686106\n",
      "mse 0.03426499280852843\n",
      "mae 0.09889680926340115\n"
     ]
    },
    {
     "name": "stderr",
     "output_type": "stream",
     "text": [
      "  2%|▏         | 110/4857 [04:34<2:51:02,  2.16s/it]"
     ]
    },
    {
     "name": "stdout",
     "output_type": "stream",
     "text": [
      "Energy Score: 0.7556411450597548\n",
      "mse 0.03395624260145225\n",
      "mae 0.09811176530732042\n"
     ]
    },
    {
     "name": "stderr",
     "output_type": "stream",
     "text": [
      "  2%|▏         | 111/4857 [04:36<2:50:23,  2.15s/it]"
     ]
    },
    {
     "name": "stdout",
     "output_type": "stream",
     "text": [
      "Energy Score: 0.7494566642177702\n",
      "mse 0.03365337699597798\n",
      "mae 0.09734174997258263\n"
     ]
    },
    {
     "name": "stderr",
     "output_type": "stream",
     "text": [
      "  2%|▏         | 112/4857 [04:38<2:48:45,  2.13s/it]"
     ]
    },
    {
     "name": "stdout",
     "output_type": "stream",
     "text": [
      "Energy Score: 0.7433610001304228\n",
      "mse 0.033355520223096936\n",
      "mae 0.09657441343472303\n"
     ]
    },
    {
     "name": "stderr",
     "output_type": "stream",
     "text": [
      "  2%|▏         | 113/4857 [04:40<2:48:28,  2.13s/it]"
     ]
    },
    {
     "name": "stdout",
     "output_type": "stream",
     "text": [
      "Energy Score: 0.7378115240036812\n",
      "mse 0.033065556320238124\n",
      "mae 0.0958650901817464\n"
     ]
    },
    {
     "name": "stderr",
     "output_type": "stream",
     "text": [
      "  2%|▏         | 114/4857 [04:43<2:54:00,  2.20s/it]"
     ]
    },
    {
     "name": "stdout",
     "output_type": "stream",
     "text": [
      "Energy Score: 0.735238375184849\n",
      "mse 0.032829359091214975\n",
      "mae 0.09529615870862079\n"
     ]
    },
    {
     "name": "stderr",
     "output_type": "stream",
     "text": [
      "  2%|▏         | 115/4857 [04:45<2:49:22,  2.14s/it]"
     ]
    },
    {
     "name": "stdout",
     "output_type": "stream",
     "text": [
      "Energy Score: 0.7294436436820256\n",
      "mse 0.03254635458572634\n",
      "mae 0.09457317759568339\n"
     ]
    },
    {
     "name": "stderr",
     "output_type": "stream",
     "text": [
      "  2%|▏         | 116/4857 [04:47<2:51:13,  2.17s/it]"
     ]
    },
    {
     "name": "stdout",
     "output_type": "stream",
     "text": [
      "Energy Score: 0.7237366242389779\n",
      "mse 0.032268152996258445\n",
      "mae 0.0938568920055786\n"
     ]
    },
    {
     "name": "stderr",
     "output_type": "stream",
     "text": [
      "  2%|▏         | 117/4857 [04:49<2:43:42,  2.07s/it]"
     ]
    },
    {
     "name": "stdout",
     "output_type": "stream",
     "text": [
      "Energy Score: 0.7181063350454797\n",
      "mse 0.03199451245040064\n",
      "mae 0.09314956591588039\n"
     ]
    },
    {
     "name": "stderr",
     "output_type": "stream",
     "text": [
      "  2%|▏         | 118/4857 [04:51<2:44:30,  2.08s/it]"
     ]
    },
    {
     "name": "stdout",
     "output_type": "stream",
     "text": [
      "Energy Score: 0.712421333211539\n",
      "mse 0.0317250595406995\n",
      "mae 0.09244503978935056\n"
     ]
    },
    {
     "name": "stderr",
     "output_type": "stream",
     "text": [
      "  2%|▏         | 119/4857 [04:53<2:49:32,  2.15s/it]"
     ]
    },
    {
     "name": "stdout",
     "output_type": "stream",
     "text": [
      "Energy Score: 0.7073846393626443\n",
      "mse 0.03146430518660439\n",
      "mae 0.0917919163357203\n"
     ]
    },
    {
     "name": "stderr",
     "output_type": "stream",
     "text": [
      "  2%|▏         | 120/4857 [04:55<2:48:15,  2.13s/it]"
     ]
    },
    {
     "name": "stdout",
     "output_type": "stream",
     "text": [
      "Energy Score: 0.7020530545713622\n",
      "mse 0.031204342296202985\n",
      "mae 0.09112411753165395\n"
     ]
    },
    {
     "name": "stderr",
     "output_type": "stream",
     "text": [
      "  2%|▏         | 121/4857 [04:57<2:46:59,  2.12s/it]"
     ]
    },
    {
     "name": "stdout",
     "output_type": "stream",
     "text": [
      "Energy Score: 0.6968346900056055\n",
      "mse 0.030949055257766273\n",
      "mae 0.09047316843046209\n"
     ]
    },
    {
     "name": "stderr",
     "output_type": "stream",
     "text": [
      "  3%|▎         | 122/4857 [05:00<3:00:08,  2.28s/it]"
     ]
    },
    {
     "name": "stdout",
     "output_type": "stream",
     "text": [
      "Energy Score: 0.6927752255869496\n",
      "mse 0.030709199987429207\n",
      "mae 0.08996172308349794\n"
     ]
    },
    {
     "name": "stderr",
     "output_type": "stream",
     "text": [
      "  3%|▎         | 123/4857 [05:03<3:07:46,  2.38s/it]"
     ]
    },
    {
     "name": "stdout",
     "output_type": "stream",
     "text": [
      "Energy Score: 0.6923155407820095\n",
      "mse 0.030617693131252104\n",
      "mae 0.0899703733752269\n"
     ]
    },
    {
     "name": "stderr",
     "output_type": "stream",
     "text": [
      "  3%|▎         | 124/4857 [05:05<3:07:15,  2.37s/it]"
     ]
    },
    {
     "name": "stdout",
     "output_type": "stream",
     "text": [
      "Energy Score: 0.6885723721560517\n",
      "mse 0.030390044319830695\n",
      "mae 0.08950702605119139\n"
     ]
    },
    {
     "name": "stderr",
     "output_type": "stream",
     "text": [
      "  3%|▎         | 125/4857 [05:07<3:08:37,  2.39s/it]"
     ]
    },
    {
     "name": "stdout",
     "output_type": "stream",
     "text": [
      "Energy Score: 0.6844025028448004\n",
      "mse 0.030156397434154714\n",
      "mae 0.08895174361868644\n"
     ]
    },
    {
     "name": "stderr",
     "output_type": "stream",
     "text": [
      "  3%|▎         | 126/4857 [05:10<3:19:04,  2.52s/it]"
     ]
    },
    {
     "name": "stdout",
     "output_type": "stream",
     "text": [
      "Energy Score: 0.6876684867963793\n",
      "mse 0.030257263958445683\n",
      "mae 0.08917980967995043\n"
     ]
    },
    {
     "name": "stderr",
     "output_type": "stream",
     "text": [
      "  3%|▎         | 127/4857 [05:13<3:23:23,  2.58s/it]"
     ]
    },
    {
     "name": "stdout",
     "output_type": "stream",
     "text": [
      "Energy Score: 0.6879724850297273\n",
      "mse 0.030212774654030234\n",
      "mae 0.08930699375920285\n"
     ]
    },
    {
     "name": "stderr",
     "output_type": "stream",
     "text": [
      "  3%|▎         | 128/4857 [05:15<3:17:45,  2.51s/it]"
     ]
    },
    {
     "name": "stdout",
     "output_type": "stream",
     "text": [
      "Energy Score: 0.6833373140422003\n",
      "mse 0.02998101113883398\n",
      "mae 0.08874942799980888\n"
     ]
    },
    {
     "name": "stderr",
     "output_type": "stream",
     "text": [
      "  3%|▎         | 129/4857 [05:18<3:17:29,  2.51s/it]"
     ]
    },
    {
     "name": "stdout",
     "output_type": "stream",
     "text": [
      "Energy Score: 0.6802258884301956\n",
      "mse 0.029781720231414188\n",
      "mae 0.08835852418473412\n"
     ]
    },
    {
     "name": "stderr",
     "output_type": "stream",
     "text": [
      "  3%|▎         | 130/4857 [05:20<3:09:00,  2.40s/it]"
     ]
    },
    {
     "name": "stdout",
     "output_type": "stream",
     "text": [
      "Energy Score: 0.6755760144758471\n",
      "mse 0.029556250377134632\n",
      "mae 0.08780571719817987\n"
     ]
    },
    {
     "name": "stderr",
     "output_type": "stream",
     "text": [
      "  3%|▎         | 131/4857 [05:23<3:13:27,  2.46s/it]"
     ]
    },
    {
     "name": "stdout",
     "output_type": "stream",
     "text": [
      "Energy Score: 0.6719737628536181\n",
      "mse 0.029353184720580093\n",
      "mae 0.08738557083861974\n"
     ]
    },
    {
     "name": "stderr",
     "output_type": "stream",
     "text": [
      "  3%|▎         | 132/4857 [05:25<3:13:26,  2.46s/it]"
     ]
    },
    {
     "name": "stdout",
     "output_type": "stream",
     "text": [
      "Energy Score: 0.6702561445993893\n",
      "mse 0.029224115255074318\n",
      "mae 0.08729659208221988\n"
     ]
    },
    {
     "name": "stderr",
     "output_type": "stream",
     "text": [
      "  3%|▎         | 133/4857 [05:28<3:18:58,  2.53s/it]"
     ]
    },
    {
     "name": "stdout",
     "output_type": "stream",
     "text": [
      "Energy Score: 0.6711722512550466\n",
      "mse 0.029274034214717717\n",
      "mae 0.08760752582574542\n"
     ]
    },
    {
     "name": "stderr",
     "output_type": "stream",
     "text": [
      "  3%|▎         | 134/4857 [05:31<3:27:15,  2.63s/it]"
     ]
    },
    {
     "name": "stdout",
     "output_type": "stream",
     "text": [
      "Energy Score: 0.6707668319589088\n",
      "mse 0.029234765035551075\n",
      "mae 0.08778901959760751\n"
     ]
    },
    {
     "name": "stderr",
     "output_type": "stream",
     "text": [
      "  3%|▎         | 135/4857 [05:33<3:19:12,  2.53s/it]"
     ]
    },
    {
     "name": "stdout",
     "output_type": "stream",
     "text": [
      "Energy Score: 0.6678794510009349\n",
      "mse 0.029050210924425727\n",
      "mae 0.08750767795357606\n"
     ]
    },
    {
     "name": "stderr",
     "output_type": "stream",
     "text": [
      "  3%|▎         | 136/4857 [05:35<3:16:08,  2.49s/it]"
     ]
    },
    {
     "name": "stdout",
     "output_type": "stream",
     "text": [
      "Energy Score: 0.664887688006025\n",
      "mse 0.02886273214210303\n",
      "mae 0.08720175197913739\n"
     ]
    },
    {
     "name": "stderr",
     "output_type": "stream",
     "text": [
      "  3%|▎         | 137/4857 [05:38<3:18:21,  2.52s/it]"
     ]
    },
    {
     "name": "stdout",
     "output_type": "stream",
     "text": [
      "Energy Score: 0.6621238323033571\n",
      "mse 0.028683721772726573\n",
      "mae 0.08693148574452027\n"
     ]
    },
    {
     "name": "stderr",
     "output_type": "stream",
     "text": [
      "  3%|▎         | 138/4857 [05:40<3:18:53,  2.53s/it]"
     ]
    },
    {
     "name": "stdout",
     "output_type": "stream",
     "text": [
      "Energy Score: 0.6594334484119336\n",
      "mse 0.02850651184436852\n",
      "mae 0.08667467906763164\n"
     ]
    },
    {
     "name": "stderr",
     "output_type": "stream",
     "text": [
      "  3%|▎         | 139/4857 [05:43<3:14:47,  2.48s/it]"
     ]
    },
    {
     "name": "stdout",
     "output_type": "stream",
     "text": [
      "Energy Score: 0.6568186716856216\n",
      "mse 0.0283313417088835\n",
      "mae 0.08641364632881578\n"
     ]
    },
    {
     "name": "stderr",
     "output_type": "stream",
     "text": [
      "  3%|▎         | 140/4857 [05:45<3:12:45,  2.45s/it]"
     ]
    },
    {
     "name": "stdout",
     "output_type": "stream",
     "text": [
      "Energy Score: 0.6547155523298266\n",
      "mse 0.02817778395621358\n",
      "mae 0.08622241459666487\n"
     ]
    },
    {
     "name": "stderr",
     "output_type": "stream",
     "text": [
      "  3%|▎         | 141/4857 [05:48<3:12:54,  2.45s/it]"
     ]
    },
    {
     "name": "stdout",
     "output_type": "stream",
     "text": [
      "Energy Score: 0.6516230543289384\n",
      "mse 0.02799841940022692\n",
      "mae 0.08590015931103337\n"
     ]
    },
    {
     "name": "stderr",
     "output_type": "stream",
     "text": [
      "  3%|▎         | 142/4857 [05:50<3:05:11,  2.36s/it]"
     ]
    },
    {
     "name": "stdout",
     "output_type": "stream",
     "text": [
      "Energy Score: 0.648720202326073\n",
      "mse 0.027816266440007998\n",
      "mae 0.08552716789922227\n"
     ]
    },
    {
     "name": "stderr",
     "output_type": "stream",
     "text": [
      "  3%|▎         | 143/4857 [05:52<2:58:16,  2.27s/it]"
     ]
    },
    {
     "name": "stdout",
     "output_type": "stream",
     "text": [
      "Energy Score: 0.6449952084559475\n",
      "mse 0.027627019316507274\n",
      "mae 0.08506891793380182\n"
     ]
    },
    {
     "name": "stderr",
     "output_type": "stream",
     "text": [
      "  3%|▎         | 144/4857 [05:54<2:56:25,  2.25s/it]"
     ]
    },
    {
     "name": "stdout",
     "output_type": "stream",
     "text": [
      "Energy Score: 0.6412841440694041\n",
      "mse 0.02743968736728465\n",
      "mae 0.08460934521477412\n"
     ]
    },
    {
     "name": "stderr",
     "output_type": "stream",
     "text": [
      "  3%|▎         | 145/4857 [05:57<3:18:41,  2.53s/it]"
     ]
    },
    {
     "name": "stdout",
     "output_type": "stream",
     "text": [
      "Energy Score: 0.6456091395890852\n",
      "mse 0.027916128436427524\n",
      "mae 0.08547989531940145\n"
     ]
    },
    {
     "name": "stderr",
     "output_type": "stream",
     "text": [
      "  3%|▎         | 146/4857 [05:59<3:13:11,  2.46s/it]"
     ]
    },
    {
     "name": "stdout",
     "output_type": "stream",
     "text": [
      "Energy Score: 0.643666720918648\n",
      "mse 0.027776622307747516\n",
      "mae 0.08521028656556114\n"
     ]
    },
    {
     "name": "stderr",
     "output_type": "stream",
     "text": [
      "  3%|▎         | 147/4857 [06:02<3:05:44,  2.37s/it]"
     ]
    },
    {
     "name": "stdout",
     "output_type": "stream",
     "text": [
      "Energy Score: 0.6399735848428922\n",
      "mse 0.027592106861577353\n",
      "mae 0.08476153168514859\n"
     ]
    },
    {
     "name": "stderr",
     "output_type": "stream",
     "text": [
      "  3%|▎         | 148/4857 [06:04<3:17:26,  2.52s/it]"
     ]
    },
    {
     "name": "stdout",
     "output_type": "stream",
     "text": [
      "Energy Score: 0.6435272336391714\n",
      "mse 0.027816166066969003\n",
      "mae 0.0852008990295807\n"
     ]
    },
    {
     "name": "stderr",
     "output_type": "stream",
     "text": [
      "  3%|▎         | 149/4857 [06:07<3:23:45,  2.60s/it]"
     ]
    },
    {
     "name": "stdout",
     "output_type": "stream",
     "text": [
      "Energy Score: 0.6478459529148817\n",
      "mse 0.02816103015335954\n",
      "mae 0.08587616963827682\n"
     ]
    },
    {
     "name": "stderr",
     "output_type": "stream",
     "text": [
      "  3%|▎         | 150/4857 [06:10<3:15:11,  2.49s/it]"
     ]
    },
    {
     "name": "stdout",
     "output_type": "stream",
     "text": [
      "Energy Score: 0.6445345608425864\n",
      "mse 0.027982746425481222\n",
      "mae 0.08546486430481873\n"
     ]
    },
    {
     "name": "stderr",
     "output_type": "stream",
     "text": [
      "  3%|▎         | 151/4857 [06:12<3:16:21,  2.50s/it]"
     ]
    },
    {
     "name": "stdout",
     "output_type": "stream",
     "text": [
      "Energy Score: 0.6462419737992348\n",
      "mse 0.028086486533273117\n",
      "mae 0.08591733690052601\n"
     ]
    },
    {
     "name": "stderr",
     "output_type": "stream",
     "text": [
      "  3%|▎         | 152/4857 [06:15<3:28:14,  2.66s/it]"
     ]
    },
    {
     "name": "stdout",
     "output_type": "stream",
     "text": [
      "Energy Score: 0.650238137174307\n",
      "mse 0.028437402366824932\n",
      "mae 0.08665324069752331\n"
     ]
    },
    {
     "name": "stderr",
     "output_type": "stream",
     "text": [
      "  3%|▎         | 153/4857 [06:18<3:32:04,  2.71s/it]"
     ]
    },
    {
     "name": "stdout",
     "output_type": "stream",
     "text": [
      "Energy Score: 0.6543848789556843\n",
      "mse 0.028775682827020126\n",
      "mae 0.0873531438272747\n"
     ]
    },
    {
     "name": "stderr",
     "output_type": "stream",
     "text": [
      "  3%|▎         | 154/4857 [06:21<3:33:04,  2.72s/it]"
     ]
    },
    {
     "name": "stdout",
     "output_type": "stream",
     "text": [
      "Energy Score: 0.658705214103963\n",
      "mse 0.029041344492321982\n",
      "mae 0.08806196213166104\n"
     ]
    },
    {
     "name": "stderr",
     "output_type": "stream",
     "text": [
      "  3%|▎         | 155/4857 [06:23<3:25:51,  2.63s/it]"
     ]
    },
    {
     "name": "stdout",
     "output_type": "stream",
     "text": [
      "Energy Score: 0.6571318569466015\n",
      "mse 0.028905278969522653\n",
      "mae 0.08790684063677016\n"
     ]
    },
    {
     "name": "stderr",
     "output_type": "stream",
     "text": [
      "  3%|▎         | 156/4857 [06:26<3:30:22,  2.68s/it]"
     ]
    },
    {
     "name": "stdout",
     "output_type": "stream",
     "text": [
      "Energy Score: 0.6583351611507477\n",
      "mse 0.028961236397019502\n",
      "mae 0.08814761105541538\n"
     ]
    },
    {
     "name": "stderr",
     "output_type": "stream",
     "text": [
      "  3%|▎         | 157/4857 [06:29<3:34:26,  2.74s/it]"
     ]
    },
    {
     "name": "stdout",
     "output_type": "stream",
     "text": [
      "Energy Score: 0.6606147848176689\n",
      "mse 0.029037306488952464\n",
      "mae 0.08845177844293822\n"
     ]
    },
    {
     "name": "stderr",
     "output_type": "stream",
     "text": [
      "  3%|▎         | 158/4857 [06:31<3:27:19,  2.65s/it]"
     ]
    },
    {
     "name": "stdout",
     "output_type": "stream",
     "text": [
      "Energy Score: 0.6613520706689695\n",
      "mse 0.029002449887178337\n",
      "mae 0.0885819396412758\n"
     ]
    },
    {
     "name": "stderr",
     "output_type": "stream",
     "text": [
      "  3%|▎         | 159/4857 [06:34<3:32:49,  2.72s/it]"
     ]
    },
    {
     "name": "stdout",
     "output_type": "stream",
     "text": [
      "Energy Score: 0.6621213319637501\n",
      "mse 0.02903284830419838\n",
      "mae 0.08873010660100829\n"
     ]
    },
    {
     "name": "stderr",
     "output_type": "stream",
     "text": [
      "  3%|▎         | 160/4857 [06:37<3:46:24,  2.89s/it]"
     ]
    },
    {
     "name": "stdout",
     "output_type": "stream",
     "text": [
      "Energy Score: 0.6638319981990194\n",
      "mse 0.029102560398132294\n",
      "mae 0.08893926270060151\n"
     ]
    },
    {
     "name": "stderr",
     "output_type": "stream",
     "text": [
      "  3%|▎         | 161/4857 [06:41<4:03:50,  3.12s/it]"
     ]
    },
    {
     "name": "stdout",
     "output_type": "stream",
     "text": [
      "Energy Score: 0.6623031428293271\n",
      "mse 0.028967558423063297\n",
      "mae 0.08871648306683548\n"
     ]
    },
    {
     "name": "stderr",
     "output_type": "stream",
     "text": [
      "  3%|▎         | 162/4857 [06:45<4:14:03,  3.25s/it]"
     ]
    },
    {
     "name": "stdout",
     "output_type": "stream",
     "text": [
      "Energy Score: 0.6655746337001431\n",
      "mse 0.029292805125258798\n",
      "mae 0.08918960437725942\n"
     ]
    },
    {
     "name": "stderr",
     "output_type": "stream",
     "text": [
      "  3%|▎         | 163/4857 [06:48<4:17:49,  3.30s/it]"
     ]
    },
    {
     "name": "stdout",
     "output_type": "stream",
     "text": [
      "Energy Score: 0.6652175928837114\n",
      "mse 0.029230110358971533\n",
      "mae 0.08917998619667024\n"
     ]
    },
    {
     "name": "stderr",
     "output_type": "stream",
     "text": [
      "  3%|▎         | 164/4857 [06:52<4:30:38,  3.46s/it]"
     ]
    },
    {
     "name": "stdout",
     "output_type": "stream",
     "text": [
      "Energy Score: 0.6665815909649623\n",
      "mse 0.029232839068182106\n",
      "mae 0.08938641384687873\n"
     ]
    },
    {
     "name": "stderr",
     "output_type": "stream",
     "text": [
      "  3%|▎         | 165/4857 [06:55<4:30:59,  3.47s/it]"
     ]
    },
    {
     "name": "stdout",
     "output_type": "stream",
     "text": [
      "Energy Score: 0.6685906998161041\n",
      "mse 0.029338233764744166\n",
      "mae 0.08974912450862553\n"
     ]
    },
    {
     "name": "stderr",
     "output_type": "stream",
     "text": [
      "  3%|▎         | 166/4857 [06:59<4:36:56,  3.54s/it]"
     ]
    },
    {
     "name": "stdout",
     "output_type": "stream",
     "text": [
      "Energy Score: 0.6718672222594491\n",
      "mse 0.029512315899542497\n",
      "mae 0.09017464012969012\n"
     ]
    },
    {
     "name": "stderr",
     "output_type": "stream",
     "text": [
      "  3%|▎         | 167/4857 [07:02<4:33:24,  3.50s/it]"
     ]
    },
    {
     "name": "stdout",
     "output_type": "stream",
     "text": [
      "Energy Score: 0.672012749693041\n",
      "mse 0.029444429594042587\n",
      "mae 0.09014361861949391\n"
     ]
    },
    {
     "name": "stderr",
     "output_type": "stream",
     "text": [
      "  3%|▎         | 168/4857 [07:06<4:34:41,  3.51s/it]"
     ]
    },
    {
     "name": "stdout",
     "output_type": "stream",
     "text": [
      "Energy Score: 0.6732345051008404\n",
      "mse 0.029456203804608665\n",
      "mae 0.0903463654006692\n"
     ]
    },
    {
     "name": "stderr",
     "output_type": "stream",
     "text": [
      "  3%|▎         | 169/4857 [07:10<4:49:40,  3.71s/it]"
     ]
    },
    {
     "name": "stdout",
     "output_type": "stream",
     "text": [
      "Energy Score: 0.6734735019582885\n",
      "mse 0.029405283272043163\n",
      "mae 0.09040902918929082\n"
     ]
    },
    {
     "name": "stderr",
     "output_type": "stream",
     "text": [
      "  4%|▎         | 170/4857 [07:14<4:53:03,  3.75s/it]"
     ]
    },
    {
     "name": "stdout",
     "output_type": "stream",
     "text": [
      "Energy Score: 0.6727821009434302\n",
      "mse 0.029327427087667404\n",
      "mae 0.09028192091567144\n"
     ]
    },
    {
     "name": "stderr",
     "output_type": "stream",
     "text": [
      "  4%|▎         | 171/4857 [07:17<4:45:09,  3.65s/it]"
     ]
    },
    {
     "name": "stdout",
     "output_type": "stream",
     "text": [
      "Energy Score: 0.6738555735768831\n",
      "mse 0.02932820899054763\n",
      "mae 0.09037710514389566\n"
     ]
    },
    {
     "name": "stderr",
     "output_type": "stream",
     "text": [
      "  4%|▎         | 172/4857 [07:22<4:57:49,  3.81s/it]"
     ]
    },
    {
     "name": "stdout",
     "output_type": "stream",
     "text": [
      "Energy Score: 0.6749725011382967\n",
      "mse 0.029322227073084534\n",
      "mae 0.09047605802345055\n"
     ]
    },
    {
     "name": "stderr",
     "output_type": "stream",
     "text": [
      "  4%|▎         | 173/4857 [07:25<4:47:50,  3.69s/it]"
     ]
    },
    {
     "name": "stdout",
     "output_type": "stream",
     "text": [
      "Energy Score: 0.6758976969105319\n",
      "mse 0.029338864484398392\n",
      "mae 0.09056964327476359\n"
     ]
    },
    {
     "name": "stderr",
     "output_type": "stream",
     "text": [
      "  4%|▎         | 174/4857 [07:29<4:54:58,  3.78s/it]"
     ]
    },
    {
     "name": "stdout",
     "output_type": "stream",
     "text": [
      "Energy Score: 0.6793953248760424\n",
      "mse 0.029573426121168093\n",
      "mae 0.09099010454541014\n"
     ]
    },
    {
     "name": "stderr",
     "output_type": "stream",
     "text": [
      "  4%|▎         | 175/4857 [07:33<4:55:39,  3.79s/it]"
     ]
    },
    {
     "name": "stdout",
     "output_type": "stream",
     "text": [
      "Energy Score: 0.6796850922539834\n",
      "mse 0.029539957229187782\n",
      "mae 0.09100522759896867\n"
     ]
    },
    {
     "name": "stderr",
     "output_type": "stream",
     "text": [
      "  4%|▎         | 176/4857 [07:37<5:00:56,  3.86s/it]"
     ]
    },
    {
     "name": "stdout",
     "output_type": "stream",
     "text": [
      "Energy Score: 0.6807237478570657\n",
      "mse 0.02955838491307118\n",
      "mae 0.09115389295376546\n"
     ]
    },
    {
     "name": "stderr",
     "output_type": "stream",
     "text": [
      "  4%|▎         | 177/4857 [07:41<5:07:28,  3.94s/it]"
     ]
    },
    {
     "name": "stdout",
     "output_type": "stream",
     "text": [
      "Energy Score: 0.6844947968996549\n",
      "mse 0.029735754180400344\n",
      "mae 0.09156359996560438\n"
     ]
    },
    {
     "name": "stderr",
     "output_type": "stream",
     "text": [
      "  4%|▎         | 178/4857 [07:45<4:59:44,  3.84s/it]"
     ]
    },
    {
     "name": "stdout",
     "output_type": "stream",
     "text": [
      "Energy Score: 0.6871131479128748\n",
      "mse 0.029845298569116007\n",
      "mae 0.09180717250838112\n"
     ]
    },
    {
     "name": "stderr",
     "output_type": "stream",
     "text": [
      "  4%|▎         | 179/4857 [07:49<5:07:55,  3.95s/it]"
     ]
    },
    {
     "name": "stdout",
     "output_type": "stream",
     "text": [
      "Energy Score: 0.6882678328865012\n",
      "mse 0.029878274427369348\n",
      "mae 0.09198920007274936\n"
     ]
    },
    {
     "name": "stderr",
     "output_type": "stream",
     "text": [
      "  4%|▎         | 180/4857 [07:52<4:54:23,  3.78s/it]"
     ]
    },
    {
     "name": "stdout",
     "output_type": "stream",
     "text": [
      "Energy Score: 0.6884772746619999\n",
      "mse 0.029883906601640434\n",
      "mae 0.09221046479271047\n"
     ]
    },
    {
     "name": "stderr",
     "output_type": "stream",
     "text": [
      "  4%|▎         | 181/4857 [07:55<4:44:37,  3.65s/it]"
     ]
    },
    {
     "name": "stdout",
     "output_type": "stream",
     "text": [
      "Energy Score: 0.6870918306868107\n",
      "mse 0.02977087147894667\n",
      "mae 0.0920450234033222\n"
     ]
    },
    {
     "name": "stderr",
     "output_type": "stream",
     "text": [
      "  4%|▎         | 182/4857 [08:00<4:56:54,  3.81s/it]"
     ]
    },
    {
     "name": "stdout",
     "output_type": "stream",
     "text": [
      "Energy Score: 0.6871072077138514\n",
      "mse 0.029729906107628747\n",
      "mae 0.09206837646629809\n"
     ]
    },
    {
     "name": "stderr",
     "output_type": "stream",
     "text": [
      "  4%|▍         | 183/4857 [08:03<4:42:33,  3.63s/it]"
     ]
    },
    {
     "name": "stdout",
     "output_type": "stream",
     "text": [
      "Energy Score: 0.686659212641509\n",
      "mse 0.02964539749436658\n",
      "mae 0.09197358173838524\n"
     ]
    },
    {
     "name": "stderr",
     "output_type": "stream",
     "text": [
      "  4%|▍         | 184/4857 [08:06<4:42:17,  3.62s/it]"
     ]
    },
    {
     "name": "stdout",
     "output_type": "stream",
     "text": [
      "Energy Score: 0.6896675372011053\n",
      "mse 0.029824762542207055\n",
      "mae 0.09236514259761548\n"
     ]
    },
    {
     "name": "stderr",
     "output_type": "stream",
     "text": [
      "  4%|▍         | 185/4857 [08:10<4:45:25,  3.67s/it]"
     ]
    },
    {
     "name": "stdout",
     "output_type": "stream",
     "text": [
      "Energy Score: 0.689305468865637\n",
      "mse 0.02975361517546123\n",
      "mae 0.09229318235395766\n"
     ]
    },
    {
     "name": "stderr",
     "output_type": "stream",
     "text": [
      "  4%|▍         | 186/4857 [08:14<4:49:29,  3.72s/it]"
     ]
    },
    {
     "name": "stdout",
     "output_type": "stream",
     "text": [
      "Energy Score: 0.6905223775186663\n",
      "mse 0.029783220589001277\n",
      "mae 0.09246148471526276\n"
     ]
    },
    {
     "name": "stderr",
     "output_type": "stream",
     "text": [
      "  4%|▍         | 187/4857 [08:18<4:55:13,  3.79s/it]"
     ]
    },
    {
     "name": "stdout",
     "output_type": "stream",
     "text": [
      "Energy Score: 0.6917214857990248\n",
      "mse 0.029862022368788457\n",
      "mae 0.09258629305946242\n"
     ]
    },
    {
     "name": "stderr",
     "output_type": "stream",
     "text": [
      "  4%|▍         | 188/4857 [08:21<4:44:59,  3.66s/it]"
     ]
    },
    {
     "name": "stdout",
     "output_type": "stream",
     "text": [
      "Energy Score: 0.6920325993725686\n",
      "mse 0.029824900241354303\n",
      "mae 0.09258892905033697\n"
     ]
    },
    {
     "name": "stderr",
     "output_type": "stream",
     "text": [
      "  4%|▍         | 189/4857 [08:25<4:39:13,  3.59s/it]"
     ]
    },
    {
     "name": "stdout",
     "output_type": "stream",
     "text": [
      "Energy Score: 0.6912464082366805\n",
      "mse 0.029730544610338687\n",
      "mae 0.09241227848898695\n"
     ]
    },
    {
     "name": "stderr",
     "output_type": "stream",
     "text": [
      "  4%|▍         | 190/4857 [08:28<4:29:58,  3.47s/it]"
     ]
    },
    {
     "name": "stdout",
     "output_type": "stream",
     "text": [
      "Energy Score: 0.6882962493687411\n",
      "mse 0.02957940218098466\n",
      "mae 0.0920355898460597\n"
     ]
    },
    {
     "name": "stderr",
     "output_type": "stream",
     "text": [
      "  4%|▍         | 191/4857 [08:32<4:37:09,  3.56s/it]"
     ]
    },
    {
     "name": "stdout",
     "output_type": "stream",
     "text": [
      "Energy Score: 0.687069318418054\n",
      "mse 0.02947991816681012\n",
      "mae 0.09180517056095672\n"
     ]
    },
    {
     "name": "stderr",
     "output_type": "stream",
     "text": [
      "  4%|▍         | 192/4857 [08:35<4:29:52,  3.47s/it]"
     ]
    },
    {
     "name": "stdout",
     "output_type": "stream",
     "text": [
      "Energy Score: 0.6842634757848196\n",
      "mse 0.02933244741298774\n",
      "mae 0.0914405671710828\n"
     ]
    },
    {
     "name": "stderr",
     "output_type": "stream",
     "text": [
      "  4%|▍         | 193/4857 [08:39<4:43:19,  3.64s/it]"
     ]
    },
    {
     "name": "stdout",
     "output_type": "stream",
     "text": [
      "Energy Score: 0.6867318088651017\n",
      "mse 0.029459097144446836\n",
      "mae 0.0917510999357938\n"
     ]
    },
    {
     "name": "stderr",
     "output_type": "stream",
     "text": [
      "  4%|▍         | 194/4857 [08:43<4:49:46,  3.73s/it]"
     ]
    },
    {
     "name": "stdout",
     "output_type": "stream",
     "text": [
      "Energy Score: 0.6881035007138997\n",
      "mse 0.029491099138959705\n",
      "mae 0.09196098209077959\n"
     ]
    },
    {
     "name": "stderr",
     "output_type": "stream",
     "text": [
      "  4%|▍         | 195/4857 [08:46<4:43:20,  3.65s/it]"
     ]
    },
    {
     "name": "stdout",
     "output_type": "stream",
     "text": [
      "Energy Score: 0.6884961969697261\n",
      "mse 0.02945373558775493\n",
      "mae 0.0919502884782957\n"
     ]
    },
    {
     "name": "stderr",
     "output_type": "stream",
     "text": [
      "  4%|▍         | 196/4857 [08:50<4:45:47,  3.68s/it]"
     ]
    },
    {
     "name": "stdout",
     "output_type": "stream",
     "text": [
      "Energy Score: 0.6888229869090664\n",
      "mse 0.029422970143601762\n",
      "mae 0.0919588118330778\n"
     ]
    },
    {
     "name": "stderr",
     "output_type": "stream",
     "text": [
      "  4%|▍         | 197/4857 [08:54<4:51:23,  3.75s/it]"
     ]
    },
    {
     "name": "stdout",
     "output_type": "stream",
     "text": [
      "Energy Score: 0.6908179535858394\n",
      "mse 0.029539320863384056\n",
      "mae 0.09225129028285452\n"
     ]
    },
    {
     "name": "stderr",
     "output_type": "stream",
     "text": [
      "  4%|▍         | 198/4857 [08:57<4:32:23,  3.51s/it]"
     ]
    },
    {
     "name": "stdout",
     "output_type": "stream",
     "text": [
      "Energy Score: 0.691683068513337\n",
      "mse 0.02953487269963135\n",
      "mae 0.09238431914988829\n"
     ]
    },
    {
     "name": "stderr",
     "output_type": "stream",
     "text": [
      "  4%|▍         | 199/4857 [08:59<4:04:42,  3.15s/it]"
     ]
    },
    {
     "name": "stdout",
     "output_type": "stream",
     "text": [
      "Energy Score: 0.6914981689144065\n",
      "mse 0.02946234716637161\n",
      "mae 0.09231805316560364\n"
     ]
    },
    {
     "name": "stderr",
     "output_type": "stream",
     "text": [
      "  4%|▍         | 200/4857 [09:02<3:51:31,  2.98s/it]"
     ]
    },
    {
     "name": "stdout",
     "output_type": "stream",
     "text": [
      "Energy Score: 0.6961524271843516\n",
      "mse 0.029785285486507655\n",
      "mae 0.09295376759965776\n"
     ]
    },
    {
     "name": "stderr",
     "output_type": "stream",
     "text": [
      "  4%|▍         | 201/4857 [09:05<3:43:38,  2.88s/it]"
     ]
    },
    {
     "name": "stdout",
     "output_type": "stream",
     "text": [
      "Energy Score: 0.7000089142716067\n",
      "mse 0.030112674616310252\n",
      "mae 0.0933532336041669\n"
     ]
    },
    {
     "name": "stderr",
     "output_type": "stream",
     "text": [
      "  4%|▍         | 202/4857 [09:07<3:36:14,  2.79s/it]"
     ]
    },
    {
     "name": "stdout",
     "output_type": "stream",
     "text": [
      "Energy Score: 0.6999986908265092\n",
      "mse 0.03006272395683784\n",
      "mae 0.0933255266503241\n"
     ]
    },
    {
     "name": "stderr",
     "output_type": "stream",
     "text": [
      "  4%|▍         | 203/4857 [09:10<3:29:25,  2.70s/it]"
     ]
    },
    {
     "name": "stdout",
     "output_type": "stream",
     "text": [
      "Energy Score: 0.7017069544355123\n",
      "mse 0.030128375080230113\n",
      "mae 0.09346351907109916\n"
     ]
    },
    {
     "name": "stderr",
     "output_type": "stream",
     "text": [
      "  4%|▍         | 204/4857 [09:12<3:22:30,  2.61s/it]"
     ]
    },
    {
     "name": "stdout",
     "output_type": "stream",
     "text": [
      "Energy Score: 0.6993990732221792\n",
      "mse 0.029994701372926442\n",
      "mae 0.0931869117772074\n"
     ]
    },
    {
     "name": "stderr",
     "output_type": "stream",
     "text": [
      "  4%|▍         | 205/4857 [09:14<3:14:45,  2.51s/it]"
     ]
    },
    {
     "name": "stdout",
     "output_type": "stream",
     "text": [
      "Energy Score: 0.6994153363310207\n",
      "mse 0.029931979010253025\n",
      "mae 0.09309766152846748\n"
     ]
    },
    {
     "name": "stderr",
     "output_type": "stream",
     "text": [
      "  4%|▍         | 206/4857 [09:17<3:06:55,  2.41s/it]"
     ]
    },
    {
     "name": "stdout",
     "output_type": "stream",
     "text": [
      "Energy Score: 0.6976863910194466\n",
      "mse 0.029818246196864438\n",
      "mae 0.09287583827443255\n"
     ]
    },
    {
     "name": "stderr",
     "output_type": "stream",
     "text": [
      "  4%|▍         | 207/4857 [09:19<3:12:34,  2.48s/it]"
     ]
    },
    {
     "name": "stdout",
     "output_type": "stream",
     "text": [
      "Energy Score: 0.6997366558347458\n",
      "mse 0.029898913982884075\n",
      "mae 0.09303260295543167\n"
     ]
    },
    {
     "name": "stderr",
     "output_type": "stream",
     "text": [
      "  4%|▍         | 208/4857 [09:21<3:07:18,  2.42s/it]"
     ]
    },
    {
     "name": "stdout",
     "output_type": "stream",
     "text": [
      "Energy Score: 0.6976389461677855\n",
      "mse 0.029773392929472946\n",
      "mae 0.09277837780323142\n"
     ]
    },
    {
     "name": "stderr",
     "output_type": "stream",
     "text": [
      "  4%|▍         | 209/4857 [09:24<3:03:10,  2.36s/it]"
     ]
    },
    {
     "name": "stdout",
     "output_type": "stream",
     "text": [
      "Energy Score: 0.6960712238898547\n",
      "mse 0.029660583854066457\n",
      "mae 0.0926027850899007\n"
     ]
    },
    {
     "name": "stderr",
     "output_type": "stream",
     "text": [
      "  4%|▍         | 210/4857 [09:26<2:59:46,  2.32s/it]"
     ]
    },
    {
     "name": "stdout",
     "output_type": "stream",
     "text": [
      "Energy Score: 0.6946323470867347\n",
      "mse 0.02955615370320569\n",
      "mae 0.09243330054327728\n"
     ]
    },
    {
     "name": "stderr",
     "output_type": "stream",
     "text": [
      "  4%|▍         | 211/4857 [09:28<2:54:03,  2.25s/it]"
     ]
    },
    {
     "name": "stdout",
     "output_type": "stream",
     "text": [
      "Energy Score: 0.6926882792363395\n",
      "mse 0.029432764506434814\n",
      "mae 0.09218181559521334\n"
     ]
    },
    {
     "name": "stderr",
     "output_type": "stream",
     "text": [
      "  4%|▍         | 212/4857 [09:30<2:54:50,  2.26s/it]"
     ]
    },
    {
     "name": "stdout",
     "output_type": "stream",
     "text": [
      "Energy Score: 0.693127369688051\n",
      "mse 0.029393111180965565\n",
      "mae 0.0921323253726544\n"
     ]
    },
    {
     "name": "stderr",
     "output_type": "stream",
     "text": [
      "  4%|▍         | 213/4857 [09:33<2:59:49,  2.32s/it]"
     ]
    },
    {
     "name": "stdout",
     "output_type": "stream",
     "text": [
      "Energy Score: 0.6919257238869548\n",
      "mse 0.029286635283242178\n",
      "mae 0.09200404482358446\n"
     ]
    },
    {
     "name": "stderr",
     "output_type": "stream",
     "text": [
      "  4%|▍         | 214/4857 [09:35<3:02:17,  2.36s/it]"
     ]
    },
    {
     "name": "stdout",
     "output_type": "stream",
     "text": [
      "Energy Score: 0.6911403960952229\n",
      "mse 0.029201128946195157\n",
      "mae 0.09187446148331045\n"
     ]
    },
    {
     "name": "stderr",
     "output_type": "stream",
     "text": [
      "  4%|▍         | 215/4857 [09:37<2:57:16,  2.29s/it]"
     ]
    },
    {
     "name": "stdout",
     "output_type": "stream",
     "text": [
      "Energy Score: 0.6915274312644252\n",
      "mse 0.02918366185661293\n",
      "mae 0.09185069924671503\n"
     ]
    },
    {
     "name": "stderr",
     "output_type": "stream",
     "text": [
      "  4%|▍         | 216/4857 [09:40<3:05:22,  2.40s/it]"
     ]
    },
    {
     "name": "stdout",
     "output_type": "stream",
     "text": [
      "Energy Score: 0.6913144346007721\n",
      "mse 0.029128258828978102\n",
      "mae 0.09175801306313167\n"
     ]
    },
    {
     "name": "stderr",
     "output_type": "stream",
     "text": [
      "  4%|▍         | 217/4857 [09:43<3:12:30,  2.49s/it]"
     ]
    },
    {
     "name": "stdout",
     "output_type": "stream",
     "text": [
      "Energy Score: 0.6900612337998596\n",
      "mse 0.029034045129296443\n",
      "mae 0.0915981343688489\n"
     ]
    },
    {
     "name": "stderr",
     "output_type": "stream",
     "text": [
      "  4%|▍         | 218/4857 [09:45<3:18:48,  2.57s/it]"
     ]
    },
    {
     "name": "stdout",
     "output_type": "stream",
     "text": [
      "Energy Score: 0.6900865713857528\n",
      "mse 0.028988587107826237\n",
      "mae 0.0915546804875803\n"
     ]
    },
    {
     "name": "stderr",
     "output_type": "stream",
     "text": [
      "  5%|▍         | 219/4857 [09:48<3:15:59,  2.54s/it]"
     ]
    },
    {
     "name": "stdout",
     "output_type": "stream",
     "text": [
      "Energy Score: 0.6892382257195325\n",
      "mse 0.02892044309024045\n",
      "mae 0.09139788713005795\n"
     ]
    },
    {
     "name": "stderr",
     "output_type": "stream",
     "text": [
      "  5%|▍         | 220/4857 [09:51<3:23:06,  2.63s/it]"
     ]
    },
    {
     "name": "stdout",
     "output_type": "stream",
     "text": [
      "Energy Score: 0.6933242757255669\n",
      "mse 0.02921450579601949\n",
      "mae 0.09191466432387337\n"
     ]
    },
    {
     "name": "stderr",
     "output_type": "stream",
     "text": [
      "  5%|▍         | 221/4857 [09:53<3:17:13,  2.55s/it]"
     ]
    },
    {
     "name": "stdout",
     "output_type": "stream",
     "text": [
      "Energy Score: 0.6972261298362311\n",
      "mse 0.029375544196526732\n",
      "mae 0.0923980401408282\n"
     ]
    },
    {
     "name": "stderr",
     "output_type": "stream",
     "text": [
      "  5%|▍         | 222/4857 [09:56<3:20:10,  2.59s/it]"
     ]
    },
    {
     "name": "stdout",
     "output_type": "stream",
     "text": [
      "Energy Score: 0.7007073764983216\n",
      "mse 0.0295113979269747\n",
      "mae 0.09284400660177443\n"
     ]
    },
    {
     "name": "stderr",
     "output_type": "stream",
     "text": [
      "  5%|▍         | 223/4857 [09:58<3:22:19,  2.62s/it]"
     ]
    },
    {
     "name": "stdout",
     "output_type": "stream",
     "text": [
      "Energy Score: 0.704102109265581\n",
      "mse 0.02963138649294871\n",
      "mae 0.09320882181783402\n"
     ]
    },
    {
     "name": "stderr",
     "output_type": "stream",
     "text": [
      "  5%|▍         | 224/4857 [10:01<3:20:02,  2.59s/it]"
     ]
    },
    {
     "name": "stdout",
     "output_type": "stream",
     "text": [
      "Energy Score: 0.7071893140374472\n",
      "mse 0.029731476994864118\n",
      "mae 0.09355533374537797\n"
     ]
    },
    {
     "name": "stderr",
     "output_type": "stream",
     "text": [
      "  5%|▍         | 225/4857 [10:03<3:16:45,  2.55s/it]"
     ]
    },
    {
     "name": "stdout",
     "output_type": "stream",
     "text": [
      "Energy Score: 0.7101248188562443\n",
      "mse 0.0298044014563156\n",
      "mae 0.09382185718284732\n"
     ]
    },
    {
     "name": "stderr",
     "output_type": "stream",
     "text": [
      "  5%|▍         | 226/4857 [10:06<3:21:39,  2.61s/it]"
     ]
    },
    {
     "name": "stdout",
     "output_type": "stream",
     "text": [
      "Energy Score: 0.7136269160583432\n",
      "mse 0.02997572552728994\n",
      "mae 0.09427899653539586\n"
     ]
    },
    {
     "name": "stderr",
     "output_type": "stream",
     "text": [
      "  5%|▍         | 227/4857 [10:09<3:18:51,  2.58s/it]"
     ]
    },
    {
     "name": "stdout",
     "output_type": "stream",
     "text": [
      "Energy Score: 0.7168485013715287\n",
      "mse 0.030092634298815313\n",
      "mae 0.09464813251159042\n"
     ]
    },
    {
     "name": "stderr",
     "output_type": "stream",
     "text": [
      "  5%|▍         | 228/4857 [10:11<3:20:41,  2.60s/it]"
     ]
    },
    {
     "name": "stdout",
     "output_type": "stream",
     "text": [
      "Energy Score: 0.7198790837668303\n",
      "mse 0.03024199932561064\n",
      "mae 0.09509076560836548\n"
     ]
    },
    {
     "name": "stderr",
     "output_type": "stream",
     "text": [
      "  5%|▍         | 229/4857 [10:15<3:44:46,  2.91s/it]"
     ]
    },
    {
     "name": "stdout",
     "output_type": "stream",
     "text": [
      "Energy Score: 0.7255235404141839\n",
      "mse 0.030705739285652622\n",
      "mae 0.09582269858603475\n"
     ]
    },
    {
     "name": "stderr",
     "output_type": "stream",
     "text": [
      "  5%|▍         | 230/4857 [10:18<3:46:04,  2.93s/it]"
     ]
    },
    {
     "name": "stdout",
     "output_type": "stream",
     "text": [
      "Energy Score: 0.7312172691447761\n",
      "mse 0.031135908607538478\n",
      "mae 0.09659777495716355\n"
     ]
    },
    {
     "name": "stderr",
     "output_type": "stream",
     "text": [
      "  5%|▍         | 231/4857 [10:21<3:43:00,  2.89s/it]"
     ]
    },
    {
     "name": "stdout",
     "output_type": "stream",
     "text": [
      "Energy Score: 0.7342360255707344\n",
      "mse 0.031269754126259534\n",
      "mae 0.09699744669637766\n"
     ]
    },
    {
     "name": "stderr",
     "output_type": "stream",
     "text": [
      "  5%|▍         | 232/4857 [10:24<3:48:29,  2.96s/it]"
     ]
    },
    {
     "name": "stdout",
     "output_type": "stream",
     "text": [
      "Energy Score: 0.7395060475326901\n",
      "mse 0.0316268855763228\n",
      "mae 0.09768918107246521\n"
     ]
    },
    {
     "name": "stderr",
     "output_type": "stream",
     "text": [
      "  5%|▍         | 233/4857 [10:26<3:30:53,  2.74s/it]"
     ]
    },
    {
     "name": "stdout",
     "output_type": "stream",
     "text": [
      "Energy Score: 0.743095550900143\n",
      "mse 0.03180023280602183\n",
      "mae 0.09821952597538669\n"
     ]
    },
    {
     "name": "stderr",
     "output_type": "stream",
     "text": [
      "  5%|▍         | 234/4857 [10:29<3:25:51,  2.67s/it]"
     ]
    },
    {
     "name": "stdout",
     "output_type": "stream",
     "text": [
      "Energy Score: 0.746928557165181\n",
      "mse 0.0320211448486474\n",
      "mae 0.09878353491502909\n"
     ]
    },
    {
     "name": "stderr",
     "output_type": "stream",
     "text": [
      "  5%|▍         | 235/4857 [10:31<3:25:19,  2.67s/it]"
     ]
    },
    {
     "name": "stdout",
     "output_type": "stream",
     "text": [
      "Energy Score: 0.7509900459797958\n",
      "mse 0.0322623340613081\n",
      "mae 0.09936483321106446\n"
     ]
    },
    {
     "name": "stderr",
     "output_type": "stream",
     "text": [
      "  5%|▍         | 236/4857 [10:34<3:29:50,  2.72s/it]"
     ]
    },
    {
     "name": "stdout",
     "output_type": "stream",
     "text": [
      "Energy Score: 0.754864329042106\n",
      "mse 0.032452547592601605\n",
      "mae 0.0998969101376133\n"
     ]
    },
    {
     "name": "stderr",
     "output_type": "stream",
     "text": [
      "  5%|▍         | 237/4857 [10:37<3:30:34,  2.73s/it]"
     ]
    },
    {
     "name": "stdout",
     "output_type": "stream",
     "text": [
      "Energy Score: 0.7538445491367216\n",
      "mse 0.03236777265666465\n",
      "mae 0.0997696809812439\n"
     ]
    },
    {
     "name": "stderr",
     "output_type": "stream",
     "text": [
      "  5%|▍         | 238/4857 [10:40<3:30:12,  2.73s/it]"
     ]
    },
    {
     "name": "stdout",
     "output_type": "stream",
     "text": [
      "Energy Score: 0.7577746328496429\n",
      "mse 0.03257118376313075\n",
      "mae 0.1003206186566772\n"
     ]
    },
    {
     "name": "stderr",
     "output_type": "stream",
     "text": [
      "  5%|▍         | 239/4857 [10:42<3:32:23,  2.76s/it]"
     ]
    },
    {
     "name": "stdout",
     "output_type": "stream",
     "text": [
      "Energy Score: 0.7620173582874814\n",
      "mse 0.03286324120036159\n",
      "mae 0.1009390452287533\n"
     ]
    },
    {
     "name": "stderr",
     "output_type": "stream",
     "text": [
      "  5%|▍         | 240/4857 [10:45<3:32:01,  2.76s/it]"
     ]
    },
    {
     "name": "stdout",
     "output_type": "stream",
     "text": [
      "Energy Score: 0.7688104926664449\n",
      "mse 0.0334429687571683\n",
      "mae 0.10190650861528114\n"
     ]
    },
    {
     "name": "stderr",
     "output_type": "stream",
     "text": [
      "  5%|▍         | 241/4857 [10:48<3:36:29,  2.81s/it]"
     ]
    },
    {
     "name": "stdout",
     "output_type": "stream",
     "text": [
      "Energy Score: 0.7733460405359547\n",
      "mse 0.033861660298624495\n",
      "mae 0.10266263999507903\n"
     ]
    },
    {
     "name": "stderr",
     "output_type": "stream",
     "text": [
      "  5%|▍         | 242/4857 [10:51<3:31:06,  2.74s/it]"
     ]
    },
    {
     "name": "stdout",
     "output_type": "stream",
     "text": [
      "Energy Score: 0.7770220029888734\n",
      "mse 0.034135354289381574\n",
      "mae 0.10327756877382147\n"
     ]
    },
    {
     "name": "stderr",
     "output_type": "stream",
     "text": [
      "  5%|▌         | 243/4857 [10:53<3:23:51,  2.65s/it]"
     ]
    },
    {
     "name": "stdout",
     "output_type": "stream",
     "text": [
      "Energy Score: 0.7751774172496203\n",
      "mse 0.0340150806226467\n",
      "mae 0.1030654464227636\n"
     ]
    },
    {
     "name": "stderr",
     "output_type": "stream",
     "text": [
      "  5%|▌         | 244/4857 [10:56<3:19:02,  2.59s/it]"
     ]
    },
    {
     "name": "stdout",
     "output_type": "stream",
     "text": [
      "Energy Score: 0.777035692866232\n",
      "mse 0.03404832607706147\n",
      "mae 0.10315897480723524\n"
     ]
    },
    {
     "name": "stderr",
     "output_type": "stream",
     "text": [
      "  5%|▌         | 245/4857 [10:58<3:08:01,  2.45s/it]"
     ]
    },
    {
     "name": "stdout",
     "output_type": "stream",
     "text": [
      "Energy Score: 0.7755444137585672\n",
      "mse 0.0339368015302011\n",
      "mae 0.10297306162465686\n"
     ]
    },
    {
     "name": "stderr",
     "output_type": "stream",
     "text": [
      "  5%|▌         | 246/4857 [11:00<3:06:34,  2.43s/it]"
     ]
    },
    {
     "name": "stdout",
     "output_type": "stream",
     "text": [
      "Energy Score: 0.7737936485755338\n",
      "mse 0.03381883149695194\n",
      "mae 0.1027310173333165\n"
     ]
    },
    {
     "name": "stderr",
     "output_type": "stream",
     "text": [
      "  5%|▌         | 247/4857 [11:02<3:04:05,  2.40s/it]"
     ]
    },
    {
     "name": "stdout",
     "output_type": "stream",
     "text": [
      "Energy Score: 0.7718297418189405\n",
      "mse 0.03369945284746391\n",
      "mae 0.10248607954250406\n"
     ]
    },
    {
     "name": "stderr",
     "output_type": "stream",
     "text": [
      "  5%|▌         | 248/4857 [11:05<3:12:45,  2.51s/it]"
     ]
    },
    {
     "name": "stdout",
     "output_type": "stream",
     "text": [
      "Energy Score: 0.7715636423309387\n",
      "mse 0.033643634453954914\n",
      "mae 0.10236118496279939\n"
     ]
    },
    {
     "name": "stderr",
     "output_type": "stream",
     "text": [
      "  5%|▌         | 249/4857 [11:08<3:07:49,  2.45s/it]"
     ]
    },
    {
     "name": "stdout",
     "output_type": "stream",
     "text": [
      "Energy Score: 0.7698195294843313\n",
      "mse 0.03353313594112396\n",
      "mae 0.10214894093521311\n"
     ]
    },
    {
     "name": "stderr",
     "output_type": "stream",
     "text": [
      "  5%|▌         | 250/4857 [11:10<3:04:48,  2.41s/it]"
     ]
    },
    {
     "name": "stdout",
     "output_type": "stream",
     "text": [
      "Energy Score: 0.7701061682170018\n",
      "mse 0.03350354011016159\n",
      "mae 0.10216842732300799\n"
     ]
    },
    {
     "name": "stderr",
     "output_type": "stream",
     "text": [
      "  5%|▌         | 251/4857 [11:12<3:02:06,  2.37s/it]"
     ]
    },
    {
     "name": "stdout",
     "output_type": "stream",
     "text": [
      "Energy Score: 0.7696660154275858\n",
      "mse 0.03343801941578012\n",
      "mae 0.10215496426654022\n"
     ]
    },
    {
     "name": "stderr",
     "output_type": "stream",
     "text": [
      "  5%|▌         | 252/4857 [11:15<3:02:36,  2.38s/it]"
     ]
    },
    {
     "name": "stdout",
     "output_type": "stream",
     "text": [
      "Energy Score: 0.769081511166803\n",
      "mse 0.03338327748812769\n",
      "mae 0.10216192985071372\n"
     ]
    },
    {
     "name": "stderr",
     "output_type": "stream",
     "text": [
      "  5%|▌         | 253/4857 [11:17<3:03:38,  2.39s/it]"
     ]
    },
    {
     "name": "stdout",
     "output_type": "stream",
     "text": [
      "Energy Score: 0.7684518296388448\n",
      "mse 0.03330444686786827\n",
      "mae 0.10203564438868927\n"
     ]
    },
    {
     "name": "stderr",
     "output_type": "stream",
     "text": [
      "  5%|▌         | 254/4857 [11:20<3:13:14,  2.52s/it]"
     ]
    },
    {
     "name": "stdout",
     "output_type": "stream",
     "text": [
      "Energy Score: 0.7690797107955315\n",
      "mse 0.03330105905302439\n",
      "mae 0.10214284525944388\n"
     ]
    },
    {
     "name": "stderr",
     "output_type": "stream",
     "text": [
      "  5%|▌         | 255/4857 [11:22<3:08:45,  2.46s/it]"
     ]
    },
    {
     "name": "stdout",
     "output_type": "stream",
     "text": [
      "Energy Score: 0.7688074738934784\n",
      "mse 0.033234269986304986\n",
      "mae 0.10207240980416254\n"
     ]
    },
    {
     "name": "stderr",
     "output_type": "stream",
     "text": [
      "  5%|▌         | 256/4857 [11:25<3:07:55,  2.45s/it]"
     ]
    },
    {
     "name": "stdout",
     "output_type": "stream",
     "text": [
      "Energy Score: 0.7690232865441855\n",
      "mse 0.03319793539006392\n",
      "mae 0.10203737925737932\n"
     ]
    },
    {
     "name": "stderr",
     "output_type": "stream",
     "text": [
      "  5%|▌         | 257/4857 [11:27<3:04:24,  2.41s/it]"
     ]
    },
    {
     "name": "stdout",
     "output_type": "stream",
     "text": [
      "Energy Score: 0.7687944115337703\n",
      "mse 0.0331319720249762\n",
      "mae 0.10195959980457983\n"
     ]
    },
    {
     "name": "stderr",
     "output_type": "stream",
     "text": [
      "  5%|▌         | 258/4857 [11:29<3:02:57,  2.39s/it]"
     ]
    },
    {
     "name": "stdout",
     "output_type": "stream",
     "text": [
      "Energy Score: 0.7674298905143786\n",
      "mse 0.03302978088898978\n",
      "mae 0.10176367742631144\n"
     ]
    },
    {
     "name": "stderr",
     "output_type": "stream",
     "text": [
      "  5%|▌         | 259/4857 [11:32<3:02:22,  2.38s/it]"
     ]
    },
    {
     "name": "stdout",
     "output_type": "stream",
     "text": [
      "Energy Score: 0.7671163313963131\n",
      "mse 0.03296253679155791\n",
      "mae 0.10167306060216322\n"
     ]
    },
    {
     "name": "stderr",
     "output_type": "stream",
     "text": [
      "  5%|▌         | 260/4857 [11:34<2:56:45,  2.31s/it]"
     ]
    },
    {
     "name": "stdout",
     "output_type": "stream",
     "text": [
      "Energy Score: 0.7674217410009303\n",
      "mse 0.03294284661883696\n",
      "mae 0.10163555480011016\n"
     ]
    },
    {
     "name": "stderr",
     "output_type": "stream",
     "text": [
      "  5%|▌         | 261/4857 [11:36<2:52:06,  2.25s/it]"
     ]
    },
    {
     "name": "stdout",
     "output_type": "stream",
     "text": [
      "Energy Score: 0.7665606943848837\n",
      "mse 0.0328653047768654\n",
      "mae 0.10150662994252961\n"
     ]
    },
    {
     "name": "stderr",
     "output_type": "stream",
     "text": [
      "  5%|▌         | 262/4857 [11:38<2:47:20,  2.19s/it]"
     ]
    },
    {
     "name": "stdout",
     "output_type": "stream",
     "text": [
      "Energy Score: 0.7652870521053893\n",
      "mse 0.032764111561204984\n",
      "mae 0.10132073342312076\n"
     ]
    },
    {
     "name": "stderr",
     "output_type": "stream",
     "text": [
      "  5%|▌         | 263/4857 [11:40<2:51:28,  2.24s/it]"
     ]
    },
    {
     "name": "stdout",
     "output_type": "stream",
     "text": [
      "Energy Score: 0.7657140925573851\n",
      "mse 0.032733792183241635\n",
      "mae 0.10134669818105925\n"
     ]
    },
    {
     "name": "stderr",
     "output_type": "stream",
     "text": [
      "  5%|▌         | 264/4857 [11:42<2:52:24,  2.25s/it]"
     ]
    },
    {
     "name": "stdout",
     "output_type": "stream",
     "text": [
      "Energy Score: 0.7659056648850968\n",
      "mse 0.03272175515136736\n",
      "mae 0.10135208257956436\n"
     ]
    },
    {
     "name": "stderr",
     "output_type": "stream",
     "text": [
      "  5%|▌         | 265/4857 [11:45<2:53:48,  2.27s/it]"
     ]
    },
    {
     "name": "stdout",
     "output_type": "stream",
     "text": [
      "Energy Score: 0.7674416969224822\n",
      "mse 0.03275751045741616\n",
      "mae 0.10141735764331344\n"
     ]
    },
    {
     "name": "stderr",
     "output_type": "stream",
     "text": [
      "  5%|▌         | 266/4857 [11:47<2:59:27,  2.35s/it]"
     ]
    },
    {
     "name": "stdout",
     "output_type": "stream",
     "text": [
      "Energy Score: 0.7676311651170818\n",
      "mse 0.032718896601151654\n",
      "mae 0.10137536001134846\n"
     ]
    },
    {
     "name": "stderr",
     "output_type": "stream",
     "text": [
      "  5%|▌         | 267/4857 [11:50<3:00:02,  2.35s/it]"
     ]
    },
    {
     "name": "stdout",
     "output_type": "stream",
     "text": [
      "Energy Score: 0.7674492346725021\n",
      "mse 0.03266109613163179\n",
      "mae 0.10129475994567862\n"
     ]
    },
    {
     "name": "stderr",
     "output_type": "stream",
     "text": [
      "  6%|▌         | 268/4857 [11:52<3:02:23,  2.38s/it]"
     ]
    },
    {
     "name": "stdout",
     "output_type": "stream",
     "text": [
      "Energy Score: 0.7675462928031501\n",
      "mse 0.03264349446333067\n",
      "mae 0.10137080108212052\n"
     ]
    },
    {
     "name": "stderr",
     "output_type": "stream",
     "text": [
      "  6%|▌         | 269/4857 [11:54<2:59:51,  2.35s/it]"
     ]
    },
    {
     "name": "stdout",
     "output_type": "stream",
     "text": [
      "Energy Score: 0.7673975021717193\n",
      "mse 0.032599695217919424\n",
      "mae 0.10139222707438456\n"
     ]
    },
    {
     "name": "stderr",
     "output_type": "stream",
     "text": [
      "  6%|▌         | 270/4857 [11:57<3:02:57,  2.39s/it]"
     ]
    },
    {
     "name": "stdout",
     "output_type": "stream",
     "text": [
      "Energy Score: 0.7672529791814838\n",
      "mse 0.032546348619692564\n",
      "mae 0.10137021885580734\n"
     ]
    },
    {
     "name": "stderr",
     "output_type": "stream",
     "text": [
      "  6%|▌         | 271/4857 [11:59<2:59:24,  2.35s/it]"
     ]
    },
    {
     "name": "stdout",
     "output_type": "stream",
     "text": [
      "Energy Score: 0.7668338862683972\n",
      "mse 0.032474914089058435\n",
      "mae 0.10129343026358167\n"
     ]
    },
    {
     "name": "stderr",
     "output_type": "stream",
     "text": [
      "  6%|▌         | 272/4857 [12:01<2:55:29,  2.30s/it]"
     ]
    },
    {
     "name": "stdout",
     "output_type": "stream",
     "text": [
      "Energy Score: 0.7661199905430737\n",
      "mse 0.03240373458218322\n",
      "mae 0.10117279133971105\n"
     ]
    },
    {
     "name": "stderr",
     "output_type": "stream",
     "text": [
      "  6%|▌         | 273/4857 [12:04<2:54:51,  2.29s/it]"
     ]
    },
    {
     "name": "stdout",
     "output_type": "stream",
     "text": [
      "Energy Score: 0.7663427640846368\n",
      "mse 0.032400906585731123\n",
      "mae 0.1011629925753036\n"
     ]
    },
    {
     "name": "stderr",
     "output_type": "stream",
     "text": [
      "  6%|▌         | 274/4857 [12:06<2:59:10,  2.35s/it]"
     ]
    },
    {
     "name": "stdout",
     "output_type": "stream",
     "text": [
      "Energy Score: 0.7656049180724666\n",
      "mse 0.032334741792144385\n",
      "mae 0.10104365485936309\n"
     ]
    },
    {
     "name": "stderr",
     "output_type": "stream",
     "text": [
      "  6%|▌         | 275/4857 [12:09<3:03:01,  2.40s/it]"
     ]
    },
    {
     "name": "stdout",
     "output_type": "stream",
     "text": [
      "Energy Score: 0.7657844082191705\n",
      "mse 0.032295167475178146\n",
      "mae 0.10098967124834765\n"
     ]
    },
    {
     "name": "stderr",
     "output_type": "stream",
     "text": [
      "  6%|▌         | 276/4857 [12:11<3:04:10,  2.41s/it]"
     ]
    },
    {
     "name": "stdout",
     "output_type": "stream",
     "text": [
      "Energy Score: 0.7656624315290329\n",
      "mse 0.03224876275264817\n",
      "mae 0.10090116765785327\n"
     ]
    },
    {
     "name": "stderr",
     "output_type": "stream",
     "text": [
      "  6%|▌         | 277/4857 [12:13<2:59:16,  2.35s/it]"
     ]
    },
    {
     "name": "stdout",
     "output_type": "stream",
     "text": [
      "Energy Score: 0.7653172632630769\n",
      "mse 0.03219162083207479\n",
      "mae 0.10077272518519537\n"
     ]
    },
    {
     "name": "stderr",
     "output_type": "stream",
     "text": [
      "  6%|▌         | 278/4857 [12:15<2:57:17,  2.32s/it]"
     ]
    },
    {
     "name": "stdout",
     "output_type": "stream",
     "text": [
      "Energy Score: 0.7647716179514812\n",
      "mse 0.03212450799700918\n",
      "mae 0.10065610489255487\n"
     ]
    },
    {
     "name": "stderr",
     "output_type": "stream",
     "text": [
      "  6%|▌         | 279/4857 [12:18<2:57:03,  2.32s/it]"
     ]
    },
    {
     "name": "stdout",
     "output_type": "stream",
     "text": [
      "Energy Score: 0.7638417810000335\n",
      "mse 0.03204104263741594\n",
      "mae 0.10049904875828473\n"
     ]
    },
    {
     "name": "stderr",
     "output_type": "stream",
     "text": [
      "  6%|▌         | 280/4857 [12:20<2:59:49,  2.36s/it]"
     ]
    },
    {
     "name": "stdout",
     "output_type": "stream",
     "text": [
      "Energy Score: 0.7631339645126088\n",
      "mse 0.03197414632459731\n",
      "mae 0.10035107458101891\n"
     ]
    },
    {
     "name": "stderr",
     "output_type": "stream",
     "text": [
      "  6%|▌         | 281/4857 [12:23<2:58:58,  2.35s/it]"
     ]
    },
    {
     "name": "stdout",
     "output_type": "stream",
     "text": [
      "Energy Score: 0.7621058310855249\n",
      "mse 0.031886009730166094\n",
      "mae 0.1001904102882307\n"
     ]
    },
    {
     "name": "stderr",
     "output_type": "stream",
     "text": [
      "  6%|▌         | 282/4857 [12:25<2:55:18,  2.30s/it]"
     ]
    },
    {
     "name": "stdout",
     "output_type": "stream",
     "text": [
      "Energy Score: 0.761236330871984\n",
      "mse 0.031813687077688106\n",
      "mae 0.10006506930986289\n"
     ]
    },
    {
     "name": "stderr",
     "output_type": "stream",
     "text": [
      "  6%|▌         | 283/4857 [12:27<2:54:51,  2.29s/it]"
     ]
    },
    {
     "name": "stdout",
     "output_type": "stream",
     "text": [
      "Energy Score: 0.7600537392249802\n",
      "mse 0.031725404054580096\n",
      "mae 0.09986318394314284\n"
     ]
    },
    {
     "name": "stderr",
     "output_type": "stream",
     "text": [
      "  6%|▌         | 284/4857 [12:29<2:56:41,  2.32s/it]"
     ]
    },
    {
     "name": "stdout",
     "output_type": "stream",
     "text": [
      "Energy Score: 0.7591009149086626\n",
      "mse 0.03164163816192578\n",
      "mae 0.09969211293074026\n"
     ]
    },
    {
     "name": "stderr",
     "output_type": "stream",
     "text": [
      "  6%|▌         | 285/4857 [12:32<3:04:44,  2.42s/it]"
     ]
    },
    {
     "name": "stdout",
     "output_type": "stream",
     "text": [
      "Energy Score: 0.7593513012426741\n",
      "mse 0.031637787987435675\n",
      "mae 0.09969766512643494\n"
     ]
    },
    {
     "name": "stderr",
     "output_type": "stream",
     "text": [
      "  6%|▌         | 286/4857 [12:35<3:05:11,  2.43s/it]"
     ]
    },
    {
     "name": "stdout",
     "output_type": "stream",
     "text": [
      "Energy Score: 0.7614908286712093\n",
      "mse 0.03177763898531554\n",
      "mae 0.0998836465118165\n"
     ]
    },
    {
     "name": "stderr",
     "output_type": "stream",
     "text": [
      "  6%|▌         | 287/4857 [12:37<2:57:45,  2.33s/it]"
     ]
    },
    {
     "name": "stdout",
     "output_type": "stream",
     "text": [
      "Energy Score: 0.7600711707398458\n",
      "mse 0.031682525197643155\n",
      "mae 0.09967115540750292\n"
     ]
    },
    {
     "name": "stderr",
     "output_type": "stream",
     "text": [
      "  6%|▌         | 288/4857 [12:39<2:52:48,  2.27s/it]"
     ]
    },
    {
     "name": "stdout",
     "output_type": "stream",
     "text": [
      "Energy Score: 0.7589026129055368\n",
      "mse 0.03159676797465622\n",
      "mae 0.09951867627541071\n"
     ]
    },
    {
     "name": "stderr",
     "output_type": "stream",
     "text": [
      "  6%|▌         | 289/4857 [12:41<2:55:41,  2.31s/it]"
     ]
    },
    {
     "name": "stdout",
     "output_type": "stream",
     "text": [
      "Energy Score: 0.7594468500407997\n",
      "mse 0.0315947295921844\n",
      "mae 0.09948533308572081\n"
     ]
    },
    {
     "name": "stderr",
     "output_type": "stream",
     "text": [
      "  6%|▌         | 290/4857 [12:43<2:55:56,  2.31s/it]"
     ]
    },
    {
     "name": "stdout",
     "output_type": "stream",
     "text": [
      "Energy Score: 0.7597101198708446\n",
      "mse 0.0315679312503984\n",
      "mae 0.09950995110822985\n"
     ]
    },
    {
     "name": "stderr",
     "output_type": "stream",
     "text": [
      "  6%|▌         | 291/4857 [12:46<2:57:39,  2.33s/it]"
     ]
    },
    {
     "name": "stdout",
     "output_type": "stream",
     "text": [
      "Energy Score: 0.7602602744468457\n",
      "mse 0.03162229010030981\n",
      "mae 0.09961628042815261\n"
     ]
    },
    {
     "name": "stderr",
     "output_type": "stream",
     "text": [
      "  6%|▌         | 292/4857 [12:48<3:00:38,  2.37s/it]"
     ]
    },
    {
     "name": "stdout",
     "output_type": "stream",
     "text": [
      "Energy Score: 0.7596208769631704\n",
      "mse 0.03156528108355752\n",
      "mae 0.09954062764497199\n"
     ]
    },
    {
     "name": "stderr",
     "output_type": "stream",
     "text": [
      "  6%|▌         | 293/4857 [12:51<2:56:48,  2.32s/it]"
     ]
    },
    {
     "name": "stdout",
     "output_type": "stream",
     "text": [
      "Energy Score: 0.7590802192916792\n",
      "mse 0.031516019629414915\n",
      "mae 0.0994665160358078\n"
     ]
    },
    {
     "name": "stderr",
     "output_type": "stream",
     "text": [
      "  6%|▌         | 294/4857 [12:53<2:57:26,  2.33s/it]"
     ]
    },
    {
     "name": "stdout",
     "output_type": "stream",
     "text": [
      "Energy Score: 0.7600735385189841\n",
      "mse 0.031554166936539216\n",
      "mae 0.09954998284023267\n"
     ]
    },
    {
     "name": "stderr",
     "output_type": "stream",
     "text": [
      "  6%|▌         | 295/4857 [12:55<2:58:14,  2.34s/it]"
     ]
    },
    {
     "name": "stdout",
     "output_type": "stream",
     "text": [
      "Energy Score: 0.7598840142310802\n",
      "mse 0.03149743179192228\n",
      "mae 0.09948779662411845\n"
     ]
    },
    {
     "name": "stderr",
     "output_type": "stream",
     "text": [
      "  6%|▌         | 296/4857 [12:58<2:56:43,  2.32s/it]"
     ]
    },
    {
     "name": "stdout",
     "output_type": "stream",
     "text": [
      "Energy Score: 0.7590565219351313\n",
      "mse 0.03142693333844944\n",
      "mae 0.09940838541387703\n"
     ]
    },
    {
     "name": "stderr",
     "output_type": "stream",
     "text": [
      "  6%|▌         | 297/4857 [13:00<2:55:48,  2.31s/it]"
     ]
    },
    {
     "name": "stdout",
     "output_type": "stream",
     "text": [
      "Energy Score: 0.7590742042389859\n",
      "mse 0.03139636269970261\n",
      "mae 0.0994019453549675\n"
     ]
    },
    {
     "name": "stderr",
     "output_type": "stream",
     "text": [
      "  6%|▌         | 298/4857 [13:02<2:57:54,  2.34s/it]"
     ]
    },
    {
     "name": "stdout",
     "output_type": "stream",
     "text": [
      "Energy Score: 0.7585459802057961\n",
      "mse 0.031345641156306725\n",
      "mae 0.09936982436514775\n"
     ]
    },
    {
     "name": "stderr",
     "output_type": "stream",
     "text": [
      "  6%|▌         | 299/4857 [13:05<2:59:36,  2.36s/it]"
     ]
    },
    {
     "name": "stdout",
     "output_type": "stream",
     "text": [
      "Energy Score: 0.7580545080119291\n",
      "mse 0.03130770239782832\n",
      "mae 0.09934814758391855\n"
     ]
    },
    {
     "name": "stderr",
     "output_type": "stream",
     "text": [
      "  6%|▌         | 300/4857 [13:07<3:09:19,  2.49s/it]"
     ]
    },
    {
     "name": "stdout",
     "output_type": "stream",
     "text": [
      "Energy Score: 0.7578003499662784\n",
      "mse 0.03126372928478451\n",
      "mae 0.09934505277945692\n"
     ]
    },
    {
     "name": "stderr",
     "output_type": "stream",
     "text": [
      "  6%|▌         | 301/4857 [13:10<3:11:36,  2.52s/it]"
     ]
    },
    {
     "name": "stdout",
     "output_type": "stream",
     "text": [
      "Energy Score: 0.7586294971988279\n",
      "mse 0.031323983188914654\n",
      "mae 0.09953712060241773\n"
     ]
    },
    {
     "name": "stderr",
     "output_type": "stream",
     "text": [
      "  6%|▌         | 302/4857 [13:13<3:10:29,  2.51s/it]"
     ]
    },
    {
     "name": "stdout",
     "output_type": "stream",
     "text": [
      "Energy Score: 0.759382046336333\n",
      "mse 0.03135708508830281\n",
      "mae 0.09970413607001972\n"
     ]
    },
    {
     "name": "stderr",
     "output_type": "stream",
     "text": [
      "  6%|▌         | 303/4857 [13:15<3:07:59,  2.48s/it]"
     ]
    },
    {
     "name": "stdout",
     "output_type": "stream",
     "text": [
      "Energy Score: 0.7598607125877074\n",
      "mse 0.03138958696693823\n",
      "mae 0.09983403541158427\n"
     ]
    },
    {
     "name": "stderr",
     "output_type": "stream",
     "text": [
      "  6%|▋         | 304/4857 [13:18<3:13:12,  2.55s/it]"
     ]
    },
    {
     "name": "stdout",
     "output_type": "stream",
     "text": [
      "Energy Score: 0.7595529885225585\n",
      "mse 0.03136070908745624\n",
      "mae 0.09983614072895779\n"
     ]
    },
    {
     "name": "stderr",
     "output_type": "stream",
     "text": [
      "  6%|▋         | 305/4857 [13:20<3:11:26,  2.52s/it]"
     ]
    },
    {
     "name": "stdout",
     "output_type": "stream",
     "text": [
      "Energy Score: 0.7600727059271442\n",
      "mse 0.031393903331890176\n",
      "mae 0.10000399342088963\n"
     ]
    },
    {
     "name": "stderr",
     "output_type": "stream",
     "text": [
      "  6%|▋         | 306/4857 [13:22<3:08:19,  2.48s/it]"
     ]
    },
    {
     "name": "stdout",
     "output_type": "stream",
     "text": [
      "Energy Score: 0.7611206874077132\n",
      "mse 0.03144473065002017\n",
      "mae 0.10022262414356418\n"
     ]
    },
    {
     "name": "stderr",
     "output_type": "stream",
     "text": [
      "  6%|▋         | 307/4857 [13:25<3:04:13,  2.43s/it]"
     ]
    },
    {
     "name": "stdout",
     "output_type": "stream",
     "text": [
      "Energy Score: 0.7617808977727033\n",
      "mse 0.03147153082679277\n",
      "mae 0.10039676608277939\n"
     ]
    },
    {
     "name": "stderr",
     "output_type": "stream",
     "text": [
      "  6%|▋         | 308/4857 [13:27<3:05:44,  2.45s/it]"
     ]
    },
    {
     "name": "stdout",
     "output_type": "stream",
     "text": [
      "Energy Score: 0.7615726239280686\n",
      "mse 0.031431232159969534\n",
      "mae 0.10037994230872299\n"
     ]
    },
    {
     "name": "stderr",
     "output_type": "stream",
     "text": [
      "  6%|▋         | 309/4857 [13:30<3:10:59,  2.52s/it]"
     ]
    },
    {
     "name": "stdout",
     "output_type": "stream",
     "text": [
      "Energy Score: 0.7634334817950698\n",
      "mse 0.03153790845145822\n",
      "mae 0.10056735226669664\n"
     ]
    },
    {
     "name": "stderr",
     "output_type": "stream",
     "text": [
      "  6%|▋         | 310/4857 [13:33<3:15:14,  2.58s/it]"
     ]
    },
    {
     "name": "stdout",
     "output_type": "stream",
     "text": [
      "Energy Score: 0.7647480601018253\n",
      "mse 0.03167083125120678\n",
      "mae 0.10074470219875543\n"
     ]
    },
    {
     "name": "stderr",
     "output_type": "stream",
     "text": [
      "  6%|▋         | 311/4857 [13:35<3:14:38,  2.57s/it]"
     ]
    },
    {
     "name": "stdout",
     "output_type": "stream",
     "text": [
      "Energy Score: 0.7651171016912064\n",
      "mse 0.03168577802020828\n",
      "mae 0.10078115151647028\n"
     ]
    },
    {
     "name": "stderr",
     "output_type": "stream",
     "text": [
      "  6%|▋         | 312/4857 [13:38<3:18:37,  2.62s/it]"
     ]
    },
    {
     "name": "stdout",
     "output_type": "stream",
     "text": [
      "Energy Score: 0.7677322998062704\n",
      "mse 0.03191037599990942\n",
      "mae 0.10114080380203445\n"
     ]
    },
    {
     "name": "stderr",
     "output_type": "stream",
     "text": [
      "  6%|▋         | 313/4857 [13:40<3:14:47,  2.57s/it]"
     ]
    },
    {
     "name": "stdout",
     "output_type": "stream",
     "text": [
      "Energy Score: 0.7681088836040193\n",
      "mse 0.03190427616796105\n",
      "mae 0.10113595314605268\n"
     ]
    },
    {
     "name": "stderr",
     "output_type": "stream",
     "text": [
      "  6%|▋         | 314/4857 [13:43<3:14:31,  2.57s/it]"
     ]
    },
    {
     "name": "stdout",
     "output_type": "stream",
     "text": [
      "Energy Score: 0.7711798696782393\n",
      "mse 0.03215882513152496\n",
      "mae 0.10153480059136004\n"
     ]
    },
    {
     "name": "stderr",
     "output_type": "stream",
     "text": [
      "  6%|▋         | 315/4857 [13:46<3:14:03,  2.56s/it]"
     ]
    },
    {
     "name": "stdout",
     "output_type": "stream",
     "text": [
      "Energy Score: 0.7739937418932171\n",
      "mse 0.032397085650512705\n",
      "mae 0.10177032834861965\n"
     ]
    },
    {
     "name": "stderr",
     "output_type": "stream",
     "text": [
      "  7%|▋         | 316/4857 [13:48<3:13:56,  2.56s/it]"
     ]
    },
    {
     "name": "stdout",
     "output_type": "stream",
     "text": [
      "Energy Score: 0.7751528750142714\n",
      "mse 0.03251091326987634\n",
      "mae 0.102073740683933\n"
     ]
    },
    {
     "name": "stderr",
     "output_type": "stream",
     "text": [
      "  7%|▋         | 317/4857 [13:51<3:12:44,  2.55s/it]"
     ]
    },
    {
     "name": "stdout",
     "output_type": "stream",
     "text": [
      "Energy Score: 0.7770766040652808\n",
      "mse 0.03276748451153273\n",
      "mae 0.10237385759500975\n"
     ]
    },
    {
     "name": "stderr",
     "output_type": "stream",
     "text": [
      "  7%|▋         | 318/4857 [13:53<3:08:09,  2.49s/it]"
     ]
    },
    {
     "name": "stdout",
     "output_type": "stream",
     "text": [
      "Energy Score: 0.7787091483482712\n",
      "mse 0.032856526063593294\n",
      "mae 0.10255203740878842\n"
     ]
    },
    {
     "name": "stderr",
     "output_type": "stream",
     "text": [
      "  7%|▋         | 319/4857 [13:55<3:06:48,  2.47s/it]"
     ]
    },
    {
     "name": "stdout",
     "output_type": "stream",
     "text": [
      "Energy Score: 0.7793229433706507\n",
      "mse 0.03287795639876295\n",
      "mae 0.10260911739525005\n"
     ]
    },
    {
     "name": "stderr",
     "output_type": "stream",
     "text": [
      "  7%|▋         | 320/4857 [13:58<3:13:33,  2.56s/it]"
     ]
    },
    {
     "name": "stdout",
     "output_type": "stream",
     "text": [
      "Energy Score: 0.7805507884746662\n",
      "mse 0.03295706682251347\n",
      "mae 0.10271020506042376\n"
     ]
    },
    {
     "name": "stderr",
     "output_type": "stream",
     "text": [
      "  7%|▋         | 321/4857 [14:01<3:13:36,  2.56s/it]"
     ]
    },
    {
     "name": "stdout",
     "output_type": "stream",
     "text": [
      "Energy Score: 0.7814999067772288\n",
      "mse 0.03300364318029985\n",
      "mae 0.10279219619676795\n"
     ]
    },
    {
     "name": "stderr",
     "output_type": "stream",
     "text": [
      "  7%|▋         | 322/4857 [14:03<3:15:07,  2.58s/it]"
     ]
    },
    {
     "name": "stdout",
     "output_type": "stream",
     "text": [
      "Energy Score: 0.7827709100390063\n",
      "mse 0.033157637159432415\n",
      "mae 0.10296395341583087\n"
     ]
    },
    {
     "name": "stderr",
     "output_type": "stream",
     "text": [
      "  7%|▋         | 323/4857 [14:06<3:06:16,  2.47s/it]"
     ]
    },
    {
     "name": "stdout",
     "output_type": "stream",
     "text": [
      "Energy Score: 0.7819723121457529\n",
      "mse 0.03309642807863697\n",
      "mae 0.10286678404516537\n"
     ]
    },
    {
     "name": "stderr",
     "output_type": "stream",
     "text": [
      "  7%|▋         | 324/4857 [14:08<3:12:39,  2.55s/it]"
     ]
    },
    {
     "name": "stdout",
     "output_type": "stream",
     "text": [
      "Energy Score: 0.7830566142124686\n",
      "mse 0.033149827647723805\n",
      "mae 0.1029915727456742\n"
     ]
    },
    {
     "name": "stderr",
     "output_type": "stream",
     "text": [
      "  7%|▋         | 325/4857 [14:11<3:05:58,  2.46s/it]"
     ]
    },
    {
     "name": "stdout",
     "output_type": "stream",
     "text": [
      "Energy Score: 0.7820899246568295\n",
      "mse 0.03308164697150605\n",
      "mae 0.10288262714175293\n"
     ]
    },
    {
     "name": "stderr",
     "output_type": "stream",
     "text": [
      "  7%|▋         | 326/4857 [14:13<3:07:19,  2.48s/it]"
     ]
    },
    {
     "name": "stdout",
     "output_type": "stream",
     "text": [
      "Energy Score: 0.7811355189411311\n",
      "mse 0.03301799897506537\n",
      "mae 0.1027629742828775\n"
     ]
    },
    {
     "name": "stderr",
     "output_type": "stream",
     "text": [
      "  7%|▋         | 327/4857 [14:16<3:12:28,  2.55s/it]"
     ]
    },
    {
     "name": "stdout",
     "output_type": "stream",
     "text": [
      "Energy Score: 0.7809902697487427\n",
      "mse 0.03297805839441669\n",
      "mae 0.10272505492217945\n"
     ]
    },
    {
     "name": "stderr",
     "output_type": "stream",
     "text": [
      "  7%|▋         | 328/4857 [14:18<3:10:07,  2.52s/it]"
     ]
    },
    {
     "name": "stdout",
     "output_type": "stream",
     "text": [
      "Energy Score: 0.7824271365953382\n",
      "mse 0.03308906025725177\n",
      "mae 0.10287409972800632\n"
     ]
    },
    {
     "name": "stderr",
     "output_type": "stream",
     "text": [
      "  7%|▋         | 329/4857 [14:21<3:14:33,  2.58s/it]"
     ]
    },
    {
     "name": "stdout",
     "output_type": "stream",
     "text": [
      "Energy Score: 0.7820568834428686\n",
      "mse 0.03305716035588177\n",
      "mae 0.10283454506410779\n"
     ]
    },
    {
     "name": "stderr",
     "output_type": "stream",
     "text": [
      "  7%|▋         | 330/4857 [14:23<3:13:46,  2.57s/it]"
     ]
    },
    {
     "name": "stdout",
     "output_type": "stream",
     "text": [
      "Energy Score: 0.7813117718062529\n",
      "mse 0.03299789777656175\n",
      "mae 0.10274407288265335\n"
     ]
    },
    {
     "name": "stderr",
     "output_type": "stream",
     "text": [
      "  7%|▋         | 331/4857 [14:26<3:12:56,  2.56s/it]"
     ]
    },
    {
     "name": "stdout",
     "output_type": "stream",
     "text": [
      "Energy Score: 0.7815760785672607\n",
      "mse 0.03297632025642411\n",
      "mae 0.1027316294969828\n"
     ]
    },
    {
     "name": "stderr",
     "output_type": "stream",
     "text": [
      "  7%|▋         | 332/4857 [14:28<3:10:23,  2.52s/it]"
     ]
    },
    {
     "name": "stdout",
     "output_type": "stream",
     "text": [
      "Energy Score: 0.7804371502509639\n",
      "mse 0.03290436733829211\n",
      "mae 0.10259016754822738\n"
     ]
    },
    {
     "name": "stderr",
     "output_type": "stream",
     "text": [
      "  7%|▋         | 333/4857 [14:31<3:15:51,  2.60s/it]"
     ]
    },
    {
     "name": "stdout",
     "output_type": "stream",
     "text": [
      "Energy Score: 0.7800235331161455\n",
      "mse 0.032857474263322244\n",
      "mae 0.10252513148227425\n"
     ]
    },
    {
     "name": "stderr",
     "output_type": "stream",
     "text": [
      "  7%|▋         | 334/4857 [14:34<3:10:58,  2.53s/it]"
     ]
    },
    {
     "name": "stdout",
     "output_type": "stream",
     "text": [
      "Energy Score: 0.7809165702995595\n",
      "mse 0.03287867678792855\n",
      "mae 0.10258607175413689\n"
     ]
    },
    {
     "name": "stderr",
     "output_type": "stream",
     "text": [
      "  7%|▋         | 335/4857 [14:37<3:19:56,  2.65s/it]"
     ]
    },
    {
     "name": "stdout",
     "output_type": "stream",
     "text": [
      "Energy Score: 0.7818940542841168\n",
      "mse 0.03292304924723686\n",
      "mae 0.10262876859999777\n"
     ]
    },
    {
     "name": "stderr",
     "output_type": "stream",
     "text": [
      "  7%|▋         | 336/4857 [14:39<3:22:34,  2.69s/it]"
     ]
    },
    {
     "name": "stdout",
     "output_type": "stream",
     "text": [
      "Energy Score: 0.7829091865905498\n",
      "mse 0.03300737347723938\n",
      "mae 0.10277300942854066\n"
     ]
    },
    {
     "name": "stderr",
     "output_type": "stream",
     "text": [
      "  7%|▋         | 337/4857 [14:42<3:14:54,  2.59s/it]"
     ]
    },
    {
     "name": "stdout",
     "output_type": "stream",
     "text": [
      "Energy Score: 0.7821613829832527\n",
      "mse 0.032948243207079494\n",
      "mae 0.10268508351462974\n"
     ]
    },
    {
     "name": "stderr",
     "output_type": "stream",
     "text": [
      "  7%|▋         | 338/4857 [14:45<3:22:12,  2.68s/it]"
     ]
    },
    {
     "name": "stdout",
     "output_type": "stream",
     "text": [
      "Energy Score: 0.7828484090900014\n",
      "mse 0.032973026297221375\n",
      "mae 0.10278034041980079\n"
     ]
    },
    {
     "name": "stderr",
     "output_type": "stream",
     "text": [
      "  7%|▋         | 339/4857 [14:47<3:19:12,  2.65s/it]"
     ]
    },
    {
     "name": "stdout",
     "output_type": "stream",
     "text": [
      "Energy Score: 0.7826745902001494\n",
      "mse 0.0329378241266462\n",
      "mae 0.10274990394332617\n"
     ]
    },
    {
     "name": "stderr",
     "output_type": "stream",
     "text": [
      "  7%|▋         | 340/4857 [14:50<3:19:31,  2.65s/it]"
     ]
    },
    {
     "name": "stdout",
     "output_type": "stream",
     "text": [
      "Energy Score: 0.7823041365454143\n",
      "mse 0.0328990750958231\n",
      "mae 0.1026911724891561\n"
     ]
    },
    {
     "name": "stderr",
     "output_type": "stream",
     "text": [
      "  7%|▋         | 341/4857 [14:52<3:17:07,  2.62s/it]"
     ]
    },
    {
     "name": "stdout",
     "output_type": "stream",
     "text": [
      "Energy Score: 0.7818681271877773\n",
      "mse 0.03284304614943211\n",
      "mae 0.10259664468197811\n"
     ]
    },
    {
     "name": "stderr",
     "output_type": "stream",
     "text": [
      "  7%|▋         | 342/4857 [14:55<3:24:26,  2.72s/it]"
     ]
    },
    {
     "name": "stdout",
     "output_type": "stream",
     "text": [
      "Energy Score: 0.7829212199192669\n",
      "mse 0.03289564188828412\n",
      "mae 0.10268517968049856\n"
     ]
    },
    {
     "name": "stderr",
     "output_type": "stream",
     "text": [
      "  7%|▋         | 343/4857 [14:58<3:21:14,  2.67s/it]"
     ]
    },
    {
     "name": "stdout",
     "output_type": "stream",
     "text": [
      "Energy Score: 0.7827745052024556\n",
      "mse 0.0328776557919645\n",
      "mae 0.10265643988722942\n"
     ]
    },
    {
     "name": "stderr",
     "output_type": "stream",
     "text": [
      "  7%|▋         | 344/4857 [15:00<3:17:27,  2.63s/it]"
     ]
    },
    {
     "name": "stdout",
     "output_type": "stream",
     "text": [
      "Energy Score: 0.782898133193991\n",
      "mse 0.0328682195751042\n",
      "mae 0.10265488875232463\n"
     ]
    },
    {
     "name": "stderr",
     "output_type": "stream",
     "text": [
      "  7%|▋         | 345/4857 [15:03<3:27:25,  2.76s/it]"
     ]
    },
    {
     "name": "stdout",
     "output_type": "stream",
     "text": [
      "Energy Score: 0.7843529871684218\n",
      "mse 0.03296487959894637\n",
      "mae 0.10283692243950344\n"
     ]
    },
    {
     "name": "stderr",
     "output_type": "stream",
     "text": [
      "  7%|▋         | 346/4857 [15:06<3:27:26,  2.76s/it]"
     ]
    },
    {
     "name": "stdout",
     "output_type": "stream",
     "text": [
      "Energy Score: 0.7846973229495541\n",
      "mse 0.032976571278778906\n",
      "mae 0.10284135240238164\n"
     ]
    },
    {
     "name": "stderr",
     "output_type": "stream",
     "text": [
      "  7%|▋         | 347/4857 [15:09<3:21:18,  2.68s/it]"
     ]
    },
    {
     "name": "stdout",
     "output_type": "stream",
     "text": [
      "Energy Score: 0.7837216951741143\n",
      "mse 0.03291108523121962\n",
      "mae 0.1027239116018932\n"
     ]
    },
    {
     "name": "stderr",
     "output_type": "stream",
     "text": [
      "  7%|▋         | 348/4857 [15:11<3:20:05,  2.66s/it]"
     ]
    },
    {
     "name": "stdout",
     "output_type": "stream",
     "text": [
      "Energy Score: 0.7853605611739313\n",
      "mse 0.03303261726780449\n",
      "mae 0.10286875714249778\n"
     ]
    },
    {
     "name": "stderr",
     "output_type": "stream",
     "text": [
      "  7%|▋         | 349/4857 [15:14<3:16:08,  2.61s/it]"
     ]
    },
    {
     "name": "stdout",
     "output_type": "stream",
     "text": [
      "Energy Score: 0.7853583332629223\n",
      "mse 0.03302994422390632\n",
      "mae 0.10283556995024229\n"
     ]
    },
    {
     "name": "stderr",
     "output_type": "stream",
     "text": [
      "  7%|▋         | 350/4857 [15:16<3:16:21,  2.61s/it]"
     ]
    },
    {
     "name": "stdout",
     "output_type": "stream",
     "text": [
      "Energy Score: 0.7848474896554724\n",
      "mse 0.03297736174160282\n",
      "mae 0.10276489296619147\n"
     ]
    },
    {
     "name": "stderr",
     "output_type": "stream",
     "text": [
      "  7%|▋         | 351/4857 [15:19<3:11:36,  2.55s/it]"
     ]
    },
    {
     "name": "stdout",
     "output_type": "stream",
     "text": [
      "Energy Score: 0.7845681303616545\n",
      "mse 0.03293665752876013\n",
      "mae 0.10269673732733715\n"
     ]
    },
    {
     "name": "stderr",
     "output_type": "stream",
     "text": [
      "  7%|▋         | 352/4857 [15:22<3:17:07,  2.63s/it]"
     ]
    },
    {
     "name": "stdout",
     "output_type": "stream",
     "text": [
      "Energy Score: 0.787176539218105\n",
      "mse 0.033140056413961366\n",
      "mae 0.10297332516859856\n"
     ]
    },
    {
     "name": "stderr",
     "output_type": "stream",
     "text": [
      "  7%|▋         | 353/4857 [15:24<3:08:22,  2.51s/it]"
     ]
    },
    {
     "name": "stdout",
     "output_type": "stream",
     "text": [
      "Energy Score: 0.7868715443992023\n",
      "mse 0.033123136771753145\n",
      "mae 0.10291063341655393\n"
     ]
    },
    {
     "name": "stderr",
     "output_type": "stream",
     "text": [
      "  7%|▋         | 354/4857 [15:26<3:07:21,  2.50s/it]"
     ]
    },
    {
     "name": "stdout",
     "output_type": "stream",
     "text": [
      "Energy Score: 0.7867698083941941\n",
      "mse 0.03308912425664411\n",
      "mae 0.10287772534211938\n"
     ]
    },
    {
     "name": "stderr",
     "output_type": "stream",
     "text": [
      "  7%|▋         | 355/4857 [15:29<3:09:25,  2.52s/it]"
     ]
    },
    {
     "name": "stdout",
     "output_type": "stream",
     "text": [
      "Energy Score: 0.7869970528695891\n",
      "mse 0.03308644227632839\n",
      "mae 0.1028501492653697\n"
     ]
    },
    {
     "name": "stderr",
     "output_type": "stream",
     "text": [
      "  7%|▋         | 356/4857 [15:31<3:08:36,  2.51s/it]"
     ]
    },
    {
     "name": "stdout",
     "output_type": "stream",
     "text": [
      "Energy Score: 0.7875108701233797\n",
      "mse 0.03309366969072833\n",
      "mae 0.1029291362576532\n"
     ]
    },
    {
     "name": "stderr",
     "output_type": "stream",
     "text": [
      "  7%|▋         | 357/4857 [15:34<3:08:34,  2.51s/it]"
     ]
    },
    {
     "name": "stdout",
     "output_type": "stream",
     "text": [
      "Energy Score: 0.787004172538986\n",
      "mse 0.0330552530951531\n",
      "mae 0.10291043539107975\n"
     ]
    },
    {
     "name": "stderr",
     "output_type": "stream",
     "text": [
      "  7%|▋         | 358/4857 [15:37<3:17:41,  2.64s/it]"
     ]
    },
    {
     "name": "stdout",
     "output_type": "stream",
     "text": [
      "Energy Score: 0.7889556595842947\n",
      "mse 0.03322214143685635\n",
      "mae 0.10316322982309922\n"
     ]
    },
    {
     "name": "stderr",
     "output_type": "stream",
     "text": [
      "  7%|▋         | 359/4857 [15:40<3:23:46,  2.72s/it]"
     ]
    },
    {
     "name": "stdout",
     "output_type": "stream",
     "text": [
      "Energy Score: 0.7895965587745339\n",
      "mse 0.03329144342829363\n",
      "mae 0.10327454910626484\n"
     ]
    },
    {
     "name": "stderr",
     "output_type": "stream",
     "text": [
      "  7%|▋         | 360/4857 [15:42<3:14:37,  2.60s/it]"
     ]
    },
    {
     "name": "stdout",
     "output_type": "stream",
     "text": [
      "Energy Score: 0.789102079128513\n",
      "mse 0.03324177006518696\n",
      "mae 0.10320068759470745\n"
     ]
    },
    {
     "name": "stderr",
     "output_type": "stream",
     "text": [
      "  7%|▋         | 361/4857 [15:45<3:19:25,  2.66s/it]"
     ]
    },
    {
     "name": "stdout",
     "output_type": "stream",
     "text": [
      "Energy Score: 0.7893686197822835\n",
      "mse 0.03322564650649085\n",
      "mae 0.10323113412730668\n"
     ]
    },
    {
     "name": "stderr",
     "output_type": "stream",
     "text": [
      "  7%|▋         | 362/4857 [15:47<3:12:37,  2.57s/it]"
     ]
    },
    {
     "name": "stdout",
     "output_type": "stream",
     "text": [
      "Energy Score: 0.7885959062861108\n",
      "mse 0.03316771484819147\n",
      "mae 0.10314138128856697\n"
     ]
    },
    {
     "name": "stderr",
     "output_type": "stream",
     "text": [
      "  7%|▋         | 363/4857 [15:50<3:17:03,  2.63s/it]"
     ]
    },
    {
     "name": "stdout",
     "output_type": "stream",
     "text": [
      "Energy Score: 0.7889012177289406\n",
      "mse 0.03316414213309509\n",
      "mae 0.10314826208448333\n"
     ]
    },
    {
     "name": "stderr",
     "output_type": "stream",
     "text": [
      "  7%|▋         | 364/4857 [15:53<3:14:36,  2.60s/it]"
     ]
    },
    {
     "name": "stdout",
     "output_type": "stream",
     "text": [
      "Energy Score: 0.7888401264162576\n",
      "mse 0.033135468365876844\n",
      "mae 0.10310197126749093\n"
     ]
    },
    {
     "name": "stderr",
     "output_type": "stream",
     "text": [
      "  8%|▊         | 365/4857 [15:55<3:07:22,  2.50s/it]"
     ]
    },
    {
     "name": "stdout",
     "output_type": "stream",
     "text": [
      "Energy Score: 0.7899632029461046\n",
      "mse 0.033192357319645885\n",
      "mae 0.10321903760730891\n"
     ]
    },
    {
     "name": "stderr",
     "output_type": "stream",
     "text": [
      "  8%|▊         | 366/4857 [15:57<3:10:14,  2.54s/it]"
     ]
    },
    {
     "name": "stdout",
     "output_type": "stream",
     "text": [
      "Energy Score: 0.7903866270063317\n",
      "mse 0.03319486985014508\n",
      "mae 0.1032569327894404\n"
     ]
    },
    {
     "name": "stderr",
     "output_type": "stream",
     "text": [
      "  8%|▊         | 367/4857 [16:00<3:09:21,  2.53s/it]"
     ]
    },
    {
     "name": "stdout",
     "output_type": "stream",
     "text": [
      "Energy Score: 0.7907757967298207\n",
      "mse 0.03321792953279997\n",
      "mae 0.10338845147514332\n"
     ]
    },
    {
     "name": "stderr",
     "output_type": "stream",
     "text": [
      "  8%|▊         | 368/4857 [16:02<3:05:02,  2.47s/it]"
     ]
    },
    {
     "name": "stdout",
     "output_type": "stream",
     "text": [
      "Energy Score: 0.7902013683162405\n",
      "mse 0.03316623234501118\n",
      "mae 0.10333274744883861\n"
     ]
    },
    {
     "name": "stderr",
     "output_type": "stream",
     "text": [
      "  8%|▊         | 369/4857 [16:05<3:04:43,  2.47s/it]"
     ]
    },
    {
     "name": "stdout",
     "output_type": "stream",
     "text": [
      "Energy Score: 0.7887669344096795\n",
      "mse 0.033086515851425816\n",
      "mae 0.10316728944373572\n"
     ]
    },
    {
     "name": "stderr",
     "output_type": "stream",
     "text": [
      "  8%|▊         | 370/4857 [16:07<3:07:48,  2.51s/it]"
     ]
    },
    {
     "name": "stdout",
     "output_type": "stream",
     "text": [
      "Energy Score: 0.7877176364206523\n",
      "mse 0.03302239188997842\n",
      "mae 0.10307204735966684\n"
     ]
    },
    {
     "name": "stderr",
     "output_type": "stream",
     "text": [
      "  8%|▊         | 371/4857 [16:10<3:09:34,  2.54s/it]"
     ]
    },
    {
     "name": "stdout",
     "output_type": "stream",
     "text": [
      "Energy Score: 0.7865754544008972\n",
      "mse 0.03295715947104571\n",
      "mae 0.10297910067761835\n"
     ]
    },
    {
     "name": "stderr",
     "output_type": "stream",
     "text": [
      "  8%|▊         | 372/4857 [16:12<3:01:14,  2.42s/it]"
     ]
    },
    {
     "name": "stdout",
     "output_type": "stream",
     "text": [
      "Energy Score: 0.784958935756075\n",
      "mse 0.03287554920837226\n",
      "mae 0.10279737227403071\n"
     ]
    },
    {
     "name": "stderr",
     "output_type": "stream",
     "text": [
      "  8%|▊         | 373/4857 [16:15<3:12:10,  2.57s/it]"
     ]
    },
    {
     "name": "stdout",
     "output_type": "stream",
     "text": [
      "Energy Score: 0.786460335031912\n",
      "mse 0.032985124233084626\n",
      "mae 0.10298166903752487\n"
     ]
    },
    {
     "name": "stderr",
     "output_type": "stream",
     "text": [
      "  8%|▊         | 374/4857 [16:17<3:09:15,  2.53s/it]"
     ]
    },
    {
     "name": "stdout",
     "output_type": "stream",
     "text": [
      "Energy Score: 0.7868042996513877\n",
      "mse 0.033002791546899814\n",
      "mae 0.10307008895811337\n"
     ]
    },
    {
     "name": "stderr",
     "output_type": "stream",
     "text": [
      "  8%|▊         | 375/4857 [16:20<3:08:01,  2.52s/it]"
     ]
    },
    {
     "name": "stdout",
     "output_type": "stream",
     "text": [
      "Energy Score: 0.7861870527683247\n",
      "mse 0.032953702371032935\n",
      "mae 0.10298932926063281\n"
     ]
    },
    {
     "name": "stderr",
     "output_type": "stream",
     "text": [
      "  8%|▊         | 376/4857 [16:23<3:10:22,  2.55s/it]"
     ]
    },
    {
     "name": "stdout",
     "output_type": "stream",
     "text": [
      "Energy Score: 0.7880770650676862\n",
      "mse 0.03312066763511373\n",
      "mae 0.10324831108048989\n"
     ]
    },
    {
     "name": "stderr",
     "output_type": "stream",
     "text": [
      "  8%|▊         | 377/4857 [16:25<3:05:25,  2.48s/it]"
     ]
    },
    {
     "name": "stdout",
     "output_type": "stream",
     "text": [
      "Energy Score: 0.7872253420924942\n",
      "mse 0.03306706705295412\n",
      "mae 0.10317627682338679\n"
     ]
    },
    {
     "name": "stderr",
     "output_type": "stream",
     "text": [
      "  8%|▊         | 378/4857 [16:27<3:03:51,  2.46s/it]"
     ]
    },
    {
     "name": "stdout",
     "output_type": "stream",
     "text": [
      "Energy Score: 0.7878488050087751\n",
      "mse 0.0331072946271656\n",
      "mae 0.1033057201172951\n"
     ]
    },
    {
     "name": "stderr",
     "output_type": "stream",
     "text": [
      "  8%|▊         | 379/4857 [16:30<3:04:55,  2.48s/it]"
     ]
    },
    {
     "name": "stdout",
     "output_type": "stream",
     "text": [
      "Energy Score: 0.7892139852996624\n",
      "mse 0.03320896651000727\n",
      "mae 0.10351438498173487\n"
     ]
    },
    {
     "name": "stderr",
     "output_type": "stream",
     "text": [
      "  8%|▊         | 380/4857 [16:32<3:01:31,  2.43s/it]"
     ]
    },
    {
     "name": "stdout",
     "output_type": "stream",
     "text": [
      "Energy Score: 0.7891145053962122\n",
      "mse 0.03317093057499397\n",
      "mae 0.10346803848416807\n"
     ]
    },
    {
     "name": "stderr",
     "output_type": "stream",
     "text": [
      "  8%|▊         | 381/4857 [16:35<3:03:22,  2.46s/it]"
     ]
    },
    {
     "name": "stdout",
     "output_type": "stream",
     "text": [
      "Energy Score: 0.7893892377493895\n",
      "mse 0.033163991878401806\n",
      "mae 0.10348699954926067\n"
     ]
    },
    {
     "name": "stderr",
     "output_type": "stream",
     "text": [
      "  8%|▊         | 382/4857 [16:37<3:07:24,  2.51s/it]"
     ]
    },
    {
     "name": "stdout",
     "output_type": "stream",
     "text": [
      "Energy Score: 0.7906174088548132\n",
      "mse 0.03323411107832973\n",
      "mae 0.10364239429911556\n"
     ]
    },
    {
     "name": "stderr",
     "output_type": "stream",
     "text": [
      "  8%|▊         | 383/4857 [16:40<3:08:19,  2.53s/it]"
     ]
    },
    {
     "name": "stdout",
     "output_type": "stream",
     "text": [
      "Energy Score: 0.7904616349244076\n",
      "mse 0.03321360661304876\n",
      "mae 0.10361407402505364\n"
     ]
    },
    {
     "name": "stderr",
     "output_type": "stream",
     "text": [
      "  8%|▊         | 384/4857 [16:42<3:05:14,  2.48s/it]"
     ]
    },
    {
     "name": "stdout",
     "output_type": "stream",
     "text": [
      "Energy Score: 0.7899218121099073\n",
      "mse 0.03316742696857387\n",
      "mae 0.10353385832174095\n"
     ]
    },
    {
     "name": "stderr",
     "output_type": "stream",
     "text": [
      "  8%|▊         | 385/4857 [16:45<3:05:06,  2.48s/it]"
     ]
    },
    {
     "name": "stdout",
     "output_type": "stream",
     "text": [
      "Energy Score: 0.7899536875352674\n",
      "mse 0.033140226353258535\n",
      "mae 0.10350430523788888\n"
     ]
    },
    {
     "name": "stderr",
     "output_type": "stream",
     "text": [
      "  8%|▊         | 386/4857 [16:47<3:09:14,  2.54s/it]"
     ]
    },
    {
     "name": "stdout",
     "output_type": "stream",
     "text": [
      "Energy Score: 0.7905030615740943\n",
      "mse 0.03314460582123708\n",
      "mae 0.10357781797730167\n"
     ]
    },
    {
     "name": "stderr",
     "output_type": "stream",
     "text": [
      "  8%|▊         | 387/4857 [16:50<3:08:10,  2.53s/it]"
     ]
    },
    {
     "name": "stdout",
     "output_type": "stream",
     "text": [
      "Energy Score: 0.7901499326240373\n",
      "mse 0.03309779321190107\n",
      "mae 0.10351304636093835\n"
     ]
    },
    {
     "name": "stderr",
     "output_type": "stream",
     "text": [
      "  8%|▊         | 388/4857 [16:52<3:07:01,  2.51s/it]"
     ]
    },
    {
     "name": "stdout",
     "output_type": "stream",
     "text": [
      "Energy Score: 0.789766689456914\n",
      "mse 0.033053375049129\n",
      "mae 0.10343112532608417\n"
     ]
    },
    {
     "name": "stderr",
     "output_type": "stream",
     "text": [
      "  8%|▊         | 389/4857 [16:55<3:06:05,  2.50s/it]"
     ]
    },
    {
     "name": "stdout",
     "output_type": "stream",
     "text": [
      "Energy Score: 0.7900458886259714\n",
      "mse 0.03305795243127383\n",
      "mae 0.10344055649894394\n"
     ]
    },
    {
     "name": "stderr",
     "output_type": "stream",
     "text": [
      "  8%|▊         | 390/4857 [16:57<2:58:24,  2.40s/it]"
     ]
    },
    {
     "name": "stdout",
     "output_type": "stream",
     "text": [
      "Energy Score: 0.7885183985507945\n",
      "mse 0.0329790421085247\n",
      "mae 0.10326086374866941\n"
     ]
    },
    {
     "name": "stderr",
     "output_type": "stream",
     "text": [
      "  8%|▊         | 391/4857 [16:59<2:57:51,  2.39s/it]"
     ]
    },
    {
     "name": "stdout",
     "output_type": "stream",
     "text": [
      "Energy Score: 0.7880414121900441\n",
      "mse 0.03293053535681371\n",
      "mae 0.10316251383901118\n"
     ]
    },
    {
     "name": "stderr",
     "output_type": "stream",
     "text": [
      "  8%|▊         | 392/4857 [17:02<2:58:36,  2.40s/it]"
     ]
    },
    {
     "name": "stdout",
     "output_type": "stream",
     "text": [
      "Energy Score: 0.787125094660025\n",
      "mse 0.032863301878801876\n",
      "mae 0.10305463010264171\n"
     ]
    },
    {
     "name": "stderr",
     "output_type": "stream",
     "text": [
      "  8%|▊         | 393/4857 [17:04<3:00:54,  2.43s/it]"
     ]
    },
    {
     "name": "stdout",
     "output_type": "stream",
     "text": [
      "Energy Score: 0.7869440090246032\n",
      "mse 0.03283206560072376\n",
      "mae 0.10303010342964385\n"
     ]
    },
    {
     "name": "stderr",
     "output_type": "stream",
     "text": [
      "  8%|▊         | 394/4857 [17:07<2:58:21,  2.40s/it]"
     ]
    },
    {
     "name": "stdout",
     "output_type": "stream",
     "text": [
      "Energy Score: 0.7866982163152731\n",
      "mse 0.03279674015246855\n",
      "mae 0.10297239486053408\n"
     ]
    },
    {
     "name": "stderr",
     "output_type": "stream",
     "text": [
      "  8%|▊         | 395/4857 [17:09<2:56:39,  2.38s/it]"
     ]
    },
    {
     "name": "stdout",
     "output_type": "stream",
     "text": [
      "Energy Score: 0.7859970277368393\n",
      "mse 0.03274796170508305\n",
      "mae 0.10288032005801152\n"
     ]
    },
    {
     "name": "stderr",
     "output_type": "stream",
     "text": [
      "  8%|▊         | 396/4857 [17:11<2:55:18,  2.36s/it]"
     ]
    },
    {
     "name": "stdout",
     "output_type": "stream",
     "text": [
      "Energy Score: 0.7858240706944509\n",
      "mse 0.032709907243818476\n",
      "mae 0.10280438141756619\n"
     ]
    },
    {
     "name": "stderr",
     "output_type": "stream",
     "text": [
      "  8%|▊         | 397/4857 [17:14<3:01:18,  2.44s/it]"
     ]
    },
    {
     "name": "stdout",
     "output_type": "stream",
     "text": [
      "Energy Score: 0.7860461283960233\n",
      "mse 0.03269874549526091\n",
      "mae 0.10277648205610747\n"
     ]
    },
    {
     "name": "stderr",
     "output_type": "stream",
     "text": [
      "  8%|▊         | 398/4857 [17:17<3:04:59,  2.49s/it]"
     ]
    },
    {
     "name": "stdout",
     "output_type": "stream",
     "text": [
      "Energy Score: 0.786868517159714\n",
      "mse 0.032752410998638855\n",
      "mae 0.10287801641943548\n"
     ]
    },
    {
     "name": "stderr",
     "output_type": "stream",
     "text": [
      "  8%|▊         | 399/4857 [17:19<3:01:01,  2.44s/it]"
     ]
    },
    {
     "name": "stdout",
     "output_type": "stream",
     "text": [
      "Energy Score: 0.787090264399191\n",
      "mse 0.03274013453248426\n",
      "mae 0.10287307191023645\n"
     ]
    },
    {
     "name": "stderr",
     "output_type": "stream",
     "text": [
      "  8%|▊         | 400/4857 [17:21<3:01:47,  2.45s/it]"
     ]
    },
    {
     "name": "stdout",
     "output_type": "stream",
     "text": [
      "Energy Score: 0.7864184356253549\n",
      "mse 0.032698598954092765\n",
      "mae 0.102786568006861\n"
     ]
    },
    {
     "name": "stderr",
     "output_type": "stream",
     "text": [
      "  8%|▊         | 401/4857 [17:24<2:59:58,  2.42s/it]"
     ]
    },
    {
     "name": "stdout",
     "output_type": "stream",
     "text": [
      "Energy Score: 0.786708341639888\n",
      "mse 0.032694203629876496\n",
      "mae 0.10276235824662254\n"
     ]
    },
    {
     "name": "stderr",
     "output_type": "stream",
     "text": [
      "  8%|▊         | 402/4857 [17:26<2:59:55,  2.42s/it]"
     ]
    },
    {
     "name": "stdout",
     "output_type": "stream",
     "text": [
      "Energy Score: 0.7866124736483748\n",
      "mse 0.032665339941970274\n",
      "mae 0.1027061169039527\n"
     ]
    },
    {
     "name": "stderr",
     "output_type": "stream",
     "text": [
      "  8%|▊         | 403/4857 [17:29<3:01:17,  2.44s/it]"
     ]
    },
    {
     "name": "stdout",
     "output_type": "stream",
     "text": [
      "Energy Score: 0.7864789862553622\n",
      "mse 0.032653504746444635\n",
      "mae 0.10268974100724863\n"
     ]
    },
    {
     "name": "stderr",
     "output_type": "stream",
     "text": [
      "  8%|▊         | 404/4857 [17:31<3:05:27,  2.50s/it]"
     ]
    },
    {
     "name": "stdout",
     "output_type": "stream",
     "text": [
      "Energy Score: 0.7862133114824205\n",
      "mse 0.0326186309902244\n",
      "mae 0.10261344425581004\n"
     ]
    },
    {
     "name": "stderr",
     "output_type": "stream",
     "text": [
      "  8%|▊         | 405/4857 [17:34<3:12:22,  2.59s/it]"
     ]
    },
    {
     "name": "stdout",
     "output_type": "stream",
     "text": [
      "Energy Score: 0.7868216833351479\n",
      "mse 0.03264563656716312\n",
      "mae 0.10269159334764157\n"
     ]
    },
    {
     "name": "stderr",
     "output_type": "stream",
     "text": [
      "  8%|▊         | 406/4857 [17:37<3:13:22,  2.61s/it]"
     ]
    },
    {
     "name": "stdout",
     "output_type": "stream",
     "text": [
      "Energy Score: 0.7879086460098591\n",
      "mse 0.03270637271478356\n",
      "mae 0.1027651293211044\n"
     ]
    },
    {
     "name": "stderr",
     "output_type": "stream",
     "text": [
      "  8%|▊         | 407/4857 [17:39<3:16:20,  2.65s/it]"
     ]
    },
    {
     "name": "stdout",
     "output_type": "stream",
     "text": [
      "Energy Score: 0.7889060529302346\n",
      "mse 0.03275484461542224\n",
      "mae 0.10282586553566558\n"
     ]
    },
    {
     "name": "stderr",
     "output_type": "stream",
     "text": [
      "  8%|▊         | 408/4857 [17:42<3:09:06,  2.55s/it]"
     ]
    },
    {
     "name": "stdout",
     "output_type": "stream",
     "text": [
      "Energy Score: 0.7883873145891005\n",
      "mse 0.03270732777698493\n",
      "mae 0.10272985301763095\n"
     ]
    },
    {
     "name": "stderr",
     "output_type": "stream",
     "text": [
      "  8%|▊         | 409/4857 [17:44<3:03:25,  2.47s/it]"
     ]
    },
    {
     "name": "stdout",
     "output_type": "stream",
     "text": [
      "Energy Score: 0.7884519346241196\n",
      "mse 0.032705463678935245\n",
      "mae 0.10273123139147476\n"
     ]
    },
    {
     "name": "stderr",
     "output_type": "stream",
     "text": [
      "  8%|▊         | 410/4857 [17:47<3:03:24,  2.47s/it]"
     ]
    },
    {
     "name": "stdout",
     "output_type": "stream",
     "text": [
      "Energy Score: 0.7893034708214528\n",
      "mse 0.032768210371618825\n",
      "mae 0.10282143587280484\n"
     ]
    },
    {
     "name": "stderr",
     "output_type": "stream",
     "text": [
      "  8%|▊         | 411/4857 [17:49<2:59:00,  2.42s/it]"
     ]
    },
    {
     "name": "stdout",
     "output_type": "stream",
     "text": [
      "Energy Score: 0.7885706870494922\n",
      "mse 0.032713253536166956\n",
      "mae 0.1026797532138375\n"
     ]
    },
    {
     "name": "stderr",
     "output_type": "stream",
     "text": [
      "  8%|▊         | 412/4857 [17:51<3:03:49,  2.48s/it]"
     ]
    },
    {
     "name": "stdout",
     "output_type": "stream",
     "text": [
      "Energy Score: 0.7879786932782212\n",
      "mse 0.03266280026514848\n",
      "mae 0.10256337685778155\n"
     ]
    },
    {
     "name": "stderr",
     "output_type": "stream",
     "text": [
      "  9%|▊         | 413/4857 [17:54<3:02:28,  2.46s/it]"
     ]
    },
    {
     "name": "stdout",
     "output_type": "stream",
     "text": [
      "Energy Score: 0.7888890275995932\n",
      "mse 0.03274267138729333\n",
      "mae 0.10269491771650233\n"
     ]
    },
    {
     "name": "stderr",
     "output_type": "stream",
     "text": [
      "  9%|▊         | 414/4857 [17:56<3:00:36,  2.44s/it]"
     ]
    },
    {
     "name": "stdout",
     "output_type": "stream",
     "text": [
      "Energy Score: 0.7879905798376581\n",
      "mse 0.0326806375336055\n",
      "mae 0.10255765311722352\n"
     ]
    },
    {
     "name": "stderr",
     "output_type": "stream",
     "text": [
      "  9%|▊         | 415/4857 [17:58<2:55:35,  2.37s/it]"
     ]
    },
    {
     "name": "stdout",
     "output_type": "stream",
     "text": [
      "Energy Score: 0.7865956252721814\n",
      "mse 0.03260767173860468\n",
      "mae 0.102384575980575\n"
     ]
    },
    {
     "name": "stderr",
     "output_type": "stream",
     "text": [
      "  9%|▊         | 416/4857 [18:01<2:54:17,  2.35s/it]"
     ]
    },
    {
     "name": "stdout",
     "output_type": "stream",
     "text": [
      "Energy Score: 0.7858831705631016\n",
      "mse 0.03254888246386516\n",
      "mae 0.10224965873745634\n"
     ]
    },
    {
     "name": "stderr",
     "output_type": "stream",
     "text": [
      "  9%|▊         | 417/4857 [18:03<2:54:30,  2.36s/it]"
     ]
    },
    {
     "name": "stdout",
     "output_type": "stream",
     "text": [
      "Energy Score: 0.7850744582308434\n",
      "mse 0.032487834528413306\n",
      "mae 0.10211273403948247\n"
     ]
    },
    {
     "name": "stderr",
     "output_type": "stream",
     "text": [
      "  9%|▊         | 418/4857 [18:05<2:53:41,  2.35s/it]"
     ]
    },
    {
     "name": "stdout",
     "output_type": "stream",
     "text": [
      "Energy Score: 0.7845988486193212\n",
      "mse 0.03244261008065981\n",
      "mae 0.1020084637908605\n"
     ]
    },
    {
     "name": "stderr",
     "output_type": "stream",
     "text": [
      "  9%|▊         | 419/4857 [18:08<2:54:32,  2.36s/it]"
     ]
    },
    {
     "name": "stdout",
     "output_type": "stream",
     "text": [
      "Energy Score: 0.7846960502018782\n",
      "mse 0.032434163555119994\n",
      "mae 0.1019377139361785\n"
     ]
    },
    {
     "name": "stderr",
     "output_type": "stream",
     "text": [
      "  9%|▊         | 420/4857 [18:10<2:51:05,  2.31s/it]"
     ]
    },
    {
     "name": "stdout",
     "output_type": "stream",
     "text": [
      "Energy Score: 0.784867944955188\n",
      "mse 0.03242127515561869\n",
      "mae 0.10190409623648061\n"
     ]
    },
    {
     "name": "stderr",
     "output_type": "stream",
     "text": [
      "  9%|▊         | 421/4857 [18:13<3:00:34,  2.44s/it]"
     ]
    },
    {
     "name": "stdout",
     "output_type": "stream",
     "text": [
      "Energy Score: 0.7835290637702386\n",
      "mse 0.03234966372730741\n",
      "mae 0.10173297121411311\n"
     ]
    },
    {
     "name": "stderr",
     "output_type": "stream",
     "text": [
      "  9%|▊         | 422/4857 [18:16<3:10:58,  2.58s/it]"
     ]
    },
    {
     "name": "stdout",
     "output_type": "stream",
     "text": [
      "Energy Score: 0.7843602962121901\n",
      "mse 0.0323991527495585\n",
      "mae 0.10179770754177318\n"
     ]
    },
    {
     "name": "stderr",
     "output_type": "stream",
     "text": [
      "  9%|▊         | 423/4857 [18:19<3:28:14,  2.82s/it]"
     ]
    },
    {
     "name": "stdout",
     "output_type": "stream",
     "text": [
      "Energy Score: 0.7844186428624149\n",
      "mse 0.03238869990508469\n",
      "mae 0.1017985197218716\n"
     ]
    },
    {
     "name": "stderr",
     "output_type": "stream",
     "text": [
      "  9%|▊         | 424/4857 [18:22<3:38:25,  2.96s/it]"
     ]
    },
    {
     "name": "stdout",
     "output_type": "stream",
     "text": [
      "Energy Score: 0.7837740651187332\n",
      "mse 0.03233646588142592\n",
      "mae 0.10167890791510596\n"
     ]
    },
    {
     "name": "stderr",
     "output_type": "stream",
     "text": [
      "  9%|▉         | 425/4857 [18:26<3:47:35,  3.08s/it]"
     ]
    },
    {
     "name": "stdout",
     "output_type": "stream",
     "text": [
      "Energy Score: 0.7845333544571046\n",
      "mse 0.03236602635572864\n",
      "mae 0.1017500721535555\n"
     ]
    },
    {
     "name": "stderr",
     "output_type": "stream",
     "text": [
      "  9%|▉         | 426/4857 [18:29<3:53:49,  3.17s/it]"
     ]
    },
    {
     "name": "stdout",
     "output_type": "stream",
     "text": [
      "Energy Score: 0.7858842171049509\n",
      "mse 0.03249734436133026\n",
      "mae 0.10190843025914573\n"
     ]
    },
    {
     "name": "stderr",
     "output_type": "stream",
     "text": [
      "  9%|▉         | 427/4857 [18:31<3:37:03,  2.94s/it]"
     ]
    },
    {
     "name": "stdout",
     "output_type": "stream",
     "text": [
      "Energy Score: 0.7841396969787912\n",
      "mse 0.032421709010382944\n",
      "mae 0.10169148488943117\n"
     ]
    },
    {
     "name": "stderr",
     "output_type": "stream",
     "text": [
      "  9%|▉         | 428/4857 [18:34<3:26:41,  2.80s/it]"
     ]
    },
    {
     "name": "stdout",
     "output_type": "stream",
     "text": [
      "Energy Score: 0.782427186316123\n",
      "mse 0.03234650783983102\n",
      "mae 0.10147774477172389\n"
     ]
    },
    {
     "name": "stderr",
     "output_type": "stream",
     "text": [
      "  9%|▉         | 429/4857 [18:37<3:28:27,  2.82s/it]"
     ]
    },
    {
     "name": "stdout",
     "output_type": "stream",
     "text": [
      "Energy Score: 0.7822134012438757\n",
      "mse 0.03230813324545016\n",
      "mae 0.1013832543599262\n"
     ]
    },
    {
     "name": "stderr",
     "output_type": "stream",
     "text": [
      "  9%|▉         | 430/4857 [18:40<3:36:58,  2.94s/it]"
     ]
    },
    {
     "name": "stdout",
     "output_type": "stream",
     "text": [
      "Energy Score: 0.7818471329411322\n",
      "mse 0.03226902553553392\n",
      "mae 0.10131735301660924\n"
     ]
    },
    {
     "name": "stderr",
     "output_type": "stream",
     "text": [
      "  9%|▉         | 431/4857 [18:43<3:33:34,  2.90s/it]"
     ]
    },
    {
     "name": "stdout",
     "output_type": "stream",
     "text": [
      "Energy Score: 0.7815064012580313\n",
      "mse 0.032227870724730746\n",
      "mae 0.10123140298748264\n"
     ]
    },
    {
     "name": "stderr",
     "output_type": "stream",
     "text": [
      "  9%|▉         | 432/4857 [18:46<3:30:25,  2.85s/it]"
     ]
    },
    {
     "name": "stdout",
     "output_type": "stream",
     "text": [
      "Energy Score: 0.7812297964424233\n",
      "mse 0.03219253497423384\n",
      "mae 0.10115214996141576\n"
     ]
    },
    {
     "name": "stderr",
     "output_type": "stream",
     "text": [
      "  9%|▉         | 433/4857 [18:48<3:26:28,  2.80s/it]"
     ]
    },
    {
     "name": "stdout",
     "output_type": "stream",
     "text": [
      "Energy Score: 0.780762249313095\n",
      "mse 0.032143446658825715\n",
      "mae 0.10105311421358625\n"
     ]
    },
    {
     "name": "stderr",
     "output_type": "stream",
     "text": [
      "  9%|▉         | 434/4857 [18:51<3:32:38,  2.88s/it]"
     ]
    },
    {
     "name": "stdout",
     "output_type": "stream",
     "text": [
      "Energy Score: 0.780800981023887\n",
      "mse 0.03212973714986897\n",
      "mae 0.10100285479957842\n"
     ]
    },
    {
     "name": "stderr",
     "output_type": "stream",
     "text": [
      "  9%|▉         | 435/4857 [18:54<3:28:22,  2.83s/it]"
     ]
    },
    {
     "name": "stdout",
     "output_type": "stream",
     "text": [
      "Energy Score: 0.7809649840104819\n",
      "mse 0.032118348041885424\n",
      "mae 0.10098682031993009\n"
     ]
    },
    {
     "name": "stderr",
     "output_type": "stream",
     "text": [
      "  9%|▉         | 436/4857 [18:57<3:26:45,  2.81s/it]"
     ]
    },
    {
     "name": "stdout",
     "output_type": "stream",
     "text": [
      "Energy Score: 0.7802685372353768\n",
      "mse 0.032066008122873434\n",
      "mae 0.10085821846433914\n"
     ]
    },
    {
     "name": "stderr",
     "output_type": "stream",
     "text": [
      "  9%|▉         | 437/4857 [19:00<3:26:13,  2.80s/it]"
     ]
    },
    {
     "name": "stdout",
     "output_type": "stream",
     "text": [
      "Energy Score: 0.7797511434781577\n",
      "mse 0.03202006153181407\n",
      "mae 0.10076303247792856\n"
     ]
    },
    {
     "name": "stderr",
     "output_type": "stream",
     "text": [
      "  9%|▉         | 438/4857 [19:03<3:32:40,  2.89s/it]"
     ]
    },
    {
     "name": "stdout",
     "output_type": "stream",
     "text": [
      "Energy Score: 0.779984862851146\n",
      "mse 0.03202189083774831\n",
      "mae 0.10075291067723588\n"
     ]
    },
    {
     "name": "stderr",
     "output_type": "stream",
     "text": [
      "  9%|▉         | 439/4857 [19:06<3:32:43,  2.89s/it]"
     ]
    },
    {
     "name": "stdout",
     "output_type": "stream",
     "text": [
      "Energy Score: 0.7791125220981528\n",
      "mse 0.03196205488493757\n",
      "mae 0.10061452619773714\n"
     ]
    },
    {
     "name": "stderr",
     "output_type": "stream",
     "text": [
      "  9%|▉         | 440/4857 [19:09<3:34:11,  2.91s/it]"
     ]
    },
    {
     "name": "stdout",
     "output_type": "stream",
     "text": [
      "Energy Score: 0.7792298470403438\n",
      "mse 0.03194695166303044\n",
      "mae 0.10061108783508128\n"
     ]
    },
    {
     "name": "stderr",
     "output_type": "stream",
     "text": [
      "  9%|▉         | 441/4857 [19:11<3:28:47,  2.84s/it]"
     ]
    },
    {
     "name": "stdout",
     "output_type": "stream",
     "text": [
      "Energy Score: 0.778261168828419\n",
      "mse 0.031885228021601\n",
      "mae 0.10045645685787981\n"
     ]
    },
    {
     "name": "stderr",
     "output_type": "stream",
     "text": [
      "  9%|▉         | 442/4857 [19:14<3:23:52,  2.77s/it]"
     ]
    },
    {
     "name": "stdout",
     "output_type": "stream",
     "text": [
      "Energy Score: 0.7779778100628099\n",
      "mse 0.03185064038508364\n",
      "mae 0.100388912977682\n"
     ]
    },
    {
     "name": "stderr",
     "output_type": "stream",
     "text": [
      "  9%|▉         | 443/4857 [19:17<3:27:15,  2.82s/it]"
     ]
    },
    {
     "name": "stdout",
     "output_type": "stream",
     "text": [
      "Energy Score: 0.7771626601054954\n",
      "mse 0.03179420308092633\n",
      "mae 0.10026076150648376\n"
     ]
    },
    {
     "name": "stderr",
     "output_type": "stream",
     "text": [
      "  9%|▉         | 444/4857 [19:20<3:25:49,  2.80s/it]"
     ]
    },
    {
     "name": "stdout",
     "output_type": "stream",
     "text": [
      "Energy Score: 0.776961025354897\n",
      "mse 0.03176152822198595\n",
      "mae 0.10019729495405243\n"
     ]
    },
    {
     "name": "stderr",
     "output_type": "stream",
     "text": [
      "  9%|▉         | 445/4857 [19:23<3:38:35,  2.97s/it]"
     ]
    },
    {
     "name": "stdout",
     "output_type": "stream",
     "text": [
      "Energy Score: 0.7765463305756917\n",
      "mse 0.03172495041121464\n",
      "mae 0.10011091113422614\n"
     ]
    },
    {
     "name": "stderr",
     "output_type": "stream",
     "text": [
      "  9%|▉         | 446/4857 [19:25<3:26:23,  2.81s/it]"
     ]
    },
    {
     "name": "stdout",
     "output_type": "stream",
     "text": [
      "Energy Score: 0.775676523471747\n",
      "mse 0.03166895607977361\n",
      "mae 0.09998469668291957\n"
     ]
    },
    {
     "name": "stderr",
     "output_type": "stream",
     "text": [
      "  9%|▉         | 447/4857 [19:28<3:33:54,  2.91s/it]"
     ]
    },
    {
     "name": "stdout",
     "output_type": "stream",
     "text": [
      "Energy Score: 0.7749825949783153\n",
      "mse 0.031620149855714486\n",
      "mae 0.09989766625379938\n"
     ]
    },
    {
     "name": "stderr",
     "output_type": "stream",
     "text": [
      "  9%|▉         | 448/4857 [19:31<3:33:19,  2.90s/it]"
     ]
    },
    {
     "name": "stdout",
     "output_type": "stream",
     "text": [
      "Energy Score: 0.775582852588374\n",
      "mse 0.031634085644545694\n",
      "mae 0.09988290550617629\n"
     ]
    },
    {
     "name": "stderr",
     "output_type": "stream",
     "text": [
      "  9%|▉         | 449/4857 [19:34<3:37:33,  2.96s/it]"
     ]
    },
    {
     "name": "stdout",
     "output_type": "stream",
     "text": [
      "Energy Score: 0.7752507452323518\n",
      "mse 0.03160297357045607\n",
      "mae 0.09981739282364557\n"
     ]
    },
    {
     "name": "stderr",
     "output_type": "stream",
     "text": [
      "  9%|▉         | 450/4857 [19:38<3:45:58,  3.08s/it]"
     ]
    },
    {
     "name": "stdout",
     "output_type": "stream",
     "text": [
      "Energy Score: 0.7749823381567029\n",
      "mse 0.03157276303735335\n",
      "mae 0.09975381313351692\n"
     ]
    },
    {
     "name": "stderr",
     "output_type": "stream",
     "text": [
      "  9%|▉         | 451/4857 [19:41<3:40:55,  3.01s/it]"
     ]
    },
    {
     "name": "stdout",
     "output_type": "stream",
     "text": [
      "Energy Score: 0.7748263416846195\n",
      "mse 0.03155183572860715\n",
      "mae 0.09972394207880816\n"
     ]
    },
    {
     "name": "stderr",
     "output_type": "stream",
     "text": [
      "  9%|▉         | 452/4857 [19:43<3:33:55,  2.91s/it]"
     ]
    },
    {
     "name": "stdout",
     "output_type": "stream",
     "text": [
      "Energy Score: 0.774381202438691\n",
      "mse 0.031506453348287666\n",
      "mae 0.09964451039224505\n"
     ]
    },
    {
     "name": "stderr",
     "output_type": "stream",
     "text": [
      "  9%|▉         | 453/4857 [19:47<3:44:26,  3.06s/it]"
     ]
    },
    {
     "name": "stdout",
     "output_type": "stream",
     "text": [
      "Energy Score: 0.7739754845038904\n",
      "mse 0.03146882383534785\n",
      "mae 0.09956614989056149\n"
     ]
    },
    {
     "name": "stderr",
     "output_type": "stream",
     "text": [
      "  9%|▉         | 454/4857 [19:50<3:43:45,  3.05s/it]"
     ]
    },
    {
     "name": "stdout",
     "output_type": "stream",
     "text": [
      "Energy Score: 0.7737599995311167\n",
      "mse 0.03143375317406376\n",
      "mae 0.09953786442728411\n"
     ]
    },
    {
     "name": "stderr",
     "output_type": "stream",
     "text": [
      "  9%|▉         | 455/4857 [19:53<3:40:04,  3.00s/it]"
     ]
    },
    {
     "name": "stdout",
     "output_type": "stream",
     "text": [
      "Energy Score: 0.7739005108523648\n",
      "mse 0.03141372007139893\n",
      "mae 0.09951266747988616\n"
     ]
    },
    {
     "name": "stderr",
     "output_type": "stream",
     "text": [
      "  9%|▉         | 456/4857 [19:56<3:39:38,  2.99s/it]"
     ]
    },
    {
     "name": "stdout",
     "output_type": "stream",
     "text": [
      "Energy Score: 0.7735215893692257\n",
      "mse 0.031383334014322355\n",
      "mae 0.09946895317552007\n"
     ]
    },
    {
     "name": "stderr",
     "output_type": "stream",
     "text": [
      "  9%|▉         | 457/4857 [19:58<3:37:00,  2.96s/it]"
     ]
    },
    {
     "name": "stdout",
     "output_type": "stream",
     "text": [
      "Energy Score: 0.7734935813920661\n",
      "mse 0.03137910925594149\n",
      "mae 0.09946436792518017\n"
     ]
    },
    {
     "name": "stderr",
     "output_type": "stream",
     "text": [
      "  9%|▉         | 458/4857 [20:02<3:39:52,  3.00s/it]"
     ]
    },
    {
     "name": "stdout",
     "output_type": "stream",
     "text": [
      "Energy Score: 0.7728138026400964\n",
      "mse 0.0313299064298361\n",
      "mae 0.09936614983928704\n"
     ]
    },
    {
     "name": "stderr",
     "output_type": "stream",
     "text": [
      "  9%|▉         | 459/4857 [20:04<3:35:34,  2.94s/it]"
     ]
    },
    {
     "name": "stdout",
     "output_type": "stream",
     "text": [
      "Energy Score: 0.772517451903232\n",
      "mse 0.031308882323702096\n",
      "mae 0.09932063996263735\n"
     ]
    },
    {
     "name": "stderr",
     "output_type": "stream",
     "text": [
      "  9%|▉         | 460/4857 [20:07<3:35:31,  2.94s/it]"
     ]
    },
    {
     "name": "stdout",
     "output_type": "stream",
     "text": [
      "Energy Score: 0.7719885385421767\n",
      "mse 0.03127280896871203\n",
      "mae 0.09923779443889554\n"
     ]
    },
    {
     "name": "stderr",
     "output_type": "stream",
     "text": [
      "  9%|▉         | 461/4857 [20:10<3:35:32,  2.94s/it]"
     ]
    },
    {
     "name": "stdout",
     "output_type": "stream",
     "text": [
      "Energy Score: 0.7711994947183506\n",
      "mse 0.0312245412759905\n",
      "mae 0.09913675672203864\n"
     ]
    },
    {
     "name": "stderr",
     "output_type": "stream",
     "text": [
      " 10%|▉         | 462/4857 [20:13<3:29:04,  2.85s/it]"
     ]
    },
    {
     "name": "stdout",
     "output_type": "stream",
     "text": [
      "Energy Score: 0.7703275029627227\n",
      "mse 0.03116966284583051\n",
      "mae 0.09904708697599106\n"
     ]
    },
    {
     "name": "stderr",
     "output_type": "stream",
     "text": [
      " 10%|▉         | 463/4857 [20:16<3:30:12,  2.87s/it]"
     ]
    },
    {
     "name": "stdout",
     "output_type": "stream",
     "text": [
      "Energy Score: 0.7698966449742497\n",
      "mse 0.03113612369045693\n",
      "mae 0.09901006243491951\n"
     ]
    },
    {
     "name": "stderr",
     "output_type": "stream",
     "text": [
      " 10%|▉         | 464/4857 [20:19<3:37:23,  2.97s/it]"
     ]
    },
    {
     "name": "stdout",
     "output_type": "stream",
     "text": [
      "Energy Score: 0.7694616856554575\n",
      "mse 0.031101559770270043\n",
      "mae 0.09897074081335275\n"
     ]
    },
    {
     "name": "stderr",
     "output_type": "stream",
     "text": [
      " 10%|▉         | 465/4857 [20:22<3:39:14,  2.99s/it]"
     ]
    },
    {
     "name": "stdout",
     "output_type": "stream",
     "text": [
      "Energy Score: 0.7686403417851643\n",
      "mse 0.031049738325730693\n",
      "mae 0.09885714208009017\n"
     ]
    },
    {
     "name": "stderr",
     "output_type": "stream",
     "text": [
      " 10%|▉         | 466/4857 [20:25<3:36:06,  2.95s/it]"
     ]
    },
    {
     "name": "stdout",
     "output_type": "stream",
     "text": [
      "Energy Score: 0.7684156665329934\n",
      "mse 0.031028895838005117\n",
      "mae 0.09879948320816079\n"
     ]
    },
    {
     "name": "stderr",
     "output_type": "stream",
     "text": [
      " 10%|▉         | 467/4857 [20:28<3:35:01,  2.94s/it]"
     ]
    },
    {
     "name": "stdout",
     "output_type": "stream",
     "text": [
      "Energy Score: 0.7675403408245152\n",
      "mse 0.030976707355553676\n",
      "mae 0.09868949849801338\n"
     ]
    },
    {
     "name": "stderr",
     "output_type": "stream",
     "text": [
      " 10%|▉         | 468/4857 [20:31<3:33:37,  2.92s/it]"
     ]
    },
    {
     "name": "stdout",
     "output_type": "stream",
     "text": [
      "Energy Score: 0.7666953631413922\n",
      "mse 0.030923755901713736\n",
      "mae 0.09857582689628397\n"
     ]
    },
    {
     "name": "stderr",
     "output_type": "stream",
     "text": [
      " 10%|▉         | 469/4857 [20:34<3:30:27,  2.88s/it]"
     ]
    },
    {
     "name": "stdout",
     "output_type": "stream",
     "text": [
      "Energy Score: 0.7664543188198271\n",
      "mse 0.030893183213010798\n",
      "mae 0.0985187501732294\n"
     ]
    },
    {
     "name": "stderr",
     "output_type": "stream",
     "text": [
      " 10%|▉         | 470/4857 [20:36<3:26:19,  2.82s/it]"
     ]
    },
    {
     "name": "stdout",
     "output_type": "stream",
     "text": [
      "Energy Score: 0.7652448216881185\n",
      "mse 0.03083156110851163\n",
      "mae 0.09836872644304133\n"
     ]
    },
    {
     "name": "stderr",
     "output_type": "stream",
     "text": [
      " 10%|▉         | 471/4857 [20:39<3:27:52,  2.84s/it]"
     ]
    },
    {
     "name": "stdout",
     "output_type": "stream",
     "text": [
      "Energy Score: 0.7650619869310223\n",
      "mse 0.030820319943009336\n",
      "mae 0.09831224184517895\n"
     ]
    },
    {
     "name": "stderr",
     "output_type": "stream",
     "text": [
      " 10%|▉         | 472/4857 [20:42<3:27:09,  2.83s/it]"
     ]
    },
    {
     "name": "stdout",
     "output_type": "stream",
     "text": [
      "Energy Score: 0.7643315183354294\n",
      "mse 0.030771279636162923\n",
      "mae 0.09818789639662381\n"
     ]
    },
    {
     "name": "stderr",
     "output_type": "stream",
     "text": [
      " 10%|▉         | 473/4857 [20:45<3:22:53,  2.78s/it]"
     ]
    },
    {
     "name": "stdout",
     "output_type": "stream",
     "text": [
      "Energy Score: 0.7640689384214993\n",
      "mse 0.030750033310487097\n",
      "mae 0.09813450385644631\n"
     ]
    },
    {
     "name": "stderr",
     "output_type": "stream",
     "text": [
      " 10%|▉         | 474/4857 [20:48<3:33:45,  2.93s/it]"
     ]
    },
    {
     "name": "stdout",
     "output_type": "stream",
     "text": [
      "Energy Score: 0.763263260719505\n",
      "mse 0.030701494247915916\n",
      "mae 0.09801517742715682\n"
     ]
    },
    {
     "name": "stderr",
     "output_type": "stream",
     "text": [
      " 10%|▉         | 475/4857 [20:51<3:40:06,  3.01s/it]"
     ]
    },
    {
     "name": "stdout",
     "output_type": "stream",
     "text": [
      "Energy Score: 0.7633758030520446\n",
      "mse 0.030688538739500386\n",
      "mae 0.09798546723677143\n"
     ]
    },
    {
     "name": "stderr",
     "output_type": "stream",
     "text": [
      " 10%|▉         | 476/4857 [20:54<3:46:41,  3.10s/it]"
     ]
    },
    {
     "name": "stdout",
     "output_type": "stream",
     "text": [
      "Energy Score: 0.7623168232772851\n",
      "mse 0.030629027353044663\n",
      "mae 0.09783935719316487\n"
     ]
    },
    {
     "name": "stderr",
     "output_type": "stream",
     "text": [
      " 10%|▉         | 477/4857 [20:57<3:32:31,  2.91s/it]"
     ]
    },
    {
     "name": "stdout",
     "output_type": "stream",
     "text": [
      "Energy Score: 0.7611448518495253\n",
      "mse 0.030568652014741706\n",
      "mae 0.09768975798563766\n"
     ]
    },
    {
     "name": "stderr",
     "output_type": "stream",
     "text": [
      " 10%|▉         | 478/4857 [20:59<3:23:04,  2.78s/it]"
     ]
    },
    {
     "name": "stdout",
     "output_type": "stream",
     "text": [
      "Energy Score: 0.7604332101919121\n",
      "mse 0.0305205770340282\n",
      "mae 0.09756466835572691\n"
     ]
    },
    {
     "name": "stderr",
     "output_type": "stream",
     "text": [
      " 10%|▉         | 479/4857 [21:02<3:11:52,  2.63s/it]"
     ]
    },
    {
     "name": "stdout",
     "output_type": "stream",
     "text": [
      "Energy Score: 0.7601371415731195\n",
      "mse 0.03049142210240902\n",
      "mae 0.09747705124318999\n"
     ]
    },
    {
     "name": "stderr",
     "output_type": "stream",
     "text": [
      " 10%|▉         | 480/4857 [21:04<3:04:24,  2.53s/it]"
     ]
    },
    {
     "name": "stdout",
     "output_type": "stream",
     "text": [
      "Energy Score: 0.7594534871474321\n",
      "mse 0.030441082443607458\n",
      "mae 0.09735968791845732\n"
     ]
    },
    {
     "name": "stderr",
     "output_type": "stream",
     "text": [
      " 10%|▉         | 481/4857 [21:06<2:52:13,  2.36s/it]"
     ]
    },
    {
     "name": "stdout",
     "output_type": "stream",
     "text": [
      "Energy Score: 0.7583836299386059\n",
      "mse 0.030382945036207105\n",
      "mae 0.09721493338410464\n"
     ]
    },
    {
     "name": "stderr",
     "output_type": "stream",
     "text": [
      " 10%|▉         | 481/4857 [21:07<3:12:15,  2.64s/it]\n"
     ]
    },
    {
     "ename": "KeyboardInterrupt",
     "evalue": "",
     "output_type": "error",
     "traceback": [
      "\u001b[1;31m---------------------------------------------------------------------------\u001b[0m",
      "\u001b[1;31mKeyboardInterrupt\u001b[0m                         Traceback (most recent call last)",
      "Cell \u001b[1;32mIn[48], line 1\u001b[0m\n\u001b[1;32m----> 1\u001b[0m calculate_metrics_model(best_flow, test_series, test_attr,scaler_data)\n",
      "Cell \u001b[1;32mIn[47], line 10\u001b[0m, in \u001b[0;36mcalculate_metrics_model\u001b[1;34m(model, test_series, test_attr, scaler_data)\u001b[0m\n\u001b[0;32m      8\u001b[0m \u001b[39mfor\u001b[39;00m i,(org_serie,attr) \u001b[39min\u001b[39;00m tqdm(\u001b[39menumerate\u001b[39m(\u001b[39mzip\u001b[39m(test_series,test_attr)),total\u001b[39m=\u001b[39m\u001b[39mlen\u001b[39m(test_attr)):\n\u001b[0;32m      9\u001b[0m     n \u001b[39m=\u001b[39m \u001b[39m50\u001b[39m\n\u001b[1;32m---> 10\u001b[0m     new_samples \u001b[39m=\u001b[39m model\u001b[39m.\u001b[39;49minvert(z\u001b[39m=\u001b[39;49mtorch\u001b[39m.\u001b[39;49mrandn(n, nb_output)\u001b[39m.\u001b[39;49mto(device), context\u001b[39m=\u001b[39;49mtorch\u001b[39m.\u001b[39;49mtensor(np\u001b[39m.\u001b[39;49mtile(attr, n)\u001b[39m.\u001b[39;49mreshape(n, cond_in))\u001b[39m.\u001b[39;49mto(device))\u001b[39m.\u001b[39mcpu()\u001b[39m.\u001b[39mdetach()\u001b[39m.\u001b[39mnumpy()\n\u001b[0;32m     11\u001b[0m     new_samples \u001b[39m=\u001b[39m scaler_data\u001b[39m.\u001b[39minverse_transform(new_samples)\n\u001b[0;32m     12\u001b[0m     energy_score\u001b[39m.\u001b[39mappend(utils\u001b[39m.\u001b[39mcalculate_energy_score([\u001b[39m1\u001b[39m\u001b[39m/\u001b[39mn]\u001b[39m*\u001b[39mn, new_samples, org_serie))\n",
      "File \u001b[1;32mc:\\Thesis\\scripts\\normalizing-flows\\../../generative-models-main\\models\\Step\\NormalizingFlow.py:176\u001b[0m, in \u001b[0;36mFCNormalizingFlow.invert\u001b[1;34m(self, z, context)\u001b[0m\n\u001b[0;32m    174\u001b[0m inv_idx \u001b[39m=\u001b[39m torch\u001b[39m.\u001b[39marange(z\u001b[39m.\u001b[39mshape[\u001b[39m1\u001b[39m] \u001b[39m-\u001b[39m \u001b[39m1\u001b[39m, \u001b[39m-\u001b[39m\u001b[39m1\u001b[39m, \u001b[39m-\u001b[39m\u001b[39m1\u001b[39m)\u001b[39m.\u001b[39mlong()\n\u001b[0;32m    175\u001b[0m \u001b[39mfor\u001b[39;00m step \u001b[39min\u001b[39;00m \u001b[39mrange\u001b[39m(\u001b[39mlen\u001b[39m(\u001b[39mself\u001b[39m\u001b[39m.\u001b[39msteps)):\n\u001b[1;32m--> 176\u001b[0m     x \u001b[39m=\u001b[39m \u001b[39mself\u001b[39;49m\u001b[39m.\u001b[39;49msteps[\u001b[39m-\u001b[39;49mstep \u001b[39m-\u001b[39;49m \u001b[39m1\u001b[39;49m]\u001b[39m.\u001b[39;49minvert(z, context)\n\u001b[0;32m    177\u001b[0m     z \u001b[39m=\u001b[39m x[:, inv_idx]\n\u001b[0;32m    178\u001b[0m \u001b[39mreturn\u001b[39;00m x\n",
      "File \u001b[1;32mc:\\Thesis\\scripts\\normalizing-flows\\../../generative-models-main\\models\\Step\\NormalizingFlow.py:104\u001b[0m, in \u001b[0;36mNormalizingFlowStep.invert\u001b[1;34m(self, z, context)\u001b[0m\n\u001b[0;32m    102\u001b[0m h \u001b[39m=\u001b[39m \u001b[39mself\u001b[39m\u001b[39m.\u001b[39mconditioner(x, context)\n\u001b[0;32m    103\u001b[0m x_prev \u001b[39m=\u001b[39m x\n\u001b[1;32m--> 104\u001b[0m x \u001b[39m=\u001b[39m \u001b[39mself\u001b[39;49m\u001b[39m.\u001b[39;49mnormalizer\u001b[39m.\u001b[39;49minverse_transform(z, h, context)\n\u001b[0;32m    105\u001b[0m \u001b[39mif\u001b[39;00m torch\u001b[39m.\u001b[39mnorm(x \u001b[39m-\u001b[39m x_prev) \u001b[39m==\u001b[39m \u001b[39m0.\u001b[39m:\n\u001b[0;32m    106\u001b[0m     \u001b[39mbreak\u001b[39;00m\n",
      "File \u001b[1;32mc:\\Thesis\\scripts\\normalizing-flows\\../../generative-models-main\\models\\Normalizers\\MonotonicNormalizer.py:90\u001b[0m, in \u001b[0;36mMonotonicNormalizer.inverse_transform\u001b[1;34m(self, z, h, context, fast)\u001b[0m\n\u001b[0;32m     88\u001b[0m \u001b[39mfor\u001b[39;00m i \u001b[39min\u001b[39;00m \u001b[39mrange\u001b[39m(\u001b[39m20\u001b[39m):\n\u001b[0;32m     89\u001b[0m     x_middle \u001b[39m=\u001b[39m (x_max \u001b[39m+\u001b[39m x_min) \u001b[39m/\u001b[39m \u001b[39m2\u001b[39m\n\u001b[1;32m---> 90\u001b[0m     z_middle, _ \u001b[39m=\u001b[39m \u001b[39mself\u001b[39;49m\u001b[39m.\u001b[39;49mforward(x_middle, h, context)\n\u001b[0;32m     91\u001b[0m     left \u001b[39m=\u001b[39m (z_middle \u001b[39m>\u001b[39m z)\u001b[39m.\u001b[39mfloat()\n\u001b[0;32m     92\u001b[0m     right \u001b[39m=\u001b[39m \u001b[39m1\u001b[39m \u001b[39m-\u001b[39m left\n",
      "File \u001b[1;32mc:\\Thesis\\scripts\\normalizing-flows\\../../generative-models-main\\models\\Normalizers\\MonotonicNormalizer.py:60\u001b[0m, in \u001b[0;36mMonotonicNormalizer.forward\u001b[1;34m(self, x, h, context)\u001b[0m\n\u001b[0;32m     57\u001b[0m     z \u001b[39m=\u001b[39m NeuralIntegral\u001b[39m.\u001b[39mapply(x0, xT, \u001b[39mself\u001b[39m\u001b[39m.\u001b[39mintegrand_net, _flatten(\u001b[39mself\u001b[39m\u001b[39m.\u001b[39mintegrand_net\u001b[39m.\u001b[39mparameters()),\n\u001b[0;32m     58\u001b[0m                              h, \u001b[39mself\u001b[39m\u001b[39m.\u001b[39mnb_steps) \u001b[39m+\u001b[39m z0\n\u001b[0;32m     59\u001b[0m \u001b[39melif\u001b[39;00m \u001b[39mself\u001b[39m\u001b[39m.\u001b[39msolver \u001b[39m==\u001b[39m \u001b[39m\"\u001b[39m\u001b[39mCCParallel\u001b[39m\u001b[39m\"\u001b[39m:\n\u001b[1;32m---> 60\u001b[0m     z \u001b[39m=\u001b[39m ParallelNeuralIntegral\u001b[39m.\u001b[39;49mapply(x0, xT, \u001b[39mself\u001b[39;49m\u001b[39m.\u001b[39;49mintegrand_net,\n\u001b[0;32m     61\u001b[0m                                      _flatten(\u001b[39mself\u001b[39;49m\u001b[39m.\u001b[39;49mintegrand_net\u001b[39m.\u001b[39;49mparameters()),\n\u001b[0;32m     62\u001b[0m                                      h, \u001b[39mself\u001b[39;49m\u001b[39m.\u001b[39;49mnb_steps) \u001b[39m+\u001b[39m z0\n\u001b[0;32m     63\u001b[0m \u001b[39melse\u001b[39;00m:\n\u001b[0;32m     64\u001b[0m     \u001b[39mreturn\u001b[39;00m \u001b[39mNone\u001b[39;00m\n",
      "File \u001b[1;32mc:\\Users\\jankr\\.conda\\envs\\torch\\lib\\site-packages\\torch\\autograd\\function.py:506\u001b[0m, in \u001b[0;36mFunction.apply\u001b[1;34m(cls, *args, **kwargs)\u001b[0m\n\u001b[0;32m    503\u001b[0m \u001b[39mif\u001b[39;00m \u001b[39mnot\u001b[39;00m torch\u001b[39m.\u001b[39m_C\u001b[39m.\u001b[39m_are_functorch_transforms_active():\n\u001b[0;32m    504\u001b[0m     \u001b[39m# See NOTE: [functorch vjp and autograd interaction]\u001b[39;00m\n\u001b[0;32m    505\u001b[0m     args \u001b[39m=\u001b[39m _functorch\u001b[39m.\u001b[39mutils\u001b[39m.\u001b[39munwrap_dead_wrappers(args)\n\u001b[1;32m--> 506\u001b[0m     \u001b[39mreturn\u001b[39;00m \u001b[39msuper\u001b[39m()\u001b[39m.\u001b[39mapply(\u001b[39m*\u001b[39margs, \u001b[39m*\u001b[39m\u001b[39m*\u001b[39mkwargs)  \u001b[39m# type: ignore[misc]\u001b[39;00m\n\u001b[0;32m    508\u001b[0m \u001b[39mif\u001b[39;00m \u001b[39mcls\u001b[39m\u001b[39m.\u001b[39msetup_context \u001b[39m==\u001b[39m _SingleLevelFunction\u001b[39m.\u001b[39msetup_context:\n\u001b[0;32m    509\u001b[0m     \u001b[39mraise\u001b[39;00m \u001b[39mRuntimeError\u001b[39;00m(\n\u001b[0;32m    510\u001b[0m         \u001b[39m'\u001b[39m\u001b[39mIn order to use an autograd.Function with functorch transforms \u001b[39m\u001b[39m'\u001b[39m\n\u001b[0;32m    511\u001b[0m         \u001b[39m'\u001b[39m\u001b[39m(vmap, grad, jvp, jacrev, ...), it must override the setup_context \u001b[39m\u001b[39m'\u001b[39m\n\u001b[0;32m    512\u001b[0m         \u001b[39m'\u001b[39m\u001b[39mstaticmethod. For more details, please see \u001b[39m\u001b[39m'\u001b[39m\n\u001b[0;32m    513\u001b[0m         \u001b[39m'\u001b[39m\u001b[39mhttps://pytorch.org/docs/master/notes/extending.func.html\u001b[39m\u001b[39m'\u001b[39m)\n",
      "File \u001b[1;32mc:\\Thesis\\scripts\\normalizing-flows\\../../generative-models-main\\UMNN\\ParallelNeuralIntegral.py:85\u001b[0m, in \u001b[0;36mParallelNeuralIntegral.forward\u001b[1;34m(ctx, x0, x, integrand, flat_params, h, nb_steps)\u001b[0m\n\u001b[0;32m     83\u001b[0m     ctx\u001b[39m.\u001b[39mintegrand \u001b[39m=\u001b[39m integrand\n\u001b[0;32m     84\u001b[0m     ctx\u001b[39m.\u001b[39mnb_steps \u001b[39m=\u001b[39m nb_steps\n\u001b[1;32m---> 85\u001b[0m     ctx\u001b[39m.\u001b[39msave_for_backward(x0\u001b[39m.\u001b[39mclone(), x\u001b[39m.\u001b[39;49mclone(), h)\n\u001b[0;32m     86\u001b[0m \u001b[39mreturn\u001b[39;00m x_tot\n",
      "\u001b[1;31mKeyboardInterrupt\u001b[0m: "
     ]
    }
   ],
   "source": [
    "calculate_metrics_model(best_flow, test_series, test_attr,scaler_data)"
   ]
  },
  {
   "cell_type": "code",
   "execution_count": 76,
   "metadata": {},
   "outputs": [
    {
     "name": "stderr",
     "output_type": "stream",
     "text": [
      "100%|██████████| 20/20 [03:12<00:00,  9.61s/it]\n"
     ]
    }
   ],
   "source": [
    "# create new test_set\n",
    "new_generated_dataset = []\n",
    "test_loader = DataLoader(test_dataset, batch_size=250, shuffle=False)\n",
    "for i,(org_serie,attr) in tqdm(enumerate(test_loader),total=len(test_loader)):\n",
    "    new_samples = best_flow.invert(z=torch.randn(len(org_serie), nb_output).to(device), context=attr.to(device)).cpu().detach().numpy()\n",
    "    new_samples = scaler_data.inverse_transform(new_samples)\n",
    "    new_generated_dataset.extend(new_samples)"
   ]
  },
  {
   "cell_type": "code",
   "execution_count": 77,
   "metadata": {},
   "outputs": [
    {
     "name": "stdout",
     "output_type": "stream",
     "text": [
      "Accuracy: 0.8391080617495712\n",
      "              precision    recall  f1-score   support\n",
      "\n",
      "         0.0       0.76      1.00      0.86      1474\n",
      "         1.0       1.00      0.67      0.81      1441\n",
      "\n",
      "    accuracy                           0.84      2915\n",
      "   macro avg       0.88      0.84      0.83      2915\n",
      "weighted avg       0.88      0.84      0.83      2915\n",
      "\n",
      "Accuracy: 1.0\n",
      "              precision    recall  f1-score   support\n",
      "\n",
      "         0.0       1.00      1.00      1.00      1474\n",
      "         1.0       1.00      1.00      1.00      1441\n",
      "\n",
      "    accuracy                           1.00      2915\n",
      "   macro avg       1.00      1.00      1.00      2915\n",
      "weighted avg       1.00      1.00      1.00      2915\n",
      "\n"
     ]
    },
    {
     "name": "stderr",
     "output_type": "stream",
     "text": [
      "c:\\Users\\jankr\\.conda\\envs\\torch\\lib\\site-packages\\sklearn\\linear_model\\_logistic.py:458: ConvergenceWarning: lbfgs failed to converge (status=1):\n",
      "STOP: TOTAL NO. of ITERATIONS REACHED LIMIT.\n",
      "\n",
      "Increase the number of iterations (max_iter) or scale the data as shown in:\n",
      "    https://scikit-learn.org/stable/modules/preprocessing.html\n",
      "Please also refer to the documentation for alternative solver options:\n",
      "    https://scikit-learn.org/stable/modules/linear_model.html#logistic-regression\n",
      "  n_iter_i = _check_optimize_result(\n"
     ]
    }
   ],
   "source": [
    "import numpy as np\n",
    "from sklearn.linear_model import LogisticRegression\n",
    "from sklearn.svm import SVC\n",
    "from sklearn.model_selection import train_test_split\n",
    "from sklearn.preprocessing import StandardScaler\n",
    "from sklearn.metrics import accuracy_score, classification_report\n",
    "\n",
    "generated_data = np.array(new_generated_dataset)\n",
    "test_series = scaler_data.inverse_transform(test_series)\n",
    "combined_data = np.vstack((test_series, generated_data))\n",
    "\n",
    "# Create labels: 0 for real, 1 for fake\n",
    "labels = np.zeros((test_series.shape[0] + generated_data.shape[0],))\n",
    "labels[test_series.shape[0]:] = 1\n",
    "\n",
    "# Split the data into training and testing sets\n",
    "X_train, X_test, y_train, y_test = train_test_split(combined_data, labels, test_size=0.3, random_state=42)\n",
    "\n",
    "# Train a logistic regression classifier\n",
    "clf = LogisticRegression()\n",
    "clf.fit(X_train, y_train)\n",
    "\n",
    "# Make predictions on the testing set\n",
    "y_pred = clf.predict(X_test)\n",
    "\n",
    "# Evaluate the classifier\n",
    "accuracy = accuracy_score(y_test, y_pred)\n",
    "print(f\"Accuracy: {accuracy}\")\n",
    "print(classification_report(y_test, y_pred))\n",
    "\n",
    "# Train an SVM classifier\n",
    "clf = SVC()\n",
    "clf.fit(X_train, y_train)\n",
    "\n",
    "# Make predictions on the testing set\n",
    "y_pred = clf.predict(X_test)\n",
    "\n",
    "# Evaluate the classifier\n",
    "accuracy = accuracy_score(y_test, y_pred)\n",
    "print(f\"Accuracy: {accuracy}\")\n",
    "print(classification_report(y_test, y_pred))"
   ]
  },
  {
   "cell_type": "code",
   "execution_count": null,
   "metadata": {},
   "outputs": [],
   "source": []
  }
 ],
 "metadata": {
  "kernelspec": {
   "display_name": "NF",
   "language": "python",
   "name": "python3"
  },
  "language_info": {
   "codemirror_mode": {
    "name": "ipython",
    "version": 3
   },
   "file_extension": ".py",
   "mimetype": "text/x-python",
   "name": "python",
   "nbconvert_exporter": "python",
   "pygments_lexer": "ipython3",
   "version": "3.9.16"
  },
  "orig_nbformat": 4
 },
 "nbformat": 4,
 "nbformat_minor": 2
}
