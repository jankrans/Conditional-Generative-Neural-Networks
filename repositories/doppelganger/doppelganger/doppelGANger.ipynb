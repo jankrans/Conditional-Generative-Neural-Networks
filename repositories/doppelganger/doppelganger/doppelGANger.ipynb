{
 "cells": [
  {
   "cell_type": "code",
   "execution_count": 1,
   "metadata": {},
   "outputs": [
    {
     "name": "stderr",
     "output_type": "stream",
     "text": [
      "c:\\Users\\jankr\\miniconda3\\envs\\tf2\\lib\\site-packages\\tensorflow_addons\\utils\\ensure_tf_install.py:53: UserWarning: Tensorflow Addons supports using Python ops for all Tensorflow versions above or equal to 2.9.0 and strictly below 2.12.0 (nightly versions are not supported). \n",
      " The versions of TensorFlow you are currently using is 2.7.0 and is not supported. \n",
      "Some things might work, some things might not.\n",
      "If you were to encounter a bug, do not file an issue.\n",
      "If you want to make sure you're using a tested and supported configuration, either change the TensorFlow version or the TensorFlow Addons's version. \n",
      "You can find the compatibility matrix in TensorFlow Addon's readme:\n",
      "https://github.com/tensorflow/addons\n",
      "  warnings.warn(\n"
     ]
    }
   ],
   "source": [
    "import sys\n",
    "sys.path.append(\"..\")\n",
    "import os\n",
    "import numpy as np\n",
    "import tensorflow as tf\n",
    "from gan.network import DoppelGANgerGenerator, Discriminator, RNNInitialStateType, AttrDiscriminator\n",
    "from gan.doppelganger import DoppelGANger\n",
    "from gan.output import OutputType, Normalization, Output\n",
    "from gan.util import add_gen_flag, normalize_per_sample\n",
    "\n",
    "from sklearn.preprocessing import OneHotEncoder\n",
    "from sklearn.compose import ColumnTransformer\n",
    "from matplotlib import pyplot as plt"
   ]
  },
  {
   "cell_type": "code",
   "execution_count": 2,
   "metadata": {},
   "outputs": [],
   "source": [
    "data_feature_outputs = [\n",
    "    Output(type_=OutputType.CONTINUOUS, dim=1, normalization=Normalization.MINUSONE_ONE, is_gen_flag=False)] # Consumption\n",
    "data_attribute_outputs = [\n",
    "    Output(type_=OutputType.CONTINUOUS, dim=1, normalization=Normalization.ZERO_ONE, is_gen_flag=False), #Yearly Offtake\n",
    "    Output(type_=OutputType.CONTINUOUS, dim=1, normalization=Normalization.ZERO_ONE, is_gen_flag=False), #Yearly Injection\n",
    "    Output(type_=OutputType.CONTINUOUS, dim=1, normalization=Normalization.ZERO_ONE, is_gen_flag=False), # Feels Like C\n",
    "    Output(type_=OutputType.CONTINUOUS, dim=1, normalization=Normalization.ZERO_ONE, is_gen_flag=False), # sunHour\n",
    "    Output(type_=OutputType.DISCRETE, dim=4, normalization=None, is_gen_flag=False), #season\n",
    "    Output(type_=OutputType.DISCRETE, dim=2, normalization=None, is_gen_flag=False)] #is_weekend"
   ]
  },
  {
   "attachments": {},
   "cell_type": "markdown",
   "metadata": {},
   "source": [
    "Load data"
   ]
  },
  {
   "cell_type": "code",
   "execution_count": 3,
   "metadata": {},
   "outputs": [],
   "source": [
    "data = np.load('../../data/train/train.npz', allow_pickle=True)\n",
    "data_feature = np.expand_dims(data['f'],axis=2)\n",
    "data_attribute = data['a'].astype(float)\n",
    "data_gen_flag = np.ones((data_feature.shape[0],data_feature.shape[1]))"
   ]
  },
  {
   "cell_type": "code",
   "execution_count": 4,
   "metadata": {},
   "outputs": [],
   "source": [
    "max_value = np.max(data_feature)\n",
    "min_value = np.min(data_feature)\n",
    "\n",
    "# Scale the array to be between -1 and 1\n",
    "normalized_array = (data_feature - min_value) * (2 / (max_value - min_value)) - 1"
   ]
  },
  {
   "attachments": {},
   "cell_type": "markdown",
   "metadata": {},
   "source": [
    "apply auto-normalization"
   ]
  },
  {
   "cell_type": "code",
   "execution_count": 5,
   "metadata": {},
   "outputs": [],
   "source": [
    "sample_len = 96 #run 1, 12, run 11 -> 12\n",
    "\n",
    "# (data_feature, data_attribute, \\\n",
    "#         data_attribute_outputs, real_attribute_mask) = normalize_per_sample(data_feature, \n",
    "#                                                                                 data_attribute, \n",
    "#                                                                                 data_feature_outputs,\n",
    "#                                                                                 data_attribute_outputs)\n",
    "\n",
    "real_attribute_mask = [True] * len(data_attribute_outputs)\n",
    "data_feature, data_feature_outputs = add_gen_flag(data_feature,\n",
    "                                                        data_gen_flag,\n",
    "                                                        data_feature_outputs,\n",
    "                                                        sample_len)"
   ]
  },
  {
   "cell_type": "code",
   "execution_count": 6,
   "metadata": {},
   "outputs": [],
   "source": [
    "initial_state = RNNInitialStateType.RANDOM #run 10 changed from RANDOM to variable, run 11, changed back\n",
    "\n",
    "generator = DoppelGANgerGenerator(\n",
    "    feed_back=False,\n",
    "    noise=True,\n",
    "    feature_outputs=data_feature_outputs,\n",
    "    attribute_outputs=data_attribute_outputs,\n",
    "    real_attribute_mask=real_attribute_mask,\n",
    "    sample_len=sample_len,\n",
    "    feature_num_layers=2,       #run 1: 1, run5:5, run 14 -> (1, 100 layers, 1, 100 layers)\n",
    "    feature_num_units=100,      #run before 5, 100\n",
    "    attribute_num_layers=2,     #run 8: -> 2\n",
    "    attribute_num_units=100,    #run before 5, 100, run 8:100\n",
    "    initial_state=initial_state)\n",
    "\n",
    "discriminator = Discriminator(\n",
    "    num_layers=5,\n",
    "    num_units=200)\n",
    "\n",
    "attr_discriminator = AttrDiscriminator(\n",
    "    num_layers=5,\n",
    "    num_units=200)"
   ]
  },
  {
   "cell_type": "code",
   "execution_count": 7,
   "metadata": {},
   "outputs": [],
   "source": [
    "run = 'run17_withmetrics'\n",
    "\n",
    "checkpoint_dir = os.path.join('results',run, \"checkpoint\")\n",
    "os.makedirs(checkpoint_dir,exist_ok=True)\n",
    "sample_dir = os.path.join('results',run, \"sample\")\n",
    "os.makedirs(sample_dir,exist_ok=True)\n",
    "time_path = os.path.join('results',run, \"time.txt\")"
   ]
  },
  {
   "cell_type": "code",
   "execution_count": 8,
   "metadata": {},
   "outputs": [],
   "source": [
    "# epoch: Number of training epochs.\n",
    "# batch_size: Training batch size.\n",
    "# sample_len: The time series batch size, i.e. the number of time steps generated at each RNN rollout (parameter S in Section 4.1).\n",
    "# aux_disc: Whether to have auxiliary discriminator (Section 4.3).\n",
    "# self_norm: Whether to do auto-normalization for each time series (Section 4.2).\n",
    "# num_packing: Packing degree in PacGAN (a method for solving mode collapse in NeurIPS 2018, see the paper and code). Setting it to 1 is equivalent to the vanilla GAN without packing.\n",
    "# noise: Whether to input noise at each RNN rollout.\n",
    "# feed_back: Whether to input the generated values from the previous rollout at each RNN rollout.\n",
    "# g_lr: The learning rate in Adam for training the generator\n",
    "# d_lr: The learning rate in Adam for training the discriminator.\n",
    "# d_gp_coe: Weight of gradient penalty loss in Wasserstein GAN for the discriminator.\n",
    "# attr_d_lr: The learning rate in Adam for training the auxiliary discriminator.\n",
    "# attr_d_gp_coe: Weight of gradient penalty loss in Wasserstein GAN for the auxiliary discriminator.\n",
    "# d_rounds: Number of discriminator steps per batch.\n",
    "# g_rounds: Number of generator steps per batch.\n",
    "# gen_feature_num_layers: Number of layers in the time series generator (RNN).\n",
    "# gen_feature_num_units: Number of units in each layer of the time series generator (RNN).\n",
    "# gen_attribute_num_layers: Number of layers in the attribute (metadata) generator.\n",
    "# gen_attribute_num_units: Number of units in each layer of the attribute (metadata) generator.\n",
    "# attr_disc_num_layers: Number of layers in the auxiliary discriminator.\n",
    "# attr_disc_num_units: Number of units in each layer of the auxiliary discriminator.\n",
    "# disc_num_layers: Number of layers in the discriminator.\n",
    "# disc_num_units: Number of units in each layer of the auxiliary discriminator.\n",
    "# initial_state: The initial state for the RNN: \"random\" means setting the initial state to random numbers; \"zero\" means setting the initial state to zeros; \"variable\" means setting the inital state to be learnable parameters.\n",
    "# extra_checkpoint_freq: The frequency of saving the trained model in a separated folder (unit: epoch).\n",
    "# epoch_checkpoint_freq: The frequency of saving the trained model (unit: epoch).\n",
    "# vis_freq: The frequency of visualizing generated samples during training (unit: training batch).\n",
    "# vis_num_sample: The number of samples to visualize each time during training."
   ]
  },
  {
   "cell_type": "code",
   "execution_count": 9,
   "metadata": {},
   "outputs": [
    {
     "name": "stdout",
     "output_type": "stream",
     "text": [
      "Tensor(\"g_feature_input_data_train_0:0\", shape=(None, 288), dtype=float32)\n",
      "(None, 288)\n",
      "WARNING:tensorflow:From c:\\Users\\jankr\\miniconda3\\envs\\tf2\\lib\\site-packages\\keras\\layers\\normalization\\batch_normalization.py:532: _colocate_with (from tensorflow.python.framework.ops) is deprecated and will be removed in a future version.\n",
      "Instructions for updating:\n",
      "Colocations handled automatically by placer.\n",
      "WARNING:tensorflow:`tf.nn.rnn_cell.MultiRNNCell` is deprecated. This class is equivalent as `tf.keras.layers.StackedRNNCells`, and will be replaced by that in Tensorflow 2.0.\n",
      "WARNING:tensorflow:From c:\\Users\\jankr\\miniconda3\\envs\\tf2\\lib\\site-packages\\keras\\layers\\legacy_rnn\\rnn_cell_impl.py:992: calling Zeros.__init__ (from tensorflow.python.ops.init_ops) with dtype is deprecated and will be removed in a future version.\n",
      "Instructions for updating:\n",
      "Call initializer instance with the dtype argument instead of passing it to the constructor\n"
     ]
    },
    {
     "name": "stderr",
     "output_type": "stream",
     "text": [
      "c:\\Thesis\\DoppelGANger-TF2\\scripts_generate\\..\\gan\\op.py:11: UserWarning: `tf.layers.dense` is deprecated and will be removed in a future version. Please use `tf.keras.layers.Dense` instead.\n",
      "  output = tf.compat.v1.layers.dense(\n",
      "c:\\Users\\jankr\\miniconda3\\envs\\tf2\\lib\\site-packages\\keras\\legacy_tf_layers\\core.py:255: UserWarning: `layer.apply` is deprecated and will be removed in a future version. Please use `layer.__call__` method instead.\n",
      "  return layer.apply(inputs)\n",
      "c:\\Thesis\\DoppelGANger-TF2\\scripts_generate\\..\\gan\\network.py:299: UserWarning: `tf.nn.rnn_cell.LSTMCell` is deprecated and will be removed in a future version. This class is equivalent as `tf.keras.layers.LSTMCell`, and will be replaced by that in Tensorflow 2.0.\n",
      "  cell = tf.compat.v1.nn.rnn_cell.LSTMCell(\n",
      "c:\\Users\\jankr\\miniconda3\\envs\\tf2\\lib\\site-packages\\keras\\layers\\legacy_rnn\\rnn_cell_impl.py:984: UserWarning: `layer.add_variable` is deprecated and will be removed in a future version. Please use `layer.add_weight` method instead.\n",
      "  self._kernel = self.add_variable(\n",
      "c:\\Users\\jankr\\miniconda3\\envs\\tf2\\lib\\site-packages\\keras\\layers\\legacy_rnn\\rnn_cell_impl.py:993: UserWarning: `layer.add_variable` is deprecated and will be removed in a future version. Please use `layer.add_weight` method instead.\n",
      "  self._bias = self.add_variable(\n"
     ]
    },
    {
     "name": "stdout",
     "output_type": "stream",
     "text": [
      "Tensor(\"g_feature_input_data_test_teacher:0\", shape=(None, None, 288), dtype=float32)\n",
      "(None, None, 288)\n",
      "WARNING:tensorflow:`tf.nn.rnn_cell.MultiRNNCell` is deprecated. This class is equivalent as `tf.keras.layers.StackedRNNCells`, and will be replaced by that in Tensorflow 2.0.\n",
      "Tensor(\"g_feature_input_data_test_free:0\", shape=(None, 288), dtype=float32)\n",
      "(None, 288)\n",
      "WARNING:tensorflow:`tf.nn.rnn_cell.MultiRNNCell` is deprecated. This class is equivalent as `tf.keras.layers.StackedRNNCells`, and will be replaced by that in Tensorflow 2.0.\n",
      "Tensor(\"g_feature_input_data_test_free:0\", shape=(None, 288), dtype=float32)\n",
      "(None, 288)\n",
      "WARNING:tensorflow:`tf.nn.rnn_cell.MultiRNNCell` is deprecated. This class is equivalent as `tf.keras.layers.StackedRNNCells`, and will be replaced by that in Tensorflow 2.0.\n",
      "Layers of DoppelGANgerGenerator\n",
      "[<tf.Variable 'DoppelGANgerGenerator/attribute_real/layer0/linear/dense/kernel:0' shape=(5, 100) dtype=float32>, <tf.Variable 'DoppelGANgerGenerator/attribute_real/layer0/linear/dense/bias:0' shape=(100,) dtype=float32>, <tf.Variable 'DoppelGANgerGenerator/attribute_real/layer0/batch_norm_1/gamma:0' shape=(100,) dtype=float32>, <tf.Variable 'DoppelGANgerGenerator/attribute_real/layer0/batch_norm_1/beta:0' shape=(100,) dtype=float32>, <tf.Variable 'DoppelGANgerGenerator/attribute_real/layer0/batch_norm_1/moving_mean:0' shape=(100,) dtype=float32>, <tf.Variable 'DoppelGANgerGenerator/attribute_real/layer0/batch_norm_1/moving_variance:0' shape=(100,) dtype=float32>, <tf.Variable 'DoppelGANgerGenerator/attribute_real/layer1/output0/linear/dense/kernel:0' shape=(100, 1) dtype=float32>, <tf.Variable 'DoppelGANgerGenerator/attribute_real/layer1/output0/linear/dense/bias:0' shape=(1,) dtype=float32>, <tf.Variable 'DoppelGANgerGenerator/attribute_real/layer1/output1/linear/dense/kernel:0' shape=(100, 1) dtype=float32>, <tf.Variable 'DoppelGANgerGenerator/attribute_real/layer1/output1/linear/dense/bias:0' shape=(1,) dtype=float32>, <tf.Variable 'DoppelGANgerGenerator/attribute_real/layer1/output2/linear/dense/kernel:0' shape=(100, 1) dtype=float32>, <tf.Variable 'DoppelGANgerGenerator/attribute_real/layer1/output2/linear/dense/bias:0' shape=(1,) dtype=float32>, <tf.Variable 'DoppelGANgerGenerator/attribute_real/layer1/output3/linear/dense/kernel:0' shape=(100, 1) dtype=float32>, <tf.Variable 'DoppelGANgerGenerator/attribute_real/layer1/output3/linear/dense/bias:0' shape=(1,) dtype=float32>, <tf.Variable 'DoppelGANgerGenerator/attribute_real/layer1/output4/linear/dense/kernel:0' shape=(100, 4) dtype=float32>, <tf.Variable 'DoppelGANgerGenerator/attribute_real/layer1/output4/linear/dense/bias:0' shape=(4,) dtype=float32>, <tf.Variable 'DoppelGANgerGenerator/attribute_real/layer1/output5/linear/dense/kernel:0' shape=(100, 2) dtype=float32>, <tf.Variable 'DoppelGANgerGenerator/attribute_real/layer1/output5/linear/dense/bias:0' shape=(2,) dtype=float32>, <tf.Variable 'DoppelGANgerGenerator/feature/multi_rnn_cell/cell_0/lstm_cell/kernel:0' shape=(115, 400) dtype=float32>, <tf.Variable 'DoppelGANgerGenerator/feature/multi_rnn_cell/cell_0/lstm_cell/bias:0' shape=(400,) dtype=float32>, <tf.Variable 'DoppelGANgerGenerator/feature/multi_rnn_cell/cell_1/lstm_cell/kernel:0' shape=(200, 400) dtype=float32>, <tf.Variable 'DoppelGANgerGenerator/feature/multi_rnn_cell/cell_1/lstm_cell/bias:0' shape=(400,) dtype=float32>, <tf.Variable 'DoppelGANgerGenerator/feature/output0/linear/dense/kernel:0' shape=(100, 1) dtype=float32>, <tf.Variable 'DoppelGANgerGenerator/feature/output0/linear/dense/bias:0' shape=(1,) dtype=float32>, <tf.Variable 'DoppelGANgerGenerator/feature/output1/linear/dense/kernel:0' shape=(100, 2) dtype=float32>, <tf.Variable 'DoppelGANgerGenerator/feature/output1/linear/dense/bias:0' shape=(2,) dtype=float32>, <tf.Variable 'DoppelGANgerGenerator/feature/output2/linear/dense/kernel:0' shape=(100, 1) dtype=float32>, <tf.Variable 'DoppelGANgerGenerator/feature/output2/linear/dense/bias:0' shape=(1,) dtype=float32>, <tf.Variable 'DoppelGANgerGenerator/feature/output3/linear/dense/kernel:0' shape=(100, 2) dtype=float32>, <tf.Variable 'DoppelGANgerGenerator/feature/output3/linear/dense/bias:0' shape=(2,) dtype=float32>, <tf.Variable 'DoppelGANgerGenerator/feature/output4/linear/dense/kernel:0' shape=(100, 1) dtype=float32>, <tf.Variable 'DoppelGANgerGenerator/feature/output4/linear/dense/bias:0' shape=(1,) dtype=float32>, <tf.Variable 'DoppelGANgerGenerator/feature/output5/linear/dense/kernel:0' shape=(100, 2) dtype=float32>, <tf.Variable 'DoppelGANgerGenerator/feature/output5/linear/dense/bias:0' shape=(2,) dtype=float32>, <tf.Variable 'DoppelGANgerGenerator/feature/output6/linear/dense/kernel:0' shape=(100, 1) dtype=float32>, <tf.Variable 'DoppelGANgerGenerator/feature/output6/linear/dense/bias:0' shape=(1,) dtype=float32>, <tf.Variable 'DoppelGANgerGenerator/feature/output7/linear/dense/kernel:0' shape=(100, 2) dtype=float32>, <tf.Variable 'DoppelGANgerGenerator/feature/output7/linear/dense/bias:0' shape=(2,) dtype=float32>, <tf.Variable 'DoppelGANgerGenerator/feature/output8/linear/dense/kernel:0' shape=(100, 1) dtype=float32>, <tf.Variable 'DoppelGANgerGenerator/feature/output8/linear/dense/bias:0' shape=(1,) dtype=float32>, <tf.Variable 'DoppelGANgerGenerator/feature/output9/linear/dense/kernel:0' shape=(100, 2) dtype=float32>, <tf.Variable 'DoppelGANgerGenerator/feature/output9/linear/dense/bias:0' shape=(2,) dtype=float32>, <tf.Variable 'DoppelGANgerGenerator/feature/output10/linear/dense/kernel:0' shape=(100, 1) dtype=float32>, <tf.Variable 'DoppelGANgerGenerator/feature/output10/linear/dense/bias:0' shape=(1,) dtype=float32>, <tf.Variable 'DoppelGANgerGenerator/feature/output11/linear/dense/kernel:0' shape=(100, 2) dtype=float32>, <tf.Variable 'DoppelGANgerGenerator/feature/output11/linear/dense/bias:0' shape=(2,) dtype=float32>, <tf.Variable 'DoppelGANgerGenerator/feature/output12/linear/dense/kernel:0' shape=(100, 1) dtype=float32>, <tf.Variable 'DoppelGANgerGenerator/feature/output12/linear/dense/bias:0' shape=(1,) dtype=float32>, <tf.Variable 'DoppelGANgerGenerator/feature/output13/linear/dense/kernel:0' shape=(100, 2) dtype=float32>, <tf.Variable 'DoppelGANgerGenerator/feature/output13/linear/dense/bias:0' shape=(2,) dtype=float32>, <tf.Variable 'DoppelGANgerGenerator/feature/output14/linear/dense/kernel:0' shape=(100, 1) dtype=float32>, <tf.Variable 'DoppelGANgerGenerator/feature/output14/linear/dense/bias:0' shape=(1,) dtype=float32>, <tf.Variable 'DoppelGANgerGenerator/feature/output15/linear/dense/kernel:0' shape=(100, 2) dtype=float32>, <tf.Variable 'DoppelGANgerGenerator/feature/output15/linear/dense/bias:0' shape=(2,) dtype=float32>, <tf.Variable 'DoppelGANgerGenerator/feature/output16/linear/dense/kernel:0' shape=(100, 1) dtype=float32>, <tf.Variable 'DoppelGANgerGenerator/feature/output16/linear/dense/bias:0' shape=(1,) dtype=float32>, <tf.Variable 'DoppelGANgerGenerator/feature/output17/linear/dense/kernel:0' shape=(100, 2) dtype=float32>, <tf.Variable 'DoppelGANgerGenerator/feature/output17/linear/dense/bias:0' shape=(2,) dtype=float32>, <tf.Variable 'DoppelGANgerGenerator/feature/output18/linear/dense/kernel:0' shape=(100, 1) dtype=float32>, <tf.Variable 'DoppelGANgerGenerator/feature/output18/linear/dense/bias:0' shape=(1,) dtype=float32>, <tf.Variable 'DoppelGANgerGenerator/feature/output19/linear/dense/kernel:0' shape=(100, 2) dtype=float32>, <tf.Variable 'DoppelGANgerGenerator/feature/output19/linear/dense/bias:0' shape=(2,) dtype=float32>, <tf.Variable 'DoppelGANgerGenerator/feature/output20/linear/dense/kernel:0' shape=(100, 1) dtype=float32>, <tf.Variable 'DoppelGANgerGenerator/feature/output20/linear/dense/bias:0' shape=(1,) dtype=float32>, <tf.Variable 'DoppelGANgerGenerator/feature/output21/linear/dense/kernel:0' shape=(100, 2) dtype=float32>, <tf.Variable 'DoppelGANgerGenerator/feature/output21/linear/dense/bias:0' shape=(2,) dtype=float32>, <tf.Variable 'DoppelGANgerGenerator/feature/output22/linear/dense/kernel:0' shape=(100, 1) dtype=float32>, <tf.Variable 'DoppelGANgerGenerator/feature/output22/linear/dense/bias:0' shape=(1,) dtype=float32>, <tf.Variable 'DoppelGANgerGenerator/feature/output23/linear/dense/kernel:0' shape=(100, 2) dtype=float32>, <tf.Variable 'DoppelGANgerGenerator/feature/output23/linear/dense/bias:0' shape=(2,) dtype=float32>, <tf.Variable 'DoppelGANgerGenerator/feature/output24/linear/dense/kernel:0' shape=(100, 1) dtype=float32>, <tf.Variable 'DoppelGANgerGenerator/feature/output24/linear/dense/bias:0' shape=(1,) dtype=float32>, <tf.Variable 'DoppelGANgerGenerator/feature/output25/linear/dense/kernel:0' shape=(100, 2) dtype=float32>, <tf.Variable 'DoppelGANgerGenerator/feature/output25/linear/dense/bias:0' shape=(2,) dtype=float32>, <tf.Variable 'DoppelGANgerGenerator/feature/output26/linear/dense/kernel:0' shape=(100, 1) dtype=float32>, <tf.Variable 'DoppelGANgerGenerator/feature/output26/linear/dense/bias:0' shape=(1,) dtype=float32>, <tf.Variable 'DoppelGANgerGenerator/feature/output27/linear/dense/kernel:0' shape=(100, 2) dtype=float32>, <tf.Variable 'DoppelGANgerGenerator/feature/output27/linear/dense/bias:0' shape=(2,) dtype=float32>, <tf.Variable 'DoppelGANgerGenerator/feature/output28/linear/dense/kernel:0' shape=(100, 1) dtype=float32>, <tf.Variable 'DoppelGANgerGenerator/feature/output28/linear/dense/bias:0' shape=(1,) dtype=float32>, <tf.Variable 'DoppelGANgerGenerator/feature/output29/linear/dense/kernel:0' shape=(100, 2) dtype=float32>, <tf.Variable 'DoppelGANgerGenerator/feature/output29/linear/dense/bias:0' shape=(2,) dtype=float32>, <tf.Variable 'DoppelGANgerGenerator/feature/output30/linear/dense/kernel:0' shape=(100, 1) dtype=float32>, <tf.Variable 'DoppelGANgerGenerator/feature/output30/linear/dense/bias:0' shape=(1,) dtype=float32>, <tf.Variable 'DoppelGANgerGenerator/feature/output31/linear/dense/kernel:0' shape=(100, 2) dtype=float32>, <tf.Variable 'DoppelGANgerGenerator/feature/output31/linear/dense/bias:0' shape=(2,) dtype=float32>, <tf.Variable 'DoppelGANgerGenerator/feature/output32/linear/dense/kernel:0' shape=(100, 1) dtype=float32>, <tf.Variable 'DoppelGANgerGenerator/feature/output32/linear/dense/bias:0' shape=(1,) dtype=float32>, <tf.Variable 'DoppelGANgerGenerator/feature/output33/linear/dense/kernel:0' shape=(100, 2) dtype=float32>, <tf.Variable 'DoppelGANgerGenerator/feature/output33/linear/dense/bias:0' shape=(2,) dtype=float32>, <tf.Variable 'DoppelGANgerGenerator/feature/output34/linear/dense/kernel:0' shape=(100, 1) dtype=float32>, <tf.Variable 'DoppelGANgerGenerator/feature/output34/linear/dense/bias:0' shape=(1,) dtype=float32>, <tf.Variable 'DoppelGANgerGenerator/feature/output35/linear/dense/kernel:0' shape=(100, 2) dtype=float32>, <tf.Variable 'DoppelGANgerGenerator/feature/output35/linear/dense/bias:0' shape=(2,) dtype=float32>, <tf.Variable 'DoppelGANgerGenerator/feature/output36/linear/dense/kernel:0' shape=(100, 1) dtype=float32>, <tf.Variable 'DoppelGANgerGenerator/feature/output36/linear/dense/bias:0' shape=(1,) dtype=float32>, <tf.Variable 'DoppelGANgerGenerator/feature/output37/linear/dense/kernel:0' shape=(100, 2) dtype=float32>, <tf.Variable 'DoppelGANgerGenerator/feature/output37/linear/dense/bias:0' shape=(2,) dtype=float32>, <tf.Variable 'DoppelGANgerGenerator/feature/output38/linear/dense/kernel:0' shape=(100, 1) dtype=float32>, <tf.Variable 'DoppelGANgerGenerator/feature/output38/linear/dense/bias:0' shape=(1,) dtype=float32>, <tf.Variable 'DoppelGANgerGenerator/feature/output39/linear/dense/kernel:0' shape=(100, 2) dtype=float32>, <tf.Variable 'DoppelGANgerGenerator/feature/output39/linear/dense/bias:0' shape=(2,) dtype=float32>, <tf.Variable 'DoppelGANgerGenerator/feature/output40/linear/dense/kernel:0' shape=(100, 1) dtype=float32>, <tf.Variable 'DoppelGANgerGenerator/feature/output40/linear/dense/bias:0' shape=(1,) dtype=float32>, <tf.Variable 'DoppelGANgerGenerator/feature/output41/linear/dense/kernel:0' shape=(100, 2) dtype=float32>, <tf.Variable 'DoppelGANgerGenerator/feature/output41/linear/dense/bias:0' shape=(2,) dtype=float32>, <tf.Variable 'DoppelGANgerGenerator/feature/output42/linear/dense/kernel:0' shape=(100, 1) dtype=float32>, <tf.Variable 'DoppelGANgerGenerator/feature/output42/linear/dense/bias:0' shape=(1,) dtype=float32>, <tf.Variable 'DoppelGANgerGenerator/feature/output43/linear/dense/kernel:0' shape=(100, 2) dtype=float32>, <tf.Variable 'DoppelGANgerGenerator/feature/output43/linear/dense/bias:0' shape=(2,) dtype=float32>, <tf.Variable 'DoppelGANgerGenerator/feature/output44/linear/dense/kernel:0' shape=(100, 1) dtype=float32>, <tf.Variable 'DoppelGANgerGenerator/feature/output44/linear/dense/bias:0' shape=(1,) dtype=float32>, <tf.Variable 'DoppelGANgerGenerator/feature/output45/linear/dense/kernel:0' shape=(100, 2) dtype=float32>, <tf.Variable 'DoppelGANgerGenerator/feature/output45/linear/dense/bias:0' shape=(2,) dtype=float32>, <tf.Variable 'DoppelGANgerGenerator/feature/output46/linear/dense/kernel:0' shape=(100, 1) dtype=float32>, <tf.Variable 'DoppelGANgerGenerator/feature/output46/linear/dense/bias:0' shape=(1,) dtype=float32>, <tf.Variable 'DoppelGANgerGenerator/feature/output47/linear/dense/kernel:0' shape=(100, 2) dtype=float32>, <tf.Variable 'DoppelGANgerGenerator/feature/output47/linear/dense/bias:0' shape=(2,) dtype=float32>, <tf.Variable 'DoppelGANgerGenerator/feature/output48/linear/dense/kernel:0' shape=(100, 1) dtype=float32>, <tf.Variable 'DoppelGANgerGenerator/feature/output48/linear/dense/bias:0' shape=(1,) dtype=float32>, <tf.Variable 'DoppelGANgerGenerator/feature/output49/linear/dense/kernel:0' shape=(100, 2) dtype=float32>, <tf.Variable 'DoppelGANgerGenerator/feature/output49/linear/dense/bias:0' shape=(2,) dtype=float32>, <tf.Variable 'DoppelGANgerGenerator/feature/output50/linear/dense/kernel:0' shape=(100, 1) dtype=float32>, <tf.Variable 'DoppelGANgerGenerator/feature/output50/linear/dense/bias:0' shape=(1,) dtype=float32>, <tf.Variable 'DoppelGANgerGenerator/feature/output51/linear/dense/kernel:0' shape=(100, 2) dtype=float32>, <tf.Variable 'DoppelGANgerGenerator/feature/output51/linear/dense/bias:0' shape=(2,) dtype=float32>, <tf.Variable 'DoppelGANgerGenerator/feature/output52/linear/dense/kernel:0' shape=(100, 1) dtype=float32>, <tf.Variable 'DoppelGANgerGenerator/feature/output52/linear/dense/bias:0' shape=(1,) dtype=float32>, <tf.Variable 'DoppelGANgerGenerator/feature/output53/linear/dense/kernel:0' shape=(100, 2) dtype=float32>, <tf.Variable 'DoppelGANgerGenerator/feature/output53/linear/dense/bias:0' shape=(2,) dtype=float32>, <tf.Variable 'DoppelGANgerGenerator/feature/output54/linear/dense/kernel:0' shape=(100, 1) dtype=float32>, <tf.Variable 'DoppelGANgerGenerator/feature/output54/linear/dense/bias:0' shape=(1,) dtype=float32>, <tf.Variable 'DoppelGANgerGenerator/feature/output55/linear/dense/kernel:0' shape=(100, 2) dtype=float32>, <tf.Variable 'DoppelGANgerGenerator/feature/output55/linear/dense/bias:0' shape=(2,) dtype=float32>, <tf.Variable 'DoppelGANgerGenerator/feature/output56/linear/dense/kernel:0' shape=(100, 1) dtype=float32>, <tf.Variable 'DoppelGANgerGenerator/feature/output56/linear/dense/bias:0' shape=(1,) dtype=float32>, <tf.Variable 'DoppelGANgerGenerator/feature/output57/linear/dense/kernel:0' shape=(100, 2) dtype=float32>, <tf.Variable 'DoppelGANgerGenerator/feature/output57/linear/dense/bias:0' shape=(2,) dtype=float32>, <tf.Variable 'DoppelGANgerGenerator/feature/output58/linear/dense/kernel:0' shape=(100, 1) dtype=float32>, <tf.Variable 'DoppelGANgerGenerator/feature/output58/linear/dense/bias:0' shape=(1,) dtype=float32>, <tf.Variable 'DoppelGANgerGenerator/feature/output59/linear/dense/kernel:0' shape=(100, 2) dtype=float32>, <tf.Variable 'DoppelGANgerGenerator/feature/output59/linear/dense/bias:0' shape=(2,) dtype=float32>, <tf.Variable 'DoppelGANgerGenerator/feature/output60/linear/dense/kernel:0' shape=(100, 1) dtype=float32>, <tf.Variable 'DoppelGANgerGenerator/feature/output60/linear/dense/bias:0' shape=(1,) dtype=float32>, <tf.Variable 'DoppelGANgerGenerator/feature/output61/linear/dense/kernel:0' shape=(100, 2) dtype=float32>, <tf.Variable 'DoppelGANgerGenerator/feature/output61/linear/dense/bias:0' shape=(2,) dtype=float32>, <tf.Variable 'DoppelGANgerGenerator/feature/output62/linear/dense/kernel:0' shape=(100, 1) dtype=float32>, <tf.Variable 'DoppelGANgerGenerator/feature/output62/linear/dense/bias:0' shape=(1,) dtype=float32>, <tf.Variable 'DoppelGANgerGenerator/feature/output63/linear/dense/kernel:0' shape=(100, 2) dtype=float32>, <tf.Variable 'DoppelGANgerGenerator/feature/output63/linear/dense/bias:0' shape=(2,) dtype=float32>, <tf.Variable 'DoppelGANgerGenerator/feature/output64/linear/dense/kernel:0' shape=(100, 1) dtype=float32>, <tf.Variable 'DoppelGANgerGenerator/feature/output64/linear/dense/bias:0' shape=(1,) dtype=float32>, <tf.Variable 'DoppelGANgerGenerator/feature/output65/linear/dense/kernel:0' shape=(100, 2) dtype=float32>, <tf.Variable 'DoppelGANgerGenerator/feature/output65/linear/dense/bias:0' shape=(2,) dtype=float32>, <tf.Variable 'DoppelGANgerGenerator/feature/output66/linear/dense/kernel:0' shape=(100, 1) dtype=float32>, <tf.Variable 'DoppelGANgerGenerator/feature/output66/linear/dense/bias:0' shape=(1,) dtype=float32>, <tf.Variable 'DoppelGANgerGenerator/feature/output67/linear/dense/kernel:0' shape=(100, 2) dtype=float32>, <tf.Variable 'DoppelGANgerGenerator/feature/output67/linear/dense/bias:0' shape=(2,) dtype=float32>, <tf.Variable 'DoppelGANgerGenerator/feature/output68/linear/dense/kernel:0' shape=(100, 1) dtype=float32>, <tf.Variable 'DoppelGANgerGenerator/feature/output68/linear/dense/bias:0' shape=(1,) dtype=float32>, <tf.Variable 'DoppelGANgerGenerator/feature/output69/linear/dense/kernel:0' shape=(100, 2) dtype=float32>, <tf.Variable 'DoppelGANgerGenerator/feature/output69/linear/dense/bias:0' shape=(2,) dtype=float32>, <tf.Variable 'DoppelGANgerGenerator/feature/output70/linear/dense/kernel:0' shape=(100, 1) dtype=float32>, <tf.Variable 'DoppelGANgerGenerator/feature/output70/linear/dense/bias:0' shape=(1,) dtype=float32>, <tf.Variable 'DoppelGANgerGenerator/feature/output71/linear/dense/kernel:0' shape=(100, 2) dtype=float32>, <tf.Variable 'DoppelGANgerGenerator/feature/output71/linear/dense/bias:0' shape=(2,) dtype=float32>, <tf.Variable 'DoppelGANgerGenerator/feature/output72/linear/dense/kernel:0' shape=(100, 1) dtype=float32>, <tf.Variable 'DoppelGANgerGenerator/feature/output72/linear/dense/bias:0' shape=(1,) dtype=float32>, <tf.Variable 'DoppelGANgerGenerator/feature/output73/linear/dense/kernel:0' shape=(100, 2) dtype=float32>, <tf.Variable 'DoppelGANgerGenerator/feature/output73/linear/dense/bias:0' shape=(2,) dtype=float32>, <tf.Variable 'DoppelGANgerGenerator/feature/output74/linear/dense/kernel:0' shape=(100, 1) dtype=float32>, <tf.Variable 'DoppelGANgerGenerator/feature/output74/linear/dense/bias:0' shape=(1,) dtype=float32>, <tf.Variable 'DoppelGANgerGenerator/feature/output75/linear/dense/kernel:0' shape=(100, 2) dtype=float32>, <tf.Variable 'DoppelGANgerGenerator/feature/output75/linear/dense/bias:0' shape=(2,) dtype=float32>, <tf.Variable 'DoppelGANgerGenerator/feature/output76/linear/dense/kernel:0' shape=(100, 1) dtype=float32>, <tf.Variable 'DoppelGANgerGenerator/feature/output76/linear/dense/bias:0' shape=(1,) dtype=float32>, <tf.Variable 'DoppelGANgerGenerator/feature/output77/linear/dense/kernel:0' shape=(100, 2) dtype=float32>, <tf.Variable 'DoppelGANgerGenerator/feature/output77/linear/dense/bias:0' shape=(2,) dtype=float32>, <tf.Variable 'DoppelGANgerGenerator/feature/output78/linear/dense/kernel:0' shape=(100, 1) dtype=float32>, <tf.Variable 'DoppelGANgerGenerator/feature/output78/linear/dense/bias:0' shape=(1,) dtype=float32>, <tf.Variable 'DoppelGANgerGenerator/feature/output79/linear/dense/kernel:0' shape=(100, 2) dtype=float32>, <tf.Variable 'DoppelGANgerGenerator/feature/output79/linear/dense/bias:0' shape=(2,) dtype=float32>, <tf.Variable 'DoppelGANgerGenerator/feature/output80/linear/dense/kernel:0' shape=(100, 1) dtype=float32>, <tf.Variable 'DoppelGANgerGenerator/feature/output80/linear/dense/bias:0' shape=(1,) dtype=float32>, <tf.Variable 'DoppelGANgerGenerator/feature/output81/linear/dense/kernel:0' shape=(100, 2) dtype=float32>, <tf.Variable 'DoppelGANgerGenerator/feature/output81/linear/dense/bias:0' shape=(2,) dtype=float32>, <tf.Variable 'DoppelGANgerGenerator/feature/output82/linear/dense/kernel:0' shape=(100, 1) dtype=float32>, <tf.Variable 'DoppelGANgerGenerator/feature/output82/linear/dense/bias:0' shape=(1,) dtype=float32>, <tf.Variable 'DoppelGANgerGenerator/feature/output83/linear/dense/kernel:0' shape=(100, 2) dtype=float32>, <tf.Variable 'DoppelGANgerGenerator/feature/output83/linear/dense/bias:0' shape=(2,) dtype=float32>, <tf.Variable 'DoppelGANgerGenerator/feature/output84/linear/dense/kernel:0' shape=(100, 1) dtype=float32>, <tf.Variable 'DoppelGANgerGenerator/feature/output84/linear/dense/bias:0' shape=(1,) dtype=float32>, <tf.Variable 'DoppelGANgerGenerator/feature/output85/linear/dense/kernel:0' shape=(100, 2) dtype=float32>, <tf.Variable 'DoppelGANgerGenerator/feature/output85/linear/dense/bias:0' shape=(2,) dtype=float32>, <tf.Variable 'DoppelGANgerGenerator/feature/output86/linear/dense/kernel:0' shape=(100, 1) dtype=float32>, <tf.Variable 'DoppelGANgerGenerator/feature/output86/linear/dense/bias:0' shape=(1,) dtype=float32>, <tf.Variable 'DoppelGANgerGenerator/feature/output87/linear/dense/kernel:0' shape=(100, 2) dtype=float32>, <tf.Variable 'DoppelGANgerGenerator/feature/output87/linear/dense/bias:0' shape=(2,) dtype=float32>, <tf.Variable 'DoppelGANgerGenerator/feature/output88/linear/dense/kernel:0' shape=(100, 1) dtype=float32>, <tf.Variable 'DoppelGANgerGenerator/feature/output88/linear/dense/bias:0' shape=(1,) dtype=float32>, <tf.Variable 'DoppelGANgerGenerator/feature/output89/linear/dense/kernel:0' shape=(100, 2) dtype=float32>, <tf.Variable 'DoppelGANgerGenerator/feature/output89/linear/dense/bias:0' shape=(2,) dtype=float32>, <tf.Variable 'DoppelGANgerGenerator/feature/output90/linear/dense/kernel:0' shape=(100, 1) dtype=float32>, <tf.Variable 'DoppelGANgerGenerator/feature/output90/linear/dense/bias:0' shape=(1,) dtype=float32>, <tf.Variable 'DoppelGANgerGenerator/feature/output91/linear/dense/kernel:0' shape=(100, 2) dtype=float32>, <tf.Variable 'DoppelGANgerGenerator/feature/output91/linear/dense/bias:0' shape=(2,) dtype=float32>, <tf.Variable 'DoppelGANgerGenerator/feature/output92/linear/dense/kernel:0' shape=(100, 1) dtype=float32>, <tf.Variable 'DoppelGANgerGenerator/feature/output92/linear/dense/bias:0' shape=(1,) dtype=float32>, <tf.Variable 'DoppelGANgerGenerator/feature/output93/linear/dense/kernel:0' shape=(100, 2) dtype=float32>, <tf.Variable 'DoppelGANgerGenerator/feature/output93/linear/dense/bias:0' shape=(2,) dtype=float32>, <tf.Variable 'DoppelGANgerGenerator/feature/output94/linear/dense/kernel:0' shape=(100, 1) dtype=float32>, <tf.Variable 'DoppelGANgerGenerator/feature/output94/linear/dense/bias:0' shape=(1,) dtype=float32>, <tf.Variable 'DoppelGANgerGenerator/feature/output95/linear/dense/kernel:0' shape=(100, 2) dtype=float32>, <tf.Variable 'DoppelGANgerGenerator/feature/output95/linear/dense/bias:0' shape=(2,) dtype=float32>, <tf.Variable 'DoppelGANgerGenerator/feature/output96/linear/dense/kernel:0' shape=(100, 1) dtype=float32>, <tf.Variable 'DoppelGANgerGenerator/feature/output96/linear/dense/bias:0' shape=(1,) dtype=float32>, <tf.Variable 'DoppelGANgerGenerator/feature/output97/linear/dense/kernel:0' shape=(100, 2) dtype=float32>, <tf.Variable 'DoppelGANgerGenerator/feature/output97/linear/dense/bias:0' shape=(2,) dtype=float32>, <tf.Variable 'DoppelGANgerGenerator/feature/output98/linear/dense/kernel:0' shape=(100, 1) dtype=float32>, <tf.Variable 'DoppelGANgerGenerator/feature/output98/linear/dense/bias:0' shape=(1,) dtype=float32>, <tf.Variable 'DoppelGANgerGenerator/feature/output99/linear/dense/kernel:0' shape=(100, 2) dtype=float32>, <tf.Variable 'DoppelGANgerGenerator/feature/output99/linear/dense/bias:0' shape=(2,) dtype=float32>, <tf.Variable 'DoppelGANgerGenerator/feature/output100/linear/dense/kernel:0' shape=(100, 1) dtype=float32>, <tf.Variable 'DoppelGANgerGenerator/feature/output100/linear/dense/bias:0' shape=(1,) dtype=float32>, <tf.Variable 'DoppelGANgerGenerator/feature/output101/linear/dense/kernel:0' shape=(100, 2) dtype=float32>, <tf.Variable 'DoppelGANgerGenerator/feature/output101/linear/dense/bias:0' shape=(2,) dtype=float32>, <tf.Variable 'DoppelGANgerGenerator/feature/output102/linear/dense/kernel:0' shape=(100, 1) dtype=float32>, <tf.Variable 'DoppelGANgerGenerator/feature/output102/linear/dense/bias:0' shape=(1,) dtype=float32>, <tf.Variable 'DoppelGANgerGenerator/feature/output103/linear/dense/kernel:0' shape=(100, 2) dtype=float32>, <tf.Variable 'DoppelGANgerGenerator/feature/output103/linear/dense/bias:0' shape=(2,) dtype=float32>, <tf.Variable 'DoppelGANgerGenerator/feature/output104/linear/dense/kernel:0' shape=(100, 1) dtype=float32>, <tf.Variable 'DoppelGANgerGenerator/feature/output104/linear/dense/bias:0' shape=(1,) dtype=float32>, <tf.Variable 'DoppelGANgerGenerator/feature/output105/linear/dense/kernel:0' shape=(100, 2) dtype=float32>, <tf.Variable 'DoppelGANgerGenerator/feature/output105/linear/dense/bias:0' shape=(2,) dtype=float32>, <tf.Variable 'DoppelGANgerGenerator/feature/output106/linear/dense/kernel:0' shape=(100, 1) dtype=float32>, <tf.Variable 'DoppelGANgerGenerator/feature/output106/linear/dense/bias:0' shape=(1,) dtype=float32>, <tf.Variable 'DoppelGANgerGenerator/feature/output107/linear/dense/kernel:0' shape=(100, 2) dtype=float32>, <tf.Variable 'DoppelGANgerGenerator/feature/output107/linear/dense/bias:0' shape=(2,) dtype=float32>, <tf.Variable 'DoppelGANgerGenerator/feature/output108/linear/dense/kernel:0' shape=(100, 1) dtype=float32>, <tf.Variable 'DoppelGANgerGenerator/feature/output108/linear/dense/bias:0' shape=(1,) dtype=float32>, <tf.Variable 'DoppelGANgerGenerator/feature/output109/linear/dense/kernel:0' shape=(100, 2) dtype=float32>, <tf.Variable 'DoppelGANgerGenerator/feature/output109/linear/dense/bias:0' shape=(2,) dtype=float32>, <tf.Variable 'DoppelGANgerGenerator/feature/output110/linear/dense/kernel:0' shape=(100, 1) dtype=float32>, <tf.Variable 'DoppelGANgerGenerator/feature/output110/linear/dense/bias:0' shape=(1,) dtype=float32>, <tf.Variable 'DoppelGANgerGenerator/feature/output111/linear/dense/kernel:0' shape=(100, 2) dtype=float32>, <tf.Variable 'DoppelGANgerGenerator/feature/output111/linear/dense/bias:0' shape=(2,) dtype=float32>, <tf.Variable 'DoppelGANgerGenerator/feature/output112/linear/dense/kernel:0' shape=(100, 1) dtype=float32>, <tf.Variable 'DoppelGANgerGenerator/feature/output112/linear/dense/bias:0' shape=(1,) dtype=float32>, <tf.Variable 'DoppelGANgerGenerator/feature/output113/linear/dense/kernel:0' shape=(100, 2) dtype=float32>, <tf.Variable 'DoppelGANgerGenerator/feature/output113/linear/dense/bias:0' shape=(2,) dtype=float32>, <tf.Variable 'DoppelGANgerGenerator/feature/output114/linear/dense/kernel:0' shape=(100, 1) dtype=float32>, <tf.Variable 'DoppelGANgerGenerator/feature/output114/linear/dense/bias:0' shape=(1,) dtype=float32>, <tf.Variable 'DoppelGANgerGenerator/feature/output115/linear/dense/kernel:0' shape=(100, 2) dtype=float32>, <tf.Variable 'DoppelGANgerGenerator/feature/output115/linear/dense/bias:0' shape=(2,) dtype=float32>, <tf.Variable 'DoppelGANgerGenerator/feature/output116/linear/dense/kernel:0' shape=(100, 1) dtype=float32>, <tf.Variable 'DoppelGANgerGenerator/feature/output116/linear/dense/bias:0' shape=(1,) dtype=float32>, <tf.Variable 'DoppelGANgerGenerator/feature/output117/linear/dense/kernel:0' shape=(100, 2) dtype=float32>, <tf.Variable 'DoppelGANgerGenerator/feature/output117/linear/dense/bias:0' shape=(2,) dtype=float32>, <tf.Variable 'DoppelGANgerGenerator/feature/output118/linear/dense/kernel:0' shape=(100, 1) dtype=float32>, <tf.Variable 'DoppelGANgerGenerator/feature/output118/linear/dense/bias:0' shape=(1,) dtype=float32>, <tf.Variable 'DoppelGANgerGenerator/feature/output119/linear/dense/kernel:0' shape=(100, 2) dtype=float32>, <tf.Variable 'DoppelGANgerGenerator/feature/output119/linear/dense/bias:0' shape=(2,) dtype=float32>, <tf.Variable 'DoppelGANgerGenerator/feature/output120/linear/dense/kernel:0' shape=(100, 1) dtype=float32>, <tf.Variable 'DoppelGANgerGenerator/feature/output120/linear/dense/bias:0' shape=(1,) dtype=float32>, <tf.Variable 'DoppelGANgerGenerator/feature/output121/linear/dense/kernel:0' shape=(100, 2) dtype=float32>, <tf.Variable 'DoppelGANgerGenerator/feature/output121/linear/dense/bias:0' shape=(2,) dtype=float32>, <tf.Variable 'DoppelGANgerGenerator/feature/output122/linear/dense/kernel:0' shape=(100, 1) dtype=float32>, <tf.Variable 'DoppelGANgerGenerator/feature/output122/linear/dense/bias:0' shape=(1,) dtype=float32>, <tf.Variable 'DoppelGANgerGenerator/feature/output123/linear/dense/kernel:0' shape=(100, 2) dtype=float32>, <tf.Variable 'DoppelGANgerGenerator/feature/output123/linear/dense/bias:0' shape=(2,) dtype=float32>, <tf.Variable 'DoppelGANgerGenerator/feature/output124/linear/dense/kernel:0' shape=(100, 1) dtype=float32>, <tf.Variable 'DoppelGANgerGenerator/feature/output124/linear/dense/bias:0' shape=(1,) dtype=float32>, <tf.Variable 'DoppelGANgerGenerator/feature/output125/linear/dense/kernel:0' shape=(100, 2) dtype=float32>, <tf.Variable 'DoppelGANgerGenerator/feature/output125/linear/dense/bias:0' shape=(2,) dtype=float32>, <tf.Variable 'DoppelGANgerGenerator/feature/output126/linear/dense/kernel:0' shape=(100, 1) dtype=float32>, <tf.Variable 'DoppelGANgerGenerator/feature/output126/linear/dense/bias:0' shape=(1,) dtype=float32>, <tf.Variable 'DoppelGANgerGenerator/feature/output127/linear/dense/kernel:0' shape=(100, 2) dtype=float32>, <tf.Variable 'DoppelGANgerGenerator/feature/output127/linear/dense/bias:0' shape=(2,) dtype=float32>, <tf.Variable 'DoppelGANgerGenerator/feature/output128/linear/dense/kernel:0' shape=(100, 1) dtype=float32>, <tf.Variable 'DoppelGANgerGenerator/feature/output128/linear/dense/bias:0' shape=(1,) dtype=float32>, <tf.Variable 'DoppelGANgerGenerator/feature/output129/linear/dense/kernel:0' shape=(100, 2) dtype=float32>, <tf.Variable 'DoppelGANgerGenerator/feature/output129/linear/dense/bias:0' shape=(2,) dtype=float32>, <tf.Variable 'DoppelGANgerGenerator/feature/output130/linear/dense/kernel:0' shape=(100, 1) dtype=float32>, <tf.Variable 'DoppelGANgerGenerator/feature/output130/linear/dense/bias:0' shape=(1,) dtype=float32>, <tf.Variable 'DoppelGANgerGenerator/feature/output131/linear/dense/kernel:0' shape=(100, 2) dtype=float32>, <tf.Variable 'DoppelGANgerGenerator/feature/output131/linear/dense/bias:0' shape=(2,) dtype=float32>, <tf.Variable 'DoppelGANgerGenerator/feature/output132/linear/dense/kernel:0' shape=(100, 1) dtype=float32>, <tf.Variable 'DoppelGANgerGenerator/feature/output132/linear/dense/bias:0' shape=(1,) dtype=float32>, <tf.Variable 'DoppelGANgerGenerator/feature/output133/linear/dense/kernel:0' shape=(100, 2) dtype=float32>, <tf.Variable 'DoppelGANgerGenerator/feature/output133/linear/dense/bias:0' shape=(2,) dtype=float32>, <tf.Variable 'DoppelGANgerGenerator/feature/output134/linear/dense/kernel:0' shape=(100, 1) dtype=float32>, <tf.Variable 'DoppelGANgerGenerator/feature/output134/linear/dense/bias:0' shape=(1,) dtype=float32>, <tf.Variable 'DoppelGANgerGenerator/feature/output135/linear/dense/kernel:0' shape=(100, 2) dtype=float32>, <tf.Variable 'DoppelGANgerGenerator/feature/output135/linear/dense/bias:0' shape=(2,) dtype=float32>, <tf.Variable 'DoppelGANgerGenerator/feature/output136/linear/dense/kernel:0' shape=(100, 1) dtype=float32>, <tf.Variable 'DoppelGANgerGenerator/feature/output136/linear/dense/bias:0' shape=(1,) dtype=float32>, <tf.Variable 'DoppelGANgerGenerator/feature/output137/linear/dense/kernel:0' shape=(100, 2) dtype=float32>, <tf.Variable 'DoppelGANgerGenerator/feature/output137/linear/dense/bias:0' shape=(2,) dtype=float32>, <tf.Variable 'DoppelGANgerGenerator/feature/output138/linear/dense/kernel:0' shape=(100, 1) dtype=float32>, <tf.Variable 'DoppelGANgerGenerator/feature/output138/linear/dense/bias:0' shape=(1,) dtype=float32>, <tf.Variable 'DoppelGANgerGenerator/feature/output139/linear/dense/kernel:0' shape=(100, 2) dtype=float32>, <tf.Variable 'DoppelGANgerGenerator/feature/output139/linear/dense/bias:0' shape=(2,) dtype=float32>, <tf.Variable 'DoppelGANgerGenerator/feature/output140/linear/dense/kernel:0' shape=(100, 1) dtype=float32>, <tf.Variable 'DoppelGANgerGenerator/feature/output140/linear/dense/bias:0' shape=(1,) dtype=float32>, <tf.Variable 'DoppelGANgerGenerator/feature/output141/linear/dense/kernel:0' shape=(100, 2) dtype=float32>, <tf.Variable 'DoppelGANgerGenerator/feature/output141/linear/dense/bias:0' shape=(2,) dtype=float32>, <tf.Variable 'DoppelGANgerGenerator/feature/output142/linear/dense/kernel:0' shape=(100, 1) dtype=float32>, <tf.Variable 'DoppelGANgerGenerator/feature/output142/linear/dense/bias:0' shape=(1,) dtype=float32>, <tf.Variable 'DoppelGANgerGenerator/feature/output143/linear/dense/kernel:0' shape=(100, 2) dtype=float32>, <tf.Variable 'DoppelGANgerGenerator/feature/output143/linear/dense/bias:0' shape=(2,) dtype=float32>, <tf.Variable 'DoppelGANgerGenerator/feature/output144/linear/dense/kernel:0' shape=(100, 1) dtype=float32>, <tf.Variable 'DoppelGANgerGenerator/feature/output144/linear/dense/bias:0' shape=(1,) dtype=float32>, <tf.Variable 'DoppelGANgerGenerator/feature/output145/linear/dense/kernel:0' shape=(100, 2) dtype=float32>, <tf.Variable 'DoppelGANgerGenerator/feature/output145/linear/dense/bias:0' shape=(2,) dtype=float32>, <tf.Variable 'DoppelGANgerGenerator/feature/output146/linear/dense/kernel:0' shape=(100, 1) dtype=float32>, <tf.Variable 'DoppelGANgerGenerator/feature/output146/linear/dense/bias:0' shape=(1,) dtype=float32>, <tf.Variable 'DoppelGANgerGenerator/feature/output147/linear/dense/kernel:0' shape=(100, 2) dtype=float32>, <tf.Variable 'DoppelGANgerGenerator/feature/output147/linear/dense/bias:0' shape=(2,) dtype=float32>, <tf.Variable 'DoppelGANgerGenerator/feature/output148/linear/dense/kernel:0' shape=(100, 1) dtype=float32>, <tf.Variable 'DoppelGANgerGenerator/feature/output148/linear/dense/bias:0' shape=(1,) dtype=float32>, <tf.Variable 'DoppelGANgerGenerator/feature/output149/linear/dense/kernel:0' shape=(100, 2) dtype=float32>, <tf.Variable 'DoppelGANgerGenerator/feature/output149/linear/dense/bias:0' shape=(2,) dtype=float32>, <tf.Variable 'DoppelGANgerGenerator/feature/output150/linear/dense/kernel:0' shape=(100, 1) dtype=float32>, <tf.Variable 'DoppelGANgerGenerator/feature/output150/linear/dense/bias:0' shape=(1,) dtype=float32>, <tf.Variable 'DoppelGANgerGenerator/feature/output151/linear/dense/kernel:0' shape=(100, 2) dtype=float32>, <tf.Variable 'DoppelGANgerGenerator/feature/output151/linear/dense/bias:0' shape=(2,) dtype=float32>, <tf.Variable 'DoppelGANgerGenerator/feature/output152/linear/dense/kernel:0' shape=(100, 1) dtype=float32>, <tf.Variable 'DoppelGANgerGenerator/feature/output152/linear/dense/bias:0' shape=(1,) dtype=float32>, <tf.Variable 'DoppelGANgerGenerator/feature/output153/linear/dense/kernel:0' shape=(100, 2) dtype=float32>, <tf.Variable 'DoppelGANgerGenerator/feature/output153/linear/dense/bias:0' shape=(2,) dtype=float32>, <tf.Variable 'DoppelGANgerGenerator/feature/output154/linear/dense/kernel:0' shape=(100, 1) dtype=float32>, <tf.Variable 'DoppelGANgerGenerator/feature/output154/linear/dense/bias:0' shape=(1,) dtype=float32>, <tf.Variable 'DoppelGANgerGenerator/feature/output155/linear/dense/kernel:0' shape=(100, 2) dtype=float32>, <tf.Variable 'DoppelGANgerGenerator/feature/output155/linear/dense/bias:0' shape=(2,) dtype=float32>, <tf.Variable 'DoppelGANgerGenerator/feature/output156/linear/dense/kernel:0' shape=(100, 1) dtype=float32>, <tf.Variable 'DoppelGANgerGenerator/feature/output156/linear/dense/bias:0' shape=(1,) dtype=float32>, <tf.Variable 'DoppelGANgerGenerator/feature/output157/linear/dense/kernel:0' shape=(100, 2) dtype=float32>, <tf.Variable 'DoppelGANgerGenerator/feature/output157/linear/dense/bias:0' shape=(2,) dtype=float32>, <tf.Variable 'DoppelGANgerGenerator/feature/output158/linear/dense/kernel:0' shape=(100, 1) dtype=float32>, <tf.Variable 'DoppelGANgerGenerator/feature/output158/linear/dense/bias:0' shape=(1,) dtype=float32>, <tf.Variable 'DoppelGANgerGenerator/feature/output159/linear/dense/kernel:0' shape=(100, 2) dtype=float32>, <tf.Variable 'DoppelGANgerGenerator/feature/output159/linear/dense/bias:0' shape=(2,) dtype=float32>, <tf.Variable 'DoppelGANgerGenerator/feature/output160/linear/dense/kernel:0' shape=(100, 1) dtype=float32>, <tf.Variable 'DoppelGANgerGenerator/feature/output160/linear/dense/bias:0' shape=(1,) dtype=float32>, <tf.Variable 'DoppelGANgerGenerator/feature/output161/linear/dense/kernel:0' shape=(100, 2) dtype=float32>, <tf.Variable 'DoppelGANgerGenerator/feature/output161/linear/dense/bias:0' shape=(2,) dtype=float32>, <tf.Variable 'DoppelGANgerGenerator/feature/output162/linear/dense/kernel:0' shape=(100, 1) dtype=float32>, <tf.Variable 'DoppelGANgerGenerator/feature/output162/linear/dense/bias:0' shape=(1,) dtype=float32>, <tf.Variable 'DoppelGANgerGenerator/feature/output163/linear/dense/kernel:0' shape=(100, 2) dtype=float32>, <tf.Variable 'DoppelGANgerGenerator/feature/output163/linear/dense/bias:0' shape=(2,) dtype=float32>, <tf.Variable 'DoppelGANgerGenerator/feature/output164/linear/dense/kernel:0' shape=(100, 1) dtype=float32>, <tf.Variable 'DoppelGANgerGenerator/feature/output164/linear/dense/bias:0' shape=(1,) dtype=float32>, <tf.Variable 'DoppelGANgerGenerator/feature/output165/linear/dense/kernel:0' shape=(100, 2) dtype=float32>, <tf.Variable 'DoppelGANgerGenerator/feature/output165/linear/dense/bias:0' shape=(2,) dtype=float32>, <tf.Variable 'DoppelGANgerGenerator/feature/output166/linear/dense/kernel:0' shape=(100, 1) dtype=float32>, <tf.Variable 'DoppelGANgerGenerator/feature/output166/linear/dense/bias:0' shape=(1,) dtype=float32>, <tf.Variable 'DoppelGANgerGenerator/feature/output167/linear/dense/kernel:0' shape=(100, 2) dtype=float32>, <tf.Variable 'DoppelGANgerGenerator/feature/output167/linear/dense/bias:0' shape=(2,) dtype=float32>, <tf.Variable 'DoppelGANgerGenerator/feature/output168/linear/dense/kernel:0' shape=(100, 1) dtype=float32>, <tf.Variable 'DoppelGANgerGenerator/feature/output168/linear/dense/bias:0' shape=(1,) dtype=float32>, <tf.Variable 'DoppelGANgerGenerator/feature/output169/linear/dense/kernel:0' shape=(100, 2) dtype=float32>, <tf.Variable 'DoppelGANgerGenerator/feature/output169/linear/dense/bias:0' shape=(2,) dtype=float32>, <tf.Variable 'DoppelGANgerGenerator/feature/output170/linear/dense/kernel:0' shape=(100, 1) dtype=float32>, <tf.Variable 'DoppelGANgerGenerator/feature/output170/linear/dense/bias:0' shape=(1,) dtype=float32>, <tf.Variable 'DoppelGANgerGenerator/feature/output171/linear/dense/kernel:0' shape=(100, 2) dtype=float32>, <tf.Variable 'DoppelGANgerGenerator/feature/output171/linear/dense/bias:0' shape=(2,) dtype=float32>, <tf.Variable 'DoppelGANgerGenerator/feature/output172/linear/dense/kernel:0' shape=(100, 1) dtype=float32>, <tf.Variable 'DoppelGANgerGenerator/feature/output172/linear/dense/bias:0' shape=(1,) dtype=float32>, <tf.Variable 'DoppelGANgerGenerator/feature/output173/linear/dense/kernel:0' shape=(100, 2) dtype=float32>, <tf.Variable 'DoppelGANgerGenerator/feature/output173/linear/dense/bias:0' shape=(2,) dtype=float32>, <tf.Variable 'DoppelGANgerGenerator/feature/output174/linear/dense/kernel:0' shape=(100, 1) dtype=float32>, <tf.Variable 'DoppelGANgerGenerator/feature/output174/linear/dense/bias:0' shape=(1,) dtype=float32>, <tf.Variable 'DoppelGANgerGenerator/feature/output175/linear/dense/kernel:0' shape=(100, 2) dtype=float32>, <tf.Variable 'DoppelGANgerGenerator/feature/output175/linear/dense/bias:0' shape=(2,) dtype=float32>, <tf.Variable 'DoppelGANgerGenerator/feature/output176/linear/dense/kernel:0' shape=(100, 1) dtype=float32>, <tf.Variable 'DoppelGANgerGenerator/feature/output176/linear/dense/bias:0' shape=(1,) dtype=float32>, <tf.Variable 'DoppelGANgerGenerator/feature/output177/linear/dense/kernel:0' shape=(100, 2) dtype=float32>, <tf.Variable 'DoppelGANgerGenerator/feature/output177/linear/dense/bias:0' shape=(2,) dtype=float32>, <tf.Variable 'DoppelGANgerGenerator/feature/output178/linear/dense/kernel:0' shape=(100, 1) dtype=float32>, <tf.Variable 'DoppelGANgerGenerator/feature/output178/linear/dense/bias:0' shape=(1,) dtype=float32>, <tf.Variable 'DoppelGANgerGenerator/feature/output179/linear/dense/kernel:0' shape=(100, 2) dtype=float32>, <tf.Variable 'DoppelGANgerGenerator/feature/output179/linear/dense/bias:0' shape=(2,) dtype=float32>, <tf.Variable 'DoppelGANgerGenerator/feature/output180/linear/dense/kernel:0' shape=(100, 1) dtype=float32>, <tf.Variable 'DoppelGANgerGenerator/feature/output180/linear/dense/bias:0' shape=(1,) dtype=float32>, <tf.Variable 'DoppelGANgerGenerator/feature/output181/linear/dense/kernel:0' shape=(100, 2) dtype=float32>, <tf.Variable 'DoppelGANgerGenerator/feature/output181/linear/dense/bias:0' shape=(2,) dtype=float32>, <tf.Variable 'DoppelGANgerGenerator/feature/output182/linear/dense/kernel:0' shape=(100, 1) dtype=float32>, <tf.Variable 'DoppelGANgerGenerator/feature/output182/linear/dense/bias:0' shape=(1,) dtype=float32>, <tf.Variable 'DoppelGANgerGenerator/feature/output183/linear/dense/kernel:0' shape=(100, 2) dtype=float32>, <tf.Variable 'DoppelGANgerGenerator/feature/output183/linear/dense/bias:0' shape=(2,) dtype=float32>, <tf.Variable 'DoppelGANgerGenerator/feature/output184/linear/dense/kernel:0' shape=(100, 1) dtype=float32>, <tf.Variable 'DoppelGANgerGenerator/feature/output184/linear/dense/bias:0' shape=(1,) dtype=float32>, <tf.Variable 'DoppelGANgerGenerator/feature/output185/linear/dense/kernel:0' shape=(100, 2) dtype=float32>, <tf.Variable 'DoppelGANgerGenerator/feature/output185/linear/dense/bias:0' shape=(2,) dtype=float32>, <tf.Variable 'DoppelGANgerGenerator/feature/output186/linear/dense/kernel:0' shape=(100, 1) dtype=float32>, <tf.Variable 'DoppelGANgerGenerator/feature/output186/linear/dense/bias:0' shape=(1,) dtype=float32>, <tf.Variable 'DoppelGANgerGenerator/feature/output187/linear/dense/kernel:0' shape=(100, 2) dtype=float32>, <tf.Variable 'DoppelGANgerGenerator/feature/output187/linear/dense/bias:0' shape=(2,) dtype=float32>, <tf.Variable 'DoppelGANgerGenerator/feature/output188/linear/dense/kernel:0' shape=(100, 1) dtype=float32>, <tf.Variable 'DoppelGANgerGenerator/feature/output188/linear/dense/bias:0' shape=(1,) dtype=float32>, <tf.Variable 'DoppelGANgerGenerator/feature/output189/linear/dense/kernel:0' shape=(100, 2) dtype=float32>, <tf.Variable 'DoppelGANgerGenerator/feature/output189/linear/dense/bias:0' shape=(2,) dtype=float32>, <tf.Variable 'DoppelGANgerGenerator/feature/output190/linear/dense/kernel:0' shape=(100, 1) dtype=float32>, <tf.Variable 'DoppelGANgerGenerator/feature/output190/linear/dense/bias:0' shape=(1,) dtype=float32>, <tf.Variable 'DoppelGANgerGenerator/feature/output191/linear/dense/kernel:0' shape=(100, 2) dtype=float32>, <tf.Variable 'DoppelGANgerGenerator/feature/output191/linear/dense/bias:0' shape=(2,) dtype=float32>, <tf.Variable 'DoppelGANgerGenerator_1/attribute_real/layer0/batch_norm_1/gamma:0' shape=(100,) dtype=float32>, <tf.Variable 'DoppelGANgerGenerator_1/attribute_real/layer0/batch_norm_1/beta:0' shape=(100,) dtype=float32>, <tf.Variable 'DoppelGANgerGenerator_1/attribute_real/layer0/batch_norm_1/moving_mean:0' shape=(100,) dtype=float32>, <tf.Variable 'DoppelGANgerGenerator_1/attribute_real/layer0/batch_norm_1/moving_variance:0' shape=(100,) dtype=float32>, <tf.Variable 'DoppelGANgerGenerator_2/attribute_real/layer0/batch_norm_1/gamma:0' shape=(100,) dtype=float32>, <tf.Variable 'DoppelGANgerGenerator_2/attribute_real/layer0/batch_norm_1/beta:0' shape=(100,) dtype=float32>, <tf.Variable 'DoppelGANgerGenerator_2/attribute_real/layer0/batch_norm_1/moving_mean:0' shape=(100,) dtype=float32>, <tf.Variable 'DoppelGANgerGenerator_2/attribute_real/layer0/batch_norm_1/moving_variance:0' shape=(100,) dtype=float32>]\n",
      "Layers of discriminator\n",
      "[<tf.Variable 'discriminator/layer0/linear/dense/kernel:0' shape=(298, 200) dtype=float32>, <tf.Variable 'discriminator/layer0/linear/dense/bias:0' shape=(200,) dtype=float32>, <tf.Variable 'discriminator/layer1/linear/dense/kernel:0' shape=(200, 200) dtype=float32>, <tf.Variable 'discriminator/layer1/linear/dense/bias:0' shape=(200,) dtype=float32>, <tf.Variable 'discriminator/layer2/linear/dense/kernel:0' shape=(200, 200) dtype=float32>, <tf.Variable 'discriminator/layer2/linear/dense/bias:0' shape=(200,) dtype=float32>, <tf.Variable 'discriminator/layer3/linear/dense/kernel:0' shape=(200, 200) dtype=float32>, <tf.Variable 'discriminator/layer3/linear/dense/bias:0' shape=(200,) dtype=float32>, <tf.Variable 'discriminator/layer4/linear/dense/kernel:0' shape=(200, 1) dtype=float32>, <tf.Variable 'discriminator/layer4/linear/dense/bias:0' shape=(1,) dtype=float32>]\n",
      "Layers of attrDiscriminator\n",
      "[<tf.Variable 'attrDiscriminator/layer0/linear/dense/kernel:0' shape=(10, 200) dtype=float32>, <tf.Variable 'attrDiscriminator/layer0/linear/dense/bias:0' shape=(200,) dtype=float32>, <tf.Variable 'attrDiscriminator/layer1/linear/dense/kernel:0' shape=(200, 200) dtype=float32>, <tf.Variable 'attrDiscriminator/layer1/linear/dense/bias:0' shape=(200,) dtype=float32>, <tf.Variable 'attrDiscriminator/layer2/linear/dense/kernel:0' shape=(200, 200) dtype=float32>, <tf.Variable 'attrDiscriminator/layer2/linear/dense/bias:0' shape=(200,) dtype=float32>, <tf.Variable 'attrDiscriminator/layer3/linear/dense/kernel:0' shape=(200, 200) dtype=float32>, <tf.Variable 'attrDiscriminator/layer3/linear/dense/bias:0' shape=(200,) dtype=float32>, <tf.Variable 'attrDiscriminator/layer4/linear/dense/kernel:0' shape=(200, 1) dtype=float32>, <tf.Variable 'attrDiscriminator/layer4/linear/dense/bias:0' shape=(1,) dtype=float32>]\n"
     ]
    },
    {
     "name": "stderr",
     "output_type": "stream",
     "text": [
      "  3%|▎         | 29/1000 [12:41<8:32:45, 31.68s/it]"
     ]
    },
    {
     "name": "stdout",
     "output_type": "stream",
     "text": [
      "WARNING:tensorflow:From c:\\Users\\jankr\\miniconda3\\envs\\tf2\\lib\\site-packages\\tensorflow\\python\\training\\saver.py:1056: remove_checkpoint (from tensorflow.python.training.checkpoint_management) is deprecated and will be removed in a future version.\n",
      "Instructions for updating:\n",
      "Use standard file APIs to delete files with this prefix.\n"
     ]
    },
    {
     "name": "stderr",
     "output_type": "stream",
     "text": [
      " 50%|█████     | 501/1000 [8:18:10<8:16:11, 59.66s/it]  \n"
     ]
    }
   ],
   "source": [
    "run_config = tf.compat.v1.ConfigProto()\n",
    "with tf.compat.v1.Session(config=run_config) as sess:\n",
    "        gan = DoppelGANger(\n",
    "    sess=sess,\n",
    "    checkpoint_dir=checkpoint_dir,\n",
    "    sample_dir=sample_dir,\n",
    "    time_path=time_path,\n",
    "    epoch=1000,\n",
    "    batch_size=100,\n",
    "    data_feature=data_feature,\n",
    "    data_attribute=data_attribute,\n",
    "    real_attribute_mask=real_attribute_mask,\n",
    "    data_gen_flag=data_gen_flag,\n",
    "    sample_len=sample_len,\n",
    "    data_feature_outputs=data_feature_outputs,\n",
    "    data_attribute_outputs=data_attribute_outputs,\n",
    "    vis_freq=200,\n",
    "    vis_num_sample=5,\n",
    "    generator=generator,\n",
    "    discriminator=discriminator,\n",
    "    attr_discriminator=attr_discriminator,\n",
    "    d_gp_coe=10.0,\n",
    "    attr_d_gp_coe=10.0,\n",
    "    g_attr_d_coe=1.0,\n",
    "    d_rounds=1,\n",
    "    g_rounds=1,\n",
    "    g_lr=0.001,\n",
    "    d_lr=0.001,\n",
    "    attr_d_lr=0.001,\n",
    "    extra_checkpoint_freq=5,\n",
    "    epoch_checkpoint_freq=5,\n",
    "    num_packing=1)\n",
    "        gan.build()\n",
    "        gan.train(restore=False)"
   ]
  },
  {
   "cell_type": "code",
   "execution_count": null,
   "metadata": {},
   "outputs": [],
   "source": []
  }
 ],
 "metadata": {
  "kernelspec": {
   "display_name": "tf2",
   "language": "python",
   "name": "python3"
  },
  "language_info": {
   "codemirror_mode": {
    "name": "ipython",
    "version": 3
   },
   "file_extension": ".py",
   "mimetype": "text/x-python",
   "name": "python",
   "nbconvert_exporter": "python",
   "pygments_lexer": "ipython3",
   "version": "3.9.16"
  },
  "orig_nbformat": 4,
  "vscode": {
   "interpreter": {
    "hash": "847e53ebb16d9894e7e278166a23c9501c7d81d769746998c45e64cfb35775f0"
   }
  }
 },
 "nbformat": 4,
 "nbformat_minor": 2
}
