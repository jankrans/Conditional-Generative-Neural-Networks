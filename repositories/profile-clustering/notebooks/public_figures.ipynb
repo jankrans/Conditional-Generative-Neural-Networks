{
 "cells": [
  {
   "cell_type": "code",
   "execution_count": null,
   "metadata": {},
   "outputs": [],
   "source": [
    "from pathlib import Path\n",
    "import altair as alt \n",
    "import pandas as pd \n",
    "from sklearn.decomposition import NMF\n",
    "alt.data_transformers.disable_max_rows()\n",
    "%load_ext autoreload\n",
    "%autoreload 2"
   ]
  },
  {
   "cell_type": "code",
   "execution_count": null,
   "metadata": {},
   "outputs": [],
   "source": [
    "def big_chart(chart, fontsize = 20): \n",
    "    return chart.configure_axis(\n",
    "    labelFontSize = fontsize,\n",
    "    titleFontSize = fontsize\n",
    ").configure_title(\n",
    "    fontSize = fontsize\n",
    "    )"
   ]
  },
  {
   "cell_type": "code",
   "execution_count": null,
   "metadata": {},
   "outputs": [],
   "source": [
    "data_df = pd.read_pickle(Path().absolute().parent / 'data'/'READING_2016_preprocessed.pkl')"
   ]
  },
  {
   "cell_type": "code",
   "execution_count": null,
   "metadata": {},
   "outputs": [],
   "source": [
    "data_df = (\n",
    "    data_df.Consumption\n",
    "    .unstack().rename_axis(columns = 'timestamp')\n",
    ")"
   ]
  },
  {
   "cell_type": "code",
   "execution_count": null,
   "metadata": {},
   "outputs": [],
   "source": [
    "\n",
    "data_df"
   ]
  },
  {
   "cell_type": "code",
   "execution_count": null,
   "metadata": {},
   "outputs": [],
   "source": [
    "# IDX = 10\n",
    "IDX = 15\n",
    "profile_vis = data_df.iloc[IDX].to_frame(\"value\").rename_axis(index = 'time').reset_index()\n",
    "profile_vis"
   ]
  },
  {
   "cell_type": "code",
   "execution_count": null,
   "metadata": {},
   "outputs": [],
   "source": [
    "ts_chart = alt.Chart(profile_vis, width = 1200, height = 200).mark_line().encode(\n",
    "    x = alt.X('time:T', title = None, axis = alt.Axis( format = '%b', values = list(pd.date_range('2016-1-1', '2016-12-31',periods = 12))), ), \n",
    "    y = alt.Y('value:Q', title = 'Consumption')\n",
    ")\n",
    "\n",
    "big_chart(ts_chart)"
   ]
  },
  {
   "cell_type": "code",
   "execution_count": null,
   "metadata": {},
   "outputs": [],
   "source": [
    "vis_df = profile_vis[(profile_vis.time.dt.isocalendar().week == 17)].time.agg(['min','max']).to_frame('time').T\n",
    "# rect_chart = alt.Chart(vis_df).mark_rect(color='black', strokeWidth = 2, filled=False).encode(\n",
    "#     x = alt.X('min'),\n",
    "#     x2 = alt.X2('max')\n",
    "# )\n",
    "rect_chart = alt.Chart(vis_df).mark_rect(opacity = 0.2).encode(\n",
    "    x = alt.X('min'),\n",
    "    x2 = alt.X2('max')\n",
    ")\n",
    "big_chart(ts_chart +rect_chart)"
   ]
  },
  {
   "cell_type": "code",
   "execution_count": null,
   "metadata": {},
   "outputs": [],
   "source": [
    "chart = alt.Chart(profile_vis[(profile_vis.time.dt.isocalendar().week == 17)], width = 800, height = 200).mark_line(clip = True).encode(\n",
    "    x = alt.X('time:T', title = None),\n",
    "    y = alt.Y('value:Q', title = 'Consumption', scale = alt.Scale(domain = [0,1.0]))\n",
    ")\n",
    "big_chart(chart)"
   ]
  },
  {
   "cell_type": "code",
   "execution_count": null,
   "metadata": {},
   "outputs": [],
   "source": [
    "IDX1, IDX2 = 8,22\n",
    "def day_chart(idx, maxvalue = 2):\n",
    "    profile_vis = (\n",
    "        data_df.iloc[idx]\n",
    "        .to_frame(\"value\")\n",
    "        .rename_axis(index = 'timestamp')\n",
    "        .assign(\n",
    "            date = lambda x: x.index.date.astype('str'), \n",
    "            time = lambda x: x.index.to_series().apply(lambda y: y.replace(year = 2016, month = 1, day = 1))\n",
    "        )\n",
    "        .reset_index())\n",
    "\n",
    "    chart = alt.Chart(profile_vis, height = 200).mark_line(strokeWidth = 0.2, opacity = 0.4, clip = True).encode(\n",
    "        x = alt.X('time:T', axis = alt.Axis(format = \"%H:%M\")),\n",
    "        y = alt.Y('value:Q', scale = alt.Scale(domain = [0,maxvalue]), title = 'Consumption'),\n",
    "        color = alt.Color('date', scale = alt.Scale(scheme = 'rainbow'), legend = None)\n",
    "    )\n",
    "    return chart\n",
    "\n",
    "big_chart(alt.hconcat(day_chart(IDX1).properties(title = 'Profile 1'), day_chart(IDX2).properties(title = 'Profile 2')).resolve_scale(y = 'shared'), fontsize = 16)"
   ]
  },
  {
   "cell_type": "code",
   "execution_count": null,
   "metadata": {},
   "outputs": [],
   "source": [
    "day_chart(IDX1)"
   ]
  },
  {
   "cell_type": "code",
   "execution_count": null,
   "metadata": {},
   "outputs": [],
   "source": [
    "        \n",
    "def add_date(series): \n",
    "    return pd.to_datetime(series, format='%H:%M:%S', exact = False)\n",
    "\n",
    "def energy_heatmap_chart(meterID, data_df): \n",
    "    subset = (\n",
    "        data_df.iloc[[meterID],:]\n",
    "#         .droplevel(level = 1, axis =0)\n",
    "        .stack().to_frame('value')\n",
    "        .reset_index()\n",
    "        .assign(\n",
    "            time = lambda x: add_date(x.timestamp.dt.time),\n",
    "            date = lambda x: x.timestamp.dt.date.astype('str'),\n",
    "        )\n",
    "    )\n",
    "    return alt.Chart(subset, height = 1000, width = 1000).mark_rect(strokeOpacity = 0).encode(\n",
    "        x = alt.X('time:O', axis = alt.Axis(labels = False, grid = False)),\n",
    "        y = alt.Y('date:O', axis = alt.Axis(labels = False, grid = False)), \n",
    "        color = alt.Color('value:Q', scale = alt.Scale(scheme = 'viridis'))\n",
    "    )\n",
    "energy_heatmap_chart(IDX1, data_df)"
   ]
  },
  {
   "cell_type": "code",
   "execution_count": null,
   "metadata": {},
   "outputs": [],
   "source": [
    "IDX = 22\n",
    "profile_vis = (\n",
    "        data_df.iloc[IDX]\n",
    "        .to_frame(\"value\")\n",
    "        .rename_axis(index = 'timestamp')\n",
    "        .assign(\n",
    "            date = lambda x: x.index.date.astype('str'), \n",
    "            time = lambda x: x.index.to_series().apply(lambda y: y.replace(year = 2016, month = 1, day = 1))\n",
    "        )\n",
    "        .pipe(lambda x: pd.pivot_table(x, index = 'date', columns = 'time', values = 'value'))\n",
    "        .dropna(axis = 0)\n",
    ")\n",
    "decomposer = NMF(10, max_iter = 100000, alpha = 0, l1_ratio = 0.9,  init = 'nndsvd').fit(profile_vis.to_numpy())\n",
    "print('reconstruction error', decomposer.reconstruction_err_)\n",
    "components = decomposer.components_\n",
    "components_df = pd.DataFrame(components, columns = profile_vis.columns)\n",
    "components_df.index.name = 'component_nb'\n",
    "components_df"
   ]
  },
  {
   "cell_type": "code",
   "execution_count": null,
   "metadata": {},
   "outputs": [],
   "source": [
    "from component_matching import get_scaled_components"
   ]
  },
  {
   "cell_type": "code",
   "execution_count": null,
   "metadata": {},
   "outputs": [],
   "source": [
    "scaled_components, times_used = get_scaled_components(data_df.iloc[IDX])\n",
    "scaled_components.columns = components_df.columns"
   ]
  },
  {
   "cell_type": "code",
   "execution_count": null,
   "metadata": {},
   "outputs": [],
   "source": [
    "component_vis = scaled_components.stack().to_frame('value').reset_index()\n",
    "component_vis = component_vis[component_vis.level_0.isin(range(0,5))]"
   ]
  },
  {
   "cell_type": "code",
   "execution_count": null,
   "metadata": {},
   "outputs": [],
   "source": [
    "component_chart = alt.Chart(component_vis, height = 200).mark_line().encode(\n",
    "    x = alt.X('time:T', axis = alt.Axis(format = '%H:%m')), \n",
    "    y = 'value:Q', \n",
    "    color= alt.Color('level_0:N', title = 'Pattern')\n",
    ")\n",
    "big_chart(( day_chart(IDX, maxvalue = 1).properties(title = 'Profile') | component_chart.properties(title = 'NMF components')).resolve_scale(color = 'independent', x = 'shared'), fontsize = 16)"
   ]
  },
  {
   "cell_type": "code",
   "execution_count": null,
   "metadata": {},
   "outputs": [],
   "source": []
  }
 ],
 "metadata": {
  "kernelspec": {
   "display_name": "Python 3 (ipykernel)",
   "language": "python",
   "name": "python3"
  },
  "language_info": {
   "codemirror_mode": {
    "name": "ipython",
    "version": 3
   },
   "file_extension": ".py",
   "mimetype": "text/x-python",
   "name": "python",
   "nbconvert_exporter": "python",
   "pygments_lexer": "ipython3",
   "version": "3.9.1"
  }
 },
 "nbformat": 4,
 "nbformat_minor": 4
}
