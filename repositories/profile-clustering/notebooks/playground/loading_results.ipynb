{
 "cells": [
  {
   "cell_type": "code",
   "execution_count": 1,
   "metadata": {
    "pycharm": {
     "name": "#%%\n"
    }
   },
   "outputs": [
    {
     "ename": "ImportError",
     "evalue": "cannot import name 'ResultParser' from 'energyclustering.webapp.resultparser' (/home/jonas/Projects/energyville/profile-clustering/energyclustering/webapp/resultparser.py)",
     "output_type": "error",
     "traceback": [
      "\u001B[0;31m---------------------------------------------------------------------------\u001B[0m",
      "\u001B[0;31mImportError\u001B[0m                               Traceback (most recent call last)",
      "\u001B[0;32m<ipython-input-1-e7322780dee0>\u001B[0m in \u001B[0;36m<module>\u001B[0;34m\u001B[0m\n\u001B[0;32m----> 1\u001B[0;31m \u001B[0;32mfrom\u001B[0m \u001B[0menergyclustering\u001B[0m\u001B[0;34m.\u001B[0m\u001B[0mwebapp\u001B[0m\u001B[0;34m.\u001B[0m\u001B[0mresultparser\u001B[0m \u001B[0;32mimport\u001B[0m \u001B[0mResultParser\u001B[0m\u001B[0;34m,\u001B[0m \u001B[0mResultComparison\u001B[0m\u001B[0;34m\u001B[0m\u001B[0;34m\u001B[0m\u001B[0m\n\u001B[0m\u001B[1;32m      2\u001B[0m \u001B[0;32mfrom\u001B[0m \u001B[0menergyclustering\u001B[0m\u001B[0;34m.\u001B[0m\u001B[0mdata\u001B[0m\u001B[0;34m.\u001B[0m\u001B[0mfluvius\u001B[0m\u001B[0;34m.\u001B[0m\u001B[0mdata\u001B[0m \u001B[0;32mimport\u001B[0m \u001B[0mFluviusDataContainer\u001B[0m\u001B[0;34m\u001B[0m\u001B[0;34m\u001B[0m\u001B[0m\n\u001B[1;32m      3\u001B[0m \u001B[0;32mimport\u001B[0m \u001B[0mnumpy\u001B[0m \u001B[0;32mas\u001B[0m \u001B[0mnp\u001B[0m\u001B[0;34m\u001B[0m\u001B[0;34m\u001B[0m\u001B[0m\n",
      "\u001B[0;31mImportError\u001B[0m: cannot import name 'ResultParser' from 'energyclustering.webapp.resultparser' (/home/jonas/Projects/energyville/profile-clustering/energyclustering/webapp/resultparser.py)"
     ]
    }
   ],
   "source": [
    "from energyclustering.webapp.resultparser import ResultParser, ResultComparison\n",
    "from energyclustering.data.fluvius.data import FluviusDataContainer\n",
    "import numpy as np"
   ]
  },
  {
   "cell_type": "code",
   "execution_count": null,
   "metadata": {},
   "outputs": [],
   "source": [
    "%load_ext autoreload\n",
    "%autoreload 2"
   ]
  },
  {
   "cell_type": "code",
   "execution_count": null,
   "metadata": {},
   "outputs": [],
   "source": [
    "data1 = FluviusDataContainer('random_profiles_v1').read_data()\n",
    "data2 = FluviusDataContainer('random_profiles_no_data_issues_v1').read_data()"
   ]
  },
  {
   "cell_type": "code",
   "execution_count": null,
   "metadata": {},
   "outputs": [],
   "source": [
    "dist1 = data1.distance_matrix"
   ]
  },
  {
   "cell_type": "code",
   "execution_count": null,
   "metadata": {},
   "outputs": [],
   "source": [
    "dist2 = data2.distance_matrix"
   ]
  },
  {
   "cell_type": "markdown",
   "metadata": {},
   "source": [
    "## Make a comparison"
   ]
  },
  {
   "cell_type": "code",
   "execution_count": null,
   "metadata": {},
   "outputs": [],
   "source": [
    "# data_directory_to_use = 'random_profiles_v1'\n",
    "data_directory_to_use = 'random_profiles_no_data_issues_v1'\n",
    "result1 = ResultParser('aras_long', data_directory_to_use)\n",
    "# result2 = ResultParser('aras_short')\n",
    "koen_second_result = ResultParser('result_20210628_koen', data_directory_to_use)\n",
    "koen_first_result = ResultParser('result_20210628_koen', 'random_profiles_v1')\n",
    "result_comparison = ResultComparison(result1, koen_first_result)"
   ]
  },
  {
   "cell_type": "code",
   "execution_count": null,
   "metadata": {},
   "outputs": [],
   "source": [
    "all_superinstances = set()\n",
    "for superinstances in koen_first_result.super_instances: \n",
    "    all_superinstances.update(superinstances)\n",
    "all_superinstances = list(all_superinstances)"
   ]
  },
  {
   "cell_type": "code",
   "execution_count": null,
   "metadata": {},
   "outputs": [],
   "source": [
    "dist1.iloc[all_superinstances, all_superinstances] - dist2.iloc[all_superinstances, all_superinstances]"
   ]
  },
  {
   "cell_type": "markdown",
   "metadata": {},
   "source": [
    "# Similarity based on ARI of the clusters"
   ]
  },
  {
   "cell_type": "markdown",
   "metadata": {},
   "source": [
    "This works and gives a good result but is dependent on the size of each cluster  \n",
    "(e.g. the constraints about a big cluster will have a bigger influence on the similarity than constraints about a small cluster)"
   ]
  },
  {
   "cell_type": "code",
   "execution_count": null,
   "metadata": {},
   "outputs": [],
   "source": [
    "result_comparison.clustering_similarity_chart() "
   ]
  },
  {
   "cell_type": "markdown",
   "metadata": {},
   "source": [
    "# Similarity based on the super-instance relations "
   ]
  },
  {
   "cell_type": "markdown",
   "metadata": {},
   "source": [
    "Instead of calculating the ARI based on all the instances, we can also calculate the ARI based on only the super-instance representatives.  \n",
    "This way, the effect of cluster size is eliminated. \n"
   ]
  },
  {
   "cell_type": "code",
   "execution_count": null,
   "metadata": {},
   "outputs": [],
   "source": [
    "result_comparison.superinstance_similarity_chart()"
   ]
  },
  {
   "cell_type": "markdown",
   "metadata": {},
   "source": [
    "## Correlation plot"
   ]
  },
  {
   "cell_type": "code",
   "execution_count": null,
   "metadata": {},
   "outputs": [],
   "source": [
    "(koen_first_result.similarity_metric_distribution_chart(bandwidth = 10, minsteps = 200).properties(width = 1000))&(koen_second_result.similarity_metric_distribution_chart(bandwidth = 10, minsteps = 200).properties(width = 1000))"
   ]
  },
  {
   "cell_type": "code",
   "execution_count": null,
   "metadata": {},
   "outputs": [],
   "source": [
    "koen_first_result.pearson_correlation_between_distances_and_queries()"
   ]
  },
  {
   "cell_type": "code",
   "execution_count": null,
   "metadata": {},
   "outputs": [],
   "source": [
    "koen_second_result.pearson_correlation_between_distances_and_queries()"
   ]
  },
  {
   "cell_type": "code",
   "execution_count": null,
   "metadata": {},
   "outputs": [],
   "source": [
    "koen_result.similarity_metric_histogram_chart(bins = 200)"
   ]
  },
  {
   "cell_type": "code",
   "execution_count": null,
   "metadata": {},
   "outputs": [],
   "source": []
  }
 ],
 "metadata": {
  "kernelspec": {
   "display_name": "Python 3",
   "language": "python",
   "name": "python3"
  },
  "language_info": {
   "codemirror_mode": {
    "name": "ipython",
    "version": 3
   },
   "file_extension": ".py",
   "mimetype": "text/x-python",
   "name": "python",
   "nbconvert_exporter": "python",
   "pygments_lexer": "ipython3",
   "version": "3.8.10"
  }
 },
 "nbformat": 4,
 "nbformat_minor": 4
}