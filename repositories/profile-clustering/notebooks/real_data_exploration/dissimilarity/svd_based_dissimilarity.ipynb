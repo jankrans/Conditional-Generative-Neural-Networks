{
 "cells": [
  {
   "cell_type": "markdown",
   "metadata": {},
   "source": [
    "# Generate annotated profiles"
   ]
  },
  {
   "cell_type": "code",
   "execution_count": null,
   "metadata": {},
   "outputs": [],
   "source": [
    "import altair as alt\n",
    "import numpy as np\n",
    "import pandas as pd\n",
    "from pathlib import Path\n",
    "import itertools\n",
    "import datetime\n",
    "import random\n",
    "import sys\n",
    "import matplotlib.pyplot as plt\n",
    "idx = pd.IndexSlice\n",
    "alt.data_transformers.disable_max_rows()"
   ]
  },
  {
   "cell_type": "code",
   "execution_count": null,
   "metadata": {},
   "outputs": [],
   "source": [
    "# this reloads code from external modules automatically if it is changed (without having to restart the kernel)\n",
    "%load_ext autoreload\n",
    "%autoreload 2"
   ]
  },
  {
   "cell_type": "code",
   "execution_count": null,
   "metadata": {},
   "outputs": [],
   "source": [
    "sys.path.insert(0, '../handling_zeros_and_nans')\n",
    "from interval_information import get_interval_df"
   ]
  },
  {
   "cell_type": "code",
   "execution_count": null,
   "metadata": {},
   "outputs": [],
   "source": [
    "PRE_PATH = Path('/cw/dtaiproj/ml/2020-FLAIR-VITO/profile-clustering/preprocessed/combined')\n",
    "RESULT_PATH = Path('/cw/dtaiproj/ml/2020-FLAIR-VITO/profile-clustering/error_detection')\n",
    "RESULT_PATH.mkdir(mode = 0o770, parents = True, exist_ok=True)\n",
    "result_path = RESULT_PATH / 'cumulative_value_detection.csv' \n",
    "zero_path = RESULT_PATH / 'zero_interval_is_error.csv'\n",
    "interval_path = RESULT_PATH /'intervals_with_info.csv'\n",
    "info_path = PRE_PATH/'info.csv'\n",
    "data_path = PRE_PATH/'data.csv'\n",
    "assert info_path.exists() and data_path.exists() and zero_path.exists(), 'These paths should exist'"
   ]
  },
  {
   "cell_type": "markdown",
   "metadata": {},
   "source": [
    "# Read info and data"
   ]
  },
  {
   "cell_type": "code",
   "execution_count": null,
   "metadata": {},
   "outputs": [],
   "source": [
    "info_df = pd.read_csv(info_path, index_col = [0,1])\n",
    "data_df = pd.read_csv(data_path, index_col = [0,1])\n",
    "data_df.columns = pd.to_datetime(data_df.columns)\n",
    "data_df.columns.name = 'timestamp'\n"
   ]
  },
  {
   "cell_type": "code",
   "execution_count": null,
   "metadata": {},
   "outputs": [],
   "source": [
    "DATA_SOURCE = 'EandisVREG'\n",
    "YEAR = 2016\n",
    "# get the right subset based on the info df\n",
    "info16_df = info_df.loc[idx[:, 2016],:]\n",
    "info16_df = info16_df[info16_df.data_source == 'EandisVREG']\n",
    "\n",
    "# read the corresponding data profiles \n",
    "data16_df = data_df.loc[info16_df.index, :]\n"
   ]
  },
  {
   "cell_type": "markdown",
   "metadata": {},
   "source": [
    "# Select example profiles"
   ]
  },
  {
   "cell_type": "code",
   "execution_count": null,
   "metadata": {},
   "outputs": [],
   "source": [
    "i1 = 501\n",
    "i2 = 502\n",
    "\n",
    "data_df_selected = data_df.iloc[[i1, i2]]\n",
    "display(data_df_selected)\n",
    "\n",
    "data_df_selected.index = data_df_selected.index.map(lambda o: str(o[0]) + ', ' + str(o[1]))\n",
    "data_df_selected.index.name = 'meter'\n",
    "\n",
    "data_df_selected_longform = data_df_selected.transpose().reset_index().melt('timestamp') # easier for altair\n",
    "data_df_selected_longform.rename(columns={'values':'consumption (kWh)'}, inplace=True)\n",
    "\n",
    "alt.Chart(data_df_selected_longform).mark_line(opacity=0.5).encode(x='timestamp', y='value', color='meter') \\\n",
    "    .properties(width = 600, height = 300).interactive(bind_y = False)"
   ]
  },
  {
   "cell_type": "code",
   "execution_count": null,
   "metadata": {},
   "outputs": [],
   "source": [
    "data_df_selected.loc['day_of_year'] = data_df_selected.columns.map(lambda o: o.dayofyear)\n",
    "data_df_selected.loc['time_of_day'] = data_df_selected.columns.map(lambda o: o.time)\n",
    "data_df_selected_unstacked = data_df_selected.transpose().set_index(['day_of_year','time_of_day']).unstack()\n",
    "\n",
    "data_df_selected_stacked = data_df_selected_unstacked.stack().stack().to_frame('consumption (kWh)').reset_index()\n",
    "\n",
    "data_df_selected_stacked_toplot = data_df_selected_stacked # wrong date of 1900 added to the time_of_the_day \n",
    "                                                           # for altair to function properly\n",
    "data_df_selected_stacked_toplot['time_of_day'] = pd.to_datetime(data_df_selected_stacked_toplot['time_of_day'], \n",
    "                                                                format='%H:%M:%S')"
   ]
  },
  {
   "cell_type": "markdown",
   "metadata": {},
   "source": [
    "## Plot:"
   ]
  },
  {
   "cell_type": "code",
   "execution_count": null,
   "metadata": {},
   "outputs": [],
   "source": [
    "alt.Chart(data_df_selected_stacked_toplot).mark_line(opacity=0.2, thickness=0.2) \\\n",
    "    .encode(x=alt.X('time_of_day:T', timeUnit='hoursminutes'), y='consumption (kWh):Q', \n",
    "            color=alt.Color('day_of_year', scale=alt.Scale(scheme='rainbow'))) \\\n",
    "    .properties(width = 600, height = 300).facet(row='meter:N') \\\n",
    "    .interactive(bind_y = False)"
   ]
  },
  {
   "cell_type": "markdown",
   "metadata": {},
   "source": [
    "# Apply SVD:\n",
    "**Info:**\n",
    "1. Rows of w are the principal directions (axes) of daily time series. Their norm is 1. (Note that columns of w have also unit norm but this has nothing to do with our method.) There are only 96 principal components because the data has 96 dimensions (#samples in a day).\n",
    "2. We can scale rows of w by the singular values in s (by multiplying diag(s) by w) to take into account their 'importance'; i.e., the variation of the data along these directions. The scaled ones are called *principal components*."
   ]
  },
  {
   "cell_type": "code",
   "execution_count": null,
   "metadata": {},
   "outputs": [],
   "source": [
    "meters_selected = data_df_selected_unstacked.columns.get_level_values(0).unique().values\n",
    "xx = [data_df_selected_unstacked[i].values for i in meters_selected]\n",
    "\n",
    "prd_df_unstacked = data_df_selected_unstacked.iloc[0:0,:].copy().reindex(range(1,1+xx[0].shape[1])) # principal directions (unit-norm)\n",
    "prc_df_unstacked = data_df_selected_unstacked.iloc[0:0,:].copy().reindex(range(1,1+xx[0].shape[1])) # principal components (scaled by importance)\n",
    "prd_df_unstacked.index.name = 'principal_direction_no'\n",
    "prc_df_unstacked.index.name = 'principal_component_no'\n",
    "uu = []\n",
    "ss = []\n",
    "ww = []\n",
    "for i, x in enumerate(xx):\n",
    "    x = x[~pd.isnull(x).any(axis=1)]\n",
    "    print(f'For profile {i}, {xx[i].shape[0] - x.shape[0]} of {xx[i].shape[0]} days were removed because of NaNs.')\n",
    "    x = np.array(x, dtype=np.float)\n",
    "    \n",
    "    # SVD:\n",
    "    u,s,w = np.linalg.svd(x) # x = u diag(s) w   (w is already in the transposed form)\n",
    "    \n",
    "    sm = np.pad(np.diag(s), ((0,x.shape[0]-x.shape[1]), (0,0))) # rectangular matrix form of singular values s\n",
    "    # np.linalg.multi_dot([u, sm, w]) - x   should be almost zero\n",
    "    \n",
    "    # Correct the signs of the principal directions: When the dot product between a direction and [1, 1, ..., 1] is negative, change its sign.\n",
    "    for j in range(w.shape[1]):\n",
    "        if np.dot(w[j,:], np.ones(w.shape[0])) < 0:\n",
    "            u[:,j] = -u[:,j] # These two operations do not break the consistency of the SVD multiplication. \n",
    "            w[j,:] = -w[j,:] # The modified matrices are still the SVD of x because of the almost-uniqueness of SVD.\n",
    "                             # The resulting similarity also does not change. \n",
    "    \n",
    "    prd_df_unstacked[meters_selected[i]] = w\n",
    "    prc_df_unstacked[meters_selected[i]] = np.diag(s).dot(w)\n",
    "    uu.append(u)\n",
    "    ss.append(s)\n",
    "    ww.append(w)\n",
    "    \n",
    "    # plt.figure()\n",
    "    # plt.plot(np.transpose(w[0:5,:]))\n",
    "    \n",
    "    # plt.figure(figsize=(10,10))\n",
    "    # plt.imshow(u[0:96])\n",
    "\n",
    "prd_df_stacked = prd_df_unstacked.stack().stack().to_frame('consumption (kWh)').reset_index()\n",
    "prc_df_stacked = prc_df_unstacked.stack().stack().to_frame('consumption (kWh)').reset_index()\n",
    "\n",
    "prd_df_stacked_toplot = prd_df_stacked # wrong date of 1900 added to the time_of_the_day for altair to function properly\n",
    "prc_df_stacked_toplot = prc_df_stacked # \n",
    "prd_df_stacked_toplot['time_of_day'] = pd.to_datetime(prd_df_stacked_toplot['time_of_day'], format='%H:%M:%S')\n",
    "prc_df_stacked_toplot['time_of_day'] = pd.to_datetime(prc_df_stacked_toplot['time_of_day'], format='%H:%M:%S')"
   ]
  },
  {
   "cell_type": "markdown",
   "metadata": {},
   "source": [
    "# Calculate similarity based on SVD:"
   ]
  },
  {
   "cell_type": "markdown",
   "metadata": {},
   "source": [
    "## 1. based on principal components:\n",
    "We calculate all pairwise dot products between the principal components of the two data matrices X_0 and X_1, sum their squares, and scale by 1/(number of columns in W). [Time series distance measures, Spiegel, 2015] [Krzanowski, W. J. Between-Groups Comparison of Principal Components, 1979]"
   ]
  },
  {
   "cell_type": "code",
   "execution_count": null,
   "metadata": {},
   "outputs": [],
   "source": [
    "r0 = np.diag(ss[0]).dot(ww[0].T)\n",
    "r1 = np.diag(ss[1]).dot(ww[1].T)\n",
    "\n",
    "d_1 = (1/r0.shape[0])*np.trace(np.linalg.multi_dot([r0.T, r1, r1.T, r0]))\n",
    "print('dissimilarity based on principal components:', d_1)\n",
    "\n",
    "\n",
    "# (1/r0.shape[0])*np.trace(np.linalg.multi_dot([ww[0].T, ww[1]]))"
   ]
  },
  {
   "cell_type": "markdown",
   "metadata": {},
   "source": [
    "## 2. based on principal directions:\n",
    "Similar to method 1; we use principal directions (that are unit-norm) instead of principal components"
   ]
  },
  {
   "cell_type": "code",
   "execution_count": null,
   "metadata": {},
   "outputs": [],
   "source": [
    "d_2 = (1/r0.shape[0])*np.trace(np.linalg.multi_dot([ww[0].T, ww[1]]))\n",
    "print('dissimilarity based on principal directions:', d_2)\n",
    "\n",
    "\n",
    "# (1/r0.shape[0])*np.trace(np.linalg.multi_dot([ww[0].T, ww[1]]))"
   ]
  },
  {
   "cell_type": "markdown",
   "metadata": {},
   "source": [
    "# Plot:"
   ]
  },
  {
   "cell_type": "code",
   "execution_count": null,
   "metadata": {},
   "outputs": [],
   "source": [
    "noc = 10 # number of components"
   ]
  },
  {
   "cell_type": "code",
   "execution_count": null,
   "metadata": {},
   "outputs": [],
   "source": [
    "alt.Chart(prd_df_stacked_toplot[prd_df_stacked_toplot['principal_direction_no'] <= noc]) \\\n",
    "    .mark_line(opacity=0.5, thickness=0.2) \\\n",
    "    .encode(x=alt.X('time_of_day:T', timeUnit='hoursminutes'), y='consumption (kWh):Q', \n",
    "            color=alt.Color('principal_direction_no', scale=alt.Scale(scheme='lightgreyred'), sort='descending')) \\\n",
    "    .properties(width = 600, height = 300).facet(row='meter:N') \\\n",
    "    .interactive(bind_y = False) #TODO: something weird about the plot"
   ]
  },
  {
   "cell_type": "code",
   "execution_count": null,
   "metadata": {},
   "outputs": [],
   "source": [
    "alt.Chart(prc_df_stacked_toplot[prc_df_stacked_toplot['principal_component_no'] <= noc]) \\\n",
    "    .mark_line(opacity=0.5, thickness=0.2) \\\n",
    "    .encode(x=alt.X('time_of_day:T', timeUnit='hoursminutes'), y='consumption (kWh):Q', \n",
    "            color=alt.Color('principal_component_no', scale=alt.Scale(scheme='lightgreyred'), sort='descending')) \\\n",
    "    .properties(width = 600, height = 300).facet(row='meter:N') \\\n",
    "    .interactive(bind_y = False) #TODO: something weird about the plot"
   ]
  },
  {
   "cell_type": "code",
   "execution_count": null,
   "metadata": {},
   "outputs": [],
   "source": []
  }
 ],
 "metadata": {
  "kernelspec": {
   "display_name": "Python 3",
   "language": "python",
   "name": "python3"
  },
  "language_info": {
   "codemirror_mode": {
    "name": "ipython",
    "version": 3
   },
   "file_extension": ".py",
   "mimetype": "text/x-python",
   "name": "python",
   "nbconvert_exporter": "python",
   "pygments_lexer": "ipython3",
   "version": "3.8.5"
  }
 },
 "nbformat": 4,
 "nbformat_minor": 4
}
