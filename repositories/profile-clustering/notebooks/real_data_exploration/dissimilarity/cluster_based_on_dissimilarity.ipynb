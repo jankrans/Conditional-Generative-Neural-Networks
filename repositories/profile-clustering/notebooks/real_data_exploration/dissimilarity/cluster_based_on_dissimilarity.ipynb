{
 "cells": [
  {
   "cell_type": "markdown",
   "id": "chicken-scenario",
   "metadata": {},
   "source": [
    "# Code to cluster based on a given dissimilarity metric"
   ]
  },
  {
   "cell_type": "code",
   "execution_count": null,
   "id": "following-moment",
   "metadata": {},
   "outputs": [],
   "source": [
    "import numpy as np \n",
    "import pandas as pd\n",
    "import altair as alt\n",
    "from pathlib import Path\n",
    "from sklearn_extra.cluster import KMedoids\n",
    "alt.data_transformers.disable_max_rows()"
   ]
  },
  {
   "cell_type": "code",
   "execution_count": null,
   "id": "comprehensive-watershed",
   "metadata": {},
   "outputs": [],
   "source": [
    "# this reloads code from external modules automatically if it is changed (without having to restart the kernel)\n",
    "%load_ext autoreload\n",
    "%autoreload 2"
   ]
  },
  {
   "cell_type": "code",
   "execution_count": null,
   "id": "national-sleeping",
   "metadata": {},
   "outputs": [],
   "source": [
    "from distance_measures import distance_scaled_principle_directions, get_svd"
   ]
  },
  {
   "cell_type": "code",
   "execution_count": null,
   "id": "saved-aluminum",
   "metadata": {},
   "outputs": [],
   "source": [
    "PRE_PATH = Path('/cw/dtaiproj/ml/2020-FLAIR-VITO/profile-clustering/preprocessed/combined')\n",
    "RESULT_PATH = Path('/cw/dtaiproj/ml/2020-FLAIR-VITO/profile-clustering/error_detection')\n",
    "RESULT_PATH.mkdir(mode = 0o770, parents = True, exist_ok=True)\n",
    "result_path = RESULT_PATH / 'cumulative_value_detection.csv' \n",
    "zero_path = RESULT_PATH / 'zero_interval_is_error.csv'\n",
    "interval_path = RESULT_PATH /'intervals_with_info.csv'\n",
    "info_path = PRE_PATH/'info.csv'\n",
    "data_path = PRE_PATH/'data.csv'\n",
    "assert info_path.exists() and data_path.exists() and zero_path.exists(), 'These paths should exist'"
   ]
  },
  {
   "cell_type": "code",
   "execution_count": null,
   "id": "entire-willow",
   "metadata": {},
   "outputs": [],
   "source": [
    "info_df = pd.read_csv(info_path, index_col = [0,1], nrows = 100)\n",
    "data_df = pd.read_csv(data_path, index_col = [0,1], nrows = 100)\n",
    "data_df.columns = pd.to_datetime(data_df.columns)\n",
    "data_df.columns.name = 'timestamp'"
   ]
  },
  {
   "cell_type": "code",
   "execution_count": null,
   "id": "qualified-garlic",
   "metadata": {},
   "outputs": [],
   "source": [
    "data_subset = data_df.iloc[0:15]"
   ]
  },
  {
   "cell_type": "code",
   "execution_count": null,
   "id": "quality-reaction",
   "metadata": {},
   "outputs": [],
   "source": [
    "%%time\n",
    "from sklearn.metrics import pairwise_distances\n",
    "distances = pairwise_distances(data_subset.to_numpy(dtype ='float'), metric = distance_scaled_principle_directions, force_all_finite = 'allow-nan', n_jobs = 4, components_to_use = 10)\n",
    "distances1 = pairwise_distances(data_subset.to_numpy(dtype ='float'), metric = distance_scaled_principle_directions, force_all_finite = 'allow-nan', n_jobs = 4, components_to_use = None)"
   ]
  },
  {
   "cell_type": "code",
   "execution_count": null,
   "id": "missing-newspaper",
   "metadata": {},
   "outputs": [],
   "source": [
    "distance_df = pd.DataFrame(distances)\n",
    "distance1_df = pd.DataFrame(distances1)"
   ]
  },
  {
   "cell_type": "code",
   "execution_count": null,
   "id": "technological-quarterly",
   "metadata": {},
   "outputs": [],
   "source": [
    "\n",
    "distance_df.loc[0:15,0:15].style.background_gradient(axis = None)"
   ]
  },
  {
   "cell_type": "code",
   "execution_count": null,
   "id": "sixth-queue",
   "metadata": {},
   "outputs": [],
   "source": [
    "\n",
    "distance1_df.loc[0:15,0:15].style.background_gradient(axis = None)"
   ]
  },
  {
   "cell_type": "code",
   "execution_count": null,
   "id": "burning-cameroon",
   "metadata": {},
   "outputs": [],
   "source": [
    "size_of_profiles = pairwise_distances(data_df.iloc[:15].sum(axis = 1).to_numpy().reshape((-1,1)), metric = lambda x,y: x + y)\n",
    "pd.DataFrame(size_of_profiles).style.background_gradient(axis = 0)"
   ]
  },
  {
   "cell_type": "code",
   "execution_count": null,
   "id": "running-finance",
   "metadata": {},
   "outputs": [],
   "source": [
    "similar = 10, 11\n",
    "dissimilar = 5, 6\n"
   ]
  },
  {
   "cell_type": "code",
   "execution_count": null,
   "id": "textile-generic",
   "metadata": {},
   "outputs": [],
   "source": [
    "def plot_profiles(i1, i2): \n",
    "    subset = (\n",
    "        # select right subset\n",
    "        data_df.iloc[[i1,i2],:]\n",
    "        .stack().to_frame('value')\n",
    "        .reset_index()\n",
    "        .assign(ID = lambda x: x.meterID.astype('str')+','+x.year.astype('str'))\n",
    "    )\n",
    "    return alt.Chart(subset, width = 1000, height = 200).mark_line().encode(\n",
    "        x = 'timestamp:T', \n",
    "        y = 'value', \n",
    "        color = 'ID:N'\n",
    "    ).interactive(bind_y = False)\n",
    "plot_profiles(*dissimilar)"
   ]
  },
  {
   "cell_type": "code",
   "execution_count": null,
   "id": "adequate-gnome",
   "metadata": {},
   "outputs": [],
   "source": [
    "plot_profiles(*similar)"
   ]
  }
 ],
 "metadata": {
  "kernelspec": {
   "display_name": "Python 3",
   "language": "python",
   "name": "python3"
  },
  "language_info": {
   "codemirror_mode": {
    "name": "ipython",
    "version": 3
   },
   "file_extension": ".py",
   "mimetype": "text/x-python",
   "name": "python",
   "nbconvert_exporter": "python",
   "pygments_lexer": "ipython3",
   "version": "3.8.5"
  }
 },
 "nbformat": 4,
 "nbformat_minor": 5
}
