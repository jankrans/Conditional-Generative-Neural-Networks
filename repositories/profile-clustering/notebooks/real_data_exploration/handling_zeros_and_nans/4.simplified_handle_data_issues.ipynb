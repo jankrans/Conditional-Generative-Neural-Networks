{
 "cells": [
  {
   "cell_type": "markdown",
   "metadata": {},
   "source": [
    "# Simplified handle data issues\n",
    "After quite a long complex solution to the handling of data issues, let's simplify and simply use boxplot rule (based on Kostas)"
   ]
  },
  {
   "cell_type": "code",
   "execution_count": null,
   "metadata": {},
   "outputs": [],
   "source": [
    "from pathlib import Path\n",
    "from energyclustering.data.preprocessing.interval_information import get_interval_df\n",
    "from energyclustering.data.preprocessing.peakdetection import replace_data_problems_with_NaN, get_cumulative_measurements_simple, replace_connection_and_pv_power_peaks_with_nan\n",
    "import pandas as pd \n",
    "import altair as alt\n",
    "alt.data_transformers.disable_max_rows()"
   ]
  },
  {
   "cell_type": "code",
   "execution_count": null,
   "metadata": {},
   "outputs": [],
   "source": [
    "%load_ext autoreload\n",
    "%autoreload 2"
   ]
  },
  {
   "cell_type": "code",
   "execution_count": null,
   "metadata": {},
   "outputs": [],
   "source": [
    "paths = [Path('/cw/dtaiproj/ml/2020-FLAIR-VITO/profile-clustering/new_preprocessed/combined'),\n",
    "        # Lola simply add your path to the \n",
    "        ]\n",
    "PRE_PATH = next(path for path in paths if path.exists())\n",
    "DATA_DF_NAME = 'reindexed_DST_data.pkl'\n",
    "RESULT_DF_NAME = 'reindexed_DST_data_masked_errors.pkl'\n",
    "INFO_DF_NAME = 'reindexed_info.pkl'\n",
    "assert (PRE_PATH/DATA_DF_NAME).exists() and (PRE_PATH/INFO_DF_NAME).exists()\n",
    "# OVERWRITE = True"
   ]
  },
  {
   "cell_type": "markdown",
   "metadata": {},
   "source": [
    "## Read the data, do the transformation and write the result"
   ]
  },
  {
   "cell_type": "code",
   "execution_count": null,
   "metadata": {},
   "outputs": [],
   "source": [
    "data_df = pd.read_pickle(PRE_PATH/DATA_DF_NAME)\n",
    "info_df = pd.read_pickle(PRE_PATH/INFO_DF_NAME)"
   ]
  },
  {
   "cell_type": "code",
   "execution_count": null,
   "metadata": {},
   "outputs": [],
   "source": [
    "%%time\n",
    "if not (PRE_PATH/RESULT_DF_NAME).exists() or OVERWRITE: \n",
    "    interval_df = get_interval_df(data_df, info_df)"
   ]
  },
  {
   "cell_type": "code",
   "execution_count": null,
   "metadata": {},
   "outputs": [],
   "source": [
    "%%time\n",
    "OVERWRITE = False\n",
    "if (PRE_PATH/RESULT_DF_NAME).exists() and not OVERWRITE: \n",
    "    new_data_df = pd.read_pickle(PRE_PATH/RESULT_DF_NAME)\n",
    "else: \n",
    "    is_error = get_cumulative_measurements_simple(data_df, info_df, interval_df, iqr_multiplier = 3)\n",
    "    new_data_df = replace_data_problems_with_NaN(data_df, interval_df, is_error)\n",
    "    new_data_df = replace_connection_and_pv_power_peaks_with_nan(new_data_df, info_df)\n",
    "    new_data_df.to_pickle(PRE_PATH/RESULT_DF_NAME)\n",
    "    OVERWRITE = False"
   ]
  },
  {
   "cell_type": "markdown",
   "metadata": {},
   "source": [
    "## Look at the result\n"
   ]
  },
  {
   "cell_type": "code",
   "execution_count": null,
   "metadata": {},
   "outputs": [],
   "source": [
    "\n",
    "def plot_profile(profile_to_check):\n",
    "    original = data_df.loc[profile_to_check]\n",
    "    new = new_data_df.loc[profile_to_check]\n",
    "    plot_df = (\n",
    "        pd.concat([original, new], keys = ['original', 'new'],axis = 1).rename_axis(index = 'timestamp', columns = 'type')\n",
    "        .stack(dropna=False)\n",
    "        .to_frame('value')\n",
    "        .reset_index()\n",
    "    )\n",
    "    return alt.Chart(plot_df, width = 1300, title = str(profile_to_check)).mark_line().encode(\n",
    "        x = 'timestamp:T', \n",
    "        y = 'value', \n",
    "        row = alt.Row('type:N', sort = 'descending')\n",
    "    ).interactive(bind_y = False)"
   ]
  },
  {
   "cell_type": "code",
   "execution_count": null,
   "metadata": {},
   "outputs": [],
   "source": [
    "nan_profiles = data_df.isna().sum(axis = 1).sort_values(ascending = False).index\n",
    "nan_profiles_new = new_data_df.isna().sum(axis = 1).sort_values(ascending =False).index\n",
    "high_consumption = data_df.max(axis = 1).sort_values(ascending = False).index\n",
    "injection_profiles = (data_df < 0).sum(axis = 1).pipe(lambda x: x[x>0]).sort_values(ascending = True)\n",
    "zero_profiles = (data_df == 0).sum(axis = 1).sort_values(ascending = False).index"
   ]
  },
  {
   "cell_type": "code",
   "execution_count": null,
   "metadata": {},
   "outputs": [],
   "source": [
    "injection_profiles.hist(bins = 100)"
   ]
  },
  {
   "cell_type": "code",
   "execution_count": null,
   "metadata": {},
   "outputs": [],
   "source": [
    "# profile = high_consumption[0]\n",
    "# profile = high_consumption[30]\n",
    "# profile = nan_profiles_new[10]\n",
    "# profile = injection_profiles.index[200]\n",
    "# profile = zero_profiles[5]\n",
    "# profile = ('smartmeter_1596',2016) # lots of zeros\n",
    "profile = ('smartmeter_478', 2014) # used to be non-peaks detected as errors\n",
    "print(profile)\n",
    "plot_profile(profile)"
   ]
  },
  {
   "cell_type": "code",
   "execution_count": null,
   "metadata": {},
   "outputs": [],
   "source": [
    "info_df.loc[profile]"
   ]
  },
  {
   "cell_type": "code",
   "execution_count": null,
   "metadata": {},
   "outputs": [],
   "source": [
    "data = data_df.loc[profile]\n",
    "q1, q3 = data.quantile(0.25), data.quantile(0.75)\n",
    "iqr = q3 - q1\n",
    "print(f\"{q1=}, {q3=}, {iqr=}\")\n",
    "print(f\"{q1-2*iqr}, {q3+2*iqr}\")"
   ]
  },
  {
   "cell_type": "code",
   "execution_count": null,
   "metadata": {},
   "outputs": [],
   "source": []
  }
 ],
 "metadata": {
  "kernelspec": {
   "display_name": "Python 3",
   "language": "python",
   "name": "python3"
  },
  "language_info": {
   "codemirror_mode": {
    "name": "ipython",
    "version": 3
   },
   "file_extension": ".py",
   "mimetype": "text/x-python",
   "name": "python",
   "nbconvert_exporter": "python",
   "pygments_lexer": "ipython3",
   "version": "3.8.10"
  }
 },
 "nbformat": 4,
 "nbformat_minor": 4
}
