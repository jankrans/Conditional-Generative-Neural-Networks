{
 "cells": [
  {
   "cell_type": "code",
   "execution_count": null,
   "id": "e8f55369-ddfc-4bf3-8c77-cca033b2e4f8",
   "metadata": {},
   "outputs": [],
   "source": [
    "from pathlib import Path\n",
    "from energyclustering.data.preprocessing.interval_information import get_interval_df\n",
    "from energyclustering.data.preprocessing.peakdetection import replace_connection_and_pv_power_peaks_with_nan\n",
    "import pandas as pd \n",
    "import altair as alt\n",
    "alt.data_transformers.disable_max_rows()"
   ]
  },
  {
   "cell_type": "code",
   "execution_count": null,
   "id": "794ebc08-b498-4515-b00a-27ce56e16628",
   "metadata": {},
   "outputs": [],
   "source": [
    "%load_ext autoreload\n",
    "%autoreload 2"
   ]
  },
  {
   "cell_type": "code",
   "execution_count": null,
   "id": "36bdc727-3f97-44fb-a80b-65bb924759ac",
   "metadata": {},
   "outputs": [],
   "source": [
    "paths = [Path('/cw/dtaiproj/ml/2020-FLAIR-VITO/profile-clustering/new_preprocessed/combined'),\n",
    "        # Lola simply add your path to the \n",
    "        ]\n",
    "PRE_PATH = next(path for path in paths if path.exists())\n",
    "DATA_DF_NAME = 'reindexed_DST_data.pkl'\n",
    "INFO_DF_NAME = 'reindexed_info.pkl'\n",
    "RESULT_DF_NAME = 'reindexed_DST_data_subset_no_errors.pkl'\n",
    "INFO_RESULT_DF_NAME = 'reindexed_info_subset_no_errors.pkl'\n",
    "\n",
    "assert (PRE_PATH/DATA_DF_NAME).exists() and (PRE_PATH/INFO_DF_NAME).exists()\n",
    "# OVERWRITE = True"
   ]
  },
  {
   "cell_type": "code",
   "execution_count": null,
   "id": "a1e14c4c-cc7a-4453-86d3-b95f40d0781f",
   "metadata": {},
   "outputs": [],
   "source": []
  },
  {
   "cell_type": "markdown",
   "id": "dbb36b78-552a-437e-8fb0-fe2c52d5867b",
   "metadata": {},
   "source": [
    "## Read the data"
   ]
  },
  {
   "cell_type": "code",
   "execution_count": null,
   "id": "432ca7f5-0e80-4b8c-966c-2a6d92462962",
   "metadata": {},
   "outputs": [],
   "source": [
    "data_df = pd.read_pickle(PRE_PATH/DATA_DF_NAME)\n",
    "info_df = pd.read_pickle(PRE_PATH/INFO_DF_NAME)"
   ]
  },
  {
   "cell_type": "markdown",
   "id": "c1cad88b-ea93-4da7-b782-271f7c535cb6",
   "metadata": {},
   "source": [
    "## Fill the missing DST hour with zeros"
   ]
  },
  {
   "cell_type": "code",
   "execution_count": null,
   "id": "cd5cf31e-692f-4350-8d2c-8064d340fced",
   "metadata": {},
   "outputs": [],
   "source": [
    "mar_2010, oct_2010 = pd.to_datetime('2016-03-28 02:00:00') , pd.to_datetime('2016-10-31 02:00:00')\n",
    "mar_2011, oct_2011 = pd.to_datetime('2016-03-27 02:00:00') , pd.to_datetime('2016-10-30 02:00:00')\n",
    "mar_2012, oct_2012 = pd.to_datetime('2016-03-25 02:00:00') , pd.to_datetime('2016-10-28 02:00:00')\n",
    "mar_2013, oct_2013 = pd.to_datetime('2016-03-31 02:00:00') , pd.to_datetime('2016-10-27 02:00:00')\n",
    "mar_2014, oct_2014 = pd.to_datetime('2016-03-30 02:00:00') , pd.to_datetime('2016-10-26 02:00:00')\n",
    "mar_2015, oct_2015 = pd.to_datetime('2016-03-29 02:00:00') , pd.to_datetime('2016-10-25 02:00:00')\n",
    "mar_2016, oct_2016 = pd.to_datetime('2016-03-27 02:00:00') , pd.to_datetime('2016-10-30 02:00:00')\n",
    "mar_2017, oct_2017 = pd.to_datetime('2016-03-26 02:00:00') , pd.to_datetime('2016-10-29 02:00:00')\n",
    "DST_times = pd.DataFrame(\n",
    "    [\n",
    "        [mar_2010, oct_2010],\n",
    "        [mar_2011, oct_2011],\n",
    "        [mar_2012, oct_2012],\n",
    "        [mar_2013, oct_2013],\n",
    "        [mar_2014, oct_2014],\n",
    "        [mar_2015, oct_2015], \n",
    "        [mar_2016, oct_2016], \n",
    "        [mar_2017, oct_2017]\n",
    "    ], index = range(2010, 2018),\n",
    "    columns = ['DST_start', 'DST_end']).rename_axis(index = 'year')\n",
    "DST_times"
   ]
  },
  {
   "cell_type": "code",
   "execution_count": null,
   "id": "dd0ad4b6-d4d3-4c87-b801-98d588735f28",
   "metadata": {},
   "outputs": [],
   "source": [
    "def fill_DST_missing_hour_with_zeros(row): \n",
    "    meterID, year = row.name \n",
    "    DST_start, DST_end = DST_times.loc[year]\n",
    "    missing_hour_start = DST_start\n",
    "    missing_hour_end = DST_start + pd.Timedelta('45min')\n",
    "    assert row.loc[missing_hour_start:missing_hour_end].isna().all()\n",
    "    row.loc[missing_hour_start: missing_hour_end]= 0\n"
   ]
  },
  {
   "cell_type": "code",
   "execution_count": null,
   "id": "ebb29a46-bc9a-47dc-a3dd-d17c4134c3c1",
   "metadata": {},
   "outputs": [],
   "source": [
    "# fill all the missing hours with 0\n",
    "data_df.apply(fill_DST_missing_hour_with_zeros, axis =1)\n",
    "data_df"
   ]
  },
  {
   "cell_type": "markdown",
   "id": "32d2613f-aa89-4eb0-af52-2cecf213bb7e",
   "metadata": {},
   "source": [
    "## Remove the additional day in a leap year"
   ]
  },
  {
   "cell_type": "code",
   "execution_count": null,
   "id": "892f4f60-5741-49c2-b060-e4a399f192cc",
   "metadata": {},
   "outputs": [],
   "source": [
    "data_df = data_df.drop(data_df.loc[:,'2016-02-29':'2016-02-29 23:45'].columns, axis = 1)\n",
    "data_df.columns = [date.replace(year = 2015) for date in data_df.columns]\n",
    "data_df"
   ]
  },
  {
   "cell_type": "code",
   "execution_count": null,
   "id": "181047be-a2b4-4cd6-aff7-81e26ec3f601",
   "metadata": {},
   "outputs": [],
   "source": [
    "data_df.loc[:,'2015-02-28 23:00':'2015-03-01 1:00']"
   ]
  },
  {
   "cell_type": "markdown",
   "id": "cda17c5d-dfdc-4907-9ae8-9f1f4bf31698",
   "metadata": {},
   "source": [
    "## Remove power peaks that we are certain off "
   ]
  },
  {
   "cell_type": "code",
   "execution_count": null,
   "id": "9decba32-0021-46cd-9e87-96b557dfdf71",
   "metadata": {},
   "outputs": [],
   "source": [
    "data_df = replace_connection_and_pv_power_peaks_with_nan(data_df, info_df)\n",
    "data_df"
   ]
  },
  {
   "cell_type": "markdown",
   "id": "8ccd8faa-0e73-47b9-8a99-2d89b397ebee",
   "metadata": {},
   "source": [
    "## Drop the days with remaining problems"
   ]
  },
  {
   "cell_type": "code",
   "execution_count": null,
   "id": "74534d1b-9076-43ab-a3c8-ce03358930f9",
   "metadata": {},
   "outputs": [],
   "source": [
    "data_df = data_df.dropna(how = 'any', axis = 0)\n",
    "data_df "
   ]
  },
  {
   "cell_type": "markdown",
   "id": "3487c370-d2e9-4557-8592-b7a85083299b",
   "metadata": {},
   "source": [
    "## Take corresponding info_df"
   ]
  },
  {
   "cell_type": "code",
   "execution_count": null,
   "id": "d9af4d5d-29da-483d-b78f-59045310cd18",
   "metadata": {},
   "outputs": [],
   "source": [
    "info_df = info_df.loc[data_df.index]\n",
    "info_df"
   ]
  },
  {
   "cell_type": "markdown",
   "id": "73d158a4-3d5f-404c-8d93-18afb1d32b9d",
   "metadata": {},
   "source": [
    "## Save the results"
   ]
  },
  {
   "cell_type": "code",
   "execution_count": null,
   "id": "6eb69fd9-5d53-4b42-9456-2be0f0d0de3b",
   "metadata": {},
   "outputs": [],
   "source": [
    "data_df.to_pickle(PRE_PATH/RESULT_DF_NAME)\n",
    "info_df.to_pickle(PRE_PATH/INFO_RESULT_DF_NAME)"
   ]
  },
  {
   "cell_type": "markdown",
   "id": "44009bb6-8033-482a-bb9d-6147b5eeb88f",
   "metadata": {},
   "source": [
    "## Look at some profiles"
   ]
  },
  {
   "cell_type": "code",
   "execution_count": null,
   "id": "edd18ec3-afdf-4b88-97ad-9e85e92a6bf6",
   "metadata": {},
   "outputs": [],
   "source": [
    "def plot_profile(profile): \n",
    "    profile_df = data_df.loc[profile]\n",
    "    plot_df = profile_df.to_frame().reset_index().set_axis(['time', 'value'], axis = 1)\n",
    "    return alt.Chart(plot_df, width = 1500).mark_line().encode(\n",
    "        x = 'time', \n",
    "        y = 'value'\n",
    "    ).interactive(bind_y = False)"
   ]
  },
  {
   "cell_type": "code",
   "execution_count": null,
   "id": "8ce84965-1883-42f5-8292-efc65245bc74",
   "metadata": {},
   "outputs": [],
   "source": [
    "info_df = info_df.loc[data_df.index]\n",
    "info_df"
   ]
  },
  {
   "cell_type": "code",
   "execution_count": null,
   "id": "aea39f33-a0ee-4c42-b735-c5ef8c563958",
   "metadata": {},
   "outputs": [],
   "source": [
    "info_df.consumer_type.value_counts(dropna = False).to_frame('count')"
   ]
  },
  {
   "cell_type": "code",
   "execution_count": null,
   "id": "2d67c20e-fc65-4ab1-9912-ed22a5027772",
   "metadata": {},
   "outputs": [],
   "source": [
    "info_df.data_source.value_counts().to_frame('count')"
   ]
  },
  {
   "cell_type": "code",
   "execution_count": null,
   "id": "f95827f4-126f-4d52-a659-5add04c919ed",
   "metadata": {},
   "outputs": [],
   "source": [
    "info_df.tarif_type.value_counts()"
   ]
  },
  {
   "cell_type": "code",
   "execution_count": null,
   "id": "df3d6a9e-cba9-4356-b9a5-45c91624d55b",
   "metadata": {},
   "outputs": [],
   "source": [
    "info_df.category.value_counts()"
   ]
  },
  {
   "cell_type": "code",
   "execution_count": null,
   "id": "f012a66f-1206-44e8-9747-545b259d166f",
   "metadata": {},
   "outputs": [],
   "source": []
  }
 ],
 "metadata": {
  "kernelspec": {
   "display_name": "Python 3",
   "language": "python",
   "name": "python3"
  },
  "language_info": {
   "codemirror_mode": {
    "name": "ipython",
    "version": 3
   },
   "file_extension": ".py",
   "mimetype": "text/x-python",
   "name": "python",
   "nbconvert_exporter": "python",
   "pygments_lexer": "ipython3",
   "version": "3.8.10"
  }
 },
 "nbformat": 4,
 "nbformat_minor": 5
}
