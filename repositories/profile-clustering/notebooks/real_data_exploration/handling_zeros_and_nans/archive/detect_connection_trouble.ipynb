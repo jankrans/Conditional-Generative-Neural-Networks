{
 "cells": [
  {
   "cell_type": "markdown",
   "metadata": {},
   "source": [
    "# The goal here is to detect connection problems in the data such that we can handle these later\n",
    "So the main idea is to look for periods where multiple meters have zero measurements, these periods are called disconnection periods\n"
   ]
  },
  {
   "cell_type": "markdown",
   "metadata": {},
   "source": [
    "\n",
    "## Imports and set-up"
   ]
  },
  {
   "cell_type": "code",
   "execution_count": null,
   "metadata": {},
   "outputs": [],
   "source": [
    "import altair as alt\n",
    "import numpy as np\n",
    "import pandas as pd\n",
    "from pathlib import Path\n",
    "import itertools\n",
    "import datetime\n",
    "import tqdm\n",
    "idx = pd.IndexSlice\n",
    "alt.data_transformers.disable_max_rows()"
   ]
  },
  {
   "cell_type": "code",
   "execution_count": null,
   "metadata": {},
   "outputs": [],
   "source": [
    "PRE_PATH = Path('/cw/dtaiproj/ml/2020-FLAIR-VITO/profile-clustering/preprocessed/combined')\n",
    "info_path = PRE_PATH/'info.csv'\n",
    "data_path = PRE_PATH/'data.csv'\n",
    "assert info_path.exists() and data_path.exists(), 'These paths should exist'"
   ]
  },
  {
   "cell_type": "markdown",
   "metadata": {},
   "source": [
    "## Read the data"
   ]
  },
  {
   "cell_type": "code",
   "execution_count": null,
   "metadata": {},
   "outputs": [],
   "source": [
    "info_df = pd.read_csv(info_path, index_col = [0,1])\n",
    "info_df.head()"
   ]
  },
  {
   "cell_type": "code",
   "execution_count": null,
   "metadata": {},
   "outputs": [],
   "source": [
    "data_df = pd.read_csv(data_path, index_col = [0,1])\n",
    "data_df.columns = pd.to_datetime(data_df.columns)\n",
    "data_df.columns.name = 'timestamp'\n",
    "data_df.head()"
   ]
  },
  {
   "cell_type": "code",
   "execution_count": null,
   "metadata": {},
   "outputs": [],
   "source": [
    "leap_years = [2012, 2016]\n",
    "non_leap_years = [year for year in info_df.index.levels[1] if year not in leap_years]\n",
    "print(f'leap years = {leap_years}')\n",
    "print(f'non leap years = {non_leap_years}')"
   ]
  },
  {
   "cell_type": "markdown",
   "metadata": {},
   "source": [
    "## Handle all data sources and years seperately\n",
    "Of course connection problems need to be in the same year and within the same measurement project"
   ]
  },
  {
   "cell_type": "code",
   "execution_count": null,
   "metadata": {},
   "outputs": [],
   "source": [
    "DATA_SOURCE = 'EandisVREG'\n",
    "YEAR = 2016\n",
    "# get the right subset based on the info df\n",
    "info16_df = info_df.loc[idx[:, 2016],:]\n",
    "info16_df = info16_df[info16_df.data_source == 'EandisVREG']\n",
    "info16_df"
   ]
  },
  {
   "cell_type": "code",
   "execution_count": null,
   "metadata": {},
   "outputs": [],
   "source": [
    "# read the corresponding data profiles \n",
    "data16_df = data_df.loc[info16_df.index, :]\n",
    "data16_df"
   ]
  },
  {
   "cell_type": "code",
   "execution_count": null,
   "metadata": {},
   "outputs": [],
   "source": [
    "data16_df = data16_df.fillna(0)"
   ]
  },
  {
   "cell_type": "markdown",
   "metadata": {},
   "source": [
    "## Look at the amount of zeros"
   ]
  },
  {
   "cell_type": "code",
   "execution_count": null,
   "metadata": {},
   "outputs": [],
   "source": [
    "# nb of zeros for each profile\n",
    "nb_of_zeros = (data16_df == 0).sum(axis = 1)\n",
    "nb_of_zeros = nb_of_zeros[nb_of_zeros>0]\n",
    "\n",
    "\n",
    "print(f'there are {len(nb_of_zeros)} profiles with zero values')\n",
    "print(f'the average number of zeros in each these profiles is {nb_of_zeros.mean()}')\n",
    "alt.Chart(nb_of_zeros.to_frame('zeros').reset_index()).mark_bar().encode(\n",
    "    x = alt.X('zeros:O', bin=True), \n",
    "    y = alt.Y('count()')\n",
    ")"
   ]
  },
  {
   "cell_type": "code",
   "execution_count": null,
   "metadata": {},
   "outputs": [],
   "source": [
    "# drop profiles with no zeros, these do not have to be fixed\n",
    "data16_df= data16_df.loc[nb_of_zeros.index, :]\n",
    "data16_df"
   ]
  },
  {
   "cell_type": "markdown",
   "metadata": {},
   "source": [
    "## Construct the intervals"
   ]
  },
  {
   "cell_type": "code",
   "execution_count": null,
   "metadata": {},
   "outputs": [],
   "source": [
    "# code to find intervals with only zeros\n",
    "def zero_runs(a):\n",
    "    # Create an array that is 1 where a is 0, and pad each end with an extra 0.\n",
    "    iszero = np.concatenate(([0], np.equal(a, 0).view(np.int8), [0]))\n",
    "    absdiff = np.abs(np.diff(iszero))\n",
    "    # Runs start and end where absdiff is 1.\n",
    "    ranges = np.where(absdiff == 1)[0].reshape(-1, 2)\n",
    "    return ranges\n",
    "\n",
    "def zero_run_df(data_df): \n",
    "    dfs = []\n",
    "    for index, row in data_df.iterrows(): \n",
    "        runs = zero_runs(row)\n",
    "        dfs.append(pd.DataFrame(runs, columns = ['start', 'end'], index = [index]*runs.shape[0]))\n",
    "    full_df = pd.concat(dfs, axis = 0).reset_index().rename(columns = {'index':'profile'})\n",
    "#     full_df['start_time'] = data14_df.columns[full_df['start']]\n",
    "#     full_df['end_time'] = data14_df.columns[full_df['end']-1]\n",
    "    return full_df\n",
    "\n",
    "zero_periods = zero_run_df(data16_df)\n",
    "zero_periods"
   ]
  },
  {
   "cell_type": "code",
   "execution_count": null,
   "metadata": {},
   "outputs": [],
   "source": [
    "# periods with more than DISCONNECTION_PERIOD_THRESHOLD profiles are seen as disconnection periods \n",
    "DISCONNECTION_PERIOD_THRESHOLD = 30\n",
    "disconnection_period_df = zero_periods.groupby(['start', 'end']).count().rename(columns = {'profile':'count'}).reset_index()\n",
    "print(f'{len(disconnection_period_df)} distinct disconnection periods')\n",
    "disconnection_period_df = disconnection_period_df.query(f'count > {DISCONNECTION_PERIOD_THRESHOLD}')\n",
    "print(f'{len(disconnection_period_df)} disconnection periods with #profiles > {DISCONNECTION_PERIOD_THRESHOLD}')\n",
    "disconnection_period_df"
   ]
  },
  {
   "cell_type": "code",
   "execution_count": null,
   "metadata": {},
   "outputs": [],
   "source": [
    "# organize this in a set for fast lookup \n",
    "disconnection_periods = {tuple(period) for _, period in disconnection_period_df.drop(columns = ['count']).iterrows()}\n"
   ]
  },
  {
   "cell_type": "code",
   "execution_count": null,
   "metadata": {},
   "outputs": [],
   "source": [
    "# to the zero periods df add columns that say whether it is a disconnection period or not \n",
    "# a period is a disconnection period if it has a deviation from the a disconnection profile of maximum MAXIMUM_DEVIATION\n",
    "MAXIMUM_DEVIATION = 2\n",
    "def is_disconnection_period(row): \n",
    "    # instead of checking similarity against all profiles, check a limited amount of options in constant time \n",
    "    _, start, end = row \n",
    "    for start_deviation in range(0, MAXIMUM_DEVIATION+1): \n",
    "        max_end_deviation = MAXIMUM_DEVIATION - start_deviation\n",
    "        for end_deviation in range(0, max_end_deviation+1): \n",
    "            # try all directions of deviation \n",
    "            for start_delta, end_delta in itertools.product([start_deviation, -start_deviation], [end_deviation, -end_deviation]): \n",
    "                if (start + start_delta, end + end_delta) in disconnection_periods: \n",
    "                    return True\n",
    "    return False\n",
    "            \n",
    "    \n",
    "zero_periods['is_disconnection_period'] = zero_periods.apply(is_disconnection_period, axis = 1)\n",
    "zero_periods"
   ]
  },
  {
   "cell_type": "code",
   "execution_count": null,
   "metadata": {},
   "outputs": [],
   "source": [
    "zero_periods.is_disconnection_period.value_counts()"
   ]
  },
  {
   "cell_type": "code",
   "execution_count": null,
   "metadata": {},
   "outputs": [],
   "source": [
    "zero_periods = zero_periods.set_index('profile')\n",
    "zero_periods['start_time'] = data16_df.columns[zero_periods['start']]\n",
    "zero_periods['end_time'] = data16_df.columns[zero_periods['end']-1]\n",
    "zero_periods['end_time'] += pd.Timedelta('15min')\n",
    "zero_periods['period_length'] = zero_periods.end - zero_periods.start"
   ]
  },
  {
   "cell_type": "markdown",
   "metadata": {},
   "source": [
    "So around 2 in 3 zero periods is detected as a disconnection error "
   ]
  },
  {
   "cell_type": "markdown",
   "metadata": {},
   "source": [
    "## Let's inspect the results by plotting them"
   ]
  },
  {
   "cell_type": "code",
   "execution_count": null,
   "metadata": {},
   "outputs": [],
   "source": [
    "def plot_profile_with_period_marks(profile_idx): \n",
    "    profile = data16_df.iloc[profile_idx, :]\n",
    "    zero_periods_for_profile = zero_periods.loc[[profile.name],: ]\n",
    "#     print(zero_periods_for_profile[['start_time', 'end_time', 'is_disconnection_period']])\n",
    "    line = alt.Chart(profile.to_frame('value').reset_index()).mark_line().encode(\n",
    "        x = alt.X('timestamp:T'), \n",
    "        y = alt.Y('value:Q')\n",
    "    )\n",
    "    rect = alt.Chart(zero_periods_for_profile).mark_rect(opacity = 0.8).encode(\n",
    "        x = 'start_time:T',\n",
    "        x2 = 'end_time:T', \n",
    "        color = alt.Color('is_disconnection_period:N', scale = alt.Scale(domain = [True, False], range = ['red', 'green']))\n",
    "    )\n",
    "    return (rect + line).properties(width = 1800).interactive()\n",
    "    "
   ]
  },
  {
   "cell_type": "code",
   "execution_count": null,
   "metadata": {},
   "outputs": [],
   "source": []
  },
  {
   "cell_type": "code",
   "execution_count": null,
   "metadata": {},
   "outputs": [],
   "source": [
    "(plot_profile_with_period_marks(2) & plot_profile_with_period_marks(3)).resolve_scale(x = 'shared')"
   ]
  },
  {
   "cell_type": "code",
   "execution_count": null,
   "metadata": {},
   "outputs": [],
   "source": []
  },
  {
   "cell_type": "code",
   "execution_count": null,
   "metadata": {},
   "outputs": [],
   "source": []
  },
  {
   "cell_type": "code",
   "execution_count": null,
   "metadata": {},
   "outputs": [],
   "source": []
  }
 ],
 "metadata": {
  "kernelspec": {
   "display_name": "Python 3",
   "language": "python",
   "name": "python3"
  },
  "language_info": {
   "codemirror_mode": {
    "name": "ipython",
    "version": 3
   },
   "file_extension": ".py",
   "mimetype": "text/x-python",
   "name": "python",
   "nbconvert_exporter": "python",
   "pygments_lexer": "ipython3",
   "version": "3.8.5"
  }
 },
 "nbformat": 4,
 "nbformat_minor": 4
}
