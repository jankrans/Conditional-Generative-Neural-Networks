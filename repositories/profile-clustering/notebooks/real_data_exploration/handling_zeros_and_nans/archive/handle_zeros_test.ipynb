{
 "cells": [
  {
   "cell_type": "markdown",
   "metadata": {},
   "source": [
    "# Dataset statistics\n",
    "Calculate some statistics about the dataset problems and try to figure out details about the problems that we can use to solve them\n",
    "## Imports and set-up"
   ]
  },
  {
   "cell_type": "code",
   "execution_count": null,
   "metadata": {},
   "outputs": [],
   "source": [
    "import altair as alt\n",
    "import numpy as np\n",
    "import pandas as pd\n",
    "from pathlib import Path\n",
    "import datetime\n",
    "import tqdm\n",
    "alt.data_transformers.disable_max_rows()"
   ]
  },
  {
   "cell_type": "code",
   "execution_count": null,
   "metadata": {},
   "outputs": [],
   "source": [
    "PRE_PATH = Path('/cw/dtaiproj/ml/2020-FLAIR-VITO/profile-clustering/preprocessed/combined')\n",
    "info_path = PRE_PATH/'info.csv'\n",
    "data_path = PRE_PATH/'data.csv'\n",
    "assert info_path.exists() and data_path.exists(), 'These paths should exist'"
   ]
  },
  {
   "cell_type": "markdown",
   "metadata": {},
   "source": [
    "## Read the data"
   ]
  },
  {
   "cell_type": "code",
   "execution_count": null,
   "metadata": {},
   "outputs": [],
   "source": [
    "info_df = pd.read_csv(info_path, index_col = [0,1])\n",
    "idxs = np.arange(0, len(info_df))[info_df['data_source'] != 'EandisVREG']\n",
    "idxs = idxs + 1"
   ]
  },
  {
   "cell_type": "code",
   "execution_count": null,
   "metadata": {},
   "outputs": [],
   "source": [
    "data_df = pd.read_csv(data_path, index_col = [0,1], skiprows = idxs)\n",
    "data_df.columns = pd.to_datetime(data_df.columns)\n",
    "data_df.columns.name = 'timestamp'"
   ]
  },
  {
   "cell_type": "code",
   "execution_count": null,
   "metadata": {},
   "outputs": [],
   "source": [
    "info_df.head()"
   ]
  },
  {
   "cell_type": "code",
   "execution_count": null,
   "metadata": {},
   "outputs": [],
   "source": [
    "data_df.head()"
   ]
  },
  {
   "cell_type": "code",
   "execution_count": null,
   "metadata": {},
   "outputs": [],
   "source": [
    "leap_years = [2012, 2016]\n",
    "non_leap_years = [year for year in info_df.index.levels[1] if year not in leap_years]\n",
    "print(f'leap years = {leap_years}')\n",
    "print(f'non leap years = {non_leap_years}')"
   ]
  },
  {
   "cell_type": "markdown",
   "metadata": {},
   "source": [
    "## Check the NaNs"
   ]
  },
  {
   "cell_type": "code",
   "execution_count": null,
   "metadata": {},
   "outputs": [],
   "source": [
    "nb_of_nas = data_df.isna().sum(axis = 1)\n",
    "idx = pd.IndexSlice\n",
    "nb_of_nas.loc[idx[:,non_leap_years]]  -= 96\n",
    "nb_of_nas = nb_of_nas[nb_of_nas > 0]\n",
    "print(f'there are {len(nb_of_nas)} profiles with NaN values')\n",
    "print(f'the average number of NaNs in each profile with NaNs is {nb_of_nas.mean()}')"
   ]
  },
  {
   "cell_type": "markdown",
   "metadata": {},
   "source": [
    "## Check the zeros "
   ]
  },
  {
   "cell_type": "code",
   "execution_count": null,
   "metadata": {},
   "outputs": [],
   "source": [
    "nb_of_zeros = (data_df == 0).sum(axis = 1)\n",
    "nb_of_zeros = nb_of_zeros[nb_of_zeros>0]\n",
    "print(f'there are {len(nb_of_zeros)} profiles with zero values')\n",
    "print(f'the average number of zeros in each these profiles is {nb_of_zeros.mean()}')\n",
    "alt.Chart(nb_of_zeros.to_frame('zeros').reset_index()).mark_bar().encode(\n",
    "    x = alt.X('zeros:O', bin=True), \n",
    "    y = alt.Y('count()')\n",
    ")"
   ]
  },
  {
   "cell_type": "markdown",
   "metadata": {},
   "source": [
    "## Look at single value zeros"
   ]
  },
  {
   "cell_type": "code",
   "execution_count": null,
   "metadata": {},
   "outputs": [],
   "source": [
    "profiles = nb_of_zeros.index[nb_of_zeros == 1]\n",
    "profiles"
   ]
  },
  {
   "cell_type": "markdown",
   "metadata": {},
   "source": [
    "#### Look at time of the zero"
   ]
  },
  {
   "cell_type": "code",
   "execution_count": null,
   "metadata": {},
   "outputs": [],
   "source": [
    "zero_timestamps = (data_df.loc[profiles] == 0).stack()\n",
    "zero_timestamps = zero_timestamps[zero_timestamps]\n",
    "zero_times = zero_timestamps.to_frame('value').reset_index().drop(columns = ['value'])\n",
    "alt.Chart(zero_times).mark_bar().encode(\n",
    "    x = 'timestamp:N', \n",
    "    y = 'count()'\n",
    ")"
   ]
  },
  {
   "cell_type": "markdown",
   "metadata": {},
   "source": [
    "### Look at some profiles (the zero is centered in the middle)"
   ]
  },
  {
   "cell_type": "code",
   "execution_count": null,
   "metadata": {},
   "outputs": [],
   "source": [
    "def show_single_zero_plot(profile, margin = '5D'): \n",
    "    zero_location = profile.index[profile == 0][0]\n",
    "    interval_to_plot = zero_location - pd.Timedelta(PLOT_SIZE), zero_location + pd.Timedelta(PLOT_SIZE)\n",
    "    profile_subset = profile.loc[interval_to_plot[0]:interval_to_plot[1]].to_frame('value')\n",
    "    profile_subset['is_zero'] = profile_subset.value == 0\n",
    "    return alt.Chart(profile_subset.reset_index(), width = 1600, title = str(zero_location)).mark_line().encode(\n",
    "        x = 'timestamp:T', \n",
    "        y = 'value:Q'\n",
    "    )"
   ]
  },
  {
   "cell_type": "code",
   "execution_count": null,
   "metadata": {},
   "outputs": [],
   "source": [
    "show_single_zero_plot(data_df.loc[profiles[0]])"
   ]
  },
  {
   "cell_type": "markdown",
   "metadata": {},
   "source": [
    "## Look at all zeros jointly"
   ]
  },
  {
   "cell_type": "code",
   "execution_count": null,
   "metadata": {},
   "outputs": [],
   "source": [
    "year_values = data_df.index.levels[1]\n",
    "year_values\n",
    "year_to_investigate = year_values[0]\n",
    "# only look at 2014 \n",
    "data14_df = data_df.loc[idx[:, 2016], :]\n",
    "\n",
    "# only look at profiles with at least one zero value\n",
    "zero_profiles = data14_df.index[(data14_df == 0).sum(axis = 1) > 0]\n",
    "data14_df = data14_df.loc[zero_profiles]\n",
    "data14_df"
   ]
  },
  {
   "cell_type": "code",
   "execution_count": null,
   "metadata": {},
   "outputs": [],
   "source": [
    "def zero_runs(a):\n",
    "    # Create an array that is 1 where a is 0, and pad each end with an extra 0.\n",
    "    iszero = np.concatenate(([0], np.equal(a, 0).view(np.int8), [0]))\n",
    "    absdiff = np.abs(np.diff(iszero))\n",
    "    # Runs start and end where absdiff is 1.\n",
    "    ranges = np.where(absdiff == 1)[0].reshape(-1, 2)\n",
    "    return ranges\n",
    "\n",
    "def zero_run_df(data_df): \n",
    "    dfs = []\n",
    "    for index, row in data_df.iterrows(): \n",
    "        runs = zero_runs(row)\n",
    "        dfs.append(pd.DataFrame(runs, columns = ['start', 'end'], index = [index]*runs.shape[0]))\n",
    "    full_df = pd.concat(dfs, axis = 0).reset_index().rename(columns = {'index':'profile'})\n",
    "#     full_df['start_time'] = data14_df.columns[full_df['start']]\n",
    "#     full_df['end_time'] = data14_df.columns[full_df['end']-1]\n",
    "    return full_df\n",
    "\n",
    "\n",
    "zero_periods = zero_run_df(data14_df)\n",
    "zero_periods"
   ]
  },
  {
   "cell_type": "code",
   "execution_count": null,
   "metadata": {},
   "outputs": [],
   "source": []
  },
  {
   "cell_type": "code",
   "execution_count": null,
   "metadata": {},
   "outputs": [],
   "source": [
    "df = zero_periods.groupby(['start', 'end']).count().rename(columns = {'profile':'count'}).reset_index()\n",
    "df"
   ]
  },
  {
   "cell_type": "code",
   "execution_count": null,
   "metadata": {},
   "outputs": [],
   "source": [
    "#def flexible_matching(df): \n",
    "representatives = "
   ]
  },
  {
   "cell_type": "code",
   "execution_count": null,
   "metadata": {},
   "outputs": [],
   "source": [
    "zero_periods['period'] = zero_periods['start'].dt.strftime(\"%d/%m/%y %H:%M\") + '-' + zero_periods['end'].dt.strftime(\"%d/%m/%y %H:%M\")\n",
    "zero_periods"
   ]
  },
  {
   "cell_type": "code",
   "execution_count": null,
   "metadata": {},
   "outputs": [],
   "source": [
    "periods_with_count = zero_periods['period'].value_counts().to_frame('count')\n",
    "periods_with_count = periods_with_count[periods_with_count['count'] > 100]\n",
    "periods_with_count"
   ]
  },
  {
   "cell_type": "code",
   "execution_count": null,
   "metadata": {},
   "outputs": [],
   "source": [
    "alt.Chart(periods_with_count.reset_index()).mark_bar().encode(\n",
    "    x = 'index:N', \n",
    "    y = 'count:Q'\n",
    ")"
   ]
  },
  {
   "cell_type": "code",
   "execution_count": null,
   "metadata": {},
   "outputs": [],
   "source": []
  }
 ],
 "metadata": {
  "kernelspec": {
   "display_name": "Python 3",
   "language": "python",
   "name": "python3"
  },
  "language_info": {
   "codemirror_mode": {
    "name": "ipython",
    "version": 3
   },
   "file_extension": ".py",
   "mimetype": "text/x-python",
   "name": "python",
   "nbconvert_exporter": "python",
   "pygments_lexer": "ipython3",
   "version": "3.8.5"
  }
 },
 "nbformat": 4,
 "nbformat_minor": 4
}
