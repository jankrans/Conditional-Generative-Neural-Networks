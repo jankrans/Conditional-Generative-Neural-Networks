{
 "cells": [
  {
   "cell_type": "markdown",
   "metadata": {},
   "source": [
    "# Check if the value after the missing interval is unusually high using a global normal distribution"
   ]
  },
  {
   "cell_type": "code",
   "execution_count": null,
   "metadata": {},
   "outputs": [],
   "source": [
    "PROMINENCE = None\n",
    "DISTANCE = 2\n",
    "THRESHOLD = 0.99\n",
    "MODEL = NormalDistribution"
   ]
  },
  {
   "cell_type": "code",
   "execution_count": null,
   "metadata": {},
   "outputs": [],
   "source": [
    "def get_thresholds_global(row,prominence = 0.5, likelihood_threshold = 0.99): \n",
    "    X = row.fillna(0).to_numpy()\n",
    "    if prominence is not None:\n",
    "        # if a prominence is given detect peaks \n",
    "        peaks, _ = find_peaks(X, prominence = prominence, distance = DISTANCE)\n",
    "        x_to_use = X[peaks]\n",
    "    else: \n",
    "        # otherwise just use all the data\n",
    "        x_to_use = X\n",
    "    mu, std = norm.fit(x_to_use)\n",
    "    _, max_thres = norm.interval(likelihood_threshold, mu, std)\n",
    "    min_thres = np.nan\n",
    "    if row.min() < 0:\n",
    "        # this profile has injection so negative peaks are possible\n",
    "        if prominence is not None:\n",
    "            inverse_peaks, _ = find_peaks(-X, prominence = prominence)\n",
    "            x_to_use = X[peaks]\n",
    "        else: \n",
    "            x_to_use = X\n",
    "        mu, std = norm.fit(x_to_use)\n",
    "        min_thres, _ = norm.interval(likelihood_threshold, mu, std)\n",
    "    return min_thres ,max_thres\n",
    "\n",
    "def get_global_gauss_peaks(profile_df, prominence = 0.5, likelihood_threshold = 0.99): \n",
    "    thresholds = data16_df.apply(get_thresholds_global, axis = 1, result_type = 'expand', prominence = prominence, likelihood_threshold = likelihood_threshold).rename(columns = {0:'gauss_min_threshold',1:'gauss_max_threshold'})\n",
    "    thresholds = nan_intervals.join(thresholds)\n",
    "    is_gauss_peak = thresholds.replace({'end': np.NaN}).eval('(first_value_after_end < gauss_min_threshold) | (first_value_after_end > gauss_max_threshold)')\n",
    "    return is_gauss_peak\n"
   ]
  },
  {
   "cell_type": "code",
   "execution_count": null,
   "metadata": {},
   "outputs": [],
   "source": [
    "global_gauss_peaks = get_global_gauss_peaks(nan_intervals,PROMINENCE, THRESHOLD)\n",
    "global_gauss_peaks.value_counts().to_frame('count')"
   ]
  },
  {
   "cell_type": "code",
   "execution_count": null,
   "metadata": {},
   "outputs": [],
   "source": [
    "pd.crosstab(is_gauss_peak, global_gauss_peaks, rownames = ['gauss peaks'], colnames =['global_peaks'])"
   ]
  },
  {
   "cell_type": "markdown",
   "metadata": {},
   "source": [
    "## Visualise some detected/non-detected peaks"
   ]
  },
  {
   "cell_type": "code",
   "execution_count": null,
   "metadata": {},
   "outputs": [],
   "source": [
    "IDX = 1\n",
    "vis_df = pd.concat([nan_intervals, global_gauss_peaks.to_frame('global_gauss_peak')], axis = 1)\n",
    "detected_peak_ids = vis_df[vis_df.global_gauss_peak].index.get_level_values(0).unique()\n",
    "non_detected_peak_ids = vis_df[~ vis_df.global_gauss_peak].index.get_level_values(0).unique()\n",
    "# profile_to_show = 'Sl2clpSwmYpN1Q' # a profile with a clear peak that is not discovered using connection capacity\n",
    "profile_to_show = detected_peak_ids[IDX]\n",
    "print(profile_to_show)\n",
    "plot_profile_with_intervals(profile_to_show, 2016, data = vis_df, period_type_column = 'global_gauss_peak').properties(height = 400)"
   ]
  },
  {
   "cell_type": "markdown",
   "metadata": {},
   "source": [
    "### Compare with the connection capacity peaks"
   ]
  },
  {
   "cell_type": "code",
   "execution_count": null,
   "metadata": {},
   "outputs": [],
   "source": [
    "pd.crosstab(connection_power_peaks, global_gauss_peaks, rownames = ['connection power peaks'], colnames =['global_peaks'])"
   ]
  },
  {
   "cell_type": "markdown",
   "metadata": {},
   "source": [
    "So this is good almost all the connection_power_peaks are detected!"
   ]
  },
  {
   "cell_type": "markdown",
   "metadata": {},
   "source": [
    "# Check if the value after the missing interval is unusually high using a local normal distribution"
   ]
  },
  {
   "cell_type": "code",
   "execution_count": null,
   "metadata": {},
   "outputs": [],
   "source": [
    "PROMINENCE = None\n",
    "DISTANCE = 2\n",
    "THRESHOLD = 0.99"
   ]
  },
  {
   "cell_type": "code",
   "execution_count": null,
   "metadata": {},
   "outputs": [],
   "source": [
    "def get_thresholds_local(row,window = '15D',prominence = 0.5, likelihood_threshold = 0.99, include_start = True): \n",
    "    meterID, year, start, end = row.name \n",
    "    start_time, end_time = row[['start_time', 'end_time']]\n",
    "    delta = pd.Timedelta(window)\n",
    "    if include_start:\n",
    "        interval_start, interval_end = start_time - delta, end_time + delta\n",
    "    else: \n",
    "        interval_start, interval_end = end_time, end_time + delta \n",
    "    profile = data16_df.loc[(meterID, year), interval_start:interval_end].drop(end_time, axis = 0, errors = 'ignore')\n",
    "    profile\n",
    "    X = profile.fillna(0).to_numpy()\n",
    "    if prominence is not None:\n",
    "        # if a prominence is given detect peaks \n",
    "        peaks, _ = find_peaks(X, prominence = prominence)\n",
    "        x_to_use = profile.iloc[peaks]\n",
    "    else: \n",
    "        # otherwise just use all the data\n",
    "        x_to_use = profile\n",
    "    x_to_use = x_to_use.dropna().to_numpy()\n",
    "    mu, std = norm.fit(x_to_use)\n",
    "    _, max_thres = norm.interval(likelihood_threshold, mu, std)\n",
    "    min_thres = np.nan\n",
    "    if profile.min() < 0:\n",
    "        # this profile has injection so negative peaks are possible\n",
    "        if prominence is not None:\n",
    "            inverse_peaks, _ = find_peaks(-X, prominence = prominence)\n",
    "            x_to_use = X[peaks]\n",
    "        else: \n",
    "            x_to_use = X\n",
    "        mu, std = norm.fit(x_to_use)\n",
    "        min_thres, _ = norm.interval(likelihood_threshold, mu, std)\n",
    "    return min_thres ,max_thres\n",
    "\n",
    "def get_local_gauss_peaks(interval_df, window = '15D', prominence = 0.5, likelihood_threshold = 0.99, include_start = True): \n",
    "    thresholds = interval_df.progress_apply(get_thresholds_local, axis = 1, result_type = 'expand', window = window, prominence = prominence, likelihood_threshold = likelihood_threshold, include_start = include_start).rename(columns = {0:'gauss_min_threshold',1:'gauss_max_threshold'})\n",
    "    thresholds = pd.concat([interval_df, thresholds], axis = 1)\n",
    "    is_gauss_peak = thresholds.replace({'end': np.NaN}).eval('(first_value_after_end < gauss_min_threshold) | (first_value_after_end > gauss_max_threshold)')\n",
    "    return is_gauss_peak\n"
   ]
  },
  {
   "cell_type": "code",
   "execution_count": null,
   "metadata": {},
   "outputs": [],
   "source": [
    "local_gauss_peaks = get_local_gauss_peaks(nan_intervals, '5D', PROMINENCE, THRESHOLD)\n",
    "local_gauss_peaks.value_counts().to_frame('count')"
   ]
  },
  {
   "cell_type": "markdown",
   "metadata": {},
   "source": [
    "### Confusion matrix between the local gauss peaks and connection power peaks"
   ]
  },
  {
   "cell_type": "code",
   "execution_count": null,
   "metadata": {},
   "outputs": [],
   "source": [
    "pd.crosstab(connection_power_peaks, local_gauss_peaks, rownames = ['connection_power'], colnames =['local_peaks'])\n"
   ]
  },
  {
   "cell_type": "markdown",
   "metadata": {},
   "source": [
    "So they mostly seem to agree! There are some intervals that are a global peak but not a local peak (which is weird). There are some intervals that are a local peak which is not a global peak (this is possible)."
   ]
  },
  {
   "cell_type": "markdown",
   "metadata": {},
   "source": [
    "## showing some profiles"
   ]
  },
  {
   "cell_type": "code",
   "execution_count": null,
   "metadata": {},
   "outputs": [],
   "source": [
    "IDX = 2\n",
    "vis_df = pd.concat([nan_intervals, local_gauss_peaks.to_frame('detected')], axis = 1)\n",
    "detected_peak_ids = vis_df[vis_df.detected].index.get_level_values(0).unique()\n",
    "non_detected_peak_ids = vis_df[~ vis_df.detected].index.get_level_values(0).unique()\n",
    "profile_to_show = detected_peak_ids[IDX]\n",
    "print(profile_to_show)\n",
    "plot_profile_with_intervals(profile_to_show, 2016, data = vis_df, period_type_column = 'detected').properties(height = 400)"
   ]
  },
  {
   "cell_type": "markdown",
   "metadata": {},
   "source": [
    "# Check if the value after the missing interval is unusually high using a very local normal distribution"
   ]
  },
  {
   "cell_type": "code",
   "execution_count": null,
   "metadata": {},
   "outputs": [],
   "source": [
    "very_local_gauss_peaks = get_local_gauss_peaks(nan_intervals, '2H 30min', None, 0.99, include_start = False)\n",
    "very_local_gauss_peaks.value_counts().to_frame('count')"
   ]
  },
  {
   "cell_type": "markdown",
   "metadata": {},
   "source": [
    "### Confusion matrix between the local gauss peaks and very local gauss peaks"
   ]
  },
  {
   "cell_type": "code",
   "execution_count": null,
   "metadata": {},
   "outputs": [],
   "source": [
    "pd.crosstab(very_local_gauss_peaks, local_gauss_peaks, rownames = ['very_local'], colnames =['local_peaks'])\n"
   ]
  },
  {
   "cell_type": "markdown",
   "metadata": {},
   "source": [
    "### Show some profiles"
   ]
  },
  {
   "cell_type": "code",
   "execution_count": null,
   "metadata": {},
   "outputs": [],
   "source": [
    "IDX = 2\n",
    "vis_df = pd.concat([nan_intervals, very_local_gauss_peaks.to_frame('detected')], axis = 1)\n",
    "detected_peak_ids = vis_df[vis_df.detected].index.get_level_values(0).unique()\n",
    "non_detected_peak_ids = vis_df[~ vis_df.detected].index.get_level_values(0).unique()\n",
    "profile_to_show = detected_peak_ids[IDX]\n",
    "print(profile_to_show)\n",
    "plot_profile_with_intervals(profile_to_show, 2016, data = vis_df, period_type_column = 'detected').properties(height = 400)"
   ]
  },
  {
   "cell_type": "markdown",
   "metadata": {},
   "source": [
    "# Helper method detect peaks in the data  "
   ]
  },
  {
   "cell_type": "code",
   "execution_count": null,
   "metadata": {},
   "outputs": [],
   "source": [
    "peaks16_df = data16_df[data16_df.isna().any(axis = 1)].fillna(method = 'ffill', axis = 1).apply(lambda o: find_peaks(o, prominence = PROMINENCE)[0], axis = 1).to_frame('peaks')\n",
    "peaks16_df"
   ]
  },
  {
   "cell_type": "markdown",
   "metadata": {},
   "source": [
    "# Check if the value after a missing interval is a peak "
   ]
  },
  {
   "cell_type": "code",
   "execution_count": null,
   "metadata": {},
   "outputs": [],
   "source": [
    "def get_peaks_after_interval(interval_df, peaks_df): \n",
    "    def is_peak(row): \n",
    "        meterID, year, start, end = row.name\n",
    "        return end in peaks_df.loc[(meterID, year),'peaks']\n",
    "    return interval_df.apply(is_peak, axis =1)"
   ]
  },
  {
   "cell_type": "code",
   "execution_count": null,
   "metadata": {},
   "outputs": [],
   "source": [
    "after_interval_peaks = get_peaks_after_interval(nan_intervals, peaks16_df)\n",
    "after_interval_peaks.value_counts().to_frame('count')"
   ]
  },
  {
   "cell_type": "code",
   "execution_count": null,
   "metadata": {},
   "outputs": [],
   "source": [
    "pd.crosstab(gauss_peaks, after_interval_peaks, rownames = ['detected gauss peaks'], colnames =['peaks'])"
   ]
  }
 ],
 "metadata": {
  "kernelspec": {
   "display_name": "Python 3",
   "language": "python",
   "name": "python3"
  },
  "language_info": {
   "codemirror_mode": {
    "name": "ipython",
    "version": 3
   },
   "file_extension": ".py",
   "mimetype": "text/x-python",
   "name": "python",
   "nbconvert_exporter": "python",
   "pygments_lexer": "ipython3",
   "version": "3.8.5"
  }
 },
 "nbformat": 4,
 "nbformat_minor": 4
}
