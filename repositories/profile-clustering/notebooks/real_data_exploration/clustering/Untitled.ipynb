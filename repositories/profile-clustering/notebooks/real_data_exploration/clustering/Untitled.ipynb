{
 "cells": [
  {
   "cell_type": "markdown",
   "id": "useful-quantity",
   "metadata": {},
   "source": [
    "# Profile visualization with seaborne "
   ]
  },
  {
   "cell_type": "code",
   "execution_count": null,
   "id": "usual-writing",
   "metadata": {},
   "outputs": [],
   "source": [
    "from util import *\n",
    "\n",
    "import numpy as np \n",
    "import pandas as pd\n",
    "import itertools\n",
    "import altair as alt\n",
    "alt.data_transformers.disable_max_rows()\n",
    "alt.renderers.enable('png')\n",
    "from altair_visualisation import *\n",
    "from tqdm import tqdm\n",
    "idx = pd.IndexSlice\n",
    "%load_ext autoreload\n",
    "%autoreload 2"
   ]
  },
  {
   "cell_type": "code",
   "execution_count": null,
   "id": "above-armenia",
   "metadata": {},
   "outputs": [],
   "source": [
    "info_df, data_df = read_data(nrows = 100)\n",
    "# only keep the last year of each profile \n",
    "last_of_each_profile = ~data_df.index.get_level_values(0).duplicated(keep = 'last')\n",
    "data_df = data_df.loc[last_of_each_profile]\n",
    "labels = pd.read_csv('full_clustering.csv', index_col = 0)\n",
    "data_df.head()"
   ]
  },
  {
   "cell_type": "code",
   "execution_count": null,
   "id": "constitutional-payment",
   "metadata": {},
   "outputs": [],
   "source": [
    "meterID = 'smartmeter_0'\n",
    "def energy_heatmap_chart(meterID, data_df): \n",
    "    subset = (\n",
    "        data_df.loc[[meterID],:]\n",
    "        .droplevel(level = 1, axis =0)\n",
    "        .stack().to_frame('value')\n",
    "        .reset_index()\n",
    "        .assign(\n",
    "            time = lambda x: add_date(x.timestamp.dt.time),\n",
    "            date = lambda x: add_time(x.timestamp.dt.date),\n",
    "        )\n",
    "    )\n",
    "    return alt.Chart(subset, height = 1000, width = 1000).mark_rect(strokeOpacity = 0).encode(\n",
    "        x = alt.X('time:O', axis = alt.Axis(labels = False, grid = False)),\n",
    "        y = alt.Y('date:O', axis = alt.Axis(labels = False, grid = False)), \n",
    "        color = alt.Color('value:Q', scale = alt.Scale(scheme = 'viridis'))\n",
    "    )\n"
   ]
  },
  {
   "cell_type": "code",
   "execution_count": null,
   "id": "reliable-final",
   "metadata": {},
   "outputs": [],
   "source": [
    "meterID = 'smartmeter_0'\n",
    "def all_day_plot(meterID, data_df): \n",
    "    subset = (\n",
    "            data_df.loc[[meterID],:]\n",
    "            .droplevel(level = 1, axis =0)\n",
    "            .stack().to_frame('value')\n",
    "            .reset_index()\n",
    "            .assign(\n",
    "                time = lambda x: add_date(x.timestamp.dt.time),\n",
    "                date = lambda x: x.timestamp.dt.date.astype('str'),\n",
    "            )\n",
    "        )\n",
    "    return alt.Chart(subset).mark_line(strokeWidth = 0.2, strokeOpacity = 0.2).encode(\n",
    "        x = alt.X('time:T', axis = alt.Axis(format = '%H:%M')),\n",
    "        y = alt.Y('value:Q'), \n",
    "        color = alt.Color('date', legend = None, scale = alt.Scale(scheme = 'rainbow'))\n",
    "    )"
   ]
  },
  {
   "cell_type": "code",
   "execution_count": null,
   "id": "subtle-prairie",
   "metadata": {},
   "outputs": [],
   "source": [
    "show_clustering(data_df, labels, type ='heatmap')"
   ]
  },
  {
   "cell_type": "code",
   "execution_count": null,
   "id": "turkish-pitch",
   "metadata": {},
   "outputs": [],
   "source": [
    "show_clustering(data_df, labels)"
   ]
  },
  {
   "cell_type": "code",
   "execution_count": null,
   "id": "agreed-depth",
   "metadata": {},
   "outputs": [],
   "source": []
  }
 ],
 "metadata": {
  "kernelspec": {
   "display_name": "Python 3",
   "language": "python",
   "name": "python3"
  },
  "language_info": {
   "codemirror_mode": {
    "name": "ipython",
    "version": 3
   },
   "file_extension": ".py",
   "mimetype": "text/x-python",
   "name": "python",
   "nbconvert_exporter": "python",
   "pygments_lexer": "ipython3",
   "version": "3.8.5"
  }
 },
 "nbformat": 4,
 "nbformat_minor": 5
}
