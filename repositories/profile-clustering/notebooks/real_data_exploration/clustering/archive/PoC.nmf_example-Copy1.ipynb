{
 "cells": [
  {
   "cell_type": "markdown",
   "metadata": {},
   "source": [
    "# POC: non-negative matrix factorization\n",
    "Let's check if non-negative matrix factorization could help us, don't care about the data problems in the data for now\n"
   ]
  },
  {
   "cell_type": "code",
   "execution_count": null,
   "metadata": {},
   "outputs": [],
   "source": [
    "import altair as alt\n",
    "import numpy as np\n",
    "import pandas as pd\n",
    "from pathlib import Path\n",
    "import itertools\n",
    "import datetime\n",
    "import random\n",
    "from sklearn.decomposition import NMF\n",
    "idx = pd.IndexSlice\n",
    "alt.data_transformers.disable_max_rows()\n",
    "\n",
    "from util import *\n",
    "from visualisation import *"
   ]
  },
  {
   "cell_type": "code",
   "execution_count": null,
   "metadata": {},
   "outputs": [],
   "source": [
    "# this reloads code from external modules automatically if it is changed (without having to restart the kernel)\n",
    "%load_ext autoreload\n",
    "%autoreload 2"
   ]
  },
  {
   "cell_type": "markdown",
   "metadata": {},
   "source": [
    "# Util methods"
   ]
  },
  {
   "cell_type": "code",
   "execution_count": null,
   "metadata": {},
   "outputs": [],
   "source": [
    "def vec_dt_replace(series, year=None, month=None, day=None):\n",
    "    return pd.to_datetime(\n",
    "        {'year': series.year if year is None else year,\n",
    "         'month': series.month if month is None else month,\n",
    "         'day': series.day if day is None else day, \n",
    "        'hour': series.hour,\n",
    "        'minute': series.minute})"
   ]
  },
  {
   "cell_type": "markdown",
   "metadata": {},
   "source": [
    "## Read the data"
   ]
  },
  {
   "cell_type": "code",
   "execution_count": null,
   "metadata": {},
   "outputs": [],
   "source": [
    "info_df, data_df = read_data(nrows = 1)"
   ]
  },
  {
   "cell_type": "markdown",
   "metadata": {},
   "source": [
    "## Choose a profile"
   ]
  },
  {
   "cell_type": "code",
   "execution_count": null,
   "metadata": {},
   "outputs": [],
   "source": [
    "profile_to_check = data_df.iloc[0]\n",
    "profile_matrix = get_profile_matrix(profile_to_check)\n"
   ]
  },
  {
   "cell_type": "code",
   "execution_count": null,
   "metadata": {},
   "outputs": [],
   "source": [
    "\n"
   ]
  },
  {
   "cell_type": "markdown",
   "metadata": {},
   "source": [
    "## Show the profile"
   ]
  },
  {
   "cell_type": "code",
   "execution_count": null,
   "metadata": {},
   "outputs": [],
   "source": [
    "all_day_chart = alt.Chart(profile_to_check, title = 'All days').mark_line().encode(\n",
    "    x = 'time:T',\n",
    "    y = 'value', \n",
    "    color = 'date'\n",
    ")\n",
    "all_day_chart"
   ]
  },
  {
   "cell_type": "markdown",
   "metadata": {},
   "source": [
    "## Check barycentric averaging"
   ]
  },
  {
   "cell_type": "code",
   "execution_count": null,
   "metadata": {},
   "outputs": [],
   "source": []
  },
  {
   "cell_type": "code",
   "execution_count": null,
   "metadata": {},
   "outputs": [],
   "source": [
    "average_day_chart = alt.Chart(barycentric_average.to_frame('value').reset_index(), title = 'barycentric average').mark_line().encode(\n",
    "    x = 'time:T', \n",
    "    y = 'value:Q'\n",
    ")"
   ]
  },
  {
   "cell_type": "code",
   "execution_count": null,
   "metadata": {},
   "outputs": [],
   "source": [
    "(all_day_chart | average_day_chart).resolve_scale(x = 'shared', y= 'shared')"
   ]
  },
  {
   "cell_type": "markdown",
   "metadata": {},
   "source": [
    "## Check anomaly detection (lof using DTW)"
   ]
  },
  {
   "cell_type": "code",
   "execution_count": null,
   "metadata": {},
   "outputs": [],
   "source": [
    "distance_matrix = get_DTW_distance_matrix(profile_matrix.to_numpy(), 10, 0)\n",
    "detector = LocalOutlierFactor(n_neighbors = 20, metric = 'precomputed', contamination = 0.1)\n",
    "labels = detector.fit_predict(distance_matrix)\n",
    "anomaly_labels = pd.Series(labels == -1, index = profile_matrix.index, name = 'anomaly')\n"
   ]
  },
  {
   "cell_type": "markdown",
   "metadata": {},
   "source": [
    "## Cluster using kmedoids"
   ]
  },
  {
   "cell_type": "code",
   "execution_count": null,
   "metadata": {},
   "outputs": [],
   "source": [
    "NB_OF_CLUSTERS = 5"
   ]
  },
  {
   "cell_type": "code",
   "execution_count": null,
   "metadata": {},
   "outputs": [],
   "source": [
    "\n",
    "non_anomalies = profile_matrix[~anomaly_labels]\n",
    "labels, centers = cluster_timeseries_k_mediods_DTW(non_anomalies.to_numpy(), NB_OF_CLUSTERS, 12, 0)\n",
    "labels = pd.Series(labels, index = non_anomalies.index, name = 'labels')\n",
    "centers = pd.DataFrame(centers, columns = non_anomalies.columns)\n",
    "centers_vis = centers.stack().to_frame('value').reset_index()\n",
    "profile_vis_cluster = non_anomalies.stack().to_frame('value').join(labels).reset_index()\n",
    "profile_vis_cluster.time = add_date(profile_vis_cluster.time)\n",
    "\n",
    "medoid_chart = alt.Chart(centers_vis).mark_line().encode(\n",
    "    x = 'time:T', \n",
    "    y = 'value', \n",
    "    color = 'level_0:N'\n",
    ")\n",
    "alt.Chart(profile_vis_cluster.reset_index()).mark_line().encode(\n",
    "    x = 'time:T', \n",
    "    y = 'value', \n",
    "    color = 'date'\n",
    ").facet(column = 'labels') "
   ]
  },
  {
   "cell_type": "code",
   "execution_count": null,
   "metadata": {},
   "outputs": [],
   "source": [
    "profile_vis_cluster1 = (\n",
    "    profile_vis_cluster\n",
    "    [['date','labels']]\n",
    "    .drop_duplicates()\n",
    "    .assign(\n",
    "        date = lambda x: pd.to_datetime(x.date),\n",
    "        week = lambda x: x.date.dt.isocalendar().week, \n",
    "        weekday = lambda x: x.date.dt.weekday,\n",
    "        day = lambda x: x.date.dt.day\n",
    "    )\n",
    ")\n",
    "profile_vis_cluster1\n",
    "\n",
    "alt.Chart(profile_vis_cluster1).mark_rect().encode(\n",
    "    x = 'weekday:O', \n",
    "    y = 'week:O', \n",
    "    color ='labels:N'\n",
    ")"
   ]
  },
  {
   "cell_type": "markdown",
   "metadata": {},
   "source": [
    "## Cluster using kmeans and barycentric averaging\n"
   ]
  },
  {
   "cell_type": "code",
   "execution_count": null,
   "metadata": {},
   "outputs": [],
   "source": [
    "non_anomalies = profile_matrix[~anomaly_labels]\n",
    "# non_anomalies = profile_matrix\n",
    "series = SeriesContainer.wrap(non_anomalies.to_numpy())\n",
    "model = KMeans(k=NB_OF_CLUSTERS, max_it=10, max_dba_it=10, dists_options={\"window\": 8,'psi':0})\n",
    "label_dict, performed_it = model.fit(series, use_c=True, use_parallel=True)\n",
    "\n",
    "\n",
    "labels = pd.Series(index = non_anomalies.index, name = 'labels')\n",
    "for key,value in label_dict.items(): \n",
    "    labels.iloc[list(value)] = key\n",
    "profile_vis_cluster = non_anomalies.stack().to_frame('value').join(labels).reset_index()\n",
    "profile_vis_cluster.time = add_date(profile_vis_cluster.time)\n",
    "alt.Chart(profile_vis_cluster.reset_index()).mark_line().encode(\n",
    "    x = 'time:T', \n",
    "    y = 'value', \n",
    "    color = 'date'\n",
    ").facet(column = 'labels')"
   ]
  },
  {
   "cell_type": "code",
   "execution_count": null,
   "metadata": {},
   "outputs": [],
   "source": [
    "centroids = pd.DataFrame(model.means, columns = add_date(non_anomalies.columns))\n",
    "centroid_vis = centroids.stack().to_frame('value').reset_index()\n",
    "bary_chart = alt.Chart(centroid_vis).mark_line().encode(\n",
    "    x = 'time:T', \n",
    "    y= 'value:Q', \n",
    "    color = 'level_0:N'\n",
    ")\n",
    "bary_chart.properties(title = 'barycenter') | medoid_chart.properties(title = 'medoid')"
   ]
  },
  {
   "cell_type": "markdown",
   "metadata": {},
   "source": [
    "# decompose using NMF"
   ]
  },
  {
   "cell_type": "code",
   "execution_count": null,
   "metadata": {},
   "outputs": [],
   "source": [
    "\n",
    "# transformed_centers = centers.apply(lambda x: x - np.min(x), axis = 1, raw = True)\n",
    "matrix = profile_matrix[~anomaly_labels].dropna().to_numpy()\n",
    "# matrix = transformed_centers.to_numpy()\n",
    "# alpha controls regularization (pushing weights towards 0 such that representations become sparse)\n",
    "decomposer = NMF(10, max_iter = 100000, alpha = 0, l1_ratio = 0.9, regularization = 'both', init = 'nndsvd').fit(matrix)\n",
    "print('reconstruction error', decomposer.reconstruction_err_)\n",
    "components = decomposer.components_\n",
    "components_df = pd.DataFrame(components, columns = profile_matrix.columns)\n",
    "components_df.index.name = 'component_nb'\n",
    "components_df;"
   ]
  },
  {
   "cell_type": "markdown",
   "metadata": {},
   "source": [
    "## Show the components"
   ]
  },
  {
   "cell_type": "code",
   "execution_count": null,
   "metadata": {},
   "outputs": [],
   "source": [
    "\n",
    "transformed_centers_vis = profile_matrix.dropna().stack().to_frame('value').reset_index()\n",
    "\n",
    "component_vis = components_df.stack().to_frame('value').reset_index()\n",
    "component_vis['time'] = pd.to_datetime(component_vis['time'], format='%H:%M:%S')\n",
    "component_vis\n",
    "\n",
    "medoid_chart = alt.Chart(transformed_centers_vis).mark_line().encode(\n",
    "    x = 'time:T', \n",
    "    y = 'value', \n",
    "    color = 'level_0:N'\n",
    ")\n",
    "alt.Chart(component_vis, title = 'first 5 components').mark_line().encode(\n",
    "    x = 'time:T', \n",
    "    y = 'value:Q', \n",
    "    color= 'component_nb:N'\n",
    ") | medoid_chart"
   ]
  },
  {
   "cell_type": "code",
   "execution_count": null,
   "metadata": {},
   "outputs": [],
   "source": [
    "representation_matrix = pd.DataFrame(decomposer.transform(profile_matrix.dropna()), index = profile_matrix.dropna().index).sort_index()\n",
    "representation_matrix[0:62].style.background_gradient(cmap = 'Blues', axis = 1)"
   ]
  },
  {
   "cell_type": "markdown",
   "metadata": {},
   "source": [
    "# show reconstruction + used components"
   ]
  },
  {
   "cell_type": "code",
   "execution_count": null,
   "metadata": {},
   "outputs": [],
   "source": [
    "IDX = 120\n",
    "transformed = decomposer.transform(profile_matrix.dropna().iloc[[IDX]].to_numpy())\n",
    "original = decomposer.inverse_transform(transformed)\n",
    "day = profile_matrix.dropna().iloc[IDX].to_frame('original_value')\n",
    "day['after_reconstruction'] = original[0]\n",
    "day = day.stack().reset_index()\n",
    "day.columns = ['time', 'type', 'value']\n",
    "day.time = add_date(day.time)\n",
    "print(transformed)\n",
    "orig_chart = alt.Chart(day).mark_line().encode(\n",
    "    x = 'time:T', \n",
    "    y = 'value:Q', \n",
    "    color = 'type:N'\n",
    ")\n",
    "\n",
    "vis_df = components_df.stack().to_frame('value').reset_index()\n",
    "vis_df['weight'] = transformed[0, vis_df.component_nb]\n",
    "vis_df.time = add_date(vis_df.time)\n",
    "vis_df = vis_df[vis_df.weight > 0]\n",
    "vis_df['value'] = vis_df['value']*vis_df['weight']\n",
    "vis_df\n",
    "\n",
    "component_chart = alt.Chart(vis_df).mark_line().encode(\n",
    "    x = 'time:T', \n",
    "    y = 'value', \n",
    "    size  = 'weight',\n",
    "    opacity = 'weight',\n",
    "    color = 'component_nb:N'\n",
    ")\n",
    "\n",
    "orig_chart + component_chart"
   ]
  },
  {
   "cell_type": "markdown",
   "metadata": {},
   "source": [
    "# Show the reconstruction vs real profile"
   ]
  },
  {
   "cell_type": "code",
   "execution_count": null,
   "metadata": {},
   "outputs": [],
   "source": [
    "IDX = 8\n",
    "transformed = decomposer.transform(centers.iloc[[IDX]].to_numpy())\n",
    "original = decomposer.inverse_transform(transformed)\n",
    "day = centers.iloc[IDX].to_frame('original_value')\n",
    "day['after_reconstruction'] = original[0]\n",
    "day = day.stack().reset_index()\n",
    "day.columns = ['time', 'type', 'value']\n",
    "day.time = add_date(day.time)\n",
    "print(transformed)\n",
    "alt.Chart(day).mark_line().encode(\n",
    "    x = 'time:T', \n",
    "    y = 'value:Q', \n",
    "    color = 'type:N'\n",
    ")"
   ]
  },
  {
   "cell_type": "code",
   "execution_count": null,
   "metadata": {},
   "outputs": [],
   "source": []
  }
 ],
 "metadata": {
  "kernelspec": {
   "display_name": "Python 3",
   "language": "python",
   "name": "python3"
  },
  "language_info": {
   "codemirror_mode": {
    "name": "ipython",
    "version": 3
   },
   "file_extension": ".py",
   "mimetype": "text/x-python",
   "name": "python",
   "nbconvert_exporter": "python",
   "pygments_lexer": "ipython3",
   "version": "3.8.5"
  }
 },
 "nbformat": 4,
 "nbformat_minor": 4
}
