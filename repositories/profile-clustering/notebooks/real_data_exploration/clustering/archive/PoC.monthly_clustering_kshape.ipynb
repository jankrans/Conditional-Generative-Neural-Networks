{
 "cells": [
  {
   "cell_type": "code",
   "execution_count": null,
   "id": "vulnerable-variation",
   "metadata": {},
   "outputs": [],
   "source": [
    "import altair as alt\n",
    "import numpy as np\n",
    "import pandas as pd\n",
    "from pathlib import Path\n",
    "import itertools\n",
    "import datetime\n",
    "import random\n",
    "from sklearn.decomposition import NMF\n",
    "idx = pd.IndexSlice\n",
    "alt.data_transformers.disable_max_rows()\n",
    "from sklearn.cluster import KMeans\n",
    "from sklearn_extra.cluster import KMedoids\n",
    "from sklearn.neighbors import LocalOutlierFactor"
   ]
  },
  {
   "cell_type": "code",
   "execution_count": null,
   "id": "funky-poverty",
   "metadata": {},
   "outputs": [],
   "source": [
    "# this reloads code from external modules automatically if it is changed (without having to restart the kernel)\n",
    "%load_ext autoreload\n",
    "%autoreload 2"
   ]
  },
  {
   "cell_type": "code",
   "execution_count": null,
   "id": "enclosed-maximum",
   "metadata": {},
   "outputs": [],
   "source": [
    "PRE_PATH = Path('/cw/dtaiproj/ml/2020-FLAIR-VITO/profile-clustering/preprocessed/combined')\n",
    "RESULT_PATH = Path('/cw/dtaiproj/ml/2020-FLAIR-VITO/profile-clustering/error_detection')\n",
    "RESULT_PATH.mkdir(mode = 0o770, parents = True, exist_ok=True)\n",
    "result_path = RESULT_PATH / 'cumulative_value_detection.csv' \n",
    "zero_path = RESULT_PATH / 'zero_interval_is_error.csv'\n",
    "interval_path = RESULT_PATH /'intervals_with_info.csv'\n",
    "info_path = PRE_PATH/'info.csv'\n",
    "data_path = PRE_PATH/'data.csv'\n",
    "assert info_path.exists() and data_path.exists() and zero_path.exists(), 'These paths should exist'"
   ]
  },
  {
   "cell_type": "markdown",
   "id": "thick-romance",
   "metadata": {},
   "source": [
    "# Util methods"
   ]
  },
  {
   "cell_type": "code",
   "execution_count": null,
   "id": "corresponding-america",
   "metadata": {},
   "outputs": [],
   "source": [
    "def vec_dt_replace(series, year=None, month=None, day=None):\n",
    "    return pd.to_datetime(\n",
    "        {'year': series.year if year is None else year,\n",
    "         'month': series.month if month is None else month,\n",
    "         'day': series.day if day is None else day, \n",
    "        'hour': series.hour,\n",
    "        'minute': series.minute})"
   ]
  },
  {
   "cell_type": "code",
   "execution_count": null,
   "id": "drawn-wheat",
   "metadata": {},
   "outputs": [],
   "source": [
    "def add_date(series): \n",
    "    return pd.to_datetime(series, format='%H:%M:%S')"
   ]
  },
  {
   "cell_type": "code",
   "execution_count": null,
   "id": "legendary-passenger",
   "metadata": {},
   "outputs": [],
   "source": [
    "def get_DTW_distance_matrix(series, window, psi): \n",
    "    series = SeriesContainer.wrap(series)\n",
    "    distance_matrix = dtw.distance_matrix_fast(series, window=window, psi=psi,compact = False)\n",
    "    return distance_matrix"
   ]
  },
  {
   "cell_type": "code",
   "execution_count": null,
   "id": "nuclear-poland",
   "metadata": {},
   "outputs": [],
   "source": [
    "def cluster_timeseries_k_mediods_DTW(series, n_clusters, window, psi):\n",
    "    # from LinkageTree implementation in dtaidistance\n",
    "    series = SeriesContainer.wrap(series)\n",
    "    distance_matrix = dtw.distance_matrix_fast(series, window=window, psi=psi,compact = False)\n",
    "    # so this distance matrix is upper triangular but it needs to be a full matrix for the clusterer\n",
    "    distance_matrix[np.isinf(distance_matrix)] = 0\n",
    "    # this works because the diagonal is 0\n",
    "    full_matrix = distance_matrix + distance_matrix.T\n",
    "    clusterer = KMedoids(n_clusters, metric='precomputed', init='k-medoids++', max_iter=1000)\n",
    "    \n",
    "    clusterer.fit(full_matrix)\n",
    "    labels = clusterer.labels_\n",
    "    centers = series[clusterer.medoid_indices_]\n",
    "    return labels, centers"
   ]
  },
  {
   "cell_type": "markdown",
   "id": "mysterious-literature",
   "metadata": {},
   "source": [
    "## Read the data"
   ]
  },
  {
   "cell_type": "code",
   "execution_count": null,
   "id": "spanish-fisher",
   "metadata": {},
   "outputs": [],
   "source": [
    "info_df = pd.read_csv(info_path, index_col = [0,1])\n",
    "data_df = pd.read_csv(data_path, index_col = [0,1])\n",
    "data_df.columns = pd.to_datetime(data_df.columns)\n",
    "data_df.columns.name = 'timestamp'\n"
   ]
  },
  {
   "cell_type": "code",
   "execution_count": null,
   "id": "gorgeous-champion",
   "metadata": {},
   "outputs": [],
   "source": [
    "data_to_use = data_df.copy()\n",
    "data_to_use.index = data_to_use.index.map(lambda o: str(o[0]) + ', ' + str(o[1]))\n",
    "data_to_use.index.name = 'meterID'\n",
    "data_to_use = data_to_use[~data_to_use.index.duplicated(keep = 'first')]"
   ]
  },
  {
   "cell_type": "code",
   "execution_count": null,
   "id": "dated-slope",
   "metadata": {},
   "outputs": [],
   "source": [
    "data_to_use"
   ]
  },
  {
   "cell_type": "markdown",
   "id": "portable-miniature",
   "metadata": {},
   "source": [
    "# Group by month and sum"
   ]
  },
  {
   "cell_type": "code",
   "execution_count": null,
   "id": "racial-cinema",
   "metadata": {},
   "outputs": [],
   "source": [
    "monthly_consumption = data_to_use.resample('1M', axis = 1).sum()\n",
    "normalized_monthly_consumption = monthly_consumption.apply(lambda x: x / np.sum(x), axis = 1, raw = True)\n",
    "alt.Chart(monthly_consumption.stack().to_frame('value').reset_index()).mark_line().encode(\n",
    "    x = 'timestamp', \n",
    "    y = 'value', \n",
    "    color = 'meterID:N'\n",
    ")"
   ]
  },
  {
   "cell_type": "code",
   "execution_count": null,
   "id": "cooked-float",
   "metadata": {},
   "outputs": [],
   "source": [
    "monthly_consumption"
   ]
  },
  {
   "cell_type": "code",
   "execution_count": null,
   "id": "bearing-boutique",
   "metadata": {},
   "outputs": [],
   "source": [
    "from tslearn.clustering import KShape\n",
    "from tslearn.preprocessing import TimeSeriesScalerMeanVariance"
   ]
  },
  {
   "cell_type": "code",
   "execution_count": null,
   "id": "frozen-saskatchewan",
   "metadata": {},
   "outputs": [],
   "source": [
    "def cluster(clusterer, data, index ): \n",
    "    labels = clusterer.fit_predict(data)\n",
    "    return pd.Series(labels, index = index, name = 'cluster_idx')"
   ]
  },
  {
   "cell_type": "code",
   "execution_count": null,
   "id": "strong-bookmark",
   "metadata": {},
   "outputs": [],
   "source": [
    "clusterer = KShape(100, random_state = 1234)\n",
    "labels = cluster(clusterer, TimeSeriesScalerMeanVariance(mu=0., std=1.).fit_transform(monthly_consumption.dropna(axis = 0)), monthly_consumption.dropna().index)\n",
    "labels"
   ]
  },
  {
   "cell_type": "code",
   "execution_count": null,
   "id": "graphic-concentration",
   "metadata": {},
   "outputs": [],
   "source": [
    "vis_df = normalized_monthly_consumption.stack().to_frame('value').join(labels)\n",
    "# vis_df = vis_df[vis_df.cluster_idx.isin(big_clusters.index)]\n",
    "alt.Chart(vis_df.reset_index()).mark_line().encode(\n",
    "    x = 'timestamp', \n",
    "    y = 'value', \n",
    "    color = 'meterID:N', \n",
    "    facet = 'cluster_idx'\n",
    ").resolve_scale(y = 'independent', color = 'independent').resolve_axis(y = 'independent').resolve_legend('independent')"
   ]
  },
  {
   "cell_type": "code",
   "execution_count": null,
   "id": "afraid-overview",
   "metadata": {},
   "outputs": [],
   "source": []
  },
  {
   "cell_type": "markdown",
   "id": "sensitive-action",
   "metadata": {},
   "source": [
    "## Look at outliers\n",
    "This are profiles that inject more than what they consume and thus normalizing does not really work "
   ]
  },
  {
   "cell_type": "code",
   "execution_count": null,
   "id": "strategic-clock",
   "metadata": {},
   "outputs": [],
   "source": [
    "outliers = data_to_use.loc[normalized_monthly_consumption[(normalized_monthly_consumption < -20).any(axis = 1)].index]\n",
    "alt.Chart(outliers.stack().to_frame('value').reset_index()).mark_line().encode(\n",
    "    x = 'timestamp:T', \n",
    "    y = 'value', \n",
    "    color = 'meterID'\n",
    ").interactive()"
   ]
  },
  {
   "cell_type": "code",
   "execution_count": null,
   "id": "acute-amendment",
   "metadata": {},
   "outputs": [],
   "source": [
    "outliers.sum(axis = 1)"
   ]
  },
  {
   "cell_type": "markdown",
   "id": "greek-scout",
   "metadata": {},
   "source": [
    "### Look at the non outliers"
   ]
  },
  {
   "cell_type": "code",
   "execution_count": null,
   "id": "abroad-bacteria",
   "metadata": {},
   "outputs": [],
   "source": [
    "alt.Chart(normalized_monthly_consumption.loc[normalized_monthly_consumption.index.difference(outliers.index)].stack().to_frame('value').reset_index()).mark_line().encode(\n",
    "    x = 'timestamp', \n",
    "    y = 'value', \n",
    "    color = 'meterID'\n",
    ")"
   ]
  },
  {
   "cell_type": "markdown",
   "id": "eligible-survivor",
   "metadata": {},
   "source": [
    "## Cluster these using k-means"
   ]
  },
  {
   "cell_type": "code",
   "execution_count": null,
   "id": "alive-notice",
   "metadata": {},
   "outputs": [],
   "source": [
    "clusterer = KMeans(150, random_state = 1213)\n",
    "# clusterer = KMedoids(100)\n",
    "labels = clusterer.fit_predict(normalized_monthly_consumption.dropna(axis = 0).to_numpy())\n",
    "labels = pd.Series(labels, index = normalized_monthly_consumption.dropna().index, name = 'cluster_idx')\n",
    "cluster_sizes = labels.value_counts().rename_axis('cluster_idx').rename('size')\n",
    "big_clusters = cluster_sizes[cluster_sizes >= 10]\n",
    "vis_df = normalized_monthly_consumption.stack().to_frame('value').join(labels)\n",
    "vis_df = vis_df[vis_df.cluster_idx.isin(big_clusters.index)]\n",
    "alt.Chart(vis_df.reset_index()).mark_line().encode(\n",
    "    x = 'timestamp', \n",
    "    y = 'value', \n",
    "    color = 'meterID:N', \n",
    "    facet = 'cluster_idx'\n",
    ").resolve_scale(y = 'independent', color = 'independent').resolve_axis(y = 'independent').resolve_legend('independent')"
   ]
  },
  {
   "cell_type": "code",
   "execution_count": null,
   "id": "naval-purple",
   "metadata": {},
   "outputs": [],
   "source": [
    "concave = [18, 34, 46, 74, 85, 91, 95, 97, 98, 106, 148]\n",
    "straight = [0, 43, 56, 109, 114,134]\n",
    "convex = [33,130]"
   ]
  },
  {
   "cell_type": "code",
   "execution_count": null,
   "id": "dated-drove",
   "metadata": {},
   "outputs": [],
   "source": [
    "vis2_df = normalized_monthly_consumption.join(labels.astype('int')).groupby('cluster_idx').agg(['mean', 'min', 'max']).stack(level = 0).reset_index().rename(columns = {'level_1':'month'})\n",
    "vis2_df"
   ]
  },
  {
   "cell_type": "code",
   "execution_count": null,
   "id": "christian-cambridge",
   "metadata": {},
   "outputs": [],
   "source": [
    "vis2_df = normalized_monthly_consumption.join(labels.astype('int')).groupby('cluster_idx').agg(['mean', 'min', 'max']).stack(level = 0).reset_index().rename(columns = {'level_1':'month'})\n",
    "vis2_df = vis2_df[vis2_df.cluster_idx.isin(big_clusters.index)]\n",
    "def cluster_summary(clusters_to_show):\n",
    "    chart1 = alt.Chart(vis2_df[vis2_df.cluster_idx.isin(clusters_to_show)], width = 600, height = 600).mark_area(opacity = 0.2).encode(\n",
    "        x = 'month:O', \n",
    "        y = 'min:Q', \n",
    "        y2 = 'max:Q', \n",
    "        color = 'cluster_idx:N'\n",
    "    )\n",
    "    chart2 = alt.Chart(vis2_df[vis2_df.cluster_idx.isin(clusters_to_show)], width = 600, height = 600).mark_line().encode(\n",
    "        x = 'month:O', \n",
    "        y = 'mean:Q',\n",
    "        color = 'cluster_idx:N'\n",
    "    )\n",
    "    return (chart1 | chart2).resolve_scale(y='shared')\n",
    "cluster_summary(concave)"
   ]
  },
  {
   "cell_type": "code",
   "execution_count": null,
   "id": "absent-martial",
   "metadata": {},
   "outputs": [],
   "source": [
    "cluster_summary(convex)"
   ]
  },
  {
   "cell_type": "code",
   "execution_count": null,
   "id": "prostate-metropolitan",
   "metadata": {},
   "outputs": [],
   "source": [
    "cluster_summary(straight)"
   ]
  },
  {
   "cell_type": "code",
   "execution_count": null,
   "id": "acting-watch",
   "metadata": {},
   "outputs": [],
   "source": [
    "others = big_clusters.index.drop(convex).drop(concave).drop(straight).to_list()\n",
    "cluster_summary(others)"
   ]
  },
  {
   "cell_type": "markdown",
   "id": "graphic-differential",
   "metadata": {},
   "source": [
    "### Remove outliers and cluster"
   ]
  },
  {
   "cell_type": "code",
   "execution_count": null,
   "id": "broken-citizen",
   "metadata": {},
   "outputs": [],
   "source": [
    "outlier_detector = LocalOutlierFactor(50, contamination = 0.2)\n",
    "outlier_labels = outlier_detector.fit_predict(normalized_monthly_consumption.dropna(axis = 0).to_numpy())\n",
    "outliers = pd.Series(outlier_labels == -1, index = normalized_monthly_consumption.dropna().index, name = 'outlier_labels')\n",
    "vis_df = normalized_monthly_consumption.dropna().stack().to_frame('value').join(outliers).reset_index()\n",
    "alt.Chart(vis_df).mark_line().encode(\n",
    "    x = 'timestamp', \n",
    "    y = 'value', \n",
    "    color = 'meterID', \n",
    "    facet = 'outlier_labels'\n",
    ").resolve_scale(color = 'independent').resolve_legend('independent')"
   ]
  },
  {
   "cell_type": "code",
   "execution_count": null,
   "id": "informal-heart",
   "metadata": {},
   "outputs": [],
   "source": [
    "data = normalized_monthly_consumption.dropna().loc[~outliers]\n"
   ]
  },
  {
   "cell_type": "code",
   "execution_count": null,
   "id": "least-mechanism",
   "metadata": {},
   "outputs": [],
   "source": [
    "clusterer = KMeans(25)\n",
    "# clusterer = KMedoids(15)\n",
    "labels = clusterer.fit_predict(data.to_numpy())\n",
    "labels = pd.Series(labels, index = data.index, name = 'cluster_idx')\n",
    "vis_df = data.stack().to_frame('value').join(labels)\n",
    "alt.Chart(vis_df.reset_index()).mark_line().encode(\n",
    "    x = 'timestamp', \n",
    "    y = 'value', \n",
    "    color = 'meterID', \n",
    "    facet = 'cluster_idx'\n",
    ").resolve_scale(y = 'independent', color = 'independent').resolve_axis(y = 'independent').resolve_legend('independent')"
   ]
  },
  {
   "cell_type": "code",
   "execution_count": null,
   "id": "vocal-intranet",
   "metadata": {},
   "outputs": [],
   "source": []
  }
 ],
 "metadata": {
  "kernelspec": {
   "display_name": "Python 3",
   "language": "python",
   "name": "python3"
  },
  "language_info": {
   "codemirror_mode": {
    "name": "ipython",
    "version": 3
   },
   "file_extension": ".py",
   "mimetype": "text/x-python",
   "name": "python",
   "nbconvert_exporter": "python",
   "pygments_lexer": "ipython3",
   "version": "3.8.5"
  }
 },
 "nbformat": 4,
 "nbformat_minor": 5
}
