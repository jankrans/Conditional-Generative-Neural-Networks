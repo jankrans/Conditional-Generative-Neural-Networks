{
 "cells": [
  {
   "cell_type": "markdown",
   "id": "synthetic-family",
   "metadata": {},
   "source": [
    "# NMF matching to compare profiles\n",
    "The steps of this algorithm\n",
    "## Figuring out the representation of each profile\n",
    "- Raw components are extracted using NMF on the days of each profile separately  \n",
    "- Problem: the components don't have a scale\n",
    "    - look into the coefficient matrix at all the non-zero coefficients that are used with this component \n",
    "    - make a kernel density estimation of these coefficients (just fixed bandwidth) and look for the local maxima in this density estimation \n",
    "    - these local maxima will be the scales that we use (so here we introduce an error) \n",
    "    - now each component that has multiple local maxima will be split up in different components each with one local maxima \n",
    "    - in this way we can solve the scale issue \n",
    "- So now we have the representation a set of (scaled) components, each component also keeps track of how much it is used in the profile \n",
    "\n",
    "## Comparing different profiles \n",
    "To compare different profiles, we are going to try to match the consumption with each other.  \n",
    "The distance between two profiles is then the total consumption that couldn't be matched under time warping.  \n",
    "This is implemented by greedily matching consumption untill no matches can be made anymore.  \n",
    "\n",
    "\n",
    "_note: the implementation is pretty expensive, it is iterative and lots of DTW distances need to be calculated_  \n",
    "But these are worries for later"
   ]
  },
  {
   "cell_type": "markdown",
   "id": "appreciated-sacramento",
   "metadata": {},
   "source": [
    "# Imports"
   ]
  },
  {
   "cell_type": "code",
   "execution_count": null,
   "id": "incorporated-thomson",
   "metadata": {},
   "outputs": [],
   "source": [
    "# this reloads code from external modules automatically if it is changed (without having to restart the kernel)\n",
    "%load_ext autoreload\n",
    "%autoreload 2\n",
    "from KDEpy import TreeKDE\n",
    "import altair as alt\n",
    "import numpy as np\n",
    "import pandas as pd\n",
    "from pathlib import Path\n",
    "import itertools\n",
    "import datetime\n",
    "from sklearn.decomposition import NMF\n",
    "idx = pd.IndexSlice\n",
    "alt.data_transformers.disable_max_rows()\n",
    "import warnings\n"
   ]
  },
  {
   "cell_type": "markdown",
   "id": "outer-stranger",
   "metadata": {},
   "source": [
    "# Read (subset of) the data"
   ]
  },
  {
   "cell_type": "code",
   "execution_count": null,
   "id": "boolean-federal",
   "metadata": {},
   "outputs": [],
   "source": [
    "PRE_PATH = Path('/cw/dtaiproj/ml/2020-FLAIR-VITO/profile-clustering/preprocessed/combined')\n",
    "info_path = PRE_PATH/'reindexed_info.csv'\n",
    "data_path = PRE_PATH/'reindexed_DST_data.csv'\n",
    "info_df = pd.read_csv(info_path, index_col = [0,1], nrows = 100)\n",
    "data_df = pd.read_csv(data_path, index_col = [0,1], nrows = 100)\n",
    "data_df.columns = pd.to_datetime(data_df.columns)\n",
    "data_df.columns.name = 'timestamp'\n"
   ]
  },
  {
   "cell_type": "markdown",
   "id": "flush-brunswick",
   "metadata": {},
   "source": [
    "# Choose two example profiles to work with"
   ]
  },
  {
   "cell_type": "code",
   "execution_count": null,
   "id": "passive-failing",
   "metadata": {},
   "outputs": [],
   "source": [
    "def add_date(series): \n",
    "    return pd.to_datetime(series, format='%H:%M:%S', exact = False)\n",
    "\n",
    "def get_profile(index): \n",
    "        profile = data_df.iloc[index]\n",
    "        day_matrix = (\n",
    "            profile\n",
    "            .to_frame('value')\n",
    "            # add time and date column\n",
    "            .assign(\n",
    "                time = lambda x: add_date(x.index.time), \n",
    "                date = lambda x: x.index.date.astype('str')\n",
    "            )\n",
    "            # make every day a row\n",
    "            .pipe(lambda x: pd.pivot_table(x, index = 'date', columns = 'time', values = 'value'))\n",
    "            # drop days that contain a NaN\n",
    "            .dropna(axis = 0)\n",
    "        )\n",
    "        return profile, day_matrix"
   ]
  },
  {
   "cell_type": "code",
   "execution_count": null,
   "id": "attached-portland",
   "metadata": {},
   "outputs": [],
   "source": [
    "# IDX1, IDX2 = 0,1 #pretty similar\n",
    "IDX1, IDX2 = 20, 10\n",
    "profile1, day_df1 = get_profile(IDX1)\n",
    "profile2, day_df2 = get_profile(IDX2)"
   ]
  },
  {
   "cell_type": "markdown",
   "id": "bigger-messaging",
   "metadata": {},
   "source": [
    "# Calculate the NMF of each profile"
   ]
  },
  {
   "cell_type": "code",
   "execution_count": null,
   "id": "nervous-pacific",
   "metadata": {},
   "outputs": [],
   "source": [
    "def get_NMF(day_df, nb_of_components): \n",
    "    matrix = day_df.to_numpy()\n",
    "    decomposer = NMF(10, max_iter = 100000, alpha = 0.05, l1_ratio = 1, regularization = 'both').fit(matrix)\n",
    "    components = decomposer.components_\n",
    "    components_df = (\n",
    "        pd.DataFrame(components, columns = day_df.columns)\n",
    "        .rename_axis(index = 'component_nb')\n",
    "    )\n",
    "    representation_matrix = decomposer.transform(matrix)\n",
    "    representation_df = pd.DataFrame(representation_matrix, index = day_df.index).sort_index()\n",
    "    return components_df, representation_df"
   ]
  },
  {
   "cell_type": "code",
   "execution_count": null,
   "id": "solar-sunset",
   "metadata": {},
   "outputs": [],
   "source": [
    "def all_day_chart(day_df): \n",
    "    return alt.Chart(day_df.stack().to_frame('value').reset_index(), width = 600, height = 300).mark_line(size = 0.3).encode(\n",
    "        x = 'time:T', \n",
    "        y= 'value', \n",
    "        color = alt.Color('date', scale = alt.Scale(scheme = 'rainbow'), legend = None),\n",
    "    )\n",
    "\n",
    "def NMF_component_chart(component_df): \n",
    "    return alt.Chart(component_df.stack().to_frame('value').reset_index().assign(time = lambda x: add_date(x['time'])), width = 600).mark_line().encode(\n",
    "        x = 'time:T', \n",
    "        y = 'value:Q', \n",
    "        color = 'component_nb:N'\n",
    "    )\n",
    "\n",
    "def day_NMF_chart(day_df, components_df): \n",
    "    return (all_day_chart(day_df) | NMF_component_chart(components_df)).resolve_scale(color = 'independent')"
   ]
  },
  {
   "cell_type": "code",
   "execution_count": null,
   "id": "renewable-innocent",
   "metadata": {},
   "outputs": [],
   "source": [
    "with warnings.catch_warnings(): # to ignore the warnings\n",
    "    components_df1, representation_df1 = get_NMF(day_df1, 10)\n",
    "    components_df2, representation_df2 = get_NMF(day_df2, 10)"
   ]
  },
  {
   "cell_type": "code",
   "execution_count": null,
   "id": "invalid-diameter",
   "metadata": {},
   "outputs": [],
   "source": [
    "day_NMF_chart(day_df1, components_df1).properties(title = 'profile 1').display()\n",
    "day_NMF_chart(day_df2, components_df2).properties(title = 'profile 2').display()\n"
   ]
  },
  {
   "cell_type": "markdown",
   "id": "focused-burton",
   "metadata": {},
   "source": [
    "# Handle the scale "
   ]
  },
  {
   "cell_type": "markdown",
   "id": "through-extreme",
   "metadata": {},
   "source": [
    "### Distribution plot of the coefficients of each component"
   ]
  },
  {
   "cell_type": "code",
   "execution_count": null,
   "id": "faced-visitor",
   "metadata": {},
   "outputs": [],
   "source": [
    "# each component is used a couple of times with a large coefficient\n",
    "dfs = []\n",
    "for component_nb in components_df1.index:\n",
    "    component_values = representation_df1[component_nb].pipe(lambda x: x[x>0.03])\n",
    "    x, y = TreeKDE(bw = 0.01).fit(component_values.values).evaluate()\n",
    "    kde_df = (\n",
    "        pd.DataFrame()\n",
    "        .assign(\n",
    "            x = x, \n",
    "            y = y, \n",
    "            component_nb = component_nb\n",
    "        )\n",
    "    )\n",
    "    dfs.append(kde_df)\n",
    "    \n",
    "all_kde_dfs = pd.concat(dfs, axis = 0)\n",
    "alt.Chart(all_kde_dfs, title = 'distribution of the coefficients of each component').mark_line().encode(\n",
    "    x = 'x', \n",
    "    y = 'y',\n",
    "    color = 'component_nb:N'\n",
    ")"
   ]
  },
  {
   "cell_type": "markdown",
   "id": "indirect-worth",
   "metadata": {},
   "source": [
    "## New way just discretizise the coefficients"
   ]
  },
  {
   "cell_type": "code",
   "execution_count": null,
   "id": "english-failing",
   "metadata": {},
   "outputs": [],
   "source": [
    "from component_matching import scale_single_component"
   ]
  },
  {
   "cell_type": "code",
   "execution_count": null,
   "id": "retained-branch",
   "metadata": {},
   "outputs": [],
   "source": [
    "component_idx = 9\n",
    "coefficients = representation_df1.loc[:, component_idx].values\n",
    "component = components_df1.loc[component_idx].values\n",
    "scaled_components, values = scale_single_component(coefficients, component)\n",
    "values"
   ]
  },
  {
   "cell_type": "code",
   "execution_count": null,
   "id": "municipal-tactics",
   "metadata": {},
   "outputs": [],
   "source": [
    "new_coefficients = representation_df1.rename_axis(columns = 'component_nb').stack().to_frame(\"value\").pipe(lambda x: x[x.value != 0]).reset_index().groupby('component_nb')['value'].mean()\n",
    "new_coefficients"
   ]
  },
  {
   "cell_type": "code",
   "execution_count": null,
   "id": "sweet-polls",
   "metadata": {},
   "outputs": [],
   "source": [
    "original_consumption = representation_df1.sum(axis = 0)\n",
    "original_consumption"
   ]
  },
  {
   "cell_type": "code",
   "execution_count": null,
   "id": "thirty-gravity",
   "metadata": {},
   "outputs": [],
   "source": [
    "((representation_df1 > 0).sum(axis = 0)*new_coefficients)"
   ]
  },
  {
   "cell_type": "code",
   "execution_count": null,
   "id": "north-douglas",
   "metadata": {},
   "outputs": [],
   "source": [
    "discrete_coefficients.stack().reset_index().groupby('level_1')[0].value_counts().to_frame().rename_axis(index = ('component_nb', 'scale')).sort_index()"
   ]
  },
  {
   "cell_type": "markdown",
   "id": "innovative-stereo",
   "metadata": {},
   "source": [
    "### For now just use the maximum of the KDE (in some way the most common coefficient)\n"
   ]
  },
  {
   "cell_type": "code",
   "execution_count": null,
   "id": "mobile-shaft",
   "metadata": {},
   "outputs": [],
   "source": [
    "def scale_components(representation_df, components_df): \n",
    "    dfs = []\n",
    "    for component_nb in components_df.index:\n",
    "        component_values = representation_df[component_nb].pipe(lambda x: x[x>0.03])\n",
    "        x, y = TreeKDE(bw = 0.01).fit(component_values.values).evaluate()\n",
    "        kde_df = (\n",
    "            pd.DataFrame()\n",
    "            .assign(\n",
    "                x = x, \n",
    "                y = y, \n",
    "                component_nb = component_nb\n",
    "            )\n",
    "        )\n",
    "        dfs.append(kde_df)\n",
    "\n",
    "    all_kde_dfs = pd.concat(dfs, axis = 0)\n",
    "    most_common_coefficients = all_kde_dfs.groupby('component_nb')[['y', 'x']].max()['x']\n",
    "    scaled_components = components_df.multiply(most_common_coefficients, axis = 0)\n",
    "    times_used = (representation_df > 0.03).sum(axis = 0)\n",
    "    return scaled_components, times_used"
   ]
  },
  {
   "cell_type": "code",
   "execution_count": null,
   "id": "clear-corruption",
   "metadata": {},
   "outputs": [],
   "source": [
    "scaled_components_df1, times_used1 = scale_components(representation_df1, components_df1)\n",
    "scaled_components_df2, times_used2 = scale_components(representation_df2, components_df2)"
   ]
  },
  {
   "cell_type": "code",
   "execution_count": null,
   "id": "eight-politics",
   "metadata": {},
   "outputs": [],
   "source": [
    "alt.hconcat(all_day_chart(day_df1).properties(title = 'all days'), NMF_component_chart(scaled_components_df1).properties(title = 'scaled components'), NMF_component_chart(components_df1).properties(title = 'non scaled components')).resolve_scale(color = 'independent', y = 'shared').display()"
   ]
  },
  {
   "cell_type": "code",
   "execution_count": null,
   "id": "incorporated-growing",
   "metadata": {},
   "outputs": [],
   "source": [
    "alt.hconcat(all_day_chart(day_df2).properties(title = 'all days'), NMF_component_chart(scaled_components_df2).properties(title = 'scaled components'), NMF_component_chart(components_df2).properties(title = 'non scaled components')).resolve_scale(color = 'independent', y = 'shared').display()"
   ]
  },
  {
   "cell_type": "markdown",
   "id": "younger-appointment",
   "metadata": {},
   "source": [
    "# Matching algorithm\n",
    "The goal here is to compare two sets of scaled components which each have a time used"
   ]
  },
  {
   "cell_type": "code",
   "execution_count": null,
   "id": "hybrid-processing",
   "metadata": {},
   "outputs": [],
   "source": [
    "(NMF_component_chart(scaled_components_df1) | NMF_component_chart(scaled_components_df2)).resolve_scale(color = 'independent', y = 'shared')"
   ]
  },
  {
   "cell_type": "markdown",
   "id": "racial-brain",
   "metadata": {},
   "source": [
    "## Calculate all the aligned sequences and DTW distances"
   ]
  },
  {
   "cell_type": "code",
   "execution_count": null,
   "id": "honest-promise",
   "metadata": {},
   "outputs": [],
   "source": [
    "\n",
    "from dtaidistance import dtw\n",
    "import itertools"
   ]
  },
  {
   "cell_type": "code",
   "execution_count": null,
   "id": "subsequent-philip",
   "metadata": {},
   "outputs": [],
   "source": [
    "class ComponentMatcher:\n",
    "    \"\"\"\n",
    "        A class to help keep track of all the necessary information to make the matching algorithm pretty simple\n",
    "    \"\"\"\n",
    "    \n",
    "    def __init__(self,scaled_components_df1, times_used1, scaled_components_df2, times_used2): \n",
    "        # keeps track of the times used attribute of each component\n",
    "        self.times_used_dict = dict()\n",
    "        # keeps track of all the aligned sequences\n",
    "        self.aligned_sequence_dict = dict()\n",
    "        # keeps track of all the dtw distances\n",
    "        self.dtw_distances_dict = dict()\n",
    "        \n",
    "        # keeps track of the original components \n",
    "        self.original_components1 = {key: value.to_numpy() for key, value in scaled_components_df1.iterrows()}\n",
    "        self.original_components2 = {key: value.to_numpy() for key, value in scaled_components_df2.iterrows()}\n",
    "        \n",
    "        \n",
    "        \n",
    "        \n",
    "        # integers to use for the next components \n",
    "        self.current_component_nb1 = scaled_components_df1.index.max()\n",
    "        self.current_component_nb2 = scaled_components_df2.index.max()\n",
    "        \n",
    "        # all components in set1\n",
    "        self.current_components1 = set(scaled_components_df1.index)\n",
    "        self.current_components2 = set(scaled_components_df2.index)\n",
    "        \n",
    "        # initialise the aligned sequence dict and dtw distances dict\n",
    "        for comp_nb1, comp_nb2 in itertools.product(scaled_components_df1.index, scaled_components_df2.index):\n",
    "            component1 = scaled_components_df1.loc[comp_nb1].to_numpy()\n",
    "            component2 = scaled_components_df2.loc[comp_nb2].to_numpy()\n",
    "            # added penalty to ensure no warping is preffered over warping \n",
    "            aligned_component1, best_path = dtw.warp(component1, component2, window = 4, penalty = 0.1)\n",
    "            dist = dtw.distance(component1, component2, window = 4, penalty = 0.1)\n",
    "            self.aligned_sequence_dict[(comp_nb1, comp_nb2)] = (aligned_component1, component2, best_path)\n",
    "            self.dtw_distances_dict[(comp_nb1, comp_nb2)] = dist\n",
    "        \n",
    "        # initialise the times_used_dict \n",
    "        for index, value in times_used1.iteritems(): \n",
    "            self.times_used_dict[(1,index)] = value \n",
    "        for index, value in times_used2.iteritems(): \n",
    "            self.times_used_dict[(2,index)] = value \n",
    "    \n",
    "    def one_set_empty(self): \n",
    "        return len(self.current_components1)==0 or len(self.current_components2)==0\n",
    "    \n",
    "    def get_non_empty_component_set(self): \n",
    "        assert self.one_set_empty()\n",
    "        if len(self.current_components1) == 0: \n",
    "            return [self.original_components2[idx] for idx in self.current_components2]\n",
    "        return [self.original_components1[idx] for idx in self.current_components1]\n",
    "        \n",
    "    def get_best_aligned_pair(self): \n",
    "        best_pair = min(self.dtw_distances_dict, key = self.dtw_distances_dict.get)\n",
    "        component1, component2, best_path = self.aligned_sequence_dict[best_pair]\n",
    "        times_used1 = self.times_used_dict[(1, best_pair[0])]\n",
    "        times_used2 = self.times_used_dict[(2, best_pair[1])]\n",
    "        return (best_pair[0], component1, times_used1), (best_pair[1], component2, times_used2), best_path\n",
    "    \n",
    "    def remove_component_from_set1(self,comp1): \n",
    "        component1_pairs = [(comp1, other_comp2) for other_comp2 in self.current_components2]\n",
    "        for pair_to_remove in component1_pairs: \n",
    "            self.aligned_sequence_dict.pop(pair_to_remove)\n",
    "            self.dtw_distances_dict.pop(pair_to_remove)\n",
    "        \n",
    "        self.times_used_dict.pop((1, comp1))\n",
    "        \n",
    "        self.current_components1.remove(comp1)\n",
    "        \n",
    "    def remove_component_from_set2(self,comp2): \n",
    "        component2_pairs = [(other_comp1, comp2) for other_comp1 in self.current_components1]\n",
    "        for pair_to_remove in component2_pairs: \n",
    "            self.aligned_sequence_dict.pop(pair_to_remove)\n",
    "            self.dtw_distances_dict.pop(pair_to_remove)\n",
    "            \n",
    "        self.times_used_dict.pop((2, comp2))\n",
    "        \n",
    "        self.current_components2.remove(comp2)\n",
    "        \n",
    "    def add_component_to_set1(self,component1, times_used): \n",
    "        comp1_idx = self.current_component_nb1 + 1\n",
    "        self.current_component_nb1 += 1\n",
    "        self.current_components1.add(comp1_idx)\n",
    "        \n",
    "        self.original_components1[comp1_idx] = component1\n",
    "        \n",
    "        self.times_used_dict[(1,comp1_idx)] = times_used\n",
    "        \n",
    "        for comp2_idx in self.current_components2: \n",
    "            component2 = self.original_components2[comp2_idx] \n",
    "            aligned_component1, _ = dtw.warp(component1, component2, window = 4, penalty = 0.1)\n",
    "            dist = dtw.distance(component1, component2, window = 4, penalty = 0.1)\n",
    "            self.aligned_sequence_dict[(comp1_idx, comp2_idx)] = (aligned_component1, component2)\n",
    "            self.dtw_distances_dict[(comp1_idx, comp2_idx)] = dist\n",
    "            \n",
    "   \n",
    "        \n",
    "    def add_component_to_set2(self,component2, times_used): \n",
    "        comp2_idx = self.current_component_nb2 + 1\n",
    "        self.current_component_nb2 += 1\n",
    "        self.current_components2.add(comp2_idx)\n",
    "        \n",
    "        self.original_components2[comp2_idx] = component2\n",
    "        \n",
    "        self.times_used_dict[(2,comp2_idx)] = times_used\n",
    "        \n",
    "        for comp1_idx in self.current_components1: \n",
    "            component1 = self.original_components1[comp1_idx] \n",
    "            aligned_component1, _ = dtw.warp(component1, component2, window = 4, penalty = 0.1)\n",
    "            dist = dtw.distance(component1, component2, window = 4, penalty = 0.1)\n",
    "            self.aligned_sequence_dict[(comp1_idx, comp2_idx)] = (aligned_component1, component2)\n",
    "            self.dtw_distances_dict[(comp1_idx, comp2_idx)] = dist\n",
    "    \n",
    "    def change_times_used_set1(self,comp1_idx, times_used): \n",
    "        self.times_used_dict[(1, comp1_idx)] = times_used\n",
    "        \n",
    "    def change_times_used_set2(self,comp2_idx, times_used): \n",
    "        self.times_used_dict[(2, comp2_idx)] = times_used \n",
    "        "
   ]
  },
  {
   "cell_type": "code",
   "execution_count": null,
   "id": "after-truck",
   "metadata": {},
   "outputs": [],
   "source": [
    "component_matcher = ComponentMatcher(scaled_components_df1, times_used1, scaled_components_df2, times_used2)\n",
    "while not component_matcher.one_set_empty(): \n",
    "    \n",
    "    (comp1_idx, component1, used1), (comp2_idx, component2, used2), warping_path = component_matcher.get_best_aligned_pair()\n",
    "\n",
    "    print(f\"Pair {comp1_idx}, {comp2_idx} used {used1}, {used2}\")\n",
    "    if used1 > used2: \n",
    "        diff = used1-used2\n",
    "        # add component 1 with times_used diff \n",
    "        component_matcher.change_times_used_set1(comp1_idx, diff)\n",
    "        component_matcher.remove_component_from_set2(comp2_idx)\n",
    "    elif used2 < used1: \n",
    "        diff = used2-used1\n",
    "        # add component 2 with times_used diff \n",
    "        component_matcher.change_time_used_set2(comp2_idx, diff)\n",
    "        component_matcher.remove_component_from_set1(comp1_idx)\n",
    "    else: \n",
    "        component_matcher.remove_component_from_set1(comp1_idx)\n",
    "        component_matcher.remove_component_from_set2(comp2_idx)\n",
    "        \n",
    "    used = min(used1, used2)\n",
    "\n",
    "    difference = component1 - component2\n",
    "    positive_sum = np.sum(difference[difference>0])\n",
    "    negative_sum = -np.sum(difference[difference<0])\n",
    "    if positive_sum > negative_sum: \n",
    "        # comp1 is the one to use \n",
    "        new_comp1 = difference\n",
    "        new_comp1[new_comp1 < 0] = 0\n",
    "        # add new comp1 with times_used used \n",
    "        component_matcher.add_component_to_set1(new_comp1, used)\n",
    "        distance += negative_sum\n",
    "    else: \n",
    "        new_comp2 = -difference\n",
    "        new_comp2[new_comp2 < 0] = 0\n",
    "        # add new comp2 with times_used used \n",
    "        component_matcher.add_component_to_set2(new_comp2, used)\n",
    "        distance += positive_sum \n",
    "left_over = component_matcher.get_non_empty_component_set()\n",
    "for component in left_over:   \n",
    "    distance += np.sum(left_over)"
   ]
  },
  {
   "cell_type": "code",
   "execution_count": null,
   "id": "southwest-traffic",
   "metadata": {},
   "outputs": [],
   "source": [
    "distance"
   ]
  },
  {
   "cell_type": "code",
   "execution_count": null,
   "id": "promising-wrapping",
   "metadata": {},
   "outputs": [],
   "source": []
  }
 ],
 "metadata": {
  "kernelspec": {
   "display_name": "Python 3",
   "language": "python",
   "name": "python3"
  },
  "language_info": {
   "codemirror_mode": {
    "name": "ipython",
    "version": 3
   },
   "file_extension": ".py",
   "mimetype": "text/x-python",
   "name": "python",
   "nbconvert_exporter": "python",
   "pygments_lexer": "ipython3",
   "version": "3.8.5"
  }
 },
 "nbformat": 4,
 "nbformat_minor": 5
}
