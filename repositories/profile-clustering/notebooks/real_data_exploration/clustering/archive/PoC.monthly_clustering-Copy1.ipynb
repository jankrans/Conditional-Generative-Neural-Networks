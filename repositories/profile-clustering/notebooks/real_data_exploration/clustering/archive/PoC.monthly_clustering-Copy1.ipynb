{
 "cells": [
  {
   "cell_type": "code",
   "execution_count": null,
   "id": "intensive-economics",
   "metadata": {},
   "outputs": [],
   "source": [
    "import altair as alt\n",
    "import numpy as np\n",
    "import pandas as pd\n",
    "from pathlib import Path\n",
    "import itertools\n",
    "import datetime\n",
    "import random\n",
    "from sklearn.decomposition import NMF\n",
    "idx = pd.IndexSlice\n",
    "alt.data_transformers.disable_max_rows()\n",
    "from sklearn.cluster import KMeans\n",
    "from sklearn_extra.cluster import KMedoids\n",
    "from sklearn.neighbors import LocalOutlierFactor\n",
    "from sklearn.cluster import SpectralClustering"
   ]
  },
  {
   "cell_type": "code",
   "execution_count": null,
   "id": "union-deviation",
   "metadata": {},
   "outputs": [],
   "source": [
    "# this reloads code from external modules automatically if it is changed (without having to restart the kernel)\n",
    "%load_ext autoreload\n",
    "%autoreload 2"
   ]
  },
  {
   "cell_type": "code",
   "execution_count": null,
   "id": "fiscal-relevance",
   "metadata": {},
   "outputs": [],
   "source": [
    "PRE_PATH = Path('/cw/dtaiproj/ml/2020-FLAIR-VITO/profile-clustering/preprocessed/combined')\n",
    "RESULT_PATH = Path('/cw/dtaiproj/ml/2020-FLAIR-VITO/profile-clustering/error_detection')\n",
    "RESULT_PATH.mkdir(mode = 0o770, parents = True, exist_ok=True)\n",
    "result_path = RESULT_PATH / 'cumulative_value_detection.csv' \n",
    "zero_path = RESULT_PATH / 'zero_interval_is_error.csv'\n",
    "interval_path = RESULT_PATH /'intervals_with_info.csv'\n",
    "info_path = PRE_PATH/'info.csv'\n",
    "data_path = PRE_PATH/'data.csv'\n",
    "assert info_path.exists() and data_path.exists() and zero_path.exists(), 'These paths should exist'"
   ]
  },
  {
   "cell_type": "markdown",
   "id": "finnish-pierre",
   "metadata": {},
   "source": [
    "# Util methods"
   ]
  },
  {
   "cell_type": "code",
   "execution_count": null,
   "id": "powerful-duration",
   "metadata": {},
   "outputs": [],
   "source": [
    "def vec_dt_replace(series, year=None, month=None, day=None):\n",
    "    return pd.to_datetime(\n",
    "        {'year': series.year if year is None else year,\n",
    "         'month': series.month if month is None else month,\n",
    "         'day': series.day if day is None else day, \n",
    "        'hour': series.hour,\n",
    "        'minute': series.minute})"
   ]
  },
  {
   "cell_type": "code",
   "execution_count": null,
   "id": "previous-shirt",
   "metadata": {},
   "outputs": [],
   "source": [
    "def add_date(series): \n",
    "    return pd.to_datetime(series, format='%H:%M:%S')"
   ]
  },
  {
   "cell_type": "code",
   "execution_count": null,
   "id": "inclusive-florence",
   "metadata": {},
   "outputs": [],
   "source": [
    "def get_DTW_distance_matrix(series, window, psi): \n",
    "    series = SeriesContainer.wrap(series)\n",
    "    distance_matrix = dtw.distance_matrix_fast(series, window=window, psi=psi,compact = False)\n",
    "    return distance_matrix"
   ]
  },
  {
   "cell_type": "code",
   "execution_count": null,
   "id": "rocky-navigator",
   "metadata": {},
   "outputs": [],
   "source": [
    "def cluster_timeseries_k_mediods_DTW(series, n_clusters, window, psi):\n",
    "    # from LinkageTree implementation in dtaidistance\n",
    "    series = SeriesContainer.wrap(series)\n",
    "    distance_matrix = dtw.distance_matrix_fast(series, window=window, psi=psi,compact = False)\n",
    "    # so this distance matrix is upper triangular but it needs to be a full matrix for the clusterer\n",
    "    distance_matrix[np.isinf(distance_matrix)] = 0\n",
    "    # this works because the diagonal is 0\n",
    "    full_matrix = distance_matrix + distance_matrix.T\n",
    "    clusterer = KMedoids(n_clusters, metric='precomputed', init='k-medoids++', max_iter=1000)\n",
    "    \n",
    "    clusterer.fit(full_matrix)\n",
    "    labels = clusterer.labels_\n",
    "    centers = series[clusterer.medoid_indices_]\n",
    "    return labels, centers"
   ]
  },
  {
   "cell_type": "markdown",
   "id": "engaged-hostel",
   "metadata": {},
   "source": [
    "## Read the data"
   ]
  },
  {
   "cell_type": "code",
   "execution_count": null,
   "id": "liked-newton",
   "metadata": {},
   "outputs": [],
   "source": [
    "info_df = pd.read_csv(info_path, index_col = [0,1])\n",
    "data_df = pd.read_csv(data_path, index_col = [0,1])\n",
    "data_df.columns = pd.to_datetime(data_df.columns)\n",
    "data_df.columns.name = 'timestamp'\n"
   ]
  },
  {
   "cell_type": "code",
   "execution_count": null,
   "id": "limited-enforcement",
   "metadata": {},
   "outputs": [],
   "source": [
    "DATA_SOURCE = 'EandisVREG'\n",
    "YEAR = 2016\n",
    "# get the right subset based on the info df\n",
    "info16_df = info_df.loc[idx[:, 2016],:]\n",
    "info16_df = info16_df[info16_df.data_source == 'EandisVREG']\n",
    "\n",
    "# read the corresponding data profiles \n",
    "data16_df = data_df.loc[info16_df.index, :]\n"
   ]
  },
  {
   "cell_type": "code",
   "execution_count": null,
   "id": "appreciated-swimming",
   "metadata": {},
   "outputs": [],
   "source": [
    "data_to_use = data_df"
   ]
  },
  {
   "cell_type": "markdown",
   "id": "structured-uruguay",
   "metadata": {},
   "source": [
    "## Plot a single profile"
   ]
  },
  {
   "cell_type": "code",
   "execution_count": null,
   "id": "breathing-collection",
   "metadata": {},
   "outputs": [],
   "source": [
    "IDX_TO_PLOT = 10 \n",
    "data_to_plot = data_to_use.iloc[IDX_TO_PLOT].to_frame('Consumption').reset_index()\n",
    "alt.Chart(data_to_plot, width = 1500, height = 300).mark_line().encode(\n",
    "    x = 'timestamp:T', \n",
    "    y = 'Consumption'\n",
    ")"
   ]
  },
  {
   "cell_type": "markdown",
   "id": "greatest-demand",
   "metadata": {},
   "source": [
    "# Group by month and sum"
   ]
  },
  {
   "cell_type": "code",
   "execution_count": null,
   "id": "tracked-recruitment",
   "metadata": {},
   "outputs": [],
   "source": [
    "normalized_monthly_consumption = data_to_use.groupby(data_to_use.columns.month, axis = 1).sum().apply(lambda x: x / np.sum(x), axis = 1, raw = True)\n",
    "alt.Chart(normalized_monthly_consumption.iloc[IDX_TO_PLOT].to_frame('normalized monthly consumption').reset_index()).mark_line().encode(\n",
    "    x = alt.X('timestamp', title = 'Month'), \n",
    "    y = alt.Y('normalized monthly consumption', title = 'Normalized Monthly Consumption')\n",
    ")"
   ]
  },
  {
   "cell_type": "markdown",
   "id": "encouraging-simpson",
   "metadata": {},
   "source": [
    "## Look at outliers\n",
    "This are profiles that inject more than what they consume and thus normalizing does not really work "
   ]
  },
  {
   "cell_type": "code",
   "execution_count": null,
   "id": "floppy-mongolia",
   "metadata": {},
   "outputs": [],
   "source": [
    "outliers = data_to_use.loc[normalized_monthly_consumption[(normalized_monthly_consumption < -20).any(axis = 1)].index]\n",
    "alt.Chart(outliers.stack().to_frame('value').reset_index()).mark_line().encode(\n",
    "    x = 'timestamp:T', \n",
    "    y = 'value', \n",
    "    color = 'meterID'\n",
    ").interactive()"
   ]
  },
  {
   "cell_type": "code",
   "execution_count": null,
   "id": "specialized-price",
   "metadata": {},
   "outputs": [],
   "source": [
    "outliers.sum(axis = 1)"
   ]
  },
  {
   "cell_type": "markdown",
   "id": "european-prototype",
   "metadata": {},
   "source": [
    "### Look at the non outliers"
   ]
  },
  {
   "cell_type": "code",
   "execution_count": null,
   "id": "complimentary-webmaster",
   "metadata": {},
   "outputs": [],
   "source": [
    "alt.Chart(normalized_monthly_consumption.loc[normalized_monthly_consumption.index.difference(outliers.index)].stack().to_frame('value').reset_index()).mark_line().encode(\n",
    "    x = 'timestamp', \n",
    "    y = 'value', \n",
    "    color = 'meterID'\n",
    ")"
   ]
  },
  {
   "cell_type": "markdown",
   "id": "vanilla-toyota",
   "metadata": {},
   "source": [
    "## Cluster these using k-means"
   ]
  },
  {
   "cell_type": "code",
   "execution_count": null,
   "id": "lesser-rover",
   "metadata": {},
   "outputs": [],
   "source": [
    "data_to_cluster = (\n",
    "    normalized_monthly_consumption\n",
    "    .dropna(axis = 0)\n",
    "    .pipe(lambda x: x[~(x < 0).any(axis = 1)])\n",
    ")\n",
    "\n",
    "clusterer = KMeans(15, random_state = 1213)\n",
    "# clusterer = KMedoids(100)\n",
    "labels = clusterer.fit_predict(data_to_cluster.to_numpy())\n",
    "labels = pd.Series(labels, index = data_to_cluster.index, name = 'cluster_idx')\n",
    "cluster_sizes = labels.value_counts().rename_axis('cluster_idx').rename('size')\n",
    "big_clusters = cluster_sizes[cluster_sizes >= 10]\n",
    "vis_df = data_to_cluster.stack().to_frame('value').join(labels)\n",
    "vis_df['id'] = vis_df.index.get_level_values(0).astype('str') + ','+vis_df.index.get_level_values(1).astype('str')\n",
    "# vis_df = vis_df[vis_df.cluster_idx.isin(big_clusters.index)]\n",
    "alt.Chart(vis_df.reset_index()).mark_line(clip = True, opacity=0.4, thickness=0.2).encode(\n",
    "    x = 'timestamp', \n",
    "    y = alt.Y('value', scale = alt.Scale(domain = [0,0.3])), \n",
    "    color = alt.Color('id:N', legend = None, scale = alt.Scale(scheme='rainbow'))\n",
    ").facet(facet = 'cluster_idx', columns = 5).resolve_scale(y = 'shared', color = 'independent').resolve_axis(y = 'independent').resolve_legend('independent')"
   ]
  },
  {
   "cell_type": "code",
   "execution_count": null,
   "id": "sound-carol",
   "metadata": {},
   "outputs": [],
   "source": [
    "visw_df = vis_df[vis_df.cluster_idx.isin([0,1,6,7,9,11,13])]\n",
    "alt.Chart(visw_df.reset_index()).mark_line(clip = True, opacity=0.4, thickness=0.2).encode(\n",
    "    x = 'timestamp', \n",
    "    y = alt.Y('value', scale = alt.Scale(domain = [0,0.3])), \n",
    "    color = alt.Color('id:N', legend = None, scale = alt.Scale(scheme='rainbow'))\n",
    ").facet(facet = 'cluster_idx', columns = 4).resolve_scale(y = 'shared', color = 'independent').resolve_axis(y = 'independent').resolve_legend('independent')"
   ]
  },
  {
   "cell_type": "code",
   "execution_count": null,
   "id": "sunset-magic",
   "metadata": {},
   "outputs": [],
   "source": [
    "concave = [18, 34, 46, 74, 85, 91, 95, 97, 98, 106, 148]\n",
    "straight = [0, 43, 56, 109, 114,134]\n",
    "convex = [33,130]"
   ]
  },
  {
   "cell_type": "code",
   "execution_count": null,
   "id": "coupled-december",
   "metadata": {},
   "outputs": [],
   "source": [
    "vis2_df = normalized_monthly_consumption.join(labels.astype('int')).groupby('cluster_idx').agg(['mean', 'min', 'max']).stack(level = 0).reset_index().rename(columns = {'level_1':'month'})\n",
    "vis2_df"
   ]
  },
  {
   "cell_type": "code",
   "execution_count": null,
   "id": "extreme-planning",
   "metadata": {},
   "outputs": [],
   "source": [
    "vis2_df = normalized_monthly_consumption.join(labels.astype('int')).groupby('cluster_idx').agg(['mean', 'min', 'max']).stack(level = 0).reset_index().rename(columns = {'level_1':'month'})\n",
    "vis2_df = vis2_df[vis2_df.cluster_idx.isin(big_clusters.index)]\n",
    "def cluster_summary(clusters_to_show):\n",
    "    chart1 = alt.Chart(vis2_df[vis2_df.cluster_idx.isin(clusters_to_show)], width = 600, height = 600).mark_area(opacity = 0.2).encode(\n",
    "        x = 'month:O', \n",
    "        y = 'min:Q', \n",
    "        y2 = 'max:Q', \n",
    "        color = 'cluster_idx:N'\n",
    "    )\n",
    "    chart2 = alt.Chart(vis2_df[vis2_df.cluster_idx.isin(clusters_to_show)], width = 600, height = 600).mark_line().encode(\n",
    "        x = 'month:O', \n",
    "        y = 'mean:Q',\n",
    "        color = 'cluster_idx:N'\n",
    "    )\n",
    "    return (chart1 | chart2).resolve_scale(y='shared')\n",
    "cluster_summary(concave)"
   ]
  },
  {
   "cell_type": "code",
   "execution_count": null,
   "id": "little-lingerie",
   "metadata": {},
   "outputs": [],
   "source": [
    "cluster_summary(convex)"
   ]
  },
  {
   "cell_type": "code",
   "execution_count": null,
   "id": "micro-produce",
   "metadata": {},
   "outputs": [],
   "source": [
    "cluster_summary(straight)"
   ]
  },
  {
   "cell_type": "code",
   "execution_count": null,
   "id": "entire-fifth",
   "metadata": {},
   "outputs": [],
   "source": [
    "others = big_clusters.index.drop(convex).drop(concave).drop(straight).to_list()\n",
    "cluster_summary(others)"
   ]
  },
  {
   "cell_type": "markdown",
   "id": "encouraging-trading",
   "metadata": {},
   "source": [
    "### Remove outliers and cluster"
   ]
  },
  {
   "cell_type": "code",
   "execution_count": null,
   "id": "creative-entrance",
   "metadata": {},
   "outputs": [],
   "source": [
    "outlier_detector = LocalOutlierFactor(50, contamination = 0.2)\n",
    "outlier_labels = outlier_detector.fit_predict(normalized_monthly_consumption.dropna(axis = 0).to_numpy())\n",
    "outliers = pd.Series(outlier_labels == -1, index = normalized_monthly_consumption.dropna().index, name = 'outlier_labels')\n",
    "vis_df = normalized_monthly_consumption.dropna().stack().to_frame('value').join(outliers).reset_index()\n",
    "alt.Chart(vis_df).mark_line().encode(\n",
    "    x = 'timestamp', \n",
    "    y = 'value', \n",
    "    color = 'meterID', \n",
    "    facet = 'outlier_labels'\n",
    ").resolve_scale(color = 'independent').resolve_legend('independent')"
   ]
  },
  {
   "cell_type": "code",
   "execution_count": null,
   "id": "reduced-seeking",
   "metadata": {},
   "outputs": [],
   "source": [
    "data = normalized_monthly_consumption.dropna().loc[~outliers]\n"
   ]
  },
  {
   "cell_type": "code",
   "execution_count": null,
   "id": "minute-information",
   "metadata": {},
   "outputs": [],
   "source": [
    "clusterer = KMeans(25)\n",
    "# clusterer = KMedoids(15)\n",
    "labels = clusterer.fit_predict(data.to_numpy())\n",
    "labels = pd.Series(labels, index = data.index, name = 'cluster_idx')\n",
    "vis_df = data.stack().to_frame('value').join(labels)\n",
    "alt.Chart(vis_df.reset_index()).mark_line().encode(\n",
    "    x = 'timestamp', \n",
    "    y = 'value', \n",
    "    color = 'meterID', \n",
    "    facet = 'cluster_idx'\n",
    ").resolve_scale(y = 'independent', color = 'independent').resolve_axis(y = 'independent').resolve_legend('independent')"
   ]
  },
  {
   "cell_type": "code",
   "execution_count": null,
   "id": "geographic-monte",
   "metadata": {},
   "outputs": [],
   "source": []
  }
 ],
 "metadata": {
  "kernelspec": {
   "display_name": "Python 3",
   "language": "python",
   "name": "python3"
  },
  "language_info": {
   "codemirror_mode": {
    "name": "ipython",
    "version": 3
   },
   "file_extension": ".py",
   "mimetype": "text/x-python",
   "name": "python",
   "nbconvert_exporter": "python",
   "pygments_lexer": "ipython3",
   "version": "3.8.5"
  }
 },
 "nbformat": 4,
 "nbformat_minor": 5
}
