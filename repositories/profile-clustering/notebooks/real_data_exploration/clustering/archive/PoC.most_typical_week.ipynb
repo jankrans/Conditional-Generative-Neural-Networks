{
 "cells": [
  {
   "cell_type": "code",
   "execution_count": null,
   "id": "american-deposit",
   "metadata": {},
   "outputs": [],
   "source": [
    "import altair as alt\n",
    "import numpy as np\n",
    "import pandas as pd\n",
    "from pathlib import Path\n",
    "import itertools\n",
    "import datetime\n",
    "import random\n",
    "from sklearn.decomposition import NMF\n",
    "idx = pd.IndexSlice\n",
    "alt.data_transformers.disable_max_rows()\n",
    "from sklearn.cluster import KMeans\n",
    "from sklearn_extra.cluster import KMedoids\n",
    "from sklearn.neighbors import LocalOutlierFactor"
   ]
  },
  {
   "cell_type": "code",
   "execution_count": null,
   "id": "informal-attachment",
   "metadata": {},
   "outputs": [],
   "source": [
    "# this reloads code from external modules automatically if it is changed (without having to restart the kernel)\n",
    "%load_ext autoreload\n",
    "%autoreload 2"
   ]
  },
  {
   "cell_type": "code",
   "execution_count": null,
   "id": "normal-cotton",
   "metadata": {},
   "outputs": [],
   "source": [
    "PRE_PATH = Path('/cw/dtaiproj/ml/2020-FLAIR-VITO/profile-clustering/preprocessed/combined')\n",
    "RESULT_PATH = Path('/cw/dtaiproj/ml/2020-FLAIR-VITO/profile-clustering/error_detection')\n",
    "RESULT_PATH.mkdir(mode = 0o770, parents = True, exist_ok=True)\n",
    "result_path = RESULT_PATH / 'cumulative_value_detection.csv' \n",
    "zero_path = RESULT_PATH / 'zero_interval_is_error.csv'\n",
    "interval_path = RESULT_PATH /'intervals_with_info.csv'\n",
    "info_path = PRE_PATH/'info.csv'\n",
    "data_path = PRE_PATH/'data.csv'\n",
    "assert info_path.exists() and data_path.exists() and zero_path.exists(), 'These paths should exist'"
   ]
  },
  {
   "cell_type": "markdown",
   "id": "harmful-opposition",
   "metadata": {},
   "source": [
    "# Util methods"
   ]
  },
  {
   "cell_type": "code",
   "execution_count": null,
   "id": "republican-taylor",
   "metadata": {},
   "outputs": [],
   "source": [
    "def weekday_time_to_datetime(series, year=2016, month=1):\n",
    "    return pd.to_datetime(\n",
    "        {'year': series.year if year is None else year,\n",
    "         'month': series.month if month is None else month,\n",
    "         'day': series.weekday + 1,\n",
    "        'hour': series.hour,\n",
    "        'minute': series.minute})\n",
    "\n",
    "def vec_dt_replace(series, year=None, month=None, day=None):\n",
    "    return pd.to_datetime(\n",
    "        {'year': series.year if year is None else year,\n",
    "         'month': series.month if month is None else month,\n",
    "         'day': series.weekday + 1,\n",
    "        'hour': series.hour,\n",
    "        'minute': series.minute})"
   ]
  },
  {
   "cell_type": "code",
   "execution_count": null,
   "id": "chubby-lease",
   "metadata": {},
   "outputs": [],
   "source": [
    "def add_date(series): \n",
    "    return pd.to_datetime(series, format='%H:%M:%S')"
   ]
  },
  {
   "cell_type": "code",
   "execution_count": null,
   "id": "growing-reality",
   "metadata": {},
   "outputs": [],
   "source": [
    "def get_DTW_distance_matrix(series, window, psi): \n",
    "    series = SeriesContainer.wrap(series)\n",
    "    distance_matrix = dtw.distance_matrix_fast(series, window=window, psi=psi,compact = False)\n",
    "    return distance_matrix"
   ]
  },
  {
   "cell_type": "code",
   "execution_count": null,
   "id": "capable-south",
   "metadata": {},
   "outputs": [],
   "source": [
    "def cluster_timeseries_k_mediods_DTW(series, n_clusters, window, psi):\n",
    "    # from LinkageTree implementation in dtaidistance\n",
    "    series = SeriesContainer.wrap(series)\n",
    "    distance_matrix = dtw.distance_matrix_fast(series, window=window, psi=psi,compact = False)\n",
    "    # so this distance matrix is upper triangular but it needs to be a full matrix for the clusterer\n",
    "    distance_matrix[np.isinf(distance_matrix)] = 0\n",
    "    # this works because the diagonal is 0\n",
    "    full_matrix = distance_matrix + distance_matrix.T\n",
    "    clusterer = KMedoids(n_clusters, metric='precomputed', init='k-medoids++', max_iter=1000)\n",
    "    \n",
    "    clusterer.fit(full_matrix)\n",
    "    labels = clusterer.labels_\n",
    "    centers = series[clusterer.medoid_indices_]\n",
    "    return labels, centers"
   ]
  },
  {
   "cell_type": "markdown",
   "id": "sharing-participant",
   "metadata": {},
   "source": [
    "## Read the data"
   ]
  },
  {
   "cell_type": "code",
   "execution_count": null,
   "id": "operating-pleasure",
   "metadata": {},
   "outputs": [],
   "source": [
    "info_df = pd.read_csv(info_path, index_col = [0,1])\n",
    "data_df = pd.read_csv(data_path, index_col = [0,1])\n",
    "data_df.columns = pd.to_datetime(data_df.columns)\n",
    "data_df.columns.name = 'timestamp'\n"
   ]
  },
  {
   "cell_type": "code",
   "execution_count": null,
   "id": "serious-domestic",
   "metadata": {},
   "outputs": [],
   "source": [
    "DATA_SOURCE = 'EandisVREG'\n",
    "YEAR = 2016\n",
    "# get the right subset based on the info df\n",
    "info16_df = info_df.loc[idx[:, 2016],:]\n",
    "info16_df = info16_df[info16_df.data_source == 'EandisVREG']\n",
    "\n",
    "# read the corresponding data profiles \n",
    "data16_df = data_df.loc[info16_df.index, :]\n"
   ]
  },
  {
   "cell_type": "markdown",
   "id": "speaking-services",
   "metadata": {},
   "source": [
    "# Choose a profile"
   ]
  },
  {
   "cell_type": "code",
   "execution_count": null,
   "id": "unlimited-squad",
   "metadata": {},
   "outputs": [],
   "source": [
    "IDX = 2\n",
    "# no clue why I have to reset the index and set it again\n",
    "profile = data16_df.sample(frac=1, random_state= 12341234).iloc[IDX].to_frame('value').reset_index()\n",
    "profile['weekday_time'] = weekday_time_to_datetime(profile.timestamp.dt)\n",
    "profile['time_of_day'] = profile.timestamp.dt.time\n",
    "profile['week_nb'] = profile.timestamp.dt.isocalendar().week\n",
    "profile = profile.set_index('timestamp')\n",
    "profile"
   ]
  },
  {
   "cell_type": "code",
   "execution_count": null,
   "id": "extraordinary-envelope",
   "metadata": {},
   "outputs": [],
   "source": [
    "alt.Chart(profile.reset_index().drop(columns = 'time_of_day'), width = 1000, height = 300).mark_line().encode(\n",
    "    x = 'timestamp:T', \n",
    "    y = 'value'\n",
    ").interactive(bind_y = False)"
   ]
  },
  {
   "cell_type": "code",
   "execution_count": null,
   "id": "secure-damages",
   "metadata": {},
   "outputs": [],
   "source": [
    "week_df = pd.pivot_table(profile, index = 'week_nb', columns = 'weekday_time', values = 'value').dropna(axis = 0)\n",
    "week_df.head()"
   ]
  },
  {
   "cell_type": "code",
   "execution_count": null,
   "id": "revised-financing",
   "metadata": {},
   "outputs": [],
   "source": [
    "alt.Chart(week_df.stack().to_frame('value').reset_index(), width = 1000, height = 500).mark_line().encode(\n",
    "    x = 'weekday_time', \n",
    "    y = 'value', \n",
    "    color = 'week_nb:N'\n",
    ").interactive(bind_y = False)"
   ]
  },
  {
   "cell_type": "markdown",
   "id": "cardiovascular-orleans",
   "metadata": {},
   "source": [
    "## Cluster these using k-means"
   ]
  },
  {
   "cell_type": "code",
   "execution_count": null,
   "id": "clear-protection",
   "metadata": {},
   "outputs": [],
   "source": [
    "# clusterer = KMeans(100)\n",
    "clusterer = KMedoids(7)\n",
    "labels = clusterer.fit_predict(week_df.to_numpy())\n",
    "labels = pd.Series(labels, index = week_df.index, name = 'cluster_idx')\n",
    "vis_df = week_df.stack().to_frame('value').join(labels)\n",
    "alt.Chart(vis_df.reset_index()).mark_line().encode(\n",
    "    x = 'weekday_time', \n",
    "    y = 'value', \n",
    "    color = 'week_nb:N', \n",
    "    facet = 'cluster_idx'\n",
    ").resolve_scale(y = 'independent', color = 'independent').resolve_axis(y = 'independent').resolve_legend('independent')"
   ]
  },
  {
   "cell_type": "code",
   "execution_count": null,
   "id": "critical-traffic",
   "metadata": {},
   "outputs": [],
   "source": [
    "medoid = clusterer.cluster_centers_\n",
    "medoid_df = pd.DataFrame(medoid, columns = week_df.columns)\n",
    "alt.Chart(medoid_df.stack().to_frame('value').reset_index(), width = 1000, height = 400).mark_line().encode(\n",
    "    x = 'weekday_time', \n",
    "    y = 'value', \n",
    "#     color = 'level_0:N'\n",
    ").facet(row = 'level_0')"
   ]
  },
  {
   "cell_type": "markdown",
   "id": "practical-treaty",
   "metadata": {},
   "source": [
    "### Remove outliers and cluster"
   ]
  },
  {
   "cell_type": "code",
   "execution_count": null,
   "id": "experienced-geometry",
   "metadata": {},
   "outputs": [],
   "source": [
    "outlier_detector = LocalOutlierFactor(50, contamination = 0.2)\n",
    "outlier_labels = outlier_detector.fit_predict(normalized_monthly_consumption.dropna(axis = 0).to_numpy())\n",
    "outliers = pd.Series(outlier_labels == -1, index = normalized_monthly_consumption.dropna().index, name = 'outlier_labels')\n",
    "vis_df = normalized_monthly_consumption.dropna().stack().to_frame('value').join(outliers).reset_index()\n",
    "alt.Chart(vis_df).mark_line().encode(\n",
    "    x = 'week', \n",
    "    y = 'value', \n",
    "    color = 'meterID', \n",
    "    facet = 'outlier_labels'\n",
    ").resolve_scale(color = 'independent').resolve_legend('independent')"
   ]
  },
  {
   "cell_type": "code",
   "execution_count": null,
   "id": "lonely-instrumentation",
   "metadata": {},
   "outputs": [],
   "source": [
    "data = normalized_monthly_consumption.dropna().loc[~outliers]\n"
   ]
  },
  {
   "cell_type": "code",
   "execution_count": null,
   "id": "perceived-fancy",
   "metadata": {},
   "outputs": [],
   "source": [
    "# clusterer = KMeans(25)\n",
    "clusterer = KMedoids(25)\n",
    "labels = clusterer.fit_predict(data.to_numpy())\n",
    "labels = pd.Series(labels, index = data.index, name = 'cluster_idx')\n",
    "vis_df = data.stack().to_frame('value').join(labels)\n",
    "alt.Chart(vis_df.reset_index()).mark_line().encode(\n",
    "    x = 'week', \n",
    "    y = 'value', \n",
    "    color = 'meterID', \n",
    "    facet = 'cluster_idx'\n",
    ").resolve_scale(y = 'independent', color = 'independent').resolve_axis(y = 'independent').resolve_legend('independent')"
   ]
  },
  {
   "cell_type": "code",
   "execution_count": null,
   "id": "contemporary-contents",
   "metadata": {},
   "outputs": [],
   "source": []
  }
 ],
 "metadata": {
  "kernelspec": {
   "display_name": "Python 3",
   "language": "python",
   "name": "python3"
  },
  "language_info": {
   "codemirror_mode": {
    "name": "ipython",
    "version": 3
   },
   "file_extension": ".py",
   "mimetype": "text/x-python",
   "name": "python",
   "nbconvert_exporter": "python",
   "pygments_lexer": "ipython3",
   "version": "3.8.5"
  }
 },
 "nbformat": 4,
 "nbformat_minor": 5
}
