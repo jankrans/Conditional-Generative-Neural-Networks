{
 "cells": [
  {
   "cell_type": "markdown",
   "metadata": {},
   "source": [
    "# POC: non-negative matrix factorization similarity\n",
    "So basically the idea is to learn the NMF on the days of two profiles and compare the profiles in the representation format\n",
    "## Some observations\n"
   ]
  },
  {
   "cell_type": "code",
   "execution_count": null,
   "metadata": {},
   "outputs": [],
   "source": [
    "import altair as alt\n",
    "import numpy as np\n",
    "import pandas as pd\n",
    "from pathlib import Path\n",
    "import itertools\n",
    "import datetime\n",
    "import random\n",
    "from sklearn.decomposition import NMF\n",
    "idx = pd.IndexSlice\n",
    "alt.data_transformers.disable_max_rows()"
   ]
  },
  {
   "cell_type": "code",
   "execution_count": null,
   "metadata": {},
   "outputs": [],
   "source": [
    "# this reloads code from external modules automatically if it is changed (without having to restart the kernel)\n",
    "%load_ext autoreload\n",
    "%autoreload 2"
   ]
  },
  {
   "cell_type": "code",
   "execution_count": null,
   "metadata": {},
   "outputs": [],
   "source": [
    "PRE_PATH = Path('/cw/dtaiproj/ml/2020-FLAIR-VITO/profile-clustering/preprocessed/combined')\n",
    "RESULT_PATH = Path('/cw/dtaiproj/ml/2020-FLAIR-VITO/profile-clustering/error_detection')\n",
    "RESULT_PATH.mkdir(mode = 0o770, parents = True, exist_ok=True)\n",
    "result_path = RESULT_PATH / 'cumulative_value_detection.csv' \n",
    "zero_path = RESULT_PATH / 'zero_interval_is_error.csv'\n",
    "interval_path = RESULT_PATH /'intervals_with_info.csv'\n",
    "info_path = PRE_PATH/'info.csv'\n",
    "data_path = PRE_PATH/'data.csv'\n",
    "assert info_path.exists() and data_path.exists() and zero_path.exists(), 'These paths should exist'"
   ]
  },
  {
   "cell_type": "code",
   "execution_count": null,
   "metadata": {},
   "outputs": [],
   "source": [
    "def vec_dt_replace(series, year=None, month=None, day=None):\n",
    "    return pd.to_datetime(\n",
    "        {'year': series.year if year is None else year,\n",
    "         'month': series.month if month is None else month,\n",
    "         'day': series.day if day is None else day, \n",
    "        'hour': series.hour,\n",
    "        'minute': series.minute})"
   ]
  },
  {
   "cell_type": "code",
   "execution_count": null,
   "metadata": {},
   "outputs": [],
   "source": [
    "def add_date(series): \n",
    "    return pd.to_datetime(series, format='%H:%M:%S')"
   ]
  },
  {
   "cell_type": "markdown",
   "metadata": {},
   "source": [
    "## Read the data"
   ]
  },
  {
   "cell_type": "code",
   "execution_count": null,
   "metadata": {},
   "outputs": [],
   "source": [
    "NROWS = 100\n",
    "info_df = pd.read_csv(info_path, index_col = [0,1])\n",
    "data_df = pd.read_csv(data_path, index_col = [0,1], nrows = NROWS)\n",
    "data_df.columns = pd.to_datetime(data_df.columns)\n",
    "data_df.columns.name = 'timestamp'\n"
   ]
  },
  {
   "cell_type": "code",
   "execution_count": null,
   "metadata": {},
   "outputs": [],
   "source": [
    "DATA_SOURCE = 'EandisVREG'\n",
    "YEAR = 2016\n",
    "# get the right subset based on the info df\n",
    "info16_df = info_df.loc[idx[:, 2016],:]\n",
    "info16_df = info16_df[info16_df.data_source == 'EandisVREG']\n",
    "\n",
    "# only 2016 data\n",
    "data15_df = data_df.loc[idx[:,2015],:] "
   ]
  },
  {
   "cell_type": "code",
   "execution_count": null,
   "metadata": {},
   "outputs": [],
   "source": [
    "data15_df"
   ]
  },
  {
   "cell_type": "markdown",
   "metadata": {},
   "source": [
    "## Choose two profiles"
   ]
  },
  {
   "cell_type": "code",
   "execution_count": null,
   "metadata": {},
   "outputs": [],
   "source": [
    "# 4 and 5 are similar\n",
    "IDX1 = 4\n",
    "IDX2 = 5\n",
    "profile_to_check = data15_df.iloc[[IDX1, IDX2]].stack().to_frame('value')\n",
    "profile_to_check['time'] = profile_to_check.index.get_level_values(2).time\n",
    "profile_to_check['date'] = profile_to_check.index.get_level_values(2).date\n",
    "profile_matrix = pd.pivot_table(profile_to_check, index = ['meterID', 'date'], columns = 'time', values = 'value')\n",
    "profile_matrix = profile_matrix.dropna(axis = 0)\n",
    "profile_matrix"
   ]
  },
  {
   "cell_type": "markdown",
   "metadata": {},
   "source": [
    "## The profiles plotted"
   ]
  },
  {
   "cell_type": "code",
   "execution_count": null,
   "metadata": {},
   "outputs": [],
   "source": [
    "alt.Chart(profile_to_check.reset_index()[['timestamp', 'value', 'meterID']], title = 'full profile', width = 2000, height = 500).mark_line().encode(\n",
    "    x = 'timestamp:T', \n",
    "    y = 'value:Q', \n",
    "    color = 'meterID:N'\n",
    "    \n",
    ").interactive(bind_y = False)"
   ]
  },
  {
   "cell_type": "markdown",
   "metadata": {},
   "source": [
    "## Try non-negative matrix decomposition"
   ]
  },
  {
   "cell_type": "code",
   "execution_count": null,
   "metadata": {},
   "outputs": [],
   "source": [
    "matrix = profile_matrix.dropna(axis = 0).to_numpy()\n",
    "# alpha controls regularization (pushing weights towards 0 such that representations become sparse)\n",
    "NB_OF_COMPONENTS = 1\n",
    "decomposer = NMF(NB_OF_COMPONENTS, max_iter = 10000, alpha = 0.1, l1_ratio = 1).fit(matrix)\n",
    "components = decomposer.components_\n",
    "components_df = pd.DataFrame(components, columns = profile_matrix.columns)\n",
    "components_df.index.name = 'component_nb'\n",
    "components_df"
   ]
  },
  {
   "cell_type": "markdown",
   "metadata": {},
   "source": [
    "## Learned components"
   ]
  },
  {
   "cell_type": "code",
   "execution_count": null,
   "metadata": {},
   "outputs": [],
   "source": [
    "component_vis = components_df.stack().to_frame('value').reset_index()\n",
    "component_vis['time'] = pd.to_datetime(component_vis['time'], format='%H:%M:%S')\n",
    "component_vis\n",
    "\n",
    "alt.Chart(component_vis, title = 'first 5 components').mark_line().encode(\n",
    "    x = 'time:T', \n",
    "    y = 'value:Q', \n",
    "    color = 'component_nb:N'\n",
    ")"
   ]
  },
  {
   "cell_type": "markdown",
   "metadata": {},
   "source": [
    "## Component representation for all days "
   ]
  },
  {
   "cell_type": "code",
   "execution_count": null,
   "metadata": {},
   "outputs": [],
   "source": [
    "representation_matrix = pd.DataFrame(decomposer.transform(profile_matrix.dropna(axis = 0)), index = profile_matrix.index).swaplevel(0,1, axis = 0).sort_index()\n",
    "representation_matrix[0:62].style.background_gradient(cmap = 'Blues')"
   ]
  },
  {
   "cell_type": "code",
   "execution_count": null,
   "metadata": {},
   "outputs": [],
   "source": [
    "component_mean = representation_matrix.reset_index().groupby('meterID')[list(range(0,NB_OF_COMPONENTS))].mean()\n",
    "component_mean"
   ]
  },
  {
   "cell_type": "code",
   "execution_count": null,
   "metadata": {},
   "outputs": [],
   "source": [
    "np.linalg.norm(component_mean.iloc[0].to_numpy() - component_mean.iloc[1].to_numpy())"
   ]
  },
  {
   "cell_type": "markdown",
   "metadata": {},
   "source": [
    "## Plot a day and the reconstruction"
   ]
  },
  {
   "cell_type": "code",
   "execution_count": null,
   "metadata": {},
   "outputs": [],
   "source": [
    "IDX = 82\n",
    "transformed = decomposer.transform(profile_matrix.iloc[[IDX]].to_numpy())\n",
    "original = decomposer.inverse_transform(transformed)\n",
    "day = profile_matrix.iloc[IDX].to_frame('original_value')\n",
    "day['after_reconstruction'] = original[0]\n",
    "day = day.stack().reset_index()\n",
    "day.columns = ['time', 'type', 'value']\n",
    "day.time = add_date(day.time)\n",
    "print(transformed)\n",
    "orig_chart = alt.Chart(day).mark_line().encode(\n",
    "    x = 'time:T', \n",
    "    y = 'value:Q', \n",
    "    color = 'type:N'\n",
    ")\n",
    "\n",
    "vis_df = components_df.stack().to_frame('value').reset_index()\n",
    "vis_df['weight'] = transformed[0, vis_df.component_nb]\n",
    "vis_df.time = add_date(vis_df.time)\n",
    "vis_df = vis_df[vis_df.weight > 0]\n",
    "vis_df['value'] = vis_df['value']*vis_df['weight']\n",
    "vis_df\n",
    "\n",
    "component_chart = alt.Chart(vis_df).mark_line(opacity = 0.5).encode(\n",
    "    x = 'time:T', \n",
    "    y = 'value', \n",
    "    color = 'component_nb:N'\n",
    ")\n",
    "\n",
    "orig_chart + component_chart"
   ]
  },
  {
   "cell_type": "code",
   "execution_count": null,
   "metadata": {},
   "outputs": [],
   "source": []
  },
  {
   "cell_type": "code",
   "execution_count": null,
   "metadata": {},
   "outputs": [],
   "source": []
  }
 ],
 "metadata": {
  "kernelspec": {
   "display_name": "Python 3",
   "language": "python",
   "name": "python3"
  },
  "language_info": {
   "codemirror_mode": {
    "name": "ipython",
    "version": 3
   },
   "file_extension": ".py",
   "mimetype": "text/x-python",
   "name": "python",
   "nbconvert_exporter": "python",
   "pygments_lexer": "ipython3",
   "version": "3.8.5"
  }
 },
 "nbformat": 4,
 "nbformat_minor": 4
}
