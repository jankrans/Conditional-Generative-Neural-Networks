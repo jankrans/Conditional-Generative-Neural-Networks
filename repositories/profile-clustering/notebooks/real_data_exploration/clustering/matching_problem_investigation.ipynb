{
 "cells": [
  {
   "cell_type": "code",
   "execution_count": null,
   "id": "fourth-sacrifice",
   "metadata": {},
   "outputs": [],
   "source": [
    "from util import *\n",
    "from visualisation import *\n",
    "import numpy as np \n",
    "import pandas as pd\n",
    "import altair as alt\n",
    "alt.renderers.enable('png')\n",
    "import itertools\n",
    "import dtaidistance.dtw as dtw\n",
    "from scipy.optimize import linear_sum_assignment\n",
    "from sklearn.metrics import adjusted_rand_score\n",
    "from cluster_visualisation import *\n",
    "from profile_similarity import *\n",
    "alt.data_transformers.disable_max_rows()\n",
    "from tqdm import tqdm\n",
    "%load_ext autoreload\n",
    "%autoreload 2"
   ]
  },
  {
   "cell_type": "code",
   "execution_count": null,
   "id": "distinct-tablet",
   "metadata": {},
   "outputs": [],
   "source": [
    "info_df, data_df = read_data(nrows = 2000)\n",
    "# only keep the last year of each profile \n",
    "last_of_each_profile = ~data_df.index.get_level_values(0).duplicated(keep = 'last')\n",
    "data_df = data_df.loc[last_of_each_profile]\n",
    "data_df = data_df.sample(100, random_state = 2134)\n",
    "print(f\"There are {len(data_df)} profiles\")\n",
    "data_df.head()"
   ]
  },
  {
   "cell_type": "code",
   "execution_count": null,
   "id": "right-performer",
   "metadata": {},
   "outputs": [],
   "source": [
    "day_df = get_day_df(data_df)\n",
    "day_df.head()"
   ]
  },
  {
   "cell_type": "markdown",
   "id": "conventional-wholesale",
   "metadata": {},
   "source": [
    "### Try to find some profiles of interest to use \n",
    "- smartmeter_1013: pretty high consumption starting from 7 pm \n",
    "- smartmeter_120: pretty high consumption before 7pm\n",
    "- smartmeter_1250, smartmeter_1254: very low consumption (but some variance) \n",
    "- smartmeter_1107: constant low consumption \n",
    "- smartmeter_1275: almost constant higher consumption 0.5\n",
    "- smartmeter_300, smartmeter_234: should be similar peak before 12 and similar base usage "
   ]
  },
  {
   "cell_type": "code",
   "execution_count": null,
   "id": "parliamentary-attraction",
   "metadata": {},
   "outputs": [],
   "source": [
    "profiles = day_df.index.get_level_values(0).unique()\n",
    "show_profiles(day_df.loc[profiles[20:30]])"
   ]
  },
  {
   "cell_type": "markdown",
   "id": "legislative-seminar",
   "metadata": {},
   "source": [
    "### Calculate the things necessary for the similarity metric"
   ]
  },
  {
   "cell_type": "code",
   "execution_count": null,
   "id": "plastic-second",
   "metadata": {},
   "outputs": [],
   "source": [
    "%%time\n",
    "NB_OF_CLUSTERS = 1000\n",
    "labels_kmedoids, centers_kmedoids = cluster_KMedoids(day_df, nb_of_clusters = NB_OF_CLUSTERS, random_state = 10)\n",
    "medoid_distances = get_DTW_distance_matrix(centers_kmedoids.to_numpy(), window = 4, psi = 0, njobs = 2)\n"
   ]
  },
  {
   "cell_type": "markdown",
   "id": "subjective-cleveland",
   "metadata": {},
   "source": [
    "### Calculate the distance matrix"
   ]
  },
  {
   "cell_type": "code",
   "execution_count": null,
   "id": "integrated-offense",
   "metadata": {},
   "outputs": [],
   "source": [
    "%%time\n",
    "distance_matrix = profile_distance_matrix_based_on_daily_clustering(labels_kmedoids, medoid_distances)\n",
    "distance_matrix"
   ]
  },
  {
   "cell_type": "code",
   "execution_count": null,
   "id": "becoming-cricket",
   "metadata": {},
   "outputs": [],
   "source": [
    "distances_to_10 = distance_matrix.loc['smartmeter_10'].sort_values().drop('smartmeter_10')\n"
   ]
  },
  {
   "cell_type": "code",
   "execution_count": null,
   "id": "portuguese-administration",
   "metadata": {},
   "outputs": [],
   "source": [
    "test_pair('smartmeter_10', distances_to_10.index[0])"
   ]
  },
  {
   "cell_type": "code",
   "execution_count": null,
   "id": "backed-compression",
   "metadata": {},
   "outputs": [],
   "source": [
    "%%time\n",
    "test_pair_no_approx('smartmeter_10', distances_to_10.index[0])"
   ]
  },
  {
   "cell_type": "markdown",
   "id": "french-departure",
   "metadata": {},
   "source": [
    "## Test some pairs of profiles seperately"
   ]
  },
  {
   "cell_type": "code",
   "execution_count": null,
   "id": "conservative-battlefield",
   "metadata": {},
   "outputs": [],
   "source": [
    "labels_kmedoids"
   ]
  },
  {
   "cell_type": "code",
   "execution_count": null,
   "id": "cognitive-variety",
   "metadata": {},
   "outputs": [],
   "source": [
    "def test_pair_no_approx(profile1, profile2): \n",
    "    distance_matrix = get_DTW_distance_matrix(day_df.loc[[profile1,profile2]].to_numpy(), window = 4, psi = 0, njobs = 2)\n",
    "    labels = labels_kmedoids.loc[[profile1, profile2]].copy()\n",
    "    labels.loc[:] = range(0, len(labels))\n",
    "    chart = all_day_chart(day_df.loc[profile1].stack().to_frame('value').reset_index()).properties(title = profile1) | all_day_chart(day_df.loc[profile2].stack().to_frame('value').reset_index()).properties(title = profile2)\n",
    "    similarity = profile_distance_based_on_daily_clustering(profile1, profile2, labels, distance_matrix)\n",
    "    return chart.resolve_scale(y='shared').properties(title = f\"distance={similarity}\")\n",
    "                                              \n",
    "def test_pair(profile1, profile2): \n",
    "    chart = all_day_chart(day_df.loc[profile1].stack().to_frame('value').reset_index()).properties(title = profile1) | all_day_chart(day_df.loc[profile2].stack().to_frame('value').reset_index()).properties(title = profile2)\n",
    "    similarity = profile_distance_based_on_daily_clustering(profile1, profile2, labels_kmedoids, medoid_distances)\n",
    "    print(f\"distance={similarity}\")\n",
    "    return chart.resolve_scale(y='shared').properties(title = f\"distance={similarity}\")"
   ]
  },
  {
   "cell_type": "code",
   "execution_count": null,
   "id": "intense-equivalent",
   "metadata": {},
   "outputs": [],
   "source": [
    "test_pair('smartmeter_1013', 'smartmeter_120')"
   ]
  },
  {
   "cell_type": "code",
   "execution_count": null,
   "id": "adverse-report",
   "metadata": {},
   "outputs": [],
   "source": [
    "test_pair('smartmeter_300', 'smartmeter_234')"
   ]
  },
  {
   "cell_type": "code",
   "execution_count": null,
   "id": "greatest-heading",
   "metadata": {},
   "outputs": [],
   "source": []
  }
 ],
 "metadata": {
  "kernelspec": {
   "display_name": "Python 3",
   "language": "python",
   "name": "python3"
  },
  "language_info": {
   "codemirror_mode": {
    "name": "ipython",
    "version": 3
   },
   "file_extension": ".py",
   "mimetype": "text/x-python",
   "name": "python",
   "nbconvert_exporter": "python",
   "pygments_lexer": "ipython3",
   "version": "3.8.5"
  }
 },
 "nbformat": 4,
 "nbformat_minor": 5
}
