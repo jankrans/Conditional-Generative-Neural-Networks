{
 "cells": [
  {
   "cell_type": "markdown",
   "id": "annoying-lyric",
   "metadata": {},
   "source": [
    "# Try to cluster the days and use this clustering to cluster the profiles"
   ]
  },
  {
   "cell_type": "code",
   "execution_count": null,
   "id": "enclosed-album",
   "metadata": {},
   "outputs": [],
   "source": [
    "from util import *\n",
    "from visualisation import *\n",
    "import numpy as np \n",
    "import pandas as pd\n",
    "import altair as alt\n",
    "alt.data_transformers.disable_max_rows()\n",
    "%load_ext autoreload\n",
    "%autoreload 2"
   ]
  },
  {
   "cell_type": "code",
   "execution_count": null,
   "id": "worth-steel",
   "metadata": {},
   "outputs": [],
   "source": [
    "info_df, data_df = read_data(nrows = 100)\n",
    "# only keep the last year of each profile \n",
    "last_of_each_profile = ~data_df.index.get_level_values(0).duplicated(keep = 'last')\n",
    "data_df = data_df.loc[last_of_each_profile]\n",
    "data_df.head()"
   ]
  },
  {
   "cell_type": "code",
   "execution_count": null,
   "id": "political-compensation",
   "metadata": {},
   "outputs": [],
   "source": [
    "day_df = get_day_df(data_df)\n",
    "day_df.head()"
   ]
  },
  {
   "cell_type": "code",
   "execution_count": null,
   "id": "frozen-lawsuit",
   "metadata": {},
   "outputs": [],
   "source": [
    "%%time\n",
    "day_subsample_df = day_df.sample(1000, random_state = 1234)\n",
    "distance_matrix = get_DTW_distance_matrix(day_subsample_df, 4, 0)"
   ]
  },
  {
   "cell_type": "code",
   "execution_count": null,
   "id": "unlikely-frontier",
   "metadata": {},
   "outputs": [],
   "source": [
    "%%time\n",
    "labels, centers = cluster_KMedoids(day_subsample_df, distance_matrix, nb_of_clusters = 50, random_state = 10)"
   ]
  },
  {
   "cell_type": "markdown",
   "id": "altered-northeast",
   "metadata": {},
   "source": [
    "## Show the clustering"
   ]
  },
  {
   "cell_type": "code",
   "execution_count": null,
   "id": "blind-exclusive",
   "metadata": {},
   "outputs": [],
   "source": [
    "clustering_chart(day_subsample_df, labels)"
   ]
  },
  {
   "cell_type": "markdown",
   "id": "demanding-frank",
   "metadata": {},
   "source": [
    "## Check the profiles that each cluster contains"
   ]
  },
  {
   "cell_type": "code",
   "execution_count": null,
   "id": "convinced-vinyl",
   "metadata": {},
   "outputs": [],
   "source": [
    "labels.reset_index().groupby('labels')['meterID'].nunique().rename_axis(index = 'cluster').to_frame('#profiles')"
   ]
  },
  {
   "cell_type": "code",
   "execution_count": null,
   "id": "incredible-niagara",
   "metadata": {},
   "outputs": [],
   "source": []
  }
 ],
 "metadata": {
  "kernelspec": {
   "display_name": "Python 3",
   "language": "python",
   "name": "python3"
  },
  "language_info": {
   "codemirror_mode": {
    "name": "ipython",
    "version": 3
   },
   "file_extension": ".py",
   "mimetype": "text/x-python",
   "name": "python",
   "nbconvert_exporter": "python",
   "pygments_lexer": "ipython3",
   "version": "3.8.5"
  }
 },
 "nbformat": 4,
 "nbformat_minor": 5
}
