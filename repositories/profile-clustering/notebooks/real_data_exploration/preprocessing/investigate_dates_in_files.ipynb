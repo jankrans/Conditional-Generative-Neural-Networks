{
 "cells": [
  {
   "cell_type": "markdown",
   "metadata": {},
   "source": [
    "# Check if the dates in the files seem to make sense\n",
    "\n",
    "\n",
    "# Imports "
   ]
  },
  {
   "cell_type": "code",
   "execution_count": null,
   "metadata": {},
   "outputs": [],
   "source": [
    "import altair as alt\n",
    "import numpy as np\n",
    "import pandas as pd\n",
    "from pathlib import Path\n",
    "import datetime\n",
    "import tqdm"
   ]
  },
  {
   "cell_type": "markdown",
   "metadata": {},
   "source": [
    "# Configuration"
   ]
  },
  {
   "cell_type": "code",
   "execution_count": null,
   "metadata": {},
   "outputs": [],
   "source": [
    "PREPROCESSED_DIR = Path('/cw/dtaiproj/ml/2020-FLAIR-VITO/profile-clustering/new_preprocessed/') #Jonas\n",
    "# PREPROCESSED_DIR = Path('/Users/lolabotman/PycharmProjects/FluviusFullData/profiles/preprocessed') #Lola\n",
    "\n",
    "result_path = PREPROCESSED_DIR / 'combined'\n",
    "result_path.mkdir(parents = True, exist_ok = True, mode = 0o770)"
   ]
  },
  {
   "cell_type": "code",
   "execution_count": null,
   "metadata": {},
   "outputs": [],
   "source": [
    "data_df = pd.read_pickle(result_path/'reindexed_DST_data.pkl')\n",
    "info_df = pd.read_pickle(result_path/'reindexed_info.pkl')"
   ]
  },
  {
   "cell_type": "code",
   "execution_count": null,
   "metadata": {},
   "outputs": [],
   "source": [
    "data_df"
   ]
  },
  {
   "cell_type": "code",
   "execution_count": null,
   "metadata": {},
   "outputs": [],
   "source": [
    "info_df"
   ]
  },
  {
   "cell_type": "code",
   "execution_count": null,
   "metadata": {},
   "outputs": [],
   "source": [
    "info_df['unique_source'] = info_df['data_source']\n",
    "is_prosumer = (info_df['data_source'] == 'Infrax') & info_df['heatpump']\n",
    "info_df.loc[is_prosumer, 'unique_source'] = 'infrax_prosumer'\n",
    "is_app = (info_df['data_source'] =='Infrax') & info_df.consumer_type.str.startswith('app')\n",
    "info_df.loc[is_app, 'unique_source'] = 'infrax_'+info_df.loc[is_app, 'consumer_type']\n",
    "info_df.unique_source.unique()"
   ]
  },
  {
   "cell_type": "code",
   "execution_count": null,
   "metadata": {},
   "outputs": [],
   "source": [
    "heatmaps = []\n",
    "line_charts = []\n",
    "for data_source, info_subset_df in info_df.groupby('unique_source'): \n",
    "    consumption_df = (\n",
    "        data_df.loc[info_subset_df.index]\n",
    "        # daily consumption\n",
    "        .resample('1D', axis = 1).sum()\n",
    "        # take median\n",
    "        .median(axis = 0)\n",
    "        .to_frame('value')\n",
    "        \n",
    "        .drop(pd.to_datetime('2016-02-29'), axis = 0)\n",
    "        .reset_index()\n",
    "        .assign(\n",
    "            month = lambda x: x['index'].dt.month, \n",
    "            day = lambda x: x['index'].dt.day\n",
    "        )\n",
    "    )\n",
    "#     display(consumption_df)\n",
    "    heatmaps.append(\n",
    "    alt.Chart(consumption_df, title = data_source, width = 800, height=400).mark_rect().encode(\n",
    "        x = 'day:N', \n",
    "        y = 'month:N', \n",
    "        color = 'value:Q'\n",
    "    ))\n",
    "    line_charts.append(\n",
    "    alt.Chart(consumption_df, title = data_source, width = 800, height = 400).mark_line().encode(\n",
    "        x = 'index:T', \n",
    "        y = 'value:Q', \n",
    "    ))\n",
    "    "
   ]
  },
  {
   "cell_type": "markdown",
   "metadata": {},
   "source": [
    "# Heatmaps"
   ]
  },
  {
   "cell_type": "code",
   "execution_count": null,
   "metadata": {},
   "outputs": [],
   "source": [
    "(alt.vconcat(*heatmaps).resolve_scale(color  = 'independent')|alt.vconcat(*line_charts).resolve_scale(color  = 'independent'))"
   ]
  },
  {
   "cell_type": "code",
   "execution_count": null,
   "metadata": {},
   "outputs": [],
   "source": [
    "alt.vconcat(*line_charts).resolve_scale(color  = 'independent')"
   ]
  },
  {
   "cell_type": "code",
   "execution_count": null,
   "metadata": {},
   "outputs": [],
   "source": [
    "info_df.consumer_type.unique()"
   ]
  },
  {
   "cell_type": "code",
   "execution_count": null,
   "metadata": {},
   "outputs": [],
   "source": []
  }
 ],
 "metadata": {
  "kernelspec": {
   "display_name": "Python 3",
   "language": "python",
   "name": "python3"
  },
  "language_info": {
   "codemirror_mode": {
    "name": "ipython",
    "version": 3
   },
   "file_extension": ".py",
   "mimetype": "text/x-python",
   "name": "python",
   "nbconvert_exporter": "python",
   "pygments_lexer": "ipython3",
   "version": "3.8.6"
  }
 },
 "nbformat": 4,
 "nbformat_minor": 5
}
