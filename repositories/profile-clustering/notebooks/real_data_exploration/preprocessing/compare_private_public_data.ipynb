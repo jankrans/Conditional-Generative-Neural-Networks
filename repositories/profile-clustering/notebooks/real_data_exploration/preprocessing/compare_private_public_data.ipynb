{
 "cells": [
  {
   "cell_type": "markdown",
   "metadata": {},
   "source": [
    "# Compare data issue in private data and public data"
   ]
  },
  {
   "cell_type": "code",
   "execution_count": null,
   "metadata": {},
   "outputs": [],
   "source": [
    "from pathlib import Path\n",
    "import pandas as pd\n",
    "from energyclustering.data.public.data import get_data_reading_preprocessed\n",
    "import numpy as np\n",
    "import altair as alt\n",
    "alt.data_transformers.disable_max_rows()"
   ]
  },
  {
   "cell_type": "code",
   "execution_count": null,
   "metadata": {},
   "outputs": [],
   "source": [
    "data_dir = Path().absolute().parent.parent.parent /'energyclustering/data/fluvius/data/profile-clustering/new_preprocessed/combined'\n",
    "assert data_dir.exists(), f\"{data_dir} does not exist\""
   ]
  },
  {
   "cell_type": "code",
   "execution_count": null,
   "metadata": {},
   "outputs": [],
   "source": [
    "%load_ext autoreload\n",
    "%autoreload 2"
   ]
  },
  {
   "cell_type": "markdown",
   "metadata": {},
   "source": [
    "# The meterIDs are NOT the same"
   ]
  },
  {
   "cell_type": "code",
   "execution_count": null,
   "metadata": {},
   "outputs": [],
   "source": [
    "# data_df = pd.read_csv(data_dir/'data.csv')\n",
    "info_df = pd.read_csv(data_dir/'info.csv')\n",
    "info_df = info_df.set_index(['meterID', 'year'])\n",
    "info_df"
   ]
  },
  {
   "cell_type": "code",
   "execution_count": null,
   "metadata": {},
   "outputs": [],
   "source": [
    "IDS_OF_INTEREST = ['/5JOm8vz1sRZTA', '+EpBeN+/Wl7Osw']"
   ]
  },
  {
   "cell_type": "markdown",
   "metadata": {},
   "source": [
    "# Read the public data"
   ]
  },
  {
   "cell_type": "code",
   "execution_count": null,
   "metadata": {},
   "outputs": [],
   "source": [
    "public_data_df = get_data_reading_preprocessed()\n",
    "first_profile = public_data_df.loc[[IDS_OF_INTEREST[0]]]\n",
    "first_profile.reset_index().columns"
   ]
  },
  {
   "cell_type": "code",
   "execution_count": null,
   "metadata": {},
   "outputs": [],
   "source": [
    "first_profile = first_profile.reset_index().pivot_table(index = 'iID', columns = 'datetime', values = 'Consumption')\n",
    "first_profile"
   ]
  },
  {
   "cell_type": "code",
   "execution_count": null,
   "metadata": {},
   "outputs": [],
   "source": [
    "first_profile.columns"
   ]
  },
  {
   "cell_type": "markdown",
   "metadata": {},
   "source": [
    "# Read the private data "
   ]
  },
  {
   "cell_type": "code",
   "execution_count": null,
   "metadata": {},
   "outputs": [],
   "source": [
    "%%time\n",
    "data_df = pd.read_csv(data_dir/'data.csv')\n",
    "info_df = pd.read_csv(data_dir/'info.csv')"
   ]
  },
  {
   "cell_type": "code",
   "execution_count": null,
   "metadata": {},
   "outputs": [],
   "source": [
    "data_df = data_df.set_index(['meterID', 'year'], drop=True)\n",
    "data_df"
   ]
  },
  {
   "cell_type": "code",
   "execution_count": null,
   "metadata": {},
   "outputs": [],
   "source": [
    "data_df.columns = pd.to_datetime(data_df.columns)\n",
    "data_df"
   ]
  },
  {
   "cell_type": "code",
   "execution_count": null,
   "metadata": {},
   "outputs": [],
   "source": [
    "# make sure the indices are equal (there is a missing hour in the public data)\n",
    "first_profile = first_profile.reindex(data_df.columns, axis = 1)\n",
    "first_profile_array = first_profile.to_numpy()\n",
    "first_profile"
   ]
  },
  {
   "cell_type": "code",
   "execution_count": null,
   "metadata": {},
   "outputs": [],
   "source": [
    "test_date = pd.to_datetime('10/01/2020')\n",
    "test_date.replace(month = 10, day = 10)"
   ]
  },
  {
   "cell_type": "code",
   "execution_count": null,
   "metadata": {},
   "outputs": [],
   "source": [
    "def correct_data(date): \n",
    "    if date.day <=12: \n",
    "        return date.replace(day = date.month, month = date.day)\n",
    "    return date"
   ]
  },
  {
   "cell_type": "code",
   "execution_count": null,
   "metadata": {},
   "outputs": [],
   "source": [
    "first_profile_corrected = (\n",
    "    first_profile.iloc[0].reset_index()\n",
    "    .rename(columns = {'index':'original_time', '/5JOm8vz1sRZTA':'value'})\n",
    "    .assign(\n",
    "        new_time = lambda x: x.original_time.apply(correct_data)\n",
    "    )\n",
    "    .drop('original_time', axis = 1)\n",
    "    .set_index('new_time')\n",
    "    \n",
    ")\n",
    "first_profile_corrected.index.name = None\n",
    "first_profile_corrected"
   ]
  },
  {
   "cell_type": "code",
   "execution_count": null,
   "metadata": {},
   "outputs": [],
   "source": [
    "def distance_to_profile(x): \n",
    "    difference = x - first_profile_array\n",
    "    return np.linalg.norm(difference[~np.isnan(difference)])"
   ]
  },
  {
   "cell_type": "code",
   "execution_count": null,
   "metadata": {},
   "outputs": [],
   "source": [
    "distances = data_df.apply(distance_to_profile , axis = 1, raw = True)\n",
    "distances"
   ]
  },
  {
   "cell_type": "code",
   "execution_count": null,
   "metadata": {},
   "outputs": [],
   "source": [
    "distances.idxmin()\n",
    "closest_match = data_df.loc[[distances.idxmin()]].droplevel(1)\n",
    "closest_match.index = ['best_match']\n",
    "closest_match.loc['public_profile',:] = first_profile.iloc[0]\n",
    "closest_match"
   ]
  },
  {
   "cell_type": "code",
   "execution_count": null,
   "metadata": {},
   "outputs": [],
   "source": [
    "first_profile.iloc[0]"
   ]
  },
  {
   "cell_type": "code",
   "execution_count": null,
   "metadata": {},
   "outputs": [],
   "source": [
    "first_profile_corrected.value"
   ]
  },
  {
   "cell_type": "code",
   "execution_count": null,
   "metadata": {},
   "outputs": [],
   "source": [
    "closest_match.loc['corrected_public_profile', :] = first_profile_corrected.value\n",
    "closest_match"
   ]
  },
  {
   "cell_type": "code",
   "execution_count": null,
   "metadata": {},
   "outputs": [],
   "source": [
    "plot_df = (\n",
    "    closest_match.stack().reset_index()\n",
    "    .rename(columns = {'level_0':'profile', 'level_1':'timestamp', 0:'consumption'})\n",
    "    .pipe(lambda x: x[x.timestamp.dt.month == 5])\n",
    ")\n",
    "plot_df"
   ]
  },
  {
   "cell_type": "code",
   "execution_count": null,
   "metadata": {},
   "outputs": [],
   "source": [
    "alt.Chart(plot_df, width = 2000).mark_line().encode(\n",
    "    x = \"timestamp:T\", \n",
    "    y = 'consumption', \n",
    "    row = 'profile', \n",
    "    color = 'profile'\n",
    ")"
   ]
  },
  {
   "cell_type": "code",
   "execution_count": null,
   "metadata": {},
   "outputs": [],
   "source": []
  }
 ],
 "metadata": {
  "kernelspec": {
   "display_name": "Python 3",
   "language": "python",
   "name": "python3"
  },
  "language_info": {
   "codemirror_mode": {
    "name": "ipython",
    "version": 3
   },
   "file_extension": ".py",
   "mimetype": "text/x-python",
   "name": "python",
   "nbconvert_exporter": "python",
   "pygments_lexer": "ipython3",
   "version": "3.8.6"
  }
 },
 "nbformat": 4,
 "nbformat_minor": 4
}
