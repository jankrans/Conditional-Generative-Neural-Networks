{
 "cells": [
  {
   "cell_type": "markdown",
   "id": "deluxe-interface",
   "metadata": {},
   "source": [
    "# Extracting trend\n",
    "The idea is to make the signals stationary by extracting the trend from the data\n",
    "\n",
    "Important remark is that the trend is visible on the aggregated level but not on the 15 minute data"
   ]
  },
  {
   "cell_type": "code",
   "execution_count": null,
   "id": "acquired-beads",
   "metadata": {},
   "outputs": [],
   "source": [
    "import altair as alt\n",
    "alt.data_transformers.disable_max_rows()\n",
    "import numpy as np \n",
    "import pandas as pd \n",
    "from pathlib import Path\n",
    "from dtaidistance.preprocessing import differencing\n",
    "from statsmodels.tsa.seasonal import seasonal_decompose, STL"
   ]
  },
  {
   "cell_type": "code",
   "execution_count": null,
   "id": "tender-sunrise",
   "metadata": {},
   "outputs": [],
   "source": [
    "PRE_PATH = Path('/cw/dtaiproj/ml/2020-FLAIR-VITO/profile-clustering/preprocessed/combined')\n",
    "info_path = PRE_PATH/'reindexed_info.csv'\n",
    "data_path = PRE_PATH/'reindexed_DST_data.csv'\n",
    "info_df = pd.read_csv(info_path, index_col = [0,1], nrows = 100)\n",
    "data_df = pd.read_csv(data_path, index_col = [0,1], nrows = 100)\n",
    "data_df.columns = pd.to_datetime(data_df.columns)\n",
    "data_df.columns.name = 'timestamp'\n"
   ]
  },
  {
   "cell_type": "code",
   "execution_count": null,
   "id": "delayed-january",
   "metadata": {},
   "outputs": [],
   "source": [
    "# TEST_PROFILE_IDX = 10 # this one shows a nice trend on aggregate level\n",
    "TEST_PROFILE_IDX = 11 \n",
    "\n",
    "profile_df = data_df.dropna(axis =1, how = 'all').iloc[TEST_PROFILE_IDX].to_frame('value')"
   ]
  },
  {
   "cell_type": "code",
   "execution_count": null,
   "id": "vertical-parent",
   "metadata": {},
   "outputs": [],
   "source": [
    "def simple_chart(df, title): \n",
    "    return alt.Chart(df.reset_index(), width = 1800, title= title).mark_line().encode(\n",
    "        x = 'timestamp', \n",
    "        y = 'value'\n",
    "    )"
   ]
  },
  {
   "cell_type": "code",
   "execution_count": null,
   "id": "decent-packing",
   "metadata": {},
   "outputs": [],
   "source": [
    "daily_profile = profile_df.resample('1D').sum()\n",
    "weekly_profile = profile_df.resample('1W').sum()\n",
    "monthly_profile = profile_df.resample('1M').sum()\n"
   ]
  },
  {
   "cell_type": "markdown",
   "id": "radio-edgar",
   "metadata": {},
   "source": [
    "# Simply resample the data at different frequencies"
   ]
  },
  {
   "cell_type": "code",
   "execution_count": null,
   "id": "living-composite",
   "metadata": {},
   "outputs": [],
   "source": [
    "alt.vconcat(simple_chart(profile_df, '15 min'), simple_chart(daily_profile, '1 day'), simple_chart(weekly_profile, '1 week'), simple_chart(monthly_profile, '1 month'))"
   ]
  },
  {
   "cell_type": "markdown",
   "id": "administrative-bolivia",
   "metadata": {},
   "source": [
    "# Seasonal decompose of daily"
   ]
  },
  {
   "cell_type": "code",
   "execution_count": null,
   "id": "described-retailer",
   "metadata": {},
   "outputs": [],
   "source": [
    "result = STL(daily_profile.value, period = 31, seasonal = 31, robust = True).fit()\n",
    "# result = seasonal_decompose(daily_profile.value.to_numpy(), period = 30, extrapolate_trend = True)"
   ]
  },
  {
   "cell_type": "code",
   "execution_count": null,
   "id": "dietary-plant",
   "metadata": {},
   "outputs": [],
   "source": [
    "import matplotlib.pyplot as plt\n",
    "%matplotlib inline\n",
    "result.plot();"
   ]
  },
  {
   "cell_type": "code",
   "execution_count": null,
   "id": "human-people",
   "metadata": {},
   "outputs": [],
   "source": [
    "daily_profile['trend'] = result.trend\n",
    "daily_profile['resid'] = daily_profile.value - daily_profile.trend"
   ]
  },
  {
   "cell_type": "code",
   "execution_count": null,
   "id": "overhead-figure",
   "metadata": {},
   "outputs": [],
   "source": [
    "daily_profile"
   ]
  },
  {
   "cell_type": "code",
   "execution_count": null,
   "id": "polish-receipt",
   "metadata": {},
   "outputs": [],
   "source": [
    "alt.Chart(pd.melt(daily_profile.reset_index(), id_vars = 'timestamp'), width = 800).mark_line().encode(\n",
    "    x = 'timestamp', \n",
    "    y = 'value'\n",
    ").facet(row = 'variable:O').resolve_scale(y = 'independent').resolve_axis(x = 'independent')"
   ]
  },
  {
   "cell_type": "code",
   "execution_count": null,
   "id": "broadband-console",
   "metadata": {},
   "outputs": [],
   "source": []
  }
 ],
 "metadata": {
  "kernelspec": {
   "display_name": "Python 3",
   "language": "python",
   "name": "python3"
  },
  "language_info": {
   "codemirror_mode": {
    "name": "ipython",
    "version": 3
   },
   "file_extension": ".py",
   "mimetype": "text/x-python",
   "name": "python",
   "nbconvert_exporter": "python",
   "pygments_lexer": "ipython3",
   "version": "3.8.5"
  }
 },
 "nbformat": 4,
 "nbformat_minor": 5
}
