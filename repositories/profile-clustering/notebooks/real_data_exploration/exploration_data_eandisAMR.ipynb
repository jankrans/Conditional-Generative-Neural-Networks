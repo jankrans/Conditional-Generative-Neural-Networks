{
 "cells": [
  {
   "cell_type": "markdown",
   "metadata": {},
   "source": [
    "# Explore the Eandis AMR data\n",
    "in the folder \"**_data eandis 20180822 AMR_**\""
   ]
  },
  {
   "cell_type": "code",
   "execution_count": null,
   "metadata": {},
   "outputs": [],
   "source": [
    "import altair as alt\n",
    "import numpy as np\n",
    "import pandas as pd\n",
    "from pathlib import Path\n",
    "import datetime\n",
    "import tqdm\n",
    "import matplotlib.pyplot as plt"
   ]
  },
  {
   "cell_type": "code",
   "execution_count": null,
   "metadata": {},
   "outputs": [],
   "source": [
    "PREPROCESSED_PATH = Path('/cw/dtaiproj/ml/2020-FLAIR-VITO/profile-clustering/preprocessed/eandis_AMR')\n",
    "\n",
    "AMR_df = pd.read_csv(PREPROCESSED_PATH / 'info.csv')\n",
    "yearly_profiles = pd.read_csv(PREPROCESSED_PATH / 'data.csv')\n",
    "yearly_profiles.set_index('EAN', inplace=True)\n",
    "yearly_profiles.columns.name = 'datetime'\n",
    "\n",
    "data_df = pd.read_csv(PREPROCESSED_PATH / 'data_raw.csv')\n",
    "data_df.columns = ['timestamp', 'value']"
   ]
  },
  {
   "cell_type": "markdown",
   "metadata": {},
   "source": [
    "## Calculate stats on the problems with the data"
   ]
  },
  {
   "cell_type": "code",
   "execution_count": null,
   "metadata": {},
   "outputs": [],
   "source": [
    "pd.set_option('display.max_rows', 100)\n",
    "pd.set_option('display.max_columns', 100)\n",
    "\n",
    "def no_consecutive_values(x, val): # number of consecutive values (val) in the array x, provided as a list\n",
    "    if np.isnan(val):\n",
    "        m1 = np.r_[False, np.isnan(x), False]\n",
    "    else:\n",
    "        m1 = np.r_[False, x==val, False]\n",
    "    idx = np.flatnonzero(m1[:-1] != m1[1:])\n",
    "    return (idx[1::2]-idx[::2])\n",
    "\n",
    "# Duplicates:\n",
    "data_df_counts = pd.pivot_table(data_df, index=['EAN', 'timestamp'], values='value', aggfunc='count')\n",
    "print(f'Number of duplicate readings for the same EAN and timestamp: {(data_df_counts > 1).sum().values[0]}')\n",
    "print('\\nDuplicate readings with their number of occurrences:')\n",
    "display(data_df_counts[(data_df_counts > 1).all(axis=1)])\n",
    "data_df_duplicates = data_df[data_df.reset_index().set_index(['EAN', 'timestamp']).index \\\n",
    "                                  .isin(data_df_counts.index[(data_df_counts > 1).all(axis=1).eq(True)])] \\\n",
    "                         .sort_values(['EAN', 'timestamp'])\n",
    "data_df_duplicates_same = data_df_duplicates.groupby(['EAN', 'timestamp'])['value'].nunique().eq(1)\n",
    "x1 = len(data_df_duplicates_same)\n",
    "x2 = np.sum(data_df_duplicates_same == True)\n",
    "x3 = np.sum(data_df_duplicates_same == False)\n",
    "print(f'Out of {x1} duplicates, {x2} ({x2/x1*100}%) are consistent and {x3} are not.')\n",
    "\n",
    "# Missing values:\n",
    "yearly_profiles.columns = pd.to_datetime(yearly_profiles.columns)\n",
    "yearly_profiles = yearly_profiles.resample('15Min', axis=1).mean()\n",
    "print(f'Number of missing values: {yearly_profiles.isna().sum().sum()}')\n",
    "print(f'Maximum number of missing values for a meter: {yearly_profiles.isna().sum(axis=1).max()}')\n",
    "print(f'Maximum number of consecutive missing values: {yearly_profiles.apply(lambda o: no_consecutive_values(o, np.nan).max(), axis=1).max()}')\n",
    "print(f'Average number of consecutive missing values: {yearly_profiles.apply(lambda o: no_consecutive_values(o, np.nan), axis=1).apply(pd.Series).unstack().mean()}')\n",
    "\n",
    "\n",
    "# Zeros:\n",
    "print(f'Number of zeros: {yearly_profiles.eq(0).sum().sum()}')\n",
    "print(f'Maximum number of consecutive zeros: {yearly_profiles.apply(lambda o: no_consecutive_values(o, 0).max(), axis=1).max()}')\n",
    "print(f'Average number of consecutive zeros: {yearly_profiles.apply(lambda o: no_consecutive_values(o, 0), axis=1).apply(pd.Series).unstack().mean()}')\n",
    "plt.figure(figsize=(8,8))\n",
    "plt.hist(yearly_profiles.apply(lambda o: no_consecutive_values(o, 0), axis=1).apply(pd.Series).unstack().values/(4*24), \\\n",
    "         bins=200, log=True)\n",
    "plt.xlabel('duration of zeros (days)')\n",
    "plt.ylabel('count')\n",
    "plt.title('histogram of duration of zero-offtake periods')\n",
    "\n",
    "# yearly_profiles_flat = yearly_profiles.unstack().reset_index().sort_values('EAN').set_index(['EAN', 'datetime'])\n",
    "# yearly_profiles_flat.columns.names = ['value']\n",
    "\n"
   ]
  },
  {
   "cell_type": "code",
   "execution_count": null,
   "metadata": {},
   "outputs": [],
   "source": []
  }
 ],
 "metadata": {
  "kernelspec": {
   "display_name": "Python 3",
   "language": "python",
   "name": "python3"
  },
  "language_info": {
   "codemirror_mode": {
    "name": "ipython",
    "version": 3
   },
   "file_extension": ".py",
   "mimetype": "text/x-python",
   "name": "python",
   "nbconvert_exporter": "python",
   "pygments_lexer": "ipython3",
   "version": "3.8.10"
  }
 },
 "nbformat": 4,
 "nbformat_minor": 4
}
