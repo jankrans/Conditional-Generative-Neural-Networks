{
 "cells": [
  {
   "cell_type": "markdown",
   "metadata": {},
   "source": [
    "# Look at some profiles\n",
    "This notebook does a few things:  \n",
    "- look at some random profiles\n",
    "- look at the zero measurements\n",
    "- look at the monthly trend\n",
    "- look at the weekly trend\n",
    "- look at the daily trend \n",
    "\n",
    "Conclusions: \n",
    "- Zeros seem to be due to disabled meters or weird profiles \n",
    "- We'll probably have to remove outliers"
   ]
  },
  {
   "cell_type": "markdown",
   "metadata": {},
   "source": [
    "#### Imports"
   ]
  },
  {
   "cell_type": "code",
   "execution_count": null,
   "metadata": {},
   "outputs": [],
   "source": [
    "import altair as alt\n",
    "import numpy as np\n",
    "import pandas as pd\n",
    "from pathlib import Path\n",
    "import datetime\n",
    "import tqdm\n",
    "import pyxlsb\n",
    "alt.data_transformers.disable_max_rows()\n",
    "READ_DATA = False # just a defense against reading the data twice"
   ]
  },
  {
   "cell_type": "markdown",
   "metadata": {},
   "source": [
    "#### Load the data"
   ]
  },
  {
   "cell_type": "code",
   "execution_count": null,
   "metadata": {},
   "outputs": [],
   "source": [
    "# PATH to the profile directory in the fluvius data\n",
    "DATA_PATH = Path('/cw/dtaiproj/ml/2020-FLAIR-VITO/Data-2020-11/FluviusData/profiles')\n",
    "# PATH to where the preprocessed files should be appear\n",
    "\n",
    "PREPROCESSED_PATH = Path('/cw/dtaiproj/ml/2020-FLAIR-VITO/profile-clustering/preprocessed/infrax')\n",
    "if not READ_DATA:\n",
    "    data_path = PREPROCESSED_PATH/'M_resid_data.csv'\n",
    "    info_path = PREPROCESSED_PATH/'M_resid_info.csv'\n",
    "    data_df = pd.read_csv(data_path, index_col = [0], parse_dates=True)\n",
    "    info_df = pd.read_csv(info_path, index_col = [0], parse_dates = True)\n",
    "    READ_DATA = True"
   ]
  },
  {
   "cell_type": "code",
   "execution_count": null,
   "metadata": {},
   "outputs": [],
   "source": [
    "data_df = data_df.set_index('Jaar', append=True)\n",
    "data_df = data_df.sort_index()"
   ]
  },
  {
   "cell_type": "code",
   "execution_count": null,
   "metadata": {},
   "outputs": [],
   "source": [
    "data_df.columns = pd.to_datetime(data_df.columns)"
   ]
  },
  {
   "cell_type": "code",
   "execution_count": null,
   "metadata": {},
   "outputs": [],
   "source": [
    "data_df.head()"
   ]
  },
  {
   "cell_type": "markdown",
   "metadata": {},
   "source": [
    "#### Some plotting code \n",
    "If you did not know already altair is amazing "
   ]
  },
  {
   "cell_type": "code",
   "execution_count": null,
   "metadata": {},
   "outputs": [],
   "source": [
    "def inspect_profile_on_index(idx):\n",
    "    ean_data = data_df.iloc[idx]\n",
    "    data_to_plot = ean_data.to_frame()\n",
    "    data_to_plot = data_to_plot.reset_index()\n",
    "    data_to_plot.columns = ['time','value']\n",
    "    return alt.Chart(data_to_plot).mark_line().encode(\n",
    "        x = 'time:T', \n",
    "        y= 'value'\n",
    "    ).interactive(bind_y = False).properties(width = 2000, height = 300)\n",
    "\n",
    "\n",
    "def inspect_profile_on_ean_year(ean, year):\n",
    "    ean_data = data_df.loc[(ean,year)]\n",
    "    data_to_plot = ean_data.to_frame()\n",
    "    data_to_plot = data_to_plot.reset_index()\n",
    "    data_to_plot.columns = ['time','value']\n",
    "    return alt.Chart(data_to_plot, title = f'Profile EAN {ean} year {year}').mark_line().encode(\n",
    "        x = 'time:T', \n",
    "        y= alt.Y('value'),\n",
    "    ).interactive(bind_y = False).properties(width = 2000, height = 300)"
   ]
  },
  {
   "cell_type": "code",
   "execution_count": null,
   "metadata": {},
   "outputs": [],
   "source": [
    "def show_clustering(df, cluster_df, x_axis = 'months'):\n",
    "    plot_df = df.stack().to_frame('total_consumption').join(cluster_df).reset_index()\n",
    "    print(plot_df.head())\n",
    "    return alt.layer(\n",
    "            alt.Chart(plot_df).mark_area(opacity = 0.3).encode(\n",
    "                x = f'{x_axis}:O', \n",
    "                y = alt.Y('min(total_consumption):Q', stack = None),\n",
    "                y2 = alt.Y2('max(total_consumption):Q'),\n",
    "                color = alt.Color('cluster_label:N', scale=alt.Scale(scheme='set1'))\n",
    "            ),\n",
    "            alt.Chart(plot_df).mark_line().encode(\n",
    "                x = f'{x_axis}:O', \n",
    "                y = 'mean(total_consumption):Q',\n",
    "                color = alt.Color('cluster_label:N')\n",
    "            )\n",
    "        ).properties(width = 600, height = 400)"
   ]
  },
  {
   "cell_type": "markdown",
   "metadata": {},
   "source": [
    "# Plot some random profiles"
   ]
  },
  {
   "cell_type": "code",
   "execution_count": null,
   "metadata": {},
   "outputs": [],
   "source": [
    "inspect_profile_on_index(6)"
   ]
  },
  {
   "cell_type": "markdown",
   "metadata": {},
   "source": [
    "## Look for NaN's"
   ]
  },
  {
   "cell_type": "code",
   "execution_count": null,
   "metadata": {},
   "outputs": [],
   "source": [
    "data = data_df.iloc[5]\n",
    "pd.set_option(\"display.max_rows\", None)\n",
    "data.loc[(data.index.month == 2) & (data.index.day == 28)].to_frame()"
   ]
  },
  {
   "cell_type": "markdown",
   "metadata": {},
   "source": [
    "# Look for zero values/intervals"
   ]
  },
  {
   "cell_type": "code",
   "execution_count": null,
   "metadata": {},
   "outputs": [],
   "source": [
    "def multi_index_to_column(df): \n",
    "    df = df.copy()\n",
    "    df.index = [ str(v1) + 'year'+str(v2) for v1, v2 in df.index.values]\n",
    "    df.index.name = 'profile_year'\n",
    "    return df.reset_index()"
   ]
  },
  {
   "cell_type": "code",
   "execution_count": null,
   "metadata": {},
   "outputs": [],
   "source": [
    "zeros_per_profile = (data_df == 0).sum(axis = 1)\n",
    "alt.Chart(zeros_per_profile.to_frame('nb_of_zeros').reset_index(drop=True), title = 'Histogram of number of zeros per profile').mark_bar().encode(\n",
    "    x = 'nb_of_zeros:N', \n",
    "    y = 'count()'\n",
    ")"
   ]
  },
  {
   "cell_type": "markdown",
   "metadata": {},
   "source": [
    "## Look at profiles with a lot of zeros"
   ]
  },
  {
   "cell_type": "code",
   "execution_count": null,
   "metadata": {},
   "outputs": [],
   "source": [
    "data_with_zeros = data_df[zeros_per_profile>10000]\n",
    "data_with_zeros.index.to_frame()"
   ]
  },
  {
   "cell_type": "code",
   "execution_count": null,
   "metadata": {},
   "outputs": [],
   "source": [
    "inspect_profile_on_ean_year(155, 2014)"
   ]
  },
  {
   "cell_type": "markdown",
   "metadata": {},
   "source": [
    "So this simply seems a weird profile, lets check if we also have data from 2015 from the same profile"
   ]
  },
  {
   "cell_type": "code",
   "execution_count": null,
   "metadata": {},
   "outputs": [],
   "source": [
    "inspect_profile_on_ean_year(155,2015)"
   ]
  },
  {
   "cell_type": "markdown",
   "metadata": {},
   "source": [
    "Still some zero measurements but less!"
   ]
  },
  {
   "cell_type": "code",
   "execution_count": null,
   "metadata": {},
   "outputs": [],
   "source": [
    "inspect_profile_on_ean_year(161, 2014)"
   ]
  },
  {
   "cell_type": "markdown",
   "metadata": {},
   "source": [
    "This profile simply had its meter disabled? also noteworthy a small negative and positive bump on feb fri 26"
   ]
  },
  {
   "cell_type": "markdown",
   "metadata": {},
   "source": [
    "## Some profiles with a moderate amount of zeros"
   ]
  },
  {
   "cell_type": "code",
   "execution_count": null,
   "metadata": {},
   "outputs": [],
   "source": [
    "data_with_zeros = data_df[(zeros_per_profile<70)&(zeros_per_profile>50)]\n",
    "data_with_zeros.index.to_frame()"
   ]
  },
  {
   "cell_type": "code",
   "execution_count": null,
   "metadata": {},
   "outputs": [],
   "source": [
    "inspect_profile_on_ean_year(66,2014)"
   ]
  },
  {
   "cell_type": "markdown",
   "metadata": {},
   "source": [
    "profile is mostly fine but again it just seeems like the house is not occupied"
   ]
  },
  {
   "cell_type": "markdown",
   "metadata": {},
   "source": [
    "## Check monthly trends"
   ]
  },
  {
   "cell_type": "code",
   "execution_count": null,
   "metadata": {},
   "outputs": [],
   "source": [
    "monthly_data_df = data_df.resample('1M',axis = 1).sum()\n",
    "monthly_data_df.columns.name ='months'\n",
    "monthly_data_df.head()"
   ]
  },
  {
   "cell_type": "code",
   "execution_count": null,
   "metadata": {},
   "outputs": [],
   "source": [
    "from sklearn.cluster import KMeans\n",
    "SEED = 1131345\n",
    "clusterer = KMeans(n_clusters=10, random_state = SEED)\n",
    "clusterer.fit(monthly_data_df.values)\n",
    "labels = clusterer.labels_\n",
    "cluster_df = pd.DataFrame(labels, index = monthly_data_df.index, columns = ['cluster_label'])\n",
    "show_clustering(monthly_data_df, cluster_df, x_axis = 'months')"
   ]
  },
  {
   "cell_type": "markdown",
   "metadata": {},
   "source": [
    "This looks really clean! We see different levels of consumption, we see some nice curves of electrical heating (probably) and we see profiles that show the inverse trend!  \n",
    "\n",
    "This coarse grained clustering is already quite cool! "
   ]
  },
  {
   "cell_type": "markdown",
   "metadata": {},
   "source": [
    "## Check weekly trends"
   ]
  },
  {
   "cell_type": "code",
   "execution_count": null,
   "metadata": {},
   "outputs": [],
   "source": [
    "monthly_data_df = data_df.resample('1W',axis = 1).sum()\n",
    "monthly_data_df.columns.name ='weeks'\n",
    "monthly_data_df.head()"
   ]
  },
  {
   "cell_type": "code",
   "execution_count": null,
   "metadata": {},
   "outputs": [],
   "source": [
    "from sklearn.cluster import KMeans\n",
    "SEED = 1131345\n",
    "clusterer = KMeans(n_clusters=10, random_state = SEED)\n",
    "clusterer.fit(monthly_data_df.values)\n",
    "labels = clusterer.labels_\n",
    "cluster_df = pd.DataFrame(labels, index = monthly_data_df.index, columns = ['cluster_label'])\n",
    "show_clustering(monthly_data_df, cluster_df, x_axis = 'weeks')"
   ]
  },
  {
   "cell_type": "markdown",
   "metadata": {},
   "source": [
    "Does not seem ot tell us a lot more than the previous plot (on a monthly level)  \n",
    "Except that we'll probably need to remove outliers to get clean clusters\n"
   ]
  },
  {
   "cell_type": "markdown",
   "metadata": {},
   "source": [
    "## Check days \n",
    "For some profile check the daily timeseries"
   ]
  },
  {
   "cell_type": "code",
   "execution_count": null,
   "metadata": {},
   "outputs": [],
   "source": [
    "profile_to_use = 1\n",
    "profile = data_df.iloc[profile_to_use].to_frame().reset_index()\n",
    "profile.columns = 'timestamp', 'value'\n",
    "profile.head()\n",
    "profile['time'] = profile.timestamp.dt.time\n",
    "profile['date'] = profile.timestamp.dt.date\n",
    "daily_ts_df = pd.pivot_table(profile, index = 'date', columns = 'time', values = 'value')\n",
    "daily_ts_df.index = pd.to_datetime(daily_ts_df.index)\n",
    "daily_ts_df.columns = [str(time) for time in daily_ts_df.columns]\n",
    "daily_ts_df.columns.name = 'time'\n",
    "daily_ts_df.head()"
   ]
  },
  {
   "cell_type": "code",
   "execution_count": null,
   "metadata": {},
   "outputs": [],
   "source": [
    "SEED = 1131345\n",
    "clusterer = KMeans(n_clusters=10, random_state = SEED)\n",
    "clusterer.fit(daily_ts_df.values)\n",
    "labels = clusterer.labels_\n",
    "cluster_df = pd.DataFrame(labels, index = daily_ts_df.index, columns = ['cluster_label'])\n",
    "show_clustering(daily_ts_df, cluster_df, x_axis = 'time')"
   ]
  },
  {
   "cell_type": "markdown",
   "metadata": {},
   "source": [
    "Also looks really really clean (although the clustering with kmeans is not a good idea)"
   ]
  }
 ],
 "metadata": {
  "kernelspec": {
   "display_name": "Python 3",
   "language": "python",
   "name": "python3"
  },
  "language_info": {
   "codemirror_mode": {
    "name": "ipython",
    "version": 3
   },
   "file_extension": ".py",
   "mimetype": "text/x-python",
   "name": "python",
   "nbconvert_exporter": "python",
   "pygments_lexer": "ipython3",
   "version": "3.8.5"
  }
 },
 "nbformat": 4,
 "nbformat_minor": 4
}
