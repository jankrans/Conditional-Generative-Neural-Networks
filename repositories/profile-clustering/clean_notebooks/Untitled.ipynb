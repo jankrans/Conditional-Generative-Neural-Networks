{
 "cells": [
  {
   "cell_type": "code",
   "execution_count": null,
   "id": "92ce3a12-7b0d-47e3-81ba-2b62745181c2",
   "metadata": {},
   "outputs": [],
   "source": [
    "import numpy as np \n",
    "from sklearn.metrics.pairwise import euclidean_distances"
   ]
  },
  {
   "cell_type": "code",
   "execution_count": null,
   "id": "963e1162-da83-4b61-b520-aab72a172770",
   "metadata": {},
   "outputs": [],
   "source": [
    "data = np.random.default_rng(0).normal(size = (10, 3))\n",
    "data"
   ]
  },
  {
   "cell_type": "code",
   "execution_count": null,
   "id": "cfe513c2-278e-4100-a803-ada61a3a3b32",
   "metadata": {},
   "outputs": [],
   "source": [
    "labels = np.array([5,5,3,3,1,1,2,5, 4, 6])\n",
    "\n",
    "a = np.stack([labels, np.arange(0, labels.shape[0])], axis = 1)\n",
    "# sort a on cluster_idx\n",
    "a = a[a[:, 0].argsort()]\n",
    "unique_labels = np.unique(a[:, 0]) \n",
    "# split the array on unique elements \n",
    "instances_per_cluster = np.split(a[:, 1], np.unique(a[:, 0], return_index=True)[1][1:])\n",
    "all_medoids = np.zeros(unique_labels.shape[0])\n",
    "for idx, instances in enumerate(instances_per_cluster): \n",
    "    distances_in_cluster = euclidean_distances(data[instances, :])\n",
    "    medoid_index = np.argmin(distances_in_cluster.sum(axis=0))\n",
    "    all_medoids[idx] = instances[medoid_index]\n",
    "all_medoids"
   ]
  },
  {
   "cell_type": "code",
   "execution_count": null,
   "id": "e0ea48d6-8eb1-45d3-a58b-b55b145cf4a1",
   "metadata": {},
   "outputs": [],
   "source": [
    "cluster_idxs = np.array([1, 2, 3, 4, 5, 6], dtype = 'int')\n",
    "pre_cluster_labels = labels \n",
    "post_cluster_labels = np.array([0, 0, 0, 1, 1, 1], dtype = 'int')"
   ]
  },
  {
   "cell_type": "code",
   "execution_count": null,
   "id": "2a6fac87-75f1-4027-bd7f-c7ecb76e24c1",
   "metadata": {},
   "outputs": [],
   "source": [
    "sort_idx = np.argsort(cluster_idxs)\n",
    "idx = np.searchsorted(cluster_idxs, pre_cluster_labels, sorter=sort_idx)\n",
    "out = post_cluster_labels[sort_idx][idx]"
   ]
  },
  {
   "cell_type": "code",
   "execution_count": null,
   "id": "3de42910-5a1e-4642-b68f-11a9a6d6f720",
   "metadata": {},
   "outputs": [],
   "source": [
    "out"
   ]
  },
  {
   "cell_type": "code",
   "execution_count": null,
   "id": "3e3dda56-2d65-45bd-8877-fcbc5fa1a84f",
   "metadata": {},
   "outputs": [],
   "source": []
  }
 ],
 "metadata": {
  "kernelspec": {
   "display_name": "energyville",
   "language": "python",
   "name": "energyville"
  },
  "language_info": {
   "codemirror_mode": {
    "name": "ipython",
    "version": 3
   },
   "file_extension": ".py",
   "mimetype": "text/x-python",
   "name": "python",
   "nbconvert_exporter": "python",
   "pygments_lexer": "ipython3",
   "version": "3.10.4"
  }
 },
 "nbformat": 4,
 "nbformat_minor": 5
}
