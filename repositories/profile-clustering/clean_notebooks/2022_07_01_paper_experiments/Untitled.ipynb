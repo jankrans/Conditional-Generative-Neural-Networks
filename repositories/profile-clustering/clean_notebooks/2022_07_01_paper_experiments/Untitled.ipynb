{
 "cells": [
  {
   "cell_type": "code",
   "execution_count": null,
   "id": "5c8f692d-dfd6-4c17-8878-c005b335e117",
   "metadata": {},
   "outputs": [],
   "source": [
    "from energyclustering.sampling.evaluation.energy_score import calculate_energy_score\n",
    "import numpy as np"
   ]
  },
  {
   "cell_type": "markdown",
   "id": "a3f932cf-a982-4022-8016-e4306ad58f6d",
   "metadata": {},
   "source": [
    "# 4 values all equally likely"
   ]
  },
  {
   "cell_type": "markdown",
   "id": "7d6a7326-0eac-4666-a3f6-b1edc626975a",
   "metadata": {},
   "source": []
  },
  {
   "cell_type": "code",
   "execution_count": null,
   "id": "25c32dc7-8174-48aa-91e9-fdd5dae8bbd8",
   "metadata": {},
   "outputs": [],
   "source": [
    "NB_SAMPLES = 1\n",
    "NB_VALUES = 8\n",
    "def calculate_example( NB_VALUES, NB_SCENARIOS): \n",
    "    good_predictions = np.concatenate([np.full((NB_SAMPLES,), value) for value in range(NB_VALUES)]).reshape((-1,1))\n",
    "    bad_predictions = np.concatenate([np.full((value,), value) for value in range(NB_VALUES)]).reshape((-1,1))\n",
    "    \n",
    "    probs = np.full(good_predictions.shape[0], 1/good_predictions.shape[0])\n",
    "    energy_scores = []\n",
    "    for ground_truth_value in range(NB_VALUES): \n",
    "        energy_scores.append(calculate_energy_score(probs, good_predictions, np.array([ground_truth_value])))\n",
    "    good_es = np.mean(energy_scores)\n",
    "    probs = np.full(bad_predictions.shape[0], 1/bad_predictions.shape[0])\n",
    "    energy_scores = []\n",
    "    for ground_truth_value in range(NB_VALUES): \n",
    "        energy_scores.append(calculate_energy_score(probs, bad_predictions, np.array([ground_truth_value])))\n",
    "    bad_es = np.mean(energy_scores)\n",
    "    \n",
    "    print(f\"for discrete distribution with {NB_VALUES} values, ES of optimal scenarios = {good_es:.3f}, ES of bad scenarios = {bad_es:.3f}\")\n",
    "    \n",
    "\n"
   ]
  },
  {
   "cell_type": "code",
   "execution_count": null,
   "id": "a70a3543-9b7e-4afc-930a-383d0f478f15",
   "metadata": {},
   "outputs": [],
   "source": [
    "\n",
    "calculate_example(3)"
   ]
  },
  {
   "cell_type": "code",
   "execution_count": null,
   "id": "0ff4d5c0-dfa2-4f44-a413-24f0ff7710ce",
   "metadata": {},
   "outputs": [],
   "source": [
    "\n",
    "calculate_example(100)"
   ]
  },
  {
   "cell_type": "code",
   "execution_count": null,
   "id": "81cb70ef-cc7c-4e2b-8635-ea8cd307674f",
   "metadata": {},
   "outputs": [],
   "source": []
  }
 ],
 "metadata": {
  "kernelspec": {
   "display_name": "energyville",
   "language": "python",
   "name": "energyville"
  },
  "language_info": {
   "codemirror_mode": {
    "name": "ipython",
    "version": 3
   },
   "file_extension": ".py",
   "mimetype": "text/x-python",
   "name": "python",
   "nbconvert_exporter": "python",
   "pygments_lexer": "ipython3",
   "version": "3.10.4"
  }
 },
 "nbformat": 4,
 "nbformat_minor": 5
}
