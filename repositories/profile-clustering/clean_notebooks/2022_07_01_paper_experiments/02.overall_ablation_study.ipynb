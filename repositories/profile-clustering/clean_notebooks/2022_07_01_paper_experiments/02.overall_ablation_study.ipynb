{
 "cells": [
  {
   "cell_type": "markdown",
   "id": "e4abe87b-8e9f-4239-b377-029d9dafb5c2",
   "metadata": {},
   "source": [
    "# Overall ablation study "
   ]
  },
  {
   "cell_type": "markdown",
   "id": "8a53170e-f683-403b-8e9e-e33cacd625c3",
   "metadata": {},
   "source": [
    "### Imports"
   ]
  },
  {
   "cell_type": "code",
   "execution_count": null,
   "id": "f305dcbf-4c66-429d-b3a2-7a40c356d3f9",
   "metadata": {},
   "outputs": [],
   "source": [
    "# standard imports\n",
    "import numpy as np \n",
    "import pandas as pd\n",
    "import altair as alt\n",
    "from pathlib import Path\n",
    "import itertools\n",
    "\n",
    "# loading the data \n",
    "from energyclustering.sampling.preprocessing import DataPreprocessor\n",
    "\n",
    "# preprocessing the yearly info \n",
    "from energyclustering.sampling.preprocessing.info import YearlyInfoPreprocessor\n",
    "\n",
    "# executing the results in parallell \n",
    "from dask.distributed import Client\n",
    "\n",
    "# sampling models \n",
    "from energyclustering.sampling.day_of_year_samplers import RandomBaselineSampler # random day selection baseline\n",
    "from energyclustering.sampling.day_of_year_samplers import DailySamplerFromClusterSampler # to combine daily and yearly sampler\n",
    "from energyclustering.sampling.day_of_year_samplers import GenerateSampleDecorator\n",
    "from energyclustering.sampling.day_of_year_samplers import EnergyFilterFromRandomYearSampler # to use energyfilter from a random year\n",
    "from energyclustering.sampling.samplers import RandomSamplerBaseline\n",
    "from energyclustering.sampling.samplers import EnergyvilleDaySelectionBaseline\n",
    "from energyclustering.sampling.samplers import MetadataSampler\n",
    "from energyclustering.sampling.samplers import ConsumptionDataSampler\n",
    "\n",
    "\n",
    "# elbow method to use for clustering \n",
    "from energyclustering.clustering.elbow import ElbowMethod\n",
    "\n",
    "# clustering algorithms \n",
    "from sklearn.cluster import KMeans\n",
    "from kmedoids import KMedoids\n",
    "\n",
    "# cluster metrics \n",
    "import energyclustering.clustering.metrics as dist_metrics\n",
    "\n",
    "# classifiers \n",
    "from sklearn.ensemble import RandomForestClassifier \n",
    "\n",
    "# evaluation \n",
    "from energyclustering.sampling.evaluation import SamplerEvaluator"
   ]
  },
  {
   "cell_type": "code",
   "execution_count": null,
   "id": "e18d09c6-d597-405e-99df-6a2dd591cf01",
   "metadata": {},
   "outputs": [],
   "source": [
    "%load_ext autoreload\n",
    "%autoreload 2"
   ]
  },
  {
   "cell_type": "markdown",
   "id": "2f873f86-29e1-4eff-9ff9-45dc67baea44",
   "metadata": {},
   "source": [
    "# The data"
   ]
  },
  {
   "cell_type": "code",
   "execution_count": null,
   "id": "b02ce658-619a-48fb-9fb2-31b8ed62e7fe",
   "metadata": {},
   "outputs": [],
   "source": [
    "daily_data_df, data_df, daily_info_df, weather_df = (\n",
    "    DataPreprocessor()\n",
    "    .preprocess_info_df('paper')\n",
    "    .preprocess_weather_df('paper')\n",
    "    .drop_days_with_nan(True)\n",
    "    .subsample_days(week_reduction_factor = None)\n",
    "    # for testing only!\n",
    "    .subsample_years(1000)\n",
    "    .get_data()\n",
    ")\n",
    "daily_data_df.shape"
   ]
  },
  {
   "cell_type": "code",
   "execution_count": null,
   "id": "ab4a3000-b208-4a4d-83c4-5bc03752f668",
   "metadata": {},
   "outputs": [],
   "source": [
    "daily_info_df.columns"
   ]
  },
  {
   "cell_type": "code",
   "execution_count": null,
   "id": "14d4b5ed-a08a-4d97-8ef9-9d93401c0a5c",
   "metadata": {},
   "outputs": [],
   "source": [
    "# generate folds for cross validation \n",
    "generator = np.random.default_rng(1)\n",
    "shuffled = data_df.index.to_numpy(copy=True)\n",
    "generator.shuffle(shuffled)\n",
    "folds = np.array_split(shuffled, 5)"
   ]
  },
  {
   "cell_type": "markdown",
   "id": "77d5bd79-582e-4e97-bd09-8b03d622cf9a",
   "metadata": {},
   "source": [
    "## Models to compare"
   ]
  },
  {
   "cell_type": "code",
   "execution_count": null,
   "id": "ef67d9a3-5132-4af7-9ff9-5151e46102fa",
   "metadata": {},
   "outputs": [],
   "source": [
    "NB_SAMPLES = 250\n",
    "CLUSTER_RANGE = list(range(10, 101, 5))"
   ]
  },
  {
   "cell_type": "code",
   "execution_count": null,
   "id": "c1ae253d-16f7-4d78-97d2-379d397635b3",
   "metadata": {},
   "outputs": [],
   "source": [
    "combinations_to_skip = set([('random', 'consumption_clustering')])"
   ]
  },
  {
   "cell_type": "code",
   "execution_count": null,
   "id": "963d6607-8822-43f0-973d-c8f15dccb75b",
   "metadata": {},
   "outputs": [],
   "source": [
    "yearly_samplers = dict()\n",
    "yearly_samplers['metadata_clustering'] = MetadataSampler(\n",
    "                clusterer = ElbowMethod(KMeans(n_clusters = 1, n_init = 10), cluster_range = CLUSTER_RANGE), \n",
    "                info_preprocessing = YearlyInfoPreprocessor(columns_to_use = ['yearly_consumption', 'connection_power'], normalized = True),\n",
    "            )\n",
    "\n",
    "yearly_samplers['consumption_clustering'] = ConsumptionDataSampler(\n",
    "                classifier = RandomForestClassifier(),\n",
    "                clusterer = ElbowMethod(KMedoids(n_clusters = 1, method = 'fasterpam'), metric = dist_metrics.euc_distance_matrix_missing, cluster_range = CLUSTER_RANGE, nb_repeats = 10), \n",
    "                fillna = False,\n",
    "            )\n",
    "\n",
    "# yearly_samplers['random'] = RandomSamplerBaseline(\n",
    "#     n_samples = None\n",
    "# )"
   ]
  },
  {
   "cell_type": "code",
   "execution_count": null,
   "id": "e882f6ce-63ef-4a4d-aa26-ec8248cfd548",
   "metadata": {},
   "outputs": [],
   "source": [
    "daily_samplers = dict() \n",
    "daily_samplers['random'] = RandomSamplerBaseline(n_samples = None) \n",
    "\n",
    "daily_samplers['similar_day'] = EnergyvilleDaySelectionBaseline()\n",
    "\n",
    "daily_samplers['consumption_clustering'] = ConsumptionDataSampler(\n",
    "                classifier = RandomForestClassifier(),\n",
    "                clusterer = ElbowMethod(KMeans(n_clusters = 1), cluster_range = CLUSTER_RANGE), \n",
    "            )"
   ]
  },
  {
   "cell_type": "code",
   "execution_count": null,
   "id": "a5f04626-ac50-4a3f-b388-2c4b60925894",
   "metadata": {},
   "outputs": [],
   "source": [
    "models = dict()\n",
    "for (y_name, y_sampler), (d_name, d_sampler) in itertools.product(yearly_samplers.items(), daily_samplers.items()): \n",
    "    if (y_name, d_name) in combinations_to_skip: \n",
    "        continue \n",
    "    models[f'y={y_name}, d={d_name}'] = GenerateSampleDecorator(\n",
    "        sampler = DailySamplerFromClusterSampler(\n",
    "            yearly_sampler = y_sampler, \n",
    "            daily_sampler = d_sampler\n",
    "        ), \n",
    "        n_samples = NB_SAMPLES,\n",
    "    )\n",
    "models[\"y=random, d=random\"] = RandomBaselineSampler(NB_SAMPLES)\n",
    "models[\"y=random, d=similar_day\"] = GenerateSampleDecorator(EnergyFilterFromRandomYearSampler(), n_samples = NB_SAMPLES)"
   ]
  },
  {
   "cell_type": "code",
   "execution_count": null,
   "id": "e43148b6-11f0-40b1-899a-329a85aa43af",
   "metadata": {
    "tags": []
   },
   "outputs": [],
   "source": [
    "from dask_util import get_dask_cluster\n",
    "cluster = get_dask_cluster(\n",
    "    pinac_numbers = [31, 32, 33, 34, 35, 36, 37, 38, 39, 40 ],\n",
    "    himec_numbers = [8, 1, 2, 3, 4],\n",
    ")"
   ]
  },
  {
   "cell_type": "code",
   "execution_count": null,
   "id": "d4cfab40-5f57-4bcb-b715-0ce0be47d0ac",
   "metadata": {},
   "outputs": [],
   "source": [
    "import logging\n",
    "import datetime\n",
    "import dask \n",
    "logging.basicConfig(format='%(asctime)s - %(name)s: %(message)s', level=logging.DEBUG, filename = f'logs/ablation_{datetime.datetime.now().strftime(\"%d-%m-%Y\")}.log', filemode = 'w')\n",
    "dask.config.set({'distributed.comm.retry.count': 5, 'distributed.comm.retry.delay.min': '60s', 'distributed.comm.retry.delay.max': '100s'})"
   ]
  },
  {
   "cell_type": "code",
   "execution_count": null,
   "id": "58791158-2f90-409c-ae07-b38de83b3af6",
   "metadata": {},
   "outputs": [],
   "source": [
    "%%time \n",
    "result_path = Path()/'results'/'ablation'\n",
    "result_path.mkdir(parents = True, exist_ok = True)\n",
    "\n",
    "energy_scores = []\n",
    "with Client(cluster) as client:\n",
    "    evaluator = SamplerEvaluator(folds, daily_data_df, daily_info_df, data_df, client, 1000, crossval = True)\n",
    "    for key, model in models.items():\n",
    "        energy_score = evaluator.evaluate_and_save(model, result_path/f\"{key}.pkl\")\n",
    "        energy_scores.append(energy_score)\n",
    "    energy_scores = pd.concat(energy_scores, axis = 1, keys = models.keys())\n",
    "\n",
    "cluster.close()\n",
    "# aggregate energy scores\n",
    "plot_df = energy_scores.agg(['mean', 'std'], axis = 0)"
   ]
  },
  {
   "cell_type": "code",
   "execution_count": null,
   "id": "90f395bf-fcde-47f2-a967-483469ff81cb",
   "metadata": {},
   "outputs": [],
   "source": [
    "ablation_table = plot_df.T['mean'].to_frame('ES').assign(\n",
    "       year = lambda x: x.index.map(lambda x: x.split(',')[0][2:]), \n",
    "        day = lambda x: x.index.map(lambda x: x.split(',')[1][3:]),\n",
    ").pivot_table(index = 'day', columns = 'year', values = 'ES').reindex(['random', 'similar_day', 'consumption_clustering'], axis = 0).reindex(['random', 'metadata_clustering', 'consumption_clustering'], axis = 1)\n",
    "ablation_table.round(3)"
   ]
  },
  {
   "cell_type": "code",
   "execution_count": null,
   "id": "b853b1b1-7214-487f-9bd1-0380969dc982",
   "metadata": {},
   "outputs": [],
   "source": [
    "print(ablation_table.round(3).astype('str').style.to_latex())"
   ]
  },
  {
   "cell_type": "code",
   "execution_count": null,
   "id": "3a02982c-f41d-437d-94ad-e302ffdc69a1",
   "metadata": {},
   "outputs": [],
   "source": [
    "cluster.close()"
   ]
  },
  {
   "cell_type": "code",
   "execution_count": null,
   "id": "8bab4b76-0f84-4ef0-9b33-bc38623ce173",
   "metadata": {},
   "outputs": [],
   "source": []
  }
 ],
 "metadata": {
  "kernelspec": {
   "display_name": "energyville",
   "language": "python",
   "name": "energyville"
  },
  "language_info": {
   "codemirror_mode": {
    "name": "ipython",
    "version": 3
   },
   "file_extension": ".py",
   "mimetype": "text/x-python",
   "name": "python",
   "nbconvert_exporter": "python",
   "pygments_lexer": "ipython3",
   "version": "3.10.4"
  }
 },
 "nbformat": 4,
 "nbformat_minor": 5
}
