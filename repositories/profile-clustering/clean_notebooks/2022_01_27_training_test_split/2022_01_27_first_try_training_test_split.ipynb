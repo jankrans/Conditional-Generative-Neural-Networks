{
 "cells": [
  {
   "cell_type": "markdown",
   "id": "88da595c-9d4f-4fba-924e-098ea7b3f36b",
   "metadata": {},
   "source": [
    "## Training test split of the data "
   ]
  },
  {
   "cell_type": "markdown",
   "id": "18f3d0c1-4951-43a7-bcc7-dbf60273a965",
   "metadata": {},
   "source": [
    "### Read the data"
   ]
  },
  {
   "cell_type": "code",
   "execution_count": null,
   "id": "1a8bef9a-e4c6-487c-8c43-97d4394ceb55",
   "metadata": {},
   "outputs": [],
   "source": [
    "from energyclustering.data.fluvius import read_data_pickle\n",
    "info_df, data_df = read_data_pickle(include_incomplete_profiles = True, process_errors = True)\n",
    "data_df = data_df.rename_axis('timestamp', axis = 1)"
   ]
  },
  {
   "cell_type": "code",
   "execution_count": null,
   "id": "ed6219ae-1f06-4009-8ca1-b5a3f5577b90",
   "metadata": {},
   "outputs": [],
   "source": [
    "data_df;"
   ]
  },
  {
   "cell_type": "markdown",
   "id": "79b02152-b74e-444b-b204-76a48e4c2d8d",
   "metadata": {},
   "source": [
    "### Split the meterIDs in three groups"
   ]
  },
  {
   "cell_type": "code",
   "execution_count": null,
   "id": "26d1d51a-ead2-4614-803b-e75f726776d7",
   "metadata": {},
   "outputs": [],
   "source": [
    "meterIDs = data_df.index.get_level_values(0).unique().to_numpy()\n",
    "meterIDs"
   ]
  },
  {
   "cell_type": "code",
   "execution_count": null,
   "id": "cd083b7b-8a07-49a4-b305-01d9b8ac6d43",
   "metadata": {},
   "outputs": [],
   "source": [
    "from numpy.random import default_rng\n",
    "import numpy as np\n",
    "import pandas as pd\n",
    "import altair as alt"
   ]
  },
  {
   "cell_type": "code",
   "execution_count": null,
   "id": "f8e2317c-7e03-4eca-a27d-f708b58f7ad5",
   "metadata": {},
   "outputs": [],
   "source": [
    "SEED = 0"
   ]
  },
  {
   "cell_type": "code",
   "execution_count": null,
   "id": "d80e1414-d15d-4a5f-9cd3-2d9b312a55a0",
   "metadata": {},
   "outputs": [],
   "source": [
    "SEED += 1\n",
    "generator = default_rng(SEED)\n",
    "print(SEED)"
   ]
  },
  {
   "cell_type": "code",
   "execution_count": null,
   "id": "375aae95-af27-4dcf-93a1-0309be1abca4",
   "metadata": {},
   "outputs": [],
   "source": [
    "shuffled = meterIDs.copy()\n",
    "generator.shuffle(shuffled)\n",
    "shuffled\n",
    "folds = np.split(shuffled, 3)"
   ]
  },
  {
   "cell_type": "code",
   "execution_count": null,
   "id": "9ecb4c1f-2366-4310-baff-ba37077db107",
   "metadata": {},
   "outputs": [],
   "source": [
    "from pathlib import Path\n",
    "from datetime import date\n",
    "store_path = Path(\"/cw/dtaiproj/ml/2020-FLAIR-VITO/profile-clustering/folds\")\n",
    "filename = f'{date.today().strftime(\"%Y-%m-%d\")}_folds.npy'\n",
    "if not (store_path/filename).exists():\n",
    "    np.save(store_path/filename, folds)"
   ]
  },
  {
   "cell_type": "markdown",
   "id": "8adb63aa-2e08-4f84-a1d4-f84489b2221d",
   "metadata": {},
   "source": [
    "### Check each fold"
   ]
  },
  {
   "cell_type": "code",
   "execution_count": null,
   "id": "3270e753-8c17-4f4a-ae3a-a759ea34aeb7",
   "metadata": {},
   "outputs": [],
   "source": [
    "fold_dfs = [] \n",
    "for fold in folds: \n",
    "    fold_df = info_df.loc[fold, :]\n",
    "    fold_dfs.append(fold_df)"
   ]
  },
  {
   "cell_type": "markdown",
   "id": "8e8462c4-5cd3-4bea-822e-ec6a694e6bdf",
   "metadata": {},
   "source": [
    "#### C1: number of years should be balanced"
   ]
  },
  {
   "cell_type": "code",
   "execution_count": null,
   "id": "ea2ff2b1-742f-4ca3-a231-b5a615b56460",
   "metadata": {},
   "outputs": [],
   "source": [
    "lengths = [fold_df.shape[0] for fold_df in fold_dfs]\n",
    "alt.Chart(pd.DataFrame(lengths, columns = ['#profiles']).reset_index()).mark_bar().encode(\n",
    "    x = alt.X('index:N', title = 'fold'), \n",
    "    y = alt.Y('#profiles', title = '#years')\n",
    ").display()\n",
    "lengths"
   ]
  },
  {
   "cell_type": "markdown",
   "id": "57ddbd30-f305-42f1-83f2-eb8644d750fd",
   "metadata": {},
   "source": [
    "#### C2 has PV should be balanced"
   ]
  },
  {
   "cell_type": "code",
   "execution_count": null,
   "id": "234786f3-5464-4d3b-8012-ba78d6e14b10",
   "metadata": {},
   "outputs": [],
   "source": [
    "fold_dfs[0].PV.unique"
   ]
  },
  {
   "cell_type": "code",
   "execution_count": null,
   "id": "1fae3075-2943-46c8-9ebc-258e4886bef1",
   "metadata": {},
   "outputs": [],
   "source": [
    "PVs = [fold_df.PV.fillna(False).astype('int').sum() for fold_df in fold_dfs]\n",
    "alt.Chart(pd.DataFrame(PVs, columns = ['#PVs']).reset_index()).mark_bar().encode(\n",
    "    x = alt.X('index:N', title = 'fold'), \n",
    "    y = alt.Y('#PVs', title = 'years with PV panels')\n",
    ")"
   ]
  },
  {
   "cell_type": "code",
   "execution_count": null,
   "id": "4eed1472-c064-49b0-b363-952b60b09fca",
   "metadata": {},
   "outputs": [],
   "source": [
    "PVs"
   ]
  },
  {
   "cell_type": "markdown",
   "id": "95249f83-294b-4abb-9765-2553bccc3bbc",
   "metadata": {},
   "source": [
    "#### C2 heatpump should be balanced"
   ]
  },
  {
   "cell_type": "code",
   "execution_count": null,
   "id": "e2ccd50f-affa-425f-aa82-9e9d3ffa88bc",
   "metadata": {},
   "outputs": [],
   "source": [
    "PVs = [fold_df.heatpump.fillna(False).astype('int').sum() for fold_df in fold_dfs]\n",
    "alt.Chart(pd.DataFrame(PVs, columns = ['#PVs']).reset_index()).mark_bar().encode(\n",
    "    x = alt.X('index:N', title = 'fold'), \n",
    "    y = alt.Y('#PVs', title = 'years with heatpump')\n",
    ")"
   ]
  },
  {
   "cell_type": "code",
   "execution_count": null,
   "id": "1919d6eb-1bc3-41dd-a2a8-6b9723d206a3",
   "metadata": {},
   "outputs": [],
   "source": [
    "PVs\n"
   ]
  },
  {
   "cell_type": "markdown",
   "id": "8268b3b9-3e85-443e-a082-e6ddf87ce1fb",
   "metadata": {},
   "source": [
    "#### C3 check other conditions"
   ]
  },
  {
   "cell_type": "code",
   "execution_count": null,
   "id": "d3aedc5f-77a2-461c-967e-a26b5ecfb704",
   "metadata": {},
   "outputs": [],
   "source": [
    "columns = fold_dfs[0].columns\n",
    "columns"
   ]
  },
  {
   "cell_type": "code",
   "execution_count": null,
   "id": "88a60b72-bae5-4cef-a699-d282cc937d7d",
   "metadata": {},
   "outputs": [],
   "source": [
    "for column in columns: \n",
    "    all_value_counts = []\n",
    "    for fold_df in fold_dfs: \n",
    "        all_value_counts.append(fold_df[column].value_counts(dropna=False))\n",
    "    value_count_df = pd.concat(all_value_counts, keys = [f'fold{i}' for i in range(3)]).rename_axis(('fold', 'value'), axis = 0).to_frame('count')\n",
    "#     print(value_count_df.reset_index().columns)\n",
    "    chart = alt.Chart(value_count_df.reset_index(), title = column, width = 800, height = 200).mark_bar().encode(\n",
    "        x = alt.X('value:N', title = 'attribute value'), \n",
    "        y = alt.Y('count:Q', title = 'count'), \n",
    "        row = 'fold'\n",
    "    ).configure_title(fontSize = 20, align = 'center')\n",
    "    display(chart)"
   ]
  }
 ],
 "metadata": {
  "kernelspec": {
   "display_name": "energyville",
   "language": "python",
   "name": "energyville"
  },
  "language_info": {
   "codemirror_mode": {
    "name": "ipython",
    "version": 3
   },
   "file_extension": ".py",
   "mimetype": "text/x-python",
   "name": "python",
   "nbconvert_exporter": "python",
   "pygments_lexer": "ipython3",
   "version": "3.8.10"
  }
 },
 "nbformat": 4,
 "nbformat_minor": 5
}
