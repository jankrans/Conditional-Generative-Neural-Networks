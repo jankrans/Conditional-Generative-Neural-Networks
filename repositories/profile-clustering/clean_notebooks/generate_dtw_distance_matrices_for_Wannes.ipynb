{
 "cells": [
  {
   "cell_type": "markdown",
   "id": "00ff075c-c719-4bf7-ab56-460acdfaf798",
   "metadata": {},
   "source": [
    "# Wannes asked to get a few dtw distance matrices"
   ]
  },
  {
   "cell_type": "code",
   "execution_count": null,
   "id": "a08adab4-f71a-407e-903c-744c20f16c0c",
   "metadata": {},
   "outputs": [],
   "source": [
    "from energyclustering.util import series_to_daily_dataframe\n",
    "from energyclustering.data.fluvius import read_data_pickle\n",
    "from energyclustering.data.public.data import get_data_reading_preprocessed\n",
    "from energyclustering.clustering.DTW import get_DTW_distance_matrix\n",
    "from pathlib import Path\n",
    "from numpy.random import default_rng"
   ]
  },
  {
   "cell_type": "code",
   "execution_count": null,
   "id": "fdd9ae98-5792-43c7-9819-01f35c278079",
   "metadata": {},
   "outputs": [],
   "source": [
    "info_df, data_df = read_data_pickle(include_incomplete_profiles = True, process_errors = True)"
   ]
  },
  {
   "cell_type": "code",
   "execution_count": null,
   "id": "4b1b50a0-92bf-4778-8ba2-caaebe41d7a5",
   "metadata": {},
   "outputs": [],
   "source": [
    "public_data_df = get_data_reading_preprocessed()\n",
    "public_data_df = public_data_df.drop(columns=['Offtake', 'Injection']).reset_index().pivot(index = 'iID', columns = 'datetime', values = 'Consumption')"
   ]
  },
  {
   "cell_type": "code",
   "execution_count": null,
   "id": "d1e5c3ef-038e-43e7-a7f3-fec1c45bc9d3",
   "metadata": {},
   "outputs": [],
   "source": [
    "same = Path('same_profile')\n",
    "same.mkdir(exist_ok = True)\n",
    "random_generator = default_rng(123)\n",
    "for i in range(10): \n",
    "    sample = public_data_df.sample(2, random_state = random_generator.integers(0,10000000))\n",
    "    profile1 = sample.iloc[0]\n",
    "    profile2 = sample.iloc[1]\n",
    "    daily_df1 = series_to_daily_dataframe(profile1)\n",
    "    dtw_distance_matrix = get_DTW_distance_matrix(daily_df1, daily_df1, window = 4)\n",
    "    filename = f\"DTW_distance_matrix_{profile1.name.replace('/','')}_w=4.csv\"\n",
    "    dtw_distance_matrix.to_csv(same/filename)"
   ]
  },
  {
   "cell_type": "code",
   "execution_count": null,
   "id": "ee9bbb52-5577-4839-8887-789e4730dd8a",
   "metadata": {},
   "outputs": [],
   "source": [
    "same = Path('different_profiles')\n",
    "same.mkdir(exist_ok = True)\n",
    "random_generator = default_rng(12333)\n",
    "for i in range(10): \n",
    "    sample = public_data_df.sample(2, random_state = random_generator.integers(0,10000000))\n",
    "    profile1 = sample.iloc[0]\n",
    "    profile2 = sample.iloc[1]\n",
    "    daily_df1 = series_to_daily_dataframe(profile1)\n",
    "    daily_df2 = series_to_daily_dataframe(profile2)\n",
    "    dtw_distance_matrix = get_DTW_distance_matrix(daily_df1, daily_df2, window = 4)\n",
    "    filename = f\"DTW_distance_matrix_{profile1.name.replace('/','')}_{profile2.name.replace('/','')}_w=4.csv\"\n",
    "    dtw_distance_matrix.to_csv(same/filename)"
   ]
  },
  {
   "cell_type": "code",
   "execution_count": null,
   "id": "2c6f79c7-e704-471b-91f6-14b242670c96",
   "metadata": {},
   "outputs": [],
   "source": [
    "dtw_distance_matrix"
   ]
  },
  {
   "cell_type": "code",
   "execution_count": null,
   "id": "3ab3e51b-7259-47a1-9c95-5d2eeaee92a1",
   "metadata": {},
   "outputs": [],
   "source": []
  }
 ],
 "metadata": {
  "kernelspec": {
   "display_name": "energyville",
   "language": "python",
   "name": "energyville"
  },
  "language_info": {
   "codemirror_mode": {
    "name": "ipython",
    "version": 3
   },
   "file_extension": ".py",
   "mimetype": "text/x-python",
   "name": "python",
   "nbconvert_exporter": "python",
   "pygments_lexer": "ipython3",
   "version": "3.8.10"
  }
 },
 "nbformat": 4,
 "nbformat_minor": 5
}
