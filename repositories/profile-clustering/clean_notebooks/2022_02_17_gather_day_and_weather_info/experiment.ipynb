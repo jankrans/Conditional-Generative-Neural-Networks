{
 "cells": [
  {
   "cell_type": "markdown",
   "id": "c64405d9-cbe6-42f9-9b25-d06a54217433",
   "metadata": {},
   "source": [
    "## Goal is to gather the day and weather info "
   ]
  },
  {
   "cell_type": "code",
   "execution_count": null,
   "id": "055a36bb-7e41-4307-a307-fd3e88559cc4",
   "metadata": {},
   "outputs": [],
   "source": [
    "'qwerqwer'.lower()"
   ]
  },
  {
   "cell_type": "code",
   "execution_count": null,
   "id": "a4d2fec0-13bf-44a9-9d1c-0f60f6c68268",
   "metadata": {},
   "outputs": [],
   "source": [
    "%load_ext autoreload\n",
    "%autoreload 2\n"
   ]
  },
  {
   "cell_type": "markdown",
   "id": "dc7bcbfc-8583-4179-b5f8-1bd85b4231ea",
   "metadata": {},
   "source": [
    "# Day info "
   ]
  },
  {
   "cell_type": "code",
   "execution_count": null,
   "id": "cba574ff-6e5b-41f9-a64a-9641ea567dde",
   "metadata": {},
   "outputs": [],
   "source": [
    "from energyclustering.data.fluvius.data import read_data_pickle\n",
    "import pandas as pd"
   ]
  },
  {
   "cell_type": "code",
   "execution_count": null,
   "id": "efe694da-88c3-46a8-b375-dc1431ab2819",
   "metadata": {},
   "outputs": [],
   "source": [
    "info_df, data_df = read_data_pickle()"
   ]
  },
  {
   "cell_type": "code",
   "execution_count": null,
   "id": "f355c2b8-4ca1-44a6-9ef6-b26fca5e3dc8",
   "metadata": {},
   "outputs": [],
   "source": [
    "years = data_df.index.get_level_values('year').unique()\n",
    "years"
   ]
  },
  {
   "cell_type": "markdown",
   "id": "f03b5506-cc8b-43ad-9178-fc1a06fdae53",
   "metadata": {},
   "source": [
    "### All the days"
   ]
  },
  {
   "cell_type": "code",
   "execution_count": null,
   "id": "71625f75-cc24-49ea-bd9c-21fb6b18ffd2",
   "metadata": {},
   "outputs": [],
   "source": [
    "first_year, last_year = years.min(), years.max()\n",
    "all_days = pd.date_range(f\"1/1/{first_year}\", f\"31/12/{last_year}\", freq = '1D')\n",
    "all_days"
   ]
  },
  {
   "cell_type": "code",
   "execution_count": null,
   "id": "4011dd24-73f4-4e7e-8fe2-4f197570ed7b",
   "metadata": {},
   "outputs": [],
   "source": [
    "day_df = pd.DataFrame(index = all_days)\n",
    "day_df"
   ]
  },
  {
   "cell_type": "markdown",
   "id": "5de11956-0a55-4baf-a064-143b71ec197c",
   "metadata": {},
   "source": [
    "### Standard date information"
   ]
  },
  {
   "cell_type": "code",
   "execution_count": null,
   "id": "1e53cf68-400d-48f8-ba8c-fc67aee4d6a8",
   "metadata": {},
   "outputs": [],
   "source": [
    "day_df = day_df.assign(\n",
    "    day = lambda x: x.index.day, \n",
    "    month = lambda x: x.index.month, \n",
    "    year = lambda x: x.index.year, \n",
    "    day_of_week = lambda x: x.index.weekday,\n",
    "    is_weekend = lambda x: x.index.day_of_week >=5,\n",
    "    iso_day = lambda x: x.index.day_of_year,\n",
    ")\n",
    "day_df.head()"
   ]
  },
  {
   "cell_type": "markdown",
   "id": "c0022d81-58f7-49df-986b-75b80b375cfa",
   "metadata": {},
   "source": [
    "### Season information"
   ]
  },
  {
   "cell_type": "code",
   "execution_count": null,
   "id": "e57cb505-e1fb-42b3-8f83-94feead18406",
   "metadata": {},
   "outputs": [],
   "source": [
    "def season_from_date(date): \n",
    "    month = date.month\n",
    "    if 3 <= month <= 5: \n",
    "        return 'spring'\n",
    "    elif 6<= month <=8: \n",
    "        return 'summer'\n",
    "    elif 9<=month <= 11: \n",
    "        return 'autumn'\n",
    "    return 'winter'\n",
    "\n",
    "day_df['season'] = day_df.index.map(season_from_date)\n",
    "day_df.head()"
   ]
  },
  {
   "cell_type": "markdown",
   "id": "8d082670-bf38-450f-84e7-cd4034b4269b",
   "metadata": {},
   "source": [
    "### Is holiday"
   ]
  },
  {
   "cell_type": "code",
   "execution_count": null,
   "id": "30aaff57-0f94-45f2-bed2-0db6bbe5f057",
   "metadata": {},
   "outputs": [],
   "source": [
    "import holidays\n",
    "belgium_holidays = holidays.BE()\n",
    "day_df['is_holiday'] = all_days.map(lambda date: date in belgium_holidays)\n",
    "day_df.head()"
   ]
  },
  {
   "cell_type": "markdown",
   "id": "af97c940-e258-4281-b024-2f1c732344a3",
   "metadata": {},
   "source": [
    "# World Weather Online"
   ]
  },
  {
   "cell_type": "code",
   "execution_count": null,
   "id": "16307568-f299-4f9d-905d-b39d2048acf3",
   "metadata": {},
   "outputs": [],
   "source": [
    "weather_df = pd.DataFrame(index = all_days)\n",
    "weather_df"
   ]
  },
  {
   "cell_type": "code",
   "execution_count": null,
   "id": "9183d9b3-8e01-4d55-80f0-5e16dd4e85c9",
   "metadata": {},
   "outputs": [],
   "source": [
    "from wwo_hist import retrieve_hist_data\n",
    "from pathlib import Path"
   ]
  },
  {
   "cell_type": "code",
   "execution_count": null,
   "id": "6b466950-664d-4d7e-9d83-4911bc15a5f1",
   "metadata": {},
   "outputs": [],
   "source": [
    "def get_weather_data_for_city(city): \n",
    "    start_day = all_days.min().replace(month = 1, day = 1)\n",
    "    end_day = all_days.max()\n",
    "    \n",
    "    end_dates = pd.date_range(start_day,end_day, freq = '1M')\n",
    "    start_dates = end_dates.map(lambda x: x.replace(day = 1))\n",
    "    \n",
    "    intervals_to_get = list(zip(start_dates, end_dates))\n",
    "    API_KEY = '968285fd8d4b48feb52154524221702'\n",
    "    location_list = [city]\n",
    "    all_dfs = []\n",
    "    for start_date, end_date in intervals_to_get: \n",
    "        start_str = start_date.strftime('%Y-%m-%d')\n",
    "        end_str = end_date.strftime('%Y-%m-%d')\n",
    "        hist_weather_data = retrieve_hist_data(\n",
    "            api_key = API_KEY, \n",
    "            location_list = [city], \n",
    "            start_date = start_str, \n",
    "            end_date = end_str, \n",
    "            frequency = 24, \n",
    "            store_df = True\n",
    "        )[0]\n",
    "        all_dfs.append(hist_weather_data)\n",
    "    total_weather_data = pd.concat(all_dfs)\n",
    "    return total_weather_data\n",
    "    "
   ]
  },
  {
   "cell_type": "code",
   "execution_count": null,
   "id": "f489b055-9601-4b5d-bbb4-fcfed5546682",
   "metadata": {},
   "outputs": [],
   "source": [
    "if not Path('weather_data_brussels.pkl').exists(): \n",
    "    get_weather_data_for_city('brussels').to_pickle('weather_data_brussels.pkl')\n",
    "if not Path('weather_data_aalst.pkl').exists(): \n",
    "    get_weather_data_for_city('aalst').to_pickle('weather_data_aalst.pkl')"
   ]
  },
  {
   "cell_type": "code",
   "execution_count": null,
   "id": "921e7daa-3c89-4094-be8b-ae3f686b1ae0",
   "metadata": {},
   "outputs": [],
   "source": [
    "l = list(pd.read_pickle('weather_data_aalst.pkl').columns)\n",
    "print(', '.join(l))\n"
   ]
  }
 ],
 "metadata": {
  "kernelspec": {
   "display_name": "energyville",
   "language": "python",
   "name": "energyville"
  },
  "language_info": {
   "codemirror_mode": {
    "name": "ipython",
    "version": 3
   },
   "file_extension": ".py",
   "mimetype": "text/x-python",
   "name": "python",
   "nbconvert_exporter": "python",
   "pygments_lexer": "ipython3",
   "version": "3.10.4"
  }
 },
 "nbformat": 4,
 "nbformat_minor": 5
}
