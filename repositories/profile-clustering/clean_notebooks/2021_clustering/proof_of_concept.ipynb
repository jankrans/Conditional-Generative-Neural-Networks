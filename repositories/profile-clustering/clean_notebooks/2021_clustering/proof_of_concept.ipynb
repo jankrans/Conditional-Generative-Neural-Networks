{
 "cells": [
  {
   "cell_type": "code",
   "execution_count": null,
   "id": "7413af4f",
   "metadata": {},
   "outputs": [],
   "source": [
    "from energyclustering.data.fluvius import read_data_pickle\n",
    "import energyclustering.clustering.similarity.matching_similarity as simple_matching\n",
    "import numpy as np \n",
    "import pandas as pd \n",
    "from dask.distributed import Client\n",
    "from pathlib import Path"
   ]
  },
  {
   "cell_type": "code",
   "execution_count": null,
   "id": "d1dff9cc",
   "metadata": {},
   "outputs": [],
   "source": [
    "%load_ext autoreload\n",
    "%autoreload 2\n",
    "PRE_PATH = Path('/cw/dtaiproj/ml/2020-FLAIR-VITO/profile-clustering/distance_matrix2')"
   ]
  },
  {
   "cell_type": "code",
   "execution_count": null,
   "id": "d9842cd2",
   "metadata": {},
   "outputs": [],
   "source": [
    "info_df, data_df = read_data_pickle()\n",
    "data_df = data_df.sort_index(ascending = False)\n",
    "data_df = data_df.groupby('meterID').head(1)\n",
    "data_df"
   ]
  },
  {
   "cell_type": "code",
   "execution_count": null,
   "id": "0071a413",
   "metadata": {},
   "outputs": [],
   "source": [
    "(2200 * 2119)/2/100"
   ]
  },
  {
   "cell_type": "code",
   "execution_count": null,
   "id": "1e3f21aa",
   "metadata": {},
   "outputs": [],
   "source": [
    "data_subset_df = data_df.head(100)"
   ]
  },
  {
   "cell_type": "code",
   "execution_count": null,
   "id": "78b05275",
   "metadata": {},
   "outputs": [],
   "source": [
    "data_subset_df.to_pickle(PRE_PATH/'data.pkl')\n",
    "info_df.loc[data_subset_df.index].to_pickle(PRE_PATH/'info.pkl')"
   ]
  },
  {
   "cell_type": "code",
   "execution_count": null,
   "id": "106a7767",
   "metadata": {},
   "outputs": [],
   "source": [
    "%%time\n",
    "with Client('himec07.cs.kuleuven.be:8786') as client: \n",
    "    client.restart()\n",
    "    dist_df = simple_matching.distance_matrix_smart(data_subset_df, client, window = 4, total_blocks = 2000)"
   ]
  },
  {
   "cell_type": "code",
   "execution_count": null,
   "id": "7783e3ad",
   "metadata": {},
   "outputs": [],
   "source": [
    "distance_df = pd.DataFrame(dist_df, index = data_subset_df.index, columns = data_subset_df.index)\n",
    "distance_df.to_pickle('full_distance_matrix.pkl')"
   ]
  },
  {
   "cell_type": "code",
   "execution_count": null,
   "id": "692987a0",
   "metadata": {},
   "outputs": [],
   "source": [
    "blocks = simple_matching.generate_blocks(10, total_blocks=25)\n",
    "blocks"
   ]
  },
  {
   "cell_type": "code",
   "execution_count": null,
   "id": "70cd2515",
   "metadata": {},
   "outputs": [],
   "source": [
    "40.9/100 *(2200 * 2200)/60/60"
   ]
  },
  {
   "cell_type": "code",
   "execution_count": null,
   "id": "975a9738",
   "metadata": {},
   "outputs": [],
   "source": [
    "np.array(simple_matching.linear_sum_timings).mean()"
   ]
  },
  {
   "cell_type": "code",
   "execution_count": null,
   "id": "9a7025c5",
   "metadata": {},
   "outputs": [],
   "source": [
    "mean_execution_time = (48)/45\n",
    "mean_execution_time"
   ]
  },
  {
   "cell_type": "code",
   "execution_count": null,
   "id": "ee74bfe9",
   "metadata": {},
   "outputs": [],
   "source": [
    "nb_of_distances = (data_df.shape[0]*(data_df.shape[0]-1))/2\n",
    "nb_of_distances"
   ]
  },
  {
   "cell_type": "code",
   "execution_count": null,
   "id": "9b9ca6ac",
   "metadata": {},
   "outputs": [],
   "source": [
    "(nb_of_distances*mean_execution_time)/60/60"
   ]
  },
  {
   "cell_type": "code",
   "execution_count": null,
   "id": "e829e13b",
   "metadata": {},
   "outputs": [],
   "source": []
  }
 ],
 "metadata": {
  "kernelspec": {
   "display_name": "Python 3",
   "language": "python",
   "name": "python3"
  },
  "language_info": {
   "codemirror_mode": {
    "name": "ipython",
    "version": 3
   },
   "file_extension": ".py",
   "mimetype": "text/x-python",
   "name": "python",
   "nbconvert_exporter": "python",
   "pygments_lexer": "ipython3",
   "version": "3.8.6"
  }
 },
 "nbformat": 4,
 "nbformat_minor": 5
}
