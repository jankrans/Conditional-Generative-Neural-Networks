{
 "cells": [
  {
   "cell_type": "markdown",
   "id": "40963e3a-72bd-4682-9aad-f5d9cb8fff41",
   "metadata": {},
   "source": [
    "# Some dataset statistics "
   ]
  },
  {
   "cell_type": "code",
   "execution_count": null,
   "id": "94dccdd4-9b2a-49e0-bfd5-99ec7113fbda",
   "metadata": {},
   "outputs": [],
   "source": [
    "# standard imports\n",
    "import numpy as np \n",
    "import pandas as pd\n",
    "import altair as alt\n",
    "from pathlib import Path\n",
    "import itertools\n",
    "\n",
    "# loading the data \n",
    "from energyclustering.sampling.preprocessing import DataPreprocessor\n"
   ]
  },
  {
   "cell_type": "code",
   "execution_count": null,
   "id": "58f7a327-c04c-4f60-8231-142333eb55ad",
   "metadata": {},
   "outputs": [],
   "source": [
    "def big_chart(chart, fontsize = 20): \n",
    "    return chart.configure_axis(\n",
    "            grid = False, \n",
    "        labelFontSize = fontsize,\n",
    "        titleFontSize = fontsize, \n",
    "            # offset = 5, \n",
    "    ).configure_title(\n",
    "        fontSize = fontsize\n",
    "        ).configure_legend(\n",
    "    titleFontSize=fontsize,\n",
    "    labelFontSize=fontsize\n",
    "    ).configure_view(\n",
    "        strokeWidth=0\n",
    ")"
   ]
  },
  {
   "cell_type": "markdown",
   "id": "fbd002d6-fe40-4496-be32-23c02077d0fc",
   "metadata": {},
   "source": [
    "# The dataset"
   ]
  },
  {
   "cell_type": "code",
   "execution_count": null,
   "id": "28f21768-8791-40a4-a2a7-7777df3de9a9",
   "metadata": {},
   "outputs": [],
   "source": [
    "daily_data_df, data_df, daily_info_df, weather_df = (\n",
    "    DataPreprocessor()\n",
    "    .preprocess_info_df('baseline')\n",
    "    .preprocess_weather_df('baseline')\n",
    "    .drop_days_with_nan(True)\n",
    "    .subsample_days(week_reduction_factor = None)\n",
    "    # for testing only!\n",
    "    # .subsample_years(1000)\n",
    "    .get_data()\n",
    ")\n",
    "daily_data_df.shape"
   ]
  },
  {
   "cell_type": "markdown",
   "id": "fc91c352-4f3a-4434-91c6-686719dd40d6",
   "metadata": {},
   "source": [
    "# Number of years"
   ]
  },
  {
   "cell_type": "code",
   "execution_count": null,
   "id": "23e3d985-d4ff-4c7a-92dc-a5eeffd081dc",
   "metadata": {},
   "outputs": [],
   "source": [
    "print(f\"There are {data_df.shape[0]} years \")"
   ]
  },
  {
   "cell_type": "markdown",
   "id": "e9014c13-12ed-4d85-b4d0-fa071a058e01",
   "metadata": {},
   "source": [
    "# Distribution of years "
   ]
  },
  {
   "cell_type": "code",
   "execution_count": null,
   "id": "9c2184f4-5309-472c-89c1-d2b0735f393f",
   "metadata": {},
   "outputs": [],
   "source": [
    "all_years = pd.Series(list(map(lambda x: x.split(',')[1][:-1], daily_info_df.index.get_level_values(0).unique()))).value_counts().to_frame('count').rename_axis('year', axis = 0).reset_index()\n",
    "all_years;"
   ]
  },
  {
   "cell_type": "code",
   "execution_count": null,
   "id": "43f76464-0990-48ea-b95e-a23d5e05176a",
   "metadata": {},
   "outputs": [],
   "source": [
    "big_chart(alt.Chart(all_years, width = 500).mark_bar().encode(\n",
    "    x = alt.X('year', title = 'Year'), \n",
    "    y = alt.Y('count', title = '#Time Series'),\n",
    "))"
   ]
  },
  {
   "cell_type": "markdown",
   "id": "6ef904d9-881a-4fb0-9a9b-1bd9fff51091",
   "metadata": {},
   "source": [
    "# Number of years per profile"
   ]
  },
  {
   "cell_type": "code",
   "execution_count": null,
   "id": "dd46456e-895d-4000-afb7-c684ca98cb6e",
   "metadata": {},
   "outputs": [],
   "source": [
    "years = list(map(lambda x: x.split(',')[1][:-1], daily_info_df.index.get_level_values(0)))\n",
    "meterID = list(map(lambda x: x.split(',')[0][2:-1], daily_info_df.index.get_level_values(0)))\n",
    "df = pd.DataFrame(columns = ['year', 'meterID']).assign(year = years, meterID = meterID)\n",
    "nb_of_years_per_profile = df.drop_duplicates().groupby('meterID').count().value_counts()\n",
    "nb_of_years_per_profile"
   ]
  },
  {
   "cell_type": "code",
   "execution_count": null,
   "id": "d3f0c000-4a90-4968-aa47-d6d8cf622708",
   "metadata": {},
   "outputs": [],
   "source": [
    "print(f\"There are {np.unique(meterID).shape[0]} unique measured consumers\")"
   ]
  },
  {
   "cell_type": "code",
   "execution_count": null,
   "id": "700d26c0-e40f-4ea8-9d4b-5ecadf2ad253",
   "metadata": {},
   "outputs": [],
   "source": [
    "meterID"
   ]
  },
  {
   "cell_type": "markdown",
   "id": "ae8d31fd-8fbf-4331-a1a1-d3623b5fd51d",
   "metadata": {},
   "source": [
    "# available metadata"
   ]
  },
  {
   "cell_type": "code",
   "execution_count": null,
   "id": "22502dbb-a060-496e-90b5-aeb017d3681c",
   "metadata": {},
   "outputs": [],
   "source": [
    "daily_info_df.loc[:, 'household_info']"
   ]
  },
  {
   "cell_type": "code",
   "execution_count": null,
   "id": "847497cf-ae56-4aa2-8394-a03bfbf442cc",
   "metadata": {},
   "outputs": [],
   "source": [
    "print((\", \".join(daily_info_df.loc[:, 'day_info'].columns)).replace('_', '\\_'))"
   ]
  },
  {
   "cell_type": "markdown",
   "id": "b0060863-63db-4dcd-bf23-3c5e15fbf655",
   "metadata": {},
   "source": [
    "# Percentage of missing data"
   ]
  },
  {
   "cell_type": "code",
   "execution_count": null,
   "id": "9c85639d-1481-412d-a917-809b82962de8",
   "metadata": {},
   "outputs": [],
   "source": [
    "number = data_df.drop(columns = '2016-02-29').isna().mean().mean()\n",
    "print(f\"{number:.2%} of the load measurements are missing\")"
   ]
  },
  {
   "cell_type": "code",
   "execution_count": null,
   "id": "bb88d3ae-9437-461e-b12d-75e8dbfac176",
   "metadata": {},
   "outputs": [],
   "source": [
    "(data_df.drop(columns = '2016-02-29').isna().mean(axis = 1) < 0.004).mean()"
   ]
  },
  {
   "cell_type": "code",
   "execution_count": null,
   "id": "724f452c-eee0-45ef-9156-f288765ac320",
   "metadata": {},
   "outputs": [],
   "source": []
  }
 ],
 "metadata": {
  "kernelspec": {
   "display_name": "energyville",
   "language": "python",
   "name": "energyville"
  },
  "language_info": {
   "codemirror_mode": {
    "name": "ipython",
    "version": 3
   },
   "file_extension": ".py",
   "mimetype": "text/x-python",
   "name": "python",
   "nbconvert_exporter": "python",
   "pygments_lexer": "ipython3",
   "version": "3.10.4"
  }
 },
 "nbformat": 4,
 "nbformat_minor": 5
}
