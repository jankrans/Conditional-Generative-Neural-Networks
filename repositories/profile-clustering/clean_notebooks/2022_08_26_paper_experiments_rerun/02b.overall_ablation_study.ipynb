{
 "cells": [
  {
   "cell_type": "markdown",
   "id": "e4abe87b-8e9f-4239-b377-029d9dafb5c2",
   "metadata": {},
   "source": [
    "# Overall ablation study "
   ]
  },
  {
   "cell_type": "markdown",
   "id": "8a53170e-f683-403b-8e9e-e33cacd625c3",
   "metadata": {},
   "source": [
    "### Imports"
   ]
  },
  {
   "cell_type": "code",
   "execution_count": null,
   "id": "f305dcbf-4c66-429d-b3a2-7a40c356d3f9",
   "metadata": {},
   "outputs": [],
   "source": [
    "# standard imports\n",
    "import numpy as np \n",
    "import pandas as pd\n",
    "import altair as alt\n",
    "from pathlib import Path\n",
    "import itertools\n",
    "\n",
    "# loading the data \n",
    "from energyclustering.sampling.preprocessing import DataPreprocessor\n",
    "\n",
    "# preprocessing the yearly info \n",
    "from energyclustering.sampling.preprocessing.info import YearlyInfoPreprocessor\n",
    "\n",
    "# executing the results in parallell \n",
    "from dask.distributed import Client\n",
    "\n",
    "# sampling models \n",
    "from energyclustering.sampling.day_of_year_samplers import RandomBaselineSampler # random day selection baseline\n",
    "from energyclustering.sampling.day_of_year_samplers import DailySamplerFromClusterSampler # to combine daily and yearly sampler\n",
    "from energyclustering.sampling.day_of_year_samplers import GenerateSampleDecorator\n",
    "from energyclustering.sampling.day_of_year_samplers import EnergyFilterFromRandomYearSampler # to use energyfilter from a random year\n",
    "from energyclustering.sampling.samplers import RandomSamplerBaseline\n",
    "from energyclustering.sampling.samplers import EnergyvilleDaySelectionBaseline\n",
    "from energyclustering.sampling.samplers import MetadataSampler\n",
    "from energyclustering.sampling.samplers import ConsumptionDataSampler\n",
    "\n",
    "\n",
    "# elbow method to use for clustering \n",
    "from energyclustering.clustering.elbow import ElbowMethod\n",
    "\n",
    "# clustering algorithms \n",
    "from sklearn.cluster import KMeans\n",
    "from kmedoids import KMedoids\n",
    "\n",
    "# cluster metrics \n",
    "import energyclustering.clustering.metrics as dist_metrics\n",
    "\n",
    "# classifiers \n",
    "from sklearn.ensemble import RandomForestClassifier \n",
    "\n",
    "# evaluation \n",
    "from energyclustering.sampling.evaluation import SamplerEvaluator\n",
    "\n",
    "import seaborn as sn\n"
   ]
  },
  {
   "cell_type": "code",
   "execution_count": null,
   "id": "e18d09c6-d597-405e-99df-6a2dd591cf01",
   "metadata": {},
   "outputs": [],
   "source": [
    "%load_ext autoreload\n",
    "%autoreload 2"
   ]
  },
  {
   "cell_type": "markdown",
   "id": "2f873f86-29e1-4eff-9ff9-45dc67baea44",
   "metadata": {},
   "source": [
    "# The data"
   ]
  },
  {
   "cell_type": "code",
   "execution_count": null,
   "id": "b02ce658-619a-48fb-9fb2-31b8ed62e7fe",
   "metadata": {},
   "outputs": [],
   "source": [
    "daily_data_df, data_df, daily_info_df, weather_df = (\n",
    "    DataPreprocessor()\n",
    "    .preprocess_info_df('baseline')\n",
    "    .preprocess_weather_df('baseline')\n",
    "    .drop_days_with_nan(True)\n",
    "    .subsample_days(week_reduction_factor = None)\n",
    "    # for testing only!\n",
    "    .subsample_years(1000)\n",
    "    .get_data()\n",
    ")\n",
    "daily_data_df.shape"
   ]
  },
  {
   "cell_type": "code",
   "execution_count": null,
   "id": "14d4b5ed-a08a-4d97-8ef9-9d93401c0a5c",
   "metadata": {},
   "outputs": [],
   "source": [
    "# generate folds for cross validation \n",
    "generator = np.random.default_rng(1)\n",
    "shuffled = data_df.index.to_numpy(copy=True)\n",
    "generator.shuffle(shuffled)\n",
    "folds = np.array_split(shuffled, 3)"
   ]
  },
  {
   "cell_type": "markdown",
   "id": "c3031f2c-7856-437a-9c4b-0f10ea96b8c4",
   "metadata": {},
   "source": [
    "# Load the results"
   ]
  },
  {
   "cell_type": "code",
   "execution_count": null,
   "id": "c3ee5f85-37ac-4327-b404-c67943b7cc79",
   "metadata": {},
   "outputs": [],
   "source": [
    "result_path = Path()/'results/ablation'\n",
    "series = []\n",
    "for file in result_path.glob('*.pkl'): \n",
    "    energy_score_series = pd.read_pickle(file).rename(file.stem)\n",
    "    series.append(energy_score_series)\n",
    "energy_scores = pd.concat(series, axis = 1)\n"
   ]
  },
  {
   "cell_type": "code",
   "execution_count": null,
   "id": "0d77d179-4fe3-46ce-bea7-438e29e4ea94",
   "metadata": {},
   "outputs": [],
   "source": [
    "energy_scores"
   ]
  },
  {
   "cell_type": "code",
   "execution_count": null,
   "id": "1b770ad2-91a1-4c56-881d-bcf612670373",
   "metadata": {},
   "outputs": [],
   "source": [
    "energy_scores.mean(axis = 0).to_frame('average ES')"
   ]
  },
  {
   "cell_type": "code",
   "execution_count": null,
   "id": "9e8820ea-4e95-4604-af77-a516e4df1fd2",
   "metadata": {},
   "outputs": [],
   "source": [
    "consumption_columns = [column for column in energy_scores.columns if 'd=similar' in column]\n",
    "new_column_names = [column.split(',')[0] for column in consumption_columns]\n",
    "plot_df = energy_scores.loc[:, consumption_columns].set_axis(new_column_names, axis = 1)\n",
    "plot_df\n",
    "                    "
   ]
  },
  {
   "cell_type": "markdown",
   "id": "d8894774-be83-4509-b5a2-9a07cb9c9a82",
   "metadata": {},
   "source": [
    "# Plot paired plots "
   ]
  },
  {
   "cell_type": "code",
   "execution_count": null,
   "id": "776ba30b-61e2-4b8e-a7d6-5b212cd5c6d5",
   "metadata": {},
   "outputs": [],
   "source": [
    "def plot_scatter_comparison(x, y, bins = 50, log_scale = True): \n",
    "    g = sn.histplot(data = energy_scores, x = x, y = y, bins = bins, log_scale = log_scale)\n",
    "    g.plot([0,1], [0, 1], 'orange', transform = g.transAxes)\n",
    "    g.set_xlim(0.1, 100)\n",
    "    g.set_ylim(0.1, 100)\n",
    "    g.set_aspect('equal', 'box')"
   ]
  },
  {
   "cell_type": "code",
   "execution_count": null,
   "id": "8d22c291-1d5a-4833-bed5-060f6950a3ef",
   "metadata": {},
   "outputs": [],
   "source": [
    "plot_scatter_comparison(x = 'y=consumption_clustering, d=consumption_clustering', y = 'y=random, d=random')"
   ]
  },
  {
   "cell_type": "code",
   "execution_count": null,
   "id": "310ccbd3-e754-4105-bb99-f92211b3b648",
   "metadata": {},
   "outputs": [],
   "source": [
    "plot_scatter_comparison(x = 'y=metadata_clustering, d=similar_day', y = 'y=random, d=random')"
   ]
  },
  {
   "cell_type": "code",
   "execution_count": null,
   "id": "ac46e234-1501-4dad-861e-e466d90403fe",
   "metadata": {},
   "outputs": [],
   "source": [
    "plot_scatter_comparison(x = 'y=consumption_clustering, d=consumption_clustering', y = 'y=metadata_clustering, d=similar_day')"
   ]
  },
  {
   "cell_type": "code",
   "execution_count": null,
   "id": "fb4cd200-3108-4628-b7f0-9863028b629c",
   "metadata": {},
   "outputs": [],
   "source": [
    "energy_scores.rank(axis = 1).mean(axis = 0).to_frame('average rank').sort_values('average rank')"
   ]
  },
  {
   "cell_type": "markdown",
   "id": "41551194-b044-429b-8d2d-80124b85eda0",
   "metadata": {},
   "source": [
    "# Check the variance between folds"
   ]
  },
  {
   "cell_type": "code",
   "execution_count": null,
   "id": "37ad0383-080d-4b27-a59b-4c200da70829",
   "metadata": {},
   "outputs": [],
   "source": [
    "energy_scores"
   ]
  },
  {
   "cell_type": "code",
   "execution_count": null,
   "id": "fb135210-e0ed-4ffe-a873-ca46f742dd22",
   "metadata": {},
   "outputs": [],
   "source": [
    "mean_es_per_fold = []\n",
    "for fold in folds: \n",
    "    mean_es_per_fold.append(energy_scores.loc[fold].mean(axis = 0))\n",
    "mean_es_per_fold = pd.concat(mean_es_per_fold, axis = 1, keys = [f\"fold{i}\" for i in range(3)])\n",
    "mean_es_per_fold.rank(axis = 0)"
   ]
  },
  {
   "cell_type": "code",
   "execution_count": null,
   "id": "69d1d9dd-f443-4593-bb5f-7c8c3d36150a",
   "metadata": {},
   "outputs": [],
   "source": []
  }
 ],
 "metadata": {
  "kernelspec": {
   "display_name": "energyville",
   "language": "python",
   "name": "energyville"
  },
  "language_info": {
   "codemirror_mode": {
    "name": "ipython",
    "version": 3
   },
   "file_extension": ".py",
   "mimetype": "text/x-python",
   "name": "python",
   "nbconvert_exporter": "python",
   "pygments_lexer": "ipython3",
   "version": "3.10.4"
  }
 },
 "nbformat": 4,
 "nbformat_minor": 5
}
