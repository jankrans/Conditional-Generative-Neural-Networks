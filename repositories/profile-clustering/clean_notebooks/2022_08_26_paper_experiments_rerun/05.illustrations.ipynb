{
 "cells": [
  {
   "cell_type": "markdown",
   "id": "23d678dd-e8e3-45da-805c-1be353c6b627",
   "metadata": {},
   "source": [
    "# Illustration of load profile vs actual load timeseries"
   ]
  },
  {
   "cell_type": "code",
   "execution_count": null,
   "id": "1756ff3d-7bdc-45e0-a961-ae1b826a0a98",
   "metadata": {},
   "outputs": [],
   "source": [
    "from energyclustering.data.public.data import get_data_reading_preprocessed\n",
    "import altair as alt\n",
    "import pandas as pd\n",
    "alt.data_transformers.disable_max_rows()\n",
    "from chart_util import big_chart"
   ]
  },
  {
   "cell_type": "code",
   "execution_count": null,
   "id": "2bc031dc-8597-4486-8548-7f13d0050084",
   "metadata": {},
   "outputs": [],
   "source": [
    "data_df = get_data_reading_preprocessed()"
   ]
  },
  {
   "cell_type": "code",
   "execution_count": null,
   "id": "d793ccd8-f6b0-44ce-9b20-e6d43b50232e",
   "metadata": {},
   "outputs": [],
   "source": [
    "day_df = (\n",
    "    data_df[['Consumption']]\n",
    "    .assign(\n",
    "        day = lambda x: x.index.get_level_values(1).date,\n",
    "        time = lambda x: x.index.get_level_values(1).time,\n",
    "    )\n",
    "    .reset_index()\n",
    "    .pivot_table(index = ['iID', 'day'], columns = 'time', values = 'Consumption')\n",
    ")\n",
    "day_df"
   ]
  },
  {
   "cell_type": "code",
   "execution_count": null,
   "id": "7b533731-b0c5-4388-ba3e-817e5aad4a1e",
   "metadata": {},
   "outputs": [],
   "source": [
    "data_df "
   ]
  },
  {
   "cell_type": "code",
   "execution_count": null,
   "id": "d5cecc74-e105-4499-b6d2-cf3eb90f09ed",
   "metadata": {},
   "outputs": [],
   "source": [
    "plot_df = data_df.assign(time = lambda x: pd.to_datetime(x.index.get_level_values(1).time, format='%H:%M:%S', exact = False), date =  lambda x: pd.to_datetime(x.index.get_level_values(1).date, format = '%Y-%m-%d', exact = False))\n",
    "plot_df"
   ]
  },
  {
   "cell_type": "code",
   "execution_count": null,
   "id": "3e84f186-f968-4bf6-b6b3-f0873df18a6f",
   "metadata": {},
   "outputs": [],
   "source": [
    "def big_chart(chart, fontsize = 20): \n",
    "    return chart.configure_axis(\n",
    "            grid = False, \n",
    "        labelFontSize = 16,\n",
    "        titleFontSize = 16, \n",
    "            # offset = 5, \n",
    "    ).configure_title(\n",
    "        fontSize = 16\n",
    "        ).configure_legend(\n",
    "    titleFontSize=fontsize,\n",
    "    labelFontSize=fontsize\n",
    "    ).configure_view(\n",
    "        strokeWidth=0\n",
    ")"
   ]
  },
  {
   "cell_type": "code",
   "execution_count": null,
   "id": "e841ac1f-3831-43c2-8668-03793c8e8a5c",
   "metadata": {},
   "outputs": [],
   "source": [
    "meterIDs = data_df.index.get_level_values(0).unique()"
   ]
  },
  {
   "cell_type": "code",
   "execution_count": null,
   "id": "f2d36e07-c469-44d7-840e-12b360c8809e",
   "metadata": {},
   "outputs": [],
   "source": [
    "import numpy as np\n",
    "meters_to_use = np.random.default_rng(2).choice(meterIDs, 30)\n",
    "idx = pd.IndexSlice\n",
    "subset_df = plot_df.loc[idx[meters_to_use, '2016-06-15'], :]\n",
    "all_days1 = alt.Chart(subset_df.reset_index(), title = 'Load time series of different consumers on June 15th', height = 200).mark_line(size = 1, opacity = 0.5).encode(\n",
    "    x = alt.X('time:T', title = None,  axis=alt.Axis(format='%H:%M')),\n",
    "    y = alt.Y('Consumption', title = 'Load (in kWh)'),\n",
    "    color = alt.Color('iID:N', scale = alt.Scale(scheme = 'rainbow'), legend = None),\n",
    ").interactive(bind_x = False)\n",
    "\n",
    "average_day = subset_df.groupby('time')['Consumption'].mean().to_frame('Consumption')\n",
    "avg_chart1 = alt.Chart(average_day.reset_index(), title = 'Averaged daylong load time series of 15th June').mark_line(size = 3.5).encode(\n",
    "       x = alt.X('time:T', title = None,  axis=alt.Axis(format='%H:%M')),\n",
    "    y = alt.Y('Consumption', title = 'Load (in kWh)'),\n",
    ")\n",
    "(all_days1 | avg_chart1).resolve_scale(y = 'shared', x = 'shared')"
   ]
  },
  {
   "cell_type": "code",
   "execution_count": null,
   "id": "9a57c103-a4ba-469b-8d8f-d206a1305a55",
   "metadata": {},
   "outputs": [],
   "source": [
    "IDX = 4\n",
    "idx = pd.IndexSlice\n",
    "subset_df = plot_df.loc[idx[meterIDs[IDX], pd.to_datetime('2016-06-01'):pd.to_datetime('2016-06-30')], :]\n",
    "all_days = alt.Chart(subset_df.reset_index(), title = 'Load time series in June of a single consumer', height = 200).mark_line(size = 1, opacity = 0.5).encode(\n",
    "    x = alt.X('time:T', title = None,  axis=alt.Axis(format='%H:%M')), \n",
    "    y = alt.Y('Consumption', title = 'Load (in kWh)'),\n",
    "    color = alt.Color('date:N', scale = alt.Scale(scheme = 'rainbow'), legend = None),\n",
    ").interactive(bind_x = False)\n",
    "\n",
    "average_day = subset_df.groupby('time')['Consumption'].mean().to_frame('Consumption')\n",
    "avg_chart = alt.Chart(average_day.reset_index(), title = 'Average daylong load time series of a single consumer in June').mark_line(size = 3.5).encode(\n",
    "       x = alt.X('time:T', title = None,  axis=alt.Axis(format='%H:%M')),\n",
    "   y = alt.Y('Consumption', title = 'Load (in kWh)'),\n",
    ")\n",
    "final_chart = ((all_days + avg_chart).resolve_scale(y = 'shared') | (all_days1 + avg_chart1).resolve_scale(y = 'shared')).resolve_scale(color = 'independent', y = 'shared', x = 'shared')\n",
    "big_chart(final_chart)"
   ]
  },
  {
   "cell_type": "code",
   "execution_count": null,
   "id": "e72fc9fe-c3c5-44c6-b9ab-0fd755f2fa3f",
   "metadata": {},
   "outputs": [],
   "source": []
  },
  {
   "cell_type": "code",
   "execution_count": null,
   "id": "052771f7-e2d3-4b34-8c71-6f42f82f691d",
   "metadata": {},
   "outputs": [],
   "source": []
  },
  {
   "cell_type": "code",
   "execution_count": null,
   "id": "d7830705-27b1-4ae7-b4d5-bc2665ff622a",
   "metadata": {},
   "outputs": [],
   "source": []
  },
  {
   "cell_type": "code",
   "execution_count": null,
   "id": "b942f5b2-1e3c-4b4e-a8b9-7269a577acbf",
   "metadata": {},
   "outputs": [],
   "source": []
  }
 ],
 "metadata": {
  "kernelspec": {
   "display_name": "energyville",
   "language": "python",
   "name": "energyville"
  },
  "language_info": {
   "codemirror_mode": {
    "name": "ipython",
    "version": 3
   },
   "file_extension": ".py",
   "mimetype": "text/x-python",
   "name": "python",
   "nbconvert_exporter": "python",
   "pygments_lexer": "ipython3",
   "version": "3.10.4"
  }
 },
 "nbformat": 4,
 "nbformat_minor": 5
}
