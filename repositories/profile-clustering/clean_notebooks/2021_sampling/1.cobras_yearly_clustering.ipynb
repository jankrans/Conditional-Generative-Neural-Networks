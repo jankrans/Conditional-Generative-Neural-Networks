{
 "cells": [
  {
   "cell_type": "code",
   "execution_count": null,
   "id": "dc620651-1f95-47fa-b7da-f82836a20d73",
   "metadata": {},
   "outputs": [],
   "source": []
  },
  {
   "cell_type": "code",
   "execution_count": null,
   "id": "49dd0b89-705a-4cb2-b09d-da112201c19f",
   "metadata": {},
   "outputs": [],
   "source": [
    "from pathlib import Path\n",
    "from energyclustering.webapp.resultparser import COBRASResult, ResultInspector\n",
    "from sklearn.tree import DecisionTreeClassifier, plot_tree\n",
    "from sklearn.ensemble import RandomForestClassifier\n",
    "from sklearn.model_selection import train_test_split\n",
    "from sklearn.metrics import balanced_accuracy_score, roc_auc_score, accuracy_score, log_loss, f1_score\n",
    "from sklearn.preprocessing import OrdinalEncoder\n",
    "from energyclustering.clustering.similarity import *\n",
    "import pandas as pd\n",
    "from dask.distributed import Client\n",
    "import matplotlib.pyplot as plt\n",
    "import altair as alt\n",
    "import numpy as np\n",
    "alt.data_transformers.disable_max_rows()\n",
    "from energyclustering.sampling.sampler import Sampler\n",
    "from energyclustering.sampling.metrics import calculate_energy_score_per_day, calculate_energy_score_for_day"
   ]
  },
  {
   "cell_type": "code",
   "execution_count": null,
   "id": "d3eaa65b-532b-4919-b374-f4027209db83",
   "metadata": {},
   "outputs": [],
   "source": [
    "%load_ext autoreload\n",
    "%autoreload 2\n",
    "%matplotlib inline"
   ]
  },
  {
   "cell_type": "code",
   "execution_count": null,
   "id": "d90873e1-a05f-4fd4-94e4-92e0a01b0350",
   "metadata": {},
   "outputs": [],
   "source": [
    "WASSER = 'full_distance_matrix_wasserstein'\n",
    "directory = Path('/cw/dtaiproj/ml/2020-FLAIR-VITO/profile-clustering/distance_matrices/')\n",
    "\n",
    "assert all((directory/name).exists() for name in [WASSER])"
   ]
  },
  {
   "cell_type": "markdown",
   "id": "4c9d2e3e-b5dc-40ff-88c1-67ab7e82b469",
   "metadata": {},
   "source": [
    "# Prepare the data"
   ]
  },
  {
   "cell_type": "markdown",
   "id": "36489dee-e834-4a6c-911e-6ca678129cc7",
   "metadata": {},
   "source": [
    "## The COBRAS result"
   ]
  },
  {
   "cell_type": "code",
   "execution_count": null,
   "id": "b7929e6d-2921-4223-ac20-71ba2b264d54",
   "metadata": {},
   "outputs": [],
   "source": [
    "cobras_result = COBRASResult('result_20211124_koen', directory/WASSER)"
   ]
  },
  {
   "cell_type": "code",
   "execution_count": null,
   "id": "3fd76f7c-86f5-488e-b329-192a58d1fbe6",
   "metadata": {},
   "outputs": [],
   "source": [
    "clustering_target = cobras_result.clusterings[-1]\n",
    "print(f\"#instances={clustering_target.shape[0]}\")\n",
    "print(f\"#clusters={len(np.unique(clustering_target))}\")"
   ]
  },
  {
   "cell_type": "markdown",
   "id": "75e53204-afe8-442c-80ce-85f9ccadd3b6",
   "metadata": {},
   "source": [
    "## The info used to sample "
   ]
  },
  {
   "cell_type": "code",
   "execution_count": null,
   "id": "7ae2454f-4aad-4678-a1d3-cad38ed5c3b6",
   "metadata": {},
   "outputs": [],
   "source": [
    "data_df = cobras_result.data_df\n",
    "info_df = cobras_result.info_df"
   ]
  },
  {
   "cell_type": "code",
   "execution_count": null,
   "id": "949cf0a4-65e9-4e5e-9b4c-7918784072c4",
   "metadata": {},
   "outputs": [],
   "source": [
    "total_yearly_consumption = data_df.sum(axis = 1)\n",
    "total_yearly_consumption.head()"
   ]
  },
  {
   "cell_type": "code",
   "execution_count": null,
   "id": "f2571372-2e2f-4783-8339-c4d93ff9ce3b",
   "metadata": {},
   "outputs": [],
   "source": [
    "info_df.isna().sum(axis = 0)"
   ]
  },
  {
   "cell_type": "code",
   "execution_count": null,
   "id": "204961e1-b925-475e-bb94-52c23022f829",
   "metadata": {},
   "outputs": [],
   "source": [
    "info_subset = (\n",
    "    cobras_result.info_df\n",
    "    .assign(\n",
    "        # add yearly consumption\n",
    "        yearly_consumption = total_yearly_consumption\n",
    "    )\n",
    "    # only retain columns that will plausibly be available \n",
    "    [['#family_members', 'connection_power', 'consumer_type', 'PV', 'PV_power', 'yearly_consumption', 'heatpump']]\n",
    "    .fillna(-1) #quick fix better preprocessing later \n",
    "    \n",
    ")\n"
   ]
  },
  {
   "cell_type": "code",
   "execution_count": null,
   "id": "f129de64-dff2-4e2f-b55a-4ec8f9e31010",
   "metadata": {},
   "outputs": [],
   "source": [
    "info_subset.isna().sum(axis = 0)"
   ]
  },
  {
   "cell_type": "markdown",
   "id": "5df658ca-a6b4-415d-b44a-da46b7b4cbdf",
   "metadata": {},
   "source": [
    "## Encode the data"
   ]
  },
  {
   "cell_type": "code",
   "execution_count": null,
   "id": "4e98d123-299c-4f7b-bfed-b1879e0da255",
   "metadata": {},
   "outputs": [],
   "source": [
    "ORDINALS = ['consumer_type', 'PV', 'PV_power', 'heatpump']\n",
    "\n",
    "info_subset[ORDINALS] = OrdinalEncoder().fit_transform(info_subset[ORDINALS].astype('str'))\n",
    "household_info = info_subset.to_numpy()\n",
    "consumption_data = data_df.fillna(0)\n",
    "y = clustering_target"
   ]
  },
  {
   "cell_type": "markdown",
   "id": "ec7da18f-e91f-4df4-8e2e-f48dc1acf502",
   "metadata": {},
   "source": [
    "### Training test split"
   ]
  },
  {
   "cell_type": "code",
   "execution_count": null,
   "id": "06db8d1d-796b-49d5-ae9f-896f92f10f52",
   "metadata": {},
   "outputs": [],
   "source": [
    "\n",
    "from sklearn.model_selection import train_test_split"
   ]
  },
  {
   "cell_type": "code",
   "execution_count": null,
   "id": "8f41d1a0-f38b-4741-95f7-39078646f378",
   "metadata": {},
   "outputs": [],
   "source": [
    "household_info_train, household_info_test, consumption_data_train, consumption_data_test, clustering_train, clustering_test = train_test_split(household_info, consumption_data, y.astype('int'), train_size = 0.7, random_state = 123123)"
   ]
  },
  {
   "cell_type": "markdown",
   "id": "aabb7f10-bc44-4862-8f2c-07fcd81b4970",
   "metadata": {},
   "source": [
    "## Decision Tree"
   ]
  },
  {
   "cell_type": "code",
   "execution_count": null,
   "id": "05dcbd18-b37a-4c2f-88ac-7e510c9b0822",
   "metadata": {},
   "outputs": [],
   "source": [
    "\n",
    "sampler = Sampler( DecisionTreeClassifier(max_depth = 5, ccp_alpha = 0.005))\n",
    "sampler.fit(household_info_train, consumption_data_train, clustering_train)"
   ]
  },
  {
   "cell_type": "markdown",
   "id": "cce45fd6-d599-4c57-993f-1332ada7282c",
   "metadata": {},
   "source": [
    "### Evaluate"
   ]
  },
  {
   "cell_type": "code",
   "execution_count": null,
   "id": "9432b46b-d61d-4288-80d5-3652522b4b40",
   "metadata": {},
   "outputs": [],
   "source": [
    "# samples_to_use = [0,1,2,3,4,5]\n",
    "# consumption_data_test = consumption_data_test.iloc[samples_to_use]\n",
    "# household_info_test = household_info_test[samples_to_use]\n",
    "# clustering_test = clustering_test[samples_to_use]\n",
    "uniform_sample_probs = np.full((consumption_data_test.shape[0], consumption_data_train.shape[0]), 1/consumption_data_train.shape[0])\n",
    "different_evaluations = dict(\n",
    "    based_on_clustering_prob = lambda client : sampler.evaluate_sampling(household_info_test, consumption_data_test, client), \n",
    "    random = lambda client: calculate_energy_score_per_day(uniform_sample_probs, consumption_data_train, consumption_data_test, client),\n",
    "    based_on_clustering_det = lambda client: sampler.evaluate_deterministic_sampling(household_info_test, consumption_data_test, client), \n",
    "    based_on_truth_clustering_det = lambda client: sampler.evaluate_deterministic_sampling_w_ground_truth(clustering_test, consumption_data_test, client)\n",
    ")"
   ]
  },
  {
   "cell_type": "code",
   "execution_count": null,
   "id": "220936da-08ee-4d63-835c-0e16582fcde6",
   "metadata": {},
   "outputs": [],
   "source": [
    "sampler.classifier.predict(household_info_test)"
   ]
  },
  {
   "cell_type": "code",
   "execution_count": null,
   "id": "b40f434f-dfce-4f28-bfcc-74a9d27003fa",
   "metadata": {},
   "outputs": [],
   "source": [
    "clustering_test"
   ]
  },
  {
   "cell_type": "code",
   "execution_count": null,
   "id": "55baba4a-ca65-41c1-9414-5bbab04c1070",
   "metadata": {},
   "outputs": [],
   "source": [
    "np.sum(np.ones(3), axis = None)"
   ]
  },
  {
   "cell_type": "code",
   "execution_count": null,
   "id": "6616a5dc-14ae-429e-8edc-1758090c414f",
   "metadata": {},
   "outputs": [],
   "source": [
    "%%time\n",
    "from tqdm.notebook import tqdm\n",
    "from dask.distributed import Client\n",
    "with Client('pinac31.cs.kuleuven.be:8786') as client:\n",
    "    client.restart()\n",
    "    for name, f in tqdm(different_evaluations.items(), total = len(different_evaluations)): \n",
    "        if Path(f\"{name}.pkl\").exists():\n",
    "            continue\n",
    "        df = f(client)\n",
    "        df.to_pickle(f\"{name}.pkl\")"
   ]
  },
  {
   "cell_type": "code",
   "execution_count": null,
   "id": "cd98bc8d-97c0-45c0-83a7-a8bf0e1fc2f2",
   "metadata": {},
   "outputs": [],
   "source": [
    "result_series = pd.Series()\n",
    "for name in different_evaluations.keys():\n",
    "    df = pd.read_pickle(f\"{name}.pkl\")\n",
    "    result_series.loc[name] = df.mean().mean()"
   ]
  },
  {
   "cell_type": "code",
   "execution_count": null,
   "id": "e2a25890-3532-4c83-b8f4-da8752e58014",
   "metadata": {},
   "outputs": [],
   "source": [
    "result_series.to_frame('daily energy score')"
   ]
  },
  {
   "cell_type": "code",
   "execution_count": null,
   "id": "76fe9283-55b9-46c9-ac03-7cb60bdd2453",
   "metadata": {},
   "outputs": [],
   "source": [
    "df1 = pd.read_pickle('based_on_clustering_det.pkl')\n",
    "df1"
   ]
  },
  {
   "cell_type": "code",
   "execution_count": null,
   "id": "82f08731-52e4-42a0-8d98-c2532c677818",
   "metadata": {},
   "outputs": [],
   "source": [
    "df2 = pd.read_pickle('based_on_truth_clustering_det.pkl')\n",
    "(df1 -df2).sum().sum()"
   ]
  },
  {
   "cell_type": "code",
   "execution_count": null,
   "id": "93522bd4-49a2-43ea-bdea-a9cfe662d93a",
   "metadata": {},
   "outputs": [],
   "source": [
    "df"
   ]
  },
  {
   "cell_type": "code",
   "execution_count": null,
   "id": "67c88ab0-15c6-4990-b3e0-9b6e60fce9c1",
   "metadata": {},
   "outputs": [],
   "source": [
    "energy_score_per_day"
   ]
  },
  {
   "cell_type": "code",
   "execution_count": null,
   "id": "09d524d2-b5d8-402d-bdf6-d095ca9edf41",
   "metadata": {},
   "outputs": [],
   "source": [
    "energy_score = pd.read_pickle('energy_score.pkl')\n",
    "random_energy_score = pd.read_pickle('energy_score_random.pkl')\n",
    "energy_score.index = pd.to_datetime(energy_score.index)\n",
    "random_energy_score.index = pd.to_datetime(random_energy_score.index)\n",
    "\n",
    "chart = alt.Chart(energy_score.reset_index(), width = 500).mark_bar().encode(\n",
    "    x = 'index:T', \n",
    "    y = 'energy_score:Q'\n",
    ")\n",
    "chart | chart.properties(data = random_energy_score.reset_index())"
   ]
  },
  {
   "cell_type": "code",
   "execution_count": null,
   "id": "587eb9c8-e6e3-4e8e-9baf-4bfc658b1ca6",
   "metadata": {},
   "outputs": [],
   "source": [
    "clustering = np.array([0,0, 1, 1,1])\n",
    "predicted_probs = np.array([[0,1],[0.5,0.5]])\n",
    "Sampler._calculate_sampling_per_training_instance(predicted_probs, clustering)"
   ]
  },
  {
   "cell_type": "code",
   "execution_count": null,
   "id": "6495d931-0bdd-4aaa-b1e9-6712dc8e6b35",
   "metadata": {},
   "outputs": [],
   "source": [
    "A = np.array([[1,2,3]])\n",
    "A = A*A.T\n",
    "A"
   ]
  },
  {
   "cell_type": "code",
   "execution_count": null,
   "id": "96544ab8-1f43-4c28-a2c5-33e716d61cbf",
   "metadata": {},
   "outputs": [],
   "source": [
    "selection = [1,2]\n",
    "A[selection, selection]"
   ]
  },
  {
   "cell_type": "code",
   "execution_count": null,
   "id": "d523d4bf-8caf-48ca-90af-830625d430c6",
   "metadata": {},
   "outputs": [],
   "source": [
    "random_energy_score"
   ]
  },
  {
   "cell_type": "code",
   "execution_count": null,
   "id": "44a63180-3a54-43e4-a825-e4b93fef586d",
   "metadata": {},
   "outputs": [],
   "source": [
    "energy_score"
   ]
  },
  {
   "cell_type": "markdown",
   "id": "7ca437a3-557c-473f-8c64-fbb95b0ae1ac",
   "metadata": {},
   "source": [
    "#### Reference just sample randomly"
   ]
  },
  {
   "cell_type": "code",
   "execution_count": null,
   "id": "e6c0ebf0-bf98-4f47-af7d-c33f64ff102a",
   "metadata": {},
   "outputs": [],
   "source": [
    "from energyclustering.sampling.metrics import calculate_energy_score_per_day"
   ]
  },
  {
   "cell_type": "code",
   "execution_count": null,
   "id": "68279863-73d0-4bb7-aa99-f45f40b36e64",
   "metadata": {},
   "outputs": [],
   "source": [
    "\n",
    "    energy_score_per_day_random.to_frame('energy_score').to_pickle('energy_score_random.pkl')"
   ]
  },
  {
   "cell_type": "code",
   "execution_count": null,
   "id": "25713bf0-8f7f-4c15-808f-73cda1343d91",
   "metadata": {},
   "outputs": [],
   "source": [
    "energy_score_per_day_random"
   ]
  },
  {
   "cell_type": "code",
   "execution_count": null,
   "id": "fddb72e5-cd1f-4789-aeb8-bcd8d23ab3e8",
   "metadata": {},
   "outputs": [],
   "source": [
    "sampler.confusion_matrix()"
   ]
  },
  {
   "cell_type": "markdown",
   "id": "302ecea4-3f36-47a3-8a78-313af3fa5d2a",
   "metadata": {},
   "source": [
    "## Decision Tree"
   ]
  },
  {
   "cell_type": "code",
   "execution_count": null,
   "id": "cf41bd9e-3a28-4121-a2d1-3280660bc3b6",
   "metadata": {},
   "outputs": [],
   "source": [
    "from energyclustering.sampling.sampler import Sampler\n",
    "sampler = Sampler( RandomForestClassifier(max_depth=6, ccp_alpha = 0.003))\n",
    "sampler.fit(X,y)"
   ]
  },
  {
   "cell_type": "markdown",
   "id": "98f41952-27c8-4569-ae9f-86792057bf49",
   "metadata": {},
   "source": [
    "### Evaluate"
   ]
  },
  {
   "cell_type": "markdown",
   "id": "5a924954-2318-440e-9f96-a470fa48f77f",
   "metadata": {},
   "source": [
    "**Interpret these metrics properly**"
   ]
  },
  {
   "cell_type": "code",
   "execution_count": null,
   "id": "1b9279ce-2eb7-4b13-86f8-3edcf26cc403",
   "metadata": {},
   "outputs": [],
   "source": [
    "sampler.evaluate()"
   ]
  },
  {
   "cell_type": "code",
   "execution_count": null,
   "id": "a6ee72e5-fb3b-4c63-baf8-fbb43a45e5a2",
   "metadata": {},
   "outputs": [],
   "source": [
    "sampler.confusion_matrix()"
   ]
  },
  {
   "cell_type": "code",
   "execution_count": null,
   "id": "3acf6632-2ed0-45b7-8eff-6adc7f6674e1",
   "metadata": {},
   "outputs": [],
   "source": [
    "sampler.probabilistic_confusion_matrix()"
   ]
  },
  {
   "cell_type": "code",
   "execution_count": null,
   "id": "45cbd3e5-5094-426f-88b1-eca325b00894",
   "metadata": {},
   "outputs": [],
   "source": [
    "cluster_sizes = sampler.cluster_sizes_chart()\n",
    "cluster_sizes"
   ]
  },
  {
   "cell_type": "code",
   "execution_count": null,
   "id": "8a7c4264-eaf1-4ce3-ba21-8d6dd41d4507",
   "metadata": {},
   "outputs": [],
   "source": [
    "cluster_sizes.loc[[2,3,5]].sum()/cluster_sizes.sum()"
   ]
  },
  {
   "cell_type": "code",
   "execution_count": null,
   "id": "25afba14-6b04-497a-bf72-307553f79cee",
   "metadata": {},
   "outputs": [],
   "source": []
  }
 ],
 "metadata": {
  "kernelspec": {
   "display_name": "energyville",
   "language": "python",
   "name": "energyville"
  },
  "language_info": {
   "codemirror_mode": {
    "name": "ipython",
    "version": 3
   },
   "file_extension": ".py",
   "mimetype": "text/x-python",
   "name": "python",
   "nbconvert_exporter": "python",
   "pygments_lexer": "ipython3",
   "version": "3.8.10"
  }
 },
 "nbformat": 4,
 "nbformat_minor": 5
}
