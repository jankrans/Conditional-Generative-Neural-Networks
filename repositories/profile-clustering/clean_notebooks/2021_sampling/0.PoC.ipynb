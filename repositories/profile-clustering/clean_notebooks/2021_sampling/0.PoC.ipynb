{
 "cells": [
  {
   "cell_type": "code",
   "execution_count": null,
   "id": "dc620651-1f95-47fa-b7da-f82836a20d73",
   "metadata": {},
   "outputs": [],
   "source": []
  },
  {
   "cell_type": "code",
   "execution_count": null,
   "id": "49dd0b89-705a-4cb2-b09d-da112201c19f",
   "metadata": {},
   "outputs": [],
   "source": [
    "from pathlib import Path\n",
    "from energyclustering.webapp.resultparser import COBRASResult, ResultInspector\n",
    "from sklearn.tree import DecisionTreeClassifier, plot_tree\n",
    "from sklearn.ensemble import RandomForestClassifier\n",
    "from sklearn.model_selection import train_test_split\n",
    "from sklearn.metrics import balanced_accuracy_score, roc_auc_score, accuracy_score, log_loss, f1_score\n",
    "from sklearn.preprocessing import OrdinalEncoder\n",
    "from energyclustering.clustering.similarity import *\n",
    "import pandas as pd\n",
    "from dask.distributed import Client\n",
    "import matplotlib.pyplot as plt\n",
    "import altair as alt\n",
    "import numpy as np\n",
    "alt.data_transformers.disable_max_rows()\n"
   ]
  },
  {
   "cell_type": "code",
   "execution_count": null,
   "id": "d3eaa65b-532b-4919-b374-f4027209db83",
   "metadata": {},
   "outputs": [],
   "source": [
    "%load_ext autoreload\n",
    "%autoreload 2\n",
    "%matplotlib inline"
   ]
  },
  {
   "cell_type": "code",
   "execution_count": null,
   "id": "d90873e1-a05f-4fd4-94e4-92e0a01b0350",
   "metadata": {},
   "outputs": [],
   "source": [
    "WASSER = 'full_distance_matrix_wasserstein'\n",
    "directory = Path('/cw/dtaiproj/ml/2020-FLAIR-VITO/profile-clustering/distance_matrices/')\n",
    "\n",
    "assert all((directory/name).exists() for name in [WASSER])"
   ]
  },
  {
   "cell_type": "markdown",
   "id": "4c9d2e3e-b5dc-40ff-88c1-67ab7e82b469",
   "metadata": {},
   "source": [
    "# Prepare the data"
   ]
  },
  {
   "cell_type": "markdown",
   "id": "36489dee-e834-4a6c-911e-6ca678129cc7",
   "metadata": {},
   "source": [
    "## The COBRAS result"
   ]
  },
  {
   "cell_type": "code",
   "execution_count": null,
   "id": "b7929e6d-2921-4223-ac20-71ba2b264d54",
   "metadata": {},
   "outputs": [],
   "source": [
    "cobras_result = COBRASResult('result_20211124_koen', directory/WASSER)"
   ]
  },
  {
   "cell_type": "code",
   "execution_count": null,
   "id": "3fd76f7c-86f5-488e-b329-192a58d1fbe6",
   "metadata": {},
   "outputs": [],
   "source": [
    "clustering_target = cobras_result.clusterings[-1]\n",
    "print(f\"#instances={clustering_target.shape[0]}\")\n",
    "print(f\"#clusters={len(np.unique(clustering_target))}\")"
   ]
  },
  {
   "cell_type": "markdown",
   "id": "75e53204-afe8-442c-80ce-85f9ccadd3b6",
   "metadata": {},
   "source": [
    "## The info used to sample "
   ]
  },
  {
   "cell_type": "code",
   "execution_count": null,
   "id": "7ae2454f-4aad-4678-a1d3-cad38ed5c3b6",
   "metadata": {},
   "outputs": [],
   "source": [
    "data_df = cobras_result.data_df\n",
    "info_df = cobras_result.info_df"
   ]
  },
  {
   "cell_type": "code",
   "execution_count": null,
   "id": "949cf0a4-65e9-4e5e-9b4c-7918784072c4",
   "metadata": {},
   "outputs": [],
   "source": [
    "total_yearly_consumption = data_df.sum(axis = 1)\n",
    "total_yearly_consumption.head()"
   ]
  },
  {
   "cell_type": "code",
   "execution_count": null,
   "id": "f2571372-2e2f-4783-8339-c4d93ff9ce3b",
   "metadata": {},
   "outputs": [],
   "source": [
    "info_df.isna().sum(axis = 0)"
   ]
  },
  {
   "cell_type": "code",
   "execution_count": null,
   "id": "204961e1-b925-475e-bb94-52c23022f829",
   "metadata": {},
   "outputs": [],
   "source": [
    "info_subset = (\n",
    "    cobras_result.info_df\n",
    "    .assign(\n",
    "        # add yearly consumption\n",
    "        yearly_consumption = total_yearly_consumption\n",
    "    )\n",
    "    # only retain columns that will plausibly be available \n",
    "    [['#family_members', 'connection_power', 'consumer_type', 'PV', 'PV_power', 'yearly_consumption', 'heatpump']]\n",
    "    .fillna(-1) #quick fix better preprocessing later \n",
    "    \n",
    ")\n"
   ]
  },
  {
   "cell_type": "code",
   "execution_count": null,
   "id": "f129de64-dff2-4e2f-b55a-4ec8f9e31010",
   "metadata": {},
   "outputs": [],
   "source": [
    "info_subset.isna().sum(axis = 0)"
   ]
  },
  {
   "cell_type": "markdown",
   "id": "5df658ca-a6b4-415d-b44a-da46b7b4cbdf",
   "metadata": {},
   "source": [
    "## Encode the data"
   ]
  },
  {
   "cell_type": "code",
   "execution_count": null,
   "id": "4e98d123-299c-4f7b-bfed-b1879e0da255",
   "metadata": {},
   "outputs": [],
   "source": [
    "ORDINALS = ['consumer_type', 'PV', 'PV_power', 'heatpump']\n",
    "\n",
    "info_subset[ORDINALS] = OrdinalEncoder().fit_transform(info_subset[ORDINALS].astype('str'))\n",
    "X = info_subset.to_numpy()\n",
    "y = clustering_target"
   ]
  },
  {
   "cell_type": "markdown",
   "id": "aabb7f10-bc44-4862-8f2c-07fcd81b4970",
   "metadata": {},
   "source": [
    "## Decision Tree"
   ]
  },
  {
   "cell_type": "code",
   "execution_count": null,
   "id": "05dcbd18-b37a-4c2f-88ac-7e510c9b0822",
   "metadata": {},
   "outputs": [],
   "source": [
    "from energyclustering.sampling.sampler import Sampler\n",
    "sampler = Sampler( DecisionTreeClassifier(max_depth = 5, ccp_alpha = 0.005))\n",
    "sampler.fit(X,y)"
   ]
  },
  {
   "cell_type": "markdown",
   "id": "cce45fd6-d599-4c57-993f-1332ada7282c",
   "metadata": {},
   "source": [
    "### Evaluate"
   ]
  },
  {
   "cell_type": "markdown",
   "id": "f531cf01-f6e4-4003-8666-95c6729ab51c",
   "metadata": {},
   "source": [
    "**Interpret these metrics properly**"
   ]
  },
  {
   "cell_type": "code",
   "execution_count": null,
   "id": "6616a5dc-14ae-429e-8edc-1758090c414f",
   "metadata": {},
   "outputs": [],
   "source": [
    "sampler.evaluate()"
   ]
  },
  {
   "cell_type": "code",
   "execution_count": null,
   "id": "fddb72e5-cd1f-4789-aeb8-bcd8d23ab3e8",
   "metadata": {},
   "outputs": [],
   "source": [
    "sampler.confusion_matrix()"
   ]
  },
  {
   "cell_type": "markdown",
   "id": "302ecea4-3f36-47a3-8a78-313af3fa5d2a",
   "metadata": {},
   "source": [
    "## Decision Tree"
   ]
  },
  {
   "cell_type": "code",
   "execution_count": null,
   "id": "cf41bd9e-3a28-4121-a2d1-3280660bc3b6",
   "metadata": {},
   "outputs": [],
   "source": [
    "from energyclustering.sampling.sampler import Sampler\n",
    "sampler = Sampler( RandomForestClassifier(max_depth=6, ccp_alpha = 0.003))\n",
    "sampler.fit(X,y)"
   ]
  },
  {
   "cell_type": "markdown",
   "id": "98f41952-27c8-4569-ae9f-86792057bf49",
   "metadata": {},
   "source": [
    "### Evaluate"
   ]
  },
  {
   "cell_type": "markdown",
   "id": "5a924954-2318-440e-9f96-a470fa48f77f",
   "metadata": {},
   "source": [
    "**Interpret these metrics properly**"
   ]
  },
  {
   "cell_type": "code",
   "execution_count": null,
   "id": "1b9279ce-2eb7-4b13-86f8-3edcf26cc403",
   "metadata": {},
   "outputs": [],
   "source": [
    "sampler.evaluate()"
   ]
  },
  {
   "cell_type": "code",
   "execution_count": null,
   "id": "a6ee72e5-fb3b-4c63-baf8-fbb43a45e5a2",
   "metadata": {},
   "outputs": [],
   "source": [
    "sampler.confusion_matrix()"
   ]
  },
  {
   "cell_type": "code",
   "execution_count": null,
   "id": "3acf6632-2ed0-45b7-8eff-6adc7f6674e1",
   "metadata": {},
   "outputs": [],
   "source": [
    "sampler.probabilistic_confusion_matrix()"
   ]
  },
  {
   "cell_type": "code",
   "execution_count": null,
   "id": "45cbd3e5-5094-426f-88b1-eca325b00894",
   "metadata": {},
   "outputs": [],
   "source": [
    "cluster_sizes = sampler.cluster_sizes_chart()\n",
    "cluster_sizes"
   ]
  },
  {
   "cell_type": "code",
   "execution_count": null,
   "id": "8a7c4264-eaf1-4ce3-ba21-8d6dd41d4507",
   "metadata": {},
   "outputs": [],
   "source": [
    "cluster_sizes.loc[[2,3,5]].sum()/cluster_sizes.sum()"
   ]
  },
  {
   "cell_type": "code",
   "execution_count": null,
   "id": "25afba14-6b04-497a-bf72-307553f79cee",
   "metadata": {},
   "outputs": [],
   "source": []
  }
 ],
 "metadata": {
  "kernelspec": {
   "display_name": "energyville",
   "language": "python",
   "name": "energyville"
  },
  "language_info": {
   "codemirror_mode": {
    "name": "ipython",
    "version": 3
   },
   "file_extension": ".py",
   "mimetype": "text/x-python",
   "name": "python",
   "nbconvert_exporter": "python",
   "pygments_lexer": "ipython3",
   "version": "3.8.10"
  }
 },
 "nbformat": 4,
 "nbformat_minor": 5
}
