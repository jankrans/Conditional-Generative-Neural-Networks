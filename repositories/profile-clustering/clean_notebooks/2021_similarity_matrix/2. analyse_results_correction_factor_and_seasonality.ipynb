{
 "cells": [
  {
   "cell_type": "markdown",
   "id": "e95e46f6-f31f-44f4-881f-f9736ec173f9",
   "metadata": {},
   "source": [
    "# Analyse the difference between the different variations we have until now"
   ]
  },
  {
   "cell_type": "markdown",
   "id": "10c2982a-7e93-448b-bbff-933f4bce5fbd",
   "metadata": {},
   "source": [
    "- Simple matching \n",
    "- Simple matching when handling data issues\n",
    "- Simple matching when handling data issues with correction factor\n",
    "- Simple matching when handling data issues with correction factor and seasonality"
   ]
  },
  {
   "cell_type": "code",
   "execution_count": 1,
   "id": "bacffa78-fbe5-44bf-9260-17d24077d775",
   "metadata": {},
   "outputs": [],
   "source": [
    "from pathlib import Path\n",
    "from energyclustering.webapp.resultparser import ResultParser, ResultComparison\n",
    "import pandas as pd"
   ]
  },
  {
   "cell_type": "code",
   "execution_count": 2,
   "id": "49d843f8-e091-4309-a8d6-7e36f6eef2d3",
   "metadata": {},
   "outputs": [],
   "source": [
    "%load_ext autoreload\n",
    "%autoreload 2"
   ]
  },
  {
   "cell_type": "code",
   "execution_count": 3,
   "id": "f662a94d-fd76-4c3b-8358-0df7d7cd58b3",
   "metadata": {},
   "outputs": [],
   "source": [
    "SIMPLE = 'random_profiles_v1'\n",
    "SIMPLE_DATA = 'random_profiles_no_data_issues_v1'\n",
    "CORR = 'develop_random_profiles_correction_v1'\n",
    "SEASON = 'develop_random_profiles_seasonality_v1'\n",
    "# FULL_SEASON = 'random_profiles_seasonality_v1'\n",
    "directory = Path('/cw/dtaiproj/ml/2020-FLAIR-VITO/profile-clustering/distance_matrices/')\n",
    "assert directory.exists()\n",
    "assert (directory/SIMPLE).exists()\n",
    "assert (directory/SIMPLE_DATA).exists()\n",
    "assert (directory/CORR).exists()\n",
    "assert (directory/SEASON).exists()\n",
    "# assert (directory/FULL_SEASON).exists()\n",
    "assert all((directory/name).exists() for name in [SIMPLE, SIMPLE_DATA, CORR, SEASON])"
   ]
  },
  {
   "cell_type": "markdown",
   "id": "cd0aa643-dcfa-4238-ad30-89d900c972d1",
   "metadata": {},
   "source": [
    "# Look if the correction makes any difference"
   ]
  },
  {
   "cell_type": "code",
   "execution_count": 4,
   "id": "f02fc933-fd68-40b7-b867-f05398f0f477",
   "metadata": {},
   "outputs": [],
   "source": [
    "df1 = pd.read_pickle(directory/SIMPLE_DATA/'full_distance_matrix.pkl')\n",
    "df2 = pd.read_pickle(directory/CORR/'full_distance_matrix.pkl')\n",
    "df1 = df1.loc[df2.index, df2.columns]"
   ]
  },
  {
   "cell_type": "markdown",
   "id": "d3aefd3d-05a7-4471-a528-a26d64da1a70",
   "metadata": {},
   "source": [
    "## Relative difference"
   ]
  },
  {
   "cell_type": "markdown",
   "id": "acf73c0a-7c4d-410a-beda-7ccc2aebcfc6",
   "metadata": {},
   "source": [
    "So this does make a difference (between fraction of a procent and 5%)"
   ]
  },
  {
   "cell_type": "code",
   "execution_count": 5,
   "id": "d0ba9f12-c7e2-4436-b3da-110a9df63f20",
   "metadata": {},
   "outputs": [
    {
     "data": {
      "text/plain": [
       "<AxesSubplot:>"
      ]
     },
     "execution_count": 5,
     "metadata": {},
     "output_type": "execute_result"
    },
    {
     "data": {
      "image/png": "[encoded data removed]",
      "text/plain": [
       "<Figure size 432x288 with 1 Axes>"
      ]
     },
     "metadata": {
      "needs_background": "light"
     },
     "output_type": "display_data"
    }
   ],
   "source": [
    "rel_diff = (df1 - df2)/df1\n",
    "rel_diff.stack().stack().hist()"
   ]
  },
  {
   "cell_type": "markdown",
   "id": "ee989ab0-f2fb-4cf0-8a40-e603ddddb8e3",
   "metadata": {},
   "source": [
    "# Look if seasonality makes any difference"
   ]
  },
  {
   "cell_type": "code",
   "execution_count": 6,
   "id": "51821e99-1142-4497-8a27-27cf5a4bc003",
   "metadata": {},
   "outputs": [],
   "source": [
    "df1= pd.read_pickle(directory/CORR/'full_distance_matrix.pkl')\n",
    "df2 = pd.read_pickle(directory/SEASON/'full_distance_matrix.pkl')\n",
    "df2 = df2.loc[df1.index, df1.columns]\n",
    "assert all(df1.index == df2.index) and all(df1.columns == df2.columns)"
   ]
  },
  {
   "cell_type": "code",
   "execution_count": 7,
   "id": "1fe59d22-1121-484f-a27c-b398dacaed3d",
   "metadata": {},
   "outputs": [
    {
     "data": {
      "text/plain": [
       "<AxesSubplot:>"
      ]
     },
     "execution_count": 7,
     "metadata": {},
     "output_type": "execute_result"
    },
    {
     "data": {
      "image/png": "[encoded data removed]",
      "text/plain": [
       "<Figure size 432x288 with 1 Axes>"
      ]
     },
     "metadata": {
      "needs_background": "light"
     },
     "output_type": "display_data"
    }
   ],
   "source": [
    "rel_diff = (df1 - df2).abs()/df1\n",
    "rel_diff.stack().stack().hist()"
   ]
  },
  {
   "cell_type": "markdown",
   "id": "80e3bed7-9554-4953-94f6-4005a6d9d5d3",
   "metadata": {},
   "source": [
    "# Check Correlation with Koen's answers"
   ]
  },
  {
   "cell_type": "markdown",
   "id": "c8676510-63d6-4bf2-b4ad-ad4d17934952",
   "metadata": {},
   "source": [
    "### First try (with data problems)"
   ]
  },
  {
   "cell_type": "code",
   "execution_count": 8,
   "id": "7138529a-bec0-4f19-990d-6d5d15bfe1fe",
   "metadata": {},
   "outputs": [
    {
     "name": "stdout",
     "output_type": "stream",
     "text": [
      "reading the data... this can take a while (if remotely mounted)\n"
     ]
    },
    {
     "data": {
      "text/plain": [
       "0.45347496883413935"
      ]
     },
     "execution_count": 8,
     "metadata": {},
     "output_type": "execute_result"
    }
   ],
   "source": [
    "ResultParser('result_20210628_koen', SIMPLE).pearson_correlation_between_distances_and_queries()"
   ]
  },
  {
   "cell_type": "markdown",
   "id": "521cd9a1-6db4-4c48-b204-1599cf1a5cf6",
   "metadata": {},
   "source": [
    "### Second try (data problems replaced by NaN)\n",
    "This makes no difference but that is actually logical! Because days with a NaN were fully ignored"
   ]
  },
  {
   "cell_type": "code",
   "execution_count": 9,
   "id": "166d32c8-cdad-42a9-8cc1-4983c57dbbee",
   "metadata": {},
   "outputs": [
    {
     "name": "stdout",
     "output_type": "stream",
     "text": [
      "reading the data... this can take a while (if remotely mounted)\n"
     ]
    },
    {
     "data": {
      "text/plain": [
       "0.45347496883413935"
      ]
     },
     "execution_count": 9,
     "metadata": {},
     "output_type": "execute_result"
    }
   ],
   "source": [
    "ResultParser('result_20210628_koen', SIMPLE_DATA).pearson_correlation_between_distances_and_queries()"
   ]
  },
  {
   "cell_type": "markdown",
   "id": "23dbd84a-18ec-4176-a4b9-42b886b072a7",
   "metadata": {},
   "source": [
    "### With seasonality\n",
    "Actually a slightly worse correlation"
   ]
  },
  {
   "cell_type": "code",
   "execution_count": 10,
   "id": "dd9ca6b3-a1c9-4b89-be8b-161fdf10ee80",
   "metadata": {},
   "outputs": [
    {
     "name": "stdout",
     "output_type": "stream",
     "text": [
      "reading the data... this can take a while (if remotely mounted)\n"
     ]
    },
    {
     "data": {
      "text/plain": [
       "0.4445395014679494"
      ]
     },
     "execution_count": 10,
     "metadata": {},
     "output_type": "execute_result"
    }
   ],
   "source": [
    "ResultParser('result_20210628_koen', SEASON).pearson_correlation_between_distances_and_queries()"
   ]
  },
  {
   "cell_type": "code",
   "execution_count": 11,
   "id": "271b5d18-b531-4a0c-a9fc-0a263043b951",
   "metadata": {},
   "outputs": [
    {
     "name": "stdout",
     "output_type": "stream",
     "text": [
      "reading the data... this can take a while (if remotely mounted)\n"
     ]
    },
    {
     "data": {
      "text/html": [
       "\n",
       "<div id=\"altair-viz-248e345db4ce492c843156c5422e92e0\"></div>\n",
       "<script type=\"text/javascript\">\n",
       "  (function(spec, embedOpt){\n",
       "    let outputDiv = document.currentScript.previousElementSibling;\n",
       "    if (outputDiv.id !== \"altair-viz-248e345db4ce492c843156c5422e92e0\") {\n",
       "      outputDiv = document.getElementById(\"altair-viz-248e345db4ce492c843156c5422e92e0\");\n",
       "    }\n",
       "    const paths = {\n",
       "      \"vega\": \"https://cdn.jsdelivr.net/npm//vega@5?noext\",\n",
       "      \"vega-lib\": \"https://cdn.jsdelivr.net/npm//vega-lib?noext\",\n",
       "      \"vega-lite\": \"https://cdn.jsdelivr.net/npm//vega-lite@4.8.1?noext\",\n",
       "      \"vega-embed\": \"https://cdn.jsdelivr.net/npm//vega-embed@6?noext\",\n",
       "    };\n",
       "\n",
       "    function loadScript(lib) {\n",
       "      return new Promise(function(resolve, reject) {\n",
       "        var s = document.createElement('script');\n",
       "        s.src = paths[lib];\n",
       "        s.async = true;\n",
       "        s.onload = () => resolve(paths[lib]);\n",
       "        s.onerror = () => reject(`Error loading script: ${paths[lib]}`);\n",
       "        document.getElementsByTagName(\"head\")[0].appendChild(s);\n",
       "      });\n",
       "    }\n",
       "\n",
       "    function showError(err) {\n",
       "      outputDiv.innerHTML = `<div class=\"error\" style=\"color:red;\">${err}</div>`;\n",
       "      throw err;\n",
       "    }\n",
       "\n",
       "    function displayChart(vegaEmbed) {\n",
       "      vegaEmbed(outputDiv, spec, embedOpt)\n",
       "        .catch(err => showError(`Javascript Error: ${err.message}<br>This usually means there's a typo in your chart specification. See the javascript console for the full traceback.`));\n",
       "    }\n",
       "\n",
       "    if(typeof define === \"function\" && define.amd) {\n",
       "      requirejs.config({paths});\n",
       "      require([\"vega-embed\"], displayChart, err => showError(`Error loading script: ${err.message}`));\n",
       "    } else if (typeof vegaEmbed === \"function\") {\n",
       "      displayChart(vegaEmbed);\n",
       "    } else {\n",
       "      loadScript(\"vega\")\n",
       "        .then(() => loadScript(\"vega-lite\"))\n",
       "        .then(() => loadScript(\"vega-embed\"))\n",
       "        .catch(showError)\n",
       "        .then(() => displayChart(vegaEmbed));\n",
       "    }\n",
       "  })({\"config\": {\"view\": {\"continuousWidth\": 400, \"continuousHeight\": 300}}, \"data\": {\"name\": \"data-67ce82a1ef472bd7ca049bdbb4be7fd1\"}, \"mark\": {\"type\": \"bar\", \"opacity\": 0.5}, \"encoding\": {\"color\": {\"type\": \"nominal\", \"field\": \"isML\"}, \"row\": {\"type\": \"nominal\", \"field\": \"isML\"}, \"x\": {\"type\": \"ordinal\", \"field\": \"binned_distance\"}, \"y\": {\"type\": \"quantitative\", \"aggregate\": \"count\"}}, \"transform\": [{\"bin\": {\"maxbins\": 50}, \"field\": \"distance\", \"as\": \"binned_distance\"}], \"$schema\": \"https://vega.github.io/schema/vega-lite/v4.8.1.json\", \"datasets\": {\"data-67ce82a1ef472bd7ca049bdbb4be7fd1\": [{\"i1\": 55, \"i2\": 113, \"isML\": false, \"distance\": 221.07845757586148}, {\"i1\": 30, \"i2\": 55, \"isML\": true, \"distance\": 367.56095204010677}, {\"i1\": 30, \"i2\": 133, \"isML\": true, \"distance\": 278.4001239041229}, {\"i1\": 21, \"i2\": 55, \"isML\": false, \"distance\": 600.787111131728}, {\"i1\": 21, \"i2\": 113, \"isML\": false, \"distance\": 809.0994271882884}, {\"i1\": 55, \"i2\": 140, \"isML\": false, \"distance\": 327.86369183366145}, {\"i1\": 28, \"i2\": 55, \"isML\": false, \"distance\": 473.13812965676476}, {\"i1\": 28, \"i2\": 140, \"isML\": true, \"distance\": 387.9664088063054}, {\"i1\": 21, \"i2\": 28, \"isML\": false, \"distance\": 470.18614690578625}, {\"i1\": 28, \"i2\": 113, \"isML\": false, \"distance\": 677.148052413214}, {\"i1\": 55, \"i2\": 136, \"isML\": true, \"distance\": 139.86068925313276}, {\"i1\": 55, \"i2\": 115, \"isML\": true, \"distance\": 158.95481431431278}, {\"i1\": 28, \"i2\": 133, \"isML\": false, \"distance\": 351.30021780937267}, {\"i1\": 55, \"i2\": 133, \"isML\": false, \"distance\": 306.40112850520086}, {\"i1\": 21, \"i2\": 133, \"isML\": false, \"distance\": 501.1982779926796}, {\"i1\": 113, \"i2\": 133, \"isML\": false, \"distance\": 500.98647024489117}, {\"i1\": 8, \"i2\": 55, \"isML\": false, \"distance\": 326.4300113313735}, {\"i1\": 8, \"i2\": 133, \"isML\": false, \"distance\": 350.1455675990163}, {\"i1\": 83, \"i2\": 133, \"isML\": false, \"distance\": 402.7014132563618}, {\"i1\": 55, \"i2\": 83, \"isML\": false, \"distance\": 374.39446817125827}, {\"i1\": 8, \"i2\": 28, \"isML\": true, \"distance\": 384.72095919080743}, {\"i1\": 28, \"i2\": 83, \"isML\": true, \"distance\": 473.0524633355152}, {\"i1\": 93, \"i2\": 133, \"isML\": true, \"distance\": 288.436326322708}, {\"i1\": 6, \"i2\": 133, \"isML\": false, \"distance\": 423.3437683022493}, {\"i1\": 6, \"i2\": 55, \"isML\": false, \"distance\": 415.6421940407313}, {\"i1\": 6, \"i2\": 28, \"isML\": false, \"distance\": 479.6533438058202}, {\"i1\": 6, \"i2\": 113, \"isML\": false, \"distance\": 505.78325058140643}, {\"i1\": 6, \"i2\": 21, \"isML\": false, \"distance\": 585.4192948970403}, {\"i1\": 133, \"i2\": 170, \"isML\": false, \"distance\": 346.8067604706521}, {\"i1\": 28, \"i2\": 170, \"isML\": true, \"distance\": 329.99095548548826}, {\"i1\": 16, \"i2\": 133, \"isML\": false, \"distance\": 1025.0806306538184}, {\"i1\": 16, \"i2\": 21, \"isML\": false, \"distance\": 952.7308439891951}, {\"i1\": 16, \"i2\": 28, \"isML\": false, \"distance\": 1024.8444850026963}, {\"i1\": 6, \"i2\": 16, \"isML\": false, \"distance\": 1014.8182945985138}, {\"i1\": 16, \"i2\": 55, \"isML\": false, \"distance\": 1095.2787454829731}, {\"i1\": 16, \"i2\": 113, \"isML\": false, \"distance\": 1218.097933449209}, {\"i1\": 101, \"i2\": 133, \"isML\": true, \"distance\": 361.72976665313615}, {\"i1\": 48, \"i2\": 55, \"isML\": false, \"distance\": 483.42813642013306}, {\"i1\": 48, \"i2\": 133, \"isML\": false, \"distance\": 503.3227913982428}, {\"i1\": 28, \"i2\": 48, \"isML\": false, \"distance\": 494.8345377754497}, {\"i1\": 6, \"i2\": 48, \"isML\": false, \"distance\": 547.2640440129328}, {\"i1\": 21, \"i2\": 48, \"isML\": true, \"distance\": 615.2455674859223}]}}, {\"mode\": \"vega-lite\"});\n",
       "</script>"
      ],
      "text/plain": [
       "alt.Chart(...)"
      ]
     },
     "execution_count": 11,
     "metadata": {},
     "output_type": "execute_result"
    }
   ],
   "source": [
    "ResultParser('result_20210628_koen', SEASON).similarity_metric_histogram_chart()"
   ]
  },
  {
   "cell_type": "code",
   "execution_count": 12,
   "id": "328a9cbc-7ae2-4de3-a0bb-10683bd131dd",
   "metadata": {},
   "outputs": [
    {
     "name": "stdout",
     "output_type": "stream",
     "text": [
      "reading the data... this can take a while (if remotely mounted)\n"
     ]
    },
    {
     "data": {
      "text/html": [
       "\n",
       "<div id=\"altair-viz-71851fa0905b47389408d2125f8a729f\"></div>\n",
       "<script type=\"text/javascript\">\n",
       "  (function(spec, embedOpt){\n",
       "    let outputDiv = document.currentScript.previousElementSibling;\n",
       "    if (outputDiv.id !== \"altair-viz-71851fa0905b47389408d2125f8a729f\") {\n",
       "      outputDiv = document.getElementById(\"altair-viz-71851fa0905b47389408d2125f8a729f\");\n",
       "    }\n",
       "    const paths = {\n",
       "      \"vega\": \"https://cdn.jsdelivr.net/npm//vega@5?noext\",\n",
       "      \"vega-lib\": \"https://cdn.jsdelivr.net/npm//vega-lib?noext\",\n",
       "      \"vega-lite\": \"https://cdn.jsdelivr.net/npm//vega-lite@4.8.1?noext\",\n",
       "      \"vega-embed\": \"https://cdn.jsdelivr.net/npm//vega-embed@6?noext\",\n",
       "    };\n",
       "\n",
       "    function loadScript(lib) {\n",
       "      return new Promise(function(resolve, reject) {\n",
       "        var s = document.createElement('script');\n",
       "        s.src = paths[lib];\n",
       "        s.async = true;\n",
       "        s.onload = () => resolve(paths[lib]);\n",
       "        s.onerror = () => reject(`Error loading script: ${paths[lib]}`);\n",
       "        document.getElementsByTagName(\"head\")[0].appendChild(s);\n",
       "      });\n",
       "    }\n",
       "\n",
       "    function showError(err) {\n",
       "      outputDiv.innerHTML = `<div class=\"error\" style=\"color:red;\">${err}</div>`;\n",
       "      throw err;\n",
       "    }\n",
       "\n",
       "    function displayChart(vegaEmbed) {\n",
       "      vegaEmbed(outputDiv, spec, embedOpt)\n",
       "        .catch(err => showError(`Javascript Error: ${err.message}<br>This usually means there's a typo in your chart specification. See the javascript console for the full traceback.`));\n",
       "    }\n",
       "\n",
       "    if(typeof define === \"function\" && define.amd) {\n",
       "      requirejs.config({paths});\n",
       "      require([\"vega-embed\"], displayChart, err => showError(`Error loading script: ${err.message}`));\n",
       "    } else if (typeof vegaEmbed === \"function\") {\n",
       "      displayChart(vegaEmbed);\n",
       "    } else {\n",
       "      loadScript(\"vega\")\n",
       "        .then(() => loadScript(\"vega-lite\"))\n",
       "        .then(() => loadScript(\"vega-embed\"))\n",
       "        .catch(showError)\n",
       "        .then(() => displayChart(vegaEmbed));\n",
       "    }\n",
       "  })({\"config\": {\"view\": {\"continuousWidth\": 400, \"continuousHeight\": 300}}, \"data\": {\"name\": \"data-67ce82a1ef472bd7ca049bdbb4be7fd1\"}, \"mark\": {\"type\": \"area\", \"opacity\": 0.5}, \"encoding\": {\"color\": {\"type\": \"nominal\", \"field\": \"isML\"}, \"x\": {\"type\": \"quantitative\", \"field\": \"distance\"}, \"y\": {\"type\": \"quantitative\", \"field\": \"density\"}}, \"transform\": [{\"density\": \"distance\", \"bandwidth\": 10, \"groupby\": [\"isML\"], \"minsteps\": 100, \"as\": [\"distance\", \"density\"]}], \"$schema\": \"https://vega.github.io/schema/vega-lite/v4.8.1.json\", \"datasets\": {\"data-67ce82a1ef472bd7ca049bdbb4be7fd1\": [{\"i1\": 55, \"i2\": 113, \"isML\": false, \"distance\": 221.07845757586148}, {\"i1\": 30, \"i2\": 55, \"isML\": true, \"distance\": 367.56095204010677}, {\"i1\": 30, \"i2\": 133, \"isML\": true, \"distance\": 278.4001239041229}, {\"i1\": 21, \"i2\": 55, \"isML\": false, \"distance\": 600.787111131728}, {\"i1\": 21, \"i2\": 113, \"isML\": false, \"distance\": 809.0994271882884}, {\"i1\": 55, \"i2\": 140, \"isML\": false, \"distance\": 327.86369183366145}, {\"i1\": 28, \"i2\": 55, \"isML\": false, \"distance\": 473.13812965676476}, {\"i1\": 28, \"i2\": 140, \"isML\": true, \"distance\": 387.9664088063054}, {\"i1\": 21, \"i2\": 28, \"isML\": false, \"distance\": 470.18614690578625}, {\"i1\": 28, \"i2\": 113, \"isML\": false, \"distance\": 677.148052413214}, {\"i1\": 55, \"i2\": 136, \"isML\": true, \"distance\": 139.86068925313276}, {\"i1\": 55, \"i2\": 115, \"isML\": true, \"distance\": 158.95481431431278}, {\"i1\": 28, \"i2\": 133, \"isML\": false, \"distance\": 351.30021780937267}, {\"i1\": 55, \"i2\": 133, \"isML\": false, \"distance\": 306.40112850520086}, {\"i1\": 21, \"i2\": 133, \"isML\": false, \"distance\": 501.1982779926796}, {\"i1\": 113, \"i2\": 133, \"isML\": false, \"distance\": 500.98647024489117}, {\"i1\": 8, \"i2\": 55, \"isML\": false, \"distance\": 326.4300113313735}, {\"i1\": 8, \"i2\": 133, \"isML\": false, \"distance\": 350.1455675990163}, {\"i1\": 83, \"i2\": 133, \"isML\": false, \"distance\": 402.7014132563618}, {\"i1\": 55, \"i2\": 83, \"isML\": false, \"distance\": 374.39446817125827}, {\"i1\": 8, \"i2\": 28, \"isML\": true, \"distance\": 384.72095919080743}, {\"i1\": 28, \"i2\": 83, \"isML\": true, \"distance\": 473.0524633355152}, {\"i1\": 93, \"i2\": 133, \"isML\": true, \"distance\": 288.436326322708}, {\"i1\": 6, \"i2\": 133, \"isML\": false, \"distance\": 423.3437683022493}, {\"i1\": 6, \"i2\": 55, \"isML\": false, \"distance\": 415.6421940407313}, {\"i1\": 6, \"i2\": 28, \"isML\": false, \"distance\": 479.6533438058202}, {\"i1\": 6, \"i2\": 113, \"isML\": false, \"distance\": 505.78325058140643}, {\"i1\": 6, \"i2\": 21, \"isML\": false, \"distance\": 585.4192948970403}, {\"i1\": 133, \"i2\": 170, \"isML\": false, \"distance\": 346.8067604706521}, {\"i1\": 28, \"i2\": 170, \"isML\": true, \"distance\": 329.99095548548826}, {\"i1\": 16, \"i2\": 133, \"isML\": false, \"distance\": 1025.0806306538184}, {\"i1\": 16, \"i2\": 21, \"isML\": false, \"distance\": 952.7308439891951}, {\"i1\": 16, \"i2\": 28, \"isML\": false, \"distance\": 1024.8444850026963}, {\"i1\": 6, \"i2\": 16, \"isML\": false, \"distance\": 1014.8182945985138}, {\"i1\": 16, \"i2\": 55, \"isML\": false, \"distance\": 1095.2787454829731}, {\"i1\": 16, \"i2\": 113, \"isML\": false, \"distance\": 1218.097933449209}, {\"i1\": 101, \"i2\": 133, \"isML\": true, \"distance\": 361.72976665313615}, {\"i1\": 48, \"i2\": 55, \"isML\": false, \"distance\": 483.42813642013306}, {\"i1\": 48, \"i2\": 133, \"isML\": false, \"distance\": 503.3227913982428}, {\"i1\": 28, \"i2\": 48, \"isML\": false, \"distance\": 494.8345377754497}, {\"i1\": 6, \"i2\": 48, \"isML\": false, \"distance\": 547.2640440129328}, {\"i1\": 21, \"i2\": 48, \"isML\": true, \"distance\": 615.2455674859223}]}}, {\"mode\": \"vega-lite\"});\n",
       "</script>"
      ],
      "text/plain": [
       "alt.Chart(...)"
      ]
     },
     "execution_count": 12,
     "metadata": {},
     "output_type": "execute_result"
    }
   ],
   "source": [
    "ResultParser('result_20210628_koen', SEASON).similarity_metric_distribution_chart()"
   ]
  },
  {
   "cell_type": "code",
   "execution_count": null,
   "id": "a26deab5-438f-4ab4-9e02-f03bb3879701",
   "metadata": {},
   "outputs": [],
   "source": []
  }
 ],
 "metadata": {
  "kernelspec": {
   "display_name": "Python 3",
   "language": "python",
   "name": "python3"
  },
  "language_info": {
   "codemirror_mode": {
    "name": "ipython",
    "version": 3
   },
   "file_extension": ".py",
   "mimetype": "text/x-python",
   "name": "python",
   "nbconvert_exporter": "python",
   "pygments_lexer": "ipython3",
   "version": "3.8.10"
  }
 },
 "nbformat": 4,
 "nbformat_minor": 5
}
