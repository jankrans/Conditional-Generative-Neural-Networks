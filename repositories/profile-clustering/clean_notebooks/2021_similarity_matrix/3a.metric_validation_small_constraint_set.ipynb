{
 "cells": [
  {
   "cell_type": "markdown",
   "id": "e95e46f6-f31f-44f4-881f-f9736ec173f9",
   "metadata": {},
   "source": [
    "# Analyse the difference between the different variations we have until now"
   ]
  },
  {
   "cell_type": "code",
   "execution_count": null,
   "id": "bacffa78-fbe5-44bf-9260-17d24077d775",
   "metadata": {},
   "outputs": [],
   "source": [
    "from pathlib import Path\n",
    "from energyclustering.webapp.resultparser import ResultParser, ResultComparison\n",
    "import pandas as pd\n",
    "import altair as alt\n",
    "alt.data_transformers.disable_max_rows()\n",
    "alt.renderers.enable('png')"
   ]
  },
  {
   "cell_type": "code",
   "execution_count": null,
   "id": "49d843f8-e091-4309-a8d6-7e36f6eef2d3",
   "metadata": {},
   "outputs": [],
   "source": [
    "%load_ext autoreload\n",
    "%autoreload 2"
   ]
  },
  {
   "cell_type": "code",
   "execution_count": null,
   "id": "f662a94d-fd76-4c3b-8358-0df7d7cd58b3",
   "metadata": {},
   "outputs": [],
   "source": [
    "SIMPLE = 'random_profiles_v1'\n",
    "SIMPLE_DATA = 'random_profiles_no_data_issues_v1'\n",
    "HIST = 'histogram_bins_20'\n",
    "CORR = 'develop_random_profiles_correction_v1'\n",
    "SEASON = 'develop_random_profiles_seasonality_v1'\n",
    "\n",
    "EUCL = 'baseline_euclidean'\n",
    "# FULL_SEASON = 'random_profiles_seasonality_v1'\n",
    "directory = Path('/cw/dtaiproj/ml/2020-FLAIR-VITO/profile-clustering/distance_matrices/')\n",
    "assert directory.exists()\n",
    "assert (directory/SIMPLE).exists()\n",
    "assert (directory/SIMPLE_DATA).exists()\n",
    "assert (directory/CORR).exists()\n",
    "assert (directory/SEASON).exists()\n",
    "assert (directory/HIST).exists()\n",
    "# assert (directory/FULL_SEASON).exists()\n",
    "assert all((directory/name).exists() for name in [SIMPLE, SIMPLE_DATA, CORR, SEASON, HIST])"
   ]
  },
  {
   "cell_type": "markdown",
   "id": "80e3bed7-9554-4953-94f6-4005a6d9d5d3",
   "metadata": {},
   "source": [
    "# Constraint-based validation"
   ]
  },
  {
   "cell_type": "code",
   "execution_count": null,
   "id": "166d32c8-cdad-42a9-8cc1-4983c57dbbee",
   "metadata": {},
   "outputs": [],
   "source": [
    "result = ResultParser('result_20210628_koen', SIMPLE_DATA)\n",
    "euc_result = ResultParser('result_20210628_koen', EUCL)\n",
    "wasser_result = ResultParser('result_20210628_koen', 'wasserstein_None')\n",
    "wasser1H_result = ResultParser('result_20210628_koen', 'wasserstein_1H')\n",
    "wasser4H_result = ResultParser('result_20210628_koen', 'wasserstein_4H')\n",
    "dtw_one = ResultParser('result_20210628_koen', 'baselines_own_metric_DTW_one_to_one')\n",
    "euc_matching = ResultParser('result_20210628_koen', 'baselines_own_metric_euclidean_minimal_cost')\n",
    "euc_one = ResultParser('result_20210628_koen', 'baselines_own_metric_euclidean_one_to_one')"
   ]
  },
  {
   "cell_type": "code",
   "execution_count": null,
   "id": "9b63d843-0dab-458d-aab1-c465f02270eb",
   "metadata": {},
   "outputs": [],
   "source": [
    "result.similarity_metric_histogram_chart().properties(height = 100)\n"
   ]
  },
  {
   "cell_type": "markdown",
   "id": "0639a1a2-70bd-4930-b1f8-93aa6e369a4f",
   "metadata": {},
   "source": [
    "### Hist distance"
   ]
  },
  {
   "cell_type": "code",
   "execution_count": null,
   "id": "9fa90e64-32ee-441b-a961-56cfcebb438f",
   "metadata": {},
   "outputs": [],
   "source": [
    "wasser_result.similarity_metric_histogram_chart().properties(title = 'no agg', height = 100) | wasser1H_result.similarity_metric_histogram_chart().properties(title = '1H', height = 100)  | wasser4H_result.similarity_metric_histogram_chart().properties(title = '4H', height = 100)"
   ]
  },
  {
   "cell_type": "markdown",
   "id": "b5209c4b-c671-4ddb-a647-76b9ac956441",
   "metadata": {},
   "source": [
    "### Euclidean distance"
   ]
  },
  {
   "cell_type": "code",
   "execution_count": null,
   "id": "156562be-d471-45b4-aa15-38d4919d0a4b",
   "metadata": {},
   "outputs": [],
   "source": [
    "euc_result.similarity_metric_histogram_chart().properties(height = 100)"
   ]
  },
  {
   "cell_type": "markdown",
   "id": "d9332c6b-1f0f-432e-96bf-d7f8f87b7163",
   "metadata": {},
   "source": [
    "## Rank correlation"
   ]
  },
  {
   "cell_type": "code",
   "execution_count": null,
   "id": "28fd04f4-2563-4f56-b169-f145d31aa4ea",
   "metadata": {},
   "outputs": [],
   "source": [
    "result_df = pd.DataFrame(columns = ['correlation'])"
   ]
  },
  {
   "cell_type": "markdown",
   "id": "5045b7d2-bb4f-4c4d-9f21-5d659845930f",
   "metadata": {},
   "source": [
    "### Own metric: DTW and matching"
   ]
  },
  {
   "cell_type": "code",
   "execution_count": null,
   "id": "a26deab5-438f-4ab4-9e02-f03bb3879701",
   "metadata": {},
   "outputs": [],
   "source": [
    "corr= result.rank_correlation_between_distances_and_queries()\n",
    "result_df.loc['matching_measure'] = corr"
   ]
  },
  {
   "cell_type": "markdown",
   "id": "2d8c883b-cf92-4ab0-9e46-3783bb6a24e3",
   "metadata": {},
   "source": [
    "### Own metric DTW without matching"
   ]
  },
  {
   "cell_type": "code",
   "execution_count": null,
   "id": "8a0c0159-3114-4185-9b4a-def60d858e43",
   "metadata": {},
   "outputs": [],
   "source": [
    "dtw_one.rank_correlation_between_distances_and_queries()"
   ]
  },
  {
   "cell_type": "markdown",
   "id": "9ff90489-a75a-4d41-806f-2016222e1e50",
   "metadata": {},
   "source": [
    "### Own metric euclidean with matching"
   ]
  },
  {
   "cell_type": "code",
   "execution_count": null,
   "id": "63265186-20ac-49f6-9549-d4de5bd33c32",
   "metadata": {},
   "outputs": [],
   "source": [
    "euc_matching.rank_correlation_between_distances_and_queries()"
   ]
  },
  {
   "cell_type": "markdown",
   "id": "b44ddb12-4eeb-45b4-aea1-d3b8e1d36ddc",
   "metadata": {},
   "source": [
    "### Own metric euclidean without matching"
   ]
  },
  {
   "cell_type": "code",
   "execution_count": null,
   "id": "325d8767-3014-48b1-bb45-91bfa97186ac",
   "metadata": {},
   "outputs": [],
   "source": [
    "euc_one.rank_correlation_between_distances_and_queries()"
   ]
  },
  {
   "cell_type": "markdown",
   "id": "1cea0e46-7425-41e8-9d0c-42e5605a6451",
   "metadata": {},
   "source": [
    "### Histogram distance"
   ]
  },
  {
   "cell_type": "code",
   "execution_count": null,
   "id": "ae830c34-ad7f-4175-ba05-dfacbb62c3a1",
   "metadata": {},
   "outputs": [],
   "source": [
    "corr = wasser_result.rank_correlation_between_distances_and_queries()\n",
    "result_df.loc['wasserstein_measure'] = corr"
   ]
  },
  {
   "cell_type": "code",
   "execution_count": null,
   "id": "0a2e3d39-3a5a-4d12-a018-967196f89e20",
   "metadata": {},
   "outputs": [],
   "source": [
    "corr = wasser1H_result.rank_correlation_between_distances_and_queries()\n",
    "result_df.loc['wasserstein_measure_1H'] = corr"
   ]
  },
  {
   "cell_type": "code",
   "execution_count": null,
   "id": "78546cc9-8b7c-404c-87b6-e5996587ff3b",
   "metadata": {},
   "outputs": [],
   "source": [
    "corr = wasser4H_result.rank_correlation_between_distances_and_queries()\n",
    "result_df.loc['wasserstein_measure_4H'] = corr"
   ]
  },
  {
   "cell_type": "markdown",
   "id": "6ed9ab77-85a6-4595-8b31-8864f27c168c",
   "metadata": {},
   "source": [
    "### Plain euclidean"
   ]
  },
  {
   "cell_type": "code",
   "execution_count": null,
   "id": "c942ae42-43b7-49d7-973a-83243a91159e",
   "metadata": {},
   "outputs": [],
   "source": [
    "corr = euc_result.rank_correlation_between_distances_and_queries()\n",
    "result_df.loc['euclidean'] = corr"
   ]
  },
  {
   "cell_type": "code",
   "execution_count": null,
   "id": "901c999a-471f-4026-b6c6-e4aef4f95d79",
   "metadata": {},
   "outputs": [],
   "source": [
    "result_df"
   ]
  },
  {
   "cell_type": "code",
   "execution_count": null,
   "id": "6f01a650-9a70-4169-ab91-bac01090bdfa",
   "metadata": {},
   "outputs": [],
   "source": [
    "alt.Chart(result_df.reset_index().rename(columns= {'index':'measure'}), height = 200, width = 200, title = 'Correlation with expert').mark_bar().encode(\n",
    "    x = 'measure:N', \n",
    "    y= 'correlation:Q', \n",
    "    color = alt.Color('measure:N',legend = None), \n",
    "    tooltip = 'correlation'\n",
    ")"
   ]
  },
  {
   "cell_type": "markdown",
   "id": "143b9d77-0a0c-4ed4-b5c8-1f35b94100e0",
   "metadata": {},
   "source": [
    "## plot all pairs"
   ]
  },
  {
   "cell_type": "code",
   "execution_count": null,
   "id": "5cb73a0f-56ad-4b3c-82fc-c12febc11835",
   "metadata": {},
   "outputs": [],
   "source": [
    "# result.plot_constraint_pairs_w_distances()"
   ]
  },
  {
   "cell_type": "markdown",
   "id": "a78fe835-bd02-424d-a30d-b1c35cee1bfc",
   "metadata": {},
   "source": [
    "## plot closest ML pairs "
   ]
  },
  {
   "cell_type": "code",
   "execution_count": null,
   "id": "bfc4c562-7f36-4f93-9612-e4f274e85ee7",
   "metadata": {},
   "outputs": [],
   "source": [
    "result.plot_constraint_pairs(3, constraints = 'ML', sort = 'asc')"
   ]
  },
  {
   "cell_type": "markdown",
   "id": "987ce16f-c528-492e-ba02-556fc4adafd2",
   "metadata": {},
   "source": [
    "## plot farthest ML pairs "
   ]
  },
  {
   "cell_type": "code",
   "execution_count": null,
   "id": "c913fa8e-f482-4503-939b-c6c2c3f37389",
   "metadata": {},
   "outputs": [],
   "source": [
    "result.plot_constraint_pairs(3, constraints = 'ML', sort = 'desc')"
   ]
  },
  {
   "cell_type": "markdown",
   "id": "678f9983-9e2e-44bd-aa55-ced973b31a90",
   "metadata": {},
   "source": [
    "## plot far CL pairs "
   ]
  },
  {
   "cell_type": "code",
   "execution_count": null,
   "id": "3dff5b46-cc8b-4dda-af41-1ef5c05d36c2",
   "metadata": {},
   "outputs": [],
   "source": [
    "result.plot_constraint_pairs(2, constraints = 'CL', sort = 'desc')"
   ]
  },
  {
   "cell_type": "markdown",
   "id": "8175bdaf-40d3-4b4d-87a2-8cf6f5b31b3d",
   "metadata": {},
   "source": [
    "## plot closest CL pairs "
   ]
  },
  {
   "cell_type": "code",
   "execution_count": null,
   "id": "e2ca53e2-b902-4085-b57d-8037411506e6",
   "metadata": {},
   "outputs": [],
   "source": [
    "result.plot_constraint_pairs(7, constraints = 'CL', sort = 'asc')"
   ]
  },
  {
   "cell_type": "code",
   "execution_count": null,
   "id": "b069c8bc-a088-4fbf-b6f1-117cf2887af1",
   "metadata": {},
   "outputs": [],
   "source": []
  },
  {
   "cell_type": "code",
   "execution_count": null,
   "id": "4f33450a-2251-4e36-90f1-35f8347755eb",
   "metadata": {},
   "outputs": [],
   "source": []
  }
 ],
 "metadata": {
  "kernelspec": {
   "display_name": "energyville",
   "language": "python",
   "name": "energyville"
  },
  "language_info": {
   "codemirror_mode": {
    "name": "ipython",
    "version": 3
   },
   "file_extension": ".py",
   "mimetype": "text/x-python",
   "name": "python",
   "nbconvert_exporter": "python",
   "pygments_lexer": "ipython3",
   "version": "3.8.10"
  }
 },
 "nbformat": 4,
 "nbformat_minor": 5
}
