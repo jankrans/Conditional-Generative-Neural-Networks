{
 "cells": [
  {
   "cell_type": "markdown",
   "id": "b06919c5-3300-46aa-a06c-7b2181941c67",
   "metadata": {},
   "source": [
    "# Calculate the similarity metric with same profiles as a previous result"
   ]
  },
  {
   "cell_type": "markdown",
   "id": "2e4da1ae-38c8-447d-a407-1324365442f5",
   "metadata": {},
   "source": [
    "This notebook reads the info_df of a previous result and calculates a new distance matrix with the same profiles."
   ]
  },
  {
   "cell_type": "markdown",
   "id": "55d1edca-d327-4f89-93ac-20725857cfce",
   "metadata": {},
   "source": [
    "### Set-up"
   ]
  },
  {
   "cell_type": "code",
   "execution_count": null,
   "id": "c510b83d",
   "metadata": {},
   "outputs": [],
   "source": [
    "from energyclustering.data.fluvius import read_data_pickle\n",
    "from energyclustering.clustering.similarity.distmatrix import calculate_distance_matrix\n",
    "import energyclustering.clustering.similarity.matching_similarity as simple_matching\n",
    "from energyclustering.clustering.similarity.histogram import WassersteinDistance\n",
    "import numpy as np \n",
    "import pandas as pd \n",
    "from dask.distributed import Client, LocalCluster\n",
    "from pathlib import Path"
   ]
  },
  {
   "cell_type": "code",
   "execution_count": null,
   "id": "31c17fc3-ffd6-4edf-b2a1-5c038436b413",
   "metadata": {},
   "outputs": [],
   "source": [
    "%load_ext autoreload\n",
    "%autoreload 2"
   ]
  },
  {
   "cell_type": "code",
   "execution_count": null,
   "id": "6361a56e-5064-4323-a434-e3ec46f802f9",
   "metadata": {},
   "outputs": [],
   "source": [
    "# path where the resulting files will be stored\n",
    "# RESULT_PATH = Path('/cw/dtaiproj/ml/2020-FLAIR-VITO/profile-clustering/distance_matrices/small_random1_no_data_issues/')\n",
    "RESULT_PATH = Path('/cw/dtaiproj/ml/2020-FLAIR-VITO/profile-clustering/distance_matrices/full_distance_matrix_wasserstein/')\n",
    "RESULT_PATH.mkdir(mode = 0o770, parents = True, exist_ok=True)\n"
   ]
  },
  {
   "cell_type": "markdown",
   "id": "2daa3cb2-41dd-44b7-9b74-d41879b7ff19",
   "metadata": {},
   "source": [
    "### Read the the data "
   ]
  },
  {
   "cell_type": "code",
   "execution_count": null,
   "id": "e3d42884-c8a4-44fc-9619-a8e081e4e6ff",
   "metadata": {},
   "outputs": [],
   "source": [
    "info_df, data_df = read_data_pickle(include_incomplete_profiles = True, process_errors = True)"
   ]
  },
  {
   "cell_type": "markdown",
   "id": "89a3a600-48ae-4bb8-ba8d-51b384ed5779",
   "metadata": {},
   "source": [
    "### Sample some profiles"
   ]
  },
  {
   "cell_type": "code",
   "execution_count": null,
   "id": "9df0e415-4f34-4527-841b-ee40ff59f4f0",
   "metadata": {},
   "outputs": [],
   "source": [
    "# data_df = data_df.sample(100, random_state = 12341234)\n",
    "# info_df = info_df.loc[data_df.index]"
   ]
  },
  {
   "cell_type": "markdown",
   "id": "2e3c96c7-5eb8-4d8e-be27-8c609de59bee",
   "metadata": {},
   "source": [
    "### Write the data"
   ]
  },
  {
   "cell_type": "code",
   "execution_count": null,
   "id": "d9665fa4",
   "metadata": {},
   "outputs": [],
   "source": [
    "# write to file\n",
    "data_df.to_pickle(RESULT_PATH/'data.pkl')\n",
    "info_df.to_pickle(RESULT_PATH/'info.pkl')"
   ]
  },
  {
   "cell_type": "markdown",
   "id": "e5d48a4e-311c-407c-8d62-d735f85b724f",
   "metadata": {},
   "source": [
    "### Calculate the distance matrix"
   ]
  },
  {
   "cell_type": "code",
   "execution_count": null,
   "id": "323c23b1-1689-456b-bd6b-cbd8791d8fb9",
   "metadata": {},
   "outputs": [],
   "source": [
    "%%time\n",
    "cluster = LocalCluster(n_workers = 20, threads_per_worker = 2, local_directory = '/cw/dtailocal/jonass')\n",
    "with Client(cluster) as client: \n",
    "    dist_df = calculate_distance_matrix(data_df, WassersteinDistance('1H'), client)\n",
    "distance_df.to_pickle(RESULT_PATH/'full_distance_matrix.pkl')\n",
    "cluster.close()"
   ]
  },
  {
   "cell_type": "code",
   "execution_count": null,
   "id": "72b9f6bb-1411-4ebe-a19c-3299a7fb145e",
   "metadata": {},
   "outputs": [],
   "source": [
    "dist_df.to_pickle(RESULT_PATH/'full_distance_matrix.pkl')"
   ]
  },
  {
   "cell_type": "code",
   "execution_count": null,
   "id": "ca0d38bf-4c42-4bc9-8a88-b7972c5b130e",
   "metadata": {},
   "outputs": [],
   "source": []
  }
 ],
 "metadata": {
  "kernelspec": {
   "display_name": "energyville",
   "language": "python",
   "name": "energyville"
  },
  "language_info": {
   "codemirror_mode": {
    "name": "ipython",
    "version": 3
   },
   "file_extension": ".py",
   "mimetype": "text/x-python",
   "name": "python",
   "nbconvert_exporter": "python",
   "pygments_lexer": "ipython3",
   "version": "3.8.10"
  }
 },
 "nbformat": 4,
 "nbformat_minor": 5
}
