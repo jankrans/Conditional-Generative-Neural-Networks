{
 "cells": [
  {
   "cell_type": "markdown",
   "id": "b06919c5-3300-46aa-a06c-7b2181941c67",
   "metadata": {},
   "source": [
    "# Calculate the similarity metric with same profiles as a previous result"
   ]
  },
  {
   "cell_type": "markdown",
   "id": "2e4da1ae-38c8-447d-a407-1324365442f5",
   "metadata": {},
   "source": [
    "This notebook reads the info_df of a previous result and calculates a new distance matrix with the same profiles."
   ]
  },
  {
   "cell_type": "markdown",
   "id": "55d1edca-d327-4f89-93ac-20725857cfce",
   "metadata": {},
   "source": [
    "### Set-up"
   ]
  },
  {
   "cell_type": "code",
   "execution_count": null,
   "id": "c510b83d",
   "metadata": {},
   "outputs": [],
   "source": [
    "from energyclustering.data.fluvius import read_data_pickle\n",
    "import energyclustering.clustering.similarity.baselines as baselines\n",
    "import energyclustering.clustering.similarity.histogram as histosim\n",
    "import energyclustering.clustering.similarity.matching_similarity as matching_similarity\n",
    "from energyclustering.clustering.DTW import get_DTW_distance_matrix\n",
    "import numpy as np \n",
    "import pandas as pd \n",
    "from dask.distributed import Client, LocalCluster\n",
    "from pathlib import Path\n",
    "import itertools\n",
    "from tqdm import tqdm"
   ]
  },
  {
   "cell_type": "code",
   "execution_count": null,
   "id": "31c17fc3-ffd6-4edf-b2a1-5c038436b413",
   "metadata": {},
   "outputs": [],
   "source": [
    "%load_ext autoreload\n",
    "%autoreload 2"
   ]
  },
  {
   "cell_type": "code",
   "execution_count": null,
   "id": "6361a56e-5064-4323-a434-e3ec46f802f9",
   "metadata": {},
   "outputs": [],
   "source": [
    "# path where the resulting files will be stored\n",
    "PATH = Path('/cw/dtaiproj/ml/2020-FLAIR-VITO/profile-clustering/distance_matrices/')\n",
    "REFERENCE_PATH = PATH/ 'random_profiles_no_data_issues_v1'\n",
    "RESULT_PATH = PATH /'baseline_euclidean'\n",
    "RESULT_PATH_DTW = PATH/'baseline_dtw'\n",
    "RESULT_PATH.mkdir(mode = 0o770, parents = True, exist_ok=True)\n",
    "RESULT_PATH_DTW.mkdir(mode = 0o770, parents = True, exist_ok=True)\n"
   ]
  },
  {
   "cell_type": "markdown",
   "id": "2daa3cb2-41dd-44b7-9b74-d41879b7ff19",
   "metadata": {},
   "source": [
    "### Read the the data (use the same as Koen)"
   ]
  },
  {
   "cell_type": "code",
   "execution_count": null,
   "id": "e3d42884-c8a4-44fc-9619-a8e081e4e6ff",
   "metadata": {},
   "outputs": [],
   "source": [
    "info_df, data_df = pd.read_pickle(REFERENCE_PATH/'info.pkl'), pd.read_pickle(REFERENCE_PATH/'data.pkl')"
   ]
  },
  {
   "cell_type": "markdown",
   "id": "2e3c96c7-5eb8-4d8e-be27-8c609de59bee",
   "metadata": {},
   "source": [
    "### Write the data"
   ]
  },
  {
   "cell_type": "code",
   "execution_count": null,
   "id": "d9665fa4",
   "metadata": {},
   "outputs": [],
   "source": [
    "# write to file\n"
   ]
  },
  {
   "cell_type": "markdown",
   "id": "e5d48a4e-311c-407c-8d62-d735f85b724f",
   "metadata": {},
   "source": [
    "### Calculate the euclidean distance matrix"
   ]
  },
  {
   "cell_type": "code",
   "execution_count": null,
   "id": "78b4b70e-8201-4017-b53f-ccabf209fc1b",
   "metadata": {},
   "outputs": [],
   "source": [
    "%%time\n",
    "if not (RESULT_PATH/'full_distance_matrix.pkl').exists():\n",
    "    data_df.to_pickle(RESULT_PATH/'data.pkl')\n",
    "    info_df.to_pickle(RESULT_PATH/'info.pkl')\n",
    "    dist_df = baselines.euclidean_distance_matrix(data_df)\n",
    "    distance_df = pd.DataFrame(dist_df, index = data_df.index, columns = data_df.index)\n",
    "    distance_df.to_pickle(RESULT_PATH/'full_distance_matrix.pkl')"
   ]
  },
  {
   "cell_type": "markdown",
   "id": "dc9f6f01-cd79-471a-9219-3e136915b5e4",
   "metadata": {},
   "source": [
    "### Calculate the histogram distance_matrix"
   ]
  },
  {
   "cell_type": "code",
   "execution_count": null,
   "id": "8737aa50-d9bb-4749-adc2-65e3f3e1eb37",
   "metadata": {},
   "outputs": [],
   "source": [
    "for resample in [None, '1H', '4H']:\n",
    "    result_path = PATH/f'wasserstein_{resample}'\n",
    "    result_path.mkdir(mode = 0o770, parents = True, exist_ok=True)\n",
    "    recalculate = True\n",
    "    if recalculate or not (result_path/'full_distance_matrix.pkl').exists():\n",
    "        data_df.to_pickle(result_path/'data.pkl')\n",
    "        info_df.to_pickle(result_path/'info.pkl')\n",
    "        distances = histosim.distance_matrix(data_df, resample = resample)\n",
    "        distance_df = pd.DataFrame(distances, index = data_df.index, columns = data_df.index)\n",
    "        distance_df.to_pickle(result_path/'full_distance_matrix.pkl')\n",
    "    distances"
   ]
  },
  {
   "cell_type": "markdown",
   "id": "add4938d-a2b8-438a-a9ec-e4882f64f7b6",
   "metadata": {},
   "source": [
    "### Calculate the DTW distance matrix\n",
    "This is basically infeasible because of the innefficient DTW implementations (they allocate the full cost matrix while one a small part is actually used)"
   ]
  },
  {
   "cell_type": "raw",
   "id": "5a5c0bfa-2f9e-46ea-a229-f1f8c3aebd77",
   "metadata": {},
   "source": [
    "%%time\n",
    "# this cell takes up all memory, DTW implementation is very inefficient in this case! \n",
    "distance_df = get_DTW_distance_matrix(data_df, window = 4, n_jobs = 10)\n",
    "# already return a nice dataframe\n",
    "distance_df.to_pickle(RESULT_PATH_DTW/'full_distance_matrix.pkl')"
   ]
  },
  {
   "cell_type": "markdown",
   "id": "cba4d6a1-8afd-4269-8eb3-a6a9b24828b5",
   "metadata": {},
   "source": [
    "### Calculate variations of our distance "
   ]
  },
  {
   "cell_type": "code",
   "execution_count": null,
   "id": "314a0a58-08de-4f98-9308-2ef0910e32eb",
   "metadata": {},
   "outputs": [],
   "source": [
    "distances = ['DTW', 'euclidean'] \n",
    "matchings = ['minimal_cost', 'one_to_one'] \n",
    "cluster = LocalCluster(n_workers = 40, threads_per_worker = 1, local_directory = '/cw/dtailocal/jonass')\n",
    "# SCHEDULER = \"himec07.cs.kuleuven.be:8786\"\n",
    "with Client(cluster) as client: \n",
    "    for distance, matching in tqdm(itertools.product(distances, matchings), total = 4): \n",
    "        if distance == 'DTW' and matching == 'minimal_cost': \n",
    "            continue \n",
    "        result_path = PATH / f'baselines_own_metric_{distance}_{matching}'\n",
    "        result_path.mkdir(parents = True, exist_ok = True)\n",
    "        if (result_path/'full_distance_matrix.pkl').exists():\n",
    "            continue\n",
    "        print(f'calculating {distance}_{matching}')\n",
    "        distance_config = dict(distance_metric = distance, day_matching = matching, window = 4)\n",
    "        dist_df = matching_similarity.distance_matrix(data_df, client, distance_config, total_blocks = 250)\n",
    "        distance_df = pd.DataFrame(dist_df, index = data_df.index, columns = data_df.index)\n",
    "        \n",
    "        # save the results \n",
    "        data_df.to_pickle(result_path/'data.pkl')\n",
    "        info_df.to_pickle(result_path/'info.pkl')\n",
    "        distance_df.to_pickle(result_path/'full_distance_matrix.pkl')\n",
    "# cluster.close()"
   ]
  },
  {
   "cell_type": "code",
   "execution_count": null,
   "id": "525e396d-aac6-4e36-a616-b468102ecb0d",
   "metadata": {},
   "outputs": [],
   "source": []
  }
 ],
 "metadata": {
  "kernelspec": {
   "display_name": "energyville",
   "language": "python",
   "name": "energyville"
  },
  "language_info": {
   "codemirror_mode": {
    "name": "ipython",
    "version": 3
   },
   "file_extension": ".py",
   "mimetype": "text/x-python",
   "name": "python",
   "nbconvert_exporter": "python",
   "pygments_lexer": "ipython3",
   "version": "3.8.10"
  }
 },
 "nbformat": 4,
 "nbformat_minor": 5
}
