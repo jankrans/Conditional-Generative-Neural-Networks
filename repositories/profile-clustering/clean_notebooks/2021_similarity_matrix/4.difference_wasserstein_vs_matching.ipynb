{
 "cells": [
  {
   "cell_type": "code",
   "execution_count": null,
   "id": "a10278f6-b2c9-47ff-87a8-cbfb4a3437d0",
   "metadata": {},
   "outputs": [],
   "source": [
    "from pathlib import Path\n",
    "from energyclustering.webapp.resultparser import ResultParser, ResultComparison\n",
    "from energyclustering.visualization.cluster_visualization import all_day_plot\n",
    "import pandas as pd\n",
    "import altair as alt\n",
    "alt.data_transformers.disable_max_rows()\n",
    "# alt.renderers.enable('png')"
   ]
  },
  {
   "cell_type": "code",
   "execution_count": null,
   "id": "200463e9-4dc9-45ee-bcea-d555e092935b",
   "metadata": {},
   "outputs": [],
   "source": [
    "wasser_result = ResultParser('result_20210628_koen', 'wasserstein_None')\n",
    "wasser1H_result = ResultParser('result_20210628_koen', 'wasserstein_1H')\n",
    "wasser4H_result = ResultParser('result_20210628_koen', 'wasserstein_4H')\n",
    "matching_result = ResultParser('result_20210628_koen', 'random_profiles_no_data_issues_v1')"
   ]
  },
  {
   "cell_type": "code",
   "execution_count": null,
   "id": "e16b0653-5afd-4b5f-9240-828b4d5e703f",
   "metadata": {},
   "outputs": [],
   "source": [
    "match_dist_df = matching_result.queries_with_distances\n",
    "match_dist_df;"
   ]
  },
  {
   "cell_type": "code",
   "execution_count": null,
   "id": "8ec86ba1-eeb3-44d1-9bba-6b3bec8610af",
   "metadata": {},
   "outputs": [],
   "source": [
    "wasser_dist_df = wasser1H_result.queries_with_distances\n",
    "wasser_dist_df;"
   ]
  },
  {
   "cell_type": "code",
   "execution_count": null,
   "id": "40479a75-3717-46dc-aba4-dda1cc5ab671",
   "metadata": {},
   "outputs": [],
   "source": [
    "dist_df = (\n",
    "    match_dist_df.copy()\n",
    "    .rename(columns = {'distance': 'match_distance'})\n",
    "    .assign(\n",
    "        wasser_distance = wasser_dist_df.distance\n",
    "    )\n",
    "\n",
    ")"
   ]
  },
  {
   "cell_type": "markdown",
   "id": "1974beba-7356-4842-af3e-fa81708ae94f",
   "metadata": {},
   "source": [
    "## Only constraints Koen answered"
   ]
  },
  {
   "cell_type": "code",
   "execution_count": null,
   "id": "acec85af-2d43-42a8-b4e4-2ddd9fd034c2",
   "metadata": {},
   "outputs": [],
   "source": [
    "alt.Chart(dist_df).mark_circle().encode(\n",
    "    x = 'match_distance:Q', \n",
    "    y = 'wasser_distance:Q', \n",
    "    tooltip = ['i1', 'i2']\n",
    ")"
   ]
  },
  {
   "cell_type": "code",
   "execution_count": null,
   "id": "42901389-3b6f-4612-8ece-1e32d56848c7",
   "metadata": {},
   "outputs": [],
   "source": [
    "matching_result.similarity_metric_histogram_chart().properties(height = 100, title = 'matching') | wasser1H_result.similarity_metric_histogram_chart().properties(height = 100, title = 'wasserstein') "
   ]
  },
  {
   "cell_type": "code",
   "execution_count": null,
   "id": "1d0e3eee-dac3-4e18-99a3-f1485d751b5f",
   "metadata": {},
   "outputs": [],
   "source": [
    "matching_result.plot_constraint_pairs(2, constraints = 'ML', sort = 'desc') | wasser1H_result.plot_constraint_pairs(2, constraints = 'ML', sort = 'desc') "
   ]
  },
  {
   "cell_type": "markdown",
   "id": "a84c7acf-3a78-43b4-9963-36f994a979ab",
   "metadata": {},
   "source": [
    "## All constraints"
   ]
  },
  {
   "cell_type": "code",
   "execution_count": null,
   "id": "26737eab-41d7-4331-8fd9-e8c713d8541f",
   "metadata": {},
   "outputs": [],
   "source": [
    "def distance_matrix_to_list(dist_df): \n",
    "    dist_df.index = dist_df.index.get_level_values(0)+','+dist_df.index.get_level_values(1).astype('str')\n",
    "    dist_df.columns = dist_df.columns.get_level_values(0)+','+dist_df.columns.get_level_values(1).astype('str')\n",
    "    return dist_df.stack().to_frame('distance')"
   ]
  },
  {
   "cell_type": "code",
   "execution_count": null,
   "id": "87a11563-6c23-4889-9c89-26bb0854589c",
   "metadata": {},
   "outputs": [],
   "source": [
    "match_dist_df = matching_result.distance_matrix\n",
    "wasser_dist_df = wasser_result.distance_matrix\n",
    "match_dist = distance_matrix_to_list(match_dist_df)\n",
    "wasser_dist = distance_matrix_to_list(wasser_dist_df)\n",
    "all_distances = match_dist.rename(columns = dict(distance = 'match_dist')).assign(wasser_dist = wasser_dist.distance).rename_axis(['i1', 'i2'], axis = 0).drop_duplicates()\n",
    "all_distances"
   ]
  },
  {
   "cell_type": "markdown",
   "id": "17a56fc3-db79-4b7e-94d1-26c6e1ce06de",
   "metadata": {},
   "source": [
    "For some reason there are some very large distances that should not be there! Filter these out! \n"
   ]
  },
  {
   "cell_type": "code",
   "execution_count": null,
   "id": "d68a3c68-bed3-4112-889c-5343b8dd25a8",
   "metadata": {},
   "outputs": [],
   "source": [
    "def highlight_profile(profile_id): \n",
    "    alt.renderers.enable('png')\n",
    "    plot_df = (\n",
    "        all_distances\n",
    "        .assign(\n",
    "            color = lambda x: (x.index.get_level_values(0).str.startswith(profile_id))|(x.index.get_level_values(1).str.startswith(profile_id))\n",
    "        )\n",
    "    )\n",
    "    chart = alt.Chart(plot_df.reset_index(), width = 500, height = 500).mark_circle().encode(\n",
    "        x = 'match_dist:Q', \n",
    "        y = 'wasser_dist:Q', \n",
    "        color = 'color:N',\n",
    "        tooltip = ['i1', 'i2']\n",
    "    )\n",
    "    return chart"
   ]
  },
  {
   "cell_type": "code",
   "execution_count": null,
   "id": "44dc4781-22ec-43e5-b954-1b1d0dd9aa93",
   "metadata": {},
   "outputs": [],
   "source": [
    "def show_profile(profile_id): \n",
    "    alt.renderers.enable('png')\n",
    "    return all_day_plot(profile_id, matching_result.data_df)"
   ]
  },
  {
   "cell_type": "code",
   "execution_count": null,
   "id": "9d55bcaf-f359-4c8d-8841-1a2e31c50f62",
   "metadata": {},
   "outputs": [],
   "source": [
    "def show_profile_pair(profile1, profile2): \n",
    "    wasser_distance = wasser_result.distance_matrix.loc[profile1, profile2].iloc[0,0]\n",
    "    match_distance = matching_result.distance_matrix.loc[profile1, profile2].iloc[0,0]\n",
    "    return (show_profile(profile1).properties(title = profile1) | show_profile(profile2).properties(title = profile2)).properties(title = f'wasser={wasser_distance}, matching={match_distance}')"
   ]
  },
  {
   "cell_type": "code",
   "execution_count": null,
   "id": "b29a57dd-1e23-4927-9e8d-cecbad76a835",
   "metadata": {},
   "outputs": [],
   "source": [
    "alt.renderers.enable('default')\n",
    "chart = alt.Chart(all_distances.reset_index(), width = 500, height = 500, title = f'correlation= {all_distances.match_dist.corr(all_distances.wasser_dist)}').mark_circle().encode(\n",
    "    x = 'match_dist:Q', \n",
    "    y = 'wasser_dist:Q', \n",
    "#     color = 'color:N',\n",
    "    tooltip = ['i1', 'i2']\n",
    ")\n",
    "chart.interactive()"
   ]
  },
  {
   "cell_type": "markdown",
   "id": "3edb7851-d386-4805-89fc-b953af7bce7b",
   "metadata": {},
   "source": [
    "### region1: bottom left profile 1138"
   ]
  },
  {
   "cell_type": "code",
   "execution_count": null,
   "id": "fd61cc03-4979-4217-a3dd-4b468b3d814a",
   "metadata": {},
   "outputs": [],
   "source": [
    "highlight_profile('smartmeter_1138')"
   ]
  },
  {
   "cell_type": "code",
   "execution_count": null,
   "id": "377c24cc-f04e-42e1-8df1-af9efdc8375c",
   "metadata": {},
   "outputs": [],
   "source": [
    "show_profile_pair('smartmeter_1138', 'smartmeter_1552')"
   ]
  },
  {
   "cell_type": "code",
   "execution_count": null,
   "id": "87cf9786-47d7-404a-8fc8-d1edf2d0af5f",
   "metadata": {},
   "outputs": [],
   "source": [
    "show_profile_pair('smartmeter_2187', 'smartmeter_1525')"
   ]
  },
  {
   "cell_type": "code",
   "execution_count": null,
   "id": "ec50c620-b5aa-490b-ac38-2825b7c0b3fa",
   "metadata": {},
   "outputs": [],
   "source": []
  }
 ],
 "metadata": {
  "kernelspec": {
   "display_name": "energyville",
   "language": "python",
   "name": "energyville"
  },
  "language_info": {
   "codemirror_mode": {
    "name": "ipython",
    "version": 3
   },
   "file_extension": ".py",
   "mimetype": "text/x-python",
   "name": "python",
   "nbconvert_exporter": "python",
   "pygments_lexer": "ipython3",
   "version": "3.8.10"
  }
 },
 "nbformat": 4,
 "nbformat_minor": 5
}
