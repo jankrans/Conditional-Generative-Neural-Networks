{
 "cells": [
  {
   "cell_type": "code",
   "execution_count": null,
   "id": "45ad2458-1fc0-48d3-8815-2aa86c9927e6",
   "metadata": {},
   "outputs": [],
   "source": [
    "import numpy as np "
   ]
  },
  {
   "cell_type": "code",
   "execution_count": null,
   "id": "742b72fa-ea6e-4c0b-905a-3e0a5d74e475",
   "metadata": {},
   "outputs": [],
   "source": [
    "from energyclustering.sampling.preprocessing import DataPreprocessor\n",
    "from dask.distributed import Client\n",
    "import pandas as pd\n",
    "import altair as alt\n",
    "from tqdm import tqdm"
   ]
  },
  {
   "cell_type": "code",
   "execution_count": null,
   "id": "8a340672-0838-4087-91f4-f529b4cff349",
   "metadata": {},
   "outputs": [],
   "source": [
    "import warnings\n",
    "warnings.simplefilter(action='ignore', category=FutureWarning)"
   ]
  },
  {
   "cell_type": "code",
   "execution_count": null,
   "id": "5f19225b-b915-4936-8cbd-61a68833e796",
   "metadata": {},
   "outputs": [],
   "source": [
    "%load_ext autoreload\n",
    "%autoreload 2"
   ]
  },
  {
   "cell_type": "markdown",
   "id": "1a004c94-df66-4bf2-a713-fd74181bcd11",
   "metadata": {},
   "source": [
    "# The data"
   ]
  },
  {
   "cell_type": "code",
   "execution_count": null,
   "id": "d6e95fc4-e6df-49ad-ad19-3a39f2fccb82",
   "metadata": {},
   "outputs": [],
   "source": [
    "daily_data_df, data_df, daily_info_df, weather_df = (\n",
    "    DataPreprocessor()\n",
    "    .preprocess_info_df('baseline')\n",
    "    .preprocess_weather_df('baseline')\n",
    "    .drop_days_with_nan(True)\n",
    "    # no subsampling this time\n",
    "    .subsample_days(week_reduction_factor = None)\n",
    "    # for testing only!\n",
    "    .subsample_years(500)\n",
    "    .get_data()\n",
    ")\n",
    "daily_data_df.shape"
   ]
  },
  {
   "cell_type": "code",
   "execution_count": null,
   "id": "b2ba9270-fdc7-4103-92d8-58c83e0271ee",
   "metadata": {},
   "outputs": [],
   "source": [
    "daily_info_df.loc[:, ('day_info', 'FeelsLikeC')]"
   ]
  },
  {
   "cell_type": "markdown",
   "id": "3eb4ff03-7a9d-47d9-b902-528f73491833",
   "metadata": {},
   "source": [
    "## Select number of clusters automatically"
   ]
  },
  {
   "cell_type": "code",
   "execution_count": null,
   "id": "3a334e02-bfc7-437c-972c-6dd7f966a6d4",
   "metadata": {},
   "outputs": [],
   "source": [
    "from energyclustering.clustering.elbow import ElbowMethod\n"
   ]
  },
  {
   "cell_type": "code",
   "execution_count": null,
   "id": "abed690b-4b74-485c-8b24-7cfc3809600f",
   "metadata": {},
   "outputs": [],
   "source": [
    "from sklearn.metrics import pairwise_distances\n",
    "from sklearn.metrics.pairwise import euclidean_distances\n",
    "from numba import jit, float64\n",
    "from dtaidistance import dtw\n",
    "import kmedoids\n",
    "from energyclustering.sampling.samplers import ConsumptionDataSampler, MetadataSampler, EnergyvilleDaySelectionBaseline, RandomSamplerBaseline\n",
    "from energyclustering.sampling.day_of_year_samplers import DailySamplerFromClusterSampler, GenerateSampleDecorator\n",
    "from sklearn.ensemble import RandomForestClassifier \n",
    "from sklearn.cluster import KMeans\n",
    "from pathlib import Path\n",
    "from energyclustering.sampling.evaluation.evaluation import SamplerEvaluator"
   ]
  },
  {
   "cell_type": "code",
   "execution_count": null,
   "id": "44d4e2b3-4a6b-4667-8996-5a3757f1cc7c",
   "metadata": {},
   "outputs": [],
   "source": [
    "@jit(float64(float64[:], float64[:]), nogil = True, nopython = True)\n",
    "def euc_dist_missing(a1, a2): \n",
    "    return np.nanmean((a1-a2)**2)\n",
    "\n",
    "euc_distance_matrix_missing = lambda x: pairwise_distances(x, metric = euc_dist_missing)\n",
    "euc_distance_matrix = lambda x: euclidean_distances(x.fillna(0))\n",
    "dtw_distance_matrix = lambda x: dtw.distance_matrix_fast(x.to_numpy(), window = 4)\n",
    "\n",
    "class CustomKMedoids: \n",
    "    def __init__(self, nb_clusters, metric, random_state = None): \n",
    "        self.nb_clusters = nb_clusters\n",
    "        self.metric = metric\n",
    "        self.random_state = random_state\n",
    "        self.labels_ = None\n",
    "    \n",
    "    def fit(self, data):\n",
    "        matrix = self.metric(data) \n",
    "        km = kmedoids.KMedoids(self.nb_clusters, method = 'fasterpam', random_state = self.random_state) \n",
    "        c = km.fit(matrix)\n",
    "        self.labels_ = c.labels_.astype('int')\n",
    "        return self\n",
    "    \n",
    "    "
   ]
  },
  {
   "cell_type": "markdown",
   "id": "b6189a69-148b-40f1-b280-726b990d76a7",
   "metadata": {},
   "source": [
    "## Check the number of clusters selected automatically"
   ]
  },
  {
   "cell_type": "code",
   "execution_count": null,
   "id": "be957895-df33-4337-89bc-5a253dd785ad",
   "metadata": {},
   "outputs": [],
   "source": [
    "sampling_model = DailySamplerFromClusterSampler(\n",
    "                        yearly_sampler = ConsumptionDataSampler(\n",
    "                            classifier = RandomForestClassifier(), \n",
    "                            clusterer = ElbowMethod(kmedoids.KMedoids(1, method = 'fasterpam'), euc_distance_matrix_missing, range(20, 80, 2)), \n",
    "                            info_preprocessing = None\n",
    "                        ), \n",
    "                        daily_sampler = ConsumptionDataSampler(\n",
    "                            classifier = RandomForestClassifier(), \n",
    "                            clusterer =  ElbowMethod(kmedoids.KMedoids(1, method = 'fasterpam'), euc_distance_matrix, range(10, 81, 5), show_progress= True, nb_repeats = 10), \n",
    "                            info_preprocessing = None\n",
    "                        ),\n",
    "                        show_progress = True\n",
    "                   )\n",
    "sampling_model.fit(daily_data_df, data_df, daily_info_df)"
   ]
  },
  {
   "cell_type": "code",
   "execution_count": null,
   "id": "29a8028a-f26c-40e7-af1b-92b5022ff292",
   "metadata": {},
   "outputs": [],
   "source": [
    "sampling_model.yearly_sampler.clusterer.nb_clusters"
   ]
  },
  {
   "cell_type": "code",
   "execution_count": null,
   "id": "24bdbd4b-20a0-488b-84a5-12cdecc86d2c",
   "metadata": {},
   "outputs": [],
   "source": [
    "sampling_model.yearly_sampler.clusterer.plot_knee()"
   ]
  },
  {
   "cell_type": "code",
   "execution_count": null,
   "id": "b4fcb793-ccfc-49e9-8911-5be381ddd72a",
   "metadata": {},
   "outputs": [],
   "source": [
    "instances_per_cluster = sampling_model.yearly_sampler.clustering.value_counts().to_frame('#years').rename_axis('cluster_idx', axis = 0)\n",
    "instances_per_cluster"
   ]
  },
  {
   "cell_type": "code",
   "execution_count": null,
   "id": "5f1680c0-b645-43a0-964e-000b2f487607",
   "metadata": {},
   "outputs": [],
   "source": [
    "daily_clusters_sizes = [ (cluster_idx, model.clusterer.nb_clusters) for cluster_idx, model in sampling_model.daily_sampler_per_cluster.items()]\n",
    "nb_clusters = pd.DataFrame(daily_clusters_sizes, columns = ['cluster_idx', 'nb_clusters']).set_index('cluster_idx')\n",
    "instances_per_cluster.join(nb_clusters)"
   ]
  },
  {
   "cell_type": "markdown",
   "id": "4ce22884-bba3-4547-882f-8593d917bb10",
   "metadata": {},
   "source": [
    "# Look at the elbow visualisation of cluster 23 (the biggest cluster)"
   ]
  },
  {
   "cell_type": "code",
   "execution_count": null,
   "id": "009fdcf6-a7ee-4455-85d5-60925c75e00b",
   "metadata": {},
   "outputs": [],
   "source": [
    "sampling_model.daily_sampler_per_cluster[17].clusterer.plot_knee()"
   ]
  },
  {
   "cell_type": "code",
   "execution_count": null,
   "id": "8239b16c-2e06-48a2-a6e6-932e1261ae80",
   "metadata": {},
   "outputs": [],
   "source": [
    "    \n",
    "small_clusters = ElbowMethod(kmedoids.KMedoids(1, method = 'fasterpam'),  euc_distance_matrix, range(1, 40, 5)).fit(daily_df)\n",
    "small_clusters.plot_knee()"
   ]
  },
  {
   "cell_type": "code",
   "execution_count": null,
   "id": "fc0ef111-b828-4280-b2d2-3742b3c20e5d",
   "metadata": {},
   "outputs": [],
   "source": [
    "big_clusters = ElbowMethod(kmedoids.KMedoids(1, method = 'fasterpam'),  euc_distance_matrix, range(1, 100, 5)).fit(daily_df)\n",
    "big_clusters.plot_knee()"
   ]
  },
  {
   "cell_type": "code",
   "execution_count": null,
   "id": "4f2c3dde-51ce-4262-a1e5-f7c48ade3732",
   "metadata": {},
   "outputs": [],
   "source": [
    "big_clusters = ElbowMethod(kmedoids.KMedoids(1, method = 'fasterpam'),  euc_distance_matrix, range(1, 200, 5)).fit(daily_df)\n",
    "big_clusters.plot_knee()"
   ]
  },
  {
   "cell_type": "code",
   "execution_count": null,
   "id": "61cd5586-152a-4c84-a215-0dff4d9102e8",
   "metadata": {},
   "outputs": [],
   "source": [
    "big_clusters = ElbowMethod(kmedoids.KMedoids(1, method = 'fasterpam'),  euc_distance_matrix, range(1, 3000, 25)).fit(daily_df)\n",
    "big_clusters.plot_knee()"
   ]
  },
  {
   "cell_type": "code",
   "execution_count": null,
   "id": "d656192b-0447-4e7f-842a-72506c3b6960",
   "metadata": {},
   "outputs": [],
   "source": []
  }
 ],
 "metadata": {
  "kernelspec": {
   "display_name": "energyville",
   "language": "python",
   "name": "energyville"
  },
  "language_info": {
   "codemirror_mode": {
    "name": "ipython",
    "version": 3
   },
   "file_extension": ".py",
   "mimetype": "text/x-python",
   "name": "python",
   "nbconvert_exporter": "python",
   "pygments_lexer": "ipython3",
   "version": "3.10.4"
  }
 },
 "nbformat": 4,
 "nbformat_minor": 5
}
