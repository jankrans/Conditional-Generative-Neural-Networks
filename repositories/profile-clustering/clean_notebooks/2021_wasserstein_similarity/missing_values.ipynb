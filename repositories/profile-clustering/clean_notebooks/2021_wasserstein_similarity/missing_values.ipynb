{
 "cells": [
  {
   "cell_type": "code",
   "execution_count": null,
   "id": "229fb9f7-74cf-47d9-b4c0-90ca13d38336",
   "metadata": {},
   "outputs": [],
   "source": [
    "from energyclustering.clustering.similarity import WassersteinDistanceMeasure\n",
    "import ot"
   ]
  },
  {
   "cell_type": "markdown",
   "id": "596ea755-c5e0-4257-93c4-1000d3d68f3e",
   "metadata": {},
   "source": [
    "## The simple version\n",
    "Everything gets the same weight (0.5 because two samples)"
   ]
  },
  {
   "cell_type": "code",
   "execution_count": null,
   "id": "7bdeb292-a0a7-4489-a69e-3c01f29fe07f",
   "metadata": {},
   "outputs": [],
   "source": [
    "ot.emd2_1d(x_a = [1,2], x_b = [2,3])"
   ]
  },
  {
   "cell_type": "code",
   "execution_count": null,
   "id": "e548f055-7d0f-4d16-beea-dbc3ddbf384b",
   "metadata": {},
   "outputs": [],
   "source": [
    "ot.emd2_1d(x_a = [1,2], x_b = [2,3], a = [0.5, 0.5], b = [0.5, 0.5])"
   ]
  },
  {
   "cell_type": "markdown",
   "id": "165b452f-6bea-48de-a77c-952c238cd30a",
   "metadata": {},
   "source": [
    "### Adding a new sample"
   ]
  },
  {
   "cell_type": "code",
   "execution_count": null,
   "id": "fbe4daaf-9985-4bae-9d3e-352e483c0c81",
   "metadata": {},
   "outputs": [],
   "source": [
    "ot.emd2_1d(x_a = [1,2], x_b = [2,3,4])"
   ]
  },
  {
   "cell_type": "code",
   "execution_count": null,
   "id": "98345ade-598c-40ad-b7ba-410b2b96f3ac",
   "metadata": {},
   "outputs": [],
   "source": [
    "ot.emd2_1d(x_a = [1,2], x_b = [2,3,4], a = [0.5, 0.5], b = [1/3, 1/3, 1/3])"
   ]
  },
  {
   "cell_type": "markdown",
   "id": "ad860fbc-3fa6-4775-91c9-27c975b50837",
   "metadata": {},
   "source": [
    "## Adding a duplicate value"
   ]
  },
  {
   "cell_type": "code",
   "execution_count": null,
   "id": "467e0f6b-7c17-499d-bcd4-f125671cfe4f",
   "metadata": {},
   "outputs": [],
   "source": [
    "ot.emd2_1d(x_a = [1,2], x_b = [2,3,3])"
   ]
  },
  {
   "cell_type": "code",
   "execution_count": null,
   "id": "83f4deb2-7551-4922-b388-9221668007cf",
   "metadata": {},
   "outputs": [],
   "source": [
    "ot.emd2_1d(x_a = [1,2], x_b = [2,3], a = [0.5, 0.5], b = [1/3, 2*1/3])"
   ]
  },
  {
   "cell_type": "code",
   "execution_count": null,
   "id": "60da75c0-b14c-48ad-92b6-100062f63909",
   "metadata": {},
   "outputs": [],
   "source": [
    "ot.emd2_1d(x_a = [1,2,3], x_b = [1, 1, 2, 2,3,3])"
   ]
  }
 ],
 "metadata": {
  "kernelspec": {
   "display_name": "energyville",
   "language": "python",
   "name": "energyville"
  },
  "language_info": {
   "codemirror_mode": {
    "name": "ipython",
    "version": 3
   },
   "file_extension": ".py",
   "mimetype": "text/x-python",
   "name": "python",
   "nbconvert_exporter": "python",
   "pygments_lexer": "ipython3",
   "version": "3.8.10"
  }
 },
 "nbformat": 4,
 "nbformat_minor": 5
}
