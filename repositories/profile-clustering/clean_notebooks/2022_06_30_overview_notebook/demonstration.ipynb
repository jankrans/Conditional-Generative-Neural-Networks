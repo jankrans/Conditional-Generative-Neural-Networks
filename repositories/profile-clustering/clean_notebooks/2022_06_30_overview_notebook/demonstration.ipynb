{
 "cells": [
  {
   "cell_type": "markdown",
   "id": "3a60f918-bd94-4f56-931f-8bc9004a82a6",
   "metadata": {},
   "source": [
    "#### Standard imports"
   ]
  },
  {
   "cell_type": "code",
   "execution_count": null,
   "id": "c219ca30-4e6a-4f5d-b889-3105ed3a367c",
   "metadata": {},
   "outputs": [],
   "source": [
    "import altair as alt\n",
    "import numpy as np \n",
    "import pandas as pd \n",
    "from pathlib import Path "
   ]
  },
  {
   "cell_type": "markdown",
   "id": "091b3b32-22fe-42b7-a761-132b0890fb74",
   "metadata": {},
   "source": [
    "#### Template for charts"
   ]
  },
  {
   "cell_type": "code",
   "execution_count": null,
   "id": "5152bbb6-f1d7-4d86-9df9-c06212ed0d65",
   "metadata": {},
   "outputs": [],
   "source": [
    "def big_chart(chart, fontsize = 20): \n",
    "    return chart.configure_axis(\n",
    "        grid = False, \n",
    "    labelFontSize = fontsize,\n",
    "    titleFontSize = fontsize, \n",
    "        offset = 5, \n",
    ").configure_title(\n",
    "    fontSize = fontsize\n",
    "    ).configure_legend(\n",
    "titleFontSize=fontsize,\n",
    "labelFontSize=fontsize\n",
    ").configure_view(\n",
    "    strokeWidth=0\n",
    ")\n",
    "\n",
    "def cluster_chart(plot_df): \n",
    "    chart = alt.Chart(plot_df).mark_circle(opacity = 1).encode(\n",
    "        x = 'connection_power:Q', \n",
    "        y = 'yearly_consumption:Q', \n",
    "        color = alt.Color('cluster_idx:N', legend = None,  scale = alt.Scale(scheme = 'category20')),\n",
    "    )\n",
    "    return chart.interactive()"
   ]
  },
  {
   "cell_type": "markdown",
   "id": "b45f4c2c-5e35-4256-9f9d-8187537d2507",
   "metadata": {},
   "source": [
    "#### Load the data"
   ]
  },
  {
   "cell_type": "code",
   "execution_count": null,
   "id": "5d9e81b7-aebc-4253-8ec2-709cc5ff1c1c",
   "metadata": {},
   "outputs": [],
   "source": [
    "from energyclustering.sampling.preprocessing import DataPreprocessor\n",
    "daily_data_df, data_df, daily_info_df, weather_df = (\n",
    "    DataPreprocessor()\n",
    "    .preprocess_info_df('baseline')\n",
    "    .preprocess_weather_df('baseline')\n",
    "    .drop_days_with_nan(True)\n",
    "    .subsample_days(week_reduction_factor = None)\n",
    "    # for testing only!\n",
    "    .subsample_years(None)\n",
    "    .get_data()\n",
    ")\n",
    "# household info \n",
    "household_info = daily_info_df.loc[:, 'household_info'].drop_duplicates().droplevel('date')\n",
    "\n",
    "daily_data_df.shape"
   ]
  },
  {
   "cell_type": "markdown",
   "id": "23a8ba65-3fdf-4bdd-bd74-55920df40a48",
   "metadata": {},
   "source": [
    "## Visualization of profiles in yearly_consumption, connection_capacity space"
   ]
  },
  {
   "cell_type": "code",
   "execution_count": null,
   "id": "20072723-1215-46df-bf46-7c4639e6e9f0",
   "metadata": {},
   "outputs": [],
   "source": [
    "household_info"
   ]
  },
  {
   "cell_type": "code",
   "execution_count": null,
   "id": "63617be7-a0c6-4435-af80-2749207fd6a1",
   "metadata": {},
   "outputs": [],
   "source": [
    "chart = alt.Chart(household_info).mark_circle().encode(\n",
    "       x = 'connection_power:Q', \n",
    "    y = 'yearly_consumption:Q'\n",
    ").interactive()\n",
    "big_chart(chart)"
   ]
  },
  {
   "cell_type": "code",
   "execution_count": null,
   "id": "0d5d96ef-7cac-4f36-9cb8-eb34d8e63986",
   "metadata": {},
   "outputs": [],
   "source": [
    "NB_CLUSTERS = 40 "
   ]
  },
  {
   "cell_type": "markdown",
   "id": "d9e40672-9bd9-4837-aab9-00553a480f96",
   "metadata": {},
   "source": [
    "# K-means clustering based on yearly_consumption and connection_capacity"
   ]
  },
  {
   "cell_type": "code",
   "execution_count": null,
   "id": "091a6b3e-68bd-48a3-b731-2f4ae1a685bf",
   "metadata": {},
   "outputs": [],
   "source": [
    "from sklearn.preprocessing import MinMaxScaler\n",
    "from sklearn.cluster import KMeans\n",
    "data_to_cluster = (\n",
    "    household_info[['connection_power', 'yearly_consumption']]\n",
    "    .pipe(lambda x: MinMaxScaler().fit_transform(x))\n",
    ")\n",
    "\n",
    "clusterer = KMeans(n_clusters = NB_CLUSTERS).fit(data_to_cluster)\n",
    "labels = pd.Series(clusterer.labels_, index = household_info.index, name = 'cluster_idx')\n",
    "labels"
   ]
  },
  {
   "cell_type": "code",
   "execution_count": null,
   "id": "67691263-6fc7-4769-ad5f-65f37aa20d70",
   "metadata": {},
   "outputs": [],
   "source": [
    "plot_df = household_info[['connection_power', 'yearly_consumption']].join(labels)\n",
    "two_attributes = cluster_chart(plot_df).properties(title = 'Yearly consumption + connection capacity clustering')\n",
    "two_attributes"
   ]
  },
  {
   "cell_type": "markdown",
   "id": "547c4c3d-5ed9-4098-a4f1-0ebb6915b238",
   "metadata": {},
   "source": [
    "# K-means clustering based on yearly_consumption "
   ]
  },
  {
   "cell_type": "code",
   "execution_count": null,
   "id": "de4e50fa-9350-40d4-9c97-629499725a7b",
   "metadata": {},
   "outputs": [],
   "source": [
    "from sklearn.preprocessing import MinMaxScaler\n",
    "from sklearn.cluster import KMeans\n",
    "data_to_cluster = (\n",
    "    household_info[['yearly_consumption']]\n",
    "    .pipe(lambda x: MinMaxScaler().fit_transform(x))\n",
    ")\n",
    "\n",
    "clusterer = KMeans(n_clusters = NB_CLUSTERS).fit(data_to_cluster)\n",
    "labels = pd.Series(clusterer.labels_, index = household_info.index, name = 'cluster_idx')\n",
    "labels"
   ]
  },
  {
   "cell_type": "code",
   "execution_count": null,
   "id": "cf4ac43e-06b6-4046-8cc8-72445498e443",
   "metadata": {},
   "outputs": [],
   "source": [
    "plot_df = household_info[['yearly_consumption', 'connection_power']].join(labels)\n",
    "one_attribute = cluster_chart(plot_df).properties(title = 'Yearly consumption clustering')\n",
    "one_attribute"
   ]
  },
  {
   "cell_type": "markdown",
   "id": "c2293053-9eea-4a74-93cb-f1630b536aaf",
   "metadata": {},
   "source": [
    "# K-medoids clustering based on consumption timeseries"
   ]
  },
  {
   "cell_type": "code",
   "execution_count": null,
   "id": "ad19f781-a379-49fb-a315-2fbce087fbcb",
   "metadata": {},
   "outputs": [],
   "source": [
    "from numba import jit, float64\n",
    "from sklearn.metrics.pairwise import pairwise_distances\n",
    "import kmedoids"
   ]
  },
  {
   "cell_type": "code",
   "execution_count": null,
   "id": "0554bad9-2541-46aa-8463-f2bc8932c1b1",
   "metadata": {},
   "outputs": [],
   "source": [
    "%%time \n",
    "@jit(float64(float64[:], float64[:]), nogil = True, nopython = True)\n",
    "def euc_dist_missing(a1, a2): \n",
    "    return np.nanmean((a1-a2)**2)\n",
    "\n",
    "euc_distance_matrix_missing = lambda x: pairwise_distances(x, metric = euc_dist_missing, force_all_finite = 'allow-nan', n_jobs = -1)\n",
    "# euc_distance_matrix = lambda x: euclidean_distances(x.fillna(0))\n",
    "# dtw_distance_matrix = lambda x: dtw.distance_matrix_fast(x.to_numpy(), window = 4)\n",
    "\n",
    "class CustomKMedoids: \n",
    "    def __init__(self, nb_clusters, metric, random_state = None): \n",
    "        self.nb_clusters = nb_clusters\n",
    "        self.metric = metric\n",
    "        self.random_state = random_state\n",
    "        self.labels_ = None\n",
    "    \n",
    "    def fit(self, data):\n",
    "        matrix = self.metric(data) \n",
    "        km = kmedoids.KMedoids(self.nb_clusters, method = 'fasterpam', random_state = self.random_state) \n",
    "        c = km.fit(matrix)\n",
    "        self.labels_ = c.labels_.astype('int')\n",
    "        return self\n",
    "cache_path = Path()/f'cache/yearly_consumption_clustering_{NB_CLUSTERS}.pkl'\n",
    "if cache_path.exists(): \n",
    "    labels = pd.read_pickle(cache_path)\n",
    "else: \n",
    "    clusterer = CustomKMedoids(NB_CLUSTERS, euc_distance_matrix_missing, random_state = 0).fit(data_df)\n",
    "    labels = pd.Series(clusterer.labels_, index = data_df.index, name = 'cluster_idx')\n",
    "    cache_path.parent.mkdir(exist_ok=True)\n",
    "    labels.to_pickle(cache_path)\n"
   ]
  },
  {
   "cell_type": "code",
   "execution_count": null,
   "id": "b048616a-680f-46ad-b369-c476ca785592",
   "metadata": {},
   "outputs": [],
   "source": [
    "plot_df = household_info[['yearly_consumption', 'connection_power']].join(labels).reset_index()\n",
    "consumption_chart = cluster_chart(plot_df).properties(title = \"Consumption TS clustering\").encode(tooltip = 'meterID')\n",
    "consumption_chart"
   ]
  },
  {
   "cell_type": "code",
   "execution_count": null,
   "id": "cfef7253-fdb8-4305-ba82-594541eb8505",
   "metadata": {},
   "outputs": [],
   "source": [
    "keep_labels = labels.loc[household_info.index]"
   ]
  },
  {
   "cell_type": "code",
   "execution_count": null,
   "id": "fb575c6e-0066-4720-a753-0bbb6ede94fa",
   "metadata": {},
   "outputs": [],
   "source": [
    "from sklearn.tree import DecisionTreeClassifier, plot_tree\n",
    "from sklearn.ensemble import RandomForestClassifier\n",
    "household_info\n",
    "tree = RandomForestClassifier(criterion = 'log_loss').fit(household_info, keep_labels)\n",
    "# leafs = pd.Series(tree.apply(household_info), index = household_info.index, name = 'cluster_idx')\n",
    "# plot_df = household_info[['yearly_consumption', 'connection_power']].join(leafs)\n",
    "# cluster_chart(plot_df)"
   ]
  },
  {
   "cell_type": "code",
   "execution_count": null,
   "id": "6067168f-d4fb-48ed-bcd0-e75ec2cdac33",
   "metadata": {},
   "outputs": [],
   "source": [
    "pd.Series(tree.feature_importances_, index = household_info.columns)"
   ]
  },
  {
   "cell_type": "code",
   "execution_count": null,
   "id": "0156d0b6-f632-4cb7-8cac-89315b777b40",
   "metadata": {},
   "outputs": [],
   "source": [
    "def show_sampling_probs_for_instance(meterID): \n",
    "    highlight_df = household_info[['yearly_consumption', 'connection_power']].assign(color = lambda x: x.index == meterID)\n",
    "    highlight = alt.Chart(highlight_df.reset_index()).mark_circle().encode(\n",
    "        x = 'connection_power', \n",
    "        y = 'yearly_consumption', \n",
    "        color= alt.Color('color', scale = alt.Scale(domain = [False, True], range = ['gray', 'blue'])), \n",
    "        opacity = alt.Opacity('color', scale = alt.Scale(domain = [False, True], range = [0.5, 1])), \n",
    "        tooltip = 'meterID', \n",
    "        order = alt.Order('color', sort = 'ascending')\n",
    "    )\n",
    "    info = household_info.loc[[meterID]].to_numpy()\n",
    "    probabilities = pd.Series(tree.predict_proba(info)[0], name = 'probs')\n",
    "    prob_df = household_info[['yearly_consumption', 'connection_power']].join(keep_labels.to_frame().join(probabilities, on = 'cluster_idx'))\n",
    "    prob_chart = alt.Chart(prob_df).mark_circle().encode(\n",
    "        x = 'connection_power',\n",
    "        y = 'yearly_consumption', \n",
    "        color = alt.Color('probs', scale = alt.Scale(scheme = 'teals')), \n",
    "        tooltip = 'probs'\n",
    "    )\n",
    "    return highlight.interactive() | prob_chart.interactive()\n",
    "    "
   ]
  },
  {
   "cell_type": "code",
   "execution_count": null,
   "id": "7e3d56af-d88f-41bf-8940-46717bbb4ca9",
   "metadata": {},
   "outputs": [],
   "source": [
    "probs = show_sampling_probs_for_instance(\"('smartmeter_1989', 2016)\")\n",
    "probs"
   ]
  },
  {
   "cell_type": "code",
   "execution_count": null,
   "id": "697f310e-b85a-4308-bfbd-27331e8da2f6",
   "metadata": {},
   "outputs": [],
   "source": [
    "probs = show_sampling_probs_for_instance(\"('smartmeter_1130', 2017)\")\n",
    "probs"
   ]
  },
  {
   "cell_type": "code",
   "execution_count": null,
   "id": "f1431714-c859-4064-94e6-c9b143008040",
   "metadata": {},
   "outputs": [],
   "source": [
    "probs = show_sampling_probs_for_instance(\"('smartmeter_1154', 2017)\")\n",
    "probs"
   ]
  },
  {
   "cell_type": "markdown",
   "id": "176985d9-f56f-4e9d-93f8-7a2d8835939e",
   "metadata": {},
   "source": [
    "# Compare"
   ]
  },
  {
   "cell_type": "code",
   "execution_count": null,
   "id": "0383a83d-41f1-4b3a-abfc-b3cda66eff02",
   "metadata": {},
   "outputs": [],
   "source": [
    "two_attributes | one_attribute | consumption_chart"
   ]
  },
  {
   "cell_type": "code",
   "execution_count": null,
   "id": "1e54e30f-95f9-4b68-bdfb-b597eaae6c12",
   "metadata": {},
   "outputs": [],
   "source": []
  }
 ],
 "metadata": {
  "kernelspec": {
   "display_name": "energyville",
   "language": "python",
   "name": "energyville"
  },
  "language_info": {
   "codemirror_mode": {
    "name": "ipython",
    "version": 3
   },
   "file_extension": ".py",
   "mimetype": "text/x-python",
   "name": "python",
   "nbconvert_exporter": "python",
   "pygments_lexer": "ipython3",
   "version": "3.10.4"
  }
 },
 "nbformat": 4,
 "nbformat_minor": 5
}
