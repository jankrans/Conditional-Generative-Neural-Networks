{
 "cells": [
  {
   "cell_type": "markdown",
   "id": "39677450-e047-49c3-919f-d086e0ad7d17",
   "metadata": {},
   "source": [
    "# Test"
   ]
  },
  {
   "cell_type": "code",
   "execution_count": null,
   "id": "d6d311ac-e466-41f9-89e1-6a3b7ad9fe4c",
   "metadata": {},
   "outputs": [],
   "source": [
    "import pandas as pd"
   ]
  },
  {
   "cell_type": "code",
   "execution_count": null,
   "id": "53171c84-880b-44b6-8917-94558cf07f9b",
   "metadata": {},
   "outputs": [],
   "source": [
    "clustering = pd.Series([1,2,3,4], index = ['(\"id1\", 2012)', '(\"id1\", 2012)', '(\"id3\", 2012)' ,'(\"id4\", 2012)'])\n",
    "clustering"
   ]
  },
  {
   "cell_type": "code",
   "execution_count": null,
   "id": "6b81e36b-f96d-4d97-bdf6-3c46846d6929",
   "metadata": {},
   "outputs": [],
   "source": [
    "clustering.index.to_frame()[0].apply(lambda x: x[2:-8]).to_frame('ID').reset_index().set_index('ID').loc['id1']"
   ]
  },
  {
   "cell_type": "code",
   "execution_count": null,
   "id": "aae749f5-bfe7-4f79-a93b-dd77d1fb047e",
   "metadata": {},
   "outputs": [],
   "source": [
    "import numpy as np \n",
    "from energyclustering.sampling.preprocessing import DataPreprocessor\n",
    "from dask.distributed import Client\n",
    "import pandas as pd\n",
    "import altair as alt\n",
    "from energyclustering.sampling.samplers import ConsumptionDataSampler, ConsumptionDataSamplerWithValidation, MetadataSampler, EnergyvilleDaySelectionBaseline, RandomSamplerBaseline\n",
    "from energyclustering.sampling.day_of_year_samplers import DailySamplerFromClusterSampler,IndividualDailySamplerFromClusterSampler, GenerateSampleDecorator\n",
    "from sklearn.ensemble import RandomForestClassifier \n",
    "from sklearn.tree import DecisionTreeClassifier\n",
    "from sklearn.cluster import KMeans\n",
    "from pathlib import Path\n",
    "from energyclustering.sampling.evaluation.evaluation import SamplerEvaluator"
   ]
  },
  {
   "cell_type": "code",
   "execution_count": null,
   "id": "7198cc9b-eb99-4388-9bbc-b3d483cf305b",
   "metadata": {},
   "outputs": [],
   "source": [
    "import warnings\n",
    "warnings.simplefilter(action='ignore', category=FutureWarning)"
   ]
  },
  {
   "cell_type": "code",
   "execution_count": null,
   "id": "8ae3a081-b556-433e-99a5-78101faf70b1",
   "metadata": {},
   "outputs": [],
   "source": [
    "%load_ext autoreload\n",
    "%autoreload 2"
   ]
  },
  {
   "cell_type": "markdown",
   "id": "00897d6d-ae58-4475-85ae-e0414f9b6837",
   "metadata": {},
   "source": [
    "# The data"
   ]
  },
  {
   "cell_type": "code",
   "execution_count": null,
   "id": "22ddfc0f-f4cf-4515-9c62-f8b3efbddd4c",
   "metadata": {},
   "outputs": [],
   "source": [
    "daily_data_df, data_df, daily_info_df, weather_df = (\n",
    "    DataPreprocessor()\n",
    "    .preprocess_info_df('baseline')\n",
    "    .preprocess_weather_df('baseline')\n",
    "    .drop_days_with_nan(True)\n",
    "    # no subsampling this time\n",
    "    .subsample_days(week_reduction_factor = None)\n",
    "    # for testing only!\n",
    "    .subsample_years(1000)\n",
    "    .get_data()\n",
    ")\n",
    "daily_data_df.shape"
   ]
  },
  {
   "cell_type": "markdown",
   "id": "8557e997-090d-4012-a28b-9d73a0b3fc6f",
   "metadata": {},
   "source": [
    "# Folds"
   ]
  },
  {
   "cell_type": "code",
   "execution_count": null,
   "id": "a961ca55-c89f-4cd8-84ba-8c3810230e92",
   "metadata": {},
   "outputs": [],
   "source": [
    "generator = np.random.default_rng(1)\n",
    "shuffled = data_df.index.to_numpy(copy=True)\n",
    "generator.shuffle(shuffled)\n",
    "folds = np.array_split(shuffled, 3)"
   ]
  },
  {
   "cell_type": "code",
   "execution_count": null,
   "id": "60ba1bd7-997a-48a2-aa50-6739ddac5323",
   "metadata": {},
   "outputs": [],
   "source": [
    "NB_OF_YEARLY_CLUSTERS = 4\n",
    "NB_DAILY_CLUSTERS = 30\n",
    "NB_SAMPLES = 500\n",
    "models = dict(\n",
    "    per_profile = GenerateSampleDecorator(\n",
    "                sampler = IndividualDailySamplerFromClusterSampler(\n",
    "                    yearly_sampler = ConsumptionDataSampler(\n",
    "                        classifier = RandomForestClassifier(), \n",
    "                        clusterer = KMeans(NB_OF_YEARLY_CLUSTERS), \n",
    "                        info_preprocessing = None\n",
    "                    ), \n",
    "                    daily_sampler = ConsumptionDataSampler(\n",
    "                        classifier = DecisionTreeClassifier(criterion = 'log_loss', max_depth = 4), \n",
    "                        clusterer = KMeans(NB_DAILY_CLUSTERS), \n",
    "                        info_preprocessing = None\n",
    "                    )\n",
    "                ), \n",
    "                n_samples = NB_SAMPLES, \n",
    "    ),\n",
    "    per_cluster = GenerateSampleDecorator(\n",
    "                sampler = DailySamplerFromClusterSampler(\n",
    "                    yearly_sampler = ConsumptionDataSampler(\n",
    "                        classifier = RandomForestClassifier(), \n",
    "                        clusterer = KMeans(NB_OF_YEARLY_CLUSTERS), \n",
    "                        info_preprocessing = None\n",
    "                    ), \n",
    "                    daily_sampler = ConsumptionDataSampler(\n",
    "                        classifier = DecisionTreeClassifier(criterion = 'log_loss', max_depth = 4), \n",
    "                        clusterer = KMeans(NB_DAILY_CLUSTERS), \n",
    "                        info_preprocessing = None\n",
    "                    )\n",
    "                ), \n",
    "                n_samples = NB_SAMPLES, \n",
    "    ), \n",
    "    per_profile_validation = GenerateSampleDecorator(\n",
    "                sampler = IndividualDailySamplerFromClusterSampler(\n",
    "                    yearly_sampler = ConsumptionDataSampler(\n",
    "                        classifier = RandomForestClassifier(), \n",
    "                        clusterer = KMeans(NB_OF_YEARLY_CLUSTERS), \n",
    "                        info_preprocessing = None\n",
    "                    ), \n",
    "                    daily_sampler = ConsumptionDataSamplerWithValidation(\n",
    "                        classifier = DecisionTreeClassifier(criterion = 'log_loss', max_depth = 4), \n",
    "                        clusterer = KMeans(NB_DAILY_CLUSTERS), \n",
    "                        info_preprocessing = None\n",
    "                    )\n",
    "                ), \n",
    "                n_samples = NB_SAMPLES, \n",
    "    ),\n",
    "    per_cluster_validation = GenerateSampleDecorator(\n",
    "                sampler = DailySamplerFromClusterSampler(\n",
    "                    yearly_sampler = ConsumptionDataSampler(\n",
    "                        classifier = RandomForestClassifier(), \n",
    "                        clusterer = KMeans(NB_OF_YEARLY_CLUSTERS), \n",
    "                        info_preprocessing = None\n",
    "                    ), \n",
    "                    daily_sampler = ConsumptionDataSamplerWithValidation(\n",
    "                        classifier = DecisionTreeClassifier(criterion = 'log_loss', max_depth = 4), \n",
    "                        clusterer = KMeans(NB_DAILY_CLUSTERS), \n",
    "                        info_preprocessing = None\n",
    "                    )\n",
    "                ), \n",
    "                n_samples = NB_SAMPLES, \n",
    "    ), \n",
    "    \n",
    ")\n",
    "result_path = Path()/'results'/'per_profile_PoC'\n",
    "result_path.mkdir(parents = True, exist_ok = True)\n",
    "\n",
    "with Client(local_directory = '/cw/dtailocal/', n_workers=30, threads_per_worker = 1) as client:\n",
    "    evaluator = SamplerEvaluator(folds, daily_data_df, daily_info_df, data_df, client, 400, crossval = False)\n",
    "    energy_scores = []\n",
    "    for key, model in models.items():\n",
    "        energy_score = evaluator.evaluate_and_save(model, result_path/f\"{key}.pkl\")\n",
    "        energy_scores.append(energy_score)\n",
    "    energy_scores = pd.concat(energy_scores, axis = 1, keys = models.keys())\n",
    "\n",
    "# aggregate energy scores\n",
    "plot_df = energy_scores.mean(axis = 0).to_frame('mean energy score')\n",
    "std_df = energy_scores.std(axis = 0).to_frame('std energy score')"
   ]
  },
  {
   "cell_type": "code",
   "execution_count": null,
   "id": "e9129afe-ce25-427a-acd2-88b5c99865c6",
   "metadata": {},
   "outputs": [],
   "source": [
    "plot_df"
   ]
  },
  {
   "cell_type": "code",
   "execution_count": null,
   "id": "bfaeccbd-ea32-4532-81cb-b2d4bf7350d8",
   "metadata": {},
   "outputs": [],
   "source": [
    "std_df"
   ]
  },
  {
   "cell_type": "code",
   "execution_count": null,
   "id": "952d6b03-9ccd-4ef4-9840-501bf6102f4a",
   "metadata": {},
   "outputs": [],
   "source": []
  }
 ],
 "metadata": {
  "kernelspec": {
   "display_name": "energyville",
   "language": "python",
   "name": "energyville"
  },
  "language_info": {
   "codemirror_mode": {
    "name": "ipython",
    "version": 3
   },
   "file_extension": ".py",
   "mimetype": "text/x-python",
   "name": "python",
   "nbconvert_exporter": "python",
   "pygments_lexer": "ipython3",
   "version": "3.10.4"
  }
 },
 "nbformat": 4,
 "nbformat_minor": 5
}
