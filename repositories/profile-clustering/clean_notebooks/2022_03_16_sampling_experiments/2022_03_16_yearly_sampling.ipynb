{
 "cells": [
  {
   "cell_type": "markdown",
   "id": "7aa4dadf-2898-4711-b2fd-a4b8811179ff",
   "metadata": {},
   "source": [
    "# First try to work with sampling code I wrote"
   ]
  },
  {
   "cell_type": "code",
   "execution_count": null,
   "id": "c2e179b9-6944-4be2-8481-4352d2683fdc",
   "metadata": {},
   "outputs": [],
   "source": [
    "from pathlib import Path\n",
    "import pandas as pd \n",
    "import numpy as np\n",
    "import altair as alt"
   ]
  },
  {
   "cell_type": "code",
   "execution_count": null,
   "id": "b2aa889b-dad7-40b7-a3d7-f9d3e0b92735",
   "metadata": {},
   "outputs": [],
   "source": [
    "%load_ext autoreload\n",
    "%autoreload 2"
   ]
  },
  {
   "cell_type": "code",
   "execution_count": null,
   "id": "40f50058-21fc-4b49-932a-96de1e319597",
   "metadata": {},
   "outputs": [],
   "source": [
    "from energyclustering.data.fluvius.data import read_data_pickle\n",
    "from energyclustering.data.weather.data import read_weather_data\n",
    "from sklearn.model_selection import train_test_split"
   ]
  },
  {
   "cell_type": "code",
   "execution_count": null,
   "id": "4391360c-82ee-4449-b1b4-34fe39772f9f",
   "metadata": {},
   "outputs": [],
   "source": [
    "NB_PROFILES = 2000 "
   ]
  },
  {
   "cell_type": "code",
   "execution_count": null,
   "id": "a1493c5f-08fa-4f27-ac2f-f70e8e19a630",
   "metadata": {},
   "outputs": [],
   "source": [
    "full_info_df, full_data_df = read_data_pickle()"
   ]
  },
  {
   "cell_type": "markdown",
   "id": "086b85cb-d649-48a1-a678-2c750f0742f5",
   "metadata": {},
   "source": [
    "### Subsample the full data"
   ]
  },
  {
   "cell_type": "code",
   "execution_count": null,
   "id": "f546d12a-ad61-49ae-bd32-6d6b71fafb7c",
   "metadata": {},
   "outputs": [],
   "source": [
    "data_df = full_data_df.sample(NB_PROFILES, random_state = 123)\n",
    "data_train_df, data_test_df = train_test_split(data_df, test_size = 0.3)\n",
    "info_train_df, info_test_df = full_info_df.loc[data_train_df.index], full_info_df.loc[data_test_df.index]"
   ]
  },
  {
   "cell_type": "markdown",
   "id": "8a7522de-fb30-4b77-a34a-bb7a4f15dcf8",
   "metadata": {},
   "source": [
    "### Preprocess the metadata"
   ]
  },
  {
   "cell_type": "code",
   "execution_count": null,
   "id": "6270dfc6-d479-4046-bfb4-ddfec8aa2ff6",
   "metadata": {},
   "outputs": [],
   "source": [
    "from energyclustering.sampling.preprocessing import preprocess_info_df_for_sampling_classification"
   ]
  },
  {
   "cell_type": "code",
   "execution_count": null,
   "id": "bb270faf-34ff-412d-afb0-dc31d253810e",
   "metadata": {},
   "outputs": [],
   "source": [
    "info_train_df.head()"
   ]
  },
  {
   "cell_type": "code",
   "execution_count": null,
   "id": "81064f23-cbe5-4c35-a101-e68944b98840",
   "metadata": {},
   "outputs": [],
   "source": [
    "info_train_df_pre = preprocess_info_df_for_sampling_classification(info_train_df, data_train_df)\n",
    "info_test_df_pre = preprocess_info_df_for_sampling_classification(info_test_df, data_test_df)\n",
    "info_train_df_pre.head()"
   ]
  },
  {
   "cell_type": "markdown",
   "id": "d968af1e-6d0e-4846-a47c-0de242a583ea",
   "metadata": {},
   "source": [
    "### Load the weather data"
   ]
  },
  {
   "cell_type": "code",
   "execution_count": null,
   "id": "473ab874-a99b-49d5-9904-e64bb00a4332",
   "metadata": {},
   "outputs": [],
   "source": [
    "weather_data = (\n",
    "    read_weather_data('aalst')\n",
    "    .drop(columns = ['moon_illumination', 'moonrise', 'moonset', 'sunrise', 'winddirDegree', 'location', 'DewPointC'])\n",
    ")\n",
    "weather_data.head()"
   ]
  },
  {
   "cell_type": "markdown",
   "id": "c2bec14a-2c41-4e27-bef8-98006958d4f8",
   "metadata": {},
   "source": [
    "# Try random sampling"
   ]
  },
  {
   "cell_type": "code",
   "execution_count": null,
   "id": "a059ece2-ea7b-456c-9245-c0aa022cb3cd",
   "metadata": {},
   "outputs": [],
   "source": [
    "from energyclustering.sampling.samplers import RandomSampler\n",
    "from energyclustering.sampling.evaluation_metrics import calculate_energy_score_matrix"
   ]
  },
  {
   "cell_type": "code",
   "execution_count": null,
   "id": "0ff300a9-e533-4cc0-ad5f-5b192a8f319e",
   "metadata": {},
   "outputs": [],
   "source": [
    "sampler = RandomSampler()\n",
    "sampler.fit(info_train_df, data_train_df, None, None)\n",
    "yearly_sampling_probs = sampler.get_sampling_probabilities(info_test_df)"
   ]
  },
  {
   "cell_type": "code",
   "execution_count": null,
   "id": "55560871-c0c4-426b-862b-38da3dd4b5d2",
   "metadata": {},
   "outputs": [],
   "source": [
    "yearly_energy_scores_per_profile = calculate_energy_score_matrix(yearly_sampling_probs.to_numpy(), data_train_df.fillna(0), data_test_df.fillna(0))\n",
    "yearly_energy_score_random = yearly_energy_scores_per_profile.sum()\n",
    "print(f\"random samplings energy score is {yearly_energy_score_random:.2f}\")"
   ]
  },
  {
   "cell_type": "markdown",
   "id": "945ae404-f084-4274-b00a-a8f8e4c91960",
   "metadata": {},
   "source": [
    "# Try sampling from clustering based on metadata"
   ]
  },
  {
   "cell_type": "code",
   "execution_count": null,
   "id": "db20e884-f149-4a78-9b17-cd2a5e249d2f",
   "metadata": {},
   "outputs": [],
   "source": [
    "from energyclustering.sampling.samplers import MetadataSampler"
   ]
  },
  {
   "cell_type": "markdown",
   "id": "92ca7982-28a1-4204-9697-ad5c4f84f6c9",
   "metadata": {},
   "source": [
    "### Cluster the info_train_df based on kmeans"
   ]
  },
  {
   "cell_type": "code",
   "execution_count": null,
   "id": "3fcfbb88-9d27-409e-8d85-c193c8b0a8f6",
   "metadata": {},
   "outputs": [],
   "source": [
    "\n",
    "from sklearn.cluster import KMeans"
   ]
  },
  {
   "cell_type": "code",
   "execution_count": null,
   "id": "681fceff-4fbe-4d8f-9159-7499050f252f",
   "metadata": {},
   "outputs": [],
   "source": [
    "clusterer = KMeans(n_clusters = 5, random_state = 123)\n",
    "clusterer.fit(info_train_df_pre)\n",
    "clustering = clusterer.labels_\n",
    "centroids = clusterer.cluster_centers_"
   ]
  },
  {
   "cell_type": "markdown",
   "id": "7f8c23ac-91bc-4ead-82a0-3b5939180c37",
   "metadata": {},
   "source": [
    "### Fit the sampler"
   ]
  },
  {
   "cell_type": "code",
   "execution_count": null,
   "id": "b9ae86e1-ebf8-4000-a9f5-621cf2c4c0bd",
   "metadata": {},
   "outputs": [],
   "source": [
    "sampler = MetadataSampler()\n",
    "sampler.fit(info_train_df, data_train_df, clustering, centroids)\n",
    "yearly_sampling_probs = sampler.get_sampling_probabilities(info_test_df_pre)"
   ]
  },
  {
   "cell_type": "markdown",
   "id": "39297ada-5ca0-40c0-84db-62ff9b46d4fe",
   "metadata": {},
   "source": [
    "### Evaluate"
   ]
  },
  {
   "cell_type": "code",
   "execution_count": null,
   "id": "dbd24587-61dc-418c-a9db-0eac677250aa",
   "metadata": {},
   "outputs": [],
   "source": [
    "yearly_energy_scores_per_profile = calculate_energy_score_matrix(yearly_sampling_probs.to_numpy(), data_train_df.fillna(0), data_test_df.fillna(0))\n",
    "yearly_energy_score_metadata = yearly_energy_scores_per_profile.sum()\n",
    "print(f\"clustering based on metadata samplings energy score is {yearly_energy_score_metadata:.2f}\")"
   ]
  },
  {
   "cell_type": "markdown",
   "id": "5eaced26-99f6-4209-b3b7-3ccb21e1e7bd",
   "metadata": {},
   "source": [
    "# Try sampling from the clustering based on consumption data"
   ]
  },
  {
   "cell_type": "markdown",
   "id": "dbeb40ec-8f05-4db5-8671-cd1494369c63",
   "metadata": {},
   "source": [
    "### First calculate the wasserstein distance matrix"
   ]
  },
  {
   "cell_type": "code",
   "execution_count": null,
   "id": "5b2fa0df-60de-472d-bb2e-64fe6711d96a",
   "metadata": {},
   "outputs": [],
   "source": [
    "from energyclustering.clustering.similarity.distmatrix import calculate_full_distance_matrix\n",
    "from energyclustering.clustering.similarity.wasserstein import WassersteinDistanceMeasure\n"
   ]
  },
  {
   "cell_type": "code",
   "execution_count": null,
   "id": "373a9217-3f03-4ce7-a210-2cb8a8413bdc",
   "metadata": {},
   "outputs": [],
   "source": [
    "from dask.distributed import Client, LocalCluster\n",
    "cluster = LocalCluster(n_workers = 30, threads_per_worker = 1, local_directory = '/cw/dtailocal/jonass')\n",
    "filename = f'cache/cached_wasserstein_{NB_PROFILES}.pkl'\n",
    "if not Path(filename).exists(): \n",
    "    with Client(cluster) as client: \n",
    "        distance_matrix = calculate_full_distance_matrix(data_train_df, WassersteinDistanceMeasure(),client, n_blocks = data_train_df.shape[0])\n",
    "    distance_matrix.to_pickle(filename)\n",
    "else: \n",
    "    distance_matrix = pd.read_pickle(filename)"
   ]
  },
  {
   "cell_type": "markdown",
   "id": "5f944e35-fe0f-407c-a9cc-a78b8ff7c1be",
   "metadata": {},
   "source": [
    "### Cluster based on wasserstein distance matri"
   ]
  },
  {
   "cell_type": "code",
   "execution_count": null,
   "id": "4a6a577c-78d1-46a6-a1c6-596c547c9775",
   "metadata": {},
   "outputs": [],
   "source": [
    "from sklearn_extra.cluster import KMedoids\n",
    "clusterer = KMedoids(20, metric = 'precomputed', random_state  = 123).fit(distance_matrix)\n",
    "labels = clusterer.labels_"
   ]
  },
  {
   "cell_type": "markdown",
   "id": "6dadc8c9-d0fa-4b76-9cbe-b591a9c1698a",
   "metadata": {},
   "source": [
    "### Fit the sampler"
   ]
  },
  {
   "cell_type": "code",
   "execution_count": null,
   "id": "7f826347-ce1a-4e68-99ae-06e87837617f",
   "metadata": {},
   "outputs": [],
   "source": [
    "from energyclustering.sampling.samplers import ConsumptionDataSampler\n",
    "from sklearn.tree import DecisionTreeClassifier"
   ]
  },
  {
   "cell_type": "code",
   "execution_count": null,
   "id": "58d7b680-0f8f-4913-b998-2f5874fa7c40",
   "metadata": {},
   "outputs": [],
   "source": [
    "sampler = ConsumptionDataSampler(DecisionTreeClassifier(max_depth = 5), seed = 123)\n",
    "sampler.fit(info_train_df_pre, data_train_df, labels)\n",
    "yearly_sampling_probs = sampler.get_sampling_probabilities(info_test_df_pre)\n",
    "yearly_sampling_probs"
   ]
  },
  {
   "cell_type": "markdown",
   "id": "38840663-6575-41aa-a8b1-183852d02b20",
   "metadata": {},
   "source": [
    "### Evaluate"
   ]
  },
  {
   "cell_type": "code",
   "execution_count": null,
   "id": "eb00e519-f3ff-47f3-824d-aba799cc3191",
   "metadata": {},
   "outputs": [],
   "source": [
    "yearly_energy_scores_per_profile = calculate_energy_score_matrix(yearly_sampling_probs.to_numpy(), data_train_df.fillna(0), data_test_df.fillna(0))\n",
    "yearly_energy_score_consumption_data = yearly_energy_scores_per_profile.sum()\n",
    "print(f\"clustering based on consumption data energy score is {yearly_energy_score_consumption_data:.2f}\")"
   ]
  },
  {
   "cell_type": "markdown",
   "id": "d2f787d1-93e9-4fd3-a1fa-16f1735aca6f",
   "metadata": {},
   "source": [
    "# Overview of all three approaches"
   ]
  },
  {
   "cell_type": "code",
   "execution_count": null,
   "id": "247b4839-9790-480b-ab7b-86a49eec56e6",
   "metadata": {},
   "outputs": [],
   "source": [
    "result_df = pd.DataFrame([[yearly_energy_score_random], [yearly_energy_score_metadata], [yearly_energy_score_consumption_data]], index = ['random', 'metadata', 'consumption_data'], columns = ['energy_score'])\n",
    "result_df"
   ]
  },
  {
   "cell_type": "code",
   "execution_count": null,
   "id": "7caab1a8-7639-47a9-8fdf-47c97cf8a183",
   "metadata": {},
   "outputs": [],
   "source": [
    "pd.Series(labels).value_counts()"
   ]
  },
  {
   "cell_type": "code",
   "execution_count": null,
   "id": "d55b4d12-0788-4b43-88e2-8ae9f706e79e",
   "metadata": {},
   "outputs": [],
   "source": []
  }
 ],
 "metadata": {
  "kernelspec": {
   "display_name": "energyville",
   "language": "python",
   "name": "energyville"
  },
  "language_info": {
   "codemirror_mode": {
    "name": "ipython",
    "version": 3
   },
   "file_extension": ".py",
   "mimetype": "text/x-python",
   "name": "python",
   "nbconvert_exporter": "python",
   "pygments_lexer": "ipython3",
   "version": "3.10.4"
  }
 },
 "nbformat": 4,
 "nbformat_minor": 5
}
