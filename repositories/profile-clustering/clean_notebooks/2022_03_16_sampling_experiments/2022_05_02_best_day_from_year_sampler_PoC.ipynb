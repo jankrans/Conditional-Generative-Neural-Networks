{
 "cells": [
  {
   "cell_type": "code",
   "execution_count": null,
   "id": "dd628a9d-ad52-4c04-9862-535e99fd4e2b",
   "metadata": {},
   "outputs": [],
   "source": [
    "import numpy as np "
   ]
  },
  {
   "cell_type": "code",
   "execution_count": null,
   "id": "1f63d4e4-187e-4d64-bd3f-66531e698524",
   "metadata": {},
   "outputs": [],
   "source": [
    "from energyclustering.sampling.preprocessing import DataPreprocessor\n",
    "from dask.distributed import Client\n",
    "import pandas as pd\n",
    "import altair as alt"
   ]
  },
  {
   "cell_type": "code",
   "execution_count": null,
   "id": "ade952e1-f278-4257-9b13-7b17f7ddf260",
   "metadata": {},
   "outputs": [],
   "source": [
    "%load_ext autoreload\n",
    "%autoreload 2"
   ]
  },
  {
   "cell_type": "markdown",
   "id": "b40077da-fb56-4cca-943e-f9c4157c8696",
   "metadata": {},
   "source": [
    "# The data"
   ]
  },
  {
   "cell_type": "code",
   "execution_count": null,
   "id": "8c47a299-a73a-45d8-9697-51a49f6b20a5",
   "metadata": {},
   "outputs": [],
   "source": [
    "daily_data_df, data_df, daily_info_df, weather_df = (\n",
    "    DataPreprocessor()\n",
    "    .preprocess_info_df('baseline')\n",
    "    .preprocess_weather_df('baseline')\n",
    "    .drop_days_with_nan(True)\n",
    "#     .subsample_days(week_reduction_factor = 5)\n",
    "    # for testing only!\n",
    "    .subsample_years(500)\n",
    "    .get_data()\n",
    ")\n",
    "daily_data_df.shape"
   ]
  },
  {
   "cell_type": "code",
   "execution_count": null,
   "id": "45035067-c5c2-4e6d-ab30-e88a97109738",
   "metadata": {},
   "outputs": [],
   "source": [
    "daily_info_df.loc[:, 'household_info'].head().drop(columns = 'consumer_type').droplevel('date').drop_duplicates()"
   ]
  },
  {
   "cell_type": "code",
   "execution_count": null,
   "id": "2957589c-081d-4f35-96a5-62581a45a664",
   "metadata": {},
   "outputs": [],
   "source": [
    "day_info_df = daily_info_df.loc[:, 'day_info']\n",
    "day_info_df.columns"
   ]
  },
  {
   "cell_type": "markdown",
   "id": "24516391-23fc-4d42-b673-c98f1a620fa7",
   "metadata": {},
   "source": [
    "# Folds"
   ]
  },
  {
   "cell_type": "code",
   "execution_count": null,
   "id": "82676b79-4adf-4498-8ba5-7bc488b079a0",
   "metadata": {},
   "outputs": [],
   "source": [
    "reduced_day_info_df = day_info_df.drop(columns = ['day_of_week', 'iso_day', 'month', 'day'])"
   ]
  },
  {
   "cell_type": "code",
   "execution_count": null,
   "id": "82c076a0-e450-49f5-9097-f3202709dd79",
   "metadata": {},
   "outputs": [],
   "source": [
    "generator = np.random.default_rng(1)\n",
    "shuffled = data_df.index.to_numpy(copy=True)\n",
    "generator.shuffle(shuffled)\n",
    "folds = np.array_split(shuffled, 3)"
   ]
  },
  {
   "cell_type": "markdown",
   "id": "c939196e-3c1b-4dd7-847d-33ad864e2a70",
   "metadata": {},
   "source": [
    "\n",
    "[ ]:\n",
    "# Check which attributes of the data are most informative for consumption \n",
    "## Cluster the days"
   ]
  },
  {
   "cell_type": "code",
   "execution_count": null,
   "id": "dc96cc54-daea-4be7-a0bd-01c76e899d15",
   "metadata": {},
   "outputs": [],
   "source": [
    "%%time\n",
    "# just k-means for simplicity and speed\n",
    "from sklearn.cluster import KMeans\n",
    "clusterer = KMeans(300)\n",
    "clusterer.fit(daily_data_df)\n",
    "cluster_labels = clusterer.labels_"
   ]
  },
  {
   "cell_type": "markdown",
   "id": "68e393ee-207d-4bb1-adcf-c867d13736ce",
   "metadata": {},
   "source": [
    "## Learn a classifier from the day_info to cluster_idx"
   ]
  },
  {
   "cell_type": "code",
   "execution_count": null,
   "id": "878bae0b-0801-4887-81c2-510ced3bf4d1",
   "metadata": {},
   "outputs": [],
   "source": [
    "from sklearn.ensemble import RandomForestClassifier"
   ]
  },
  {
   "cell_type": "code",
   "execution_count": null,
   "id": "68d12d14-4492-4bac-8b3d-d28cc2fd8dfa",
   "metadata": {},
   "outputs": [],
   "source": [
    "classifier = RandomForestClassifier(n_estimators = 500)\n",
    "classifier.fit(day_info_df, cluster_labels)\n",
    "feature_importances = classifier.feature_importances_"
   ]
  },
  {
   "cell_type": "code",
   "execution_count": null,
   "id": "a4638d26-dc62-4920-ba8e-52b8a12a37ec",
   "metadata": {},
   "outputs": [],
   "source": [
    "classifier = RandomForestClassifier(n_estimators = 500)\n",
    "classifier.fit(reduced_day_info_df, cluster_labels)\n",
    "reduced_feature_importances = classifier.feature_importances_"
   ]
  },
  {
   "cell_type": "markdown",
   "id": "718786b0-f2c7-4942-8be9-70e44df9b8d3",
   "metadata": {},
   "source": [
    "## Check the feature importances"
   ]
  },
  {
   "cell_type": "code",
   "execution_count": null,
   "id": "3291470f-ab48-4c8c-bb0d-63aed0dc83fd",
   "metadata": {},
   "outputs": [],
   "source": [
    "importance_df = pd.Series(feature_importances, index = day_info_df.columns).to_frame('feature_importance')\n",
    "reduced_importance_df = pd.Series(reduced_feature_importances, index = reduced_day_info_df.columns).to_frame('feature_importance')"
   ]
  },
  {
   "cell_type": "code",
   "execution_count": null,
   "id": "18f19940-61db-4e42-a710-9d295f053069",
   "metadata": {},
   "outputs": [],
   "source": [
    "chart = alt.Chart().mark_bar().encode(\n",
    "    x = 'feature_importance:Q', \n",
    "    y = alt.Y('index:N', sort = None), \n",
    ")\n",
    "chart.properties(data = importance_df.reset_index()) | chart.properties(data = reduced_importance_df.reset_index())"
   ]
  },
  {
   "cell_type": "code",
   "execution_count": null,
   "id": "d91ca222-987d-4f1a-9ca2-67271dbd2edd",
   "metadata": {},
   "outputs": [],
   "source": []
  }
 ],
 "metadata": {
  "kernelspec": {
   "display_name": "energyville",
   "language": "python",
   "name": "energyville"
  },
  "language_info": {
   "codemirror_mode": {
    "name": "ipython",
    "version": 3
   },
   "file_extension": ".py",
   "mimetype": "text/x-python",
   "name": "python",
   "nbconvert_exporter": "python",
   "pygments_lexer": "ipython3",
   "version": "3.10.4"
  }
 },
 "nbformat": 4,
 "nbformat_minor": 5
}
