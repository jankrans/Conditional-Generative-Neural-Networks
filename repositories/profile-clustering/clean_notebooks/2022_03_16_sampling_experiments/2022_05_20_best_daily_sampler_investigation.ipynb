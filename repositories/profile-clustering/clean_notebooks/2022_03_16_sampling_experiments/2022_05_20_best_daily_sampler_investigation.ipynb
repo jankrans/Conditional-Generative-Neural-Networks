{
 "cells": [
  {
   "cell_type": "code",
   "execution_count": null,
   "id": "0ce86b18-d62d-42bd-92d7-04ab804dbf42",
   "metadata": {},
   "outputs": [],
   "source": [
    "import numpy as np "
   ]
  },
  {
   "cell_type": "code",
   "execution_count": null,
   "id": "23861863-8a72-470a-878a-a484be463c7c",
   "metadata": {},
   "outputs": [],
   "source": [
    "from energyclustering.sampling.preprocessing import DataPreprocessor\n",
    "from dask.distributed import Client\n",
    "import pandas as pd\n",
    "import altair as alt\n",
    "alt.data_transformers.disable_max_rows()"
   ]
  },
  {
   "cell_type": "code",
   "execution_count": null,
   "id": "34fbb3aa-a03e-46b6-9a28-cc0eba4f7c9c",
   "metadata": {},
   "outputs": [],
   "source": [
    "import warnings\n",
    "warnings.simplefilter(action='ignore', category=FutureWarning)"
   ]
  },
  {
   "cell_type": "code",
   "execution_count": null,
   "id": "0e07dc1e-9812-4af4-a025-1af634db0616",
   "metadata": {},
   "outputs": [],
   "source": [
    "from sklearn.tree import plot_tree\n",
    "import matplotlib.pyplot as plt"
   ]
  },
  {
   "cell_type": "code",
   "execution_count": null,
   "id": "ba9251e8-eef6-4623-84b9-c5a894dfa3dc",
   "metadata": {},
   "outputs": [],
   "source": [
    "%matplotlib inline\n",
    "%config InlineBackend.figure_formats = ['svg']"
   ]
  },
  {
   "cell_type": "code",
   "execution_count": null,
   "id": "cda9f474-0c77-4523-bda9-28409f7bf925",
   "metadata": {},
   "outputs": [],
   "source": [
    "%load_ext autoreload\n",
    "%autoreload 2"
   ]
  },
  {
   "cell_type": "markdown",
   "id": "1747f318-66ca-4130-9e00-fdf30c5093fc",
   "metadata": {},
   "source": [
    "# The data"
   ]
  },
  {
   "cell_type": "code",
   "execution_count": null,
   "id": "098af90b-0c3f-45ca-bb67-37995fcb1cf8",
   "metadata": {},
   "outputs": [],
   "source": [
    "daily_data_df, data_df, daily_info_df, weather_df = (\n",
    "    DataPreprocessor()\n",
    "    .preprocess_info_df('baseline')\n",
    "    .preprocess_weather_df('baseline')\n",
    "    .drop_days_with_nan(True)\n",
    "    # no subsampling this time\n",
    "#     .subsample_days(week_reduction_factor = 5)\n",
    "    # for testing only!\n",
    "    .subsample_years(100)\n",
    "    .get_data()\n",
    ")\n",
    "daily_data_df.shape"
   ]
  },
  {
   "cell_type": "code",
   "execution_count": null,
   "id": "68105e93-5608-4902-bd2e-28821001a3a4",
   "metadata": {},
   "outputs": [],
   "source": [
    "daily_info_df.loc[:, ('day_info', 'FeelsLikeC')]"
   ]
  },
  {
   "cell_type": "markdown",
   "id": "a837238f-b5e0-4258-b16a-0f3596da88f4",
   "metadata": {},
   "source": [
    "# Folds"
   ]
  },
  {
   "cell_type": "code",
   "execution_count": null,
   "id": "56bdbb9d-69c2-4a63-a71a-74f2d13e1f8c",
   "metadata": {},
   "outputs": [],
   "source": [
    "generator = np.random.default_rng(1)\n",
    "shuffled = data_df.index.to_numpy(copy=True)\n",
    "generator.shuffle(shuffled)\n",
    "folds = np.array_split(shuffled, 3)"
   ]
  },
  {
   "cell_type": "code",
   "execution_count": null,
   "id": "f9584780-5249-40b5-a6cc-291cd3939431",
   "metadata": {},
   "outputs": [],
   "source": [
    "from energyclustering.sampling.samplers import ConsumptionDataSampler, MetadataSampler, EnergyvilleDaySelectionBaseline, RandomSamplerBaseline\n",
    "from energyclustering.sampling.day_of_year_samplers import DailySamplerFromClusterSampler, GenerateSampleDecorator\n",
    "from sklearn.ensemble import RandomForestClassifier \n",
    "from sklearn.tree import DecisionTreeClassifier\n",
    "from sklearn.cluster import KMeans\n",
    "from pathlib import Path\n",
    "from energyclustering.sampling.evaluation.evaluation import SamplerEvaluator"
   ]
  },
  {
   "cell_type": "code",
   "execution_count": null,
   "id": "7f50957b-66a7-45c7-a7f6-85033c9e9410",
   "metadata": {},
   "outputs": [],
   "source": [
    "# Custom metric\n",
    "from pyclustering.utils.metric import type_metric, distance_metric;\n",
    "from pyclustering.cluster.center_initializer import kmeans_plusplus_initializer\n",
    "from pyclustering.cluster.kmeans import kmeans\n",
    "def dist(a1, a2): \n",
    "    return np.nanmean((a1-a2)**2)\n",
    "    "
   ]
  },
  {
   "cell_type": "code",
   "execution_count": null,
   "id": "7ae94bc9-7628-4f0d-8be7-fed63e3a148a",
   "metadata": {},
   "outputs": [],
   "source": [
    "custom_metric = distance_metric(type_metric.USER_DEFINED, func=dist)\n",
    "custom_metric"
   ]
  },
  {
   "cell_type": "code",
   "execution_count": null,
   "id": "ef23febb-65a2-4ef8-bd73-be9cc534399e",
   "metadata": {},
   "outputs": [],
   "source": [
    "class CustomKMeans: \n",
    "    def __init__(self, nb_clusters, random_state = None): \n",
    "        self.nb_clusters = nb_clusters\n",
    "    \n",
    "    def fit(self, data): \n",
    "        # initialize initial centers using K-Means++ method\n",
    "        initial_centers = kmeans_plusplus_initializer(data, self.nb_clusters).initialize()\n",
    "        # create instance of K-Means algorithm with prepared centers\n",
    "        kmeans_instance = kmeans(data, initial_centers, metric = custom_metric)\n",
    "        # run cluster analysis and obtain results\n",
    "        kmeans_instance.process()\n",
    "        labels = np.zeros(data.shape[0])\n",
    "        for cluster_idx, instance_indices in enumerate(kmeans_instance.get_clusters()): \n",
    "            labels[instance_indices] = cluster_idx\n",
    "        self.labels_ = labels.astype('int')\n",
    "    \n",
    "    \n"
   ]
  },
  {
   "cell_type": "code",
   "execution_count": null,
   "id": "e87b84dc-e9ed-4205-83d2-caf888e21ef8",
   "metadata": {},
   "outputs": [],
   "source": [
    "clusterer = CustomKMeans(5, 0)\n",
    "clusterer.fit(data_df.fillna(0))"
   ]
  },
  {
   "cell_type": "code",
   "execution_count": null,
   "id": "a974e8e8-4e40-4c80-abea-0cd820da1f60",
   "metadata": {},
   "outputs": [],
   "source": [
    "clusterer.labels_"
   ]
  },
  {
   "cell_type": "markdown",
   "id": "f480d799-1208-48b1-a613-7c2847ddd094",
   "metadata": {},
   "source": [
    "# Check consumption data clustering into detail"
   ]
  },
  {
   "cell_type": "code",
   "execution_count": null,
   "id": "73311b3f-d5de-410b-934d-4c6898f3921d",
   "metadata": {},
   "outputs": [],
   "source": [
    "sampler = DailySamplerFromClusterSampler(\n",
    "                yearly_sampler = ConsumptionDataSampler(\n",
    "#                     classifier = RandomForestClassifier(), \n",
    "                    classifier = DecisionTreeClassifier(max_depth = 4, min_samples_leaf = 5), \n",
    "                    clusterer = CustomKMeans(10, random_state = 0), \n",
    "                    info_preprocessing = None\n",
    "                ), \n",
    "                daily_sampler = ConsumptionDataSampler(\n",
    "                    classifier = DecisionTreeClassifier(max_depth = 4, min_samples_leaf = 25), \n",
    "                    clusterer = KMeans(5, random_state = 0), \n",
    "                    info_preprocessing = None\n",
    "                )\n",
    "            )\n",
    "\n",
    "sampler.fit(daily_data_df, data_df, daily_info_df)\n"
   ]
  },
  {
   "cell_type": "code",
   "execution_count": null,
   "id": "25ab3db0-443c-4d12-8cc7-f30853bcfa85",
   "metadata": {},
   "outputs": [],
   "source": [
    "sampler.yearly_sampler.clustering.value_counts()"
   ]
  },
  {
   "cell_type": "code",
   "execution_count": null,
   "id": "ee13ce1d-2cb5-435d-8e53-81b2db7b8ce1",
   "metadata": {},
   "outputs": [],
   "source": [
    "clustering = sampler.yearly_sampler.clustering\n",
    "small_clusters = data_df.loc[clustering.index[~clustering.isin([0,7])]]"
   ]
  },
  {
   "cell_type": "code",
   "execution_count": null,
   "id": "635cf316-3a16-4f2c-9338-b105afe658a9",
   "metadata": {},
   "outputs": [],
   "source": [
    "small_clusters.isna().sum(axis = 1)"
   ]
  },
  {
   "cell_type": "code",
   "execution_count": null,
   "id": "aefe4a46-e5a1-4324-8b66-a056e2c74760",
   "metadata": {},
   "outputs": [],
   "source": [
    "big_clusters = data_df.loc[clustering.index[clustering == 0]]\n",
    "big_clusters.isna().sum(axis =1 ).hist(bins = 25)"
   ]
  },
  {
   "cell_type": "code",
   "execution_count": null,
   "id": "77c84c21-28a0-416b-ab2b-6074c18a88f3",
   "metadata": {},
   "outputs": [],
   "source": [
    "sampler.daily_sampler_per_cluster[0].clustering.value_counts()"
   ]
  },
  {
   "cell_type": "code",
   "execution_count": null,
   "id": "5b96d3a6-a478-4f31-a28e-9906bcf43e00",
   "metadata": {},
   "outputs": [],
   "source": [
    "sampler.daily_sampler_per_cluster[3].clustering.value_counts()"
   ]
  },
  {
   "cell_type": "markdown",
   "id": "afd218f1-7805-4acd-ada4-46064765083c",
   "metadata": {},
   "source": [
    "# Year selection "
   ]
  },
  {
   "cell_type": "code",
   "execution_count": null,
   "id": "e8f91e5d-fe9f-41fc-9131-585e320239b5",
   "metadata": {},
   "outputs": [],
   "source": [
    "plt.figure(figsize = (20,10), dpi = 100)\n",
    "plot_tree(sampler.yearly_sampler.classifier, feature_names = daily_info_df.loc[:, 'household_info'].columns)\n"
   ]
  },
  {
   "cell_type": "markdown",
   "id": "253dd0b4-3786-41d5-a5f7-cd480275dea2",
   "metadata": {},
   "source": [
    "# Cluster 3\n",
    "Contains ONLY one profile! But it does find distinct daily patterns"
   ]
  },
  {
   "cell_type": "code",
   "execution_count": null,
   "id": "f05f98af-02c6-4ea3-a0d6-968a00dfb783",
   "metadata": {},
   "outputs": [],
   "source": [
    "def plot_daily_cluster(yearly_cluster_idx, daily_cluster_idx): \n",
    "    clustering = sampler.daily_sampler_per_cluster[yearly_cluster_idx].clustering\n",
    "    data_to_plot = daily_data_df.loc[clustering[clustering == daily_cluster_idx].index, :]\n",
    "    data_to_plot = data_to_plot.stack().to_frame('value').rename_axis(('meterID', 'date', 'time'), axis = 0).reset_index()\n",
    "    line_chart = alt.Chart(data_to_plot).mark_line().transform_calculate(\n",
    "        color_test = \"datum.meterID + '-' + datum.date\"\n",
    "    ).encode(\n",
    "        x = 'time',\n",
    "        y = 'value', \n",
    "        color = alt.Color('color_test:N', legend = None)\n",
    "    )\n",
    "    box_chart = alt.Chart(data_to_plot).mark_boxplot().encode(\n",
    "        x = 'time', \n",
    "        y = 'value'\n",
    "    )\n",
    "    return (line_chart | box_chart).properties(title = f\"yearly_cluster {yearly_cluster_idx}, daily cluster {daily_cluster_idx}\")"
   ]
  },
  {
   "cell_type": "code",
   "execution_count": null,
   "id": "016033e9-48f4-43ae-bdf3-2914a91c979e",
   "metadata": {},
   "outputs": [],
   "source": [
    "cluster_idx = 2\n",
    "for i in range(5): \n",
    "    plot_daily_cluster(cluster_idx, i).display()"
   ]
  },
  {
   "cell_type": "markdown",
   "id": "e40b8bfc-66b2-4197-99ae-8fd0105d8c20",
   "metadata": {},
   "source": [
    "### Look at the classifier"
   ]
  },
  {
   "cell_type": "code",
   "execution_count": null,
   "id": "3d7ddd61-5f1d-4101-a660-2d09fe5044cc",
   "metadata": {},
   "outputs": [],
   "source": [
    "plt.figure(figsize = (20,10), dpi = 100)\n",
    "plot_tree(sampler.daily_sampler_per_cluster[cluster_idx].classifier, feature_names = daily_info_df.loc[:, 'day_info'].columns)\n"
   ]
  },
  {
   "cell_type": "code",
   "execution_count": null,
   "id": "99239d0a-6b2a-4c5a-a488-047d56270408",
   "metadata": {},
   "outputs": [],
   "source": [
    "cluster_idx = 2\n",
    "for i in range(5): \n",
    "    plot_daily_cluster(cluster_idx, i).display()"
   ]
  },
  {
   "cell_type": "markdown",
   "id": "8366e6e8-6240-4066-9b66-396837c7f5cb",
   "metadata": {},
   "source": [
    "### Look at the classifier"
   ]
  },
  {
   "cell_type": "code",
   "execution_count": null,
   "id": "c59e0526-fea9-4ea3-9a14-82882c54b21b",
   "metadata": {},
   "outputs": [],
   "source": [
    "plt.figure(figsize = (20,10), dpi = 100)\n",
    "plot_tree(sampler.daily_sampler_per_cluster[cluster_idx].classifier, feature_names = daily_info_df.loc[:, 'day_info'].columns)\n"
   ]
  },
  {
   "cell_type": "code",
   "execution_count": null,
   "id": "81336204-399c-4704-b799-2aac44c50531",
   "metadata": {},
   "outputs": [],
   "source": [
    "cluster_idx = 1\n",
    "for i in range(5): \n",
    "    plot_daily_cluster(cluster_idx, i).display()"
   ]
  },
  {
   "cell_type": "markdown",
   "id": "a3e8a0d7-eb64-41f9-acfa-448a263e5ec2",
   "metadata": {},
   "source": [
    "### Look at the classifier"
   ]
  },
  {
   "cell_type": "code",
   "execution_count": null,
   "id": "c9c26dbd-bcab-4177-8d4d-6953bd616b5d",
   "metadata": {},
   "outputs": [],
   "source": [
    "plt.figure(figsize = (20,10), dpi = 100)\n",
    "plot_tree(sampler.daily_sampler_per_cluster[cluster_idx].classifier, feature_names = daily_info_df.loc[:, 'day_info'].columns)\n"
   ]
  },
  {
   "cell_type": "code",
   "execution_count": null,
   "id": "ed527345-8761-4778-a8e1-f9c4099a70fe",
   "metadata": {},
   "outputs": [],
   "source": [
    "cluster_idx = 0\n",
    "for i in range(5): \n",
    "    plot_daily_cluster(cluster_idx, i).display()"
   ]
  },
  {
   "cell_type": "markdown",
   "id": "87878240-46bd-4ab9-a2fa-631f3673a6bc",
   "metadata": {},
   "source": [
    "### Look at the classifier"
   ]
  },
  {
   "cell_type": "code",
   "execution_count": null,
   "id": "61e43da4-b696-4edd-aceb-e69403771935",
   "metadata": {},
   "outputs": [],
   "source": [
    "plt.figure(figsize = (20,10), dpi = 100)\n",
    "plot_tree(sampler.daily_sampler_per_cluster[cluster_idx].classifier, feature_names = daily_info_df.loc[:, 'day_info'].columns)\n"
   ]
  },
  {
   "cell_type": "code",
   "execution_count": null,
   "id": "dfbb04a8-be42-481d-852e-41f913f4b95f",
   "metadata": {},
   "outputs": [],
   "source": [
    "plot_cluster(3,10)"
   ]
  },
  {
   "cell_type": "code",
   "execution_count": null,
   "id": "70091a58-fdce-42b3-a162-399c81d95832",
   "metadata": {},
   "outputs": [],
   "source": [
    "plot_cluster(3,3)"
   ]
  },
  {
   "cell_type": "code",
   "execution_count": null,
   "id": "5a325e0b-8528-41be-bbe0-79e63c0740d6",
   "metadata": {},
   "outputs": [],
   "source": [
    "plot_cluster(1,9)"
   ]
  },
  {
   "cell_type": "code",
   "execution_count": null,
   "id": "c5d4b17a-2854-41ec-bf38-0fb66efd8dfb",
   "metadata": {},
   "outputs": [],
   "source": [
    "plot_cluster(3,6)"
   ]
  },
  {
   "cell_type": "code",
   "execution_count": null,
   "id": "6d8b099e-7fbb-4183-b95a-c5ad95ced5a7",
   "metadata": {},
   "outputs": [],
   "source": [
    "plot_cluster(3,2)"
   ]
  },
  {
   "cell_type": "code",
   "execution_count": null,
   "id": "1299fc21-541b-46be-81b6-985b15988545",
   "metadata": {},
   "outputs": [],
   "source": [
    "plot_cluster(3,0)"
   ]
  },
  {
   "cell_type": "markdown",
   "id": "72a91992-4ccb-4493-89f1-8d5268e62125",
   "metadata": {},
   "source": [
    "## Look at tree"
   ]
  },
  {
   "cell_type": "code",
   "execution_count": null,
   "id": "d628e90e-8275-4ad1-893d-9a23f3f12e28",
   "metadata": {},
   "outputs": [],
   "source": [
    "plt.figure(figsize = (20,10), dpi = 100)\n",
    "plot_tree(sampler.daily_sampler_per_cluster[3].classifier, feature_names = daily_info_df.loc[:, 'day_info'].columns)"
   ]
  },
  {
   "cell_type": "code",
   "execution_count": null,
   "id": "1ab23552-6cad-4fb3-9ec0-98c948b80b3a",
   "metadata": {},
   "outputs": [],
   "source": []
  }
 ],
 "metadata": {
  "kernelspec": {
   "display_name": "energyville",
   "language": "python",
   "name": "energyville"
  },
  "language_info": {
   "codemirror_mode": {
    "name": "ipython",
    "version": 3
   },
   "file_extension": ".py",
   "mimetype": "text/x-python",
   "name": "python",
   "nbconvert_exporter": "python",
   "pygments_lexer": "ipython3",
   "version": "3.10.4"
  }
 },
 "nbformat": 4,
 "nbformat_minor": 5
}
