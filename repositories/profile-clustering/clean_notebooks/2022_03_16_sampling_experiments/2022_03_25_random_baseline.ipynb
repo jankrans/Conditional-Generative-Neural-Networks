{
 "cells": [
  {
   "cell_type": "markdown",
   "id": "7aa4dadf-2898-4711-b2fd-a4b8811179ff",
   "metadata": {},
   "source": [
    "# Let's try to evaluate a random baseline "
   ]
  },
  {
   "cell_type": "code",
   "execution_count": null,
   "id": "c2e179b9-6944-4be2-8481-4352d2683fdc",
   "metadata": {},
   "outputs": [],
   "source": [
    "from pathlib import Path\n",
    "import pandas as pd \n",
    "import numpy as np\n",
    "import altair as alt\n",
    "from dask.distributed import Client"
   ]
  },
  {
   "cell_type": "code",
   "execution_count": null,
   "id": "b2aa889b-dad7-40b7-a3d7-f9d3e0b92735",
   "metadata": {},
   "outputs": [],
   "source": [
    "%load_ext autoreload\n",
    "%autoreload 2"
   ]
  },
  {
   "cell_type": "markdown",
   "id": "de009636-71ef-47e0-8ba5-e985c8a1e32f",
   "metadata": {},
   "source": [
    "## Read the data"
   ]
  },
  {
   "cell_type": "code",
   "execution_count": null,
   "id": "23d77b3d-6d02-4c7e-9ee8-f9c0cd6eb736",
   "metadata": {},
   "outputs": [],
   "source": [
    "from energyclustering.data.fluvius.data import read_data_pickle\n",
    "from energyclustering.data.weather.data import read_weather_data"
   ]
  },
  {
   "cell_type": "code",
   "execution_count": null,
   "id": "d02f5e54-e859-40a1-93f6-3ca463a75cb6",
   "metadata": {},
   "outputs": [],
   "source": [
    "from ast import literal_eval"
   ]
  },
  {
   "cell_type": "code",
   "execution_count": null,
   "id": "a1493c5f-08fa-4f27-ac2f-f70e8e19a630",
   "metadata": {},
   "outputs": [],
   "source": [
    "info_df, data_df = read_data_pickle()\n",
    "info_df = info_df.set_axis(info_df.index.to_flat_index().map(str), axis = 0)\n",
    "data_df = data_df.set_axis(data_df.index.to_flat_index().map(str), axis = 0)"
   ]
  },
  {
   "cell_type": "code",
   "execution_count": null,
   "id": "07dc9fd5-83ce-4369-8d32-eb7fd2a13af1",
   "metadata": {},
   "outputs": [],
   "source": [
    "generator = np.random.default_rng(1)\n",
    "shuffled = data_df.index.to_numpy(copy=True)\n",
    "generator.shuffle(shuffled)\n",
    "folds = np.array_split(shuffled, 3)"
   ]
  },
  {
   "cell_type": "code",
   "execution_count": null,
   "id": "03a70362-5862-4770-bd7b-19b538ad49e9",
   "metadata": {},
   "outputs": [],
   "source": [
    "print(f\"data_df = {data_df.memory_usage().sum() / 1000 / 1000} MB\")\n",
    "print(f\"info_df = {info_df.memory_usage().sum() / 1000 / 1000} MB\")"
   ]
  },
  {
   "cell_type": "code",
   "execution_count": null,
   "id": "0266ff98-a30b-4b63-a0bf-f4146847ea5f",
   "metadata": {},
   "outputs": [],
   "source": [
    "weather_data = (\n",
    "    read_weather_data('aalst')\n",
    "    .drop(columns = ['moon_illumination', 'moonrise', 'moonset', 'sunrise', 'winddirDegree', 'location', 'DewPointC', 'sunset'])\n",
    "    .set_index('date_time')\n",
    ")\n",
    "weather_data.head()"
   ]
  },
  {
   "cell_type": "code",
   "execution_count": null,
   "id": "415de341-a6f6-481b-b58f-e55d1dd6ce73",
   "metadata": {},
   "outputs": [],
   "source": [
    "print(f\"weather_df = {weather_data.memory_usage().sum() / 1000 / 1000} MB\")"
   ]
  },
  {
   "cell_type": "markdown",
   "id": "263dfca9-7f0d-49ea-b089-eeaf1dbc36cf",
   "metadata": {},
   "source": [
    "## Preprocess the data"
   ]
  },
  {
   "cell_type": "code",
   "execution_count": null,
   "id": "dbfe0226-6cf0-4570-a2d7-cbfd703a280e",
   "metadata": {},
   "outputs": [],
   "source": [
    "import energyclustering.sampling.preprocessing as pre"
   ]
  },
  {
   "cell_type": "code",
   "execution_count": null,
   "id": "59595499-37c9-42ff-9828-b08653f4f431",
   "metadata": {},
   "outputs": [],
   "source": [
    "%%time\n",
    "daily_data_df = pre.yearly_profile_df_to_daily_df(data_df)"
   ]
  },
  {
   "cell_type": "code",
   "execution_count": null,
   "id": "039102b4-cf06-4b33-9497-d967f718c80f",
   "metadata": {},
   "outputs": [],
   "source": [
    "%%time\n",
    "daily_info_df = pre.to_daily_metadata_df(info_df, weather_data)"
   ]
  },
  {
   "cell_type": "markdown",
   "id": "adb8e368-b5c8-4df2-9138-118178bc8f80",
   "metadata": {},
   "source": [
    "### Remove all NaN days from data and info df"
   ]
  },
  {
   "cell_type": "code",
   "execution_count": null,
   "id": "00dbc65a-4608-4a99-8831-1c16296187f2",
   "metadata": {},
   "outputs": [],
   "source": [
    "contains_nan_day = daily_data_df.isna().any(axis = 1)\n",
    "daily_data_df = daily_data_df.loc[~contains_nan_day]\n",
    "daily_info_df = daily_info_df.loc[~contains_nan_day]"
   ]
  },
  {
   "cell_type": "code",
   "execution_count": null,
   "id": "2b4eeb41-c4f5-404b-83ca-e67ae979d5c5",
   "metadata": {},
   "outputs": [],
   "source": [
    "print(f\"daily_info_df = {daily_info_df.memory_usage().sum() / 1000 / 1000} MB\")\n",
    "print(f\"daily_data_df = {daily_data_df.memory_usage().sum() / 1000/1000} MB\")"
   ]
  },
  {
   "cell_type": "markdown",
   "id": "7d483948-8270-49a6-8744-b9b90b2b0157",
   "metadata": {},
   "source": [
    "## Delete unnecessary data to save space"
   ]
  },
  {
   "cell_type": "code",
   "execution_count": null,
   "id": "0130d502-1f1b-43b6-be42-4a658bba7d79",
   "metadata": {},
   "outputs": [],
   "source": [
    "del info_df\n",
    "del weather_data"
   ]
  },
  {
   "cell_type": "markdown",
   "id": "48ee86fb-200f-4e85-9cd3-fe89aaaf87de",
   "metadata": {},
   "source": [
    "## Sampler"
   ]
  },
  {
   "cell_type": "code",
   "execution_count": null,
   "id": "7ed3be38-0621-456f-9ff3-3625b4700953",
   "metadata": {},
   "outputs": [],
   "source": [
    "from energyclustering.sampling.samplers import RandomSamplerBaseline"
   ]
  },
  {
   "cell_type": "markdown",
   "id": "de81da42-04c7-4113-a7b2-6d3838a370fa",
   "metadata": {},
   "source": [
    "## Evaluator"
   ]
  },
  {
   "cell_type": "code",
   "execution_count": null,
   "id": "3bcb5709-7996-4068-a152-2c8dba5dfc05",
   "metadata": {},
   "outputs": [],
   "source": [
    "from energyclustering.sampling.evaluation import DaskEnergyScoreEvaluator, LocalEnergyScoreEvaluator, train_test_sets_from_folds\n",
    "from pathlib import Path"
   ]
  },
  {
   "cell_type": "code",
   "execution_count": null,
   "id": "56c3f510-2335-4b1b-a82e-a588c024d833",
   "metadata": {},
   "outputs": [],
   "source": [
    "result_path = Path().absolute() / 'results'"
   ]
  },
  {
   "cell_type": "code",
   "execution_count": null,
   "id": "6b30e908-a545-4882-89e5-e82769540f7a",
   "metadata": {},
   "outputs": [],
   "source": [
    "with Client(local_directory = '/cw/dtailocal/', n_workers=30, threads_per_worker = 1) as client: \n",
    "    evaluator = DaskEnergyScoreEvaluator(folds, daily_data_df, daily_info_df, data_df,  client, 1000)\n",
    "    for i in range(10):\n",
    "        evaluator.evaluate_and_save(RandomSamplerBaseline(10), result_path/f'random_10_repeat_{i}.pkl')\n",
    "        evaluator.evaluate_and_save(RandomSamplerBaseline(50), result_path/f'random_50_repeat_{i}.pkl')\n",
    "        evaluator.evaluate_and_save(RandomSamplerBaseline(100), result_path/f'random_100_repeat_{i}.pkl')\n",
    "        evaluator.evaluate_and_save(RandomSamplerBaseline(200), result_path/f'random_200_repeat_{i}.pkl')\n",
    "  "
   ]
  },
  {
   "cell_type": "markdown",
   "id": "74f3df68-76f6-47ae-ae0d-5299804d05c7",
   "metadata": {},
   "source": [
    "## Show results\n"
   ]
  },
  {
   "cell_type": "code",
   "execution_count": null,
   "id": "82e23e2c-70cb-4172-a6e3-fdf32a2eab99",
   "metadata": {},
   "outputs": [],
   "source": [
    "result_df = pd.concat([pd.read_pickle(result_path/f\"random_{number}.pkl\").rename(number) for number in [10, 50, 100, 250, 500, 1000]], axis = 1)\n",
    "result_df"
   ]
  },
  {
   "cell_type": "code",
   "execution_count": null,
   "id": "f8bce73f-4170-462c-9084-88772e585e39",
   "metadata": {},
   "outputs": [],
   "source": [
    "plot_df = result_df.agg(['mean', 'std'], axis =0).T.rename_axis('nb_samples', axis = 0).reset_index().assign(lower = lambda x: x['mean']-x['std'], higher = lambda x: x['mean'] + x['std'])\n",
    "plot_df"
   ]
  },
  {
   "cell_type": "code",
   "execution_count": null,
   "id": "36145874-fc9d-4e61-bc40-74fb07c5b6b1",
   "metadata": {},
   "outputs": [],
   "source": [
    "line = alt.Chart(plot_df, title = 'energy score of random sampling with limited samples').mark_line().encode(\n",
    "    x = 'nb_samples:Q', \n",
    "    y = alt.Y('mean:Q', title = 'mean energy score', scale = alt.Scale(zero = False)),\n",
    ")\n",
    "line"
   ]
  },
  {
   "cell_type": "code",
   "execution_count": null,
   "id": "34408a9b-d464-4562-8ef5-cfac0a1c50cc",
   "metadata": {},
   "outputs": [],
   "source": []
  }
 ],
 "metadata": {
  "kernelspec": {
   "display_name": "energyville",
   "language": "python",
   "name": "energyville"
  },
  "language_info": {
   "codemirror_mode": {
    "name": "ipython",
    "version": 3
   },
   "file_extension": ".py",
   "mimetype": "text/x-python",
   "name": "python",
   "nbconvert_exporter": "python",
   "pygments_lexer": "ipython3",
   "version": "3.8.10"
  }
 },
 "nbformat": 4,
 "nbformat_minor": 5
}
