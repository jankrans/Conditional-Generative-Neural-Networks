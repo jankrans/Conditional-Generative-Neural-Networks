{
 "cells": [
  {
   "cell_type": "markdown",
   "id": "7aa4dadf-2898-4711-b2fd-a4b8811179ff",
   "metadata": {},
   "source": [
    "# First try to work with sampling code I wrote"
   ]
  },
  {
   "cell_type": "code",
   "execution_count": null,
   "id": "c2e179b9-6944-4be2-8481-4352d2683fdc",
   "metadata": {},
   "outputs": [],
   "source": [
    "from pathlib import Path\n",
    "import pandas as pd \n",
    "import numpy as np\n",
    "import altair as alt"
   ]
  },
  {
   "cell_type": "code",
   "execution_count": null,
   "id": "b2aa889b-dad7-40b7-a3d7-f9d3e0b92735",
   "metadata": {},
   "outputs": [],
   "source": [
    "%load_ext autoreload\n",
    "%autoreload 2"
   ]
  },
  {
   "cell_type": "code",
   "execution_count": null,
   "id": "40f50058-21fc-4b49-932a-96de1e319597",
   "metadata": {},
   "outputs": [],
   "source": [
    "from energyclustering.data.fluvius.data import read_data_pickle\n",
    "from energyclustering.data.weather.data import read_weather_data\n",
    "from sklearn.model_selection import train_test_split"
   ]
  },
  {
   "cell_type": "code",
   "execution_count": null,
   "id": "4391360c-82ee-4449-b1b4-34fe39772f9f",
   "metadata": {},
   "outputs": [],
   "source": [
    "NB_PROFILES = 10"
   ]
  },
  {
   "cell_type": "code",
   "execution_count": null,
   "id": "a1493c5f-08fa-4f27-ac2f-f70e8e19a630",
   "metadata": {},
   "outputs": [],
   "source": [
    "full_info_df, full_data_df = read_data_pickle()\n"
   ]
  },
  {
   "cell_type": "code",
   "execution_count": null,
   "id": "e5856ab3-64e2-45f5-b648-192b43249f39",
   "metadata": {},
   "outputs": [],
   "source": [
    "full_info_df = full_info_df.set_axis(full_info_df.index.to_flat_index(), axis = 0)\n",
    "full_data_df = full_data_df.set_axis(full_data_df.index.to_flat_index(), axis = 0)"
   ]
  },
  {
   "cell_type": "markdown",
   "id": "086b85cb-d649-48a1-a678-2c750f0742f5",
   "metadata": {},
   "source": [
    "### Subsample the full data"
   ]
  },
  {
   "cell_type": "code",
   "execution_count": null,
   "id": "f546d12a-ad61-49ae-bd32-6d6b71fafb7c",
   "metadata": {},
   "outputs": [],
   "source": [
    "data_df = full_data_df.sample(NB_PROFILES, random_state = 123)\n",
    "data_train_df, data_test_df = train_test_split(data_df, test_size = 0.3)\n",
    "info_train_df, info_test_df = full_info_df.loc[data_train_df.index], full_info_df.loc[data_test_df.index]"
   ]
  },
  {
   "cell_type": "code",
   "execution_count": null,
   "id": "55e273ae-ce39-484e-add7-78b0ed07bc68",
   "metadata": {},
   "outputs": [],
   "source": [
    "data_train_df.head()"
   ]
  },
  {
   "cell_type": "code",
   "execution_count": null,
   "id": "041f1857-d3c5-45d9-b040-ad1cee193600",
   "metadata": {},
   "outputs": [],
   "source": [
    "data_train_df_filled = data_train_df.fillna(0)\n",
    "data_test_df_filled = data_test_df.fillna(0)"
   ]
  },
  {
   "cell_type": "code",
   "execution_count": null,
   "id": "ebab7645-880d-475a-8c19-de7d402abf79",
   "metadata": {},
   "outputs": [],
   "source": [
    "def to_daily_df(df): \n",
    "    daily_df = (\n",
    "        df\n",
    "        # columns to index\n",
    "        .stack()\n",
    "        .to_frame('value')\n",
    "        # add date column\n",
    "        .assign(\n",
    "            date = lambda x: x.index.get_level_values(-1).date, \n",
    "            time = lambda x: x.index.get_level_values(-1).time\n",
    "        )\n",
    "        .droplevel(-1)\n",
    "        .reset_index()\n",
    "        .pivot_table(index = ['index', 'date'], columns = 'time', values = 'value')\n",
    "\n",
    "    )\n",
    "    return daily_df\n",
    "\n",
    "daily_train_df = to_daily_df(data_train_df)\n",
    "daily_test_df = to_daily_df(data_test_df) \n"
   ]
  },
  {
   "cell_type": "markdown",
   "id": "8a7522de-fb30-4b77-a34a-bb7a4f15dcf8",
   "metadata": {},
   "source": [
    "### Preprocess the metadata"
   ]
  },
  {
   "cell_type": "code",
   "execution_count": null,
   "id": "75827ffe-0f02-45e8-ae64-dfce0502f17d",
   "metadata": {},
   "outputs": [],
   "source": [
    "from energyclustering.sampling.preprocessing import preprocess_info_df_for_sampling_classification"
   ]
  },
  {
   "cell_type": "code",
   "execution_count": null,
   "id": "bb270faf-34ff-412d-afb0-dc31d253810e",
   "metadata": {},
   "outputs": [],
   "source": [
    "info_train_df.head();"
   ]
  },
  {
   "cell_type": "code",
   "execution_count": null,
   "id": "81064f23-cbe5-4c35-a101-e68944b98840",
   "metadata": {},
   "outputs": [],
   "source": [
    "info_train_df_pre = preprocess_info_df_for_sampling_classification(info_train_df, data_train_df)\n",
    "info_test_df_pre = preprocess_info_df_for_sampling_classification(info_test_df, data_test_df)\n",
    "info_train_df_pre.head();"
   ]
  },
  {
   "cell_type": "markdown",
   "id": "d968af1e-6d0e-4846-a47c-0de242a583ea",
   "metadata": {},
   "source": [
    "### Load the weather data"
   ]
  },
  {
   "cell_type": "code",
   "execution_count": null,
   "id": "a0a8f8e5-4c54-49ec-aeda-73428f096c30",
   "metadata": {},
   "outputs": [],
   "source": [
    "weather_data = (\n",
    "    read_weather_data('aalst')\n",
    "    .drop(columns = ['moon_illumination', 'moonrise', 'moonset', 'sunrise', 'winddirDegree', 'location', 'DewPointC', 'sunset'])\n",
    "    .set_index('date_time')\n",
    ")\n",
    "weather_data.head()"
   ]
  },
  {
   "cell_type": "markdown",
   "id": "73b69df5-f79a-4dcb-8e14-5495617da759",
   "metadata": {},
   "source": [
    "### Make daily sample test_frame"
   ]
  },
  {
   "cell_type": "code",
   "execution_count": null,
   "id": "6b590cdc-bde1-4ea6-8d44-fde0eb545a5c",
   "metadata": {},
   "outputs": [],
   "source": [
    "def to_daily_metadata_df(household_df, day_info): \n",
    "    query_df = (\n",
    "        household_df.assign(\n",
    "            year = lambda x: x.index.map(lambda x: x[1])\n",
    "        )\n",
    "        .reset_index()\n",
    "        .rename(columns = {'index': 'meterID'})\n",
    "        .pipe(lambda x: pd.merge(x, day_info.assign(\n",
    "            year = lambda x: x.date_time.dt.year\n",
    "        ), on = 'year'))\n",
    "        .drop(columns = 'year')\n",
    "        .set_axis(pd.MultiIndex.from_tuples(\n",
    "            [('household_info', column) for column in ['meterID'] + household_df.columns.tolist() if column != 'year']\n",
    "            + \n",
    "            [('day_info', column) for column in day_info.columns if column != 'year']\n",
    "        ), axis = 1)\n",
    "        .set_index([('household_info', 'meterID'), ('day_info', 'date_time')])\n",
    "        .rename_axis(['meterID', 'date'], axis = 0)\n",
    "\n",
    "    )\n",
    "    return query_df\n",
    "\n",
    "daily_meta_train_df = to_daily_metadata_df(info_train_df_pre, weather_data.reset_index())\n",
    "daily_meta_test_df = to_daily_metadata_df(info_test_df_pre, weather_data.reset_index())\n"
   ]
  },
  {
   "cell_type": "markdown",
   "id": "7aa8431f-2f2e-40ac-8d8b-6df4c93c5b0b",
   "metadata": {},
   "source": [
    "# Directly sample a day using random clustering"
   ]
  },
  {
   "cell_type": "code",
   "execution_count": null,
   "id": "72030785-3ca4-410b-8307-def8bdd5b2c9",
   "metadata": {},
   "outputs": [],
   "source": [
    "from energyclustering.sampling.samplers import RandomSampler\n",
    "from energyclustering.sampling.evaluation_metrics import calculate_energy_score_for_daily_matrix"
   ]
  },
  {
   "cell_type": "code",
   "execution_count": null,
   "id": "b2fc018b-5f58-49da-9659-20917eaae262",
   "metadata": {},
   "outputs": [],
   "source": [
    "sampler = RandomSampler()\n",
    "sampler.fit(daily_meta_train_df, daily_train_df)\n",
    "daily_probs = sampler.get_sampling_probabilities_daily(daily_meta_test_df)\n",
    "daily_probs;"
   ]
  },
  {
   "cell_type": "code",
   "execution_count": null,
   "id": "6113928b-3b68-4957-9a17-d2f4d0b15808",
   "metadata": {},
   "outputs": [],
   "source": [
    "print(len(daily_probs))"
   ]
  },
  {
   "cell_type": "code",
   "execution_count": null,
   "id": "4551c1a1-823c-40ae-afe6-5316eaf1ca1d",
   "metadata": {},
   "outputs": [],
   "source": [
    "%%time \n",
    "energy_scores_per_test_sample = calculate_energy_score_for_daily_matrix(daily_probs[0:1], data_train_df_filled, data_test_df_filled)\n",
    "np.sum(energy_scores_per_test_sample)\n"
   ]
  },
  {
   "cell_type": "markdown",
   "id": "c2bec14a-2c41-4e27-bef8-98006958d4f8",
   "metadata": {},
   "source": [
    "# Similar weather day from random year"
   ]
  },
  {
   "cell_type": "code",
   "execution_count": null,
   "id": "a059ece2-ea7b-456c-9245-c0aa022cb3cd",
   "metadata": {},
   "outputs": [],
   "source": [
    "from energyclustering.sampling.samplers import RandomSampler, MetadataSampler\n",
    "from energyclustering.sampling.day_of_year_samplers import RandomDayFromYearSampler, SimilarDayFromYearSampler\n",
    "\n",
    "from sklearn.metrics.pairwise import euclidean_distances"
   ]
  },
  {
   "cell_type": "code",
   "execution_count": null,
   "id": "30ab65b7-34ca-4e1c-a3ce-13c1021f8d62",
   "metadata": {},
   "outputs": [],
   "source": [
    "%%time\n",
    "sampler = SimilarDayFromYearSampler(RandomSampler(), 5)\n",
    "sampler.fit(info_train_df, weather_data, data_train_df, None, None)\n",
    "yearly_sampling_probs = sampler.get_sampling_probabilities(query_df)"
   ]
  },
  {
   "cell_type": "code",
   "execution_count": null,
   "id": "275e0dbf-773c-4e59-b7a3-b744a86eb8ec",
   "metadata": {},
   "outputs": [],
   "source": [
    "energy_scores_per_test_sample = calculate_energy_score_for_daily_matrix(yearly_sampling_probs, data_train_df_filled, data_test_df_filled)\n",
    "np.sum(energy_scores_per_test_sample)"
   ]
  },
  {
   "cell_type": "markdown",
   "id": "f9e18656-b485-4d7c-9c4a-4bb3a7b5dbca",
   "metadata": {},
   "source": [
    "# Similar weather day from metadata year"
   ]
  },
  {
   "cell_type": "code",
   "execution_count": null,
   "id": "2ca293fb-b812-4dff-bb1d-fe3dc238b9a3",
   "metadata": {},
   "outputs": [],
   "source": [
    "from sklearn.cluster import KMeans"
   ]
  },
  {
   "cell_type": "code",
   "execution_count": null,
   "id": "681fceff-4fbe-4d8f-9159-7499050f252f",
   "metadata": {},
   "outputs": [],
   "source": [
    "clusterer = KMeans(n_clusters = 5, random_state = 123)\n",
    "clusterer.fit(info_train_df_pre)\n",
    "clustering = clusterer.labels_\n",
    "centroids = clusterer.cluster_centers_"
   ]
  },
  {
   "cell_type": "markdown",
   "id": "7f8c23ac-91bc-4ead-82a0-3b5939180c37",
   "metadata": {},
   "source": [
    "### Fit the sampler"
   ]
  },
  {
   "cell_type": "code",
   "execution_count": null,
   "id": "b9ae86e1-ebf8-4000-a9f5-621cf2c4c0bd",
   "metadata": {},
   "outputs": [],
   "source": [
    "sampler = SimilarDayFromYearSampler(MetadataSampler(), 5)\n",
    "sampler.fit(info_train_df, weather_data, data_train_df, clustering, centroids)\n",
    "yearly_sampling_probs = sampler.get_sampling_probabilities(query_df)"
   ]
  },
  {
   "cell_type": "code",
   "execution_count": null,
   "id": "09770cdb-e371-4385-a731-a9901d87fbc1",
   "metadata": {},
   "outputs": [],
   "source": [
    "energy_scores_per_test_sample = calculate_energy_score_for_daily_matrix(yearly_sampling_probs, data_train_df_filled, data_test_df_filled)\n",
    "np.sum(energy_scores_per_test_sample)"
   ]
  },
  {
   "cell_type": "markdown",
   "id": "39297ada-5ca0-40c0-84db-62ff9b46d4fe",
   "metadata": {},
   "source": [
    "### Evaluate"
   ]
  },
  {
   "cell_type": "code",
   "execution_count": null,
   "id": "dbd24587-61dc-418c-a9db-0eac677250aa",
   "metadata": {},
   "outputs": [],
   "source": [
    "yearly_energy_scores_per_profile = calculate_energy_score_matrix(yearly_sampling_probs.to_numpy(), data_train_df.fillna(0).to_numpy(), data_test_df.fillna(0).to_numpy())\n",
    "yearly_energy_score_metadata = yearly_energy_scores_per_profile.sum()\n",
    "print(f\"clustering based on metadata samplings energy score is {yearly_energy_score_metadata:.2f}\")"
   ]
  },
  {
   "cell_type": "markdown",
   "id": "5eaced26-99f6-4209-b3b7-3ccb21e1e7bd",
   "metadata": {},
   "source": [
    "# Try sampling from the clustering based on consumption data"
   ]
  },
  {
   "cell_type": "markdown",
   "id": "dbeb40ec-8f05-4db5-8671-cd1494369c63",
   "metadata": {},
   "source": [
    "### First calculate the wasserstein distance matrix"
   ]
  },
  {
   "cell_type": "code",
   "execution_count": null,
   "id": "5b2fa0df-60de-472d-bb2e-64fe6711d96a",
   "metadata": {},
   "outputs": [],
   "source": [
    "from energyclustering.clustering.similarity.distmatrix import calculate_full_distance_matrix\n",
    "from energyclustering.clustering.similarity.wasserstein import WassersteinDistanceMeasure\n"
   ]
  },
  {
   "cell_type": "code",
   "execution_count": null,
   "id": "373a9217-3f03-4ce7-a210-2cb8a8413bdc",
   "metadata": {},
   "outputs": [],
   "source": [
    "from dask.distributed import Client, LocalCluster\n",
    "cluster = LocalCluster(n_workers = 30, threads_per_worker = 1, local_directory = '/cw/dtailocal/jonass')\n",
    "filename = f'cache/cached_wasserstein_{NB_PROFILES}.pkl'\n",
    "if not Path(filename).exists(): \n",
    "    with Client(cluster) as client: \n",
    "        distance_matrix = calculate_full_distance_matrix(data_train_df, WassersteinDistanceMeasure(),client, n_blocks = data_train_df.shape[0])\n",
    "    distance_matrix.to_pickle(filename)\n",
    "else: \n",
    "    distance_matrix = pd.read_pickle(filename)"
   ]
  },
  {
   "cell_type": "markdown",
   "id": "5f944e35-fe0f-407c-a9cc-a78b8ff7c1be",
   "metadata": {},
   "source": [
    "### Cluster based on wasserstein distance matri"
   ]
  },
  {
   "cell_type": "code",
   "execution_count": null,
   "id": "4a6a577c-78d1-46a6-a1c6-596c547c9775",
   "metadata": {},
   "outputs": [],
   "source": [
    "from sklearn_extra.cluster import KMedoids\n",
    "clusterer = KMedoids(5, metric = 'precomputed', random_state  = 123).fit(distance_matrix)\n",
    "labels = clusterer.labels_"
   ]
  },
  {
   "cell_type": "markdown",
   "id": "6dadc8c9-d0fa-4b76-9cbe-b591a9c1698a",
   "metadata": {},
   "source": [
    "### Fit the sampler"
   ]
  },
  {
   "cell_type": "code",
   "execution_count": null,
   "id": "7f826347-ce1a-4e68-99ae-06e87837617f",
   "metadata": {},
   "outputs": [],
   "source": [
    "from energyclustering.sampling.samplers import ConsumptionDataSampler\n",
    "from sklearn.tree import DecisionTreeClassifier"
   ]
  },
  {
   "cell_type": "code",
   "execution_count": null,
   "id": "58d7b680-0f8f-4913-b998-2f5874fa7c40",
   "metadata": {},
   "outputs": [],
   "source": [
    "sampler = ConsumptionDataSampler(DecisionTreeClassifier(max_depth = 5, ccp_alpha = 0.005), seed = 123)\n",
    "sampler.fit(info_train_df_pre, data_train_df, labels)\n",
    "yearly_sampling_probs = sampler.get_sampling_probabilities(info_test_df_pre)"
   ]
  },
  {
   "cell_type": "markdown",
   "id": "38840663-6575-41aa-a8b1-183852d02b20",
   "metadata": {},
   "source": [
    "### Evaluate"
   ]
  },
  {
   "cell_type": "code",
   "execution_count": null,
   "id": "eb00e519-f3ff-47f3-824d-aba799cc3191",
   "metadata": {},
   "outputs": [],
   "source": [
    "yearly_energy_scores_per_profile = calculate_energy_score_matrix(yearly_sampling_probs.to_numpy(), data_train_df.fillna(0), data_test_df.fillna(0))\n",
    "yearly_energy_score_consumption_data = yearly_energy_scores_per_profile.sum()\n",
    "print(f\"clustering based on consumption data energy score is {yearly_energy_score_consumption_data:.2f}\")"
   ]
  },
  {
   "cell_type": "markdown",
   "id": "d2f787d1-93e9-4fd3-a1fa-16f1735aca6f",
   "metadata": {},
   "source": [
    "# Overview of all three approaches"
   ]
  },
  {
   "cell_type": "code",
   "execution_count": null,
   "id": "247b4839-9790-480b-ab7b-86a49eec56e6",
   "metadata": {},
   "outputs": [],
   "source": [
    "result_df = pd.DataFrame([[yearly_energy_score_random], [yearly_energy_score_metadata], [yearly_energy_score_consumption_data]], index = ['random', 'metadata', 'consumption_data'], columns = ['energy_score'])\n",
    "result_df"
   ]
  },
  {
   "cell_type": "code",
   "execution_count": null,
   "id": "7caab1a8-7639-47a9-8fdf-47c97cf8a183",
   "metadata": {},
   "outputs": [],
   "source": []
  }
 ],
 "metadata": {
  "kernelspec": {
   "display_name": "energyville",
   "language": "python",
   "name": "energyville"
  },
  "language_info": {
   "codemirror_mode": {
    "name": "ipython",
    "version": 3
   },
   "file_extension": ".py",
   "mimetype": "text/x-python",
   "name": "python",
   "nbconvert_exporter": "python",
   "pygments_lexer": "ipython3",
   "version": "3.8.10"
  }
 },
 "nbformat": 4,
 "nbformat_minor": 5
}
