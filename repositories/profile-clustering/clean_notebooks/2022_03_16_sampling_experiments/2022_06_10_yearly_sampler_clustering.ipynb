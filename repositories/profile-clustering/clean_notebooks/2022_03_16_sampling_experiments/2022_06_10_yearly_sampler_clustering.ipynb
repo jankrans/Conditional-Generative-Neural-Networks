{
 "cells": [
  {
   "cell_type": "code",
   "execution_count": null,
   "id": "0ce86b18-d62d-42bd-92d7-04ab804dbf42",
   "metadata": {},
   "outputs": [],
   "source": [
    "import numpy as np "
   ]
  },
  {
   "cell_type": "code",
   "execution_count": null,
   "id": "23861863-8a72-470a-878a-a484be463c7c",
   "metadata": {},
   "outputs": [],
   "source": [
    "from energyclustering.sampling.preprocessing import DataPreprocessor\n",
    "from energyclustering.sampling.inspection.consumptionclustering import ConsumptionClusteringInspector\n",
    "from dask.distributed import Client\n",
    "import pandas as pd\n",
    "import altair as alt\n",
    "alt.data_transformers.disable_max_rows()\n",
    "import matplotlib.pyplot as plt\n",
    "import seaborn as sns\n",
    "from energyclustering.sampling.samplers import ConsumptionDataSampler, MetadataSampler, EnergyvilleDaySelectionBaseline, RandomSamplerBaseline\n",
    "from energyclustering.sampling.day_of_year_samplers import DailySamplerFromClusterSampler, GenerateSampleDecorator\n",
    "from sklearn.ensemble import RandomForestClassifier \n",
    "from sklearn.tree import DecisionTreeClassifier\n",
    "from sklearn.cluster import KMeans\n",
    "from sklearn_extra.cluster import KMedoids\n",
    "from pathlib import Path\n",
    "from energyclustering.sampling.evaluation.evaluation import SamplerEvaluator"
   ]
  },
  {
   "cell_type": "code",
   "execution_count": null,
   "id": "34fbb3aa-a03e-46b6-9a28-cc0eba4f7c9c",
   "metadata": {},
   "outputs": [],
   "source": [
    "import warnings\n",
    "warnings.simplefilter(action='ignore', category=FutureWarning)"
   ]
  },
  {
   "cell_type": "code",
   "execution_count": null,
   "id": "0e07dc1e-9812-4af4-a025-1af634db0616",
   "metadata": {},
   "outputs": [],
   "source": [
    "from sklearn.tree import plot_tree\n",
    "import matplotlib.pyplot as plt"
   ]
  },
  {
   "cell_type": "code",
   "execution_count": null,
   "id": "ba9251e8-eef6-4623-84b9-c5a894dfa3dc",
   "metadata": {},
   "outputs": [],
   "source": [
    "%matplotlib inline\n",
    "# %config InlineBackend.figure_formats = ['svg']"
   ]
  },
  {
   "cell_type": "code",
   "execution_count": null,
   "id": "cda9f474-0c77-4523-bda9-28409f7bf925",
   "metadata": {},
   "outputs": [],
   "source": [
    "%load_ext autoreload\n",
    "%autoreload 2"
   ]
  },
  {
   "cell_type": "markdown",
   "id": "1747f318-66ca-4130-9e00-fdf30c5093fc",
   "metadata": {},
   "source": [
    "# The data"
   ]
  },
  {
   "cell_type": "code",
   "execution_count": null,
   "id": "098af90b-0c3f-45ca-bb67-37995fcb1cf8",
   "metadata": {},
   "outputs": [],
   "source": [
    "daily_data_df, data_df, daily_info_df, weather_df = (\n",
    "    DataPreprocessor()\n",
    "    .preprocess_info_df('baseline')\n",
    "    .preprocess_weather_df('baseline')\n",
    "    .drop_days_with_nan(True)\n",
    "    # no subsampling this time\n",
    "#     .subsample_days(week_reduction_factor = 5)\n",
    "    # for testing only!\n",
    "    .subsample_years(1000)\n",
    "    .get_data()\n",
    ")\n",
    "daily_data_df.shape"
   ]
  },
  {
   "cell_type": "code",
   "execution_count": null,
   "id": "72024d90-bafe-4367-9ffb-c2e2e0ed0dfc",
   "metadata": {},
   "outputs": [],
   "source": [
    "household_info = daily_info_df.loc[:, 'household_info'].droplevel('date').pipe(lambda x: x[~x.index.duplicated(keep = 'first')])"
   ]
  },
  {
   "cell_type": "code",
   "execution_count": null,
   "id": "68105e93-5608-4902-bd2e-28821001a3a4",
   "metadata": {},
   "outputs": [],
   "source": [
    "daily_info_df.loc[:, ('day_info', 'FeelsLikeC')]"
   ]
  },
  {
   "cell_type": "markdown",
   "id": "a837238f-b5e0-4258-b16a-0f3596da88f4",
   "metadata": {},
   "source": [
    "# Folds"
   ]
  },
  {
   "cell_type": "code",
   "execution_count": null,
   "id": "56bdbb9d-69c2-4a63-a71a-74f2d13e1f8c",
   "metadata": {},
   "outputs": [],
   "source": [
    "generator = np.random.default_rng(1)\n",
    "shuffled = data_df.index.to_numpy(copy=True)\n",
    "generator.shuffle(shuffled)\n",
    "folds = np.array_split(shuffled, 3)"
   ]
  },
  {
   "cell_type": "code",
   "execution_count": null,
   "id": "f43de512-4870-4e3d-9eef-7af27f77977b",
   "metadata": {},
   "outputs": [],
   "source": [
    "train_set = np.concatenate((folds[0],folds[1]))\n",
    "test_set = folds[2]"
   ]
  },
  {
   "cell_type": "markdown",
   "id": "f588757e-2ff2-48f3-8b26-c5e529fde0a8",
   "metadata": {},
   "source": [
    "## Custom metric for clustering"
   ]
  },
  {
   "cell_type": "code",
   "execution_count": null,
   "id": "d7bee7d4-4111-4150-bdc4-320d73e977ce",
   "metadata": {},
   "outputs": [],
   "source": [
    "# Custom metric\n",
    "from pyclustering.utils.metric import type_metric, distance_metric;\n",
    "from pyclustering.cluster.center_initializer import kmeans_plusplus_initializer\n",
    "from pyclustering.cluster.kmeans import kmeans\n",
    "from energyclustering.clustering.clusterers import MyKMedoids, PrecomputedClustering, PrecomputedDistanceMetricClustering\n",
    "from pyclustering.cluster.kmedoids import kmedoids\n",
    "from sklearn.metrics import pairwise_distances\n",
    "from numba import jit, float64"
   ]
  },
  {
   "cell_type": "code",
   "execution_count": null,
   "id": "bab57147-6222-4d86-8f38-4d65bafe7ca9",
   "metadata": {},
   "outputs": [],
   "source": [
    "\n",
    "\n",
    "@jit(float64(float64[:], float64[:]), nogil = True, nopython = True)\n",
    "def dist(a1, a2): \n",
    "    return np.nanmean((a1-a2)**2)\n",
    "custom_metric = distance_metric(type_metric.USER_DEFINED, func = dist)\n",
    "\n",
    "custom_distance_matrix = pairwise_distances(data_df.to_numpy(), metric = dist, n_jobs = -1, force_all_finite = False)\n",
    "custom_distance_matrix = pd.DataFrame(custom_distance_matrix, index = data_df.index, columns = data_df.index)\n",
    "\n"
   ]
  },
  {
   "cell_type": "code",
   "execution_count": null,
   "id": "ef23febb-65a2-4ef8-bd73-be9cc534399e",
   "metadata": {},
   "outputs": [],
   "source": [
    "class CustomKMeans: \n",
    "    def __init__(self, nb_clusters, random_state = None): \n",
    "        self.nb_clusters = nb_clusters\n",
    "    \n",
    "    def fit(self, data): \n",
    "        # initialize initial centers using K-Means++ method\n",
    "        initial_centers = kmeans_plusplus_initializer(data, self.nb_clusters).initialize()\n",
    "        # create instance of K-Means algorithm with prepared centers\n",
    "        kmeans_instance = kmeans(data, initial_centers, metric = custom_metric)\n",
    "        # run cluster analysis and obtain results\n",
    "        kmeans_instance.process()\n",
    "        labels = np.zeros(data.shape[0])\n",
    "        for cluster_idx, instance_indices in enumerate(kmeans_instance.get_clusters()): \n",
    "            labels[instance_indices] = cluster_idx\n",
    "        self.labels_ = labels.astype('int')\n",
    "        return self\n",
    "    \n",
    "    \n",
    "class CustomKMedoids: \n",
    "    def __init__(self, nb_clusters, random_state = None): \n",
    "        self.nb_clusters = nb_clusters\n",
    "        self.random_state = random_state\n",
    "    \n",
    "    def fit(self, data): \n",
    "        # initialize initial medoids at random\n",
    "        generator = np.random.default_rng(self.random_state)\n",
    "        initial_medoids = generator.choice(data.shape[0], size=self.nb_clusters, replace=False)\n",
    "        # create instance of K-Means algorithm with prepared centers\n",
    "        kmeans_instance = kmedoids(data.to_numpy(), initial_medoids, data_type='distance_matrix')\n",
    "        # run cluster analysis and obtain results\n",
    "        kmeans_instance.process()\n",
    "        labels = np.zeros(data.shape[0])\n",
    "        for cluster_idx, instance_indices in enumerate(kmeans_instance.get_clusters()): \n",
    "            labels[instance_indices] = cluster_idx\n",
    "        self.labels_ = labels.astype('int')\n",
    "        return self\n",
    "    "
   ]
  },
  {
   "cell_type": "markdown",
   "id": "a3072aae-41a8-452c-95d1-d8c794364ef1",
   "metadata": {},
   "source": [
    "# Cluster inspection"
   ]
  },
  {
   "cell_type": "code",
   "execution_count": null,
   "id": "ecb9f605-67c3-4c89-88f5-1fe2e8f7c42c",
   "metadata": {},
   "outputs": [],
   "source": [
    "from energyclustering.sampling.inspection.classificationinspection import ClassificationInspection"
   ]
  },
  {
   "cell_type": "code",
   "execution_count": null,
   "id": "58abcce3-3245-40af-bc56-3765fd3e35e5",
   "metadata": {},
   "outputs": [],
   "source": [
    "def inspect(clusterer, data_to_use): \n",
    "    inspect = ClassificationInspection(clusterer, RandomForestClassifier(), data_to_use, household_info, train_set, test_set).fit_model()\n",
    "    display(inspect.training_cluster_size_df().T)\n",
    "    display(inspect.confusion_matrix(sort_by_size = True))\n",
    "    display(inspect.classification_performance())\n",
    "    \n",
    "    \n",
    "    "
   ]
  },
  {
   "cell_type": "code",
   "execution_count": null,
   "id": "4e60e1d1-7af4-433a-bd0f-68a4efb68fe3",
   "metadata": {},
   "outputs": [],
   "source": [
    "NB_CLUSTERS = 40"
   ]
  },
  {
   "cell_type": "markdown",
   "id": "d48558ef-8a4a-4203-83f1-268f8f2aa0aa",
   "metadata": {},
   "source": [
    "## KMeans\n",
    "Only 2 useful clusters"
   ]
  },
  {
   "cell_type": "code",
   "execution_count": null,
   "id": "baf93d09-1625-4822-b2e7-a5f6e6576966",
   "metadata": {},
   "outputs": [],
   "source": [
    "inspect(KMeans(NB_CLUSTERS), data_df.fillna(0))"
   ]
  },
  {
   "cell_type": "markdown",
   "id": "97bd8181-58eb-4ebd-8640-f9aeeb39bc88",
   "metadata": {},
   "source": [
    "## KMeans with missingness"
   ]
  },
  {
   "cell_type": "code",
   "execution_count": null,
   "id": "184885e8-3fb0-4639-9456-d6f8f151f9dd",
   "metadata": {},
   "outputs": [],
   "source": [
    "inspect(CustomKMeans(NB_CLUSTERS), data_df)"
   ]
  },
  {
   "cell_type": "markdown",
   "id": "1a3c3bf8-ab37-4516-8ef9-9918f01b9514",
   "metadata": {},
   "source": [
    "## Kmedoids"
   ]
  },
  {
   "cell_type": "code",
   "execution_count": null,
   "id": "a660f8b3-484e-4c10-8e21-829004844f5b",
   "metadata": {},
   "outputs": [],
   "source": [
    "inspect(KMedoids(NB_CLUSTERS), data_df.fillna(0))"
   ]
  },
  {
   "cell_type": "markdown",
   "id": "67dd5db0-0860-4938-95d5-efcdf1404560",
   "metadata": {},
   "source": [
    "## KMedoids with missingness"
   ]
  },
  {
   "cell_type": "code",
   "execution_count": null,
   "id": "3c5211a2-dcfe-4fee-81bc-fb49e8690721",
   "metadata": {},
   "outputs": [],
   "source": [
    "inspect(CustomKMedoids(NB_CLUSTERS), custom_distance_matrix)"
   ]
  },
  {
   "cell_type": "markdown",
   "id": "74c3c85e-3220-4e31-9d3a-dd3541a148af",
   "metadata": {},
   "source": [
    "## Wasserstein"
   ]
  },
  {
   "cell_type": "code",
   "execution_count": null,
   "id": "9364c7bd-810b-4d03-80cf-6847141363f5",
   "metadata": {},
   "outputs": [],
   "source": [
    "WASSER = 'full_distance_matrix_wasserstein'\n",
    "directory = Path('/cw/dtaiproj/ml/2020-FLAIR-VITO/profile-clustering/distance_matrices/')\n",
    "inspect(PrecomputedDistanceMetricClustering(NB_CLUSTERS, directory/WASSER/'full_distance_matrix.pkl'), data_df)"
   ]
  },
  {
   "cell_type": "code",
   "execution_count": null,
   "id": "1240ff0c-e6ff-4cfa-8ec4-4b2a61c4565e",
   "metadata": {},
   "outputs": [],
   "source": []
  },
  {
   "cell_type": "code",
   "execution_count": null,
   "id": "73311b3f-d5de-410b-934d-4c6898f3921d",
   "metadata": {},
   "outputs": [],
   "source": [
    "sampler = DailySamplerFromClusterSampler(\n",
    "                yearly_sampler = ConsumptionDataSampler(\n",
    "#                     classifier = RandomForestClassifier(), \n",
    "                    classifier = DecisionTreeClassifier(max_depth = 4, min_samples_leaf = 5), \n",
    "                    clusterer = KMeans(30, random_state = 0), \n",
    "                    info_preprocessing = None\n",
    "                ), \n",
    "                daily_sampler = ConsumptionDataSampler(\n",
    "                    classifier = DecisionTreeClassifier(max_depth = 4, min_samples_leaf = 25), \n",
    "                    clusterer = KMedoids(10, random_state = 0), \n",
    "                    info_preprocessing = None\n",
    "                )\n",
    "            )\n",
    "\n",
    "sampler.fit(daily_data_df, data_df, daily_info_df)\n"
   ]
  },
  {
   "cell_type": "code",
   "execution_count": null,
   "id": "25ab3db0-443c-4d12-8cc7-f30853bcfa85",
   "metadata": {},
   "outputs": [],
   "source": [
    "sampler.yearly_sampler.clustering.value_counts().to_frame('#items')"
   ]
  },
  {
   "cell_type": "markdown",
   "id": "afd218f1-7805-4acd-ada4-46064765083c",
   "metadata": {},
   "source": [
    "\n",
    "# Year selection "
   ]
  },
  {
   "cell_type": "code",
   "execution_count": null,
   "id": "e8f91e5d-fe9f-41fc-9131-585e320239b5",
   "metadata": {},
   "outputs": [],
   "source": [
    "plt.figure(figsize = (20,10), dpi = 100)\n",
    "plot_tree(sampler.yearly_sampler.classifier, feature_names = daily_info_df.loc[:, 'household_info'].columns)\n"
   ]
  },
  {
   "cell_type": "markdown",
   "id": "253dd0b4-3786-41d5-a5f7-cd480275dea2",
   "metadata": {},
   "source": [
    "# Cluster 3\n",
    "Contains ONLY one profile! But it does find distinct daily patterns"
   ]
  },
  {
   "cell_type": "code",
   "execution_count": null,
   "id": "214fb713-c4d7-437b-96a4-8b0aef6e4d15",
   "metadata": {},
   "outputs": [],
   "source": [
    "daily_data_df"
   ]
  },
  {
   "cell_type": "code",
   "execution_count": null,
   "id": "7962dedd-d354-4c98-8778-4b4015e0d3b3",
   "metadata": {},
   "outputs": [],
   "source": [
    "clustering = sampler.yearly_sampler.clustering\n",
    "clustering.to_frame('test')"
   ]
  },
  {
   "cell_type": "code",
   "execution_count": null,
   "id": "b1f00290-96eb-4799-ba40-5eb071f6651a",
   "metadata": {},
   "outputs": [],
   "source": [
    "plot_df = daily_data_df.sample(200).stack().rename_axis(('meterID','day','timestamp'), axis = 0).to_frame('value').join(clustering.rename_axis('meterID', axis = 0).to_frame('cluster_idx')).reset_index()\n",
    "plot_df"
   ]
  },
  {
   "cell_type": "code",
   "execution_count": null,
   "id": "ee3aba7f-d80e-4835-9e56-baac4844f372",
   "metadata": {},
   "outputs": [],
   "source": [
    "plot_df['color'] = plot_df.meterID.astype('str')+plot_df.day.astype('str')"
   ]
  },
  {
   "cell_type": "code",
   "execution_count": null,
   "id": "10b1fb3c-6b2a-4ce1-a5ac-5e7ae0829a80",
   "metadata": {},
   "outputs": [],
   "source": []
  },
  {
   "cell_type": "code",
   "execution_count": null,
   "id": "14ee648d-8a92-4891-b4c4-496ede8c9275",
   "metadata": {},
   "outputs": [],
   "source": [
    "g = sns.FacetGrid(plot_df, row=\"cluster_idx\", sharey=False, aspect = 3)\n",
    "g.map(sns.boxplot, \"timestamp\", \"value\")"
   ]
  },
  {
   "cell_type": "code",
   "execution_count": null,
   "id": "db2b4773-cd80-42c6-a518-ea44b16fcc01",
   "metadata": {},
   "outputs": [],
   "source": [
    "g = sns.FacetGrid(plot_df, row=\"cluster_idx\", hue = 'color', sharey=False, aspect = 3)\n",
    "g.map(sns.lineplot, \"timestamp\", \"value\", size = 0.1)"
   ]
  },
  {
   "cell_type": "markdown",
   "id": "e40b8bfc-66b2-4197-99ae-8fd0105d8c20",
   "metadata": {},
   "source": [
    "### Look at the classifier"
   ]
  },
  {
   "cell_type": "code",
   "execution_count": null,
   "id": "3d7ddd61-5f1d-4101-a660-2d09fe5044cc",
   "metadata": {},
   "outputs": [],
   "source": [
    "plt.figure(figsize = (20,10), dpi = 100)\n",
    "plot_tree(sampler.daily_sampler_per_cluster[cluster_idx].classifier, feature_names = daily_info_df.loc[:, 'day_info'].columns)\n"
   ]
  },
  {
   "cell_type": "markdown",
   "id": "8366e6e8-6240-4066-9b66-396837c7f5cb",
   "metadata": {},
   "source": [
    "### Look at the classifier"
   ]
  },
  {
   "cell_type": "code",
   "execution_count": null,
   "id": "c59e0526-fea9-4ea3-9a14-82882c54b21b",
   "metadata": {},
   "outputs": [],
   "source": [
    "plt.figure(figsize = (20,10), dpi = 100)\n",
    "plot_tree(sampler.daily_sampler_per_cluster[cluster_idx].classifier, feature_names = daily_info_df.loc[:, 'day_info'].columns)\n"
   ]
  },
  {
   "cell_type": "code",
   "execution_count": null,
   "id": "81336204-399c-4704-b799-2aac44c50531",
   "metadata": {},
   "outputs": [],
   "source": [
    "cluster_idx = 1\n",
    "for i in range(5): \n",
    "    plot_daily_cluster(cluster_idx, i).display()"
   ]
  },
  {
   "cell_type": "markdown",
   "id": "a3e8a0d7-eb64-41f9-acfa-448a263e5ec2",
   "metadata": {},
   "source": [
    "### Look at the classifier"
   ]
  },
  {
   "cell_type": "code",
   "execution_count": null,
   "id": "c9c26dbd-bcab-4177-8d4d-6953bd616b5d",
   "metadata": {},
   "outputs": [],
   "source": [
    "plt.figure(figsize = (20,10), dpi = 100)\n",
    "plot_tree(sampler.daily_sampler_per_cluster[cluster_idx].classifier, feature_names = daily_info_df.loc[:, 'day_info'].columns)\n"
   ]
  },
  {
   "cell_type": "code",
   "execution_count": null,
   "id": "ed527345-8761-4778-a8e1-f9c4099a70fe",
   "metadata": {},
   "outputs": [],
   "source": [
    "cluster_idx = 0\n",
    "for i in range(5): \n",
    "    plot_daily_cluster(cluster_idx, i).display()"
   ]
  },
  {
   "cell_type": "markdown",
   "id": "87878240-46bd-4ab9-a2fa-631f3673a6bc",
   "metadata": {},
   "source": [
    "### Look at the classifier"
   ]
  },
  {
   "cell_type": "code",
   "execution_count": null,
   "id": "61e43da4-b696-4edd-aceb-e69403771935",
   "metadata": {},
   "outputs": [],
   "source": [
    "plt.figure(figsize = (20,10), dpi = 100)\n",
    "plot_tree(sampler.daily_sampler_per_cluster[cluster_idx].classifier, feature_names = daily_info_df.loc[:, 'day_info'].columns)\n"
   ]
  },
  {
   "cell_type": "code",
   "execution_count": null,
   "id": "dfbb04a8-be42-481d-852e-41f913f4b95f",
   "metadata": {},
   "outputs": [],
   "source": [
    "plot_cluster(3,10)"
   ]
  },
  {
   "cell_type": "code",
   "execution_count": null,
   "id": "70091a58-fdce-42b3-a162-399c81d95832",
   "metadata": {},
   "outputs": [],
   "source": [
    "plot_cluster(3,3)"
   ]
  },
  {
   "cell_type": "code",
   "execution_count": null,
   "id": "5a325e0b-8528-41be-bbe0-79e63c0740d6",
   "metadata": {},
   "outputs": [],
   "source": [
    "plot_cluster(1,9)"
   ]
  },
  {
   "cell_type": "code",
   "execution_count": null,
   "id": "c5d4b17a-2854-41ec-bf38-0fb66efd8dfb",
   "metadata": {},
   "outputs": [],
   "source": [
    "plot_cluster(3,6)"
   ]
  },
  {
   "cell_type": "code",
   "execution_count": null,
   "id": "6d8b099e-7fbb-4183-b95a-c5ad95ced5a7",
   "metadata": {},
   "outputs": [],
   "source": [
    "plot_cluster(3,2)"
   ]
  },
  {
   "cell_type": "code",
   "execution_count": null,
   "id": "1299fc21-541b-46be-81b6-985b15988545",
   "metadata": {},
   "outputs": [],
   "source": [
    "plot_cluster(3,0)"
   ]
  },
  {
   "cell_type": "markdown",
   "id": "72a91992-4ccb-4493-89f1-8d5268e62125",
   "metadata": {},
   "source": [
    "## Look at tree"
   ]
  },
  {
   "cell_type": "code",
   "execution_count": null,
   "id": "d628e90e-8275-4ad1-893d-9a23f3f12e28",
   "metadata": {},
   "outputs": [],
   "source": [
    "plt.figure(figsize = (20,10), dpi = 100)\n",
    "plot_tree(sampler.daily_sampler_per_cluster[3].classifier, feature_names = daily_info_df.loc[:, 'day_info'].columns)"
   ]
  },
  {
   "cell_type": "code",
   "execution_count": null,
   "id": "1ab23552-6cad-4fb3-9ec0-98c948b80b3a",
   "metadata": {},
   "outputs": [],
   "source": []
  }
 ],
 "metadata": {
  "kernelspec": {
   "display_name": "energyville",
   "language": "python",
   "name": "energyville"
  },
  "language_info": {
   "codemirror_mode": {
    "name": "ipython",
    "version": 3
   },
   "file_extension": ".py",
   "mimetype": "text/x-python",
   "name": "python",
   "nbconvert_exporter": "python",
   "pygments_lexer": "ipython3",
   "version": "3.10.4"
  }
 },
 "nbformat": 4,
 "nbformat_minor": 5
}
