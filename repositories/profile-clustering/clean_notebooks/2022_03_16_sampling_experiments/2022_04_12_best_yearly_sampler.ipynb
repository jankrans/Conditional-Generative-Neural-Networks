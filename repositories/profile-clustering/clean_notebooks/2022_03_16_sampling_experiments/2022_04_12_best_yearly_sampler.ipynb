{
 "cells": [
  {
   "cell_type": "code",
   "execution_count": null,
   "id": "be8faf6a-1ca8-49b7-8452-5ae2baad96a4",
   "metadata": {},
   "outputs": [],
   "source": [
    "import numpy as np "
   ]
  },
  {
   "cell_type": "code",
   "execution_count": null,
   "id": "9f31d0f6-946e-4e21-9ff2-0916893e00aa",
   "metadata": {},
   "outputs": [],
   "source": [
    "from energyclustering.sampling.preprocessing import DataPreprocessor\n",
    "from dask.distributed import Client\n",
    "import pandas as pd\n",
    "import altair as alt"
   ]
  },
  {
   "cell_type": "code",
   "execution_count": null,
   "id": "37c02602-c88e-428e-8a6b-2978f2555d5d",
   "metadata": {},
   "outputs": [],
   "source": [
    "%load_ext autoreload\n",
    "%autoreload 2"
   ]
  },
  {
   "cell_type": "markdown",
   "id": "86e41c1a-2f29-410a-a3b1-d221cbe4bfff",
   "metadata": {},
   "source": [
    "# The data"
   ]
  },
  {
   "cell_type": "code",
   "execution_count": null,
   "id": "cd7e1cd7-3efb-42a9-baf9-4135f937f3fb",
   "metadata": {},
   "outputs": [],
   "source": [
    "daily_data_df, data_df, daily_info_df, weather_df = (\n",
    "    DataPreprocessor()\n",
    "    .preprocess_info_df('baseline')\n",
    "    .preprocess_weather_df('baseline')\n",
    "    .drop_days_with_nan(True)\n",
    "    .subsample_days(week_reduction_factor = 1)\n",
    "    # for testing only!\n",
    "#     .subsample_years(300)\n",
    "    .get_data()\n",
    ")\n",
    "daily_data_df.shape"
   ]
  },
  {
   "cell_type": "code",
   "execution_count": null,
   "id": "ec5f4f2a-9a51-49e4-9b31-c1d19765ead4",
   "metadata": {},
   "outputs": [],
   "source": [
    "nb_years = data_df.shape[0]"
   ]
  },
  {
   "cell_type": "markdown",
   "id": "71ca1063-4ae2-49f8-85d9-d6dbe24e8b6c",
   "metadata": {},
   "source": [
    "# Folds"
   ]
  },
  {
   "cell_type": "code",
   "execution_count": null,
   "id": "d47156ef-d03d-4b07-9126-fca6d24cc2fe",
   "metadata": {},
   "outputs": [],
   "source": [
    "generator = np.random.default_rng(1)\n",
    "shuffled = data_df.index.to_numpy(copy=True)\n",
    "generator.shuffle(shuffled)\n",
    "folds = np.array_split(shuffled, 3)"
   ]
  },
  {
   "cell_type": "markdown",
   "id": "9e365b3f-08ca-438b-b44c-8700a25bf64a",
   "metadata": {},
   "source": [
    "# The samplers"
   ]
  },
  {
   "cell_type": "code",
   "execution_count": null,
   "id": "db773072-1b59-4da2-9446-f75e848abf3a",
   "metadata": {},
   "outputs": [],
   "source": [
    "from energyclustering.sampling.samplers import MetadataSampler\n",
    "from energyclustering.sampling.samplers import RandomSamplerBaseline, RandomSampler\n",
    "from energyclustering.sampling.day_of_year_samplers import RandomDayFromYearSampler, SpecificDayFromYearSampler, SimilarDayFromYearSampler\n",
    "from sklearn.cluster import KMeans"
   ]
  },
  {
   "cell_type": "markdown",
   "id": "20f0bcd8-1962-4dfa-aed0-303f4fe33825",
   "metadata": {},
   "source": [
    "# Evaluate the samplers"
   ]
  },
  {
   "cell_type": "code",
   "execution_count": null,
   "id": "752f958c-3672-4e03-a4c0-92914743fa46",
   "metadata": {},
   "outputs": [],
   "source": [
    "from energyclustering.sampling.evaluation import SamplerEvaluator\n",
    "from pathlib import Path\n",
    "import time"
   ]
  },
  {
   "cell_type": "code",
   "execution_count": null,
   "id": "2a5bf1a8-155f-4c24-9fea-c3cef7abb6ac",
   "metadata": {},
   "outputs": [],
   "source": [
    "NB_CLUSTERS = 20\n",
    "NB_OF_YEARS_TO_SAMPLE = int(nb_years * (2/3)*(1 / NB_CLUSTERS))\n",
    "NB_OF_DAYS_TO_SAMPLE = 10\n",
    "models = dict(\n",
    "    random_day_random_year = RandomSamplerBaseline(NB_OF_YEARS_TO_SAMPLE*NB_OF_DAYS_TO_SAMPLE), \n",
    "    random_day_from_metadata_year = RandomDayFromYearSampler(MetadataSampler(KMeans(NB_CLUSTERS)), NB_OF_DAYS_TO_SAMPLE), \n",
    "    weather_day_from_random_year = SimilarDayFromYearSampler(RandomSampler(), NB_OF_DAYS_TO_SAMPLE, weather_df), \n",
    "    weather_day_from_metadata_year = SimilarDayFromYearSampler(MetadataSampler(KMeans(NB_CLUSTERS)), NB_OF_DAYS_TO_SAMPLE, weather_df)\n",
    ")\n",
    "result_path = Path()/'results'/'energyville_full_ablation'\n",
    "result_path.mkdir(parents = True, exist_ok = True)\n",
    "with Client(local_directory = '/cw/dtailocal/', n_workers=20, threads_per_worker = 1) as client: \n",
    "    evaluator = SamplerEvaluator(folds, daily_data_df, daily_info_df, data_df, client, 200)\n",
    "    for key, model in models.items(): \n",
    "        start_time = time.time()\n",
    "        evaluator.evaluate_and_save(model, result_path/ f\"{key}_v0.pkl\")\n",
    "        print(f\"{key}: {time.time()- start_time} s\")\n",
    "        client.restart()\n"
   ]
  },
  {
   "cell_type": "code",
   "execution_count": null,
   "id": "156405cf-9dce-4706-ae02-38b2b5e8274b",
   "metadata": {},
   "outputs": [],
   "source": [
    "\n",
    "all_files = list(result_path.iterdir())\n",
    "results = pd.concat([pd.read_pickle(path) for path in all_files], keys = [path.stem for path in all_files], axis = 1)\n",
    "results"
   ]
  },
  {
   "cell_type": "code",
   "execution_count": null,
   "id": "a2d1822a-98d1-462c-af77-539b5f09f248",
   "metadata": {},
   "outputs": [],
   "source": [
    "results.mean(axis = 0)"
   ]
  },
  {
   "cell_type": "code",
   "execution_count": null,
   "id": "9e3690cb-a3fe-4e00-b1e9-649748f8c1b2",
   "metadata": {},
   "outputs": [],
   "source": [
    "results.std(axis = 0)"
   ]
  },
  {
   "cell_type": "code",
   "execution_count": null,
   "id": "46c250f3-d371-444a-b2ea-70021a9dc5a7",
   "metadata": {},
   "outputs": [],
   "source": []
  }
 ],
 "metadata": {
  "kernelspec": {
   "display_name": "energyville",
   "language": "python",
   "name": "energyville"
  },
  "language_info": {
   "codemirror_mode": {
    "name": "ipython",
    "version": 3
   },
   "file_extension": ".py",
   "mimetype": "text/x-python",
   "name": "python",
   "nbconvert_exporter": "python",
   "pygments_lexer": "ipython3",
   "version": "3.10.4"
  }
 },
 "nbformat": 4,
 "nbformat_minor": 5
}
