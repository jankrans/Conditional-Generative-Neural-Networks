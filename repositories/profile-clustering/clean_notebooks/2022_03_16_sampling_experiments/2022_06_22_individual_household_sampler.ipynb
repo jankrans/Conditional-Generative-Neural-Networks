{
 "cells": [
  {
   "cell_type": "code",
   "execution_count": null,
   "id": "4e0ac01d-16e7-4ae8-bf9d-3a4419c07060",
   "metadata": {},
   "outputs": [],
   "source": [
    "import numpy as np "
   ]
  },
  {
   "cell_type": "code",
   "execution_count": null,
   "id": "b0507f06-1300-4c4f-b41b-d84c4d798624",
   "metadata": {},
   "outputs": [],
   "source": [
    "from energyclustering.sampling.preprocessing import DataPreprocessor\n",
    "from energyclustering.sampling.inspection.consumptionclustering import ConsumptionClusteringInspector\n",
    "from dask.distributed import Client\n",
    "import pandas as pd\n",
    "import altair as alt\n",
    "alt.data_transformers.disable_max_rows()\n",
    "import matplotlib.pyplot as plt\n",
    "import seaborn as sns\n",
    "from energyclustering.sampling.samplers import ConsumptionDataSampler, MetadataSampler, EnergyvilleDaySelectionBaseline, RandomSamplerBaseline\n",
    "from energyclustering.sampling.day_of_year_samplers import DailySamplerFromClusterSampler, GenerateSampleDecorator\n",
    "from sklearn.ensemble import RandomForestClassifier \n",
    "from sklearn.tree import DecisionTreeClassifier\n",
    "from sklearn.cluster import KMeans\n",
    "from sklearn_extra.cluster import KMedoids\n",
    "from pathlib import Path\n",
    "from energyclustering.sampling.evaluation.evaluation import SamplerEvaluator"
   ]
  },
  {
   "cell_type": "code",
   "execution_count": null,
   "id": "f55156fc-3c62-4ca7-bcee-c9e35817d895",
   "metadata": {},
   "outputs": [],
   "source": [
    "from energyclustering.sampling.inspection.classificationinspection import ClassificationInspection"
   ]
  },
  {
   "cell_type": "code",
   "execution_count": null,
   "id": "91003308-2e60-4bae-9790-51a99056f5ea",
   "metadata": {},
   "outputs": [],
   "source": [
    "import warnings\n",
    "warnings.simplefilter(action='ignore', category=FutureWarning)"
   ]
  },
  {
   "cell_type": "code",
   "execution_count": null,
   "id": "1c7f51be-afae-4b5f-9d69-ca8a6a81b728",
   "metadata": {},
   "outputs": [],
   "source": [
    "from sklearn.tree import plot_tree\n",
    "import matplotlib.pyplot as plt\n",
    "from IPython.display import display, HTML"
   ]
  },
  {
   "cell_type": "code",
   "execution_count": null,
   "id": "69f63090-bf80-4b3b-bb21-593aa5bc6a47",
   "metadata": {},
   "outputs": [],
   "source": [
    "%matplotlib inline\n",
    "# %config InlineBackend.figure_formats = ['svg']"
   ]
  },
  {
   "cell_type": "code",
   "execution_count": null,
   "id": "2b5cb493-8eb7-4c40-84db-99f6ec5d60fd",
   "metadata": {},
   "outputs": [],
   "source": [
    "%load_ext autoreload\n",
    "%autoreload 2"
   ]
  },
  {
   "cell_type": "markdown",
   "id": "599786c0-e155-430c-964e-1011b3022c26",
   "metadata": {},
   "source": [
    "# The data"
   ]
  },
  {
   "cell_type": "code",
   "execution_count": null,
   "id": "b5adf9f4-4006-4bd4-a9c6-e7c11bbb1529",
   "metadata": {},
   "outputs": [],
   "source": [
    "daily_data_df, data_df, daily_info_df, weather_df = (\n",
    "    DataPreprocessor()\n",
    "    .preprocess_info_df('baseline')\n",
    "    .preprocess_weather_df('baseline')\n",
    "    .drop_days_with_nan(True)\n",
    "    # no subsampling this time\n",
    "    .subsample_days(None)\n",
    "    # for testing only!\n",
    "    .subsample_years(1000)\n",
    "    .get_data()\n",
    ")\n",
    "household_info = daily_info_df.loc[:, 'household_info'].droplevel('date').pipe(lambda x: x[~x.index.duplicated(keep = 'first')])"
   ]
  },
  {
   "cell_type": "code",
   "execution_count": null,
   "id": "26527511-5365-42df-b3cb-01896ba77ae4",
   "metadata": {},
   "outputs": [],
   "source": [
    "def inspect(daily_clusterer, daily_data_to_use, min_cluster_size = 10, **tree_params): \n",
    "    day_info = daily_info_df.loc[daily_data_to_use.index.unique(), 'day_info']\n",
    "    inspector = ClassificationInspection(daily_clusterer, DecisionTreeClassifier(**tree_params), daily_data_to_use, day_info, daily_data_to_use.index, daily_data_to_use.index)\n",
    "    inspector = inspector.fit_model()\n",
    "    inspector.plot_clustering_line(sample = None)\n",
    "    display(inspector.training_cluster_size_df().T)\n",
    "    display(inspector.classification_performance())\n",
    "    inspector.plot_tree()\n",
    "    \n",
    "    "
   ]
  },
  {
   "cell_type": "code",
   "execution_count": null,
   "id": "c1b0a88b-d8e2-4ee5-a4fb-6f582afc732a",
   "metadata": {},
   "outputs": [],
   "source": [
    "data_df.loc[profile_to_use].isna().sum()"
   ]
  },
  {
   "cell_type": "code",
   "execution_count": null,
   "id": "faa5c2e6-53e9-4aeb-812f-257b14be4034",
   "metadata": {},
   "outputs": [],
   "source": [
    "daily_data_df.loc[profile_to_use].shape"
   ]
  },
  {
   "cell_type": "code",
   "execution_count": null,
   "id": "a0693a9d-e6f6-4382-ae86-de8df1e3f160",
   "metadata": {},
   "outputs": [],
   "source": [
    "daily_data_df.loc[profile_to_use].isna().any(axis = 1).sum()"
   ]
  },
  {
   "cell_type": "code",
   "execution_count": null,
   "id": "972e7c8b-7c0a-4f93-9b39-63b93a114192",
   "metadata": {},
   "outputs": [],
   "source": [
    "plot_df.tail()"
   ]
  },
  {
   "cell_type": "code",
   "execution_count": null,
   "id": "4784931d-0e25-4c9c-b4ba-bbdb8cb9f41e",
   "metadata": {},
   "outputs": [],
   "source": [
    "plot_df = data_df.loc[profile_to_use].to_frame('value').reset_index()\n",
    "alt.Chart(plot_df, width = 1000).mark_line().encode(\n",
    "    x = 'index', \n",
    "    y = 'value'\n",
    "    ).interactive()"
   ]
  },
  {
   "cell_type": "code",
   "execution_count": null,
   "id": "5da8a3a3-ee0d-448c-964a-3c5f134c7c60",
   "metadata": {},
   "outputs": [],
   "source": [
    "from datetime import datetime \n",
    "  \n",
    "# initializing day number \n",
    "day_num = str(230)\n",
    "day_num.rjust(3 + len(day_num), '0') \n",
    "year = str(2016)\n",
    "  \n",
    "# converting to date \n",
    "res = datetime.strptime(year + \"-\" + day_num, \"%Y-%j\").strftime(\"%d-%m-%Y\")\n",
    "res"
   ]
  },
  {
   "cell_type": "code",
   "execution_count": null,
   "id": "b1213d63-3c54-4e94-9a4f-2408ba365564",
   "metadata": {},
   "outputs": [],
   "source": [
    "IDX = 100\n",
    "\n",
    "all_profiles = data_df.index\n",
    "profile_to_use = all_profiles[IDX]\n",
    "\n",
    "\n",
    "inspect(KMeans(10), daily_data_df.loc[[profile_to_use]], min_cluster_size = 0, max_depth = 4, min_samples_leaf = 10)"
   ]
  },
  {
   "cell_type": "code",
   "execution_count": null,
   "id": "dbcfcde3-01e2-4a15-badd-882ad289f993",
   "metadata": {},
   "outputs": [],
   "source": [
    "plot_df = data_df.loc[profile_to_use].to_frame('value').reset_index()\n",
    "alt.Chart(plot_df, width = 1000).mark_line().encode(\n",
    "    x = 'index', \n",
    "    y = 'value'\n",
    "    ).interactive(bind_y = False)"
   ]
  },
  {
   "cell_type": "code",
   "execution_count": null,
   "id": "7bfd62ee-1f6f-40be-995e-a59126a1d464",
   "metadata": {},
   "outputs": [],
   "source": [
    "IDX =900\n",
    "\n",
    "all_profiles = data_df.index\n",
    "profile_to_use = all_profiles[IDX]\n",
    "\n",
    "\n",
    "inspect(KMeans(15, random_state = 10), daily_data_df.loc[[profile_to_use]], min_cluster_size = 0, max_depth = 3, min_samples_leaf = 10, min_impurity_decrease = 0)"
   ]
  },
  {
   "cell_type": "code",
   "execution_count": null,
   "id": "a207cc55-7ff5-4284-9f0d-c77f098e3c23",
   "metadata": {},
   "outputs": [],
   "source": [
    "plot_df = daily_data_df.loc[[profile_to_use]].stack().rename_axis(['meterID', 'date', 'time'], axis = 0).to_frame('value').join(daily_info_df.loc[:, 'day_info'], how = 'left').reset_index().astype({'maxtempC': 'int', 'sunHour':'float', 'tempC':'float'})\n",
    "plot_df = plot_df.query('sunHour <= 8.95 and tempC > 10.5')\n",
    "line = alt.Chart(plot_df).mark_line(size = 0.2).encode(\n",
    "    x = 'time', \n",
    "    y = 'value', \n",
    "    color = 'date:N', \n",
    "#     row = 'is_weekend'\n",
    ")\n",
    "box =  alt.Chart(plot_df).mark_boxplot().encode(\n",
    "    x = 'time', \n",
    "    y = 'value', \n",
    "#     row = 'is_weekend'\n",
    ") \n",
    "box"
   ]
  },
  {
   "cell_type": "code",
   "execution_count": null,
   "id": "16748bea-e86a-4d57-8d5f-c9fae8d4f957",
   "metadata": {},
   "outputs": [],
   "source": [
    "plot_df = daily_data_df.loc[[profile_to_use]].stack().rename_axis(['meterID', 'date', 'time'], axis = 0).to_frame('value').join(daily_info_df.loc[:, 'day_info'], how = 'left').reset_index().astype({'maxtempC': 'int', 'sunHour':'float'})\n",
    "plot_df = plot_df.query('sunHour > 8.95')\n",
    "line = alt.Chart(plot_df).mark_line(size = 0.2).encode(\n",
    "    x = 'time', \n",
    "    y = 'value', \n",
    "    color = 'date:N', \n",
    "#     row = 'is_weekend'\n",
    ")\n",
    "box =  alt.Chart(plot_df).mark_boxplot().encode(\n",
    "    x = 'time', \n",
    "    y = 'value', \n",
    "#     row = 'is_weekend'\n",
    ") \n",
    "box"
   ]
  },
  {
   "cell_type": "code",
   "execution_count": null,
   "id": "ef691370-aae2-4ec8-9ed1-abdd5645bdfd",
   "metadata": {},
   "outputs": [],
   "source": []
  },
  {
   "cell_type": "code",
   "execution_count": null,
   "id": "860aa99f-5e07-4b41-b9fe-be699be0d663",
   "metadata": {},
   "outputs": [],
   "source": [
    "box"
   ]
  },
  {
   "cell_type": "code",
   "execution_count": null,
   "id": "ff5ff034-dff4-4e30-9dd8-f109895a375c",
   "metadata": {},
   "outputs": [],
   "source": [
    "alt.Chart(plot_df).mark_line().encode(\n",
    "    x = 'time', \n",
    "    y = 'value', \n",
    "    color = 'date:N', \n",
    "    row = 'is_weekend'\n",
    ")"
   ]
  },
  {
   "cell_type": "code",
   "execution_count": null,
   "id": "3c78811e-040d-4188-a998-b8d03b10c512",
   "metadata": {},
   "outputs": [],
   "source": []
  }
 ],
 "metadata": {
  "kernelspec": {
   "display_name": "energyville",
   "language": "python",
   "name": "energyville"
  },
  "language_info": {
   "codemirror_mode": {
    "name": "ipython",
    "version": 3
   },
   "file_extension": ".py",
   "mimetype": "text/x-python",
   "name": "python",
   "nbconvert_exporter": "python",
   "pygments_lexer": "ipython3",
   "version": "3.10.4"
  }
 },
 "nbformat": 4,
 "nbformat_minor": 5
}
