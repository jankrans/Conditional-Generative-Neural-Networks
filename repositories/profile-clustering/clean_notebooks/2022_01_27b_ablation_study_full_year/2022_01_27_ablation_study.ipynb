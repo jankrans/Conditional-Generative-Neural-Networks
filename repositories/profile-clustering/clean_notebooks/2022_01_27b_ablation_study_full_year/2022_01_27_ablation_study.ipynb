{
 "cells": [
  {
   "cell_type": "code",
   "execution_count": null,
   "id": "ada3e2c4-18e6-4f9e-911a-5baadf5b768d",
   "metadata": {},
   "outputs": [],
   "source": [
    "from pathlib import Path\n",
    "import numpy as np\n",
    "import pandas as pd \n",
    "from tqdm.notebook import tqdm\n",
    "import altair as alt\n",
    "from energyclustering.webapp.resultparser import COBRASResult, ResultInspector\n",
    "from energyclustering.sampling.preprocessing import preprocess_info_df_for_sampling_classification\n",
    "\n",
    "alt.data_transformers.disable_max_rows()\n"
   ]
  },
  {
   "cell_type": "code",
   "execution_count": null,
   "id": "a4da9983-fdf3-4d2b-94a9-48183f2d8732",
   "metadata": {},
   "outputs": [],
   "source": [
    "%load_ext autoreload\n",
    "%autoreload 2\n",
    "%matplotlib inline"
   ]
  },
  {
   "cell_type": "code",
   "execution_count": null,
   "id": "800cb7f7-3fba-448e-8c73-72bec4d1050e",
   "metadata": {},
   "outputs": [],
   "source": [
    "WASSER = 'full_distance_matrix_wasserstein'\n",
    "directory = Path('/cw/dtaiproj/ml/2020-FLAIR-VITO/profile-clustering/distance_matrices/')\n",
    "fold_directory = Path('/cw/dtaiproj/ml/2020-FLAIR-VITO/profile-clustering/folds/2022-01-27_folds.npy')\n",
    "assert all((directory/name).exists() for name in [WASSER])"
   ]
  },
  {
   "cell_type": "markdown",
   "id": "f57e1731-f5eb-484c-8c4e-bddf0998e51c",
   "metadata": {},
   "source": [
    "# Prepare the data"
   ]
  },
  {
   "cell_type": "code",
   "execution_count": null,
   "id": "20cd652a-bb9f-4fac-9948-eb61935c3c9e",
   "metadata": {},
   "outputs": [],
   "source": [
    "cobras_result = COBRASResult('result_20211124_koen', directory/WASSER)\n",
    "info_df, data_df = cobras_result.info_df, cobras_result.data_df\n",
    "subset_info_df = preprocess_info_df_for_sampling_classification(info_df, data_df)\n",
    "classification_X = subset_info_df.to_numpy()"
   ]
  },
  {
   "cell_type": "code",
   "execution_count": null,
   "id": "e826906b-74be-44dc-9187-31bd21aa24f9",
   "metadata": {},
   "outputs": [],
   "source": [
    "folds = np.load(fold_directory, allow_pickle = True)\n",
    "folds"
   ]
  },
  {
   "cell_type": "markdown",
   "id": "bff60d8a-e1ea-467c-813a-6ad8b52143c0",
   "metadata": {},
   "source": [
    "# Collect/make the clusterings"
   ]
  },
  {
   "cell_type": "code",
   "execution_count": null,
   "id": "7c1a029a-cd7a-405b-9b16-28f5636335f3",
   "metadata": {},
   "outputs": [],
   "source": [
    "clusterings_to_evaluate = dict()"
   ]
  },
  {
   "cell_type": "markdown",
   "id": "7ab4965f-65fe-43be-b355-554b7d30308d",
   "metadata": {},
   "source": [
    "## Util"
   ]
  },
  {
   "cell_type": "code",
   "execution_count": null,
   "id": "78a5bf1a-c29c-4c88-829c-fa38a36b754d",
   "metadata": {},
   "outputs": [],
   "source": [
    "from sklearn_extra.cluster import KMedoids\n",
    "def cluster_based_on_distance_matrix(distance_matrix, n_clusters = 13, random_state = None): \n",
    "    clusterer = KMedoids(13, metric = 'precomputed', random_state  = random_state).fit(distance_matrix)\n",
    "    return clusterer.labels_\n",
    "    \n",
    "    "
   ]
  },
  {
   "cell_type": "markdown",
   "id": "cd992d81-bdd7-4f9a-a920-c56c0a236f33",
   "metadata": {},
   "source": [
    "## Wasserstein with expert data"
   ]
  },
  {
   "cell_type": "code",
   "execution_count": null,
   "id": "ba5afa8f-c9a8-4905-b482-29996ef09d34",
   "metadata": {},
   "outputs": [],
   "source": [
    "clustering_wasser_expert = cobras_result.clusterings[-1]\n",
    "clusterings_to_evaluate['wasser_expert'] = clustering_wasser_expert"
   ]
  },
  {
   "cell_type": "markdown",
   "id": "58bc8f90-c2e5-48c3-bfa4-97ae0113eb47",
   "metadata": {},
   "source": [
    "## Wasserstein without expert "
   ]
  },
  {
   "cell_type": "code",
   "execution_count": null,
   "id": "b4a2abdf-bf6f-4500-87f3-961d654c32c9",
   "metadata": {},
   "outputs": [],
   "source": [
    "wasser_distance_matrix = cobras_result._distance_matrix\n",
    "clustering_wasser_no_expert = cluster_based_on_distance_matrix(wasser_distance_matrix,  13, 1234)\n",
    "clusterings_to_evaluate['wasser_no_expert'] = clustering_wasser_no_expert"
   ]
  },
  {
   "cell_type": "markdown",
   "id": "25fe9950-23c2-419d-a6f1-a749a0c89f0e",
   "metadata": {},
   "source": [
    "## Euclidean no expert"
   ]
  },
  {
   "cell_type": "code",
   "execution_count": null,
   "id": "289d4762-fc6a-4e30-a2e6-7a3c30c88f48",
   "metadata": {},
   "outputs": [],
   "source": [
    "from sklearn.metrics.pairwise import euclidean_distances\n",
    "imputed_data_df = data_df.apply(lambda row: row.fillna(row.mean()), axis = 1)\n",
    "eucl_distance_matrix = euclidean_distances(imputed_data_df.to_numpy())\n",
    "clustering_eucl_no_expert = cluster_based_on_distance_matrix(eucl_distance_matrix, 13, 1345)\n",
    "clusterings_to_evaluate['eucl_no_expert'] = clustering_eucl_no_expert"
   ]
  },
  {
   "cell_type": "markdown",
   "id": "20a6cba1-79f6-4e7b-99da-6e37325ecdc1",
   "metadata": {},
   "source": [
    "# Evaluate sampling based on each clustering"
   ]
  },
  {
   "cell_type": "code",
   "execution_count": null,
   "id": "8acfb453-b786-4fed-8805-3833fc0c44ea",
   "metadata": {},
   "outputs": [],
   "source": [
    "from energyclustering.sampling.sampler import Sampler\n",
    "from energyclustering.sampling.sampler import CrossValidationSampler\n",
    "from sklearn.tree import DecisionTreeClassifier\n",
    "from dask.distributed import Client\n",
    "SCHEDULER = 'pinac38.cs.kuleuven.be:8786'"
   ]
  },
  {
   "cell_type": "code",
   "execution_count": null,
   "id": "6377c0f6-e08e-447f-81ca-53bf6884f0fe",
   "metadata": {},
   "outputs": [],
   "source": [
    "%%time\n",
    "# imputed_data_df = \n",
    "cv_sampler = CrossValidationSampler( DecisionTreeClassifier(max_depth = 5, ccp_alpha = 0.005), folds, imputed_data_df, subset_info_df)\n",
    "with Client(SCHEDULER) as client: \n",
    "#     client.restart()\n",
    "    results = []\n",
    "    for name, clustering in tqdm(clusterings_to_evaluate.items()): \n",
    "        results.append(cv_sampler.evaluate_sampling_dask(clustering.astype('int'), client))  "
   ]
  },
  {
   "cell_type": "code",
   "execution_count": null,
   "id": "aa2b73c1-ac3e-425c-b795-794573972e89",
   "metadata": {},
   "outputs": [],
   "source": [
    "result_df = pd.concat(results, keys = clusterings_to_evaluate.keys()).rename_axis(['clustering', 'fold'], axis = 0)\n",
    "result_df"
   ]
  },
  {
   "cell_type": "code",
   "execution_count": null,
   "id": "1d316cca-266a-4981-bb66-bcc49aaa4def",
   "metadata": {},
   "outputs": [],
   "source": [
    "reduced_result_df = result_df.reset_index().groupby('clustering').sum().drop(columns = 'fold')\n",
    "reduced_result_df.style.background_gradient(axis = 1,cmap = 'viridis')"
   ]
  },
  {
   "cell_type": "code",
   "execution_count": null,
   "id": "1da5501a-2957-4a72-936f-6a2dbe963d37",
   "metadata": {},
   "outputs": [],
   "source": [
    "reduced_result_df\n"
   ]
  },
  {
   "cell_type": "code",
   "execution_count": null,
   "id": "71389241-40c6-4f7a-a63c-2894c8d80ad0",
   "metadata": {},
   "outputs": [],
   "source": [
    "reduced_result_df.style.background_gradient(axis = 0, cmap = 'viridis')"
   ]
  },
  {
   "cell_type": "code",
   "execution_count": null,
   "id": "afd22f9b-5e12-44d8-8a07-6d00c1191cf5",
   "metadata": {},
   "outputs": [],
   "source": [
    "subset = data_df.index[:3].to_numpy()\n",
    "subset"
   ]
  },
  {
   "cell_type": "code",
   "execution_count": null,
   "id": "fdb9b776-1886-40d9-adff-ecfb28f5edf1",
   "metadata": {},
   "outputs": [],
   "source": [
    "index_series = pd.Series(range(0, data_df.shape[0]), index = data_df.index)\n",
    "index_series.loc[subset]"
   ]
  },
  {
   "cell_type": "code",
   "execution_count": null,
   "id": "78395e2d-9bd5-4046-a788-79dd9bbc9910",
   "metadata": {},
   "outputs": [],
   "source": [
    "data_df.index.get_loc(subset)"
   ]
  },
  {
   "cell_type": "code",
   "execution_count": null,
   "id": "cfc6e4c5-fa95-4b33-8a39-71a242277288",
   "metadata": {},
   "outputs": [],
   "source": []
  }
 ],
 "metadata": {
  "kernelspec": {
   "display_name": "energyville",
   "language": "python",
   "name": "energyville"
  },
  "language_info": {
   "codemirror_mode": {
    "name": "ipython",
    "version": 3
   },
   "file_extension": ".py",
   "mimetype": "text/x-python",
   "name": "python",
   "nbconvert_exporter": "python",
   "pygments_lexer": "ipython3",
   "version": "3.8.10"
  }
 },
 "nbformat": 4,
 "nbformat_minor": 5
}
