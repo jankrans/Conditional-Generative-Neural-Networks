{
 "cells": [
  {
   "cell_type": "code",
   "execution_count": null,
   "id": "9a2d9c4c-dfcb-4429-a0db-125b87f11fa1",
   "metadata": {},
   "outputs": [],
   "source": [
    "import pandas as pd\n",
    "import numpy as np"
   ]
  },
  {
   "cell_type": "code",
   "execution_count": null,
   "id": "5fcfc554-ef04-432d-82e4-c6390d8114a3",
   "metadata": {},
   "outputs": [],
   "source": [
    "from energyclustering.data.fluvius.data import read_data_pickle\n",
    "from energyclustering.data.weather.data import read_weather_data\n",
    "from energyclustering.sampling.preprocessing import preprocess_info_df_for_sampling_classification, yearly_profile_df_to_daily_df"
   ]
  },
  {
   "cell_type": "markdown",
   "id": "6bf87a4e-d6a2-4984-9abc-372417f73cf5",
   "metadata": {},
   "source": [
    "# NOTE: now integrated into the code"
   ]
  },
  {
   "cell_type": "markdown",
   "id": "f2c3ae11-71e4-4288-9d5e-0f85dd2652a0",
   "metadata": {},
   "source": [
    "### All the days"
   ]
  },
  {
   "cell_type": "code",
   "execution_count": null,
   "id": "b47f87e6-e182-438b-861b-828f0462f49d",
   "metadata": {},
   "outputs": [],
   "source": [
    "info_df, data_df = read_data_pickle()\n",
    "years = data_df.index.get_level_values('year').unique()\n",
    "first_year, last_year = years.min(), years.max()\n",
    "all_days = pd.date_range(f\"1/1/{first_year}\", f\"31/12/{last_year}\", freq = '1D')\n",
    "day_df = pd.DataFrame(index = all_days)\n",
    "day_df"
   ]
  },
  {
   "cell_type": "markdown",
   "id": "5bfd2977-dd02-42e2-b322-d2de74f5829a",
   "metadata": {},
   "source": [
    "### Information about days"
   ]
  },
  {
   "cell_type": "code",
   "execution_count": null,
   "id": "d7c10c6f-a442-4d7f-afa0-4456a10b3337",
   "metadata": {},
   "outputs": [],
   "source": [
    "day_df = day_df.assign(\n",
    "    day = lambda x: x.index.day, \n",
    "    month = lambda x: x.index.month, \n",
    "    year = lambda x: x.index.year, \n",
    "    day_of_week = lambda x: x.index.weekday,\n",
    "    is_weekend = lambda x: x.index.day_of_week >=5,\n",
    "    iso_day = lambda x: x.index.day_of_year,\n",
    "    iso_week = lambda x: x.index.isocalendar().week,\n",
    ")\n",
    "\n",
    "\n",
    "import holidays\n",
    "belgium_holidays = holidays.BE()\n",
    "day_df['is_holiday'] = all_days.map(lambda date: date in belgium_holidays)\n",
    "day_df"
   ]
  },
  {
   "cell_type": "markdown",
   "id": "1c63864f-ae56-47d0-b107-c7e27c652f8a",
   "metadata": {},
   "source": [
    "# Sample the days per week"
   ]
  },
  {
   "cell_type": "markdown",
   "id": "7427534c-39b9-45a4-9d02-5f404c6b89cb",
   "metadata": {},
   "source": [
    "From each week sample one weekday and one weekend day"
   ]
  },
  {
   "cell_type": "code",
   "execution_count": null,
   "id": "0fe3ae5a-fb7d-4269-a83a-d5044cf65c5c",
   "metadata": {},
   "outputs": [],
   "source": [
    "sampled_days = day_df[day_df.iso_week % 2 == 0].groupby(['year', 'iso_week', 'is_weekend']).apply(lambda x: x.sample(1)).droplevel([0,1,2]).sort_index()\n",
    "sampled_days"
   ]
  },
  {
   "cell_type": "code",
   "execution_count": null,
   "id": "fbc72a80-d2f4-4958-8983-1a0584b1bdef",
   "metadata": {},
   "outputs": [],
   "source": [
    "sampled_days_per_year = {key:value.apply(lambda x: x.replace(year = 2016)) for key,value in sampled_days.reset_index().groupby('year')['index']}\n",
    "sampled_days_per_year;"
   ]
  },
  {
   "cell_type": "markdown",
   "id": "ff0c0f97-8c8a-4e0e-a59a-236a0a5ee403",
   "metadata": {},
   "source": [
    "## Subsample the days"
   ]
  },
  {
   "cell_type": "code",
   "execution_count": null,
   "id": "3f1a23da-dcc0-4ed2-abb4-d80d65992ef9",
   "metadata": {},
   "outputs": [],
   "source": [
    "info_df = info_df.set_axis(info_df.index.to_flat_index().map(str), axis = 0)\n",
    "data_df = data_df.set_axis(data_df.index.to_flat_index().map(str), axis = 0)"
   ]
  },
  {
   "cell_type": "code",
   "execution_count": null,
   "id": "66b2e416-19a6-4ed1-a6f2-413cd0f55cc3",
   "metadata": {},
   "outputs": [],
   "source": [
    "def subsample_year(df): \n",
    "    year = int(df.name[-5:-1])\n",
    "    days_to_sample = sampled_days_per_year[year]\n",
    "    return df.loc[(df.name,days_to_sample), :]"
   ]
  },
  {
   "cell_type": "code",
   "execution_count": null,
   "id": "482915c4-bfe9-43b1-9023-b00c91660e8b",
   "metadata": {},
   "outputs": [],
   "source": [
    "daily_df = yearly_profile_df_to_daily_df(data_df)\n",
    "daily_df"
   ]
  },
  {
   "cell_type": "code",
   "execution_count": null,
   "id": "f5ea60cc-9c56-49ce-a8dc-d834cd842a7e",
   "metadata": {},
   "outputs": [],
   "source": [
    "subsampled_df = daily_df.groupby(axis = 0, level = 0).apply(subsample_year).droplevel(0)\n",
    "subsampled_df"
   ]
  },
  {
   "cell_type": "code",
   "execution_count": null,
   "id": "60e11c81-9eb2-4b14-97eb-8e14dddc7efc",
   "metadata": {},
   "outputs": [],
   "source": [
    "subsampled_df.shape[0]/daily_df.shape[0]"
   ]
  },
  {
   "cell_type": "code",
   "execution_count": null,
   "id": "b8f85049-3daa-40c5-a448-a52467b3bfc1",
   "metadata": {},
   "outputs": [],
   "source": [
    "2/7"
   ]
  },
  {
   "cell_type": "code",
   "execution_count": null,
   "id": "5dea1caa-b023-4599-a5b9-2021b62045fb",
   "metadata": {},
   "outputs": [],
   "source": []
  }
 ],
 "metadata": {
  "kernelspec": {
   "display_name": "energyville",
   "language": "python",
   "name": "energyville"
  },
  "language_info": {
   "codemirror_mode": {
    "name": "ipython",
    "version": 3
   },
   "file_extension": ".py",
   "mimetype": "text/x-python",
   "name": "python",
   "nbconvert_exporter": "python",
   "pygments_lexer": "ipython3",
   "version": "3.10.4"
  }
 },
 "nbformat": 4,
 "nbformat_minor": 5
}
