{
 "cells": [
  {
   "cell_type": "markdown",
   "id": "82042f18-1f39-40a1-9687-ef9e47b6b091",
   "metadata": {},
   "source": [
    "# Show the clustering results"
   ]
  },
  {
   "cell_type": "code",
   "execution_count": null,
   "id": "b00226bd-8ea1-4219-8258-eb9eb731bce9",
   "metadata": {},
   "outputs": [],
   "source": [
    "from pathlib import Path\n",
    "from energyclustering.webapp.resultparser import ResultParser, ResultComparison\n",
    "import pandas as pd\n",
    "import energyclustering.visualization.cluster_plotly_vis as vis\n",
    "import plotly.io as pio\n",
    "pio.renderers.default = \"png\""
   ]
  },
  {
   "cell_type": "code",
   "execution_count": null,
   "id": "50fac108-560c-4a76-b894-f106a5d936d3",
   "metadata": {},
   "outputs": [],
   "source": [
    "%load_ext autoreload\n",
    "%autoreload 2"
   ]
  },
  {
   "cell_type": "markdown",
   "id": "fad2ba7f-5a91-4771-aa43-6cb538abb508",
   "metadata": {},
   "source": [
    "## Util"
   ]
  },
  {
   "cell_type": "code",
   "execution_count": null,
   "id": "ff096bb4-4434-4e73-a9ba-c69c7ffb45a9",
   "metadata": {},
   "outputs": [],
   "source": [
    "koen_result = ResultParser('result_20210628_koen', 'random_profiles_v1')\n",
    "koen_result_no_data_issues = ResultParser('result_20210628_koen', 'random_profiles_no_data_issues_v1')"
   ]
  },
  {
   "cell_type": "code",
   "execution_count": null,
   "id": "cfdcee7c-3ec3-4b80-9c17-a92c811f892c",
   "metadata": {},
   "outputs": [],
   "source": [
    "labels, data_df = koen_result.get_clustering_df_of_representatives()"
   ]
  },
  {
   "cell_type": "markdown",
   "id": "1191f113-310d-4c4b-bdec-69e2cdb20994",
   "metadata": {},
   "source": [
    "# Representatives per cluster"
   ]
  },
  {
   "cell_type": "code",
   "execution_count": null,
   "id": "67af3d15-b691-4920-af79-2ac04950bcc3",
   "metadata": {},
   "outputs": [],
   "source": [
    "vis.plot_clustering(labels, data_df, type = 'daily').update_layout(height = 1080 , width = 1920)"
   ]
  },
  {
   "cell_type": "markdown",
   "id": "5659a3fd-c413-4d31-b8bb-b3bf0acde726",
   "metadata": {},
   "source": [
    "# More detailed instances per cluster"
   ]
  },
  {
   "cell_type": "code",
   "execution_count": null,
   "id": "f464f78c-43ae-416c-86bb-72e0c72ac520",
   "metadata": {},
   "outputs": [],
   "source": [
    "labels, data_df = koen_result_no_data_issues.get_clustering_df()"
   ]
  },
  {
   "cell_type": "code",
   "execution_count": null,
   "id": "c3a35c50-a2b2-4fc0-9bbc-79c9d3994553",
   "metadata": {},
   "outputs": [],
   "source": [
    "labels.groupby('label').size()"
   ]
  },
  {
   "cell_type": "markdown",
   "id": "d262aad6-b1c5-4072-9bba-e8e13d9422c8",
   "metadata": {},
   "source": [
    "## Cluster 0"
   ]
  },
  {
   "cell_type": "code",
   "execution_count": null,
   "id": "8a198578-d552-4824-bbae-bfd449242f8d",
   "metadata": {},
   "outputs": [],
   "source": [
    "cluster_instances = labels[labels.label == 0].sample(15, random_state =11345)\n",
    "data_cluster = data_df.loc[cluster_instances.index]"
   ]
  },
  {
   "cell_type": "code",
   "execution_count": null,
   "id": "05e5b714-52f8-4306-915a-6976f2b32e6c",
   "metadata": {},
   "outputs": [],
   "source": [
    "vis.plot_profiles(data_cluster, columns = 5, type = 'daily').update_layout(height = 1080 , width = 1920)"
   ]
  },
  {
   "cell_type": "code",
   "execution_count": null,
   "id": "88beb0d2-3146-4136-a4e3-5f705641107c",
   "metadata": {},
   "outputs": [],
   "source": [
    "# vis.plot_profiles(data_cluster, columns = 5, type = 'heatmap').update_layout(height = 1080 , width = 1920)"
   ]
  },
  {
   "cell_type": "markdown",
   "id": "3c006c3d-baf2-4778-8223-816b249de79a",
   "metadata": {},
   "source": [
    "## Cluster 1"
   ]
  },
  {
   "cell_type": "code",
   "execution_count": null,
   "id": "34c93bfb-e030-4ade-88a1-1b196a804c11",
   "metadata": {},
   "outputs": [],
   "source": [
    "cluster_instances = labels[labels.label == 1].sample(15, random_state = 1234)\n",
    "data_cluster = data_df.loc[cluster_instances.index]"
   ]
  },
  {
   "cell_type": "code",
   "execution_count": null,
   "id": "12028a03-7f9f-4566-9a86-c2e8601c68fe",
   "metadata": {},
   "outputs": [],
   "source": [
    "vis.plot_profiles(data_cluster, columns = 5, type = 'daily', sharey = True).update_layout(height = 1050 , width = 1920)"
   ]
  },
  {
   "cell_type": "code",
   "execution_count": null,
   "id": "693f2ece-2c7f-4d94-9e27-733050636c70",
   "metadata": {},
   "outputs": [],
   "source": [
    "vis.plot_profiles(data_cluster, columns = 5, type = 'heatmap').update_layout(height = 1050 , width = 1920)"
   ]
  },
  {
   "cell_type": "markdown",
   "id": "7874b6c1-065c-400d-ab65-d8eb45485366",
   "metadata": {},
   "source": [
    "## Cluster 3"
   ]
  },
  {
   "cell_type": "code",
   "execution_count": null,
   "id": "7aaa7949-0447-4e38-a9a1-e4762f6f03e5",
   "metadata": {},
   "outputs": [],
   "source": [
    "cluster_instances = labels[labels.label == 3]\n",
    "data_cluster = data_df.loc[cluster_instances.index]"
   ]
  },
  {
   "cell_type": "code",
   "execution_count": null,
   "id": "2ee15eb2-b8d8-44d0-a2f2-780aea7874e0",
   "metadata": {},
   "outputs": [],
   "source": [
    "f\"There are {len(cluster_instances)} instances in this cluster\""
   ]
  },
  {
   "cell_type": "code",
   "execution_count": null,
   "id": "d6fbae5e-8145-41f5-830d-92fd10394668",
   "metadata": {},
   "outputs": [],
   "source": [
    "vis.plot_profiles(data_cluster, columns = 4, type = 'daily', sharey = True).update_layout(height = 1080 , width = 1920)"
   ]
  },
  {
   "cell_type": "code",
   "execution_count": null,
   "id": "8074fb50-5b34-4a2f-be8e-c353af0696ec",
   "metadata": {},
   "outputs": [],
   "source": [
    "vis.plot_profiles(data_cluster, columns = 6, type = 'heatmap').update_layout(height = 500 , width = 1920)"
   ]
  }
 ],
 "metadata": {
  "kernelspec": {
   "display_name": "Python 3 (ipykernel)",
   "language": "python",
   "name": "python3"
  },
  "language_info": {
   "codemirror_mode": {
    "name": "ipython",
    "version": 3
   },
   "file_extension": ".py",
   "mimetype": "text/x-python",
   "name": "python",
   "nbconvert_exporter": "python",
   "pygments_lexer": "ipython3",
   "version": "3.9.1"
  }
 },
 "nbformat": 4,
 "nbformat_minor": 5
}
