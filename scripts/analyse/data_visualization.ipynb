{
 "cells": [
  {
   "cell_type": "code",
   "execution_count": 1,
   "metadata": {},
   "outputs": [],
   "source": [
    "import os\n",
    "import numpy as np\n",
    "import pandas as pd\n",
    "import altair as alt\n",
    "alt.data_transformers.disable_max_rows()\n",
    "\n",
    "consumption_dir = r'C:\\Thesis\\data\\data_full\\per_day\\data_Consumption_per_day.pkl'\n",
    "injection_dir = r'C:\\Thesis\\data\\data_full\\per_day\\data_Injection_per_day.pkl'\n",
    "offtake_dir = r'C:\\Thesis\\data\\data_full\\per_day\\data_Offtake_per_day.pkl'\n",
    "weather_dir =  r'C:\\Thesis\\data\\data_full\\weather_data2016-2021.pkl'\n",
    "master_dir =  r'C:\\Thesis\\data\\data_full\\master_full_preprocessed.pkl'\n",
    "\n",
    "consumption = pd.read_pickle(consumption_dir)\n",
    "injection = pd.read_pickle(injection_dir)\n",
    "offtake = pd.read_pickle(offtake_dir)\n",
    "weather = pd.read_pickle(weather_dir)\n",
    "master = pd.read_pickle(master_dir)"
   ]
  },
  {
   "cell_type": "markdown",
   "metadata": {},
   "source": []
  },
  {
   "cell_type": "code",
   "execution_count": 5,
   "metadata": {},
   "outputs": [],
   "source": [
    "def data_df_to_quantiles(data_df): \n",
    "    # q = np.concatenate([np.arange(0, 0.05, 0.01), np.arange(0.05, 0.96, 0.05), np.arange(0.95, 1.005, 0.01)])\n",
    "    q = np.arange(0, 1.01, 0.05)\n",
    "    quantiles = (\n",
    "        data_df.quantile(q, interpolation = 'nearest')\n",
    "        .set_axis((q*100).astype('int'), axis = 0)\n",
    "    )\n",
    "    lower_quantiles = quantiles.loc[:49, :].stack().to_frame('min').rename_axis(index = ['lower_quantile', 'timestamp'])\n",
    "    upper_quantiles = quantiles.loc[51:, :].stack().to_frame('max').reset_index(level = 0).rename(columns = {'level_0':'upper_quantile'}).assign(lower_quantile = lambda x: 100-x.upper_quantile).set_index('lower_quantile', append = True).swaplevel(0,1).sort_index().rename_axis(index = ['lower_quantile', 'timestamp'])\n",
    "    return lower_quantiles.join(upper_quantiles).reset_index().assign(quantiles = lambda x: x.lower_quantile.astype('str').str.zfill(2)+'-'+x.upper_quantile.astype('str').str.zfill(2)).drop(columns = ['lower_quantile', 'upper_quantile'])"
   ]
  },
  {
   "cell_type": "code",
   "execution_count": 20,
   "metadata": {},
   "outputs": [
    {
     "data": {
      "application/vnd.vegalite.v4+json": {
       "$schema": "https://vega.github.io/schema/vega-lite/v4.17.0.json",
       "config": {
        "legend": {
         "labelLimit": 0
        },
        "view": {
         "continuousHeight": 300,
         "continuousWidth": 400
        }
       },
       "data": {
        "name": "data-6036fb7dbf6a6a45dd9f17ab44be9af7"
       },
       "datasets": {
        "data-6036fb7dbf6a6a45dd9f17ab44be9af7": [
         {
          "ID": 1,
          "max": 0.004,
          "min": 0,
          "quantiles": "00-100",
          "timestamp": "00:00:00"
         },
         {
          "ID": 1,
          "max": 0.004,
          "min": 0,
          "quantiles": "00-100",
          "timestamp": "00:15:00"
         },
         {
          "ID": 1,
          "max": 0.004,
          "min": 0,
          "quantiles": "00-100",
          "timestamp": "00:30:00"
         },
         {
          "ID": 1,
          "max": 0.004,
          "min": 0,
          "quantiles": "00-100",
          "timestamp": "00:45:00"
         },
         {
          "ID": 1,
          "max": 0.004,
          "min": 0,
          "quantiles": "00-100",
          "timestamp": "01:00:00"
         },
         {
          "ID": 1,
          "max": 0.004,
          "min": 0,
          "quantiles": "00-100",
          "timestamp": "01:15:00"
         },
         {
          "ID": 1,
          "max": 0.005,
          "min": 0,
          "quantiles": "00-100",
          "timestamp": "01:30:00"
         },
         {
          "ID": 1,
          "max": 0.004,
          "min": 0,
          "quantiles": "00-100",
          "timestamp": "01:45:00"
         },
         {
          "ID": 1,
          "max": 0.004,
          "min": 0,
          "quantiles": "00-100",
          "timestamp": "02:00:00"
         },
         {
          "ID": 1,
          "max": 0.004,
          "min": 0,
          "quantiles": "00-100",
          "timestamp": "02:15:00"
         },
         {
          "ID": 1,
          "max": 0.004,
          "min": 0,
          "quantiles": "00-100",
          "timestamp": "02:30:00"
         },
         {
          "ID": 1,
          "max": 0.004,
          "min": 0,
          "quantiles": "00-100",
          "timestamp": "02:45:00"
         },
         {
          "ID": 1,
          "max": 0.005,
          "min": 0,
          "quantiles": "00-100",
          "timestamp": "03:00:00"
         },
         {
          "ID": 1,
          "max": 0.011,
          "min": 0,
          "quantiles": "00-100",
          "timestamp": "03:15:00"
         },
         {
          "ID": 1,
          "max": 0.028,
          "min": 0,
          "quantiles": "00-100",
          "timestamp": "03:30:00"
         },
         {
          "ID": 1,
          "max": 0.038,
          "min": 0,
          "quantiles": "00-100",
          "timestamp": "03:45:00"
         },
         {
          "ID": 1,
          "max": 0.154,
          "min": 0,
          "quantiles": "00-100",
          "timestamp": "04:00:00"
         },
         {
          "ID": 1,
          "max": 0.239,
          "min": 0,
          "quantiles": "00-100",
          "timestamp": "04:15:00"
         },
         {
          "ID": 1,
          "max": 0.346,
          "min": 0,
          "quantiles": "00-100",
          "timestamp": "04:30:00"
         },
         {
          "ID": 1,
          "max": 0.373,
          "min": 0,
          "quantiles": "00-100",
          "timestamp": "04:45:00"
         },
         {
          "ID": 1,
          "max": 0.47,
          "min": 0,
          "quantiles": "00-100",
          "timestamp": "05:00:00"
         },
         {
          "ID": 1,
          "max": 0.542,
          "min": 0,
          "quantiles": "00-100",
          "timestamp": "05:15:00"
         },
         {
          "ID": 1,
          "max": 0.656,
          "min": 0,
          "quantiles": "00-100",
          "timestamp": "05:30:00"
         },
         {
          "ID": 1,
          "max": 0.772,
          "min": 0,
          "quantiles": "00-100",
          "timestamp": "05:45:00"
         },
         {
          "ID": 1,
          "max": 1.51335,
          "min": 0,
          "quantiles": "00-100",
          "timestamp": "06:00:00"
         },
         {
          "ID": 1,
          "max": 1.84965,
          "min": 0,
          "quantiles": "00-100",
          "timestamp": "06:15:00"
         },
         {
          "ID": 1,
          "max": 0.986,
          "min": 0,
          "quantiles": "00-100",
          "timestamp": "06:30:00"
         },
         {
          "ID": 1,
          "max": 1.069,
          "min": -0.005013,
          "quantiles": "00-100",
          "timestamp": "06:45:00"
         },
         {
          "ID": 1,
          "max": 1.147,
          "min": -0.005716,
          "quantiles": "00-100",
          "timestamp": "07:00:00"
         },
         {
          "ID": 1,
          "max": 1.181,
          "min": -0.006274,
          "quantiles": "00-100",
          "timestamp": "07:15:00"
         },
         {
          "ID": 1,
          "max": 1.202,
          "min": 0,
          "quantiles": "00-100",
          "timestamp": "07:30:00"
         },
         {
          "ID": 1,
          "max": 1.232,
          "min": -0.005647,
          "quantiles": "00-100",
          "timestamp": "07:45:00"
         },
         {
          "ID": 1,
          "max": 1.25,
          "min": -0.005349,
          "quantiles": "00-100",
          "timestamp": "08:00:00"
         },
         {
          "ID": 1,
          "max": 1.241,
          "min": 0,
          "quantiles": "00-100",
          "timestamp": "08:15:00"
         },
         {
          "ID": 1,
          "max": 1.257,
          "min": 0,
          "quantiles": "00-100",
          "timestamp": "08:30:00"
         },
         {
          "ID": 1,
          "max": 1.271,
          "min": 0,
          "quantiles": "00-100",
          "timestamp": "08:45:00"
         },
         {
          "ID": 1,
          "max": 1.278,
          "min": 0,
          "quantiles": "00-100",
          "timestamp": "09:00:00"
         },
         {
          "ID": 1,
          "max": 1.294,
          "min": 0,
          "quantiles": "00-100",
          "timestamp": "09:15:00"
         },
         {
          "ID": 1,
          "max": 1.322,
          "min": 0,
          "quantiles": "00-100",
          "timestamp": "09:30:00"
         },
         {
          "ID": 1,
          "max": 1.322,
          "min": 0,
          "quantiles": "00-100",
          "timestamp": "09:45:00"
         },
         {
          "ID": 1,
          "max": 1.4,
          "min": 0,
          "quantiles": "00-100",
          "timestamp": "10:00:00"
         },
         {
          "ID": 1,
          "max": 1.388,
          "min": 0,
          "quantiles": "00-100",
          "timestamp": "10:15:00"
         },
         {
          "ID": 1,
          "max": 1.407,
          "min": 0,
          "quantiles": "00-100",
          "timestamp": "10:30:00"
         },
         {
          "ID": 1,
          "max": 1.342,
          "min": 0,
          "quantiles": "00-100",
          "timestamp": "10:45:00"
         },
         {
          "ID": 1,
          "max": 1.392962,
          "min": 0,
          "quantiles": "00-100",
          "timestamp": "11:00:00"
         },
         {
          "ID": 1,
          "max": 1.364,
          "min": 0,
          "quantiles": "00-100",
          "timestamp": "11:15:00"
         },
         {
          "ID": 1,
          "max": 1.365,
          "min": 0,
          "quantiles": "00-100",
          "timestamp": "11:30:00"
         },
         {
          "ID": 1,
          "max": 1.461917,
          "min": 0,
          "quantiles": "00-100",
          "timestamp": "11:45:00"
         },
         {
          "ID": 1,
          "max": 1.293,
          "min": 0,
          "quantiles": "00-100",
          "timestamp": "12:00:00"
         },
         {
          "ID": 1,
          "max": 1.28,
          "min": 0,
          "quantiles": "00-100",
          "timestamp": "12:15:00"
         },
         {
          "ID": 1,
          "max": 1.263,
          "min": 0,
          "quantiles": "00-100",
          "timestamp": "12:30:00"
         },
         {
          "ID": 1,
          "max": 1.219,
          "min": 0,
          "quantiles": "00-100",
          "timestamp": "12:45:00"
         },
         {
          "ID": 1,
          "max": 1.202,
          "min": 0,
          "quantiles": "00-100",
          "timestamp": "13:00:00"
         },
         {
          "ID": 1,
          "max": 1.153,
          "min": 0,
          "quantiles": "00-100",
          "timestamp": "13:15:00"
         },
         {
          "ID": 1,
          "max": 1.144,
          "min": 0,
          "quantiles": "00-100",
          "timestamp": "13:30:00"
         },
         {
          "ID": 1,
          "max": 1.159,
          "min": 0,
          "quantiles": "00-100",
          "timestamp": "13:45:00"
         },
         {
          "ID": 1,
          "max": 1.173,
          "min": 0,
          "quantiles": "00-100",
          "timestamp": "14:00:00"
         },
         {
          "ID": 1,
          "max": 1.155,
          "min": 0,
          "quantiles": "00-100",
          "timestamp": "14:15:00"
         },
         {
          "ID": 1,
          "max": 1.148,
          "min": 0,
          "quantiles": "00-100",
          "timestamp": "14:30:00"
         },
         {
          "ID": 1,
          "max": 1.153,
          "min": 0,
          "quantiles": "00-100",
          "timestamp": "14:45:00"
         },
         {
          "ID": 1,
          "max": 1.131,
          "min": 0,
          "quantiles": "00-100",
          "timestamp": "15:00:00"
         },
         {
          "ID": 1,
          "max": 1.132,
          "min": 0,
          "quantiles": "00-100",
          "timestamp": "15:15:00"
         },
         {
          "ID": 1,
          "max": 1.045,
          "min": 0,
          "quantiles": "00-100",
          "timestamp": "15:30:00"
         },
         {
          "ID": 1,
          "max": 1.089,
          "min": 0,
          "quantiles": "00-100",
          "timestamp": "15:45:00"
         },
         {
          "ID": 1,
          "max": 1.03,
          "min": 0,
          "quantiles": "00-100",
          "timestamp": "16:00:00"
         },
         {
          "ID": 1,
          "max": 1.031179,
          "min": 0,
          "quantiles": "00-100",
          "timestamp": "16:15:00"
         },
         {
          "ID": 1,
          "max": 1.02,
          "min": 0,
          "quantiles": "00-100",
          "timestamp": "16:30:00"
         },
         {
          "ID": 1,
          "max": 1.1,
          "min": 0,
          "quantiles": "00-100",
          "timestamp": "16:45:00"
         },
         {
          "ID": 1,
          "max": 1,
          "min": 0,
          "quantiles": "00-100",
          "timestamp": "17:00:00"
         },
         {
          "ID": 1,
          "max": 1.02,
          "min": 0,
          "quantiles": "00-100",
          "timestamp": "17:15:00"
         },
         {
          "ID": 1,
          "max": 1.05,
          "min": 0,
          "quantiles": "00-100",
          "timestamp": "17:30:00"
         },
         {
          "ID": 1,
          "max": 0.96,
          "min": 0,
          "quantiles": "00-100",
          "timestamp": "17:45:00"
         },
         {
          "ID": 1,
          "max": 0.97,
          "min": 0,
          "quantiles": "00-100",
          "timestamp": "18:00:00"
         },
         {
          "ID": 1,
          "max": 0.91,
          "min": 0,
          "quantiles": "00-100",
          "timestamp": "18:15:00"
         },
         {
          "ID": 1,
          "max": 0.85,
          "min": 0,
          "quantiles": "00-100",
          "timestamp": "18:30:00"
         },
         {
          "ID": 1,
          "max": 0.85,
          "min": 0,
          "quantiles": "00-100",
          "timestamp": "18:45:00"
         },
         {
          "ID": 1,
          "max": 0.77,
          "min": 0,
          "quantiles": "00-100",
          "timestamp": "19:00:00"
         },
         {
          "ID": 1,
          "max": 0.76,
          "min": 0,
          "quantiles": "00-100",
          "timestamp": "19:15:00"
         },
         {
          "ID": 1,
          "max": 0.72,
          "min": 0,
          "quantiles": "00-100",
          "timestamp": "19:30:00"
         },
         {
          "ID": 1,
          "max": 0.65,
          "min": 0,
          "quantiles": "00-100",
          "timestamp": "19:45:00"
         },
         {
          "ID": 1,
          "max": 0.58,
          "min": 0,
          "quantiles": "00-100",
          "timestamp": "20:00:00"
         },
         {
          "ID": 1,
          "max": 0.54,
          "min": 0,
          "quantiles": "00-100",
          "timestamp": "20:15:00"
         },
         {
          "ID": 1,
          "max": 0.49,
          "min": 0,
          "quantiles": "00-100",
          "timestamp": "20:30:00"
         },
         {
          "ID": 1,
          "max": 0.37,
          "min": 0,
          "quantiles": "00-100",
          "timestamp": "20:45:00"
         },
         {
          "ID": 1,
          "max": 0.24,
          "min": 0,
          "quantiles": "00-100",
          "timestamp": "21:00:00"
         },
         {
          "ID": 1,
          "max": 0.18,
          "min": 0,
          "quantiles": "00-100",
          "timestamp": "21:15:00"
         },
         {
          "ID": 1,
          "max": 0.09,
          "min": 0,
          "quantiles": "00-100",
          "timestamp": "21:30:00"
         },
         {
          "ID": 1,
          "max": 0.004,
          "min": 0,
          "quantiles": "00-100",
          "timestamp": "21:45:00"
         },
         {
          "ID": 1,
          "max": 0.004,
          "min": 0,
          "quantiles": "00-100",
          "timestamp": "22:00:00"
         },
         {
          "ID": 1,
          "max": 0.004,
          "min": 0,
          "quantiles": "00-100",
          "timestamp": "22:15:00"
         },
         {
          "ID": 1,
          "max": 0.004,
          "min": 0,
          "quantiles": "00-100",
          "timestamp": "22:30:00"
         },
         {
          "ID": 1,
          "max": 0.004,
          "min": 0,
          "quantiles": "00-100",
          "timestamp": "22:45:00"
         },
         {
          "ID": 1,
          "max": 0.004,
          "min": 0,
          "quantiles": "00-100",
          "timestamp": "23:00:00"
         },
         {
          "ID": 1,
          "max": 0.004,
          "min": 0,
          "quantiles": "00-100",
          "timestamp": "23:15:00"
         },
         {
          "ID": 1,
          "max": 0.005,
          "min": 0,
          "quantiles": "00-100",
          "timestamp": "23:30:00"
         },
         {
          "ID": 1,
          "max": 0.004,
          "min": 0,
          "quantiles": "00-100",
          "timestamp": "23:45:00"
         },
         {
          "ID": 1,
          "max": 1,
          "min": 1,
          "quantiles": "20-80",
          "timestamp": "ID"
         },
         {
          "ID": 1,
          "max": 0,
          "min": 0,
          "quantiles": "20-80",
          "timestamp": "00:00:00"
         },
         {
          "ID": 1,
          "max": 0,
          "min": 0,
          "quantiles": "20-80",
          "timestamp": "00:15:00"
         },
         {
          "ID": 1,
          "max": 0,
          "min": 0,
          "quantiles": "20-80",
          "timestamp": "00:30:00"
         },
         {
          "ID": 1,
          "max": 0,
          "min": 0,
          "quantiles": "20-80",
          "timestamp": "00:45:00"
         },
         {
          "ID": 1,
          "max": 0,
          "min": 0,
          "quantiles": "20-80",
          "timestamp": "01:00:00"
         },
         {
          "ID": 1,
          "max": 0,
          "min": 0,
          "quantiles": "20-80",
          "timestamp": "01:15:00"
         },
         {
          "ID": 1,
          "max": 0,
          "min": 0,
          "quantiles": "20-80",
          "timestamp": "01:30:00"
         },
         {
          "ID": 1,
          "max": 0,
          "min": 0,
          "quantiles": "20-80",
          "timestamp": "01:45:00"
         },
         {
          "ID": 1,
          "max": 0,
          "min": 0,
          "quantiles": "20-80",
          "timestamp": "02:00:00"
         },
         {
          "ID": 1,
          "max": 0,
          "min": 0,
          "quantiles": "20-80",
          "timestamp": "02:15:00"
         },
         {
          "ID": 1,
          "max": 0,
          "min": 0,
          "quantiles": "20-80",
          "timestamp": "02:30:00"
         },
         {
          "ID": 1,
          "max": 0,
          "min": 0,
          "quantiles": "20-80",
          "timestamp": "02:45:00"
         },
         {
          "ID": 1,
          "max": 0,
          "min": 0,
          "quantiles": "20-80",
          "timestamp": "03:00:00"
         },
         {
          "ID": 1,
          "max": 0,
          "min": 0,
          "quantiles": "20-80",
          "timestamp": "03:15:00"
         },
         {
          "ID": 1,
          "max": 0,
          "min": 0,
          "quantiles": "20-80",
          "timestamp": "03:30:00"
         },
         {
          "ID": 1,
          "max": 0,
          "min": 0,
          "quantiles": "20-80",
          "timestamp": "03:45:00"
         },
         {
          "ID": 1,
          "max": 0,
          "min": 0,
          "quantiles": "20-80",
          "timestamp": "04:00:00"
         },
         {
          "ID": 1,
          "max": 0,
          "min": 0,
          "quantiles": "20-80",
          "timestamp": "04:15:00"
         },
         {
          "ID": 1,
          "max": 0,
          "min": 0,
          "quantiles": "20-80",
          "timestamp": "04:30:00"
         },
         {
          "ID": 1,
          "max": 0,
          "min": 0,
          "quantiles": "20-80",
          "timestamp": "04:45:00"
         },
         {
          "ID": 1,
          "max": 0,
          "min": 0,
          "quantiles": "20-80",
          "timestamp": "05:00:00"
         },
         {
          "ID": 1,
          "max": 0,
          "min": 0,
          "quantiles": "20-80",
          "timestamp": "05:15:00"
         },
         {
          "ID": 1,
          "max": 0.003,
          "min": 0,
          "quantiles": "20-80",
          "timestamp": "05:30:00"
         },
         {
          "ID": 1,
          "max": 0.011,
          "min": 0,
          "quantiles": "20-80",
          "timestamp": "05:45:00"
         },
         {
          "ID": 1,
          "max": 0.024,
          "min": 0,
          "quantiles": "20-80",
          "timestamp": "06:00:00"
         },
         {
          "ID": 1,
          "max": 0.042,
          "min": 0,
          "quantiles": "20-80",
          "timestamp": "06:15:00"
         },
         {
          "ID": 1,
          "max": 0.058,
          "min": 0,
          "quantiles": "20-80",
          "timestamp": "06:30:00"
         },
         {
          "ID": 1,
          "max": 0.082,
          "min": 0,
          "quantiles": "20-80",
          "timestamp": "06:45:00"
         },
         {
          "ID": 1,
          "max": 0.106,
          "min": 0,
          "quantiles": "20-80",
          "timestamp": "07:00:00"
         },
         {
          "ID": 1,
          "max": 0.138,
          "min": 0,
          "quantiles": "20-80",
          "timestamp": "07:15:00"
         },
         {
          "ID": 1,
          "max": 0.169,
          "min": 0,
          "quantiles": "20-80",
          "timestamp": "07:30:00"
         },
         {
          "ID": 1,
          "max": 0.201,
          "min": 0,
          "quantiles": "20-80",
          "timestamp": "07:45:00"
         },
         {
          "ID": 1,
          "max": 0.227,
          "min": 0,
          "quantiles": "20-80",
          "timestamp": "08:00:00"
         },
         {
          "ID": 1,
          "max": 0.253,
          "min": 0,
          "quantiles": "20-80",
          "timestamp": "08:15:00"
         },
         {
          "ID": 1,
          "max": 0.29,
          "min": 0,
          "quantiles": "20-80",
          "timestamp": "08:30:00"
         },
         {
          "ID": 1,
          "max": 0.322,
          "min": 0,
          "quantiles": "20-80",
          "timestamp": "08:45:00"
         },
         {
          "ID": 1,
          "max": 0.353,
          "min": 0,
          "quantiles": "20-80",
          "timestamp": "09:00:00"
         },
         {
          "ID": 1,
          "max": 0.379,
          "min": 0,
          "quantiles": "20-80",
          "timestamp": "09:15:00"
         },
         {
          "ID": 1,
          "max": 0.4,
          "min": 0.002,
          "quantiles": "20-80",
          "timestamp": "09:30:00"
         },
         {
          "ID": 1,
          "max": 0.421,
          "min": 0.007,
          "quantiles": "20-80",
          "timestamp": "09:45:00"
         },
         {
          "ID": 1,
          "max": 0.449,
          "min": 0.011,
          "quantiles": "20-80",
          "timestamp": "10:00:00"
         },
         {
          "ID": 1,
          "max": 0.464,
          "min": 0.015,
          "quantiles": "20-80",
          "timestamp": "10:15:00"
         },
         {
          "ID": 1,
          "max": 0.473,
          "min": 0.02,
          "quantiles": "20-80",
          "timestamp": "10:30:00"
         },
         {
          "ID": 1,
          "max": 0.481,
          "min": 0.024,
          "quantiles": "20-80",
          "timestamp": "10:45:00"
         },
         {
          "ID": 1,
          "max": 0.483,
          "min": 0.027,
          "quantiles": "20-80",
          "timestamp": "11:00:00"
         },
         {
          "ID": 1,
          "max": 0.491,
          "min": 0.033,
          "quantiles": "20-80",
          "timestamp": "11:15:00"
         },
         {
          "ID": 1,
          "max": 0.5,
          "min": 0.035,
          "quantiles": "20-80",
          "timestamp": "11:30:00"
         },
         {
          "ID": 1,
          "max": 0.499,
          "min": 0.034,
          "quantiles": "20-80",
          "timestamp": "11:45:00"
         },
         {
          "ID": 1,
          "max": 0.491,
          "min": 0.035,
          "quantiles": "20-80",
          "timestamp": "12:00:00"
         },
         {
          "ID": 1,
          "max": 0.488,
          "min": 0.03,
          "quantiles": "20-80",
          "timestamp": "12:15:00"
         },
         {
          "ID": 1,
          "max": 0.482,
          "min": 0.029,
          "quantiles": "20-80",
          "timestamp": "12:30:00"
         },
         {
          "ID": 1,
          "max": 0.472,
          "min": 0.025,
          "quantiles": "20-80",
          "timestamp": "12:45:00"
         },
         {
          "ID": 1,
          "max": 0.47,
          "min": 0.024,
          "quantiles": "20-80",
          "timestamp": "13:00:00"
         },
         {
          "ID": 1,
          "max": 0.466,
          "min": 0.02,
          "quantiles": "20-80",
          "timestamp": "13:15:00"
         },
         {
          "ID": 1,
          "max": 0.453,
          "min": 0.017,
          "quantiles": "20-80",
          "timestamp": "13:30:00"
         },
         {
          "ID": 1,
          "max": 0.44,
          "min": 0.012,
          "quantiles": "20-80",
          "timestamp": "13:45:00"
         },
         {
          "ID": 1,
          "max": 0.415,
          "min": 0.008,
          "quantiles": "20-80",
          "timestamp": "14:00:00"
         },
         {
          "ID": 1,
          "max": 0.399,
          "min": 0.002,
          "quantiles": "20-80",
          "timestamp": "14:15:00"
         },
         {
          "ID": 1,
          "max": 0.373,
          "min": 0,
          "quantiles": "20-80",
          "timestamp": "14:30:00"
         },
         {
          "ID": 1,
          "max": 0.348,
          "min": 0,
          "quantiles": "20-80",
          "timestamp": "14:45:00"
         },
         {
          "ID": 1,
          "max": 0.315,
          "min": 0,
          "quantiles": "20-80",
          "timestamp": "15:00:00"
         },
         {
          "ID": 1,
          "max": 0.275,
          "min": 0,
          "quantiles": "20-80",
          "timestamp": "15:15:00"
         },
         {
          "ID": 1,
          "max": 0.24,
          "min": 0,
          "quantiles": "20-80",
          "timestamp": "15:30:00"
         },
         {
          "ID": 1,
          "max": 0.209,
          "min": 0,
          "quantiles": "20-80",
          "timestamp": "15:45:00"
         },
         {
          "ID": 1,
          "max": 0.17,
          "min": 0,
          "quantiles": "20-80",
          "timestamp": "16:00:00"
         },
         {
          "ID": 1,
          "max": 0.14,
          "min": 0,
          "quantiles": "20-80",
          "timestamp": "16:15:00"
         },
         {
          "ID": 1,
          "max": 0.108,
          "min": 0,
          "quantiles": "20-80",
          "timestamp": "16:30:00"
         },
         {
          "ID": 1,
          "max": 0.08,
          "min": 0,
          "quantiles": "20-80",
          "timestamp": "16:45:00"
         },
         {
          "ID": 1,
          "max": 0.055,
          "min": 0,
          "quantiles": "20-80",
          "timestamp": "17:00:00"
         },
         {
          "ID": 1,
          "max": 0.03,
          "min": 0,
          "quantiles": "20-80",
          "timestamp": "17:15:00"
         },
         {
          "ID": 1,
          "max": 0.015,
          "min": 0,
          "quantiles": "20-80",
          "timestamp": "17:30:00"
         },
         {
          "ID": 1,
          "max": 0.004,
          "min": 0,
          "quantiles": "20-80",
          "timestamp": "17:45:00"
         },
         {
          "ID": 1,
          "max": 0,
          "min": 0,
          "quantiles": "20-80",
          "timestamp": "18:00:00"
         },
         {
          "ID": 1,
          "max": 0,
          "min": 0,
          "quantiles": "20-80",
          "timestamp": "18:15:00"
         },
         {
          "ID": 1,
          "max": 0,
          "min": 0,
          "quantiles": "20-80",
          "timestamp": "18:30:00"
         },
         {
          "ID": 1,
          "max": 0,
          "min": 0,
          "quantiles": "20-80",
          "timestamp": "18:45:00"
         },
         {
          "ID": 1,
          "max": 0,
          "min": 0,
          "quantiles": "20-80",
          "timestamp": "19:00:00"
         },
         {
          "ID": 1,
          "max": 0,
          "min": 0,
          "quantiles": "20-80",
          "timestamp": "19:15:00"
         },
         {
          "ID": 1,
          "max": 0,
          "min": 0,
          "quantiles": "20-80",
          "timestamp": "19:30:00"
         },
         {
          "ID": 1,
          "max": 0,
          "min": 0,
          "quantiles": "20-80",
          "timestamp": "19:45:00"
         },
         {
          "ID": 1,
          "max": 0,
          "min": 0,
          "quantiles": "20-80",
          "timestamp": "20:00:00"
         },
         {
          "ID": 1,
          "max": 0,
          "min": 0,
          "quantiles": "20-80",
          "timestamp": "20:15:00"
         },
         {
          "ID": 1,
          "max": 0,
          "min": 0,
          "quantiles": "20-80",
          "timestamp": "20:30:00"
         },
         {
          "ID": 1,
          "max": 0,
          "min": 0,
          "quantiles": "20-80",
          "timestamp": "20:45:00"
         },
         {
          "ID": 1,
          "max": 0,
          "min": 0,
          "quantiles": "20-80",
          "timestamp": "21:00:00"
         },
         {
          "ID": 1,
          "max": 0,
          "min": 0,
          "quantiles": "20-80",
          "timestamp": "21:15:00"
         },
         {
          "ID": 1,
          "max": 0,
          "min": 0,
          "quantiles": "20-80",
          "timestamp": "21:30:00"
         },
         {
          "ID": 1,
          "max": 0,
          "min": 0,
          "quantiles": "20-80",
          "timestamp": "21:45:00"
         },
         {
          "ID": 1,
          "max": 0,
          "min": 0,
          "quantiles": "20-80",
          "timestamp": "22:00:00"
         },
         {
          "ID": 1,
          "max": 0,
          "min": 0,
          "quantiles": "20-80",
          "timestamp": "22:15:00"
         },
         {
          "ID": 1,
          "max": 0,
          "min": 0,
          "quantiles": "20-80",
          "timestamp": "22:30:00"
         },
         {
          "ID": 1,
          "max": 0,
          "min": 0,
          "quantiles": "20-80",
          "timestamp": "22:45:00"
         },
         {
          "ID": 1,
          "max": 0,
          "min": 0,
          "quantiles": "20-80",
          "timestamp": "23:00:00"
         },
         {
          "ID": 1,
          "max": 0,
          "min": 0,
          "quantiles": "20-80",
          "timestamp": "23:15:00"
         },
         {
          "ID": 1,
          "max": 0,
          "min": 0,
          "quantiles": "20-80",
          "timestamp": "23:30:00"
         },
         {
          "ID": 1,
          "max": 0,
          "min": 0,
          "quantiles": "20-80",
          "timestamp": "23:45:00"
         },
         {
          "ID": 1,
          "max": 1,
          "min": 1,
          "quantiles": "40-60",
          "timestamp": "ID"
         },
         {
          "ID": 1,
          "max": 0,
          "min": 0,
          "quantiles": "40-60",
          "timestamp": "00:00:00"
         },
         {
          "ID": 1,
          "max": 0,
          "min": 0,
          "quantiles": "40-60",
          "timestamp": "00:15:00"
         },
         {
          "ID": 1,
          "max": 0,
          "min": 0,
          "quantiles": "40-60",
          "timestamp": "00:30:00"
         },
         {
          "ID": 1,
          "max": 0,
          "min": 0,
          "quantiles": "40-60",
          "timestamp": "00:45:00"
         },
         {
          "ID": 1,
          "max": 0,
          "min": 0,
          "quantiles": "40-60",
          "timestamp": "01:00:00"
         },
         {
          "ID": 1,
          "max": 0,
          "min": 0,
          "quantiles": "40-60",
          "timestamp": "01:15:00"
         },
         {
          "ID": 1,
          "max": 0,
          "min": 0,
          "quantiles": "40-60",
          "timestamp": "01:30:00"
         },
         {
          "ID": 1,
          "max": 0,
          "min": 0,
          "quantiles": "40-60",
          "timestamp": "01:45:00"
         },
         {
          "ID": 1,
          "max": 0,
          "min": 0,
          "quantiles": "40-60",
          "timestamp": "02:00:00"
         },
         {
          "ID": 1,
          "max": 0,
          "min": 0,
          "quantiles": "40-60",
          "timestamp": "02:15:00"
         },
         {
          "ID": 1,
          "max": 0,
          "min": 0,
          "quantiles": "40-60",
          "timestamp": "02:30:00"
         },
         {
          "ID": 1,
          "max": 0,
          "min": 0,
          "quantiles": "40-60",
          "timestamp": "02:45:00"
         },
         {
          "ID": 1,
          "max": 0,
          "min": 0,
          "quantiles": "40-60",
          "timestamp": "03:00:00"
         },
         {
          "ID": 1,
          "max": 0,
          "min": 0,
          "quantiles": "40-60",
          "timestamp": "03:15:00"
         },
         {
          "ID": 1,
          "max": 0,
          "min": 0,
          "quantiles": "40-60",
          "timestamp": "03:30:00"
         },
         {
          "ID": 1,
          "max": 0,
          "min": 0,
          "quantiles": "40-60",
          "timestamp": "03:45:00"
         },
         {
          "ID": 1,
          "max": 0,
          "min": 0,
          "quantiles": "40-60",
          "timestamp": "04:00:00"
         },
         {
          "ID": 1,
          "max": 0,
          "min": 0,
          "quantiles": "40-60",
          "timestamp": "04:15:00"
         },
         {
          "ID": 1,
          "max": 0,
          "min": 0,
          "quantiles": "40-60",
          "timestamp": "04:30:00"
         },
         {
          "ID": 1,
          "max": 0,
          "min": 0,
          "quantiles": "40-60",
          "timestamp": "04:45:00"
         },
         {
          "ID": 1,
          "max": 0,
          "min": 0,
          "quantiles": "40-60",
          "timestamp": "05:00:00"
         },
         {
          "ID": 1,
          "max": 0,
          "min": 0,
          "quantiles": "40-60",
          "timestamp": "05:15:00"
         },
         {
          "ID": 1,
          "max": 0,
          "min": 0,
          "quantiles": "40-60",
          "timestamp": "05:30:00"
         },
         {
          "ID": 1,
          "max": 0,
          "min": 0,
          "quantiles": "40-60",
          "timestamp": "05:45:00"
         },
         {
          "ID": 1,
          "max": 0,
          "min": 0,
          "quantiles": "40-60",
          "timestamp": "06:00:00"
         },
         {
          "ID": 1,
          "max": 0,
          "min": 0,
          "quantiles": "40-60",
          "timestamp": "06:15:00"
         },
         {
          "ID": 1,
          "max": 0,
          "min": 0,
          "quantiles": "40-60",
          "timestamp": "06:30:00"
         },
         {
          "ID": 1,
          "max": 0.004,
          "min": 0,
          "quantiles": "40-60",
          "timestamp": "06:45:00"
         },
         {
          "ID": 1,
          "max": 0.012,
          "min": 0,
          "quantiles": "40-60",
          "timestamp": "07:00:00"
         },
         {
          "ID": 1,
          "max": 0.025,
          "min": 0,
          "quantiles": "40-60",
          "timestamp": "07:15:00"
         },
         {
          "ID": 1,
          "max": 0.042,
          "min": 0,
          "quantiles": "40-60",
          "timestamp": "07:30:00"
         },
         {
          "ID": 1,
          "max": 0.06,
          "min": 0.001,
          "quantiles": "40-60",
          "timestamp": "07:45:00"
         },
         {
          "ID": 1,
          "max": 0.074383,
          "min": 0.004,
          "quantiles": "40-60",
          "timestamp": "08:00:00"
         },
         {
          "ID": 1,
          "max": 0.095,
          "min": 0.01,
          "quantiles": "40-60",
          "timestamp": "08:15:00"
         },
         {
          "ID": 1,
          "max": 0.115,
          "min": 0.021,
          "quantiles": "40-60",
          "timestamp": "08:30:00"
         },
         {
          "ID": 1,
          "max": 0.136,
          "min": 0.033,
          "quantiles": "40-60",
          "timestamp": "08:45:00"
         },
         {
          "ID": 1,
          "max": 0.16,
          "min": 0.048,
          "quantiles": "40-60",
          "timestamp": "09:00:00"
         },
         {
          "ID": 1,
          "max": 0.18,
          "min": 0.06,
          "quantiles": "40-60",
          "timestamp": "09:15:00"
         },
         {
          "ID": 1,
          "max": 0.199,
          "min": 0.073,
          "quantiles": "40-60",
          "timestamp": "09:30:00"
         },
         {
          "ID": 1,
          "max": 0.219,
          "min": 0.084,
          "quantiles": "40-60",
          "timestamp": "09:45:00"
         },
         {
          "ID": 1,
          "max": 0.238,
          "min": 0.094,
          "quantiles": "40-60",
          "timestamp": "10:00:00"
         },
         {
          "ID": 1,
          "max": 0.251,
          "min": 0.106,
          "quantiles": "40-60",
          "timestamp": "10:15:00"
         },
         {
          "ID": 1,
          "max": 0.262,
          "min": 0.11,
          "quantiles": "40-60",
          "timestamp": "10:30:00"
         },
         {
          "ID": 1,
          "max": 0.269,
          "min": 0.114,
          "quantiles": "40-60",
          "timestamp": "10:45:00"
         },
         {
          "ID": 1,
          "max": 0.276,
          "min": 0.12,
          "quantiles": "40-60",
          "timestamp": "11:00:00"
         },
         {
          "ID": 1,
          "max": 0.287,
          "min": 0.13,
          "quantiles": "40-60",
          "timestamp": "11:15:00"
         },
         {
          "ID": 1,
          "max": 0.294,
          "min": 0.14,
          "quantiles": "40-60",
          "timestamp": "11:30:00"
         },
         {
          "ID": 1,
          "max": 0.296,
          "min": 0.14,
          "quantiles": "40-60",
          "timestamp": "11:45:00"
         },
         {
          "ID": 1,
          "max": 0.296,
          "min": 0.139,
          "quantiles": "40-60",
          "timestamp": "12:00:00"
         },
         {
          "ID": 1,
          "max": 0.29,
          "min": 0.13,
          "quantiles": "40-60",
          "timestamp": "12:15:00"
         },
         {
          "ID": 1,
          "max": 0.284,
          "min": 0.127,
          "quantiles": "40-60",
          "timestamp": "12:30:00"
         },
         {
          "ID": 1,
          "max": 0.28,
          "min": 0.121,
          "quantiles": "40-60",
          "timestamp": "12:45:00"
         },
         {
          "ID": 1,
          "max": 0.277,
          "min": 0.122,
          "quantiles": "40-60",
          "timestamp": "13:00:00"
         },
         {
          "ID": 1,
          "max": 0.272,
          "min": 0.12,
          "quantiles": "40-60",
          "timestamp": "13:15:00"
         },
         {
          "ID": 1,
          "max": 0.26,
          "min": 0.114,
          "quantiles": "40-60",
          "timestamp": "13:30:00"
         },
         {
          "ID": 1,
          "max": 0.249,
          "min": 0.104,
          "quantiles": "40-60",
          "timestamp": "13:45:00"
         },
         {
          "ID": 1,
          "max": 0.23,
          "min": 0.093,
          "quantiles": "40-60",
          "timestamp": "14:00:00"
         },
         {
          "ID": 1,
          "max": 0.206,
          "min": 0.076,
          "quantiles": "40-60",
          "timestamp": "14:15:00"
         },
         {
          "ID": 1,
          "max": 0.189,
          "min": 0.064,
          "quantiles": "40-60",
          "timestamp": "14:30:00"
         },
         {
          "ID": 1,
          "max": 0.158,
          "min": 0.049,
          "quantiles": "40-60",
          "timestamp": "14:45:00"
         },
         {
          "ID": 1,
          "max": 0.135,
          "min": 0.03,
          "quantiles": "40-60",
          "timestamp": "15:00:00"
         },
         {
          "ID": 1,
          "max": 0.104,
          "min": 0.018,
          "quantiles": "40-60",
          "timestamp": "15:15:00"
         },
         {
          "ID": 1,
          "max": 0.08,
          "min": 0.008,
          "quantiles": "40-60",
          "timestamp": "15:30:00"
         },
         {
          "ID": 1,
          "max": 0.058,
          "min": 0.001,
          "quantiles": "40-60",
          "timestamp": "15:45:00"
         },
         {
          "ID": 1,
          "max": 0.04,
          "min": 0,
          "quantiles": "40-60",
          "timestamp": "16:00:00"
         },
         {
          "ID": 1,
          "max": 0.023,
          "min": 0,
          "quantiles": "40-60",
          "timestamp": "16:15:00"
         },
         {
          "ID": 1,
          "max": 0.01,
          "min": 0,
          "quantiles": "40-60",
          "timestamp": "16:30:00"
         },
         {
          "ID": 1,
          "max": 0.002,
          "min": 0,
          "quantiles": "40-60",
          "timestamp": "16:45:00"
         },
         {
          "ID": 1,
          "max": 0,
          "min": 0,
          "quantiles": "40-60",
          "timestamp": "17:00:00"
         },
         {
          "ID": 1,
          "max": 0,
          "min": 0,
          "quantiles": "40-60",
          "timestamp": "17:15:00"
         },
         {
          "ID": 1,
          "max": 0,
          "min": 0,
          "quantiles": "40-60",
          "timestamp": "17:30:00"
         },
         {
          "ID": 1,
          "max": 0,
          "min": 0,
          "quantiles": "40-60",
          "timestamp": "17:45:00"
         },
         {
          "ID": 1,
          "max": 0,
          "min": 0,
          "quantiles": "40-60",
          "timestamp": "18:00:00"
         },
         {
          "ID": 1,
          "max": 0,
          "min": 0,
          "quantiles": "40-60",
          "timestamp": "18:15:00"
         },
         {
          "ID": 1,
          "max": 0,
          "min": 0,
          "quantiles": "40-60",
          "timestamp": "18:30:00"
         },
         {
          "ID": 1,
          "max": 0,
          "min": 0,
          "quantiles": "40-60",
          "timestamp": "18:45:00"
         },
         {
          "ID": 1,
          "max": 0,
          "min": 0,
          "quantiles": "40-60",
          "timestamp": "19:00:00"
         },
         {
          "ID": 1,
          "max": 0,
          "min": 0,
          "quantiles": "40-60",
          "timestamp": "19:15:00"
         },
         {
          "ID": 1,
          "max": 0,
          "min": 0,
          "quantiles": "40-60",
          "timestamp": "19:30:00"
         },
         {
          "ID": 1,
          "max": 0,
          "min": 0,
          "quantiles": "40-60",
          "timestamp": "19:45:00"
         },
         {
          "ID": 1,
          "max": 0,
          "min": 0,
          "quantiles": "40-60",
          "timestamp": "20:00:00"
         },
         {
          "ID": 1,
          "max": 0,
          "min": 0,
          "quantiles": "40-60",
          "timestamp": "20:15:00"
         },
         {
          "ID": 1,
          "max": 0,
          "min": 0,
          "quantiles": "40-60",
          "timestamp": "20:30:00"
         },
         {
          "ID": 1,
          "max": 0,
          "min": 0,
          "quantiles": "40-60",
          "timestamp": "20:45:00"
         },
         {
          "ID": 1,
          "max": 0,
          "min": 0,
          "quantiles": "40-60",
          "timestamp": "21:00:00"
         },
         {
          "ID": 1,
          "max": 0,
          "min": 0,
          "quantiles": "40-60",
          "timestamp": "21:15:00"
         },
         {
          "ID": 1,
          "max": 0,
          "min": 0,
          "quantiles": "40-60",
          "timestamp": "21:30:00"
         },
         {
          "ID": 1,
          "max": 0,
          "min": 0,
          "quantiles": "40-60",
          "timestamp": "21:45:00"
         },
         {
          "ID": 1,
          "max": 0,
          "min": 0,
          "quantiles": "40-60",
          "timestamp": "22:00:00"
         },
         {
          "ID": 1,
          "max": 0,
          "min": 0,
          "quantiles": "40-60",
          "timestamp": "22:15:00"
         },
         {
          "ID": 1,
          "max": 0,
          "min": 0,
          "quantiles": "40-60",
          "timestamp": "22:30:00"
         },
         {
          "ID": 1,
          "max": 0,
          "min": 0,
          "quantiles": "40-60",
          "timestamp": "22:45:00"
         },
         {
          "ID": 1,
          "max": 0,
          "min": 0,
          "quantiles": "40-60",
          "timestamp": "23:00:00"
         },
         {
          "ID": 1,
          "max": 0,
          "min": 0,
          "quantiles": "40-60",
          "timestamp": "23:15:00"
         },
         {
          "ID": 1,
          "max": 0,
          "min": 0,
          "quantiles": "40-60",
          "timestamp": "23:30:00"
         },
         {
          "ID": 1,
          "max": 0,
          "min": 0,
          "quantiles": "40-60",
          "timestamp": "23:45:00"
         }
        ]
       },
       "encoding": {
        "color": {
         "field": "quantiles",
         "type": "ordinal"
        },
        "column": {
         "field": "ID",
         "header": {
          "labelFontSize": 15
         },
         "type": "quantitative"
        },
        "x": {
         "field": "timestamp",
         "type": "nominal"
        },
        "y": {
         "axis": {
          "format": ".2f"
         },
         "field": "min",
         "title": "consumption (kWh)",
         "type": "quantitative"
        },
        "y2": {
         "field": "max"
        }
       },
       "mark": "area",
       "resolve": {
        "axis": {
         "y": "independent"
        },
        "scale": {
         "y": "shared"
        }
       },
       "selection": {
        "selector008": {
         "bind": "scales",
         "encodings": [
          "y"
         ],
         "type": "interval"
        }
       }
      },
      "text/plain": [
       "<VegaLite 4 object>\n",
       "\n",
       "If you see this message, it means the renderer has not been properly enabled\n",
       "for the frontend that you are using. For more information, see\n",
       "https://altair-viz.github.io/user_guide/troubleshooting.html\n"
      ]
     },
     "execution_count": 20,
     "metadata": {},
     "output_type": "execute_result"
    }
   ],
   "source": [
    "injection_temp = injection.reset_index().drop(columns=['date'])\n",
    "injection_temp['ID']=1\n",
    "plot_df_injection = injection_temp.groupby('ID').apply(data_df_to_quantiles).droplevel(1).reset_index()[1:]\n",
    "plot_df_injection['timestamp'] = plot_df_injection['timestamp'].apply(lambda x: str(x))\n",
    "area_chart = alt.Chart(plot_df_injection).mark_area().encode(\n",
    "    x = 'timestamp', \n",
    "    y= alt.Y('min:Q',title = 'consumption (kWh)',axis = alt.Axis(format = '.2f')),  \n",
    "    y2='max:Q', \n",
    "    color= 'quantiles:O',    \n",
    "    column = alt.Column('ID',  header=alt.Header(labelFontSize=15))\n",
    ").resolve_scale(y = 'shared').resolve_axis(y= 'independent').interactive(bind_x = False).configure_legend(labelLimit= 0)\n",
    "area_chart"
   ]
  },
  {
   "cell_type": "code",
   "execution_count": 17,
   "metadata": {},
   "outputs": [
    {
     "data": {
      "application/vnd.vegalite.v4+json": {
       "$schema": "https://vega.github.io/schema/vega-lite/v4.17.0.json",
       "config": {
        "legend": {
         "labelLimit": 0
        },
        "view": {
         "continuousHeight": 300,
         "continuousWidth": 400
        }
       },
       "data": {
        "name": "data-1b40fd586d01a0b7bf94f053138df55c"
       },
       "datasets": {
        "data-1b40fd586d01a0b7bf94f053138df55c": [
         {
          "ID": 1,
          "max": 3.17,
          "min": 0,
          "quantiles": "00-100",
          "timestamp": "00:00:00"
         },
         {
          "ID": 1,
          "max": 3.22,
          "min": 0,
          "quantiles": "00-100",
          "timestamp": "00:15:00"
         },
         {
          "ID": 1,
          "max": 3.18,
          "min": 0,
          "quantiles": "00-100",
          "timestamp": "00:30:00"
         },
         {
          "ID": 1,
          "max": 3.16,
          "min": 0,
          "quantiles": "00-100",
          "timestamp": "00:45:00"
         },
         {
          "ID": 1,
          "max": 3.15,
          "min": 0,
          "quantiles": "00-100",
          "timestamp": "01:00:00"
         },
         {
          "ID": 1,
          "max": 10.74,
          "min": 0,
          "quantiles": "00-100",
          "timestamp": "01:15:00"
         },
         {
          "ID": 1,
          "max": 4.43,
          "min": 0,
          "quantiles": "00-100",
          "timestamp": "01:30:00"
         },
         {
          "ID": 1,
          "max": 3.11,
          "min": 0,
          "quantiles": "00-100",
          "timestamp": "01:45:00"
         },
         {
          "ID": 1,
          "max": 3.33,
          "min": 0,
          "quantiles": "00-100",
          "timestamp": "02:00:00"
         },
         {
          "ID": 1,
          "max": 3.36,
          "min": 0,
          "quantiles": "00-100",
          "timestamp": "02:15:00"
         },
         {
          "ID": 1,
          "max": 3.34,
          "min": 0,
          "quantiles": "00-100",
          "timestamp": "02:30:00"
         },
         {
          "ID": 1,
          "max": 3.34,
          "min": 0,
          "quantiles": "00-100",
          "timestamp": "02:45:00"
         },
         {
          "ID": 1,
          "max": 3.45,
          "min": 0,
          "quantiles": "00-100",
          "timestamp": "03:00:00"
         },
         {
          "ID": 1,
          "max": 3.41,
          "min": 0,
          "quantiles": "00-100",
          "timestamp": "03:15:00"
         },
         {
          "ID": 1,
          "max": 3.61,
          "min": 0,
          "quantiles": "00-100",
          "timestamp": "03:30:00"
         },
         {
          "ID": 1,
          "max": 3.6,
          "min": 0,
          "quantiles": "00-100",
          "timestamp": "03:45:00"
         },
         {
          "ID": 1,
          "max": 3.5100000000000002,
          "min": 0,
          "quantiles": "00-100",
          "timestamp": "04:00:00"
         },
         {
          "ID": 1,
          "max": 3.56,
          "min": 0,
          "quantiles": "00-100",
          "timestamp": "04:15:00"
         },
         {
          "ID": 1,
          "max": 3.56,
          "min": -0.00546,
          "quantiles": "00-100",
          "timestamp": "04:30:00"
         },
         {
          "ID": 1,
          "max": 3.63,
          "min": -0.009743,
          "quantiles": "00-100",
          "timestamp": "04:45:00"
         },
         {
          "ID": 1,
          "max": 3.58,
          "min": 0,
          "quantiles": "00-100",
          "timestamp": "05:00:00"
         },
         {
          "ID": 1,
          "max": 3.61,
          "min": 0,
          "quantiles": "00-100",
          "timestamp": "05:15:00"
         },
         {
          "ID": 1,
          "max": 3.6,
          "min": 0,
          "quantiles": "00-100",
          "timestamp": "05:30:00"
         },
         {
          "ID": 1,
          "max": 3.58,
          "min": 0,
          "quantiles": "00-100",
          "timestamp": "05:45:00"
         },
         {
          "ID": 1,
          "max": 3.58,
          "min": -0.023323,
          "quantiles": "00-100",
          "timestamp": "06:00:00"
         },
         {
          "ID": 1,
          "max": 2.95,
          "min": -0.021975,
          "quantiles": "00-100",
          "timestamp": "06:15:00"
         },
         {
          "ID": 1,
          "max": 3.26,
          "min": 0,
          "quantiles": "00-100",
          "timestamp": "06:30:00"
         },
         {
          "ID": 1,
          "max": 3.67,
          "min": -0.017391,
          "quantiles": "00-100",
          "timestamp": "06:45:00"
         },
         {
          "ID": 1,
          "max": 2.56,
          "min": -0.018604,
          "quantiles": "00-100",
          "timestamp": "07:00:00"
         },
         {
          "ID": 1,
          "max": 2.522,
          "min": 0,
          "quantiles": "00-100",
          "timestamp": "07:15:00"
         },
         {
          "ID": 1,
          "max": 2.539,
          "min": 0,
          "quantiles": "00-100",
          "timestamp": "07:30:00"
         },
         {
          "ID": 1,
          "max": 2.521,
          "min": 0,
          "quantiles": "00-100",
          "timestamp": "07:45:00"
         },
         {
          "ID": 1,
          "max": 2.519,
          "min": 0,
          "quantiles": "00-100",
          "timestamp": "08:00:00"
         },
         {
          "ID": 1,
          "max": 2.577,
          "min": 0,
          "quantiles": "00-100",
          "timestamp": "08:15:00"
         },
         {
          "ID": 1,
          "max": 4.86,
          "min": -0.019319,
          "quantiles": "00-100",
          "timestamp": "08:30:00"
         },
         {
          "ID": 1,
          "max": 2.829,
          "min": 0,
          "quantiles": "00-100",
          "timestamp": "08:45:00"
         },
         {
          "ID": 1,
          "max": 3.226,
          "min": 0,
          "quantiles": "00-100",
          "timestamp": "09:00:00"
         },
         {
          "ID": 1,
          "max": 3.572,
          "min": 0,
          "quantiles": "00-100",
          "timestamp": "09:15:00"
         },
         {
          "ID": 1,
          "max": 3.619,
          "min": 0,
          "quantiles": "00-100",
          "timestamp": "09:30:00"
         },
         {
          "ID": 1,
          "max": 3.355,
          "min": -0.007643,
          "quantiles": "00-100",
          "timestamp": "09:45:00"
         },
         {
          "ID": 1,
          "max": 5.72,
          "min": 0,
          "quantiles": "00-100",
          "timestamp": "10:00:00"
         },
         {
          "ID": 1,
          "max": 9.38,
          "min": -0.011595,
          "quantiles": "00-100",
          "timestamp": "10:15:00"
         },
         {
          "ID": 1,
          "max": 3.937,
          "min": -0.039405,
          "quantiles": "00-100",
          "timestamp": "10:30:00"
         },
         {
          "ID": 1,
          "max": 4.364,
          "min": -0.021705,
          "quantiles": "00-100",
          "timestamp": "10:45:00"
         },
         {
          "ID": 1,
          "max": 4.142,
          "min": 0,
          "quantiles": "00-100",
          "timestamp": "11:00:00"
         },
         {
          "ID": 1,
          "max": 4.108,
          "min": 0,
          "quantiles": "00-100",
          "timestamp": "11:15:00"
         },
         {
          "ID": 1,
          "max": 3.807,
          "min": -0.021166,
          "quantiles": "00-100",
          "timestamp": "11:30:00"
         },
         {
          "ID": 1,
          "max": 3.902,
          "min": -0.025749,
          "quantiles": "00-100",
          "timestamp": "11:45:00"
         },
         {
          "ID": 1,
          "max": 3.651,
          "min": 0,
          "quantiles": "00-100",
          "timestamp": "12:00:00"
         },
         {
          "ID": 1,
          "max": 4.004,
          "min": 0,
          "quantiles": "00-100",
          "timestamp": "12:15:00"
         },
         {
          "ID": 1,
          "max": 4.237,
          "min": 0,
          "quantiles": "00-100",
          "timestamp": "12:30:00"
         },
         {
          "ID": 1,
          "max": 4.177,
          "min": 0,
          "quantiles": "00-100",
          "timestamp": "12:45:00"
         },
         {
          "ID": 1,
          "max": 4.034,
          "min": 0,
          "quantiles": "00-100",
          "timestamp": "13:00:00"
         },
         {
          "ID": 1,
          "max": 4.078,
          "min": 0,
          "quantiles": "00-100",
          "timestamp": "13:15:00"
         },
         {
          "ID": 1,
          "max": 3.536,
          "min": 0,
          "quantiles": "00-100",
          "timestamp": "13:30:00"
         },
         {
          "ID": 1,
          "max": 4.436,
          "min": 0,
          "quantiles": "00-100",
          "timestamp": "13:45:00"
         },
         {
          "ID": 1,
          "max": 4.404,
          "min": 0,
          "quantiles": "00-100",
          "timestamp": "14:00:00"
         },
         {
          "ID": 1,
          "max": 3.942,
          "min": 0,
          "quantiles": "00-100",
          "timestamp": "14:15:00"
         },
         {
          "ID": 1,
          "max": 3.58,
          "min": 0,
          "quantiles": "00-100",
          "timestamp": "14:30:00"
         },
         {
          "ID": 1,
          "max": 4.078,
          "min": 0,
          "quantiles": "00-100",
          "timestamp": "14:45:00"
         },
         {
          "ID": 1,
          "max": 3.812,
          "min": 0,
          "quantiles": "00-100",
          "timestamp": "15:00:00"
         },
         {
          "ID": 1,
          "max": 4.132,
          "min": 0,
          "quantiles": "00-100",
          "timestamp": "15:15:00"
         },
         {
          "ID": 1,
          "max": 3.602,
          "min": 0,
          "quantiles": "00-100",
          "timestamp": "15:30:00"
         },
         {
          "ID": 1,
          "max": 4.37,
          "min": 0,
          "quantiles": "00-100",
          "timestamp": "15:45:00"
         },
         {
          "ID": 1,
          "max": 3.736,
          "min": 0,
          "quantiles": "00-100",
          "timestamp": "16:00:00"
         },
         {
          "ID": 1,
          "max": 3.909,
          "min": 0,
          "quantiles": "00-100",
          "timestamp": "16:15:00"
         },
         {
          "ID": 1,
          "max": 4.27,
          "min": 0,
          "quantiles": "00-100",
          "timestamp": "16:30:00"
         },
         {
          "ID": 1,
          "max": 4.089,
          "min": 0,
          "quantiles": "00-100",
          "timestamp": "16:45:00"
         },
         {
          "ID": 1,
          "max": 4.003,
          "min": 0,
          "quantiles": "00-100",
          "timestamp": "17:00:00"
         },
         {
          "ID": 1,
          "max": 4.145,
          "min": 0,
          "quantiles": "00-100",
          "timestamp": "17:15:00"
         },
         {
          "ID": 1,
          "max": 4.297,
          "min": 0,
          "quantiles": "00-100",
          "timestamp": "17:30:00"
         },
         {
          "ID": 1,
          "max": 3.893,
          "min": 0,
          "quantiles": "00-100",
          "timestamp": "17:45:00"
         },
         {
          "ID": 1,
          "max": 4.105,
          "min": 0,
          "quantiles": "00-100",
          "timestamp": "18:00:00"
         },
         {
          "ID": 1,
          "max": 4.008,
          "min": 0,
          "quantiles": "00-100",
          "timestamp": "18:15:00"
         },
         {
          "ID": 1,
          "max": 4.334,
          "min": 0,
          "quantiles": "00-100",
          "timestamp": "18:30:00"
         },
         {
          "ID": 1,
          "max": 4.148,
          "min": 0,
          "quantiles": "00-100",
          "timestamp": "18:45:00"
         },
         {
          "ID": 1,
          "max": 4.122,
          "min": 0,
          "quantiles": "00-100",
          "timestamp": "19:00:00"
         },
         {
          "ID": 1,
          "max": 4.508,
          "min": 0,
          "quantiles": "00-100",
          "timestamp": "19:15:00"
         },
         {
          "ID": 1,
          "max": 4.383,
          "min": 0,
          "quantiles": "00-100",
          "timestamp": "19:30:00"
         },
         {
          "ID": 1,
          "max": 4.023,
          "min": 0,
          "quantiles": "00-100",
          "timestamp": "19:45:00"
         },
         {
          "ID": 1,
          "max": 6.12,
          "min": 0,
          "quantiles": "00-100",
          "timestamp": "20:00:00"
         },
         {
          "ID": 1,
          "max": 4.041,
          "min": 0,
          "quantiles": "00-100",
          "timestamp": "20:15:00"
         },
         {
          "ID": 1,
          "max": 4.153,
          "min": 0,
          "quantiles": "00-100",
          "timestamp": "20:30:00"
         },
         {
          "ID": 1,
          "max": 3.92,
          "min": 0,
          "quantiles": "00-100",
          "timestamp": "20:45:00"
         },
         {
          "ID": 1,
          "max": 5.75,
          "min": 0,
          "quantiles": "00-100",
          "timestamp": "21:00:00"
         },
         {
          "ID": 1,
          "max": 5.16,
          "min": 0,
          "quantiles": "00-100",
          "timestamp": "21:15:00"
         },
         {
          "ID": 1,
          "max": 2.98,
          "min": -0.011,
          "quantiles": "00-100",
          "timestamp": "21:30:00"
         },
         {
          "ID": 1,
          "max": 2.42,
          "min": 0,
          "quantiles": "00-100",
          "timestamp": "21:45:00"
         },
         {
          "ID": 1,
          "max": 3.210571,
          "min": 0,
          "quantiles": "00-100",
          "timestamp": "22:00:00"
         },
         {
          "ID": 1,
          "max": 4.82,
          "min": 0,
          "quantiles": "00-100",
          "timestamp": "22:15:00"
         },
         {
          "ID": 1,
          "max": 2.46,
          "min": -0.022378,
          "quantiles": "00-100",
          "timestamp": "22:30:00"
         },
         {
          "ID": 1,
          "max": 2.9,
          "min": -0.060833,
          "quantiles": "00-100",
          "timestamp": "22:45:00"
         },
         {
          "ID": 1,
          "max": 2.64,
          "min": 0,
          "quantiles": "00-100",
          "timestamp": "23:00:00"
         },
         {
          "ID": 1,
          "max": 3.7,
          "min": 0,
          "quantiles": "00-100",
          "timestamp": "23:15:00"
         },
         {
          "ID": 1,
          "max": 3.66,
          "min": -0.021622,
          "quantiles": "00-100",
          "timestamp": "23:30:00"
         },
         {
          "ID": 1,
          "max": 3.31,
          "min": 0,
          "quantiles": "00-100",
          "timestamp": "23:45:00"
         },
         {
          "ID": 1,
          "max": 1,
          "min": 1,
          "quantiles": "05-95",
          "timestamp": "ID"
         },
         {
          "ID": 1,
          "max": 0.32,
          "min": 0.01,
          "quantiles": "05-95",
          "timestamp": "00:00:00"
         },
         {
          "ID": 1,
          "max": 0.28,
          "min": 0.01,
          "quantiles": "05-95",
          "timestamp": "00:15:00"
         },
         {
          "ID": 1,
          "max": 0.25,
          "min": 0.01,
          "quantiles": "05-95",
          "timestamp": "00:30:00"
         },
         {
          "ID": 1,
          "max": 0.32,
          "min": 0.01,
          "quantiles": "05-95",
          "timestamp": "00:45:00"
         },
         {
          "ID": 1,
          "max": 0.311,
          "min": 0.01,
          "quantiles": "05-95",
          "timestamp": "01:00:00"
         },
         {
          "ID": 1,
          "max": 0.26,
          "min": 0.01,
          "quantiles": "05-95",
          "timestamp": "01:15:00"
         },
         {
          "ID": 1,
          "max": 0.22,
          "min": 0.01,
          "quantiles": "05-95",
          "timestamp": "01:30:00"
         },
         {
          "ID": 1,
          "max": 0.2,
          "min": 0.01,
          "quantiles": "05-95",
          "timestamp": "01:45:00"
         },
         {
          "ID": 1,
          "max": 0.197,
          "min": 0.01,
          "quantiles": "05-95",
          "timestamp": "02:00:00"
         },
         {
          "ID": 1,
          "max": 0.186,
          "min": 0.01,
          "quantiles": "05-95",
          "timestamp": "02:15:00"
         },
         {
          "ID": 1,
          "max": 0.185,
          "min": 0.01,
          "quantiles": "05-95",
          "timestamp": "02:30:00"
         },
         {
          "ID": 1,
          "max": 0.183,
          "min": 0.01,
          "quantiles": "05-95",
          "timestamp": "02:45:00"
         },
         {
          "ID": 1,
          "max": 0.189,
          "min": 0.01,
          "quantiles": "05-95",
          "timestamp": "03:00:00"
         },
         {
          "ID": 1,
          "max": 0.18,
          "min": 0.01,
          "quantiles": "05-95",
          "timestamp": "03:15:00"
         },
         {
          "ID": 1,
          "max": 0.181,
          "min": 0.01,
          "quantiles": "05-95",
          "timestamp": "03:30:00"
         },
         {
          "ID": 1,
          "max": 0.183,
          "min": 0.01,
          "quantiles": "05-95",
          "timestamp": "03:45:00"
         },
         {
          "ID": 1,
          "max": 0.191,
          "min": 0.01,
          "quantiles": "05-95",
          "timestamp": "04:00:00"
         },
         {
          "ID": 1,
          "max": 0.2,
          "min": 0.01,
          "quantiles": "05-95",
          "timestamp": "04:15:00"
         },
         {
          "ID": 1,
          "max": 0.201,
          "min": 0.01,
          "quantiles": "05-95",
          "timestamp": "04:30:00"
         },
         {
          "ID": 1,
          "max": 0.21,
          "min": 0.01,
          "quantiles": "05-95",
          "timestamp": "04:45:00"
         },
         {
          "ID": 1,
          "max": 0.23,
          "min": 0.01,
          "quantiles": "05-95",
          "timestamp": "05:00:00"
         },
         {
          "ID": 1,
          "max": 0.257,
          "min": 0.007,
          "quantiles": "05-95",
          "timestamp": "05:15:00"
         },
         {
          "ID": 1,
          "max": 0.28,
          "min": 0.005,
          "quantiles": "05-95",
          "timestamp": "05:30:00"
         },
         {
          "ID": 1,
          "max": 0.3,
          "min": 0.002,
          "quantiles": "05-95",
          "timestamp": "05:45:00"
         },
         {
          "ID": 1,
          "max": 0.301,
          "min": 0.001,
          "quantiles": "05-95",
          "timestamp": "06:00:00"
         },
         {
          "ID": 1,
          "max": 0.33,
          "min": 0,
          "quantiles": "05-95",
          "timestamp": "06:15:00"
         },
         {
          "ID": 1,
          "max": 0.342,
          "min": 0,
          "quantiles": "05-95",
          "timestamp": "06:30:00"
         },
         {
          "ID": 1,
          "max": 0.352,
          "min": 0,
          "quantiles": "05-95",
          "timestamp": "06:45:00"
         },
         {
          "ID": 1,
          "max": 0.341,
          "min": 0,
          "quantiles": "05-95",
          "timestamp": "07:00:00"
         },
         {
          "ID": 1,
          "max": 0.345,
          "min": 0,
          "quantiles": "05-95",
          "timestamp": "07:15:00"
         },
         {
          "ID": 1,
          "max": 0.364,
          "min": 0,
          "quantiles": "05-95",
          "timestamp": "07:30:00"
         },
         {
          "ID": 1,
          "max": 0.373,
          "min": 0,
          "quantiles": "05-95",
          "timestamp": "07:45:00"
         },
         {
          "ID": 1,
          "max": 0.381,
          "min": 0,
          "quantiles": "05-95",
          "timestamp": "08:00:00"
         },
         {
          "ID": 1,
          "max": 0.369,
          "min": 0,
          "quantiles": "05-95",
          "timestamp": "08:15:00"
         },
         {
          "ID": 1,
          "max": 0.374,
          "min": 0,
          "quantiles": "05-95",
          "timestamp": "08:30:00"
         },
         {
          "ID": 1,
          "max": 0.37,
          "min": 0,
          "quantiles": "05-95",
          "timestamp": "08:45:00"
         },
         {
          "ID": 1,
          "max": 0.382,
          "min": 0,
          "quantiles": "05-95",
          "timestamp": "09:00:00"
         },
         {
          "ID": 1,
          "max": 0.381,
          "min": 0,
          "quantiles": "05-95",
          "timestamp": "09:15:00"
         },
         {
          "ID": 1,
          "max": 0.39,
          "min": 0,
          "quantiles": "05-95",
          "timestamp": "09:30:00"
         },
         {
          "ID": 1,
          "max": 0.386,
          "min": 0,
          "quantiles": "05-95",
          "timestamp": "09:45:00"
         },
         {
          "ID": 1,
          "max": 0.387,
          "min": 0,
          "quantiles": "05-95",
          "timestamp": "10:00:00"
         },
         {
          "ID": 1,
          "max": 0.395,
          "min": 0,
          "quantiles": "05-95",
          "timestamp": "10:15:00"
         },
         {
          "ID": 1,
          "max": 0.392,
          "min": 0,
          "quantiles": "05-95",
          "timestamp": "10:30:00"
         },
         {
          "ID": 1,
          "max": 0.393,
          "min": 0,
          "quantiles": "05-95",
          "timestamp": "10:45:00"
         },
         {
          "ID": 1,
          "max": 0.4,
          "min": 0,
          "quantiles": "05-95",
          "timestamp": "11:00:00"
         },
         {
          "ID": 1,
          "max": 0.403,
          "min": 0,
          "quantiles": "05-95",
          "timestamp": "11:15:00"
         },
         {
          "ID": 1,
          "max": 0.401,
          "min": 0,
          "quantiles": "05-95",
          "timestamp": "11:30:00"
         },
         {
          "ID": 1,
          "max": 0.42,
          "min": 0,
          "quantiles": "05-95",
          "timestamp": "11:45:00"
         },
         {
          "ID": 1,
          "max": 0.42,
          "min": 0,
          "quantiles": "05-95",
          "timestamp": "12:00:00"
         },
         {
          "ID": 1,
          "max": 0.418,
          "min": 0,
          "quantiles": "05-95",
          "timestamp": "12:15:00"
         },
         {
          "ID": 1,
          "max": 0.41,
          "min": 0,
          "quantiles": "05-95",
          "timestamp": "12:30:00"
         },
         {
          "ID": 1,
          "max": 0.4,
          "min": 0,
          "quantiles": "05-95",
          "timestamp": "12:45:00"
         },
         {
          "ID": 1,
          "max": 0.385,
          "min": 0,
          "quantiles": "05-95",
          "timestamp": "13:00:00"
         },
         {
          "ID": 1,
          "max": 0.377,
          "min": 0,
          "quantiles": "05-95",
          "timestamp": "13:15:00"
         },
         {
          "ID": 1,
          "max": 0.37,
          "min": 0,
          "quantiles": "05-95",
          "timestamp": "13:30:00"
         },
         {
          "ID": 1,
          "max": 0.367,
          "min": 0,
          "quantiles": "05-95",
          "timestamp": "13:45:00"
         },
         {
          "ID": 1,
          "max": 0.37,
          "min": 0,
          "quantiles": "05-95",
          "timestamp": "14:00:00"
         },
         {
          "ID": 1,
          "max": 0.356,
          "min": 0,
          "quantiles": "05-95",
          "timestamp": "14:15:00"
         },
         {
          "ID": 1,
          "max": 0.358,
          "min": 0,
          "quantiles": "05-95",
          "timestamp": "14:30:00"
         },
         {
          "ID": 1,
          "max": 0.362,
          "min": 0,
          "quantiles": "05-95",
          "timestamp": "14:45:00"
         },
         {
          "ID": 1,
          "max": 0.378,
          "min": 0,
          "quantiles": "05-95",
          "timestamp": "15:00:00"
         },
         {
          "ID": 1,
          "max": 0.402,
          "min": 0,
          "quantiles": "05-95",
          "timestamp": "15:15:00"
         },
         {
          "ID": 1,
          "max": 0.421,
          "min": 0,
          "quantiles": "05-95",
          "timestamp": "15:30:00"
         },
         {
          "ID": 1,
          "max": 0.44,
          "min": 0,
          "quantiles": "05-95",
          "timestamp": "15:45:00"
         },
         {
          "ID": 1,
          "max": 0.455,
          "min": 0,
          "quantiles": "05-95",
          "timestamp": "16:00:00"
         },
         {
          "ID": 1,
          "max": 0.474,
          "min": 0,
          "quantiles": "05-95",
          "timestamp": "16:15:00"
         },
         {
          "ID": 1,
          "max": 0.492,
          "min": 0,
          "quantiles": "05-95",
          "timestamp": "16:30:00"
         },
         {
          "ID": 1,
          "max": 0.493,
          "min": 0,
          "quantiles": "05-95",
          "timestamp": "16:45:00"
         },
         {
          "ID": 1,
          "max": 0.499,
          "min": 0,
          "quantiles": "05-95",
          "timestamp": "17:00:00"
         },
         {
          "ID": 1,
          "max": 0.498,
          "min": 0.002,
          "quantiles": "05-95",
          "timestamp": "17:15:00"
         },
         {
          "ID": 1,
          "max": 0.493,
          "min": 0.004,
          "quantiles": "05-95",
          "timestamp": "17:30:00"
         },
         {
          "ID": 1,
          "max": 0.491,
          "min": 0.007,
          "quantiles": "05-95",
          "timestamp": "17:45:00"
         },
         {
          "ID": 1,
          "max": 0.48,
          "min": 0.01,
          "quantiles": "05-95",
          "timestamp": "18:00:00"
         },
         {
          "ID": 1,
          "max": 0.48,
          "min": 0.01,
          "quantiles": "05-95",
          "timestamp": "18:15:00"
         },
         {
          "ID": 1,
          "max": 0.485,
          "min": 0.01,
          "quantiles": "05-95",
          "timestamp": "18:30:00"
         },
         {
          "ID": 1,
          "max": 0.484,
          "min": 0.01,
          "quantiles": "05-95",
          "timestamp": "18:45:00"
         },
         {
          "ID": 1,
          "max": 0.47,
          "min": 0.011,
          "quantiles": "05-95",
          "timestamp": "19:00:00"
         },
         {
          "ID": 1,
          "max": 0.461,
          "min": 0.015,
          "quantiles": "05-95",
          "timestamp": "19:15:00"
         },
         {
          "ID": 1,
          "max": 0.442,
          "min": 0.015,
          "quantiles": "05-95",
          "timestamp": "19:30:00"
         },
         {
          "ID": 1,
          "max": 0.428,
          "min": 0.017,
          "quantiles": "05-95",
          "timestamp": "19:45:00"
         },
         {
          "ID": 1,
          "max": 0.42,
          "min": 0.018,
          "quantiles": "05-95",
          "timestamp": "20:00:00"
         },
         {
          "ID": 1,
          "max": 0.401,
          "min": 0.018,
          "quantiles": "05-95",
          "timestamp": "20:15:00"
         },
         {
          "ID": 1,
          "max": 0.4,
          "min": 0.018,
          "quantiles": "05-95",
          "timestamp": "20:30:00"
         },
         {
          "ID": 1,
          "max": 0.392,
          "min": 0.017,
          "quantiles": "05-95",
          "timestamp": "20:45:00"
         },
         {
          "ID": 1,
          "max": 0.38,
          "min": 0.016,
          "quantiles": "05-95",
          "timestamp": "21:00:00"
         },
         {
          "ID": 1,
          "max": 0.37,
          "min": 0.016,
          "quantiles": "05-95",
          "timestamp": "21:15:00"
         },
         {
          "ID": 1,
          "max": 0.363,
          "min": 0.015,
          "quantiles": "05-95",
          "timestamp": "21:30:00"
         },
         {
          "ID": 1,
          "max": 0.35,
          "min": 0.014,
          "quantiles": "05-95",
          "timestamp": "21:45:00"
         },
         {
          "ID": 1,
          "max": 0.417,
          "min": 0.013,
          "quantiles": "05-95",
          "timestamp": "22:00:00"
         },
         {
          "ID": 1,
          "max": 0.445,
          "min": 0.012,
          "quantiles": "05-95",
          "timestamp": "22:15:00"
         },
         {
          "ID": 1,
          "max": 0.41,
          "min": 0.011,
          "quantiles": "05-95",
          "timestamp": "22:30:00"
         },
         {
          "ID": 1,
          "max": 0.37,
          "min": 0.01,
          "quantiles": "05-95",
          "timestamp": "22:45:00"
         },
         {
          "ID": 1,
          "max": 0.442,
          "min": 0.01,
          "quantiles": "05-95",
          "timestamp": "23:00:00"
         },
         {
          "ID": 1,
          "max": 0.393,
          "min": 0.01,
          "quantiles": "05-95",
          "timestamp": "23:15:00"
         },
         {
          "ID": 1,
          "max": 0.37,
          "min": 0.01,
          "quantiles": "05-95",
          "timestamp": "23:30:00"
         },
         {
          "ID": 1,
          "max": 0.34,
          "min": 0.01,
          "quantiles": "05-95",
          "timestamp": "23:45:00"
         },
         {
          "ID": 1,
          "max": 1,
          "min": 1,
          "quantiles": "10-90",
          "timestamp": "ID"
         },
         {
          "ID": 1,
          "max": 0.155,
          "min": 0.017,
          "quantiles": "10-90",
          "timestamp": "00:00:00"
         },
         {
          "ID": 1,
          "max": 0.147,
          "min": 0.016,
          "quantiles": "10-90",
          "timestamp": "00:15:00"
         },
         {
          "ID": 1,
          "max": 0.13729,
          "min": 0.016,
          "quantiles": "10-90",
          "timestamp": "00:30:00"
         },
         {
          "ID": 1,
          "max": 0.14,
          "min": 0.015,
          "quantiles": "10-90",
          "timestamp": "00:45:00"
         },
         {
          "ID": 1,
          "max": 0.14,
          "min": 0.015,
          "quantiles": "10-90",
          "timestamp": "01:00:00"
         },
         {
          "ID": 1,
          "max": 0.13,
          "min": 0.014,
          "quantiles": "10-90",
          "timestamp": "01:15:00"
         },
         {
          "ID": 1,
          "max": 0.12,
          "min": 0.014,
          "quantiles": "10-90",
          "timestamp": "01:30:00"
         },
         {
          "ID": 1,
          "max": 0.117,
          "min": 0.013,
          "quantiles": "10-90",
          "timestamp": "01:45:00"
         },
         {
          "ID": 1,
          "max": 0.111159,
          "min": 0.013,
          "quantiles": "10-90",
          "timestamp": "02:00:00"
         },
         {
          "ID": 1,
          "max": 0.11,
          "min": 0.013,
          "quantiles": "10-90",
          "timestamp": "02:15:00"
         },
         {
          "ID": 1,
          "max": 0.11,
          "min": 0.013,
          "quantiles": "10-90",
          "timestamp": "02:30:00"
         },
         {
          "ID": 1,
          "max": 0.11,
          "min": 0.013,
          "quantiles": "10-90",
          "timestamp": "02:45:00"
         },
         {
          "ID": 1,
          "max": 0.11,
          "min": 0.012,
          "quantiles": "10-90",
          "timestamp": "03:00:00"
         },
         {
          "ID": 1,
          "max": 0.11,
          "min": 0.012,
          "quantiles": "10-90",
          "timestamp": "03:15:00"
         },
         {
          "ID": 1,
          "max": 0.11,
          "min": 0.011,
          "quantiles": "10-90",
          "timestamp": "03:30:00"
         },
         {
          "ID": 1,
          "max": 0.11,
          "min": 0.011,
          "quantiles": "10-90",
          "timestamp": "03:45:00"
         },
         {
          "ID": 1,
          "max": 0.112,
          "min": 0.011,
          "quantiles": "10-90",
          "timestamp": "04:00:00"
         },
         {
          "ID": 1,
          "max": 0.115,
          "min": 0.01,
          "quantiles": "10-90",
          "timestamp": "04:15:00"
         },
         {
          "ID": 1,
          "max": 0.12,
          "min": 0.01,
          "quantiles": "10-90",
          "timestamp": "04:30:00"
         },
         {
          "ID": 1,
          "max": 0.123,
          "min": 0.01,
          "quantiles": "10-90",
          "timestamp": "04:45:00"
         },
         {
          "ID": 1,
          "max": 0.131,
          "min": 0.01,
          "quantiles": "10-90",
          "timestamp": "05:00:00"
         },
         {
          "ID": 1,
          "max": 0.142,
          "min": 0.01,
          "quantiles": "10-90",
          "timestamp": "05:15:00"
         },
         {
          "ID": 1,
          "max": 0.15,
          "min": 0.01,
          "quantiles": "10-90",
          "timestamp": "05:30:00"
         },
         {
          "ID": 1,
          "max": 0.16,
          "min": 0.01,
          "quantiles": "10-90",
          "timestamp": "05:45:00"
         },
         {
          "ID": 1,
          "max": 0.166,
          "min": 0.01,
          "quantiles": "10-90",
          "timestamp": "06:00:00"
         },
         {
          "ID": 1,
          "max": 0.172,
          "min": 0.01,
          "quantiles": "10-90",
          "timestamp": "06:15:00"
         },
         {
          "ID": 1,
          "max": 0.18,
          "min": 0.01,
          "quantiles": "10-90",
          "timestamp": "06:30:00"
         },
         {
          "ID": 1,
          "max": 0.185,
          "min": 0.01,
          "quantiles": "10-90",
          "timestamp": "06:45:00"
         },
         {
          "ID": 1,
          "max": 0.19,
          "min": 0.009,
          "quantiles": "10-90",
          "timestamp": "07:00:00"
         },
         {
          "ID": 1,
          "max": 0.19,
          "min": 0.006,
          "quantiles": "10-90",
          "timestamp": "07:15:00"
         },
         {
          "ID": 1,
          "max": 0.2,
          "min": 0.003063,
          "quantiles": "10-90",
          "timestamp": "07:30:00"
         },
         {
          "ID": 1,
          "max": 0.21,
          "min": 0.002,
          "quantiles": "10-90",
          "timestamp": "07:45:00"
         },
         {
          "ID": 1,
          "max": 0.22,
          "min": 0.001,
          "quantiles": "10-90",
          "timestamp": "08:00:00"
         },
         {
          "ID": 1,
          "max": 0.215,
          "min": 0,
          "quantiles": "10-90",
          "timestamp": "08:15:00"
         },
         {
          "ID": 1,
          "max": 0.22,
          "min": 0,
          "quantiles": "10-90",
          "timestamp": "08:30:00"
         },
         {
          "ID": 1,
          "max": 0.216,
          "min": 0,
          "quantiles": "10-90",
          "timestamp": "08:45:00"
         },
         {
          "ID": 1,
          "max": 0.22,
          "min": 0,
          "quantiles": "10-90",
          "timestamp": "09:00:00"
         },
         {
          "ID": 1,
          "max": 0.223,
          "min": 0,
          "quantiles": "10-90",
          "timestamp": "09:15:00"
         },
         {
          "ID": 1,
          "max": 0.228,
          "min": 0,
          "quantiles": "10-90",
          "timestamp": "09:30:00"
         },
         {
          "ID": 1,
          "max": 0.226,
          "min": 0,
          "quantiles": "10-90",
          "timestamp": "09:45:00"
         },
         {
          "ID": 1,
          "max": 0.229,
          "min": 0,
          "quantiles": "10-90",
          "timestamp": "10:00:00"
         },
         {
          "ID": 1,
          "max": 0.235,
          "min": 0,
          "quantiles": "10-90",
          "timestamp": "10:15:00"
         },
         {
          "ID": 1,
          "max": 0.231,
          "min": 0,
          "quantiles": "10-90",
          "timestamp": "10:30:00"
         },
         {
          "ID": 1,
          "max": 0.231,
          "min": 0,
          "quantiles": "10-90",
          "timestamp": "10:45:00"
         },
         {
          "ID": 1,
          "max": 0.235,
          "min": 0,
          "quantiles": "10-90",
          "timestamp": "11:00:00"
         },
         {
          "ID": 1,
          "max": 0.24,
          "min": 0,
          "quantiles": "10-90",
          "timestamp": "11:15:00"
         },
         {
          "ID": 1,
          "max": 0.24,
          "min": 0,
          "quantiles": "10-90",
          "timestamp": "11:30:00"
         },
         {
          "ID": 1,
          "max": 0.25,
          "min": 0,
          "quantiles": "10-90",
          "timestamp": "11:45:00"
         },
         {
          "ID": 1,
          "max": 0.26,
          "min": 0,
          "quantiles": "10-90",
          "timestamp": "12:00:00"
         },
         {
          "ID": 1,
          "max": 0.26,
          "min": 0,
          "quantiles": "10-90",
          "timestamp": "12:15:00"
         },
         {
          "ID": 1,
          "max": 0.257,
          "min": 0,
          "quantiles": "10-90",
          "timestamp": "12:30:00"
         },
         {
          "ID": 1,
          "max": 0.243,
          "min": 0,
          "quantiles": "10-90",
          "timestamp": "12:45:00"
         },
         {
          "ID": 1,
          "max": 0.23,
          "min": 0,
          "quantiles": "10-90",
          "timestamp": "13:00:00"
         },
         {
          "ID": 1,
          "max": 0.216,
          "min": 0,
          "quantiles": "10-90",
          "timestamp": "13:15:00"
         },
         {
          "ID": 1,
          "max": 0.21,
          "min": 0,
          "quantiles": "10-90",
          "timestamp": "13:30:00"
         },
         {
          "ID": 1,
          "max": 0.21,
          "min": 0,
          "quantiles": "10-90",
          "timestamp": "13:45:00"
         },
         {
          "ID": 1,
          "max": 0.21,
          "min": 0,
          "quantiles": "10-90",
          "timestamp": "14:00:00"
         },
         {
          "ID": 1,
          "max": 0.206,
          "min": 0,
          "quantiles": "10-90",
          "timestamp": "14:15:00"
         },
         {
          "ID": 1,
          "max": 0.205,
          "min": 0,
          "quantiles": "10-90",
          "timestamp": "14:30:00"
         },
         {
          "ID": 1,
          "max": 0.21,
          "min": 0,
          "quantiles": "10-90",
          "timestamp": "14:45:00"
         },
         {
          "ID": 1,
          "max": 0.22,
          "min": 0,
          "quantiles": "10-90",
          "timestamp": "15:00:00"
         },
         {
          "ID": 1,
          "max": 0.233,
          "min": 0,
          "quantiles": "10-90",
          "timestamp": "15:15:00"
         },
         {
          "ID": 1,
          "max": 0.25,
          "min": 0.001,
          "quantiles": "10-90",
          "timestamp": "15:30:00"
         },
         {
          "ID": 1,
          "max": 0.263,
          "min": 0.003,
          "quantiles": "10-90",
          "timestamp": "15:45:00"
         },
         {
          "ID": 1,
          "max": 0.28,
          "min": 0.007,
          "quantiles": "10-90",
          "timestamp": "16:00:00"
         },
         {
          "ID": 1,
          "max": 0.299,
          "min": 0.01,
          "quantiles": "10-90",
          "timestamp": "16:15:00"
         },
         {
          "ID": 1,
          "max": 0.313,
          "min": 0.01,
          "quantiles": "10-90",
          "timestamp": "16:30:00"
         },
         {
          "ID": 1,
          "max": 0.32,
          "min": 0.01,
          "quantiles": "10-90",
          "timestamp": "16:45:00"
         },
         {
          "ID": 1,
          "max": 0.324,
          "min": 0.01,
          "quantiles": "10-90",
          "timestamp": "17:00:00"
         },
         {
          "ID": 1,
          "max": 0.33,
          "min": 0.01,
          "quantiles": "10-90",
          "timestamp": "17:15:00"
         },
         {
          "ID": 1,
          "max": 0.33,
          "min": 0.014,
          "quantiles": "10-90",
          "timestamp": "17:30:00"
         },
         {
          "ID": 1,
          "max": 0.333,
          "min": 0.018,
          "quantiles": "10-90",
          "timestamp": "17:45:00"
         },
         {
          "ID": 1,
          "max": 0.329,
          "min": 0.02,
          "quantiles": "10-90",
          "timestamp": "18:00:00"
         },
         {
          "ID": 1,
          "max": 0.32,
          "min": 0.02,
          "quantiles": "10-90",
          "timestamp": "18:15:00"
         },
         {
          "ID": 1,
          "max": 0.318,
          "min": 0.02,
          "quantiles": "10-90",
          "timestamp": "18:30:00"
         },
         {
          "ID": 1,
          "max": 0.315,
          "min": 0.02,
          "quantiles": "10-90",
          "timestamp": "18:45:00"
         },
         {
          "ID": 1,
          "max": 0.31,
          "min": 0.02,
          "quantiles": "10-90",
          "timestamp": "19:00:00"
         },
         {
          "ID": 1,
          "max": 0.3,
          "min": 0.023,
          "quantiles": "10-90",
          "timestamp": "19:15:00"
         },
         {
          "ID": 1,
          "max": 0.282,
          "min": 0.025,
          "quantiles": "10-90",
          "timestamp": "19:30:00"
         },
         {
          "ID": 1,
          "max": 0.27,
          "min": 0.026,
          "quantiles": "10-90",
          "timestamp": "19:45:00"
         },
         {
          "ID": 1,
          "max": 0.26,
          "min": 0.027,
          "quantiles": "10-90",
          "timestamp": "20:00:00"
         },
         {
          "ID": 1,
          "max": 0.25,
          "min": 0.027,
          "quantiles": "10-90",
          "timestamp": "20:15:00"
         },
         {
          "ID": 1,
          "max": 0.245,
          "min": 0.026,
          "quantiles": "10-90",
          "timestamp": "20:30:00"
         },
         {
          "ID": 1,
          "max": 0.235,
          "min": 0.025,
          "quantiles": "10-90",
          "timestamp": "20:45:00"
         },
         {
          "ID": 1,
          "max": 0.224,
          "min": 0.024,
          "quantiles": "10-90",
          "timestamp": "21:00:00"
         },
         {
          "ID": 1,
          "max": 0.22,
          "min": 0.024,
          "quantiles": "10-90",
          "timestamp": "21:15:00"
         },
         {
          "ID": 1,
          "max": 0.213,
          "min": 0.022,
          "quantiles": "10-90",
          "timestamp": "21:30:00"
         },
         {
          "ID": 1,
          "max": 0.205,
          "min": 0.021,
          "quantiles": "10-90",
          "timestamp": "21:45:00"
         },
         {
          "ID": 1,
          "max": 0.22,
          "min": 0.02,
          "quantiles": "10-90",
          "timestamp": "22:00:00"
         },
         {
          "ID": 1,
          "max": 0.22,
          "min": 0.02,
          "quantiles": "10-90",
          "timestamp": "22:15:00"
         },
         {
          "ID": 1,
          "max": 0.21,
          "min": 0.02,
          "quantiles": "10-90",
          "timestamp": "22:30:00"
         },
         {
          "ID": 1,
          "max": 0.19,
          "min": 0.02,
          "quantiles": "10-90",
          "timestamp": "22:45:00"
         },
         {
          "ID": 1,
          "max": 0.2,
          "min": 0.02,
          "quantiles": "10-90",
          "timestamp": "23:00:00"
         },
         {
          "ID": 1,
          "max": 0.189,
          "min": 0.02,
          "quantiles": "10-90",
          "timestamp": "23:15:00"
         },
         {
          "ID": 1,
          "max": 0.179,
          "min": 0.02,
          "quantiles": "10-90",
          "timestamp": "23:30:00"
         },
         {
          "ID": 1,
          "max": 0.168,
          "min": 0.019,
          "quantiles": "10-90",
          "timestamp": "23:45:00"
         },
         {
          "ID": 1,
          "max": 1,
          "min": 1,
          "quantiles": "15-85",
          "timestamp": "ID"
         },
         {
          "ID": 1,
          "max": 0.11,
          "min": 0.02,
          "quantiles": "15-85",
          "timestamp": "00:00:00"
         },
         {
          "ID": 1,
          "max": 0.103,
          "min": 0.02,
          "quantiles": "15-85",
          "timestamp": "00:15:00"
         },
         {
          "ID": 1,
          "max": 0.1,
          "min": 0.02,
          "quantiles": "15-85",
          "timestamp": "00:30:00"
         },
         {
          "ID": 1,
          "max": 0.1,
          "min": 0.02,
          "quantiles": "15-85",
          "timestamp": "00:45:00"
         },
         {
          "ID": 1,
          "max": 0.1,
          "min": 0.02,
          "quantiles": "15-85",
          "timestamp": "01:00:00"
         },
         {
          "ID": 1,
          "max": 0.095,
          "min": 0.02,
          "quantiles": "15-85",
          "timestamp": "01:15:00"
         },
         {
          "ID": 1,
          "max": 0.09,
          "min": 0.02,
          "quantiles": "15-85",
          "timestamp": "01:30:00"
         },
         {
          "ID": 1,
          "max": 0.09,
          "min": 0.02,
          "quantiles": "15-85",
          "timestamp": "01:45:00"
         },
         {
          "ID": 1,
          "max": 0.089,
          "min": 0.02,
          "quantiles": "15-85",
          "timestamp": "02:00:00"
         },
         {
          "ID": 1,
          "max": 0.088,
          "min": 0.02,
          "quantiles": "15-85",
          "timestamp": "02:15:00"
         },
         {
          "ID": 1,
          "max": 0.087,
          "min": 0.02,
          "quantiles": "15-85",
          "timestamp": "02:30:00"
         },
         {
          "ID": 1,
          "max": 0.087,
          "min": 0.02,
          "quantiles": "15-85",
          "timestamp": "02:45:00"
         },
         {
          "ID": 1,
          "max": 0.087,
          "min": 0.02,
          "quantiles": "15-85",
          "timestamp": "03:00:00"
         },
         {
          "ID": 1,
          "max": 0.086,
          "min": 0.02,
          "quantiles": "15-85",
          "timestamp": "03:15:00"
         },
         {
          "ID": 1,
          "max": 0.087,
          "min": 0.02,
          "quantiles": "15-85",
          "timestamp": "03:30:00"
         },
         {
          "ID": 1,
          "max": 0.087,
          "min": 0.02,
          "quantiles": "15-85",
          "timestamp": "03:45:00"
         },
         {
          "ID": 1,
          "max": 0.09,
          "min": 0.02,
          "quantiles": "15-85",
          "timestamp": "04:00:00"
         },
         {
          "ID": 1,
          "max": 0.09,
          "min": 0.019,
          "quantiles": "15-85",
          "timestamp": "04:15:00"
         },
         {
          "ID": 1,
          "max": 0.09,
          "min": 0.019,
          "quantiles": "15-85",
          "timestamp": "04:30:00"
         },
         {
          "ID": 1,
          "max": 0.093,
          "min": 0.018,
          "quantiles": "15-85",
          "timestamp": "04:45:00"
         },
         {
          "ID": 1,
          "max": 0.1,
          "min": 0.018,
          "quantiles": "15-85",
          "timestamp": "05:00:00"
         },
         {
          "ID": 1,
          "max": 0.105,
          "min": 0.017,
          "quantiles": "15-85",
          "timestamp": "05:15:00"
         },
         {
          "ID": 1,
          "max": 0.11,
          "min": 0.015,
          "quantiles": "15-85",
          "timestamp": "05:30:00"
         },
         {
          "ID": 1,
          "max": 0.115,
          "min": 0.013,
          "quantiles": "15-85",
          "timestamp": "05:45:00"
         },
         {
          "ID": 1,
          "max": 0.12,
          "min": 0.011,
          "quantiles": "15-85",
          "timestamp": "06:00:00"
         },
         {
          "ID": 1,
          "max": 0.126,
          "min": 0.01,
          "quantiles": "15-85",
          "timestamp": "06:15:00"
         },
         {
          "ID": 1,
          "max": 0.13,
          "min": 0.01,
          "quantiles": "15-85",
          "timestamp": "06:30:00"
         },
         {
          "ID": 1,
          "max": 0.136,
          "min": 0.01,
          "quantiles": "15-85",
          "timestamp": "06:45:00"
         },
         {
          "ID": 1,
          "max": 0.14,
          "min": 0.01,
          "quantiles": "15-85",
          "timestamp": "07:00:00"
         },
         {
          "ID": 1,
          "max": 0.14,
          "min": 0.01,
          "quantiles": "15-85",
          "timestamp": "07:15:00"
         },
         {
          "ID": 1,
          "max": 0.144,
          "min": 0.01,
          "quantiles": "15-85",
          "timestamp": "07:30:00"
         },
         {
          "ID": 1,
          "max": 0.15,
          "min": 0.01,
          "quantiles": "15-85",
          "timestamp": "07:45:00"
         },
         {
          "ID": 1,
          "max": 0.151,
          "min": 0.01,
          "quantiles": "15-85",
          "timestamp": "08:00:00"
         },
         {
          "ID": 1,
          "max": 0.152,
          "min": 0.01,
          "quantiles": "15-85",
          "timestamp": "08:15:00"
         },
         {
          "ID": 1,
          "max": 0.153,
          "min": 0.01,
          "quantiles": "15-85",
          "timestamp": "08:30:00"
         },
         {
          "ID": 1,
          "max": 0.151,
          "min": 0.01,
          "quantiles": "15-85",
          "timestamp": "08:45:00"
         },
         {
          "ID": 1,
          "max": 0.153,
          "min": 0.008,
          "quantiles": "15-85",
          "timestamp": "09:00:00"
         },
         {
          "ID": 1,
          "max": 0.158,
          "min": 0.006,
          "quantiles": "15-85",
          "timestamp": "09:15:00"
         },
         {
          "ID": 1,
          "max": 0.159,
          "min": 0.005,
          "quantiles": "15-85",
          "timestamp": "09:30:00"
         },
         {
          "ID": 1,
          "max": 0.157,
          "min": 0.004,
          "quantiles": "15-85",
          "timestamp": "09:45:00"
         },
         {
          "ID": 1,
          "max": 0.16,
          "min": 0.004,
          "quantiles": "15-85",
          "timestamp": "10:00:00"
         },
         {
          "ID": 1,
          "max": 0.161,
          "min": 0.003,
          "quantiles": "15-85",
          "timestamp": "10:15:00"
         },
         {
          "ID": 1,
          "max": 0.16,
          "min": 0.002,
          "quantiles": "15-85",
          "timestamp": "10:30:00"
         },
         {
          "ID": 1,
          "max": 0.16,
          "min": 0.002,
          "quantiles": "15-85",
          "timestamp": "10:45:00"
         },
         {
          "ID": 1,
          "max": 0.16,
          "min": 0.001,
          "quantiles": "15-85",
          "timestamp": "11:00:00"
         },
         {
          "ID": 1,
          "max": 0.167488,
          "min": 0.001,
          "quantiles": "15-85",
          "timestamp": "11:15:00"
         },
         {
          "ID": 1,
          "max": 0.17,
          "min": 0,
          "quantiles": "15-85",
          "timestamp": "11:30:00"
         },
         {
          "ID": 1,
          "max": 0.17,
          "min": 0,
          "quantiles": "15-85",
          "timestamp": "11:45:00"
         },
         {
          "ID": 1,
          "max": 0.18,
          "min": 0.001,
          "quantiles": "15-85",
          "timestamp": "12:00:00"
         },
         {
          "ID": 1,
          "max": 0.176,
          "min": 0,
          "quantiles": "15-85",
          "timestamp": "12:15:00"
         },
         {
          "ID": 1,
          "max": 0.175,
          "min": 0.001,
          "quantiles": "15-85",
          "timestamp": "12:30:00"
         },
         {
          "ID": 1,
          "max": 0.167,
          "min": 0.001,
          "quantiles": "15-85",
          "timestamp": "12:45:00"
         },
         {
          "ID": 1,
          "max": 0.155,
          "min": 0.001,
          "quantiles": "15-85",
          "timestamp": "13:00:00"
         },
         {
          "ID": 1,
          "max": 0.145,
          "min": 0.001,
          "quantiles": "15-85",
          "timestamp": "13:15:00"
         },
         {
          "ID": 1,
          "max": 0.143,
          "min": 0.001,
          "quantiles": "15-85",
          "timestamp": "13:30:00"
         },
         {
          "ID": 1,
          "max": 0.143,
          "min": 0.002,
          "quantiles": "15-85",
          "timestamp": "13:45:00"
         },
         {
          "ID": 1,
          "max": 0.144,
          "min": 0.003,
          "quantiles": "15-85",
          "timestamp": "14:00:00"
         },
         {
          "ID": 1,
          "max": 0.142,
          "min": 0.005,
          "quantiles": "15-85",
          "timestamp": "14:15:00"
         },
         {
          "ID": 1,
          "max": 0.142,
          "min": 0.006,
          "quantiles": "15-85",
          "timestamp": "14:30:00"
         },
         {
          "ID": 1,
          "max": 0.149,
          "min": 0.009,
          "quantiles": "15-85",
          "timestamp": "14:45:00"
         },
         {
          "ID": 1,
          "max": 0.153521,
          "min": 0.01,
          "quantiles": "15-85",
          "timestamp": "15:00:00"
         },
         {
          "ID": 1,
          "max": 0.16,
          "min": 0.01,
          "quantiles": "15-85",
          "timestamp": "15:15:00"
         },
         {
          "ID": 1,
          "max": 0.17,
          "min": 0.01,
          "quantiles": "15-85",
          "timestamp": "15:30:00"
         },
         {
          "ID": 1,
          "max": 0.181,
          "min": 0.01,
          "quantiles": "15-85",
          "timestamp": "15:45:00"
         },
         {
          "ID": 1,
          "max": 0.191,
          "min": 0.012,
          "quantiles": "15-85",
          "timestamp": "16:00:00"
         },
         {
          "ID": 1,
          "max": 0.205,
          "min": 0.016,
          "quantiles": "15-85",
          "timestamp": "16:15:00"
         },
         {
          "ID": 1,
          "max": 0.215,
          "min": 0.02,
          "quantiles": "15-85",
          "timestamp": "16:30:00"
         },
         {
          "ID": 1,
          "max": 0.222,
          "min": 0.02,
          "quantiles": "15-85",
          "timestamp": "16:45:00"
         },
         {
          "ID": 1,
          "max": 0.229,
          "min": 0.02,
          "quantiles": "15-85",
          "timestamp": "17:00:00"
         },
         {
          "ID": 1,
          "max": 0.23,
          "min": 0.02,
          "quantiles": "15-85",
          "timestamp": "17:15:00"
         },
         {
          "ID": 1,
          "max": 0.237,
          "min": 0.02,
          "quantiles": "15-85",
          "timestamp": "17:30:00"
         },
         {
          "ID": 1,
          "max": 0.236,
          "min": 0.02,
          "quantiles": "15-85",
          "timestamp": "17:45:00"
         },
         {
          "ID": 1,
          "max": 0.238,
          "min": 0.024,
          "quantiles": "15-85",
          "timestamp": "18:00:00"
         },
         {
          "ID": 1,
          "max": 0.23,
          "min": 0.028,
          "quantiles": "15-85",
          "timestamp": "18:15:00"
         },
         {
          "ID": 1,
          "max": 0.226,
          "min": 0.03,
          "quantiles": "15-85",
          "timestamp": "18:30:00"
         },
         {
          "ID": 1,
          "max": 0.221,
          "min": 0.03,
          "quantiles": "15-85",
          "timestamp": "18:45:00"
         },
         {
          "ID": 1,
          "max": 0.22,
          "min": 0.03,
          "quantiles": "15-85",
          "timestamp": "19:00:00"
         },
         {
          "ID": 1,
          "max": 0.214,
          "min": 0.03,
          "quantiles": "15-85",
          "timestamp": "19:15:00"
         },
         {
          "ID": 1,
          "max": 0.206,
          "min": 0.031,
          "quantiles": "15-85",
          "timestamp": "19:30:00"
         },
         {
          "ID": 1,
          "max": 0.2,
          "min": 0.032,
          "quantiles": "15-85",
          "timestamp": "19:45:00"
         },
         {
          "ID": 1,
          "max": 0.192,
          "min": 0.033,
          "quantiles": "15-85",
          "timestamp": "20:00:00"
         },
         {
          "ID": 1,
          "max": 0.189,
          "min": 0.032,
          "quantiles": "15-85",
          "timestamp": "20:15:00"
         },
         {
          "ID": 1,
          "max": 0.184,
          "min": 0.031,
          "quantiles": "15-85",
          "timestamp": "20:30:00"
         },
         {
          "ID": 1,
          "max": 0.18,
          "min": 0.03,
          "quantiles": "15-85",
          "timestamp": "20:45:00"
         },
         {
          "ID": 1,
          "max": 0.17,
          "min": 0.03,
          "quantiles": "15-85",
          "timestamp": "21:00:00"
         },
         {
          "ID": 1,
          "max": 0.168,
          "min": 0.03,
          "quantiles": "15-85",
          "timestamp": "21:15:00"
         },
         {
          "ID": 1,
          "max": 0.16,
          "min": 0.03,
          "quantiles": "15-85",
          "timestamp": "21:30:00"
         },
         {
          "ID": 1,
          "max": 0.16,
          "min": 0.03,
          "quantiles": "15-85",
          "timestamp": "21:45:00"
         },
         {
          "ID": 1,
          "max": 0.16,
          "min": 0.03,
          "quantiles": "15-85",
          "timestamp": "22:00:00"
         },
         {
          "ID": 1,
          "max": 0.16,
          "min": 0.029,
          "quantiles": "15-85",
          "timestamp": "22:15:00"
         },
         {
          "ID": 1,
          "max": 0.15,
          "min": 0.027,
          "quantiles": "15-85",
          "timestamp": "22:30:00"
         },
         {
          "ID": 1,
          "max": 0.14,
          "min": 0.025,
          "quantiles": "15-85",
          "timestamp": "22:45:00"
         },
         {
          "ID": 1,
          "max": 0.14,
          "min": 0.023,
          "quantiles": "15-85",
          "timestamp": "23:00:00"
         },
         {
          "ID": 1,
          "max": 0.13,
          "min": 0.021,
          "quantiles": "15-85",
          "timestamp": "23:15:00"
         },
         {
          "ID": 1,
          "max": 0.121,
          "min": 0.02,
          "quantiles": "15-85",
          "timestamp": "23:30:00"
         },
         {
          "ID": 1,
          "max": 0.116,
          "min": 0.02,
          "quantiles": "15-85",
          "timestamp": "23:45:00"
         },
         {
          "ID": 1,
          "max": 1,
          "min": 1,
          "quantiles": "20-80",
          "timestamp": "ID"
         },
         {
          "ID": 1,
          "max": 0.09,
          "min": 0.023,
          "quantiles": "20-80",
          "timestamp": "00:00:00"
         },
         {
          "ID": 1,
          "max": 0.088,
          "min": 0.022,
          "quantiles": "20-80",
          "timestamp": "00:15:00"
         },
         {
          "ID": 1,
          "max": 0.082,
          "min": 0.021,
          "quantiles": "20-80",
          "timestamp": "00:30:00"
         },
         {
          "ID": 1,
          "max": 0.081,
          "min": 0.02,
          "quantiles": "20-80",
          "timestamp": "00:45:00"
         },
         {
          "ID": 1,
          "max": 0.08,
          "min": 0.02,
          "quantiles": "20-80",
          "timestamp": "01:00:00"
         },
         {
          "ID": 1,
          "max": 0.08,
          "min": 0.02,
          "quantiles": "20-80",
          "timestamp": "01:15:00"
         },
         {
          "ID": 1,
          "max": 0.079,
          "min": 0.02,
          "quantiles": "20-80",
          "timestamp": "01:30:00"
         },
         {
          "ID": 1,
          "max": 0.077,
          "min": 0.02,
          "quantiles": "20-80",
          "timestamp": "01:45:00"
         },
         {
          "ID": 1,
          "max": 0.076,
          "min": 0.02,
          "quantiles": "20-80",
          "timestamp": "02:00:00"
         },
         {
          "ID": 1,
          "max": 0.075,
          "min": 0.02,
          "quantiles": "20-80",
          "timestamp": "02:15:00"
         },
         {
          "ID": 1,
          "max": 0.074,
          "min": 0.02,
          "quantiles": "20-80",
          "timestamp": "02:30:00"
         },
         {
          "ID": 1,
          "max": 0.074,
          "min": 0.02,
          "quantiles": "20-80",
          "timestamp": "02:45:00"
         },
         {
          "ID": 1,
          "max": 0.074,
          "min": 0.02,
          "quantiles": "20-80",
          "timestamp": "03:00:00"
         },
         {
          "ID": 1,
          "max": 0.074,
          "min": 0.02,
          "quantiles": "20-80",
          "timestamp": "03:15:00"
         },
         {
          "ID": 1,
          "max": 0.075,
          "min": 0.02,
          "quantiles": "20-80",
          "timestamp": "03:30:00"
         },
         {
          "ID": 1,
          "max": 0.074,
          "min": 0.02,
          "quantiles": "20-80",
          "timestamp": "03:45:00"
         },
         {
          "ID": 1,
          "max": 0.077,
          "min": 0.02,
          "quantiles": "20-80",
          "timestamp": "04:00:00"
         },
         {
          "ID": 1,
          "max": 0.077,
          "min": 0.02,
          "quantiles": "20-80",
          "timestamp": "04:15:00"
         },
         {
          "ID": 1,
          "max": 0.079,
          "min": 0.02,
          "quantiles": "20-80",
          "timestamp": "04:30:00"
         },
         {
          "ID": 1,
          "max": 0.08,
          "min": 0.02,
          "quantiles": "20-80",
          "timestamp": "04:45:00"
         },
         {
          "ID": 1,
          "max": 0.081,
          "min": 0.02,
          "quantiles": "20-80",
          "timestamp": "05:00:00"
         },
         {
          "ID": 1,
          "max": 0.085,
          "min": 0.02,
          "quantiles": "20-80",
          "timestamp": "05:15:00"
         },
         {
          "ID": 1,
          "max": 0.09,
          "min": 0.02,
          "quantiles": "20-80",
          "timestamp": "05:30:00"
         },
         {
          "ID": 1,
          "max": 0.092,
          "min": 0.02,
          "quantiles": "20-80",
          "timestamp": "05:45:00"
         },
         {
          "ID": 1,
          "max": 0.097,
          "min": 0.02,
          "quantiles": "20-80",
          "timestamp": "06:00:00"
         },
         {
          "ID": 1,
          "max": 0.1,
          "min": 0.02,
          "quantiles": "20-80",
          "timestamp": "06:15:00"
         },
         {
          "ID": 1,
          "max": 0.104,
          "min": 0.02,
          "quantiles": "20-80",
          "timestamp": "06:30:00"
         },
         {
          "ID": 1,
          "max": 0.11,
          "min": 0.02,
          "quantiles": "20-80",
          "timestamp": "06:45:00"
         },
         {
          "ID": 1,
          "max": 0.11,
          "min": 0.02,
          "quantiles": "20-80",
          "timestamp": "07:00:00"
         },
         {
          "ID": 1,
          "max": 0.11,
          "min": 0.02,
          "quantiles": "20-80",
          "timestamp": "07:15:00"
         },
         {
          "ID": 1,
          "max": 0.112147,
          "min": 0.019,
          "quantiles": "20-80",
          "timestamp": "07:30:00"
         },
         {
          "ID": 1,
          "max": 0.116,
          "min": 0.018,
          "quantiles": "20-80",
          "timestamp": "07:45:00"
         },
         {
          "ID": 1,
          "max": 0.12,
          "min": 0.017,
          "quantiles": "20-80",
          "timestamp": "08:00:00"
         },
         {
          "ID": 1,
          "max": 0.12,
          "min": 0.016,
          "quantiles": "20-80",
          "timestamp": "08:15:00"
         },
         {
          "ID": 1,
          "max": 0.12,
          "min": 0.014,
          "quantiles": "20-80",
          "timestamp": "08:30:00"
         },
         {
          "ID": 1,
          "max": 0.118,
          "min": 0.01121,
          "quantiles": "20-80",
          "timestamp": "08:45:00"
         },
         {
          "ID": 1,
          "max": 0.116,
          "min": 0.01,
          "quantiles": "20-80",
          "timestamp": "09:00:00"
         },
         {
          "ID": 1,
          "max": 0.118,
          "min": 0.01,
          "quantiles": "20-80",
          "timestamp": "09:15:00"
         },
         {
          "ID": 1,
          "max": 0.118,
          "min": 0.01,
          "quantiles": "20-80",
          "timestamp": "09:30:00"
         },
         {
          "ID": 1,
          "max": 0.117,
          "min": 0.01,
          "quantiles": "20-80",
          "timestamp": "09:45:00"
         },
         {
          "ID": 1,
          "max": 0.12,
          "min": 0.01,
          "quantiles": "20-80",
          "timestamp": "10:00:00"
         },
         {
          "ID": 1,
          "max": 0.12,
          "min": 0.01,
          "quantiles": "20-80",
          "timestamp": "10:15:00"
         },
         {
          "ID": 1,
          "max": 0.12,
          "min": 0.01,
          "quantiles": "20-80",
          "timestamp": "10:30:00"
         },
         {
          "ID": 1,
          "max": 0.12,
          "min": 0.01,
          "quantiles": "20-80",
          "timestamp": "10:45:00"
         },
         {
          "ID": 1,
          "max": 0.12,
          "min": 0.01,
          "quantiles": "20-80",
          "timestamp": "11:00:00"
         },
         {
          "ID": 1,
          "max": 0.12,
          "min": 0.01,
          "quantiles": "20-80",
          "timestamp": "11:15:00"
         },
         {
          "ID": 1,
          "max": 0.12,
          "min": 0.01,
          "quantiles": "20-80",
          "timestamp": "11:30:00"
         },
         {
          "ID": 1,
          "max": 0.122,
          "min": 0.01,
          "quantiles": "20-80",
          "timestamp": "11:45:00"
         },
         {
          "ID": 1,
          "max": 0.13,
          "min": 0.01,
          "quantiles": "20-80",
          "timestamp": "12:00:00"
         },
         {
          "ID": 1,
          "max": 0.13,
          "min": 0.01,
          "quantiles": "20-80",
          "timestamp": "12:15:00"
         },
         {
          "ID": 1,
          "max": 0.129,
          "min": 0.01,
          "quantiles": "20-80",
          "timestamp": "12:30:00"
         },
         {
          "ID": 1,
          "max": 0.12,
          "min": 0.01,
          "quantiles": "20-80",
          "timestamp": "12:45:00"
         },
         {
          "ID": 1,
          "max": 0.114,
          "min": 0.01,
          "quantiles": "20-80",
          "timestamp": "13:00:00"
         },
         {
          "ID": 1,
          "max": 0.11,
          "min": 0.01,
          "quantiles": "20-80",
          "timestamp": "13:15:00"
         },
         {
          "ID": 1,
          "max": 0.11,
          "min": 0.01,
          "quantiles": "20-80",
          "timestamp": "13:30:00"
         },
         {
          "ID": 1,
          "max": 0.11,
          "min": 0.01,
          "quantiles": "20-80",
          "timestamp": "13:45:00"
         },
         {
          "ID": 1,
          "max": 0.11,
          "min": 0.01,
          "quantiles": "20-80",
          "timestamp": "14:00:00"
         },
         {
          "ID": 1,
          "max": 0.11,
          "min": 0.01,
          "quantiles": "20-80",
          "timestamp": "14:15:00"
         },
         {
          "ID": 1,
          "max": 0.11,
          "min": 0.01,
          "quantiles": "20-80",
          "timestamp": "14:30:00"
         },
         {
          "ID": 1,
          "max": 0.112,
          "min": 0.012,
          "quantiles": "20-80",
          "timestamp": "14:45:00"
         },
         {
          "ID": 1,
          "max": 0.12,
          "min": 0.015,
          "quantiles": "20-80",
          "timestamp": "15:00:00"
         },
         {
          "ID": 1,
          "max": 0.123,
          "min": 0.019,
          "quantiles": "20-80",
          "timestamp": "15:15:00"
         },
         {
          "ID": 1,
          "max": 0.13,
          "min": 0.02,
          "quantiles": "20-80",
          "timestamp": "15:30:00"
         },
         {
          "ID": 1,
          "max": 0.138,
          "min": 0.02,
          "quantiles": "20-80",
          "timestamp": "15:45:00"
         },
         {
          "ID": 1,
          "max": 0.145,
          "min": 0.02,
          "quantiles": "20-80",
          "timestamp": "16:00:00"
         },
         {
          "ID": 1,
          "max": 0.156,
          "min": 0.02,
          "quantiles": "20-80",
          "timestamp": "16:15:00"
         },
         {
          "ID": 1,
          "max": 0.162,
          "min": 0.02,
          "quantiles": "20-80",
          "timestamp": "16:30:00"
         },
         {
          "ID": 1,
          "max": 0.169,
          "min": 0.02,
          "quantiles": "20-80",
          "timestamp": "16:45:00"
         },
         {
          "ID": 1,
          "max": 0.173,
          "min": 0.025,
          "quantiles": "20-80",
          "timestamp": "17:00:00"
         },
         {
          "ID": 1,
          "max": 0.178,
          "min": 0.029,
          "quantiles": "20-80",
          "timestamp": "17:15:00"
         },
         {
          "ID": 1,
          "max": 0.18,
          "min": 0.03,
          "quantiles": "20-80",
          "timestamp": "17:30:00"
         },
         {
          "ID": 1,
          "max": 0.182,
          "min": 0.03,
          "quantiles": "20-80",
          "timestamp": "17:45:00"
         },
         {
          "ID": 1,
          "max": 0.183,
          "min": 0.03,
          "quantiles": "20-80",
          "timestamp": "18:00:00"
         },
         {
          "ID": 1,
          "max": 0.181,
          "min": 0.03,
          "quantiles": "20-80",
          "timestamp": "18:15:00"
         },
         {
          "ID": 1,
          "max": 0.18,
          "min": 0.035,
          "quantiles": "20-80",
          "timestamp": "18:30:00"
         },
         {
          "ID": 1,
          "max": 0.178,
          "min": 0.038,
          "quantiles": "20-80",
          "timestamp": "18:45:00"
         },
         {
          "ID": 1,
          "max": 0.176,
          "min": 0.04,
          "quantiles": "20-80",
          "timestamp": "19:00:00"
         },
         {
          "ID": 1,
          "max": 0.172,
          "min": 0.04,
          "quantiles": "20-80",
          "timestamp": "19:15:00"
         },
         {
          "ID": 1,
          "max": 0.169,
          "min": 0.04,
          "quantiles": "20-80",
          "timestamp": "19:30:00"
         },
         {
          "ID": 1,
          "max": 0.161085,
          "min": 0.04,
          "quantiles": "20-80",
          "timestamp": "19:45:00"
         },
         {
          "ID": 1,
          "max": 0.158,
          "min": 0.04,
          "quantiles": "20-80",
          "timestamp": "20:00:00"
         },
         {
          "ID": 1,
          "max": 0.15,
          "min": 0.04,
          "quantiles": "20-80",
          "timestamp": "20:15:00"
         },
         {
          "ID": 1,
          "max": 0.15,
          "min": 0.04,
          "quantiles": "20-80",
          "timestamp": "20:30:00"
         },
         {
          "ID": 1,
          "max": 0.143,
          "min": 0.04,
          "quantiles": "20-80",
          "timestamp": "20:45:00"
         },
         {
          "ID": 1,
          "max": 0.14,
          "min": 0.04,
          "quantiles": "20-80",
          "timestamp": "21:00:00"
         },
         {
          "ID": 1,
          "max": 0.137,
          "min": 0.039,
          "quantiles": "20-80",
          "timestamp": "21:15:00"
         },
         {
          "ID": 1,
          "max": 0.13,
          "min": 0.036,
          "quantiles": "20-80",
          "timestamp": "21:30:00"
         },
         {
          "ID": 1,
          "max": 0.13,
          "min": 0.035,
          "quantiles": "20-80",
          "timestamp": "21:45:00"
         },
         {
          "ID": 1,
          "max": 0.13,
          "min": 0.033,
          "quantiles": "20-80",
          "timestamp": "22:00:00"
         },
         {
          "ID": 1,
          "max": 0.13,
          "min": 0.032,
          "quantiles": "20-80",
          "timestamp": "22:15:00"
         },
         {
          "ID": 1,
          "max": 0.12,
          "min": 0.03,
          "quantiles": "20-80",
          "timestamp": "22:30:00"
         },
         {
          "ID": 1,
          "max": 0.115,
          "min": 0.03,
          "quantiles": "20-80",
          "timestamp": "22:45:00"
         },
         {
          "ID": 1,
          "max": 0.112,
          "min": 0.03,
          "quantiles": "20-80",
          "timestamp": "23:00:00"
         },
         {
          "ID": 1,
          "max": 0.108,
          "min": 0.029,
          "quantiles": "20-80",
          "timestamp": "23:15:00"
         },
         {
          "ID": 1,
          "max": 0.1,
          "min": 0.027,
          "quantiles": "20-80",
          "timestamp": "23:30:00"
         },
         {
          "ID": 1,
          "max": 0.094,
          "min": 0.025,
          "quantiles": "20-80",
          "timestamp": "23:45:00"
         },
         {
          "ID": 1,
          "max": 1,
          "min": 1,
          "quantiles": "25-75",
          "timestamp": "ID"
         },
         {
          "ID": 1,
          "max": 0.08,
          "min": 0.03,
          "quantiles": "25-75",
          "timestamp": "00:00:00"
         },
         {
          "ID": 1,
          "max": 0.077,
          "min": 0.029,
          "quantiles": "25-75",
          "timestamp": "00:15:00"
         },
         {
          "ID": 1,
          "max": 0.072,
          "min": 0.028,
          "quantiles": "25-75",
          "timestamp": "00:30:00"
         },
         {
          "ID": 1,
          "max": 0.071,
          "min": 0.026,
          "quantiles": "25-75",
          "timestamp": "00:45:00"
         },
         {
          "ID": 1,
          "max": 0.071,
          "min": 0.026,
          "quantiles": "25-75",
          "timestamp": "01:00:00"
         },
         {
          "ID": 1,
          "max": 0.07,
          "min": 0.025,
          "quantiles": "25-75",
          "timestamp": "01:15:00"
         },
         {
          "ID": 1,
          "max": 0.07,
          "min": 0.025,
          "quantiles": "25-75",
          "timestamp": "01:30:00"
         },
         {
          "ID": 1,
          "max": 0.068,
          "min": 0.024,
          "quantiles": "25-75",
          "timestamp": "01:45:00"
         },
         {
          "ID": 1,
          "max": 0.068,
          "min": 0.023,
          "quantiles": "25-75",
          "timestamp": "02:00:00"
         },
         {
          "ID": 1,
          "max": 0.067,
          "min": 0.023,
          "quantiles": "25-75",
          "timestamp": "02:15:00"
         },
         {
          "ID": 1,
          "max": 0.066,
          "min": 0.023,
          "quantiles": "25-75",
          "timestamp": "02:30:00"
         },
         {
          "ID": 1,
          "max": 0.066,
          "min": 0.022,
          "quantiles": "25-75",
          "timestamp": "02:45:00"
         },
         {
          "ID": 1,
          "max": 0.066,
          "min": 0.022,
          "quantiles": "25-75",
          "timestamp": "03:00:00"
         },
         {
          "ID": 1,
          "max": 0.066,
          "min": 0.022,
          "quantiles": "25-75",
          "timestamp": "03:15:00"
         },
         {
          "ID": 1,
          "max": 0.066,
          "min": 0.022,
          "quantiles": "25-75",
          "timestamp": "03:30:00"
         },
         {
          "ID": 1,
          "max": 0.066,
          "min": 0.022,
          "quantiles": "25-75",
          "timestamp": "03:45:00"
         },
         {
          "ID": 1,
          "max": 0.067,
          "min": 0.021,
          "quantiles": "25-75",
          "timestamp": "04:00:00"
         },
         {
          "ID": 1,
          "max": 0.068,
          "min": 0.02,
          "quantiles": "25-75",
          "timestamp": "04:15:00"
         },
         {
          "ID": 1,
          "max": 0.068,
          "min": 0.02,
          "quantiles": "25-75",
          "timestamp": "04:30:00"
         },
         {
          "ID": 1,
          "max": 0.069,
          "min": 0.02,
          "quantiles": "25-75",
          "timestamp": "04:45:00"
         },
         {
          "ID": 1,
          "max": 0.07,
          "min": 0.02,
          "quantiles": "25-75",
          "timestamp": "05:00:00"
         },
         {
          "ID": 1,
          "max": 0.071,
          "min": 0.02,
          "quantiles": "25-75",
          "timestamp": "05:15:00"
         },
         {
          "ID": 1,
          "max": 0.076,
          "min": 0.02,
          "quantiles": "25-75",
          "timestamp": "05:30:00"
         },
         {
          "ID": 1,
          "max": 0.08,
          "min": 0.02,
          "quantiles": "25-75",
          "timestamp": "05:45:00"
         },
         {
          "ID": 1,
          "max": 0.08,
          "min": 0.02,
          "quantiles": "25-75",
          "timestamp": "06:00:00"
         },
         {
          "ID": 1,
          "max": 0.083,
          "min": 0.02,
          "quantiles": "25-75",
          "timestamp": "06:15:00"
         },
         {
          "ID": 1,
          "max": 0.086,
          "min": 0.02,
          "quantiles": "25-75",
          "timestamp": "06:30:00"
         },
         {
          "ID": 1,
          "max": 0.09,
          "min": 0.02,
          "quantiles": "25-75",
          "timestamp": "06:45:00"
         },
         {
          "ID": 1,
          "max": 0.09,
          "min": 0.02,
          "quantiles": "25-75",
          "timestamp": "07:00:00"
         },
         {
          "ID": 1,
          "max": 0.092,
          "min": 0.02,
          "quantiles": "25-75",
          "timestamp": "07:15:00"
         },
         {
          "ID": 1,
          "max": 0.093,
          "min": 0.02,
          "quantiles": "25-75",
          "timestamp": "07:30:00"
         },
         {
          "ID": 1,
          "max": 0.095,
          "min": 0.02,
          "quantiles": "25-75",
          "timestamp": "07:45:00"
         },
         {
          "ID": 1,
          "max": 0.098,
          "min": 0.02,
          "quantiles": "25-75",
          "timestamp": "08:00:00"
         },
         {
          "ID": 1,
          "max": 0.099,
          "min": 0.02,
          "quantiles": "25-75",
          "timestamp": "08:15:00"
         },
         {
          "ID": 1,
          "max": 0.097,
          "min": 0.02,
          "quantiles": "25-75",
          "timestamp": "08:30:00"
         },
         {
          "ID": 1,
          "max": 0.092,
          "min": 0.02,
          "quantiles": "25-75",
          "timestamp": "08:45:00"
         },
         {
          "ID": 1,
          "max": 0.091,
          "min": 0.02,
          "quantiles": "25-75",
          "timestamp": "09:00:00"
         },
         {
          "ID": 1,
          "max": 0.092,
          "min": 0.02,
          "quantiles": "25-75",
          "timestamp": "09:15:00"
         },
         {
          "ID": 1,
          "max": 0.091,
          "min": 0.02,
          "quantiles": "25-75",
          "timestamp": "09:30:00"
         },
         {
          "ID": 1,
          "max": 0.09,
          "min": 0.02,
          "quantiles": "25-75",
          "timestamp": "09:45:00"
         },
         {
          "ID": 1,
          "max": 0.091,
          "min": 0.02,
          "quantiles": "25-75",
          "timestamp": "10:00:00"
         },
         {
          "ID": 1,
          "max": 0.093,
          "min": 0.02,
          "quantiles": "25-75",
          "timestamp": "10:15:00"
         },
         {
          "ID": 1,
          "max": 0.092,
          "min": 0.02,
          "quantiles": "25-75",
          "timestamp": "10:30:00"
         },
         {
          "ID": 1,
          "max": 0.092,
          "min": 0.02,
          "quantiles": "25-75",
          "timestamp": "10:45:00"
         },
         {
          "ID": 1,
          "max": 0.093,
          "min": 0.019,
          "quantiles": "25-75",
          "timestamp": "11:00:00"
         },
         {
          "ID": 1,
          "max": 0.095,
          "min": 0.019,
          "quantiles": "25-75",
          "timestamp": "11:15:00"
         },
         {
          "ID": 1,
          "max": 0.096,
          "min": 0.018,
          "quantiles": "25-75",
          "timestamp": "11:30:00"
         },
         {
          "ID": 1,
          "max": 0.097,
          "min": 0.018,
          "quantiles": "25-75",
          "timestamp": "11:45:00"
         },
         {
          "ID": 1,
          "max": 0.1,
          "min": 0.019,
          "quantiles": "25-75",
          "timestamp": "12:00:00"
         },
         {
          "ID": 1,
          "max": 0.1,
          "min": 0.019,
          "quantiles": "25-75",
          "timestamp": "12:15:00"
         },
         {
          "ID": 1,
          "max": 0.1,
          "min": 0.01975,
          "quantiles": "25-75",
          "timestamp": "12:30:00"
         },
         {
          "ID": 1,
          "max": 0.097,
          "min": 0.02,
          "quantiles": "25-75",
          "timestamp": "12:45:00"
         },
         {
          "ID": 1,
          "max": 0.09,
          "min": 0.02,
          "quantiles": "25-75",
          "timestamp": "13:00:00"
         },
         {
          "ID": 1,
          "max": 0.09,
          "min": 0.02,
          "quantiles": "25-75",
          "timestamp": "13:15:00"
         },
         {
          "ID": 1,
          "max": 0.09,
          "min": 0.02,
          "quantiles": "25-75",
          "timestamp": "13:30:00"
         },
         {
          "ID": 1,
          "max": 0.09,
          "min": 0.02,
          "quantiles": "25-75",
          "timestamp": "13:45:00"
         },
         {
          "ID": 1,
          "max": 0.09,
          "min": 0.02,
          "quantiles": "25-75",
          "timestamp": "14:00:00"
         },
         {
          "ID": 1,
          "max": 0.09,
          "min": 0.02,
          "quantiles": "25-75",
          "timestamp": "14:15:00"
         },
         {
          "ID": 1,
          "max": 0.09,
          "min": 0.02,
          "quantiles": "25-75",
          "timestamp": "14:30:00"
         },
         {
          "ID": 1,
          "max": 0.09,
          "min": 0.02,
          "quantiles": "25-75",
          "timestamp": "14:45:00"
         },
         {
          "ID": 1,
          "max": 0.096,
          "min": 0.02,
          "quantiles": "25-75",
          "timestamp": "15:00:00"
         },
         {
          "ID": 1,
          "max": 0.1,
          "min": 0.02,
          "quantiles": "25-75",
          "timestamp": "15:15:00"
         },
         {
          "ID": 1,
          "max": 0.103,
          "min": 0.02,
          "quantiles": "25-75",
          "timestamp": "15:30:00"
         },
         {
          "ID": 1,
          "max": 0.11,
          "min": 0.021,
          "quantiles": "25-75",
          "timestamp": "15:45:00"
         },
         {
          "ID": 1,
          "max": 0.116,
          "min": 0.026,
          "quantiles": "25-75",
          "timestamp": "16:00:00"
         },
         {
          "ID": 1,
          "max": 0.122,
          "min": 0.03,
          "quantiles": "25-75",
          "timestamp": "16:15:00"
         },
         {
          "ID": 1,
          "max": 0.13,
          "min": 0.03,
          "quantiles": "25-75",
          "timestamp": "16:30:00"
         },
         {
          "ID": 1,
          "max": 0.132,
          "min": 0.03,
          "quantiles": "25-75",
          "timestamp": "16:45:00"
         },
         {
          "ID": 1,
          "max": 0.139,
          "min": 0.03,
          "quantiles": "25-75",
          "timestamp": "17:00:00"
         },
         {
          "ID": 1,
          "max": 0.14,
          "min": 0.03,
          "quantiles": "25-75",
          "timestamp": "17:15:00"
         },
         {
          "ID": 1,
          "max": 0.147,
          "min": 0.033,
          "quantiles": "25-75",
          "timestamp": "17:30:00"
         },
         {
          "ID": 1,
          "max": 0.15,
          "min": 0.038,
          "quantiles": "25-75",
          "timestamp": "17:45:00"
         },
         {
          "ID": 1,
          "max": 0.15,
          "min": 0.04,
          "quantiles": "25-75",
          "timestamp": "18:00:00"
         },
         {
          "ID": 1,
          "max": 0.15,
          "min": 0.04,
          "quantiles": "25-75",
          "timestamp": "18:15:00"
         },
         {
          "ID": 1,
          "max": 0.148,
          "min": 0.04,
          "quantiles": "25-75",
          "timestamp": "18:30:00"
         },
         {
          "ID": 1,
          "max": 0.147,
          "min": 0.04,
          "quantiles": "25-75",
          "timestamp": "18:45:00"
         },
         {
          "ID": 1,
          "max": 0.147,
          "min": 0.043,
          "quantiles": "25-75",
          "timestamp": "19:00:00"
         },
         {
          "ID": 1,
          "max": 0.144,
          "min": 0.046,
          "quantiles": "25-75",
          "timestamp": "19:15:00"
         },
         {
          "ID": 1,
          "max": 0.14,
          "min": 0.048,
          "quantiles": "25-75",
          "timestamp": "19:30:00"
         },
         {
          "ID": 1,
          "max": 0.14,
          "min": 0.049,
          "quantiles": "25-75",
          "timestamp": "19:45:00"
         },
         {
          "ID": 1,
          "max": 0.134,
          "min": 0.048,
          "quantiles": "25-75",
          "timestamp": "20:00:00"
         },
         {
          "ID": 1,
          "max": 0.13,
          "min": 0.047,
          "quantiles": "25-75",
          "timestamp": "20:15:00"
         },
         {
          "ID": 1,
          "max": 0.13,
          "min": 0.046,
          "quantiles": "25-75",
          "timestamp": "20:30:00"
         },
         {
          "ID": 1,
          "max": 0.124,
          "min": 0.045,
          "quantiles": "25-75",
          "timestamp": "20:45:00"
         },
         {
          "ID": 1,
          "max": 0.12,
          "min": 0.042,
          "quantiles": "25-75",
          "timestamp": "21:00:00"
         },
         {
          "ID": 1,
          "max": 0.12,
          "min": 0.04,
          "quantiles": "25-75",
          "timestamp": "21:15:00"
         },
         {
          "ID": 1,
          "max": 0.116,
          "min": 0.04,
          "quantiles": "25-75",
          "timestamp": "21:30:00"
         },
         {
          "ID": 1,
          "max": 0.11,
          "min": 0.04,
          "quantiles": "25-75",
          "timestamp": "21:45:00"
         },
         {
          "ID": 1,
          "max": 0.111,
          "min": 0.04,
          "quantiles": "25-75",
          "timestamp": "22:00:00"
         },
         {
          "ID": 1,
          "max": 0.11,
          "min": 0.04,
          "quantiles": "25-75",
          "timestamp": "22:15:00"
         },
         {
          "ID": 1,
          "max": 0.104,
          "min": 0.037,
          "quantiles": "25-75",
          "timestamp": "22:30:00"
         },
         {
          "ID": 1,
          "max": 0.1,
          "min": 0.034,
          "quantiles": "25-75",
          "timestamp": "22:45:00"
         },
         {
          "ID": 1,
          "max": 0.099,
          "min": 0.032,
          "quantiles": "25-75",
          "timestamp": "23:00:00"
         },
         {
          "ID": 1,
          "max": 0.09,
          "min": 0.03,
          "quantiles": "25-75",
          "timestamp": "23:15:00"
         },
         {
          "ID": 1,
          "max": 0.087,
          "min": 0.03,
          "quantiles": "25-75",
          "timestamp": "23:30:00"
         },
         {
          "ID": 1,
          "max": 0.081,
          "min": 0.03,
          "quantiles": "25-75",
          "timestamp": "23:45:00"
         },
         {
          "ID": 1,
          "max": 1,
          "min": 1,
          "quantiles": "30-70",
          "timestamp": "ID"
         },
         {
          "ID": 1,
          "max": 0.07,
          "min": 0.03,
          "quantiles": "30-70",
          "timestamp": "00:00:00"
         },
         {
          "ID": 1,
          "max": 0.07,
          "min": 0.03,
          "quantiles": "30-70",
          "timestamp": "00:15:00"
         },
         {
          "ID": 1,
          "max": 0.066,
          "min": 0.03,
          "quantiles": "30-70",
          "timestamp": "00:30:00"
         },
         {
          "ID": 1,
          "max": 0.065,
          "min": 0.03,
          "quantiles": "30-70",
          "timestamp": "00:45:00"
         },
         {
          "ID": 1,
          "max": 0.064,
          "min": 0.03,
          "quantiles": "30-70",
          "timestamp": "01:00:00"
         },
         {
          "ID": 1,
          "max": 0.062,
          "min": 0.03,
          "quantiles": "30-70",
          "timestamp": "01:15:00"
         },
         {
          "ID": 1,
          "max": 0.06,
          "min": 0.03,
          "quantiles": "30-70",
          "timestamp": "01:30:00"
         },
         {
          "ID": 1,
          "max": 0.06,
          "min": 0.03,
          "quantiles": "30-70",
          "timestamp": "01:45:00"
         },
         {
          "ID": 1,
          "max": 0.06,
          "min": 0.03,
          "quantiles": "30-70",
          "timestamp": "02:00:00"
         },
         {
          "ID": 1,
          "max": 0.06,
          "min": 0.03,
          "quantiles": "30-70",
          "timestamp": "02:15:00"
         },
         {
          "ID": 1,
          "max": 0.06,
          "min": 0.029,
          "quantiles": "30-70",
          "timestamp": "02:30:00"
         },
         {
          "ID": 1,
          "max": 0.06,
          "min": 0.029,
          "quantiles": "30-70",
          "timestamp": "02:45:00"
         },
         {
          "ID": 1,
          "max": 0.06,
          "min": 0.029,
          "quantiles": "30-70",
          "timestamp": "03:00:00"
         },
         {
          "ID": 1,
          "max": 0.06,
          "min": 0.029,
          "quantiles": "30-70",
          "timestamp": "03:15:00"
         },
         {
          "ID": 1,
          "max": 0.06,
          "min": 0.029,
          "quantiles": "30-70",
          "timestamp": "03:30:00"
         },
         {
          "ID": 1,
          "max": 0.06,
          "min": 0.029,
          "quantiles": "30-70",
          "timestamp": "03:45:00"
         },
         {
          "ID": 1,
          "max": 0.06,
          "min": 0.028,
          "quantiles": "30-70",
          "timestamp": "04:00:00"
         },
         {
          "ID": 1,
          "max": 0.06,
          "min": 0.028,
          "quantiles": "30-70",
          "timestamp": "04:15:00"
         },
         {
          "ID": 1,
          "max": 0.06,
          "min": 0.027,
          "quantiles": "30-70",
          "timestamp": "04:30:00"
         },
         {
          "ID": 1,
          "max": 0.06,
          "min": 0.027,
          "quantiles": "30-70",
          "timestamp": "04:45:00"
         },
         {
          "ID": 1,
          "max": 0.06,
          "min": 0.028,
          "quantiles": "30-70",
          "timestamp": "05:00:00"
         },
         {
          "ID": 1,
          "max": 0.061,
          "min": 0.028,
          "quantiles": "30-70",
          "timestamp": "05:15:00"
         },
         {
          "ID": 1,
          "max": 0.065,
          "min": 0.026,
          "quantiles": "30-70",
          "timestamp": "05:30:00"
         },
         {
          "ID": 1,
          "max": 0.069,
          "min": 0.026,
          "quantiles": "30-70",
          "timestamp": "05:45:00"
         },
         {
          "ID": 1,
          "max": 0.07,
          "min": 0.026,
          "quantiles": "30-70",
          "timestamp": "06:00:00"
         },
         {
          "ID": 1,
          "max": 0.07,
          "min": 0.027,
          "quantiles": "30-70",
          "timestamp": "06:15:00"
         },
         {
          "ID": 1,
          "max": 0.072,
          "min": 0.027,
          "quantiles": "30-70",
          "timestamp": "06:30:00"
         },
         {
          "ID": 1,
          "max": 0.077,
          "min": 0.028,
          "quantiles": "30-70",
          "timestamp": "06:45:00"
         },
         {
          "ID": 1,
          "max": 0.08,
          "min": 0.028,
          "quantiles": "30-70",
          "timestamp": "07:00:00"
         },
         {
          "ID": 1,
          "max": 0.08,
          "min": 0.028,
          "quantiles": "30-70",
          "timestamp": "07:15:00"
         },
         {
          "ID": 1,
          "max": 0.08,
          "min": 0.028,
          "quantiles": "30-70",
          "timestamp": "07:30:00"
         },
         {
          "ID": 1,
          "max": 0.08,
          "min": 0.028,
          "quantiles": "30-70",
          "timestamp": "07:45:00"
         },
         {
          "ID": 1,
          "max": 0.08,
          "min": 0.028,
          "quantiles": "30-70",
          "timestamp": "08:00:00"
         },
         {
          "ID": 1,
          "max": 0.08,
          "min": 0.027,
          "quantiles": "30-70",
          "timestamp": "08:15:00"
         },
         {
          "ID": 1,
          "max": 0.08,
          "min": 0.026,
          "quantiles": "30-70",
          "timestamp": "08:30:00"
         },
         {
          "ID": 1,
          "max": 0.08,
          "min": 0.023,
          "quantiles": "30-70",
          "timestamp": "08:45:00"
         },
         {
          "ID": 1,
          "max": 0.08,
          "min": 0.021,
          "quantiles": "30-70",
          "timestamp": "09:00:00"
         },
         {
          "ID": 1,
          "max": 0.08,
          "min": 0.02,
          "quantiles": "30-70",
          "timestamp": "09:15:00"
         },
         {
          "ID": 1,
          "max": 0.08,
          "min": 0.02,
          "quantiles": "30-70",
          "timestamp": "09:30:00"
         },
         {
          "ID": 1,
          "max": 0.078,
          "min": 0.02,
          "quantiles": "30-70",
          "timestamp": "09:45:00"
         },
         {
          "ID": 1,
          "max": 0.08,
          "min": 0.02,
          "quantiles": "30-70",
          "timestamp": "10:00:00"
         },
         {
          "ID": 1,
          "max": 0.08,
          "min": 0.02,
          "quantiles": "30-70",
          "timestamp": "10:15:00"
         },
         {
          "ID": 1,
          "max": 0.079,
          "min": 0.02,
          "quantiles": "30-70",
          "timestamp": "10:30:00"
         },
         {
          "ID": 1,
          "max": 0.08,
          "min": 0.02,
          "quantiles": "30-70",
          "timestamp": "10:45:00"
         },
         {
          "ID": 1,
          "max": 0.08,
          "min": 0.02,
          "quantiles": "30-70",
          "timestamp": "11:00:00"
         },
         {
          "ID": 1,
          "max": 0.08,
          "min": 0.02,
          "quantiles": "30-70",
          "timestamp": "11:15:00"
         },
         {
          "ID": 1,
          "max": 0.08,
          "min": 0.02,
          "quantiles": "30-70",
          "timestamp": "11:30:00"
         },
         {
          "ID": 1,
          "max": 0.08,
          "min": 0.02,
          "quantiles": "30-70",
          "timestamp": "11:45:00"
         },
         {
          "ID": 1,
          "max": 0.08,
          "min": 0.02,
          "quantiles": "30-70",
          "timestamp": "12:00:00"
         },
         {
          "ID": 1,
          "max": 0.08,
          "min": 0.02,
          "quantiles": "30-70",
          "timestamp": "12:15:00"
         },
         {
          "ID": 1,
          "max": 0.08,
          "min": 0.02,
          "quantiles": "30-70",
          "timestamp": "12:30:00"
         },
         {
          "ID": 1,
          "max": 0.08,
          "min": 0.02,
          "quantiles": "30-70",
          "timestamp": "12:45:00"
         },
         {
          "ID": 1,
          "max": 0.08,
          "min": 0.02,
          "quantiles": "30-70",
          "timestamp": "13:00:00"
         },
         {
          "ID": 1,
          "max": 0.077,
          "min": 0.02,
          "quantiles": "30-70",
          "timestamp": "13:15:00"
         },
         {
          "ID": 1,
          "max": 0.076,
          "min": 0.02,
          "quantiles": "30-70",
          "timestamp": "13:30:00"
         },
         {
          "ID": 1,
          "max": 0.078,
          "min": 0.02,
          "quantiles": "30-70",
          "timestamp": "13:45:00"
         },
         {
          "ID": 1,
          "max": 0.075,
          "min": 0.02,
          "quantiles": "30-70",
          "timestamp": "14:00:00"
         },
         {
          "ID": 1,
          "max": 0.076,
          "min": 0.02,
          "quantiles": "30-70",
          "timestamp": "14:15:00"
         },
         {
          "ID": 1,
          "max": 0.078,
          "min": 0.021,
          "quantiles": "30-70",
          "timestamp": "14:30:00"
         },
         {
          "ID": 1,
          "max": 0.08,
          "min": 0.023,
          "quantiles": "30-70",
          "timestamp": "14:45:00"
         },
         {
          "ID": 1,
          "max": 0.08,
          "min": 0.027,
          "quantiles": "30-70",
          "timestamp": "15:00:00"
         },
         {
          "ID": 1,
          "max": 0.083,
          "min": 0.03,
          "quantiles": "30-70",
          "timestamp": "15:15:00"
         },
         {
          "ID": 1,
          "max": 0.088,
          "min": 0.03,
          "quantiles": "30-70",
          "timestamp": "15:30:00"
         },
         {
          "ID": 1,
          "max": 0.09,
          "min": 0.03,
          "quantiles": "30-70",
          "timestamp": "15:45:00"
         },
         {
          "ID": 1,
          "max": 0.096,
          "min": 0.03,
          "quantiles": "30-70",
          "timestamp": "16:00:00"
         },
         {
          "ID": 1,
          "max": 0.1,
          "min": 0.03,
          "quantiles": "30-70",
          "timestamp": "16:15:00"
         },
         {
          "ID": 1,
          "max": 0.107,
          "min": 0.03,
          "quantiles": "30-70",
          "timestamp": "16:30:00"
         },
         {
          "ID": 1,
          "max": 0.11,
          "min": 0.034,
          "quantiles": "30-70",
          "timestamp": "16:45:00"
         },
         {
          "ID": 1,
          "max": 0.113,
          "min": 0.039,
          "quantiles": "30-70",
          "timestamp": "17:00:00"
         },
         {
          "ID": 1,
          "max": 0.12,
          "min": 0.04,
          "quantiles": "30-70",
          "timestamp": "17:15:00"
         },
         {
          "ID": 1,
          "max": 0.121,
          "min": 0.04,
          "quantiles": "30-70",
          "timestamp": "17:30:00"
         },
         {
          "ID": 1,
          "max": 0.125,
          "min": 0.04,
          "quantiles": "30-70",
          "timestamp": "17:45:00"
         },
         {
          "ID": 1,
          "max": 0.127,
          "min": 0.043,
          "quantiles": "30-70",
          "timestamp": "18:00:00"
         },
         {
          "ID": 1,
          "max": 0.127,
          "min": 0.046,
          "quantiles": "30-70",
          "timestamp": "18:15:00"
         },
         {
          "ID": 1,
          "max": 0.127,
          "min": 0.05,
          "quantiles": "30-70",
          "timestamp": "18:30:00"
         },
         {
          "ID": 1,
          "max": 0.127,
          "min": 0.05,
          "quantiles": "30-70",
          "timestamp": "18:45:00"
         },
         {
          "ID": 1,
          "max": 0.127,
          "min": 0.05,
          "quantiles": "30-70",
          "timestamp": "19:00:00"
         },
         {
          "ID": 1,
          "max": 0.127,
          "min": 0.05,
          "quantiles": "30-70",
          "timestamp": "19:15:00"
         },
         {
          "ID": 1,
          "max": 0.122,
          "min": 0.05,
          "quantiles": "30-70",
          "timestamp": "19:30:00"
         },
         {
          "ID": 1,
          "max": 0.122,
          "min": 0.05,
          "quantiles": "30-70",
          "timestamp": "19:45:00"
         },
         {
          "ID": 1,
          "max": 0.12,
          "min": 0.05,
          "quantiles": "30-70",
          "timestamp": "20:00:00"
         },
         {
          "ID": 1,
          "max": 0.116,
          "min": 0.05,
          "quantiles": "30-70",
          "timestamp": "20:15:00"
         },
         {
          "ID": 1,
          "max": 0.113,
          "min": 0.05,
          "quantiles": "30-70",
          "timestamp": "20:30:00"
         },
         {
          "ID": 1,
          "max": 0.11,
          "min": 0.05,
          "quantiles": "30-70",
          "timestamp": "20:45:00"
         },
         {
          "ID": 1,
          "max": 0.11,
          "min": 0.05,
          "quantiles": "30-70",
          "timestamp": "21:00:00"
         },
         {
          "ID": 1,
          "max": 0.107,
          "min": 0.05,
          "quantiles": "30-70",
          "timestamp": "21:15:00"
         },
         {
          "ID": 1,
          "max": 0.102,
          "min": 0.049,
          "quantiles": "30-70",
          "timestamp": "21:30:00"
         },
         {
          "ID": 1,
          "max": 0.1,
          "min": 0.046,
          "quantiles": "30-70",
          "timestamp": "21:45:00"
         },
         {
          "ID": 1,
          "max": 0.1,
          "min": 0.044,
          "quantiles": "30-70",
          "timestamp": "22:00:00"
         },
         {
          "ID": 1,
          "max": 0.099,
          "min": 0.041,
          "quantiles": "30-70",
          "timestamp": "22:15:00"
         },
         {
          "ID": 1,
          "max": 0.09,
          "min": 0.04,
          "quantiles": "30-70",
          "timestamp": "22:30:00"
         },
         {
          "ID": 1,
          "max": 0.09,
          "min": 0.04,
          "quantiles": "30-70",
          "timestamp": "22:45:00"
         },
         {
          "ID": 1,
          "max": 0.086,
          "min": 0.039,
          "quantiles": "30-70",
          "timestamp": "23:00:00"
         },
         {
          "ID": 1,
          "max": 0.08,
          "min": 0.036,
          "quantiles": "30-70",
          "timestamp": "23:15:00"
         },
         {
          "ID": 1,
          "max": 0.079,
          "min": 0.033,
          "quantiles": "30-70",
          "timestamp": "23:30:00"
         },
         {
          "ID": 1,
          "max": 0.072,
          "min": 0.031,
          "quantiles": "30-70",
          "timestamp": "23:45:00"
         },
         {
          "ID": 1,
          "max": 1,
          "min": 1,
          "quantiles": "35-65",
          "timestamp": "ID"
         },
         {
          "ID": 1,
          "max": 0.062,
          "min": 0.035,
          "quantiles": "35-65",
          "timestamp": "00:00:00"
         },
         {
          "ID": 1,
          "max": 0.06,
          "min": 0.033,
          "quantiles": "35-65",
          "timestamp": "00:15:00"
         },
         {
          "ID": 1,
          "max": 0.06,
          "min": 0.032,
          "quantiles": "35-65",
          "timestamp": "00:30:00"
         },
         {
          "ID": 1,
          "max": 0.06,
          "min": 0.031,
          "quantiles": "35-65",
          "timestamp": "00:45:00"
         },
         {
          "ID": 1,
          "max": 0.06,
          "min": 0.03,
          "quantiles": "35-65",
          "timestamp": "01:00:00"
         },
         {
          "ID": 1,
          "max": 0.058,
          "min": 0.03,
          "quantiles": "35-65",
          "timestamp": "01:15:00"
         },
         {
          "ID": 1,
          "max": 0.055,
          "min": 0.03,
          "quantiles": "35-65",
          "timestamp": "01:30:00"
         },
         {
          "ID": 1,
          "max": 0.053,
          "min": 0.03,
          "quantiles": "35-65",
          "timestamp": "01:45:00"
         },
         {
          "ID": 1,
          "max": 0.053,
          "min": 0.03,
          "quantiles": "35-65",
          "timestamp": "02:00:00"
         },
         {
          "ID": 1,
          "max": 0.052,
          "min": 0.03,
          "quantiles": "35-65",
          "timestamp": "02:15:00"
         },
         {
          "ID": 1,
          "max": 0.051,
          "min": 0.03,
          "quantiles": "35-65",
          "timestamp": "02:30:00"
         },
         {
          "ID": 1,
          "max": 0.051,
          "min": 0.03,
          "quantiles": "35-65",
          "timestamp": "02:45:00"
         },
         {
          "ID": 1,
          "max": 0.051,
          "min": 0.03,
          "quantiles": "35-65",
          "timestamp": "03:00:00"
         },
         {
          "ID": 1,
          "max": 0.051,
          "min": 0.03,
          "quantiles": "35-65",
          "timestamp": "03:15:00"
         },
         {
          "ID": 1,
          "max": 0.051,
          "min": 0.03,
          "quantiles": "35-65",
          "timestamp": "03:30:00"
         },
         {
          "ID": 1,
          "max": 0.05,
          "min": 0.03,
          "quantiles": "35-65",
          "timestamp": "03:45:00"
         },
         {
          "ID": 1,
          "max": 0.051,
          "min": 0.03,
          "quantiles": "35-65",
          "timestamp": "04:00:00"
         },
         {
          "ID": 1,
          "max": 0.051,
          "min": 0.03,
          "quantiles": "35-65",
          "timestamp": "04:15:00"
         },
         {
          "ID": 1,
          "max": 0.051,
          "min": 0.03,
          "quantiles": "35-65",
          "timestamp": "04:30:00"
         },
         {
          "ID": 1,
          "max": 0.051,
          "min": 0.03,
          "quantiles": "35-65",
          "timestamp": "04:45:00"
         },
         {
          "ID": 1,
          "max": 0.053,
          "min": 0.03,
          "quantiles": "35-65",
          "timestamp": "05:00:00"
         },
         {
          "ID": 1,
          "max": 0.054,
          "min": 0.03,
          "quantiles": "35-65",
          "timestamp": "05:15:00"
         },
         {
          "ID": 1,
          "max": 0.057,
          "min": 0.03,
          "quantiles": "35-65",
          "timestamp": "05:30:00"
         },
         {
          "ID": 1,
          "max": 0.06,
          "min": 0.03,
          "quantiles": "35-65",
          "timestamp": "05:45:00"
         },
         {
          "ID": 1,
          "max": 0.06,
          "min": 0.03,
          "quantiles": "35-65",
          "timestamp": "06:00:00"
         },
         {
          "ID": 1,
          "max": 0.06,
          "min": 0.03,
          "quantiles": "35-65",
          "timestamp": "06:15:00"
         },
         {
          "ID": 1,
          "max": 0.062,
          "min": 0.03,
          "quantiles": "35-65",
          "timestamp": "06:30:00"
         },
         {
          "ID": 1,
          "max": 0.065,
          "min": 0.03,
          "quantiles": "35-65",
          "timestamp": "06:45:00"
         },
         {
          "ID": 1,
          "max": 0.069,
          "min": 0.03,
          "quantiles": "35-65",
          "timestamp": "07:00:00"
         },
         {
          "ID": 1,
          "max": 0.07,
          "min": 0.03,
          "quantiles": "35-65",
          "timestamp": "07:15:00"
         },
         {
          "ID": 1,
          "max": 0.07,
          "min": 0.03,
          "quantiles": "35-65",
          "timestamp": "07:30:00"
         },
         {
          "ID": 1,
          "max": 0.07,
          "min": 0.03,
          "quantiles": "35-65",
          "timestamp": "07:45:00"
         },
         {
          "ID": 1,
          "max": 0.07,
          "min": 0.03,
          "quantiles": "35-65",
          "timestamp": "08:00:00"
         },
         {
          "ID": 1,
          "max": 0.07,
          "min": 0.03,
          "quantiles": "35-65",
          "timestamp": "08:15:00"
         },
         {
          "ID": 1,
          "max": 0.07,
          "min": 0.03,
          "quantiles": "35-65",
          "timestamp": "08:30:00"
         },
         {
          "ID": 1,
          "max": 0.07,
          "min": 0.03,
          "quantiles": "35-65",
          "timestamp": "08:45:00"
         },
         {
          "ID": 1,
          "max": 0.07,
          "min": 0.03,
          "quantiles": "35-65",
          "timestamp": "09:00:00"
         },
         {
          "ID": 1,
          "max": 0.069,
          "min": 0.03,
          "quantiles": "35-65",
          "timestamp": "09:15:00"
         },
         {
          "ID": 1,
          "max": 0.068,
          "min": 0.03,
          "quantiles": "35-65",
          "timestamp": "09:30:00"
         },
         {
          "ID": 1,
          "max": 0.065,
          "min": 0.03,
          "quantiles": "35-65",
          "timestamp": "09:45:00"
         },
         {
          "ID": 1,
          "max": 0.067,
          "min": 0.03,
          "quantiles": "35-65",
          "timestamp": "10:00:00"
         },
         {
          "ID": 1,
          "max": 0.067,
          "min": 0.03,
          "quantiles": "35-65",
          "timestamp": "10:15:00"
         },
         {
          "ID": 1,
          "max": 0.065,
          "min": 0.03,
          "quantiles": "35-65",
          "timestamp": "10:30:00"
         },
         {
          "ID": 1,
          "max": 0.066,
          "min": 0.03,
          "quantiles": "35-65",
          "timestamp": "10:45:00"
         },
         {
          "ID": 1,
          "max": 0.066,
          "min": 0.03,
          "quantiles": "35-65",
          "timestamp": "11:00:00"
         },
         {
          "ID": 1,
          "max": 0.066,
          "min": 0.03,
          "quantiles": "35-65",
          "timestamp": "11:15:00"
         },
         {
          "ID": 1,
          "max": 0.069,
          "min": 0.03,
          "quantiles": "35-65",
          "timestamp": "11:30:00"
         },
         {
          "ID": 1,
          "max": 0.069,
          "min": 0.03,
          "quantiles": "35-65",
          "timestamp": "11:45:00"
         },
         {
          "ID": 1,
          "max": 0.07,
          "min": 0.03,
          "quantiles": "35-65",
          "timestamp": "12:00:00"
         },
         {
          "ID": 1,
          "max": 0.07,
          "min": 0.03,
          "quantiles": "35-65",
          "timestamp": "12:15:00"
         },
         {
          "ID": 1,
          "max": 0.07,
          "min": 0.03,
          "quantiles": "35-65",
          "timestamp": "12:30:00"
         },
         {
          "ID": 1,
          "max": 0.07,
          "min": 0.03,
          "quantiles": "35-65",
          "timestamp": "12:45:00"
         },
         {
          "ID": 1,
          "max": 0.069,
          "min": 0.03,
          "quantiles": "35-65",
          "timestamp": "13:00:00"
         },
         {
          "ID": 1,
          "max": 0.067,
          "min": 0.03,
          "quantiles": "35-65",
          "timestamp": "13:15:00"
         },
         {
          "ID": 1,
          "max": 0.067,
          "min": 0.03,
          "quantiles": "35-65",
          "timestamp": "13:30:00"
         },
         {
          "ID": 1,
          "max": 0.068,
          "min": 0.03,
          "quantiles": "35-65",
          "timestamp": "13:45:00"
         },
         {
          "ID": 1,
          "max": 0.064,
          "min": 0.03,
          "quantiles": "35-65",
          "timestamp": "14:00:00"
         },
         {
          "ID": 1,
          "max": 0.065,
          "min": 0.03,
          "quantiles": "35-65",
          "timestamp": "14:15:00"
         },
         {
          "ID": 1,
          "max": 0.067,
          "min": 0.03,
          "quantiles": "35-65",
          "timestamp": "14:30:00"
         },
         {
          "ID": 1,
          "max": 0.07,
          "min": 0.03,
          "quantiles": "35-65",
          "timestamp": "14:45:00"
         },
         {
          "ID": 1,
          "max": 0.07,
          "min": 0.03,
          "quantiles": "35-65",
          "timestamp": "15:00:00"
         },
         {
          "ID": 1,
          "max": 0.07,
          "min": 0.03,
          "quantiles": "35-65",
          "timestamp": "15:15:00"
         },
         {
          "ID": 1,
          "max": 0.073,
          "min": 0.03,
          "quantiles": "35-65",
          "timestamp": "15:30:00"
         },
         {
          "ID": 1,
          "max": 0.078,
          "min": 0.033,
          "quantiles": "35-65",
          "timestamp": "15:45:00"
         },
         {
          "ID": 1,
          "max": 0.08,
          "min": 0.037,
          "quantiles": "35-65",
          "timestamp": "16:00:00"
         },
         {
          "ID": 1,
          "max": 0.086,
          "min": 0.04,
          "quantiles": "35-65",
          "timestamp": "16:15:00"
         },
         {
          "ID": 1,
          "max": 0.09,
          "min": 0.04,
          "quantiles": "35-65",
          "timestamp": "16:30:00"
         },
         {
          "ID": 1,
          "max": 0.09,
          "min": 0.04,
          "quantiles": "35-65",
          "timestamp": "16:45:00"
         },
         {
          "ID": 1,
          "max": 0.097,
          "min": 0.04,
          "quantiles": "35-65",
          "timestamp": "17:00:00"
         },
         {
          "ID": 1,
          "max": 0.1,
          "min": 0.044,
          "quantiles": "35-65",
          "timestamp": "17:15:00"
         },
         {
          "ID": 1,
          "max": 0.103685,
          "min": 0.048,
          "quantiles": "35-65",
          "timestamp": "17:30:00"
         },
         {
          "ID": 1,
          "max": 0.108,
          "min": 0.05,
          "quantiles": "35-65",
          "timestamp": "17:45:00"
         },
         {
          "ID": 1,
          "max": 0.11,
          "min": 0.05,
          "quantiles": "35-65",
          "timestamp": "18:00:00"
         },
         {
          "ID": 1,
          "max": 0.11,
          "min": 0.05,
          "quantiles": "35-65",
          "timestamp": "18:15:00"
         },
         {
          "ID": 1,
          "max": 0.11,
          "min": 0.053,
          "quantiles": "35-65",
          "timestamp": "18:30:00"
         },
         {
          "ID": 1,
          "max": 0.11,
          "min": 0.056,
          "quantiles": "35-65",
          "timestamp": "18:45:00"
         },
         {
          "ID": 1,
          "max": 0.11,
          "min": 0.058,
          "quantiles": "35-65",
          "timestamp": "19:00:00"
         },
         {
          "ID": 1,
          "max": 0.11,
          "min": 0.06,
          "quantiles": "35-65",
          "timestamp": "19:15:00"
         },
         {
          "ID": 1,
          "max": 0.11,
          "min": 0.06,
          "quantiles": "35-65",
          "timestamp": "19:30:00"
         },
         {
          "ID": 1,
          "max": 0.11,
          "min": 0.06,
          "quantiles": "35-65",
          "timestamp": "19:45:00"
         },
         {
          "ID": 1,
          "max": 0.109,
          "min": 0.06,
          "quantiles": "35-65",
          "timestamp": "20:00:00"
         },
         {
          "ID": 1,
          "max": 0.104,
          "min": 0.06,
          "quantiles": "35-65",
          "timestamp": "20:15:00"
         },
         {
          "ID": 1,
          "max": 0.1,
          "min": 0.059,
          "quantiles": "35-65",
          "timestamp": "20:30:00"
         },
         {
          "ID": 1,
          "max": 0.1,
          "min": 0.057,
          "quantiles": "35-65",
          "timestamp": "20:45:00"
         },
         {
          "ID": 1,
          "max": 0.099,
          "min": 0.054,
          "quantiles": "35-65",
          "timestamp": "21:00:00"
         },
         {
          "ID": 1,
          "max": 0.096,
          "min": 0.052,
          "quantiles": "35-65",
          "timestamp": "21:15:00"
         },
         {
          "ID": 1,
          "max": 0.091,
          "min": 0.05,
          "quantiles": "35-65",
          "timestamp": "21:30:00"
         },
         {
          "ID": 1,
          "max": 0.09,
          "min": 0.05,
          "quantiles": "35-65",
          "timestamp": "21:45:00"
         },
         {
          "ID": 1,
          "max": 0.09,
          "min": 0.05,
          "quantiles": "35-65",
          "timestamp": "22:00:00"
         },
         {
          "ID": 1,
          "max": 0.09,
          "min": 0.05,
          "quantiles": "35-65",
          "timestamp": "22:15:00"
         },
         {
          "ID": 1,
          "max": 0.081,
          "min": 0.047,
          "quantiles": "35-65",
          "timestamp": "22:30:00"
         },
         {
          "ID": 1,
          "max": 0.08,
          "min": 0.042,
          "quantiles": "35-65",
          "timestamp": "22:45:00"
         },
         {
          "ID": 1,
          "max": 0.079,
          "min": 0.04,
          "quantiles": "35-65",
          "timestamp": "23:00:00"
         },
         {
          "ID": 1,
          "max": 0.071,
          "min": 0.04,
          "quantiles": "35-65",
          "timestamp": "23:15:00"
         },
         {
          "ID": 1,
          "max": 0.07,
          "min": 0.04,
          "quantiles": "35-65",
          "timestamp": "23:30:00"
         },
         {
          "ID": 1,
          "max": 0.067,
          "min": 0.037,
          "quantiles": "35-65",
          "timestamp": "23:45:00"
         },
         {
          "ID": 1,
          "max": 1,
          "min": 1,
          "quantiles": "40-60",
          "timestamp": "ID"
         },
         {
          "ID": 1,
          "max": 0.059,
          "min": 0.04,
          "quantiles": "40-60",
          "timestamp": "00:00:00"
         },
         {
          "ID": 1,
          "max": 0.056,
          "min": 0.04,
          "quantiles": "40-60",
          "timestamp": "00:15:00"
         },
         {
          "ID": 1,
          "max": 0.052,
          "min": 0.038,
          "quantiles": "40-60",
          "timestamp": "00:30:00"
         },
         {
          "ID": 1,
          "max": 0.051,
          "min": 0.037,
          "quantiles": "40-60",
          "timestamp": "00:45:00"
         },
         {
          "ID": 1,
          "max": 0.05,
          "min": 0.036,
          "quantiles": "40-60",
          "timestamp": "01:00:00"
         },
         {
          "ID": 1,
          "max": 0.05,
          "min": 0.035,
          "quantiles": "40-60",
          "timestamp": "01:15:00"
         },
         {
          "ID": 1,
          "max": 0.05,
          "min": 0.034,
          "quantiles": "40-60",
          "timestamp": "01:30:00"
         },
         {
          "ID": 1,
          "max": 0.05,
          "min": 0.033,
          "quantiles": "40-60",
          "timestamp": "01:45:00"
         },
         {
          "ID": 1,
          "max": 0.05,
          "min": 0.032,
          "quantiles": "40-60",
          "timestamp": "02:00:00"
         },
         {
          "ID": 1,
          "max": 0.05,
          "min": 0.032,
          "quantiles": "40-60",
          "timestamp": "02:15:00"
         },
         {
          "ID": 1,
          "max": 0.05,
          "min": 0.032,
          "quantiles": "40-60",
          "timestamp": "02:30:00"
         },
         {
          "ID": 1,
          "max": 0.05,
          "min": 0.031,
          "quantiles": "40-60",
          "timestamp": "02:45:00"
         },
         {
          "ID": 1,
          "max": 0.05,
          "min": 0.031,
          "quantiles": "40-60",
          "timestamp": "03:00:00"
         },
         {
          "ID": 1,
          "max": 0.05,
          "min": 0.031,
          "quantiles": "40-60",
          "timestamp": "03:15:00"
         },
         {
          "ID": 1,
          "max": 0.049,
          "min": 0.031,
          "quantiles": "40-60",
          "timestamp": "03:30:00"
         },
         {
          "ID": 1,
          "max": 0.049,
          "min": 0.03,
          "quantiles": "40-60",
          "timestamp": "03:45:00"
         },
         {
          "ID": 1,
          "max": 0.05,
          "min": 0.03,
          "quantiles": "40-60",
          "timestamp": "04:00:00"
         },
         {
          "ID": 1,
          "max": 0.05,
          "min": 0.03,
          "quantiles": "40-60",
          "timestamp": "04:15:00"
         },
         {
          "ID": 1,
          "max": 0.05,
          "min": 0.03,
          "quantiles": "40-60",
          "timestamp": "04:30:00"
         },
         {
          "ID": 1,
          "max": 0.05,
          "min": 0.03,
          "quantiles": "40-60",
          "timestamp": "04:45:00"
         },
         {
          "ID": 1,
          "max": 0.05,
          "min": 0.03,
          "quantiles": "40-60",
          "timestamp": "05:00:00"
         },
         {
          "ID": 1,
          "max": 0.05,
          "min": 0.03,
          "quantiles": "40-60",
          "timestamp": "05:15:00"
         },
         {
          "ID": 1,
          "max": 0.05,
          "min": 0.03,
          "quantiles": "40-60",
          "timestamp": "05:30:00"
         },
         {
          "ID": 1,
          "max": 0.05,
          "min": 0.03,
          "quantiles": "40-60",
          "timestamp": "05:45:00"
         },
         {
          "ID": 1,
          "max": 0.05,
          "min": 0.03,
          "quantiles": "40-60",
          "timestamp": "06:00:00"
         },
         {
          "ID": 1,
          "max": 0.052,
          "min": 0.031,
          "quantiles": "40-60",
          "timestamp": "06:15:00"
         },
         {
          "ID": 1,
          "max": 0.054,
          "min": 0.032,
          "quantiles": "40-60",
          "timestamp": "06:30:00"
         },
         {
          "ID": 1,
          "max": 0.057,
          "min": 0.034,
          "quantiles": "40-60",
          "timestamp": "06:45:00"
         },
         {
          "ID": 1,
          "max": 0.06,
          "min": 0.035,
          "quantiles": "40-60",
          "timestamp": "07:00:00"
         },
         {
          "ID": 1,
          "max": 0.06,
          "min": 0.036,
          "quantiles": "40-60",
          "timestamp": "07:15:00"
         },
         {
          "ID": 1,
          "max": 0.06,
          "min": 0.036,
          "quantiles": "40-60",
          "timestamp": "07:30:00"
         },
         {
          "ID": 1,
          "max": 0.06,
          "min": 0.036,
          "quantiles": "40-60",
          "timestamp": "07:45:00"
         },
         {
          "ID": 1,
          "max": 0.06,
          "min": 0.037,
          "quantiles": "40-60",
          "timestamp": "08:00:00"
         },
         {
          "ID": 1,
          "max": 0.06,
          "min": 0.037,
          "quantiles": "40-60",
          "timestamp": "08:15:00"
         },
         {
          "ID": 1,
          "max": 0.06,
          "min": 0.036,
          "quantiles": "40-60",
          "timestamp": "08:30:00"
         },
         {
          "ID": 1,
          "max": 0.06,
          "min": 0.033,
          "quantiles": "40-60",
          "timestamp": "08:45:00"
         },
         {
          "ID": 1,
          "max": 0.06,
          "min": 0.032,
          "quantiles": "40-60",
          "timestamp": "09:00:00"
         },
         {
          "ID": 1,
          "max": 0.06,
          "min": 0.03,
          "quantiles": "40-60",
          "timestamp": "09:15:00"
         },
         {
          "ID": 1,
          "max": 0.06,
          "min": 0.03,
          "quantiles": "40-60",
          "timestamp": "09:30:00"
         },
         {
          "ID": 1,
          "max": 0.058,
          "min": 0.03,
          "quantiles": "40-60",
          "timestamp": "09:45:00"
         },
         {
          "ID": 1,
          "max": 0.059,
          "min": 0.03,
          "quantiles": "40-60",
          "timestamp": "10:00:00"
         },
         {
          "ID": 1,
          "max": 0.058,
          "min": 0.03,
          "quantiles": "40-60",
          "timestamp": "10:15:00"
         },
         {
          "ID": 1,
          "max": 0.058,
          "min": 0.03,
          "quantiles": "40-60",
          "timestamp": "10:30:00"
         },
         {
          "ID": 1,
          "max": 0.058,
          "min": 0.03,
          "quantiles": "40-60",
          "timestamp": "10:45:00"
         },
         {
          "ID": 1,
          "max": 0.057,
          "min": 0.03,
          "quantiles": "40-60",
          "timestamp": "11:00:00"
         },
         {
          "ID": 1,
          "max": 0.058,
          "min": 0.03,
          "quantiles": "40-60",
          "timestamp": "11:15:00"
         },
         {
          "ID": 1,
          "max": 0.06,
          "min": 0.03,
          "quantiles": "40-60",
          "timestamp": "11:30:00"
         },
         {
          "ID": 1,
          "max": 0.06,
          "min": 0.03,
          "quantiles": "40-60",
          "timestamp": "11:45:00"
         },
         {
          "ID": 1,
          "max": 0.06,
          "min": 0.03,
          "quantiles": "40-60",
          "timestamp": "12:00:00"
         },
         {
          "ID": 1,
          "max": 0.06,
          "min": 0.03,
          "quantiles": "40-60",
          "timestamp": "12:15:00"
         },
         {
          "ID": 1,
          "max": 0.06,
          "min": 0.03,
          "quantiles": "40-60",
          "timestamp": "12:30:00"
         },
         {
          "ID": 1,
          "max": 0.06,
          "min": 0.03,
          "quantiles": "40-60",
          "timestamp": "12:45:00"
         },
         {
          "ID": 1,
          "max": 0.06,
          "min": 0.03,
          "quantiles": "40-60",
          "timestamp": "13:00:00"
         },
         {
          "ID": 1,
          "max": 0.06,
          "min": 0.03,
          "quantiles": "40-60",
          "timestamp": "13:15:00"
         },
         {
          "ID": 1,
          "max": 0.06,
          "min": 0.03,
          "quantiles": "40-60",
          "timestamp": "13:30:00"
         },
         {
          "ID": 1,
          "max": 0.06,
          "min": 0.03,
          "quantiles": "40-60",
          "timestamp": "13:45:00"
         },
         {
          "ID": 1,
          "max": 0.059,
          "min": 0.03,
          "quantiles": "40-60",
          "timestamp": "14:00:00"
         },
         {
          "ID": 1,
          "max": 0.059,
          "min": 0.03,
          "quantiles": "40-60",
          "timestamp": "14:15:00"
         },
         {
          "ID": 1,
          "max": 0.06,
          "min": 0.031,
          "quantiles": "40-60",
          "timestamp": "14:30:00"
         },
         {
          "ID": 1,
          "max": 0.06,
          "min": 0.033,
          "quantiles": "40-60",
          "timestamp": "14:45:00"
         },
         {
          "ID": 1,
          "max": 0.06,
          "min": 0.036,
          "quantiles": "40-60",
          "timestamp": "15:00:00"
         },
         {
          "ID": 1,
          "max": 0.06,
          "min": 0.04,
          "quantiles": "40-60",
          "timestamp": "15:15:00"
         },
         {
          "ID": 1,
          "max": 0.064,
          "min": 0.04,
          "quantiles": "40-60",
          "timestamp": "15:30:00"
         },
         {
          "ID": 1,
          "max": 0.069,
          "min": 0.04,
          "quantiles": "40-60",
          "timestamp": "15:45:00"
         },
         {
          "ID": 1,
          "max": 0.07,
          "min": 0.04,
          "quantiles": "40-60",
          "timestamp": "16:00:00"
         },
         {
          "ID": 1,
          "max": 0.071,
          "min": 0.04,
          "quantiles": "40-60",
          "timestamp": "16:15:00"
         },
         {
          "ID": 1,
          "max": 0.08,
          "min": 0.044,
          "quantiles": "40-60",
          "timestamp": "16:30:00"
         },
         {
          "ID": 1,
          "max": 0.08,
          "min": 0.048,
          "quantiles": "40-60",
          "timestamp": "16:45:00"
         },
         {
          "ID": 1,
          "max": 0.08,
          "min": 0.05,
          "quantiles": "40-60",
          "timestamp": "17:00:00"
         },
         {
          "ID": 1,
          "max": 0.088,
          "min": 0.05,
          "quantiles": "40-60",
          "timestamp": "17:15:00"
         },
         {
          "ID": 1,
          "max": 0.09,
          "min": 0.051,
          "quantiles": "40-60",
          "timestamp": "17:30:00"
         },
         {
          "ID": 1,
          "max": 0.092,
          "min": 0.056,
          "quantiles": "40-60",
          "timestamp": "17:45:00"
         },
         {
          "ID": 1,
          "max": 0.095,
          "min": 0.06,
          "quantiles": "40-60",
          "timestamp": "18:00:00"
         },
         {
          "ID": 1,
          "max": 0.098,
          "min": 0.06,
          "quantiles": "40-60",
          "timestamp": "18:15:00"
         },
         {
          "ID": 1,
          "max": 0.1,
          "min": 0.06,
          "quantiles": "40-60",
          "timestamp": "18:30:00"
         },
         {
          "ID": 1,
          "max": 0.1,
          "min": 0.06,
          "quantiles": "40-60",
          "timestamp": "18:45:00"
         },
         {
          "ID": 1,
          "max": 0.1,
          "min": 0.061,
          "quantiles": "40-60",
          "timestamp": "19:00:00"
         },
         {
          "ID": 1,
          "max": 0.1,
          "min": 0.064,
          "quantiles": "40-60",
          "timestamp": "19:15:00"
         },
         {
          "ID": 1,
          "max": 0.1,
          "min": 0.065,
          "quantiles": "40-60",
          "timestamp": "19:30:00"
         },
         {
          "ID": 1,
          "max": 0.1,
          "min": 0.065,
          "quantiles": "40-60",
          "timestamp": "19:45:00"
         },
         {
          "ID": 1,
          "max": 0.098,
          "min": 0.064,
          "quantiles": "40-60",
          "timestamp": "20:00:00"
         },
         {
          "ID": 1,
          "max": 0.093,
          "min": 0.062,
          "quantiles": "40-60",
          "timestamp": "20:15:00"
         },
         {
          "ID": 1,
          "max": 0.09,
          "min": 0.06,
          "quantiles": "40-60",
          "timestamp": "20:30:00"
         },
         {
          "ID": 1,
          "max": 0.09,
          "min": 0.06,
          "quantiles": "40-60",
          "timestamp": "20:45:00"
         },
         {
          "ID": 1,
          "max": 0.09,
          "min": 0.06,
          "quantiles": "40-60",
          "timestamp": "21:00:00"
         },
         {
          "ID": 1,
          "max": 0.088,
          "min": 0.06,
          "quantiles": "40-60",
          "timestamp": "21:15:00"
         },
         {
          "ID": 1,
          "max": 0.084,
          "min": 0.06,
          "quantiles": "40-60",
          "timestamp": "21:30:00"
         },
         {
          "ID": 1,
          "max": 0.08,
          "min": 0.058,
          "quantiles": "40-60",
          "timestamp": "21:45:00"
         },
         {
          "ID": 1,
          "max": 0.08,
          "min": 0.056,
          "quantiles": "40-60",
          "timestamp": "22:00:00"
         },
         {
          "ID": 1,
          "max": 0.08,
          "min": 0.052,
          "quantiles": "40-60",
          "timestamp": "22:15:00"
         },
         {
          "ID": 1,
          "max": 0.075,
          "min": 0.05,
          "quantiles": "40-60",
          "timestamp": "22:30:00"
         },
         {
          "ID": 1,
          "max": 0.07,
          "min": 0.05,
          "quantiles": "40-60",
          "timestamp": "22:45:00"
         },
         {
          "ID": 1,
          "max": 0.07,
          "min": 0.048,
          "quantiles": "40-60",
          "timestamp": "23:00:00"
         },
         {
          "ID": 1,
          "max": 0.067,
          "min": 0.043,
          "quantiles": "40-60",
          "timestamp": "23:15:00"
         },
         {
          "ID": 1,
          "max": 0.061,
          "min": 0.04,
          "quantiles": "40-60",
          "timestamp": "23:30:00"
         },
         {
          "ID": 1,
          "max": 0.06,
          "min": 0.04,
          "quantiles": "40-60",
          "timestamp": "23:45:00"
         },
         {
          "ID": 1,
          "max": 1,
          "min": 1,
          "quantiles": "45-55",
          "timestamp": "ID"
         },
         {
          "ID": 1,
          "max": 0.05,
          "min": 0.04,
          "quantiles": "45-55",
          "timestamp": "00:00:00"
         },
         {
          "ID": 1,
          "max": 0.05,
          "min": 0.04,
          "quantiles": "45-55",
          "timestamp": "00:15:00"
         },
         {
          "ID": 1,
          "max": 0.05,
          "min": 0.04,
          "quantiles": "45-55",
          "timestamp": "00:30:00"
         },
         {
          "ID": 1,
          "max": 0.05,
          "min": 0.04,
          "quantiles": "45-55",
          "timestamp": "00:45:00"
         },
         {
          "ID": 1,
          "max": 0.049,
          "min": 0.04,
          "quantiles": "45-55",
          "timestamp": "01:00:00"
         },
         {
          "ID": 1,
          "max": 0.047,
          "min": 0.04,
          "quantiles": "45-55",
          "timestamp": "01:15:00"
         },
         {
          "ID": 1,
          "max": 0.045,
          "min": 0.04,
          "quantiles": "45-55",
          "timestamp": "01:30:00"
         },
         {
          "ID": 1,
          "max": 0.044,
          "min": 0.039,
          "quantiles": "45-55",
          "timestamp": "01:45:00"
         },
         {
          "ID": 1,
          "max": 0.043,
          "min": 0.039,
          "quantiles": "45-55",
          "timestamp": "02:00:00"
         },
         {
          "ID": 1,
          "max": 0.042,
          "min": 0.038,
          "quantiles": "45-55",
          "timestamp": "02:15:00"
         },
         {
          "ID": 1,
          "max": 0.042,
          "min": 0.038,
          "quantiles": "45-55",
          "timestamp": "02:30:00"
         },
         {
          "ID": 1,
          "max": 0.041,
          "min": 0.037,
          "quantiles": "45-55",
          "timestamp": "02:45:00"
         },
         {
          "ID": 1,
          "max": 0.041,
          "min": 0.037,
          "quantiles": "45-55",
          "timestamp": "03:00:00"
         },
         {
          "ID": 1,
          "max": 0.041,
          "min": 0.037,
          "quantiles": "45-55",
          "timestamp": "03:15:00"
         },
         {
          "ID": 1,
          "max": 0.041,
          "min": 0.037,
          "quantiles": "45-55",
          "timestamp": "03:30:00"
         },
         {
          "ID": 1,
          "max": 0.041,
          "min": 0.037,
          "quantiles": "45-55",
          "timestamp": "03:45:00"
         },
         {
          "ID": 1,
          "max": 0.041,
          "min": 0.036,
          "quantiles": "45-55",
          "timestamp": "04:00:00"
         },
         {
          "ID": 1,
          "max": 0.041,
          "min": 0.036,
          "quantiles": "45-55",
          "timestamp": "04:15:00"
         },
         {
          "ID": 1,
          "max": 0.041,
          "min": 0.036,
          "quantiles": "45-55",
          "timestamp": "04:30:00"
         },
         {
          "ID": 1,
          "max": 0.041,
          "min": 0.036,
          "quantiles": "45-55",
          "timestamp": "04:45:00"
         },
         {
          "ID": 1,
          "max": 0.042,
          "min": 0.037,
          "quantiles": "45-55",
          "timestamp": "05:00:00"
         },
         {
          "ID": 1,
          "max": 0.043,
          "min": 0.039,
          "quantiles": "45-55",
          "timestamp": "05:15:00"
         },
         {
          "ID": 1,
          "max": 0.045,
          "min": 0.039,
          "quantiles": "45-55",
          "timestamp": "05:30:00"
         },
         {
          "ID": 1,
          "max": 0.046,
          "min": 0.039,
          "quantiles": "45-55",
          "timestamp": "05:45:00"
         },
         {
          "ID": 1,
          "max": 0.048,
          "min": 0.04,
          "quantiles": "45-55",
          "timestamp": "06:00:00"
         },
         {
          "ID": 1,
          "max": 0.05,
          "min": 0.04,
          "quantiles": "45-55",
          "timestamp": "06:15:00"
         },
         {
          "ID": 1,
          "max": 0.05,
          "min": 0.04,
          "quantiles": "45-55",
          "timestamp": "06:30:00"
         },
         {
          "ID": 1,
          "max": 0.05,
          "min": 0.04,
          "quantiles": "45-55",
          "timestamp": "06:45:00"
         },
         {
          "ID": 1,
          "max": 0.05,
          "min": 0.04,
          "quantiles": "45-55",
          "timestamp": "07:00:00"
         },
         {
          "ID": 1,
          "max": 0.05,
          "min": 0.04,
          "quantiles": "45-55",
          "timestamp": "07:15:00"
         },
         {
          "ID": 1,
          "max": 0.05,
          "min": 0.04,
          "quantiles": "45-55",
          "timestamp": "07:30:00"
         },
         {
          "ID": 1,
          "max": 0.05,
          "min": 0.04,
          "quantiles": "45-55",
          "timestamp": "07:45:00"
         },
         {
          "ID": 1,
          "max": 0.05,
          "min": 0.04,
          "quantiles": "45-55",
          "timestamp": "08:00:00"
         },
         {
          "ID": 1,
          "max": 0.05,
          "min": 0.04,
          "quantiles": "45-55",
          "timestamp": "08:15:00"
         },
         {
          "ID": 1,
          "max": 0.05,
          "min": 0.04,
          "quantiles": "45-55",
          "timestamp": "08:30:00"
         },
         {
          "ID": 1,
          "max": 0.05,
          "min": 0.04,
          "quantiles": "45-55",
          "timestamp": "08:45:00"
         },
         {
          "ID": 1,
          "max": 0.05,
          "min": 0.04,
          "quantiles": "45-55",
          "timestamp": "09:00:00"
         },
         {
          "ID": 1,
          "max": 0.05,
          "min": 0.04,
          "quantiles": "45-55",
          "timestamp": "09:15:00"
         },
         {
          "ID": 1,
          "max": 0.05,
          "min": 0.04,
          "quantiles": "45-55",
          "timestamp": "09:30:00"
         },
         {
          "ID": 1,
          "max": 0.05,
          "min": 0.04,
          "quantiles": "45-55",
          "timestamp": "09:45:00"
         },
         {
          "ID": 1,
          "max": 0.05,
          "min": 0.04,
          "quantiles": "45-55",
          "timestamp": "10:00:00"
         },
         {
          "ID": 1,
          "max": 0.05,
          "min": 0.04,
          "quantiles": "45-55",
          "timestamp": "10:15:00"
         },
         {
          "ID": 1,
          "max": 0.05,
          "min": 0.04,
          "quantiles": "45-55",
          "timestamp": "10:30:00"
         },
         {
          "ID": 1,
          "max": 0.05,
          "min": 0.04,
          "quantiles": "45-55",
          "timestamp": "10:45:00"
         },
         {
          "ID": 1,
          "max": 0.05,
          "min": 0.04,
          "quantiles": "45-55",
          "timestamp": "11:00:00"
         },
         {
          "ID": 1,
          "max": 0.05,
          "min": 0.04,
          "quantiles": "45-55",
          "timestamp": "11:15:00"
         },
         {
          "ID": 1,
          "max": 0.05,
          "min": 0.04,
          "quantiles": "45-55",
          "timestamp": "11:30:00"
         },
         {
          "ID": 1,
          "max": 0.05,
          "min": 0.04,
          "quantiles": "45-55",
          "timestamp": "11:45:00"
         },
         {
          "ID": 1,
          "max": 0.05,
          "min": 0.04,
          "quantiles": "45-55",
          "timestamp": "12:00:00"
         },
         {
          "ID": 1,
          "max": 0.05,
          "min": 0.04,
          "quantiles": "45-55",
          "timestamp": "12:15:00"
         },
         {
          "ID": 1,
          "max": 0.05,
          "min": 0.04,
          "quantiles": "45-55",
          "timestamp": "12:30:00"
         },
         {
          "ID": 1,
          "max": 0.05,
          "min": 0.04,
          "quantiles": "45-55",
          "timestamp": "12:45:00"
         },
         {
          "ID": 1,
          "max": 0.05,
          "min": 0.04,
          "quantiles": "45-55",
          "timestamp": "13:00:00"
         },
         {
          "ID": 1,
          "max": 0.05,
          "min": 0.04,
          "quantiles": "45-55",
          "timestamp": "13:15:00"
         },
         {
          "ID": 1,
          "max": 0.05,
          "min": 0.04,
          "quantiles": "45-55",
          "timestamp": "13:30:00"
         },
         {
          "ID": 1,
          "max": 0.05,
          "min": 0.04,
          "quantiles": "45-55",
          "timestamp": "13:45:00"
         },
         {
          "ID": 1,
          "max": 0.05,
          "min": 0.04,
          "quantiles": "45-55",
          "timestamp": "14:00:00"
         },
         {
          "ID": 1,
          "max": 0.05,
          "min": 0.04,
          "quantiles": "45-55",
          "timestamp": "14:15:00"
         },
         {
          "ID": 1,
          "max": 0.05,
          "min": 0.04,
          "quantiles": "45-55",
          "timestamp": "14:30:00"
         },
         {
          "ID": 1,
          "max": 0.05,
          "min": 0.04,
          "quantiles": "45-55",
          "timestamp": "14:45:00"
         },
         {
          "ID": 1,
          "max": 0.05,
          "min": 0.04,
          "quantiles": "45-55",
          "timestamp": "15:00:00"
         },
         {
          "ID": 1,
          "max": 0.054,
          "min": 0.04,
          "quantiles": "45-55",
          "timestamp": "15:15:00"
         },
         {
          "ID": 1,
          "max": 0.058,
          "min": 0.041,
          "quantiles": "45-55",
          "timestamp": "15:30:00"
         },
         {
          "ID": 1,
          "max": 0.06,
          "min": 0.044,
          "quantiles": "45-55",
          "timestamp": "15:45:00"
         },
         {
          "ID": 1,
          "max": 0.06,
          "min": 0.049,
          "quantiles": "45-55",
          "timestamp": "16:00:00"
         },
         {
          "ID": 1,
          "max": 0.062,
          "min": 0.05,
          "quantiles": "45-55",
          "timestamp": "16:15:00"
         },
         {
          "ID": 1,
          "max": 0.07,
          "min": 0.05,
          "quantiles": "45-55",
          "timestamp": "16:30:00"
         },
         {
          "ID": 1,
          "max": 0.07,
          "min": 0.05,
          "quantiles": "45-55",
          "timestamp": "16:45:00"
         },
         {
          "ID": 1,
          "max": 0.07,
          "min": 0.056,
          "quantiles": "45-55",
          "timestamp": "17:00:00"
         },
         {
          "ID": 1,
          "max": 0.076,
          "min": 0.06,
          "quantiles": "45-55",
          "timestamp": "17:15:00"
         },
         {
          "ID": 1,
          "max": 0.08,
          "min": 0.06,
          "quantiles": "45-55",
          "timestamp": "17:30:00"
         },
         {
          "ID": 1,
          "max": 0.08,
          "min": 0.06,
          "quantiles": "45-55",
          "timestamp": "17:45:00"
         },
         {
          "ID": 1,
          "max": 0.081,
          "min": 0.065,
          "quantiles": "45-55",
          "timestamp": "18:00:00"
         },
         {
          "ID": 1,
          "max": 0.086,
          "min": 0.07,
          "quantiles": "45-55",
          "timestamp": "18:15:00"
         },
         {
          "ID": 1,
          "max": 0.088,
          "min": 0.07,
          "quantiles": "45-55",
          "timestamp": "18:30:00"
         },
         {
          "ID": 1,
          "max": 0.09,
          "min": 0.07,
          "quantiles": "45-55",
          "timestamp": "18:45:00"
         },
         {
          "ID": 1,
          "max": 0.09,
          "min": 0.07,
          "quantiles": "45-55",
          "timestamp": "19:00:00"
         },
         {
          "ID": 1,
          "max": 0.09,
          "min": 0.07,
          "quantiles": "45-55",
          "timestamp": "19:15:00"
         },
         {
          "ID": 1,
          "max": 0.09,
          "min": 0.07,
          "quantiles": "45-55",
          "timestamp": "19:30:00"
         },
         {
          "ID": 1,
          "max": 0.09,
          "min": 0.07,
          "quantiles": "45-55",
          "timestamp": "19:45:00"
         },
         {
          "ID": 1,
          "max": 0.09,
          "min": 0.07,
          "quantiles": "45-55",
          "timestamp": "20:00:00"
         },
         {
          "ID": 1,
          "max": 0.085,
          "min": 0.07,
          "quantiles": "45-55",
          "timestamp": "20:15:00"
         },
         {
          "ID": 1,
          "max": 0.082,
          "min": 0.07,
          "quantiles": "45-55",
          "timestamp": "20:30:00"
         },
         {
          "ID": 1,
          "max": 0.08,
          "min": 0.07,
          "quantiles": "45-55",
          "timestamp": "20:45:00"
         },
         {
          "ID": 1,
          "max": 0.08,
          "min": 0.07,
          "quantiles": "45-55",
          "timestamp": "21:00:00"
         },
         {
          "ID": 1,
          "max": 0.08,
          "min": 0.067,
          "quantiles": "45-55",
          "timestamp": "21:15:00"
         },
         {
          "ID": 1,
          "max": 0.08,
          "min": 0.063,
          "quantiles": "45-55",
          "timestamp": "21:30:00"
         },
         {
          "ID": 1,
          "max": 0.075,
          "min": 0.06,
          "quantiles": "45-55",
          "timestamp": "21:45:00"
         },
         {
          "ID": 1,
          "max": 0.073,
          "min": 0.06,
          "quantiles": "45-55",
          "timestamp": "22:00:00"
         },
         {
          "ID": 1,
          "max": 0.07,
          "min": 0.06,
          "quantiles": "45-55",
          "timestamp": "22:15:00"
         },
         {
          "ID": 1,
          "max": 0.07,
          "min": 0.058,
          "quantiles": "45-55",
          "timestamp": "22:30:00"
         },
         {
          "ID": 1,
          "max": 0.066,
          "min": 0.052,
          "quantiles": "45-55",
          "timestamp": "22:45:00"
         },
         {
          "ID": 1,
          "max": 0.062,
          "min": 0.05,
          "quantiles": "45-55",
          "timestamp": "23:00:00"
         },
         {
          "ID": 1,
          "max": 0.06,
          "min": 0.05,
          "quantiles": "45-55",
          "timestamp": "23:15:00"
         },
         {
          "ID": 1,
          "max": 0.058,
          "min": 0.048,
          "quantiles": "45-55",
          "timestamp": "23:30:00"
         },
         {
          "ID": 1,
          "max": 0.053,
          "min": 0.043343,
          "quantiles": "45-55",
          "timestamp": "23:45:00"
         }
        ]
       },
       "encoding": {
        "color": {
         "field": "quantiles",
         "type": "ordinal"
        },
        "column": {
         "field": "ID",
         "header": {
          "labelFontSize": 15
         },
         "type": "quantitative"
        },
        "x": {
         "field": "timestamp",
         "type": "nominal"
        },
        "y": {
         "axis": {
          "format": ".2f"
         },
         "field": "min",
         "title": "consumption (kWh)",
         "type": "quantitative"
        },
        "y2": {
         "field": "max"
        }
       },
       "mark": "area",
       "resolve": {
        "axis": {
         "y": "independent"
        },
        "scale": {
         "y": "shared"
        }
       },
       "selection": {
        "selector006": {
         "bind": "scales",
         "encodings": [
          "y"
         ],
         "type": "interval"
        }
       }
      },
      "text/plain": [
       "<VegaLite 4 object>\n",
       "\n",
       "If you see this message, it means the renderer has not been properly enabled\n",
       "for the frontend that you are using. For more information, see\n",
       "https://altair-viz.github.io/user_guide/troubleshooting.html\n"
      ]
     },
     "execution_count": 17,
     "metadata": {},
     "output_type": "execute_result"
    }
   ],
   "source": [
    "offtake_temp = offtake.reset_index().drop(columns=['date'])\n",
    "offtake_temp['ID']=1\n",
    "plot_df_offtake = offtake_temp.groupby('ID').apply(data_df_to_quantiles).droplevel(1).reset_index()[1:]\n",
    "plot_df_offtake['timestamp'] = plot_df_offtake['timestamp'].apply(lambda x: str(x))\n",
    "area_chart = alt.Chart(plot_df_offtake).mark_area().encode(\n",
    "    x = 'timestamp', \n",
    "    y= alt.Y('min:Q',title = 'consumption (kWh)',axis = alt.Axis(format = '.2f')),  \n",
    "    y2='max:Q', \n",
    "    color= 'quantiles:O',    \n",
    "    column = alt.Column('ID',  header=alt.Header(labelFontSize=15))\n",
    ").resolve_scale(y = 'shared').resolve_axis(y= 'independent').interactive(bind_x = False).configure_legend(labelLimit= 0)\n",
    "area_chart"
   ]
  },
  {
   "cell_type": "code",
   "execution_count": 18,
   "metadata": {},
   "outputs": [
    {
     "data": {
      "application/vnd.vegalite.v4+json": {
       "$schema": "https://vega.github.io/schema/vega-lite/v4.17.0.json",
       "config": {
        "legend": {
         "labelLimit": 0
        },
        "view": {
         "continuousHeight": 300,
         "continuousWidth": 400
        }
       },
       "data": {
        "name": "data-406f93adc17b7bf154383916575b6552"
       },
       "datasets": {
        "data-406f93adc17b7bf154383916575b6552": [
         {
          "ID": 1,
          "max": 0.004,
          "min": 0,
          "quantiles": "00-100",
          "timestamp": "00:00:00"
         },
         {
          "ID": 1,
          "max": 0.004,
          "min": 0,
          "quantiles": "00-100",
          "timestamp": "00:15:00"
         },
         {
          "ID": 1,
          "max": 0.004,
          "min": 0,
          "quantiles": "00-100",
          "timestamp": "00:30:00"
         },
         {
          "ID": 1,
          "max": 0.004,
          "min": 0,
          "quantiles": "00-100",
          "timestamp": "00:45:00"
         },
         {
          "ID": 1,
          "max": 0.004,
          "min": 0,
          "quantiles": "00-100",
          "timestamp": "01:00:00"
         },
         {
          "ID": 1,
          "max": 0.004,
          "min": 0,
          "quantiles": "00-100",
          "timestamp": "01:15:00"
         },
         {
          "ID": 1,
          "max": 0.005,
          "min": 0,
          "quantiles": "00-100",
          "timestamp": "01:30:00"
         },
         {
          "ID": 1,
          "max": 0.004,
          "min": 0,
          "quantiles": "00-100",
          "timestamp": "01:45:00"
         },
         {
          "ID": 1,
          "max": 0.004,
          "min": 0,
          "quantiles": "00-100",
          "timestamp": "02:00:00"
         },
         {
          "ID": 1,
          "max": 0.004,
          "min": 0,
          "quantiles": "00-100",
          "timestamp": "02:15:00"
         },
         {
          "ID": 1,
          "max": 0.004,
          "min": 0,
          "quantiles": "00-100",
          "timestamp": "02:30:00"
         },
         {
          "ID": 1,
          "max": 0.004,
          "min": 0,
          "quantiles": "00-100",
          "timestamp": "02:45:00"
         },
         {
          "ID": 1,
          "max": 0.005,
          "min": 0,
          "quantiles": "00-100",
          "timestamp": "03:00:00"
         },
         {
          "ID": 1,
          "max": 0.011,
          "min": 0,
          "quantiles": "00-100",
          "timestamp": "03:15:00"
         },
         {
          "ID": 1,
          "max": 0.028,
          "min": 0,
          "quantiles": "00-100",
          "timestamp": "03:30:00"
         },
         {
          "ID": 1,
          "max": 0.038,
          "min": 0,
          "quantiles": "00-100",
          "timestamp": "03:45:00"
         },
         {
          "ID": 1,
          "max": 0.154,
          "min": 0,
          "quantiles": "00-100",
          "timestamp": "04:00:00"
         },
         {
          "ID": 1,
          "max": 0.239,
          "min": 0,
          "quantiles": "00-100",
          "timestamp": "04:15:00"
         },
         {
          "ID": 1,
          "max": 0.346,
          "min": 0,
          "quantiles": "00-100",
          "timestamp": "04:30:00"
         },
         {
          "ID": 1,
          "max": 0.373,
          "min": 0,
          "quantiles": "00-100",
          "timestamp": "04:45:00"
         },
         {
          "ID": 1,
          "max": 0.47,
          "min": 0,
          "quantiles": "00-100",
          "timestamp": "05:00:00"
         },
         {
          "ID": 1,
          "max": 0.542,
          "min": 0,
          "quantiles": "00-100",
          "timestamp": "05:15:00"
         },
         {
          "ID": 1,
          "max": 0.656,
          "min": 0,
          "quantiles": "00-100",
          "timestamp": "05:30:00"
         },
         {
          "ID": 1,
          "max": 0.772,
          "min": 0,
          "quantiles": "00-100",
          "timestamp": "05:45:00"
         },
         {
          "ID": 1,
          "max": 1.51335,
          "min": 0,
          "quantiles": "00-100",
          "timestamp": "06:00:00"
         },
         {
          "ID": 1,
          "max": 1.84965,
          "min": 0,
          "quantiles": "00-100",
          "timestamp": "06:15:00"
         },
         {
          "ID": 1,
          "max": 0.986,
          "min": 0,
          "quantiles": "00-100",
          "timestamp": "06:30:00"
         },
         {
          "ID": 1,
          "max": 1.069,
          "min": -0.005013,
          "quantiles": "00-100",
          "timestamp": "06:45:00"
         },
         {
          "ID": 1,
          "max": 1.147,
          "min": -0.005716,
          "quantiles": "00-100",
          "timestamp": "07:00:00"
         },
         {
          "ID": 1,
          "max": 1.181,
          "min": -0.006274,
          "quantiles": "00-100",
          "timestamp": "07:15:00"
         },
         {
          "ID": 1,
          "max": 1.202,
          "min": 0,
          "quantiles": "00-100",
          "timestamp": "07:30:00"
         },
         {
          "ID": 1,
          "max": 1.232,
          "min": -0.005647,
          "quantiles": "00-100",
          "timestamp": "07:45:00"
         },
         {
          "ID": 1,
          "max": 1.25,
          "min": -0.005349,
          "quantiles": "00-100",
          "timestamp": "08:00:00"
         },
         {
          "ID": 1,
          "max": 1.241,
          "min": 0,
          "quantiles": "00-100",
          "timestamp": "08:15:00"
         },
         {
          "ID": 1,
          "max": 1.257,
          "min": 0,
          "quantiles": "00-100",
          "timestamp": "08:30:00"
         },
         {
          "ID": 1,
          "max": 1.271,
          "min": 0,
          "quantiles": "00-100",
          "timestamp": "08:45:00"
         },
         {
          "ID": 1,
          "max": 1.278,
          "min": 0,
          "quantiles": "00-100",
          "timestamp": "09:00:00"
         },
         {
          "ID": 1,
          "max": 1.294,
          "min": 0,
          "quantiles": "00-100",
          "timestamp": "09:15:00"
         },
         {
          "ID": 1,
          "max": 1.322,
          "min": 0,
          "quantiles": "00-100",
          "timestamp": "09:30:00"
         },
         {
          "ID": 1,
          "max": 1.322,
          "min": 0,
          "quantiles": "00-100",
          "timestamp": "09:45:00"
         },
         {
          "ID": 1,
          "max": 1.4,
          "min": 0,
          "quantiles": "00-100",
          "timestamp": "10:00:00"
         },
         {
          "ID": 1,
          "max": 1.388,
          "min": 0,
          "quantiles": "00-100",
          "timestamp": "10:15:00"
         },
         {
          "ID": 1,
          "max": 1.407,
          "min": 0,
          "quantiles": "00-100",
          "timestamp": "10:30:00"
         },
         {
          "ID": 1,
          "max": 1.342,
          "min": 0,
          "quantiles": "00-100",
          "timestamp": "10:45:00"
         },
         {
          "ID": 1,
          "max": 1.392962,
          "min": 0,
          "quantiles": "00-100",
          "timestamp": "11:00:00"
         },
         {
          "ID": 1,
          "max": 1.364,
          "min": 0,
          "quantiles": "00-100",
          "timestamp": "11:15:00"
         },
         {
          "ID": 1,
          "max": 1.365,
          "min": 0,
          "quantiles": "00-100",
          "timestamp": "11:30:00"
         },
         {
          "ID": 1,
          "max": 1.461917,
          "min": 0,
          "quantiles": "00-100",
          "timestamp": "11:45:00"
         },
         {
          "ID": 1,
          "max": 1.293,
          "min": 0,
          "quantiles": "00-100",
          "timestamp": "12:00:00"
         },
         {
          "ID": 1,
          "max": 1.28,
          "min": 0,
          "quantiles": "00-100",
          "timestamp": "12:15:00"
         },
         {
          "ID": 1,
          "max": 1.263,
          "min": 0,
          "quantiles": "00-100",
          "timestamp": "12:30:00"
         },
         {
          "ID": 1,
          "max": 1.219,
          "min": 0,
          "quantiles": "00-100",
          "timestamp": "12:45:00"
         },
         {
          "ID": 1,
          "max": 1.202,
          "min": 0,
          "quantiles": "00-100",
          "timestamp": "13:00:00"
         },
         {
          "ID": 1,
          "max": 1.153,
          "min": 0,
          "quantiles": "00-100",
          "timestamp": "13:15:00"
         },
         {
          "ID": 1,
          "max": 1.144,
          "min": 0,
          "quantiles": "00-100",
          "timestamp": "13:30:00"
         },
         {
          "ID": 1,
          "max": 1.159,
          "min": 0,
          "quantiles": "00-100",
          "timestamp": "13:45:00"
         },
         {
          "ID": 1,
          "max": 1.173,
          "min": 0,
          "quantiles": "00-100",
          "timestamp": "14:00:00"
         },
         {
          "ID": 1,
          "max": 1.155,
          "min": 0,
          "quantiles": "00-100",
          "timestamp": "14:15:00"
         },
         {
          "ID": 1,
          "max": 1.148,
          "min": 0,
          "quantiles": "00-100",
          "timestamp": "14:30:00"
         },
         {
          "ID": 1,
          "max": 1.153,
          "min": 0,
          "quantiles": "00-100",
          "timestamp": "14:45:00"
         },
         {
          "ID": 1,
          "max": 1.131,
          "min": 0,
          "quantiles": "00-100",
          "timestamp": "15:00:00"
         },
         {
          "ID": 1,
          "max": 1.132,
          "min": 0,
          "quantiles": "00-100",
          "timestamp": "15:15:00"
         },
         {
          "ID": 1,
          "max": 1.045,
          "min": 0,
          "quantiles": "00-100",
          "timestamp": "15:30:00"
         },
         {
          "ID": 1,
          "max": 1.089,
          "min": 0,
          "quantiles": "00-100",
          "timestamp": "15:45:00"
         },
         {
          "ID": 1,
          "max": 1.03,
          "min": 0,
          "quantiles": "00-100",
          "timestamp": "16:00:00"
         },
         {
          "ID": 1,
          "max": 1.031179,
          "min": 0,
          "quantiles": "00-100",
          "timestamp": "16:15:00"
         },
         {
          "ID": 1,
          "max": 1.02,
          "min": 0,
          "quantiles": "00-100",
          "timestamp": "16:30:00"
         },
         {
          "ID": 1,
          "max": 1.1,
          "min": 0,
          "quantiles": "00-100",
          "timestamp": "16:45:00"
         },
         {
          "ID": 1,
          "max": 1,
          "min": 0,
          "quantiles": "00-100",
          "timestamp": "17:00:00"
         },
         {
          "ID": 1,
          "max": 1.02,
          "min": 0,
          "quantiles": "00-100",
          "timestamp": "17:15:00"
         },
         {
          "ID": 1,
          "max": 1.05,
          "min": 0,
          "quantiles": "00-100",
          "timestamp": "17:30:00"
         },
         {
          "ID": 1,
          "max": 0.96,
          "min": 0,
          "quantiles": "00-100",
          "timestamp": "17:45:00"
         },
         {
          "ID": 1,
          "max": 0.97,
          "min": 0,
          "quantiles": "00-100",
          "timestamp": "18:00:00"
         },
         {
          "ID": 1,
          "max": 0.91,
          "min": 0,
          "quantiles": "00-100",
          "timestamp": "18:15:00"
         },
         {
          "ID": 1,
          "max": 0.85,
          "min": 0,
          "quantiles": "00-100",
          "timestamp": "18:30:00"
         },
         {
          "ID": 1,
          "max": 0.85,
          "min": 0,
          "quantiles": "00-100",
          "timestamp": "18:45:00"
         },
         {
          "ID": 1,
          "max": 0.77,
          "min": 0,
          "quantiles": "00-100",
          "timestamp": "19:00:00"
         },
         {
          "ID": 1,
          "max": 0.76,
          "min": 0,
          "quantiles": "00-100",
          "timestamp": "19:15:00"
         },
         {
          "ID": 1,
          "max": 0.72,
          "min": 0,
          "quantiles": "00-100",
          "timestamp": "19:30:00"
         },
         {
          "ID": 1,
          "max": 0.65,
          "min": 0,
          "quantiles": "00-100",
          "timestamp": "19:45:00"
         },
         {
          "ID": 1,
          "max": 0.58,
          "min": 0,
          "quantiles": "00-100",
          "timestamp": "20:00:00"
         },
         {
          "ID": 1,
          "max": 0.54,
          "min": 0,
          "quantiles": "00-100",
          "timestamp": "20:15:00"
         },
         {
          "ID": 1,
          "max": 0.49,
          "min": 0,
          "quantiles": "00-100",
          "timestamp": "20:30:00"
         },
         {
          "ID": 1,
          "max": 0.37,
          "min": 0,
          "quantiles": "00-100",
          "timestamp": "20:45:00"
         },
         {
          "ID": 1,
          "max": 0.24,
          "min": 0,
          "quantiles": "00-100",
          "timestamp": "21:00:00"
         },
         {
          "ID": 1,
          "max": 0.18,
          "min": 0,
          "quantiles": "00-100",
          "timestamp": "21:15:00"
         },
         {
          "ID": 1,
          "max": 0.09,
          "min": 0,
          "quantiles": "00-100",
          "timestamp": "21:30:00"
         },
         {
          "ID": 1,
          "max": 0.004,
          "min": 0,
          "quantiles": "00-100",
          "timestamp": "21:45:00"
         },
         {
          "ID": 1,
          "max": 0.004,
          "min": 0,
          "quantiles": "00-100",
          "timestamp": "22:00:00"
         },
         {
          "ID": 1,
          "max": 0.004,
          "min": 0,
          "quantiles": "00-100",
          "timestamp": "22:15:00"
         },
         {
          "ID": 1,
          "max": 0.004,
          "min": 0,
          "quantiles": "00-100",
          "timestamp": "22:30:00"
         },
         {
          "ID": 1,
          "max": 0.004,
          "min": 0,
          "quantiles": "00-100",
          "timestamp": "22:45:00"
         },
         {
          "ID": 1,
          "max": 0.004,
          "min": 0,
          "quantiles": "00-100",
          "timestamp": "23:00:00"
         },
         {
          "ID": 1,
          "max": 0.004,
          "min": 0,
          "quantiles": "00-100",
          "timestamp": "23:15:00"
         },
         {
          "ID": 1,
          "max": 0.005,
          "min": 0,
          "quantiles": "00-100",
          "timestamp": "23:30:00"
         },
         {
          "ID": 1,
          "max": 0.004,
          "min": 0,
          "quantiles": "00-100",
          "timestamp": "23:45:00"
         },
         {
          "ID": 1,
          "max": 1,
          "min": 1,
          "quantiles": "05-95",
          "timestamp": "ID"
         },
         {
          "ID": 1,
          "max": 0,
          "min": 0,
          "quantiles": "05-95",
          "timestamp": "00:00:00"
         },
         {
          "ID": 1,
          "max": 0,
          "min": 0,
          "quantiles": "05-95",
          "timestamp": "00:15:00"
         },
         {
          "ID": 1,
          "max": 0,
          "min": 0,
          "quantiles": "05-95",
          "timestamp": "00:30:00"
         },
         {
          "ID": 1,
          "max": 0,
          "min": 0,
          "quantiles": "05-95",
          "timestamp": "00:45:00"
         },
         {
          "ID": 1,
          "max": 0,
          "min": 0,
          "quantiles": "05-95",
          "timestamp": "01:00:00"
         },
         {
          "ID": 1,
          "max": 0,
          "min": 0,
          "quantiles": "05-95",
          "timestamp": "01:15:00"
         },
         {
          "ID": 1,
          "max": 0,
          "min": 0,
          "quantiles": "05-95",
          "timestamp": "01:30:00"
         },
         {
          "ID": 1,
          "max": 0,
          "min": 0,
          "quantiles": "05-95",
          "timestamp": "01:45:00"
         },
         {
          "ID": 1,
          "max": 0,
          "min": 0,
          "quantiles": "05-95",
          "timestamp": "02:00:00"
         },
         {
          "ID": 1,
          "max": 0,
          "min": 0,
          "quantiles": "05-95",
          "timestamp": "02:15:00"
         },
         {
          "ID": 1,
          "max": 0,
          "min": 0,
          "quantiles": "05-95",
          "timestamp": "02:30:00"
         },
         {
          "ID": 1,
          "max": 0,
          "min": 0,
          "quantiles": "05-95",
          "timestamp": "02:45:00"
         },
         {
          "ID": 1,
          "max": 0,
          "min": 0,
          "quantiles": "05-95",
          "timestamp": "03:00:00"
         },
         {
          "ID": 1,
          "max": 0,
          "min": 0,
          "quantiles": "05-95",
          "timestamp": "03:15:00"
         },
         {
          "ID": 1,
          "max": 0,
          "min": 0,
          "quantiles": "05-95",
          "timestamp": "03:30:00"
         },
         {
          "ID": 1,
          "max": 0,
          "min": 0,
          "quantiles": "05-95",
          "timestamp": "03:45:00"
         },
         {
          "ID": 1,
          "max": 0,
          "min": 0,
          "quantiles": "05-95",
          "timestamp": "04:00:00"
         },
         {
          "ID": 1,
          "max": 0.001,
          "min": 0,
          "quantiles": "05-95",
          "timestamp": "04:15:00"
         },
         {
          "ID": 1,
          "max": 0.005,
          "min": 0,
          "quantiles": "05-95",
          "timestamp": "04:30:00"
         },
         {
          "ID": 1,
          "max": 0.023,
          "min": 0,
          "quantiles": "05-95",
          "timestamp": "04:45:00"
         },
         {
          "ID": 1,
          "max": 0.047,
          "min": 0,
          "quantiles": "05-95",
          "timestamp": "05:00:00"
         },
         {
          "ID": 1,
          "max": 0.092,
          "min": 0,
          "quantiles": "05-95",
          "timestamp": "05:15:00"
         },
         {
          "ID": 1,
          "max": 0.147,
          "min": 0,
          "quantiles": "05-95",
          "timestamp": "05:30:00"
         },
         {
          "ID": 1,
          "max": 0.205,
          "min": 0,
          "quantiles": "05-95",
          "timestamp": "05:45:00"
         },
         {
          "ID": 1,
          "max": 0.259,
          "min": 0,
          "quantiles": "05-95",
          "timestamp": "06:00:00"
         },
         {
          "ID": 1,
          "max": 0.307,
          "min": 0,
          "quantiles": "05-95",
          "timestamp": "06:15:00"
         },
         {
          "ID": 1,
          "max": 0.349,
          "min": 0,
          "quantiles": "05-95",
          "timestamp": "06:30:00"
         },
         {
          "ID": 1,
          "max": 0.393,
          "min": 0,
          "quantiles": "05-95",
          "timestamp": "06:45:00"
         },
         {
          "ID": 1,
          "max": 0.438,
          "min": 0,
          "quantiles": "05-95",
          "timestamp": "07:00:00"
         },
         {
          "ID": 1,
          "max": 0.479,
          "min": 0,
          "quantiles": "05-95",
          "timestamp": "07:15:00"
         },
         {
          "ID": 1,
          "max": 0.528,
          "min": 0,
          "quantiles": "05-95",
          "timestamp": "07:30:00"
         },
         {
          "ID": 1,
          "max": 0.559,
          "min": 0,
          "quantiles": "05-95",
          "timestamp": "07:45:00"
         },
         {
          "ID": 1,
          "max": 0.594,
          "min": 0,
          "quantiles": "05-95",
          "timestamp": "08:00:00"
         },
         {
          "ID": 1,
          "max": 0.632,
          "min": 0,
          "quantiles": "05-95",
          "timestamp": "08:15:00"
         },
         {
          "ID": 1,
          "max": 0.652,
          "min": 0,
          "quantiles": "05-95",
          "timestamp": "08:30:00"
         },
         {
          "ID": 1,
          "max": 0.682,
          "min": 0,
          "quantiles": "05-95",
          "timestamp": "08:45:00"
         },
         {
          "ID": 1,
          "max": 0.703,
          "min": 0,
          "quantiles": "05-95",
          "timestamp": "09:00:00"
         },
         {
          "ID": 1,
          "max": 0.723,
          "min": 0,
          "quantiles": "05-95",
          "timestamp": "09:15:00"
         },
         {
          "ID": 1,
          "max": 0.754,
          "min": 0,
          "quantiles": "05-95",
          "timestamp": "09:30:00"
         },
         {
          "ID": 1,
          "max": 0.75,
          "min": 0,
          "quantiles": "05-95",
          "timestamp": "09:45:00"
         },
         {
          "ID": 1,
          "max": 0.759,
          "min": 0,
          "quantiles": "05-95",
          "timestamp": "10:00:00"
         },
         {
          "ID": 1,
          "max": 0.77,
          "min": 0,
          "quantiles": "05-95",
          "timestamp": "10:15:00"
         },
         {
          "ID": 1,
          "max": 0.764,
          "min": 0,
          "quantiles": "05-95",
          "timestamp": "10:30:00"
         },
         {
          "ID": 1,
          "max": 0.762,
          "min": 0,
          "quantiles": "05-95",
          "timestamp": "10:45:00"
         },
         {
          "ID": 1,
          "max": 0.762,
          "min": 0,
          "quantiles": "05-95",
          "timestamp": "11:00:00"
         },
         {
          "ID": 1,
          "max": 0.764,
          "min": 0,
          "quantiles": "05-95",
          "timestamp": "11:15:00"
         },
         {
          "ID": 1,
          "max": 0.756,
          "min": 0,
          "quantiles": "05-95",
          "timestamp": "11:30:00"
         },
         {
          "ID": 1,
          "max": 0.759,
          "min": 0,
          "quantiles": "05-95",
          "timestamp": "11:45:00"
         },
         {
          "ID": 1,
          "max": 0.754,
          "min": 0,
          "quantiles": "05-95",
          "timestamp": "12:00:00"
         },
         {
          "ID": 1,
          "max": 0.745,
          "min": 0,
          "quantiles": "05-95",
          "timestamp": "12:15:00"
         },
         {
          "ID": 1,
          "max": 0.742,
          "min": 0,
          "quantiles": "05-95",
          "timestamp": "12:30:00"
         },
         {
          "ID": 1,
          "max": 0.735,
          "min": 0,
          "quantiles": "05-95",
          "timestamp": "12:45:00"
         },
         {
          "ID": 1,
          "max": 0.725,
          "min": 0,
          "quantiles": "05-95",
          "timestamp": "13:00:00"
         },
         {
          "ID": 1,
          "max": 0.72,
          "min": 0,
          "quantiles": "05-95",
          "timestamp": "13:15:00"
         },
         {
          "ID": 1,
          "max": 0.715,
          "min": 0,
          "quantiles": "05-95",
          "timestamp": "13:30:00"
         },
         {
          "ID": 1,
          "max": 0.703,
          "min": 0,
          "quantiles": "05-95",
          "timestamp": "13:45:00"
         },
         {
          "ID": 1,
          "max": 0.692,
          "min": 0,
          "quantiles": "05-95",
          "timestamp": "14:00:00"
         },
         {
          "ID": 1,
          "max": 0.676,
          "min": 0,
          "quantiles": "05-95",
          "timestamp": "14:15:00"
         },
         {
          "ID": 1,
          "max": 0.659,
          "min": 0,
          "quantiles": "05-95",
          "timestamp": "14:30:00"
         },
         {
          "ID": 1,
          "max": 0.638,
          "min": 0,
          "quantiles": "05-95",
          "timestamp": "14:45:00"
         },
         {
          "ID": 1,
          "max": 0.611,
          "min": 0,
          "quantiles": "05-95",
          "timestamp": "15:00:00"
         },
         {
          "ID": 1,
          "max": 0.573254,
          "min": 0,
          "quantiles": "05-95",
          "timestamp": "15:15:00"
         },
         {
          "ID": 1,
          "max": 0.548,
          "min": 0,
          "quantiles": "05-95",
          "timestamp": "15:30:00"
         },
         {
          "ID": 1,
          "max": 0.521,
          "min": 0,
          "quantiles": "05-95",
          "timestamp": "15:45:00"
         },
         {
          "ID": 1,
          "max": 0.481,
          "min": 0,
          "quantiles": "05-95",
          "timestamp": "16:00:00"
         },
         {
          "ID": 1,
          "max": 0.444,
          "min": 0,
          "quantiles": "05-95",
          "timestamp": "16:15:00"
         },
         {
          "ID": 1,
          "max": 0.4,
          "min": 0,
          "quantiles": "05-95",
          "timestamp": "16:30:00"
         },
         {
          "ID": 1,
          "max": 0.354,
          "min": 0,
          "quantiles": "05-95",
          "timestamp": "16:45:00"
         },
         {
          "ID": 1,
          "max": 0.309,
          "min": 0,
          "quantiles": "05-95",
          "timestamp": "17:00:00"
         },
         {
          "ID": 1,
          "max": 0.26,
          "min": 0,
          "quantiles": "05-95",
          "timestamp": "17:15:00"
         },
         {
          "ID": 1,
          "max": 0.22,
          "min": 0,
          "quantiles": "05-95",
          "timestamp": "17:30:00"
         },
         {
          "ID": 1,
          "max": 0.179,
          "min": 0,
          "quantiles": "05-95",
          "timestamp": "17:45:00"
         },
         {
          "ID": 1,
          "max": 0.132,
          "min": 0,
          "quantiles": "05-95",
          "timestamp": "18:00:00"
         },
         {
          "ID": 1,
          "max": 0.08,
          "min": 0,
          "quantiles": "05-95",
          "timestamp": "18:15:00"
         },
         {
          "ID": 1,
          "max": 0.049,
          "min": 0,
          "quantiles": "05-95",
          "timestamp": "18:30:00"
         },
         {
          "ID": 1,
          "max": 0.02,
          "min": 0,
          "quantiles": "05-95",
          "timestamp": "18:45:00"
         },
         {
          "ID": 1,
          "max": 0.004,
          "min": 0,
          "quantiles": "05-95",
          "timestamp": "19:00:00"
         },
         {
          "ID": 1,
          "max": 0,
          "min": 0,
          "quantiles": "05-95",
          "timestamp": "19:15:00"
         },
         {
          "ID": 1,
          "max": 0,
          "min": 0,
          "quantiles": "05-95",
          "timestamp": "19:30:00"
         },
         {
          "ID": 1,
          "max": 0,
          "min": 0,
          "quantiles": "05-95",
          "timestamp": "19:45:00"
         },
         {
          "ID": 1,
          "max": 0,
          "min": 0,
          "quantiles": "05-95",
          "timestamp": "20:00:00"
         },
         {
          "ID": 1,
          "max": 0,
          "min": 0,
          "quantiles": "05-95",
          "timestamp": "20:15:00"
         },
         {
          "ID": 1,
          "max": 0,
          "min": 0,
          "quantiles": "05-95",
          "timestamp": "20:30:00"
         },
         {
          "ID": 1,
          "max": 0,
          "min": 0,
          "quantiles": "05-95",
          "timestamp": "20:45:00"
         },
         {
          "ID": 1,
          "max": 0,
          "min": 0,
          "quantiles": "05-95",
          "timestamp": "21:00:00"
         },
         {
          "ID": 1,
          "max": 0,
          "min": 0,
          "quantiles": "05-95",
          "timestamp": "21:15:00"
         },
         {
          "ID": 1,
          "max": 0,
          "min": 0,
          "quantiles": "05-95",
          "timestamp": "21:30:00"
         },
         {
          "ID": 1,
          "max": 0,
          "min": 0,
          "quantiles": "05-95",
          "timestamp": "21:45:00"
         },
         {
          "ID": 1,
          "max": 0,
          "min": 0,
          "quantiles": "05-95",
          "timestamp": "22:00:00"
         },
         {
          "ID": 1,
          "max": 0,
          "min": 0,
          "quantiles": "05-95",
          "timestamp": "22:15:00"
         },
         {
          "ID": 1,
          "max": 0,
          "min": 0,
          "quantiles": "05-95",
          "timestamp": "22:30:00"
         },
         {
          "ID": 1,
          "max": 0,
          "min": 0,
          "quantiles": "05-95",
          "timestamp": "22:45:00"
         },
         {
          "ID": 1,
          "max": 0,
          "min": 0,
          "quantiles": "05-95",
          "timestamp": "23:00:00"
         },
         {
          "ID": 1,
          "max": 0,
          "min": 0,
          "quantiles": "05-95",
          "timestamp": "23:15:00"
         },
         {
          "ID": 1,
          "max": 0,
          "min": 0,
          "quantiles": "05-95",
          "timestamp": "23:30:00"
         },
         {
          "ID": 1,
          "max": 0,
          "min": 0,
          "quantiles": "05-95",
          "timestamp": "23:45:00"
         },
         {
          "ID": 1,
          "max": 1,
          "min": 1,
          "quantiles": "10-90",
          "timestamp": "ID"
         },
         {
          "ID": 1,
          "max": 0,
          "min": 0,
          "quantiles": "10-90",
          "timestamp": "00:00:00"
         },
         {
          "ID": 1,
          "max": 0,
          "min": 0,
          "quantiles": "10-90",
          "timestamp": "00:15:00"
         },
         {
          "ID": 1,
          "max": 0,
          "min": 0,
          "quantiles": "10-90",
          "timestamp": "00:30:00"
         },
         {
          "ID": 1,
          "max": 0,
          "min": 0,
          "quantiles": "10-90",
          "timestamp": "00:45:00"
         },
         {
          "ID": 1,
          "max": 0,
          "min": 0,
          "quantiles": "10-90",
          "timestamp": "01:00:00"
         },
         {
          "ID": 1,
          "max": 0,
          "min": 0,
          "quantiles": "10-90",
          "timestamp": "01:15:00"
         },
         {
          "ID": 1,
          "max": 0,
          "min": 0,
          "quantiles": "10-90",
          "timestamp": "01:30:00"
         },
         {
          "ID": 1,
          "max": 0,
          "min": 0,
          "quantiles": "10-90",
          "timestamp": "01:45:00"
         },
         {
          "ID": 1,
          "max": 0,
          "min": 0,
          "quantiles": "10-90",
          "timestamp": "02:00:00"
         },
         {
          "ID": 1,
          "max": 0,
          "min": 0,
          "quantiles": "10-90",
          "timestamp": "02:15:00"
         },
         {
          "ID": 1,
          "max": 0,
          "min": 0,
          "quantiles": "10-90",
          "timestamp": "02:30:00"
         },
         {
          "ID": 1,
          "max": 0,
          "min": 0,
          "quantiles": "10-90",
          "timestamp": "02:45:00"
         },
         {
          "ID": 1,
          "max": 0,
          "min": 0,
          "quantiles": "10-90",
          "timestamp": "03:00:00"
         },
         {
          "ID": 1,
          "max": 0,
          "min": 0,
          "quantiles": "10-90",
          "timestamp": "03:15:00"
         },
         {
          "ID": 1,
          "max": 0,
          "min": 0,
          "quantiles": "10-90",
          "timestamp": "03:30:00"
         },
         {
          "ID": 1,
          "max": 0,
          "min": 0,
          "quantiles": "10-90",
          "timestamp": "03:45:00"
         },
         {
          "ID": 1,
          "max": 0,
          "min": 0,
          "quantiles": "10-90",
          "timestamp": "04:00:00"
         },
         {
          "ID": 1,
          "max": 0,
          "min": 0,
          "quantiles": "10-90",
          "timestamp": "04:15:00"
         },
         {
          "ID": 1,
          "max": 0,
          "min": 0,
          "quantiles": "10-90",
          "timestamp": "04:30:00"
         },
         {
          "ID": 1,
          "max": 0.001,
          "min": 0,
          "quantiles": "10-90",
          "timestamp": "04:45:00"
         },
         {
          "ID": 1,
          "max": 0.005,
          "min": 0,
          "quantiles": "10-90",
          "timestamp": "05:00:00"
         },
         {
          "ID": 1,
          "max": 0.018,
          "min": 0,
          "quantiles": "10-90",
          "timestamp": "05:15:00"
         },
         {
          "ID": 1,
          "max": 0.038,
          "min": 0,
          "quantiles": "10-90",
          "timestamp": "05:30:00"
         },
         {
          "ID": 1,
          "max": 0.064,
          "min": 0,
          "quantiles": "10-90",
          "timestamp": "05:45:00"
         },
         {
          "ID": 1,
          "max": 0.098199,
          "min": 0,
          "quantiles": "10-90",
          "timestamp": "06:00:00"
         },
         {
          "ID": 1,
          "max": 0.136,
          "min": 0,
          "quantiles": "10-90",
          "timestamp": "06:15:00"
         },
         {
          "ID": 1,
          "max": 0.175,
          "min": 0,
          "quantiles": "10-90",
          "timestamp": "06:30:00"
         },
         {
          "ID": 1,
          "max": 0.213,
          "min": 0,
          "quantiles": "10-90",
          "timestamp": "06:45:00"
         },
         {
          "ID": 1,
          "max": 0.252971,
          "min": 0,
          "quantiles": "10-90",
          "timestamp": "07:00:00"
         },
         {
          "ID": 1,
          "max": 0.301,
          "min": 0,
          "quantiles": "10-90",
          "timestamp": "07:15:00"
         },
         {
          "ID": 1,
          "max": 0.34,
          "min": 0,
          "quantiles": "10-90",
          "timestamp": "07:30:00"
         },
         {
          "ID": 1,
          "max": 0.374,
          "min": 0,
          "quantiles": "10-90",
          "timestamp": "07:45:00"
         },
         {
          "ID": 1,
          "max": 0.418,
          "min": 0,
          "quantiles": "10-90",
          "timestamp": "08:00:00"
         },
         {
          "ID": 1,
          "max": 0.463,
          "min": 0,
          "quantiles": "10-90",
          "timestamp": "08:15:00"
         },
         {
          "ID": 1,
          "max": 0.496,
          "min": 0,
          "quantiles": "10-90",
          "timestamp": "08:30:00"
         },
         {
          "ID": 1,
          "max": 0.537,
          "min": 0,
          "quantiles": "10-90",
          "timestamp": "08:45:00"
         },
         {
          "ID": 1,
          "max": 0.545,
          "min": 0,
          "quantiles": "10-90",
          "timestamp": "09:00:00"
         },
         {
          "ID": 1,
          "max": 0.569,
          "min": 0,
          "quantiles": "10-90",
          "timestamp": "09:15:00"
         },
         {
          "ID": 1,
          "max": 0.584,
          "min": 0,
          "quantiles": "10-90",
          "timestamp": "09:30:00"
         },
         {
          "ID": 1,
          "max": 0.593,
          "min": 0,
          "quantiles": "10-90",
          "timestamp": "09:45:00"
         },
         {
          "ID": 1,
          "max": 0.611,
          "min": 0,
          "quantiles": "10-90",
          "timestamp": "10:00:00"
         },
         {
          "ID": 1,
          "max": 0.624,
          "min": 0,
          "quantiles": "10-90",
          "timestamp": "10:15:00"
         },
         {
          "ID": 1,
          "max": 0.627,
          "min": 0,
          "quantiles": "10-90",
          "timestamp": "10:30:00"
         },
         {
          "ID": 1,
          "max": 0.629,
          "min": 0,
          "quantiles": "10-90",
          "timestamp": "10:45:00"
         },
         {
          "ID": 1,
          "max": 0.64,
          "min": 0.001,
          "quantiles": "10-90",
          "timestamp": "11:00:00"
         },
         {
          "ID": 1,
          "max": 0.64,
          "min": 0.002,
          "quantiles": "10-90",
          "timestamp": "11:15:00"
         },
         {
          "ID": 1,
          "max": 0.648,
          "min": 0.002,
          "quantiles": "10-90",
          "timestamp": "11:30:00"
         },
         {
          "ID": 1,
          "max": 0.65,
          "min": 0.003,
          "quantiles": "10-90",
          "timestamp": "11:45:00"
         },
         {
          "ID": 1,
          "max": 0.639,
          "min": 0.002,
          "quantiles": "10-90",
          "timestamp": "12:00:00"
         },
         {
          "ID": 1,
          "max": 0.634,
          "min": 0.001,
          "quantiles": "10-90",
          "timestamp": "12:15:00"
         },
         {
          "ID": 1,
          "max": 0.633,
          "min": 0.001,
          "quantiles": "10-90",
          "timestamp": "12:30:00"
         },
         {
          "ID": 1,
          "max": 0.622,
          "min": 0,
          "quantiles": "10-90",
          "timestamp": "12:45:00"
         },
         {
          "ID": 1,
          "max": 0.617,
          "min": 0,
          "quantiles": "10-90",
          "timestamp": "13:00:00"
         },
         {
          "ID": 1,
          "max": 0.613,
          "min": 0,
          "quantiles": "10-90",
          "timestamp": "13:15:00"
         },
         {
          "ID": 1,
          "max": 0.605,
          "min": 0,
          "quantiles": "10-90",
          "timestamp": "13:30:00"
         },
         {
          "ID": 1,
          "max": 0.591,
          "min": 0,
          "quantiles": "10-90",
          "timestamp": "13:45:00"
         },
         {
          "ID": 1,
          "max": 0.574,
          "min": 0,
          "quantiles": "10-90",
          "timestamp": "14:00:00"
         },
         {
          "ID": 1,
          "max": 0.564,
          "min": 0,
          "quantiles": "10-90",
          "timestamp": "14:15:00"
         },
         {
          "ID": 1,
          "max": 0.545,
          "min": 0,
          "quantiles": "10-90",
          "timestamp": "14:30:00"
         },
         {
          "ID": 1,
          "max": 0.521,
          "min": 0,
          "quantiles": "10-90",
          "timestamp": "14:45:00"
         },
         {
          "ID": 1,
          "max": 0.487,
          "min": 0,
          "quantiles": "10-90",
          "timestamp": "15:00:00"
         },
         {
          "ID": 1,
          "max": 0.45,
          "min": 0,
          "quantiles": "10-90",
          "timestamp": "15:15:00"
         },
         {
          "ID": 1,
          "max": 0.417,
          "min": 0,
          "quantiles": "10-90",
          "timestamp": "15:30:00"
         },
         {
          "ID": 1,
          "max": 0.38,
          "min": 0,
          "quantiles": "10-90",
          "timestamp": "15:45:00"
         },
         {
          "ID": 1,
          "max": 0.349,
          "min": 0,
          "quantiles": "10-90",
          "timestamp": "16:00:00"
         },
         {
          "ID": 1,
          "max": 0.3,
          "min": 0,
          "quantiles": "10-90",
          "timestamp": "16:15:00"
         },
         {
          "ID": 1,
          "max": 0.26,
          "min": 0,
          "quantiles": "10-90",
          "timestamp": "16:30:00"
         },
         {
          "ID": 1,
          "max": 0.215,
          "min": 0,
          "quantiles": "10-90",
          "timestamp": "16:45:00"
         },
         {
          "ID": 1,
          "max": 0.179,
          "min": 0,
          "quantiles": "10-90",
          "timestamp": "17:00:00"
         },
         {
          "ID": 1,
          "max": 0.139,
          "min": 0,
          "quantiles": "10-90",
          "timestamp": "17:15:00"
         },
         {
          "ID": 1,
          "max": 0.1,
          "min": 0,
          "quantiles": "10-90",
          "timestamp": "17:30:00"
         },
         {
          "ID": 1,
          "max": 0.068,
          "min": 0,
          "quantiles": "10-90",
          "timestamp": "17:45:00"
         },
         {
          "ID": 1,
          "max": 0.037,
          "min": 0,
          "quantiles": "10-90",
          "timestamp": "18:00:00"
         },
         {
          "ID": 1,
          "max": 0.016,
          "min": 0,
          "quantiles": "10-90",
          "timestamp": "18:15:00"
         },
         {
          "ID": 1,
          "max": 0.003,
          "min": 0,
          "quantiles": "10-90",
          "timestamp": "18:30:00"
         },
         {
          "ID": 1,
          "max": 0,
          "min": 0,
          "quantiles": "10-90",
          "timestamp": "18:45:00"
         },
         {
          "ID": 1,
          "max": 0,
          "min": 0,
          "quantiles": "10-90",
          "timestamp": "19:00:00"
         },
         {
          "ID": 1,
          "max": 0,
          "min": 0,
          "quantiles": "10-90",
          "timestamp": "19:15:00"
         },
         {
          "ID": 1,
          "max": 0,
          "min": 0,
          "quantiles": "10-90",
          "timestamp": "19:30:00"
         },
         {
          "ID": 1,
          "max": 0,
          "min": 0,
          "quantiles": "10-90",
          "timestamp": "19:45:00"
         },
         {
          "ID": 1,
          "max": 0,
          "min": 0,
          "quantiles": "10-90",
          "timestamp": "20:00:00"
         },
         {
          "ID": 1,
          "max": 0,
          "min": 0,
          "quantiles": "10-90",
          "timestamp": "20:15:00"
         },
         {
          "ID": 1,
          "max": 0,
          "min": 0,
          "quantiles": "10-90",
          "timestamp": "20:30:00"
         },
         {
          "ID": 1,
          "max": 0,
          "min": 0,
          "quantiles": "10-90",
          "timestamp": "20:45:00"
         },
         {
          "ID": 1,
          "max": 0,
          "min": 0,
          "quantiles": "10-90",
          "timestamp": "21:00:00"
         },
         {
          "ID": 1,
          "max": 0,
          "min": 0,
          "quantiles": "10-90",
          "timestamp": "21:15:00"
         },
         {
          "ID": 1,
          "max": 0,
          "min": 0,
          "quantiles": "10-90",
          "timestamp": "21:30:00"
         },
         {
          "ID": 1,
          "max": 0,
          "min": 0,
          "quantiles": "10-90",
          "timestamp": "21:45:00"
         },
         {
          "ID": 1,
          "max": 0,
          "min": 0,
          "quantiles": "10-90",
          "timestamp": "22:00:00"
         },
         {
          "ID": 1,
          "max": 0,
          "min": 0,
          "quantiles": "10-90",
          "timestamp": "22:15:00"
         },
         {
          "ID": 1,
          "max": 0,
          "min": 0,
          "quantiles": "10-90",
          "timestamp": "22:30:00"
         },
         {
          "ID": 1,
          "max": 0,
          "min": 0,
          "quantiles": "10-90",
          "timestamp": "22:45:00"
         },
         {
          "ID": 1,
          "max": 0,
          "min": 0,
          "quantiles": "10-90",
          "timestamp": "23:00:00"
         },
         {
          "ID": 1,
          "max": 0,
          "min": 0,
          "quantiles": "10-90",
          "timestamp": "23:15:00"
         },
         {
          "ID": 1,
          "max": 0,
          "min": 0,
          "quantiles": "10-90",
          "timestamp": "23:30:00"
         },
         {
          "ID": 1,
          "max": 0,
          "min": 0,
          "quantiles": "10-90",
          "timestamp": "23:45:00"
         },
         {
          "ID": 1,
          "max": 1,
          "min": 1,
          "quantiles": "15-85",
          "timestamp": "ID"
         },
         {
          "ID": 1,
          "max": 0,
          "min": 0,
          "quantiles": "15-85",
          "timestamp": "00:00:00"
         },
         {
          "ID": 1,
          "max": 0,
          "min": 0,
          "quantiles": "15-85",
          "timestamp": "00:15:00"
         },
         {
          "ID": 1,
          "max": 0,
          "min": 0,
          "quantiles": "15-85",
          "timestamp": "00:30:00"
         },
         {
          "ID": 1,
          "max": 0,
          "min": 0,
          "quantiles": "15-85",
          "timestamp": "00:45:00"
         },
         {
          "ID": 1,
          "max": 0,
          "min": 0,
          "quantiles": "15-85",
          "timestamp": "01:00:00"
         },
         {
          "ID": 1,
          "max": 0,
          "min": 0,
          "quantiles": "15-85",
          "timestamp": "01:15:00"
         },
         {
          "ID": 1,
          "max": 0,
          "min": 0,
          "quantiles": "15-85",
          "timestamp": "01:30:00"
         },
         {
          "ID": 1,
          "max": 0,
          "min": 0,
          "quantiles": "15-85",
          "timestamp": "01:45:00"
         },
         {
          "ID": 1,
          "max": 0,
          "min": 0,
          "quantiles": "15-85",
          "timestamp": "02:00:00"
         },
         {
          "ID": 1,
          "max": 0,
          "min": 0,
          "quantiles": "15-85",
          "timestamp": "02:15:00"
         },
         {
          "ID": 1,
          "max": 0,
          "min": 0,
          "quantiles": "15-85",
          "timestamp": "02:30:00"
         },
         {
          "ID": 1,
          "max": 0,
          "min": 0,
          "quantiles": "15-85",
          "timestamp": "02:45:00"
         },
         {
          "ID": 1,
          "max": 0,
          "min": 0,
          "quantiles": "15-85",
          "timestamp": "03:00:00"
         },
         {
          "ID": 1,
          "max": 0,
          "min": 0,
          "quantiles": "15-85",
          "timestamp": "03:15:00"
         },
         {
          "ID": 1,
          "max": 0,
          "min": 0,
          "quantiles": "15-85",
          "timestamp": "03:30:00"
         },
         {
          "ID": 1,
          "max": 0,
          "min": 0,
          "quantiles": "15-85",
          "timestamp": "03:45:00"
         },
         {
          "ID": 1,
          "max": 0,
          "min": 0,
          "quantiles": "15-85",
          "timestamp": "04:00:00"
         },
         {
          "ID": 1,
          "max": 0,
          "min": 0,
          "quantiles": "15-85",
          "timestamp": "04:15:00"
         },
         {
          "ID": 1,
          "max": 0,
          "min": 0,
          "quantiles": "15-85",
          "timestamp": "04:30:00"
         },
         {
          "ID": 1,
          "max": 0,
          "min": 0,
          "quantiles": "15-85",
          "timestamp": "04:45:00"
         },
         {
          "ID": 1,
          "max": 0,
          "min": 0,
          "quantiles": "15-85",
          "timestamp": "05:00:00"
         },
         {
          "ID": 1,
          "max": 0.003,
          "min": 0,
          "quantiles": "15-85",
          "timestamp": "05:15:00"
         },
         {
          "ID": 1,
          "max": 0.013,
          "min": 0,
          "quantiles": "15-85",
          "timestamp": "05:30:00"
         },
         {
          "ID": 1,
          "max": 0.03,
          "min": 0,
          "quantiles": "15-85",
          "timestamp": "05:45:00"
         },
         {
          "ID": 1,
          "max": 0.049,
          "min": 0,
          "quantiles": "15-85",
          "timestamp": "06:00:00"
         },
         {
          "ID": 1,
          "max": 0.07,
          "min": 0,
          "quantiles": "15-85",
          "timestamp": "06:15:00"
         },
         {
          "ID": 1,
          "max": 0.094,
          "min": 0,
          "quantiles": "15-85",
          "timestamp": "06:30:00"
         },
         {
          "ID": 1,
          "max": 0.122,
          "min": 0,
          "quantiles": "15-85",
          "timestamp": "06:45:00"
         },
         {
          "ID": 1,
          "max": 0.155,
          "min": 0,
          "quantiles": "15-85",
          "timestamp": "07:00:00"
         },
         {
          "ID": 1,
          "max": 0.195,
          "min": 0,
          "quantiles": "15-85",
          "timestamp": "07:15:00"
         },
         {
          "ID": 1,
          "max": 0.232,
          "min": 0,
          "quantiles": "15-85",
          "timestamp": "07:30:00"
         },
         {
          "ID": 1,
          "max": 0.264,
          "min": 0,
          "quantiles": "15-85",
          "timestamp": "07:45:00"
         },
         {
          "ID": 1,
          "max": 0.299,
          "min": 0,
          "quantiles": "15-85",
          "timestamp": "08:00:00"
         },
         {
          "ID": 1,
          "max": 0.325,
          "min": 0,
          "quantiles": "15-85",
          "timestamp": "08:15:00"
         },
         {
          "ID": 1,
          "max": 0.363,
          "min": 0,
          "quantiles": "15-85",
          "timestamp": "08:30:00"
         },
         {
          "ID": 1,
          "max": 0.402,
          "min": 0,
          "quantiles": "15-85",
          "timestamp": "08:45:00"
         },
         {
          "ID": 1,
          "max": 0.429,
          "min": 0,
          "quantiles": "15-85",
          "timestamp": "09:00:00"
         },
         {
          "ID": 1,
          "max": 0.458,
          "min": 0,
          "quantiles": "15-85",
          "timestamp": "09:15:00"
         },
         {
          "ID": 1,
          "max": 0.476,
          "min": 0,
          "quantiles": "15-85",
          "timestamp": "09:30:00"
         },
         {
          "ID": 1,
          "max": 0.501,
          "min": 0,
          "quantiles": "15-85",
          "timestamp": "09:45:00"
         },
         {
          "ID": 1,
          "max": 0.521,
          "min": 0.002,
          "quantiles": "15-85",
          "timestamp": "10:00:00"
         },
         {
          "ID": 1,
          "max": 0.541,
          "min": 0.003,
          "quantiles": "15-85",
          "timestamp": "10:15:00"
         },
         {
          "ID": 1,
          "max": 0.546,
          "min": 0.008,
          "quantiles": "15-85",
          "timestamp": "10:30:00"
         },
         {
          "ID": 1,
          "max": 0.552,
          "min": 0.009,
          "quantiles": "15-85",
          "timestamp": "10:45:00"
         },
         {
          "ID": 1,
          "max": 0.558,
          "min": 0.01,
          "quantiles": "15-85",
          "timestamp": "11:00:00"
         },
         {
          "ID": 1,
          "max": 0.56,
          "min": 0.015,
          "quantiles": "15-85",
          "timestamp": "11:15:00"
         },
         {
          "ID": 1,
          "max": 0.568,
          "min": 0.016,
          "quantiles": "15-85",
          "timestamp": "11:30:00"
         },
         {
          "ID": 1,
          "max": 0.567,
          "min": 0.016,
          "quantiles": "15-85",
          "timestamp": "11:45:00"
         },
         {
          "ID": 1,
          "max": 0.559,
          "min": 0.016,
          "quantiles": "15-85",
          "timestamp": "12:00:00"
         },
         {
          "ID": 1,
          "max": 0.553,
          "min": 0.012,
          "quantiles": "15-85",
          "timestamp": "12:15:00"
         },
         {
          "ID": 1,
          "max": 0.547,
          "min": 0.012,
          "quantiles": "15-85",
          "timestamp": "12:30:00"
         },
         {
          "ID": 1,
          "max": 0.544,
          "min": 0.01,
          "quantiles": "15-85",
          "timestamp": "12:45:00"
         },
         {
          "ID": 1,
          "max": 0.537,
          "min": 0.008,
          "quantiles": "15-85",
          "timestamp": "13:00:00"
         },
         {
          "ID": 1,
          "max": 0.534,
          "min": 0.006,
          "quantiles": "15-85",
          "timestamp": "13:15:00"
         },
         {
          "ID": 1,
          "max": 0.524,
          "min": 0.004,
          "quantiles": "15-85",
          "timestamp": "13:30:00"
         },
         {
          "ID": 1,
          "max": 0.508,
          "min": 0.002,
          "quantiles": "15-85",
          "timestamp": "13:45:00"
         },
         {
          "ID": 1,
          "max": 0.489,
          "min": 0,
          "quantiles": "15-85",
          "timestamp": "14:00:00"
         },
         {
          "ID": 1,
          "max": 0.48,
          "min": 0,
          "quantiles": "15-85",
          "timestamp": "14:15:00"
         },
         {
          "ID": 1,
          "max": 0.45,
          "min": 0,
          "quantiles": "15-85",
          "timestamp": "14:30:00"
         },
         {
          "ID": 1,
          "max": 0.425,
          "min": 0,
          "quantiles": "15-85",
          "timestamp": "14:45:00"
         },
         {
          "ID": 1,
          "max": 0.395,
          "min": 0,
          "quantiles": "15-85",
          "timestamp": "15:00:00"
         },
         {
          "ID": 1,
          "max": 0.356,
          "min": 0,
          "quantiles": "15-85",
          "timestamp": "15:15:00"
         },
         {
          "ID": 1,
          "max": 0.318,
          "min": 0,
          "quantiles": "15-85",
          "timestamp": "15:30:00"
         },
         {
          "ID": 1,
          "max": 0.28,
          "min": 0,
          "quantiles": "15-85",
          "timestamp": "15:45:00"
         },
         {
          "ID": 1,
          "max": 0.24,
          "min": 0,
          "quantiles": "15-85",
          "timestamp": "16:00:00"
         },
         {
          "ID": 1,
          "max": 0.2,
          "min": 0,
          "quantiles": "15-85",
          "timestamp": "16:15:00"
         },
         {
          "ID": 1,
          "max": 0.168,
          "min": 0,
          "quantiles": "15-85",
          "timestamp": "16:30:00"
         },
         {
          "ID": 1,
          "max": 0.13,
          "min": 0,
          "quantiles": "15-85",
          "timestamp": "16:45:00"
         },
         {
          "ID": 1,
          "max": 0.1,
          "min": 0,
          "quantiles": "15-85",
          "timestamp": "17:00:00"
         },
         {
          "ID": 1,
          "max": 0.07,
          "min": 0,
          "quantiles": "15-85",
          "timestamp": "17:15:00"
         },
         {
          "ID": 1,
          "max": 0.04,
          "min": 0,
          "quantiles": "15-85",
          "timestamp": "17:30:00"
         },
         {
          "ID": 1,
          "max": 0.021,
          "min": 0,
          "quantiles": "15-85",
          "timestamp": "17:45:00"
         },
         {
          "ID": 1,
          "max": 0.007,
          "min": 0,
          "quantiles": "15-85",
          "timestamp": "18:00:00"
         },
         {
          "ID": 1,
          "max": 0,
          "min": 0,
          "quantiles": "15-85",
          "timestamp": "18:15:00"
         },
         {
          "ID": 1,
          "max": 0,
          "min": 0,
          "quantiles": "15-85",
          "timestamp": "18:30:00"
         },
         {
          "ID": 1,
          "max": 0,
          "min": 0,
          "quantiles": "15-85",
          "timestamp": "18:45:00"
         },
         {
          "ID": 1,
          "max": 0,
          "min": 0,
          "quantiles": "15-85",
          "timestamp": "19:00:00"
         },
         {
          "ID": 1,
          "max": 0,
          "min": 0,
          "quantiles": "15-85",
          "timestamp": "19:15:00"
         },
         {
          "ID": 1,
          "max": 0,
          "min": 0,
          "quantiles": "15-85",
          "timestamp": "19:30:00"
         },
         {
          "ID": 1,
          "max": 0,
          "min": 0,
          "quantiles": "15-85",
          "timestamp": "19:45:00"
         },
         {
          "ID": 1,
          "max": 0,
          "min": 0,
          "quantiles": "15-85",
          "timestamp": "20:00:00"
         },
         {
          "ID": 1,
          "max": 0,
          "min": 0,
          "quantiles": "15-85",
          "timestamp": "20:15:00"
         },
         {
          "ID": 1,
          "max": 0,
          "min": 0,
          "quantiles": "15-85",
          "timestamp": "20:30:00"
         },
         {
          "ID": 1,
          "max": 0,
          "min": 0,
          "quantiles": "15-85",
          "timestamp": "20:45:00"
         },
         {
          "ID": 1,
          "max": 0,
          "min": 0,
          "quantiles": "15-85",
          "timestamp": "21:00:00"
         },
         {
          "ID": 1,
          "max": 0,
          "min": 0,
          "quantiles": "15-85",
          "timestamp": "21:15:00"
         },
         {
          "ID": 1,
          "max": 0,
          "min": 0,
          "quantiles": "15-85",
          "timestamp": "21:30:00"
         },
         {
          "ID": 1,
          "max": 0,
          "min": 0,
          "quantiles": "15-85",
          "timestamp": "21:45:00"
         },
         {
          "ID": 1,
          "max": 0,
          "min": 0,
          "quantiles": "15-85",
          "timestamp": "22:00:00"
         },
         {
          "ID": 1,
          "max": 0,
          "min": 0,
          "quantiles": "15-85",
          "timestamp": "22:15:00"
         },
         {
          "ID": 1,
          "max": 0,
          "min": 0,
          "quantiles": "15-85",
          "timestamp": "22:30:00"
         },
         {
          "ID": 1,
          "max": 0,
          "min": 0,
          "quantiles": "15-85",
          "timestamp": "22:45:00"
         },
         {
          "ID": 1,
          "max": 0,
          "min": 0,
          "quantiles": "15-85",
          "timestamp": "23:00:00"
         },
         {
          "ID": 1,
          "max": 0,
          "min": 0,
          "quantiles": "15-85",
          "timestamp": "23:15:00"
         },
         {
          "ID": 1,
          "max": 0,
          "min": 0,
          "quantiles": "15-85",
          "timestamp": "23:30:00"
         },
         {
          "ID": 1,
          "max": 0,
          "min": 0,
          "quantiles": "15-85",
          "timestamp": "23:45:00"
         },
         {
          "ID": 1,
          "max": 1,
          "min": 1,
          "quantiles": "20-80",
          "timestamp": "ID"
         },
         {
          "ID": 1,
          "max": 0,
          "min": 0,
          "quantiles": "20-80",
          "timestamp": "00:00:00"
         },
         {
          "ID": 1,
          "max": 0,
          "min": 0,
          "quantiles": "20-80",
          "timestamp": "00:15:00"
         },
         {
          "ID": 1,
          "max": 0,
          "min": 0,
          "quantiles": "20-80",
          "timestamp": "00:30:00"
         },
         {
          "ID": 1,
          "max": 0,
          "min": 0,
          "quantiles": "20-80",
          "timestamp": "00:45:00"
         },
         {
          "ID": 1,
          "max": 0,
          "min": 0,
          "quantiles": "20-80",
          "timestamp": "01:00:00"
         },
         {
          "ID": 1,
          "max": 0,
          "min": 0,
          "quantiles": "20-80",
          "timestamp": "01:15:00"
         },
         {
          "ID": 1,
          "max": 0,
          "min": 0,
          "quantiles": "20-80",
          "timestamp": "01:30:00"
         },
         {
          "ID": 1,
          "max": 0,
          "min": 0,
          "quantiles": "20-80",
          "timestamp": "01:45:00"
         },
         {
          "ID": 1,
          "max": 0,
          "min": 0,
          "quantiles": "20-80",
          "timestamp": "02:00:00"
         },
         {
          "ID": 1,
          "max": 0,
          "min": 0,
          "quantiles": "20-80",
          "timestamp": "02:15:00"
         },
         {
          "ID": 1,
          "max": 0,
          "min": 0,
          "quantiles": "20-80",
          "timestamp": "02:30:00"
         },
         {
          "ID": 1,
          "max": 0,
          "min": 0,
          "quantiles": "20-80",
          "timestamp": "02:45:00"
         },
         {
          "ID": 1,
          "max": 0,
          "min": 0,
          "quantiles": "20-80",
          "timestamp": "03:00:00"
         },
         {
          "ID": 1,
          "max": 0,
          "min": 0,
          "quantiles": "20-80",
          "timestamp": "03:15:00"
         },
         {
          "ID": 1,
          "max": 0,
          "min": 0,
          "quantiles": "20-80",
          "timestamp": "03:30:00"
         },
         {
          "ID": 1,
          "max": 0,
          "min": 0,
          "quantiles": "20-80",
          "timestamp": "03:45:00"
         },
         {
          "ID": 1,
          "max": 0,
          "min": 0,
          "quantiles": "20-80",
          "timestamp": "04:00:00"
         },
         {
          "ID": 1,
          "max": 0,
          "min": 0,
          "quantiles": "20-80",
          "timestamp": "04:15:00"
         },
         {
          "ID": 1,
          "max": 0,
          "min": 0,
          "quantiles": "20-80",
          "timestamp": "04:30:00"
         },
         {
          "ID": 1,
          "max": 0,
          "min": 0,
          "quantiles": "20-80",
          "timestamp": "04:45:00"
         },
         {
          "ID": 1,
          "max": 0,
          "min": 0,
          "quantiles": "20-80",
          "timestamp": "05:00:00"
         },
         {
          "ID": 1,
          "max": 0,
          "min": 0,
          "quantiles": "20-80",
          "timestamp": "05:15:00"
         },
         {
          "ID": 1,
          "max": 0.003,
          "min": 0,
          "quantiles": "20-80",
          "timestamp": "05:30:00"
         },
         {
          "ID": 1,
          "max": 0.011,
          "min": 0,
          "quantiles": "20-80",
          "timestamp": "05:45:00"
         },
         {
          "ID": 1,
          "max": 0.024,
          "min": 0,
          "quantiles": "20-80",
          "timestamp": "06:00:00"
         },
         {
          "ID": 1,
          "max": 0.042,
          "min": 0,
          "quantiles": "20-80",
          "timestamp": "06:15:00"
         },
         {
          "ID": 1,
          "max": 0.058,
          "min": 0,
          "quantiles": "20-80",
          "timestamp": "06:30:00"
         },
         {
          "ID": 1,
          "max": 0.082,
          "min": 0,
          "quantiles": "20-80",
          "timestamp": "06:45:00"
         },
         {
          "ID": 1,
          "max": 0.106,
          "min": 0,
          "quantiles": "20-80",
          "timestamp": "07:00:00"
         },
         {
          "ID": 1,
          "max": 0.138,
          "min": 0,
          "quantiles": "20-80",
          "timestamp": "07:15:00"
         },
         {
          "ID": 1,
          "max": 0.169,
          "min": 0,
          "quantiles": "20-80",
          "timestamp": "07:30:00"
         },
         {
          "ID": 1,
          "max": 0.201,
          "min": 0,
          "quantiles": "20-80",
          "timestamp": "07:45:00"
         },
         {
          "ID": 1,
          "max": 0.227,
          "min": 0,
          "quantiles": "20-80",
          "timestamp": "08:00:00"
         },
         {
          "ID": 1,
          "max": 0.253,
          "min": 0,
          "quantiles": "20-80",
          "timestamp": "08:15:00"
         },
         {
          "ID": 1,
          "max": 0.29,
          "min": 0,
          "quantiles": "20-80",
          "timestamp": "08:30:00"
         },
         {
          "ID": 1,
          "max": 0.322,
          "min": 0,
          "quantiles": "20-80",
          "timestamp": "08:45:00"
         },
         {
          "ID": 1,
          "max": 0.353,
          "min": 0,
          "quantiles": "20-80",
          "timestamp": "09:00:00"
         },
         {
          "ID": 1,
          "max": 0.379,
          "min": 0,
          "quantiles": "20-80",
          "timestamp": "09:15:00"
         },
         {
          "ID": 1,
          "max": 0.4,
          "min": 0.002,
          "quantiles": "20-80",
          "timestamp": "09:30:00"
         },
         {
          "ID": 1,
          "max": 0.421,
          "min": 0.007,
          "quantiles": "20-80",
          "timestamp": "09:45:00"
         },
         {
          "ID": 1,
          "max": 0.449,
          "min": 0.011,
          "quantiles": "20-80",
          "timestamp": "10:00:00"
         },
         {
          "ID": 1,
          "max": 0.464,
          "min": 0.015,
          "quantiles": "20-80",
          "timestamp": "10:15:00"
         },
         {
          "ID": 1,
          "max": 0.473,
          "min": 0.02,
          "quantiles": "20-80",
          "timestamp": "10:30:00"
         },
         {
          "ID": 1,
          "max": 0.481,
          "min": 0.024,
          "quantiles": "20-80",
          "timestamp": "10:45:00"
         },
         {
          "ID": 1,
          "max": 0.483,
          "min": 0.027,
          "quantiles": "20-80",
          "timestamp": "11:00:00"
         },
         {
          "ID": 1,
          "max": 0.491,
          "min": 0.033,
          "quantiles": "20-80",
          "timestamp": "11:15:00"
         },
         {
          "ID": 1,
          "max": 0.5,
          "min": 0.035,
          "quantiles": "20-80",
          "timestamp": "11:30:00"
         },
         {
          "ID": 1,
          "max": 0.499,
          "min": 0.034,
          "quantiles": "20-80",
          "timestamp": "11:45:00"
         },
         {
          "ID": 1,
          "max": 0.491,
          "min": 0.035,
          "quantiles": "20-80",
          "timestamp": "12:00:00"
         },
         {
          "ID": 1,
          "max": 0.488,
          "min": 0.03,
          "quantiles": "20-80",
          "timestamp": "12:15:00"
         },
         {
          "ID": 1,
          "max": 0.482,
          "min": 0.029,
          "quantiles": "20-80",
          "timestamp": "12:30:00"
         },
         {
          "ID": 1,
          "max": 0.472,
          "min": 0.025,
          "quantiles": "20-80",
          "timestamp": "12:45:00"
         },
         {
          "ID": 1,
          "max": 0.47,
          "min": 0.024,
          "quantiles": "20-80",
          "timestamp": "13:00:00"
         },
         {
          "ID": 1,
          "max": 0.466,
          "min": 0.02,
          "quantiles": "20-80",
          "timestamp": "13:15:00"
         },
         {
          "ID": 1,
          "max": 0.453,
          "min": 0.017,
          "quantiles": "20-80",
          "timestamp": "13:30:00"
         },
         {
          "ID": 1,
          "max": 0.44,
          "min": 0.012,
          "quantiles": "20-80",
          "timestamp": "13:45:00"
         },
         {
          "ID": 1,
          "max": 0.415,
          "min": 0.008,
          "quantiles": "20-80",
          "timestamp": "14:00:00"
         },
         {
          "ID": 1,
          "max": 0.399,
          "min": 0.002,
          "quantiles": "20-80",
          "timestamp": "14:15:00"
         },
         {
          "ID": 1,
          "max": 0.373,
          "min": 0,
          "quantiles": "20-80",
          "timestamp": "14:30:00"
         },
         {
          "ID": 1,
          "max": 0.348,
          "min": 0,
          "quantiles": "20-80",
          "timestamp": "14:45:00"
         },
         {
          "ID": 1,
          "max": 0.315,
          "min": 0,
          "quantiles": "20-80",
          "timestamp": "15:00:00"
         },
         {
          "ID": 1,
          "max": 0.275,
          "min": 0,
          "quantiles": "20-80",
          "timestamp": "15:15:00"
         },
         {
          "ID": 1,
          "max": 0.24,
          "min": 0,
          "quantiles": "20-80",
          "timestamp": "15:30:00"
         },
         {
          "ID": 1,
          "max": 0.209,
          "min": 0,
          "quantiles": "20-80",
          "timestamp": "15:45:00"
         },
         {
          "ID": 1,
          "max": 0.17,
          "min": 0,
          "quantiles": "20-80",
          "timestamp": "16:00:00"
         },
         {
          "ID": 1,
          "max": 0.14,
          "min": 0,
          "quantiles": "20-80",
          "timestamp": "16:15:00"
         },
         {
          "ID": 1,
          "max": 0.108,
          "min": 0,
          "quantiles": "20-80",
          "timestamp": "16:30:00"
         },
         {
          "ID": 1,
          "max": 0.08,
          "min": 0,
          "quantiles": "20-80",
          "timestamp": "16:45:00"
         },
         {
          "ID": 1,
          "max": 0.055,
          "min": 0,
          "quantiles": "20-80",
          "timestamp": "17:00:00"
         },
         {
          "ID": 1,
          "max": 0.03,
          "min": 0,
          "quantiles": "20-80",
          "timestamp": "17:15:00"
         },
         {
          "ID": 1,
          "max": 0.015,
          "min": 0,
          "quantiles": "20-80",
          "timestamp": "17:30:00"
         },
         {
          "ID": 1,
          "max": 0.004,
          "min": 0,
          "quantiles": "20-80",
          "timestamp": "17:45:00"
         },
         {
          "ID": 1,
          "max": 0,
          "min": 0,
          "quantiles": "20-80",
          "timestamp": "18:00:00"
         },
         {
          "ID": 1,
          "max": 0,
          "min": 0,
          "quantiles": "20-80",
          "timestamp": "18:15:00"
         },
         {
          "ID": 1,
          "max": 0,
          "min": 0,
          "quantiles": "20-80",
          "timestamp": "18:30:00"
         },
         {
          "ID": 1,
          "max": 0,
          "min": 0,
          "quantiles": "20-80",
          "timestamp": "18:45:00"
         },
         {
          "ID": 1,
          "max": 0,
          "min": 0,
          "quantiles": "20-80",
          "timestamp": "19:00:00"
         },
         {
          "ID": 1,
          "max": 0,
          "min": 0,
          "quantiles": "20-80",
          "timestamp": "19:15:00"
         },
         {
          "ID": 1,
          "max": 0,
          "min": 0,
          "quantiles": "20-80",
          "timestamp": "19:30:00"
         },
         {
          "ID": 1,
          "max": 0,
          "min": 0,
          "quantiles": "20-80",
          "timestamp": "19:45:00"
         },
         {
          "ID": 1,
          "max": 0,
          "min": 0,
          "quantiles": "20-80",
          "timestamp": "20:00:00"
         },
         {
          "ID": 1,
          "max": 0,
          "min": 0,
          "quantiles": "20-80",
          "timestamp": "20:15:00"
         },
         {
          "ID": 1,
          "max": 0,
          "min": 0,
          "quantiles": "20-80",
          "timestamp": "20:30:00"
         },
         {
          "ID": 1,
          "max": 0,
          "min": 0,
          "quantiles": "20-80",
          "timestamp": "20:45:00"
         },
         {
          "ID": 1,
          "max": 0,
          "min": 0,
          "quantiles": "20-80",
          "timestamp": "21:00:00"
         },
         {
          "ID": 1,
          "max": 0,
          "min": 0,
          "quantiles": "20-80",
          "timestamp": "21:15:00"
         },
         {
          "ID": 1,
          "max": 0,
          "min": 0,
          "quantiles": "20-80",
          "timestamp": "21:30:00"
         },
         {
          "ID": 1,
          "max": 0,
          "min": 0,
          "quantiles": "20-80",
          "timestamp": "21:45:00"
         },
         {
          "ID": 1,
          "max": 0,
          "min": 0,
          "quantiles": "20-80",
          "timestamp": "22:00:00"
         },
         {
          "ID": 1,
          "max": 0,
          "min": 0,
          "quantiles": "20-80",
          "timestamp": "22:15:00"
         },
         {
          "ID": 1,
          "max": 0,
          "min": 0,
          "quantiles": "20-80",
          "timestamp": "22:30:00"
         },
         {
          "ID": 1,
          "max": 0,
          "min": 0,
          "quantiles": "20-80",
          "timestamp": "22:45:00"
         },
         {
          "ID": 1,
          "max": 0,
          "min": 0,
          "quantiles": "20-80",
          "timestamp": "23:00:00"
         },
         {
          "ID": 1,
          "max": 0,
          "min": 0,
          "quantiles": "20-80",
          "timestamp": "23:15:00"
         },
         {
          "ID": 1,
          "max": 0,
          "min": 0,
          "quantiles": "20-80",
          "timestamp": "23:30:00"
         },
         {
          "ID": 1,
          "max": 0,
          "min": 0,
          "quantiles": "20-80",
          "timestamp": "23:45:00"
         },
         {
          "ID": 1,
          "max": 1,
          "min": 1,
          "quantiles": "25-75",
          "timestamp": "ID"
         },
         {
          "ID": 1,
          "max": 0,
          "min": 0,
          "quantiles": "25-75",
          "timestamp": "00:00:00"
         },
         {
          "ID": 1,
          "max": 0,
          "min": 0,
          "quantiles": "25-75",
          "timestamp": "00:15:00"
         },
         {
          "ID": 1,
          "max": 0,
          "min": 0,
          "quantiles": "25-75",
          "timestamp": "00:30:00"
         },
         {
          "ID": 1,
          "max": 0,
          "min": 0,
          "quantiles": "25-75",
          "timestamp": "00:45:00"
         },
         {
          "ID": 1,
          "max": 0,
          "min": 0,
          "quantiles": "25-75",
          "timestamp": "01:00:00"
         },
         {
          "ID": 1,
          "max": 0,
          "min": 0,
          "quantiles": "25-75",
          "timestamp": "01:15:00"
         },
         {
          "ID": 1,
          "max": 0,
          "min": 0,
          "quantiles": "25-75",
          "timestamp": "01:30:00"
         },
         {
          "ID": 1,
          "max": 0,
          "min": 0,
          "quantiles": "25-75",
          "timestamp": "01:45:00"
         },
         {
          "ID": 1,
          "max": 0,
          "min": 0,
          "quantiles": "25-75",
          "timestamp": "02:00:00"
         },
         {
          "ID": 1,
          "max": 0,
          "min": 0,
          "quantiles": "25-75",
          "timestamp": "02:15:00"
         },
         {
          "ID": 1,
          "max": 0,
          "min": 0,
          "quantiles": "25-75",
          "timestamp": "02:30:00"
         },
         {
          "ID": 1,
          "max": 0,
          "min": 0,
          "quantiles": "25-75",
          "timestamp": "02:45:00"
         },
         {
          "ID": 1,
          "max": 0,
          "min": 0,
          "quantiles": "25-75",
          "timestamp": "03:00:00"
         },
         {
          "ID": 1,
          "max": 0,
          "min": 0,
          "quantiles": "25-75",
          "timestamp": "03:15:00"
         },
         {
          "ID": 1,
          "max": 0,
          "min": 0,
          "quantiles": "25-75",
          "timestamp": "03:30:00"
         },
         {
          "ID": 1,
          "max": 0,
          "min": 0,
          "quantiles": "25-75",
          "timestamp": "03:45:00"
         },
         {
          "ID": 1,
          "max": 0,
          "min": 0,
          "quantiles": "25-75",
          "timestamp": "04:00:00"
         },
         {
          "ID": 1,
          "max": 0,
          "min": 0,
          "quantiles": "25-75",
          "timestamp": "04:15:00"
         },
         {
          "ID": 1,
          "max": 0,
          "min": 0,
          "quantiles": "25-75",
          "timestamp": "04:30:00"
         },
         {
          "ID": 1,
          "max": 0,
          "min": 0,
          "quantiles": "25-75",
          "timestamp": "04:45:00"
         },
         {
          "ID": 1,
          "max": 0,
          "min": 0,
          "quantiles": "25-75",
          "timestamp": "05:00:00"
         },
         {
          "ID": 1,
          "max": 0,
          "min": 0,
          "quantiles": "25-75",
          "timestamp": "05:15:00"
         },
         {
          "ID": 1,
          "max": 0,
          "min": 0,
          "quantiles": "25-75",
          "timestamp": "05:30:00"
         },
         {
          "ID": 1,
          "max": 0.002,
          "min": 0,
          "quantiles": "25-75",
          "timestamp": "05:45:00"
         },
         {
          "ID": 1,
          "max": 0.009,
          "min": 0,
          "quantiles": "25-75",
          "timestamp": "06:00:00"
         },
         {
          "ID": 1,
          "max": 0.021,
          "min": 0,
          "quantiles": "25-75",
          "timestamp": "06:15:00"
         },
         {
          "ID": 1,
          "max": 0.035,
          "min": 0,
          "quantiles": "25-75",
          "timestamp": "06:30:00"
         },
         {
          "ID": 1,
          "max": 0.054,
          "min": 0,
          "quantiles": "25-75",
          "timestamp": "06:45:00"
         },
         {
          "ID": 1,
          "max": 0.072,
          "min": 0,
          "quantiles": "25-75",
          "timestamp": "07:00:00"
         },
         {
          "ID": 1,
          "max": 0.098,
          "min": 0,
          "quantiles": "25-75",
          "timestamp": "07:15:00"
         },
         {
          "ID": 1,
          "max": 0.124,
          "min": 0,
          "quantiles": "25-75",
          "timestamp": "07:30:00"
         },
         {
          "ID": 1,
          "max": 0.153,
          "min": 0,
          "quantiles": "25-75",
          "timestamp": "07:45:00"
         },
         {
          "ID": 1,
          "max": 0.176,
          "min": 0,
          "quantiles": "25-75",
          "timestamp": "08:00:00"
         },
         {
          "ID": 1,
          "max": 0.202,
          "min": 0,
          "quantiles": "25-75",
          "timestamp": "08:15:00"
         },
         {
          "ID": 1,
          "max": 0.233,
          "min": 0,
          "quantiles": "25-75",
          "timestamp": "08:30:00"
         },
         {
          "ID": 1,
          "max": 0.265,
          "min": 0,
          "quantiles": "25-75",
          "timestamp": "08:45:00"
         },
         {
          "ID": 1,
          "max": 0.296,
          "min": 0.002,
          "quantiles": "25-75",
          "timestamp": "09:00:00"
         },
         {
          "ID": 1,
          "max": 0.32,
          "min": 0.008,
          "quantiles": "25-75",
          "timestamp": "09:15:00"
         },
         {
          "ID": 1,
          "max": 0.343,
          "min": 0.012,
          "quantiles": "25-75",
          "timestamp": "09:30:00"
         },
         {
          "ID": 1,
          "max": 0.366,
          "min": 0.02,
          "quantiles": "25-75",
          "timestamp": "09:45:00"
         },
         {
          "ID": 1,
          "max": 0.389,
          "min": 0.027,
          "quantiles": "25-75",
          "timestamp": "10:00:00"
         },
         {
          "ID": 1,
          "max": 0.4,
          "min": 0.032,
          "quantiles": "25-75",
          "timestamp": "10:15:00"
         },
         {
          "ID": 1,
          "max": 0.41,
          "min": 0.038,
          "quantiles": "25-75",
          "timestamp": "10:30:00"
         },
         {
          "ID": 1,
          "max": 0.422,
          "min": 0.043,
          "quantiles": "25-75",
          "timestamp": "10:45:00"
         },
         {
          "ID": 1,
          "max": 0.423,
          "min": 0.047,
          "quantiles": "25-75",
          "timestamp": "11:00:00"
         },
         {
          "ID": 1,
          "max": 0.431,
          "min": 0.053,
          "quantiles": "25-75",
          "timestamp": "11:15:00"
         },
         {
          "ID": 1,
          "max": 0.44,
          "min": 0.055,
          "quantiles": "25-75",
          "timestamp": "11:30:00"
         },
         {
          "ID": 1,
          "max": 0.439,
          "min": 0.055,
          "quantiles": "25-75",
          "timestamp": "11:45:00"
         },
         {
          "ID": 1,
          "max": 0.436,
          "min": 0.055,
          "quantiles": "25-75",
          "timestamp": "12:00:00"
         },
         {
          "ID": 1,
          "max": 0.431,
          "min": 0.05,
          "quantiles": "25-75",
          "timestamp": "12:15:00"
         },
         {
          "ID": 1,
          "max": 0.429,
          "min": 0.047,
          "quantiles": "25-75",
          "timestamp": "12:30:00"
         },
         {
          "ID": 1,
          "max": 0.417,
          "min": 0.043,
          "quantiles": "25-75",
          "timestamp": "12:45:00"
         },
         {
          "ID": 1,
          "max": 0.411,
          "min": 0.042611,
          "quantiles": "25-75",
          "timestamp": "13:00:00"
         },
         {
          "ID": 1,
          "max": 0.409,
          "min": 0.039,
          "quantiles": "25-75",
          "timestamp": "13:15:00"
         },
         {
          "ID": 1,
          "max": 0.398,
          "min": 0.035,
          "quantiles": "25-75",
          "timestamp": "13:30:00"
         },
         {
          "ID": 1,
          "max": 0.383,
          "min": 0.03,
          "quantiles": "25-75",
          "timestamp": "13:45:00"
         },
         {
          "ID": 1,
          "max": 0.36,
          "min": 0.024,
          "quantiles": "25-75",
          "timestamp": "14:00:00"
         },
         {
          "ID": 1,
          "max": 0.34,
          "min": 0.013,
          "quantiles": "25-75",
          "timestamp": "14:15:00"
         },
         {
          "ID": 1,
          "max": 0.312,
          "min": 0.007,
          "quantiles": "25-75",
          "timestamp": "14:30:00"
         },
         {
          "ID": 1,
          "max": 0.283,
          "min": 0.002,
          "quantiles": "25-75",
          "timestamp": "14:45:00"
         },
         {
          "ID": 1,
          "max": 0.254,
          "min": 0,
          "quantiles": "25-75",
          "timestamp": "15:00:00"
         },
         {
          "ID": 1,
          "max": 0.218,
          "min": 0,
          "quantiles": "25-75",
          "timestamp": "15:15:00"
         },
         {
          "ID": 1,
          "max": 0.186,
          "min": 0,
          "quantiles": "25-75",
          "timestamp": "15:30:00"
         },
         {
          "ID": 1,
          "max": 0.155,
          "min": 0,
          "quantiles": "25-75",
          "timestamp": "15:45:00"
         },
         {
          "ID": 1,
          "max": 0.124,
          "min": 0,
          "quantiles": "25-75",
          "timestamp": "16:00:00"
         },
         {
          "ID": 1,
          "max": 0.096,
          "min": 0,
          "quantiles": "25-75",
          "timestamp": "16:15:00"
         },
         {
          "ID": 1,
          "max": 0.072,
          "min": 0,
          "quantiles": "25-75",
          "timestamp": "16:30:00"
         },
         {
          "ID": 1,
          "max": 0.049,
          "min": 0,
          "quantiles": "25-75",
          "timestamp": "16:45:00"
         },
         {
          "ID": 1,
          "max": 0.029,
          "min": 0,
          "quantiles": "25-75",
          "timestamp": "17:00:00"
         },
         {
          "ID": 1,
          "max": 0.012,
          "min": 0,
          "quantiles": "25-75",
          "timestamp": "17:15:00"
         },
         {
          "ID": 1,
          "max": 0.003,
          "min": 0,
          "quantiles": "25-75",
          "timestamp": "17:30:00"
         },
         {
          "ID": 1,
          "max": 0,
          "min": 0,
          "quantiles": "25-75",
          "timestamp": "17:45:00"
         },
         {
          "ID": 1,
          "max": 0,
          "min": 0,
          "quantiles": "25-75",
          "timestamp": "18:00:00"
         },
         {
          "ID": 1,
          "max": 0,
          "min": 0,
          "quantiles": "25-75",
          "timestamp": "18:15:00"
         },
         {
          "ID": 1,
          "max": 0,
          "min": 0,
          "quantiles": "25-75",
          "timestamp": "18:30:00"
         },
         {
          "ID": 1,
          "max": 0,
          "min": 0,
          "quantiles": "25-75",
          "timestamp": "18:45:00"
         },
         {
          "ID": 1,
          "max": 0,
          "min": 0,
          "quantiles": "25-75",
          "timestamp": "19:00:00"
         },
         {
          "ID": 1,
          "max": 0,
          "min": 0,
          "quantiles": "25-75",
          "timestamp": "19:15:00"
         },
         {
          "ID": 1,
          "max": 0,
          "min": 0,
          "quantiles": "25-75",
          "timestamp": "19:30:00"
         },
         {
          "ID": 1,
          "max": 0,
          "min": 0,
          "quantiles": "25-75",
          "timestamp": "19:45:00"
         },
         {
          "ID": 1,
          "max": 0,
          "min": 0,
          "quantiles": "25-75",
          "timestamp": "20:00:00"
         },
         {
          "ID": 1,
          "max": 0,
          "min": 0,
          "quantiles": "25-75",
          "timestamp": "20:15:00"
         },
         {
          "ID": 1,
          "max": 0,
          "min": 0,
          "quantiles": "25-75",
          "timestamp": "20:30:00"
         },
         {
          "ID": 1,
          "max": 0,
          "min": 0,
          "quantiles": "25-75",
          "timestamp": "20:45:00"
         },
         {
          "ID": 1,
          "max": 0,
          "min": 0,
          "quantiles": "25-75",
          "timestamp": "21:00:00"
         },
         {
          "ID": 1,
          "max": 0,
          "min": 0,
          "quantiles": "25-75",
          "timestamp": "21:15:00"
         },
         {
          "ID": 1,
          "max": 0,
          "min": 0,
          "quantiles": "25-75",
          "timestamp": "21:30:00"
         },
         {
          "ID": 1,
          "max": 0,
          "min": 0,
          "quantiles": "25-75",
          "timestamp": "21:45:00"
         },
         {
          "ID": 1,
          "max": 0,
          "min": 0,
          "quantiles": "25-75",
          "timestamp": "22:00:00"
         },
         {
          "ID": 1,
          "max": 0,
          "min": 0,
          "quantiles": "25-75",
          "timestamp": "22:15:00"
         },
         {
          "ID": 1,
          "max": 0,
          "min": 0,
          "quantiles": "25-75",
          "timestamp": "22:30:00"
         },
         {
          "ID": 1,
          "max": 0,
          "min": 0,
          "quantiles": "25-75",
          "timestamp": "22:45:00"
         },
         {
          "ID": 1,
          "max": 0,
          "min": 0,
          "quantiles": "25-75",
          "timestamp": "23:00:00"
         },
         {
          "ID": 1,
          "max": 0,
          "min": 0,
          "quantiles": "25-75",
          "timestamp": "23:15:00"
         },
         {
          "ID": 1,
          "max": 0,
          "min": 0,
          "quantiles": "25-75",
          "timestamp": "23:30:00"
         },
         {
          "ID": 1,
          "max": 0,
          "min": 0,
          "quantiles": "25-75",
          "timestamp": "23:45:00"
         },
         {
          "ID": 1,
          "max": 1,
          "min": 1,
          "quantiles": "30-70",
          "timestamp": "ID"
         },
         {
          "ID": 1,
          "max": 0,
          "min": 0,
          "quantiles": "30-70",
          "timestamp": "00:00:00"
         },
         {
          "ID": 1,
          "max": 0,
          "min": 0,
          "quantiles": "30-70",
          "timestamp": "00:15:00"
         },
         {
          "ID": 1,
          "max": 0,
          "min": 0,
          "quantiles": "30-70",
          "timestamp": "00:30:00"
         },
         {
          "ID": 1,
          "max": 0,
          "min": 0,
          "quantiles": "30-70",
          "timestamp": "00:45:00"
         },
         {
          "ID": 1,
          "max": 0,
          "min": 0,
          "quantiles": "30-70",
          "timestamp": "01:00:00"
         },
         {
          "ID": 1,
          "max": 0,
          "min": 0,
          "quantiles": "30-70",
          "timestamp": "01:15:00"
         },
         {
          "ID": 1,
          "max": 0,
          "min": 0,
          "quantiles": "30-70",
          "timestamp": "01:30:00"
         },
         {
          "ID": 1,
          "max": 0,
          "min": 0,
          "quantiles": "30-70",
          "timestamp": "01:45:00"
         },
         {
          "ID": 1,
          "max": 0,
          "min": 0,
          "quantiles": "30-70",
          "timestamp": "02:00:00"
         },
         {
          "ID": 1,
          "max": 0,
          "min": 0,
          "quantiles": "30-70",
          "timestamp": "02:15:00"
         },
         {
          "ID": 1,
          "max": 0,
          "min": 0,
          "quantiles": "30-70",
          "timestamp": "02:30:00"
         },
         {
          "ID": 1,
          "max": 0,
          "min": 0,
          "quantiles": "30-70",
          "timestamp": "02:45:00"
         },
         {
          "ID": 1,
          "max": 0,
          "min": 0,
          "quantiles": "30-70",
          "timestamp": "03:00:00"
         },
         {
          "ID": 1,
          "max": 0,
          "min": 0,
          "quantiles": "30-70",
          "timestamp": "03:15:00"
         },
         {
          "ID": 1,
          "max": 0,
          "min": 0,
          "quantiles": "30-70",
          "timestamp": "03:30:00"
         },
         {
          "ID": 1,
          "max": 0,
          "min": 0,
          "quantiles": "30-70",
          "timestamp": "03:45:00"
         },
         {
          "ID": 1,
          "max": 0,
          "min": 0,
          "quantiles": "30-70",
          "timestamp": "04:00:00"
         },
         {
          "ID": 1,
          "max": 0,
          "min": 0,
          "quantiles": "30-70",
          "timestamp": "04:15:00"
         },
         {
          "ID": 1,
          "max": 0,
          "min": 0,
          "quantiles": "30-70",
          "timestamp": "04:30:00"
         },
         {
          "ID": 1,
          "max": 0,
          "min": 0,
          "quantiles": "30-70",
          "timestamp": "04:45:00"
         },
         {
          "ID": 1,
          "max": 0,
          "min": 0,
          "quantiles": "30-70",
          "timestamp": "05:00:00"
         },
         {
          "ID": 1,
          "max": 0,
          "min": 0,
          "quantiles": "30-70",
          "timestamp": "05:15:00"
         },
         {
          "ID": 1,
          "max": 0,
          "min": 0,
          "quantiles": "30-70",
          "timestamp": "05:30:00"
         },
         {
          "ID": 1,
          "max": 0,
          "min": 0,
          "quantiles": "30-70",
          "timestamp": "05:45:00"
         },
         {
          "ID": 1,
          "max": 0.002,
          "min": 0,
          "quantiles": "30-70",
          "timestamp": "06:00:00"
         },
         {
          "ID": 1,
          "max": 0.008,
          "min": 0,
          "quantiles": "30-70",
          "timestamp": "06:15:00"
         },
         {
          "ID": 1,
          "max": 0.017,
          "min": 0,
          "quantiles": "30-70",
          "timestamp": "06:30:00"
         },
         {
          "ID": 1,
          "max": 0.03,
          "min": 0,
          "quantiles": "30-70",
          "timestamp": "06:45:00"
         },
         {
          "ID": 1,
          "max": 0.047,
          "min": 0,
          "quantiles": "30-70",
          "timestamp": "07:00:00"
         },
         {
          "ID": 1,
          "max": 0.069,
          "min": 0,
          "quantiles": "30-70",
          "timestamp": "07:15:00"
         },
         {
          "ID": 1,
          "max": 0.09,
          "min": 0,
          "quantiles": "30-70",
          "timestamp": "07:30:00"
         },
         {
          "ID": 1,
          "max": 0.115,
          "min": 0,
          "quantiles": "30-70",
          "timestamp": "07:45:00"
         },
         {
          "ID": 1,
          "max": 0.133,
          "min": 0,
          "quantiles": "30-70",
          "timestamp": "08:00:00"
         },
         {
          "ID": 1,
          "max": 0.159,
          "min": 0,
          "quantiles": "30-70",
          "timestamp": "08:15:00"
         },
         {
          "ID": 1,
          "max": 0.186,
          "min": 0.001,
          "quantiles": "30-70",
          "timestamp": "08:30:00"
         },
         {
          "ID": 1,
          "max": 0.216,
          "min": 0.005,
          "quantiles": "30-70",
          "timestamp": "08:45:00"
         },
         {
          "ID": 1,
          "max": 0.248,
          "min": 0.012,
          "quantiles": "30-70",
          "timestamp": "09:00:00"
         },
         {
          "ID": 1,
          "max": 0.27,
          "min": 0.02,
          "quantiles": "30-70",
          "timestamp": "09:15:00"
         },
         {
          "ID": 1,
          "max": 0.294,
          "min": 0.03,
          "quantiles": "30-70",
          "timestamp": "09:30:00"
         },
         {
          "ID": 1,
          "max": 0.314,
          "min": 0.039,
          "quantiles": "30-70",
          "timestamp": "09:45:00"
         },
         {
          "ID": 1,
          "max": 0.333,
          "min": 0.046,
          "quantiles": "30-70",
          "timestamp": "10:00:00"
         },
         {
          "ID": 1,
          "max": 0.348,
          "min": 0.054,
          "quantiles": "30-70",
          "timestamp": "10:15:00"
         },
         {
          "ID": 1,
          "max": 0.359,
          "min": 0.059,
          "quantiles": "30-70",
          "timestamp": "10:30:00"
         },
         {
          "ID": 1,
          "max": 0.37,
          "min": 0.064,
          "quantiles": "30-70",
          "timestamp": "10:45:00"
         },
         {
          "ID": 1,
          "max": 0.372,
          "min": 0.07,
          "quantiles": "30-70",
          "timestamp": "11:00:00"
         },
         {
          "ID": 1,
          "max": 0.38,
          "min": 0.076,
          "quantiles": "30-70",
          "timestamp": "11:15:00"
         },
         {
          "ID": 1,
          "max": 0.389,
          "min": 0.08,
          "quantiles": "30-70",
          "timestamp": "11:30:00"
         },
         {
          "ID": 1,
          "max": 0.39,
          "min": 0.079,
          "quantiles": "30-70",
          "timestamp": "11:45:00"
         },
         {
          "ID": 1,
          "max": 0.39,
          "min": 0.079,
          "quantiles": "30-70",
          "timestamp": "12:00:00"
         },
         {
          "ID": 1,
          "max": 0.381,
          "min": 0.074,
          "quantiles": "30-70",
          "timestamp": "12:15:00"
         },
         {
          "ID": 1,
          "max": 0.38,
          "min": 0.07,
          "quantiles": "30-70",
          "timestamp": "12:30:00"
         },
         {
          "ID": 1,
          "max": 0.371,
          "min": 0.066,
          "quantiles": "30-70",
          "timestamp": "12:45:00"
         },
         {
          "ID": 1,
          "max": 0.366,
          "min": 0.066,
          "quantiles": "30-70",
          "timestamp": "13:00:00"
         },
         {
          "ID": 1,
          "max": 0.36,
          "min": 0.063,
          "quantiles": "30-70",
          "timestamp": "13:15:00"
         },
         {
          "ID": 1,
          "max": 0.35,
          "min": 0.059,
          "quantiles": "30-70",
          "timestamp": "13:30:00"
         },
         {
          "ID": 1,
          "max": 0.333,
          "min": 0.051,
          "quantiles": "30-70",
          "timestamp": "13:45:00"
         },
         {
          "ID": 1,
          "max": 0.313,
          "min": 0.044,
          "quantiles": "30-70",
          "timestamp": "14:00:00"
         },
         {
          "ID": 1,
          "max": 0.293,
          "min": 0.03,
          "quantiles": "30-70",
          "timestamp": "14:15:00"
         },
         {
          "ID": 1,
          "max": 0.269,
          "min": 0.021,
          "quantiles": "30-70",
          "timestamp": "14:30:00"
         },
         {
          "ID": 1,
          "max": 0.236,
          "min": 0.012,
          "quantiles": "30-70",
          "timestamp": "14:45:00"
         },
         {
          "ID": 1,
          "max": 0.207,
          "min": 0.003,
          "quantiles": "30-70",
          "timestamp": "15:00:00"
         },
         {
          "ID": 1,
          "max": 0.17,
          "min": 0,
          "quantiles": "30-70",
          "timestamp": "15:15:00"
         },
         {
          "ID": 1,
          "max": 0.145,
          "min": 0,
          "quantiles": "30-70",
          "timestamp": "15:30:00"
         },
         {
          "ID": 1,
          "max": 0.115,
          "min": 0,
          "quantiles": "30-70",
          "timestamp": "15:45:00"
         },
         {
          "ID": 1,
          "max": 0.09,
          "min": 0,
          "quantiles": "30-70",
          "timestamp": "16:00:00"
         },
         {
          "ID": 1,
          "max": 0.067,
          "min": 0,
          "quantiles": "30-70",
          "timestamp": "16:15:00"
         },
         {
          "ID": 1,
          "max": 0.046,
          "min": 0,
          "quantiles": "30-70",
          "timestamp": "16:30:00"
         },
         {
          "ID": 1,
          "max": 0.027,
          "min": 0,
          "quantiles": "30-70",
          "timestamp": "16:45:00"
         },
         {
          "ID": 1,
          "max": 0.01,
          "min": 0,
          "quantiles": "30-70",
          "timestamp": "17:00:00"
         },
         {
          "ID": 1,
          "max": 0.003,
          "min": 0,
          "quantiles": "30-70",
          "timestamp": "17:15:00"
         },
         {
          "ID": 1,
          "max": 0,
          "min": 0,
          "quantiles": "30-70",
          "timestamp": "17:30:00"
         },
         {
          "ID": 1,
          "max": 0,
          "min": 0,
          "quantiles": "30-70",
          "timestamp": "17:45:00"
         },
         {
          "ID": 1,
          "max": 0,
          "min": 0,
          "quantiles": "30-70",
          "timestamp": "18:00:00"
         },
         {
          "ID": 1,
          "max": 0,
          "min": 0,
          "quantiles": "30-70",
          "timestamp": "18:15:00"
         },
         {
          "ID": 1,
          "max": 0,
          "min": 0,
          "quantiles": "30-70",
          "timestamp": "18:30:00"
         },
         {
          "ID": 1,
          "max": 0,
          "min": 0,
          "quantiles": "30-70",
          "timestamp": "18:45:00"
         },
         {
          "ID": 1,
          "max": 0,
          "min": 0,
          "quantiles": "30-70",
          "timestamp": "19:00:00"
         },
         {
          "ID": 1,
          "max": 0,
          "min": 0,
          "quantiles": "30-70",
          "timestamp": "19:15:00"
         },
         {
          "ID": 1,
          "max": 0,
          "min": 0,
          "quantiles": "30-70",
          "timestamp": "19:30:00"
         },
         {
          "ID": 1,
          "max": 0,
          "min": 0,
          "quantiles": "30-70",
          "timestamp": "19:45:00"
         },
         {
          "ID": 1,
          "max": 0,
          "min": 0,
          "quantiles": "30-70",
          "timestamp": "20:00:00"
         },
         {
          "ID": 1,
          "max": 0,
          "min": 0,
          "quantiles": "30-70",
          "timestamp": "20:15:00"
         },
         {
          "ID": 1,
          "max": 0,
          "min": 0,
          "quantiles": "30-70",
          "timestamp": "20:30:00"
         },
         {
          "ID": 1,
          "max": 0,
          "min": 0,
          "quantiles": "30-70",
          "timestamp": "20:45:00"
         },
         {
          "ID": 1,
          "max": 0,
          "min": 0,
          "quantiles": "30-70",
          "timestamp": "21:00:00"
         },
         {
          "ID": 1,
          "max": 0,
          "min": 0,
          "quantiles": "30-70",
          "timestamp": "21:15:00"
         },
         {
          "ID": 1,
          "max": 0,
          "min": 0,
          "quantiles": "30-70",
          "timestamp": "21:30:00"
         },
         {
          "ID": 1,
          "max": 0,
          "min": 0,
          "quantiles": "30-70",
          "timestamp": "21:45:00"
         },
         {
          "ID": 1,
          "max": 0,
          "min": 0,
          "quantiles": "30-70",
          "timestamp": "22:00:00"
         },
         {
          "ID": 1,
          "max": 0,
          "min": 0,
          "quantiles": "30-70",
          "timestamp": "22:15:00"
         },
         {
          "ID": 1,
          "max": 0,
          "min": 0,
          "quantiles": "30-70",
          "timestamp": "22:30:00"
         },
         {
          "ID": 1,
          "max": 0,
          "min": 0,
          "quantiles": "30-70",
          "timestamp": "22:45:00"
         },
         {
          "ID": 1,
          "max": 0,
          "min": 0,
          "quantiles": "30-70",
          "timestamp": "23:00:00"
         },
         {
          "ID": 1,
          "max": 0,
          "min": 0,
          "quantiles": "30-70",
          "timestamp": "23:15:00"
         },
         {
          "ID": 1,
          "max": 0,
          "min": 0,
          "quantiles": "30-70",
          "timestamp": "23:30:00"
         },
         {
          "ID": 1,
          "max": 0,
          "min": 0,
          "quantiles": "30-70",
          "timestamp": "23:45:00"
         },
         {
          "ID": 1,
          "max": 1,
          "min": 1,
          "quantiles": "35-65",
          "timestamp": "ID"
         },
         {
          "ID": 1,
          "max": 0,
          "min": 0,
          "quantiles": "35-65",
          "timestamp": "00:00:00"
         },
         {
          "ID": 1,
          "max": 0,
          "min": 0,
          "quantiles": "35-65",
          "timestamp": "00:15:00"
         },
         {
          "ID": 1,
          "max": 0,
          "min": 0,
          "quantiles": "35-65",
          "timestamp": "00:30:00"
         },
         {
          "ID": 1,
          "max": 0,
          "min": 0,
          "quantiles": "35-65",
          "timestamp": "00:45:00"
         },
         {
          "ID": 1,
          "max": 0,
          "min": 0,
          "quantiles": "35-65",
          "timestamp": "01:00:00"
         },
         {
          "ID": 1,
          "max": 0,
          "min": 0,
          "quantiles": "35-65",
          "timestamp": "01:15:00"
         },
         {
          "ID": 1,
          "max": 0,
          "min": 0,
          "quantiles": "35-65",
          "timestamp": "01:30:00"
         },
         {
          "ID": 1,
          "max": 0,
          "min": 0,
          "quantiles": "35-65",
          "timestamp": "01:45:00"
         },
         {
          "ID": 1,
          "max": 0,
          "min": 0,
          "quantiles": "35-65",
          "timestamp": "02:00:00"
         },
         {
          "ID": 1,
          "max": 0,
          "min": 0,
          "quantiles": "35-65",
          "timestamp": "02:15:00"
         },
         {
          "ID": 1,
          "max": 0,
          "min": 0,
          "quantiles": "35-65",
          "timestamp": "02:30:00"
         },
         {
          "ID": 1,
          "max": 0,
          "min": 0,
          "quantiles": "35-65",
          "timestamp": "02:45:00"
         },
         {
          "ID": 1,
          "max": 0,
          "min": 0,
          "quantiles": "35-65",
          "timestamp": "03:00:00"
         },
         {
          "ID": 1,
          "max": 0,
          "min": 0,
          "quantiles": "35-65",
          "timestamp": "03:15:00"
         },
         {
          "ID": 1,
          "max": 0,
          "min": 0,
          "quantiles": "35-65",
          "timestamp": "03:30:00"
         },
         {
          "ID": 1,
          "max": 0,
          "min": 0,
          "quantiles": "35-65",
          "timestamp": "03:45:00"
         },
         {
          "ID": 1,
          "max": 0,
          "min": 0,
          "quantiles": "35-65",
          "timestamp": "04:00:00"
         },
         {
          "ID": 1,
          "max": 0,
          "min": 0,
          "quantiles": "35-65",
          "timestamp": "04:15:00"
         },
         {
          "ID": 1,
          "max": 0,
          "min": 0,
          "quantiles": "35-65",
          "timestamp": "04:30:00"
         },
         {
          "ID": 1,
          "max": 0,
          "min": 0,
          "quantiles": "35-65",
          "timestamp": "04:45:00"
         },
         {
          "ID": 1,
          "max": 0,
          "min": 0,
          "quantiles": "35-65",
          "timestamp": "05:00:00"
         },
         {
          "ID": 1,
          "max": 0,
          "min": 0,
          "quantiles": "35-65",
          "timestamp": "05:15:00"
         },
         {
          "ID": 1,
          "max": 0,
          "min": 0,
          "quantiles": "35-65",
          "timestamp": "05:30:00"
         },
         {
          "ID": 1,
          "max": 0,
          "min": 0,
          "quantiles": "35-65",
          "timestamp": "05:45:00"
         },
         {
          "ID": 1,
          "max": 0,
          "min": 0,
          "quantiles": "35-65",
          "timestamp": "06:00:00"
         },
         {
          "ID": 1,
          "max": 0.001,
          "min": 0,
          "quantiles": "35-65",
          "timestamp": "06:15:00"
         },
         {
          "ID": 1,
          "max": 0.005,
          "min": 0,
          "quantiles": "35-65",
          "timestamp": "06:30:00"
         },
         {
          "ID": 1,
          "max": 0.014,
          "min": 0,
          "quantiles": "35-65",
          "timestamp": "06:45:00"
         },
         {
          "ID": 1,
          "max": 0.027,
          "min": 0,
          "quantiles": "35-65",
          "timestamp": "07:00:00"
         },
         {
          "ID": 1,
          "max": 0.044,
          "min": 0,
          "quantiles": "35-65",
          "timestamp": "07:15:00"
         },
         {
          "ID": 1,
          "max": 0.064,
          "min": 0,
          "quantiles": "35-65",
          "timestamp": "07:30:00"
         },
         {
          "ID": 1,
          "max": 0.084,
          "min": 0,
          "quantiles": "35-65",
          "timestamp": "07:45:00"
         },
         {
          "ID": 1,
          "max": 0.102,
          "min": 0,
          "quantiles": "35-65",
          "timestamp": "08:00:00"
         },
         {
          "ID": 1,
          "max": 0.123,
          "min": 0.002,
          "quantiles": "35-65",
          "timestamp": "08:15:00"
         },
         {
          "ID": 1,
          "max": 0.147,
          "min": 0.009,
          "quantiles": "35-65",
          "timestamp": "08:30:00"
         },
         {
          "ID": 1,
          "max": 0.173,
          "min": 0.018,
          "quantiles": "35-65",
          "timestamp": "08:45:00"
         },
         {
          "ID": 1,
          "max": 0.202,
          "min": 0.028,
          "quantiles": "35-65",
          "timestamp": "09:00:00"
         },
         {
          "ID": 1,
          "max": 0.223,
          "min": 0.039,
          "quantiles": "35-65",
          "timestamp": "09:15:00"
         },
         {
          "ID": 1,
          "max": 0.242,
          "min": 0.05,
          "quantiles": "35-65",
          "timestamp": "09:30:00"
         },
         {
          "ID": 1,
          "max": 0.266,
          "min": 0.06,
          "quantiles": "35-65",
          "timestamp": "09:45:00"
         },
         {
          "ID": 1,
          "max": 0.283,
          "min": 0.07,
          "quantiles": "35-65",
          "timestamp": "10:00:00"
         },
         {
          "ID": 1,
          "max": 0.297,
          "min": 0.078,
          "quantiles": "35-65",
          "timestamp": "10:15:00"
         },
         {
          "ID": 1,
          "max": 0.31,
          "min": 0.082,
          "quantiles": "35-65",
          "timestamp": "10:30:00"
         },
         {
          "ID": 1,
          "max": 0.317,
          "min": 0.087,
          "quantiles": "35-65",
          "timestamp": "10:45:00"
         },
         {
          "ID": 1,
          "max": 0.322,
          "min": 0.093,
          "quantiles": "35-65",
          "timestamp": "11:00:00"
         },
         {
          "ID": 1,
          "max": 0.331,
          "min": 0.1,
          "quantiles": "35-65",
          "timestamp": "11:15:00"
         },
         {
          "ID": 1,
          "max": 0.34,
          "min": 0.108,
          "quantiles": "35-65",
          "timestamp": "11:30:00"
         },
         {
          "ID": 1,
          "max": 0.342,
          "min": 0.108,
          "quantiles": "35-65",
          "timestamp": "11:45:00"
         },
         {
          "ID": 1,
          "max": 0.343,
          "min": 0.107,
          "quantiles": "35-65",
          "timestamp": "12:00:00"
         },
         {
          "ID": 1,
          "max": 0.336,
          "min": 0.1,
          "quantiles": "35-65",
          "timestamp": "12:15:00"
         },
         {
          "ID": 1,
          "max": 0.331,
          "min": 0.096,
          "quantiles": "35-65",
          "timestamp": "12:30:00"
         },
         {
          "ID": 1,
          "max": 0.324,
          "min": 0.09,
          "quantiles": "35-65",
          "timestamp": "12:45:00"
         },
         {
          "ID": 1,
          "max": 0.321,
          "min": 0.092,
          "quantiles": "35-65",
          "timestamp": "13:00:00"
         },
         {
          "ID": 1,
          "max": 0.317,
          "min": 0.09,
          "quantiles": "35-65",
          "timestamp": "13:15:00"
         },
         {
          "ID": 1,
          "max": 0.303,
          "min": 0.083,
          "quantiles": "35-65",
          "timestamp": "13:30:00"
         },
         {
          "ID": 1,
          "max": 0.29,
          "min": 0.077,
          "quantiles": "35-65",
          "timestamp": "13:45:00"
         },
         {
          "ID": 1,
          "max": 0.271,
          "min": 0.068,
          "quantiles": "35-65",
          "timestamp": "14:00:00"
         },
         {
          "ID": 1,
          "max": 0.25,
          "min": 0.052,
          "quantiles": "35-65",
          "timestamp": "14:15:00"
         },
         {
          "ID": 1,
          "max": 0.228,
          "min": 0.041,
          "quantiles": "35-65",
          "timestamp": "14:30:00"
         },
         {
          "ID": 1,
          "max": 0.196,
          "min": 0.029,
          "quantiles": "35-65",
          "timestamp": "14:45:00"
         },
         {
          "ID": 1,
          "max": 0.17,
          "min": 0.015,
          "quantiles": "35-65",
          "timestamp": "15:00:00"
         },
         {
          "ID": 1,
          "max": 0.136,
          "min": 0.006,
          "quantiles": "35-65",
          "timestamp": "15:15:00"
         },
         {
          "ID": 1,
          "max": 0.109,
          "min": 0,
          "quantiles": "35-65",
          "timestamp": "15:30:00"
         },
         {
          "ID": 1,
          "max": 0.084,
          "min": 0,
          "quantiles": "35-65",
          "timestamp": "15:45:00"
         },
         {
          "ID": 1,
          "max": 0.061,
          "min": 0,
          "quantiles": "35-65",
          "timestamp": "16:00:00"
         },
         {
          "ID": 1,
          "max": 0.042,
          "min": 0,
          "quantiles": "35-65",
          "timestamp": "16:15:00"
         },
         {
          "ID": 1,
          "max": 0.026,
          "min": 0,
          "quantiles": "35-65",
          "timestamp": "16:30:00"
         },
         {
          "ID": 1,
          "max": 0.011,
          "min": 0,
          "quantiles": "35-65",
          "timestamp": "16:45:00"
         },
         {
          "ID": 1,
          "max": 0.002,
          "min": 0,
          "quantiles": "35-65",
          "timestamp": "17:00:00"
         },
         {
          "ID": 1,
          "max": 0,
          "min": 0,
          "quantiles": "35-65",
          "timestamp": "17:15:00"
         },
         {
          "ID": 1,
          "max": 0,
          "min": 0,
          "quantiles": "35-65",
          "timestamp": "17:30:00"
         },
         {
          "ID": 1,
          "max": 0,
          "min": 0,
          "quantiles": "35-65",
          "timestamp": "17:45:00"
         },
         {
          "ID": 1,
          "max": 0,
          "min": 0,
          "quantiles": "35-65",
          "timestamp": "18:00:00"
         },
         {
          "ID": 1,
          "max": 0,
          "min": 0,
          "quantiles": "35-65",
          "timestamp": "18:15:00"
         },
         {
          "ID": 1,
          "max": 0,
          "min": 0,
          "quantiles": "35-65",
          "timestamp": "18:30:00"
         },
         {
          "ID": 1,
          "max": 0,
          "min": 0,
          "quantiles": "35-65",
          "timestamp": "18:45:00"
         },
         {
          "ID": 1,
          "max": 0,
          "min": 0,
          "quantiles": "35-65",
          "timestamp": "19:00:00"
         },
         {
          "ID": 1,
          "max": 0,
          "min": 0,
          "quantiles": "35-65",
          "timestamp": "19:15:00"
         },
         {
          "ID": 1,
          "max": 0,
          "min": 0,
          "quantiles": "35-65",
          "timestamp": "19:30:00"
         },
         {
          "ID": 1,
          "max": 0,
          "min": 0,
          "quantiles": "35-65",
          "timestamp": "19:45:00"
         },
         {
          "ID": 1,
          "max": 0,
          "min": 0,
          "quantiles": "35-65",
          "timestamp": "20:00:00"
         },
         {
          "ID": 1,
          "max": 0,
          "min": 0,
          "quantiles": "35-65",
          "timestamp": "20:15:00"
         },
         {
          "ID": 1,
          "max": 0,
          "min": 0,
          "quantiles": "35-65",
          "timestamp": "20:30:00"
         },
         {
          "ID": 1,
          "max": 0,
          "min": 0,
          "quantiles": "35-65",
          "timestamp": "20:45:00"
         },
         {
          "ID": 1,
          "max": 0,
          "min": 0,
          "quantiles": "35-65",
          "timestamp": "21:00:00"
         },
         {
          "ID": 1,
          "max": 0,
          "min": 0,
          "quantiles": "35-65",
          "timestamp": "21:15:00"
         },
         {
          "ID": 1,
          "max": 0,
          "min": 0,
          "quantiles": "35-65",
          "timestamp": "21:30:00"
         },
         {
          "ID": 1,
          "max": 0,
          "min": 0,
          "quantiles": "35-65",
          "timestamp": "21:45:00"
         },
         {
          "ID": 1,
          "max": 0,
          "min": 0,
          "quantiles": "35-65",
          "timestamp": "22:00:00"
         },
         {
          "ID": 1,
          "max": 0,
          "min": 0,
          "quantiles": "35-65",
          "timestamp": "22:15:00"
         },
         {
          "ID": 1,
          "max": 0,
          "min": 0,
          "quantiles": "35-65",
          "timestamp": "22:30:00"
         },
         {
          "ID": 1,
          "max": 0,
          "min": 0,
          "quantiles": "35-65",
          "timestamp": "22:45:00"
         },
         {
          "ID": 1,
          "max": 0,
          "min": 0,
          "quantiles": "35-65",
          "timestamp": "23:00:00"
         },
         {
          "ID": 1,
          "max": 0,
          "min": 0,
          "quantiles": "35-65",
          "timestamp": "23:15:00"
         },
         {
          "ID": 1,
          "max": 0,
          "min": 0,
          "quantiles": "35-65",
          "timestamp": "23:30:00"
         },
         {
          "ID": 1,
          "max": 0,
          "min": 0,
          "quantiles": "35-65",
          "timestamp": "23:45:00"
         },
         {
          "ID": 1,
          "max": 1,
          "min": 1,
          "quantiles": "40-60",
          "timestamp": "ID"
         },
         {
          "ID": 1,
          "max": 0,
          "min": 0,
          "quantiles": "40-60",
          "timestamp": "00:00:00"
         },
         {
          "ID": 1,
          "max": 0,
          "min": 0,
          "quantiles": "40-60",
          "timestamp": "00:15:00"
         },
         {
          "ID": 1,
          "max": 0,
          "min": 0,
          "quantiles": "40-60",
          "timestamp": "00:30:00"
         },
         {
          "ID": 1,
          "max": 0,
          "min": 0,
          "quantiles": "40-60",
          "timestamp": "00:45:00"
         },
         {
          "ID": 1,
          "max": 0,
          "min": 0,
          "quantiles": "40-60",
          "timestamp": "01:00:00"
         },
         {
          "ID": 1,
          "max": 0,
          "min": 0,
          "quantiles": "40-60",
          "timestamp": "01:15:00"
         },
         {
          "ID": 1,
          "max": 0,
          "min": 0,
          "quantiles": "40-60",
          "timestamp": "01:30:00"
         },
         {
          "ID": 1,
          "max": 0,
          "min": 0,
          "quantiles": "40-60",
          "timestamp": "01:45:00"
         },
         {
          "ID": 1,
          "max": 0,
          "min": 0,
          "quantiles": "40-60",
          "timestamp": "02:00:00"
         },
         {
          "ID": 1,
          "max": 0,
          "min": 0,
          "quantiles": "40-60",
          "timestamp": "02:15:00"
         },
         {
          "ID": 1,
          "max": 0,
          "min": 0,
          "quantiles": "40-60",
          "timestamp": "02:30:00"
         },
         {
          "ID": 1,
          "max": 0,
          "min": 0,
          "quantiles": "40-60",
          "timestamp": "02:45:00"
         },
         {
          "ID": 1,
          "max": 0,
          "min": 0,
          "quantiles": "40-60",
          "timestamp": "03:00:00"
         },
         {
          "ID": 1,
          "max": 0,
          "min": 0,
          "quantiles": "40-60",
          "timestamp": "03:15:00"
         },
         {
          "ID": 1,
          "max": 0,
          "min": 0,
          "quantiles": "40-60",
          "timestamp": "03:30:00"
         },
         {
          "ID": 1,
          "max": 0,
          "min": 0,
          "quantiles": "40-60",
          "timestamp": "03:45:00"
         },
         {
          "ID": 1,
          "max": 0,
          "min": 0,
          "quantiles": "40-60",
          "timestamp": "04:00:00"
         },
         {
          "ID": 1,
          "max": 0,
          "min": 0,
          "quantiles": "40-60",
          "timestamp": "04:15:00"
         },
         {
          "ID": 1,
          "max": 0,
          "min": 0,
          "quantiles": "40-60",
          "timestamp": "04:30:00"
         },
         {
          "ID": 1,
          "max": 0,
          "min": 0,
          "quantiles": "40-60",
          "timestamp": "04:45:00"
         },
         {
          "ID": 1,
          "max": 0,
          "min": 0,
          "quantiles": "40-60",
          "timestamp": "05:00:00"
         },
         {
          "ID": 1,
          "max": 0,
          "min": 0,
          "quantiles": "40-60",
          "timestamp": "05:15:00"
         },
         {
          "ID": 1,
          "max": 0,
          "min": 0,
          "quantiles": "40-60",
          "timestamp": "05:30:00"
         },
         {
          "ID": 1,
          "max": 0,
          "min": 0,
          "quantiles": "40-60",
          "timestamp": "05:45:00"
         },
         {
          "ID": 1,
          "max": 0,
          "min": 0,
          "quantiles": "40-60",
          "timestamp": "06:00:00"
         },
         {
          "ID": 1,
          "max": 0,
          "min": 0,
          "quantiles": "40-60",
          "timestamp": "06:15:00"
         },
         {
          "ID": 1,
          "max": 0,
          "min": 0,
          "quantiles": "40-60",
          "timestamp": "06:30:00"
         },
         {
          "ID": 1,
          "max": 0.004,
          "min": 0,
          "quantiles": "40-60",
          "timestamp": "06:45:00"
         },
         {
          "ID": 1,
          "max": 0.012,
          "min": 0,
          "quantiles": "40-60",
          "timestamp": "07:00:00"
         },
         {
          "ID": 1,
          "max": 0.025,
          "min": 0,
          "quantiles": "40-60",
          "timestamp": "07:15:00"
         },
         {
          "ID": 1,
          "max": 0.042,
          "min": 0,
          "quantiles": "40-60",
          "timestamp": "07:30:00"
         },
         {
          "ID": 1,
          "max": 0.06,
          "min": 0.001,
          "quantiles": "40-60",
          "timestamp": "07:45:00"
         },
         {
          "ID": 1,
          "max": 0.074383,
          "min": 0.004,
          "quantiles": "40-60",
          "timestamp": "08:00:00"
         },
         {
          "ID": 1,
          "max": 0.095,
          "min": 0.01,
          "quantiles": "40-60",
          "timestamp": "08:15:00"
         },
         {
          "ID": 1,
          "max": 0.115,
          "min": 0.021,
          "quantiles": "40-60",
          "timestamp": "08:30:00"
         },
         {
          "ID": 1,
          "max": 0.136,
          "min": 0.033,
          "quantiles": "40-60",
          "timestamp": "08:45:00"
         },
         {
          "ID": 1,
          "max": 0.16,
          "min": 0.048,
          "quantiles": "40-60",
          "timestamp": "09:00:00"
         },
         {
          "ID": 1,
          "max": 0.18,
          "min": 0.06,
          "quantiles": "40-60",
          "timestamp": "09:15:00"
         },
         {
          "ID": 1,
          "max": 0.199,
          "min": 0.073,
          "quantiles": "40-60",
          "timestamp": "09:30:00"
         },
         {
          "ID": 1,
          "max": 0.219,
          "min": 0.084,
          "quantiles": "40-60",
          "timestamp": "09:45:00"
         },
         {
          "ID": 1,
          "max": 0.238,
          "min": 0.094,
          "quantiles": "40-60",
          "timestamp": "10:00:00"
         },
         {
          "ID": 1,
          "max": 0.251,
          "min": 0.106,
          "quantiles": "40-60",
          "timestamp": "10:15:00"
         },
         {
          "ID": 1,
          "max": 0.262,
          "min": 0.11,
          "quantiles": "40-60",
          "timestamp": "10:30:00"
         },
         {
          "ID": 1,
          "max": 0.269,
          "min": 0.114,
          "quantiles": "40-60",
          "timestamp": "10:45:00"
         },
         {
          "ID": 1,
          "max": 0.276,
          "min": 0.12,
          "quantiles": "40-60",
          "timestamp": "11:00:00"
         },
         {
          "ID": 1,
          "max": 0.287,
          "min": 0.13,
          "quantiles": "40-60",
          "timestamp": "11:15:00"
         },
         {
          "ID": 1,
          "max": 0.294,
          "min": 0.14,
          "quantiles": "40-60",
          "timestamp": "11:30:00"
         },
         {
          "ID": 1,
          "max": 0.296,
          "min": 0.14,
          "quantiles": "40-60",
          "timestamp": "11:45:00"
         },
         {
          "ID": 1,
          "max": 0.296,
          "min": 0.139,
          "quantiles": "40-60",
          "timestamp": "12:00:00"
         },
         {
          "ID": 1,
          "max": 0.29,
          "min": 0.13,
          "quantiles": "40-60",
          "timestamp": "12:15:00"
         },
         {
          "ID": 1,
          "max": 0.284,
          "min": 0.127,
          "quantiles": "40-60",
          "timestamp": "12:30:00"
         },
         {
          "ID": 1,
          "max": 0.28,
          "min": 0.121,
          "quantiles": "40-60",
          "timestamp": "12:45:00"
         },
         {
          "ID": 1,
          "max": 0.277,
          "min": 0.122,
          "quantiles": "40-60",
          "timestamp": "13:00:00"
         },
         {
          "ID": 1,
          "max": 0.272,
          "min": 0.12,
          "quantiles": "40-60",
          "timestamp": "13:15:00"
         },
         {
          "ID": 1,
          "max": 0.26,
          "min": 0.114,
          "quantiles": "40-60",
          "timestamp": "13:30:00"
         },
         {
          "ID": 1,
          "max": 0.249,
          "min": 0.104,
          "quantiles": "40-60",
          "timestamp": "13:45:00"
         },
         {
          "ID": 1,
          "max": 0.23,
          "min": 0.093,
          "quantiles": "40-60",
          "timestamp": "14:00:00"
         },
         {
          "ID": 1,
          "max": 0.206,
          "min": 0.076,
          "quantiles": "40-60",
          "timestamp": "14:15:00"
         },
         {
          "ID": 1,
          "max": 0.189,
          "min": 0.064,
          "quantiles": "40-60",
          "timestamp": "14:30:00"
         },
         {
          "ID": 1,
          "max": 0.158,
          "min": 0.049,
          "quantiles": "40-60",
          "timestamp": "14:45:00"
         },
         {
          "ID": 1,
          "max": 0.135,
          "min": 0.03,
          "quantiles": "40-60",
          "timestamp": "15:00:00"
         },
         {
          "ID": 1,
          "max": 0.104,
          "min": 0.018,
          "quantiles": "40-60",
          "timestamp": "15:15:00"
         },
         {
          "ID": 1,
          "max": 0.08,
          "min": 0.008,
          "quantiles": "40-60",
          "timestamp": "15:30:00"
         },
         {
          "ID": 1,
          "max": 0.058,
          "min": 0.001,
          "quantiles": "40-60",
          "timestamp": "15:45:00"
         },
         {
          "ID": 1,
          "max": 0.04,
          "min": 0,
          "quantiles": "40-60",
          "timestamp": "16:00:00"
         },
         {
          "ID": 1,
          "max": 0.023,
          "min": 0,
          "quantiles": "40-60",
          "timestamp": "16:15:00"
         },
         {
          "ID": 1,
          "max": 0.01,
          "min": 0,
          "quantiles": "40-60",
          "timestamp": "16:30:00"
         },
         {
          "ID": 1,
          "max": 0.002,
          "min": 0,
          "quantiles": "40-60",
          "timestamp": "16:45:00"
         },
         {
          "ID": 1,
          "max": 0,
          "min": 0,
          "quantiles": "40-60",
          "timestamp": "17:00:00"
         },
         {
          "ID": 1,
          "max": 0,
          "min": 0,
          "quantiles": "40-60",
          "timestamp": "17:15:00"
         },
         {
          "ID": 1,
          "max": 0,
          "min": 0,
          "quantiles": "40-60",
          "timestamp": "17:30:00"
         },
         {
          "ID": 1,
          "max": 0,
          "min": 0,
          "quantiles": "40-60",
          "timestamp": "17:45:00"
         },
         {
          "ID": 1,
          "max": 0,
          "min": 0,
          "quantiles": "40-60",
          "timestamp": "18:00:00"
         },
         {
          "ID": 1,
          "max": 0,
          "min": 0,
          "quantiles": "40-60",
          "timestamp": "18:15:00"
         },
         {
          "ID": 1,
          "max": 0,
          "min": 0,
          "quantiles": "40-60",
          "timestamp": "18:30:00"
         },
         {
          "ID": 1,
          "max": 0,
          "min": 0,
          "quantiles": "40-60",
          "timestamp": "18:45:00"
         },
         {
          "ID": 1,
          "max": 0,
          "min": 0,
          "quantiles": "40-60",
          "timestamp": "19:00:00"
         },
         {
          "ID": 1,
          "max": 0,
          "min": 0,
          "quantiles": "40-60",
          "timestamp": "19:15:00"
         },
         {
          "ID": 1,
          "max": 0,
          "min": 0,
          "quantiles": "40-60",
          "timestamp": "19:30:00"
         },
         {
          "ID": 1,
          "max": 0,
          "min": 0,
          "quantiles": "40-60",
          "timestamp": "19:45:00"
         },
         {
          "ID": 1,
          "max": 0,
          "min": 0,
          "quantiles": "40-60",
          "timestamp": "20:00:00"
         },
         {
          "ID": 1,
          "max": 0,
          "min": 0,
          "quantiles": "40-60",
          "timestamp": "20:15:00"
         },
         {
          "ID": 1,
          "max": 0,
          "min": 0,
          "quantiles": "40-60",
          "timestamp": "20:30:00"
         },
         {
          "ID": 1,
          "max": 0,
          "min": 0,
          "quantiles": "40-60",
          "timestamp": "20:45:00"
         },
         {
          "ID": 1,
          "max": 0,
          "min": 0,
          "quantiles": "40-60",
          "timestamp": "21:00:00"
         },
         {
          "ID": 1,
          "max": 0,
          "min": 0,
          "quantiles": "40-60",
          "timestamp": "21:15:00"
         },
         {
          "ID": 1,
          "max": 0,
          "min": 0,
          "quantiles": "40-60",
          "timestamp": "21:30:00"
         },
         {
          "ID": 1,
          "max": 0,
          "min": 0,
          "quantiles": "40-60",
          "timestamp": "21:45:00"
         },
         {
          "ID": 1,
          "max": 0,
          "min": 0,
          "quantiles": "40-60",
          "timestamp": "22:00:00"
         },
         {
          "ID": 1,
          "max": 0,
          "min": 0,
          "quantiles": "40-60",
          "timestamp": "22:15:00"
         },
         {
          "ID": 1,
          "max": 0,
          "min": 0,
          "quantiles": "40-60",
          "timestamp": "22:30:00"
         },
         {
          "ID": 1,
          "max": 0,
          "min": 0,
          "quantiles": "40-60",
          "timestamp": "22:45:00"
         },
         {
          "ID": 1,
          "max": 0,
          "min": 0,
          "quantiles": "40-60",
          "timestamp": "23:00:00"
         },
         {
          "ID": 1,
          "max": 0,
          "min": 0,
          "quantiles": "40-60",
          "timestamp": "23:15:00"
         },
         {
          "ID": 1,
          "max": 0,
          "min": 0,
          "quantiles": "40-60",
          "timestamp": "23:30:00"
         },
         {
          "ID": 1,
          "max": 0,
          "min": 0,
          "quantiles": "40-60",
          "timestamp": "23:45:00"
         },
         {
          "ID": 1,
          "max": 1,
          "min": 1,
          "quantiles": "45-55",
          "timestamp": "ID"
         },
         {
          "ID": 1,
          "max": 0,
          "min": 0,
          "quantiles": "45-55",
          "timestamp": "00:00:00"
         },
         {
          "ID": 1,
          "max": 0,
          "min": 0,
          "quantiles": "45-55",
          "timestamp": "00:15:00"
         },
         {
          "ID": 1,
          "max": 0,
          "min": 0,
          "quantiles": "45-55",
          "timestamp": "00:30:00"
         },
         {
          "ID": 1,
          "max": 0,
          "min": 0,
          "quantiles": "45-55",
          "timestamp": "00:45:00"
         },
         {
          "ID": 1,
          "max": 0,
          "min": 0,
          "quantiles": "45-55",
          "timestamp": "01:00:00"
         },
         {
          "ID": 1,
          "max": 0,
          "min": 0,
          "quantiles": "45-55",
          "timestamp": "01:15:00"
         },
         {
          "ID": 1,
          "max": 0,
          "min": 0,
          "quantiles": "45-55",
          "timestamp": "01:30:00"
         },
         {
          "ID": 1,
          "max": 0,
          "min": 0,
          "quantiles": "45-55",
          "timestamp": "01:45:00"
         },
         {
          "ID": 1,
          "max": 0,
          "min": 0,
          "quantiles": "45-55",
          "timestamp": "02:00:00"
         },
         {
          "ID": 1,
          "max": 0,
          "min": 0,
          "quantiles": "45-55",
          "timestamp": "02:15:00"
         },
         {
          "ID": 1,
          "max": 0,
          "min": 0,
          "quantiles": "45-55",
          "timestamp": "02:30:00"
         },
         {
          "ID": 1,
          "max": 0,
          "min": 0,
          "quantiles": "45-55",
          "timestamp": "02:45:00"
         },
         {
          "ID": 1,
          "max": 0,
          "min": 0,
          "quantiles": "45-55",
          "timestamp": "03:00:00"
         },
         {
          "ID": 1,
          "max": 0,
          "min": 0,
          "quantiles": "45-55",
          "timestamp": "03:15:00"
         },
         {
          "ID": 1,
          "max": 0,
          "min": 0,
          "quantiles": "45-55",
          "timestamp": "03:30:00"
         },
         {
          "ID": 1,
          "max": 0,
          "min": 0,
          "quantiles": "45-55",
          "timestamp": "03:45:00"
         },
         {
          "ID": 1,
          "max": 0,
          "min": 0,
          "quantiles": "45-55",
          "timestamp": "04:00:00"
         },
         {
          "ID": 1,
          "max": 0,
          "min": 0,
          "quantiles": "45-55",
          "timestamp": "04:15:00"
         },
         {
          "ID": 1,
          "max": 0,
          "min": 0,
          "quantiles": "45-55",
          "timestamp": "04:30:00"
         },
         {
          "ID": 1,
          "max": 0,
          "min": 0,
          "quantiles": "45-55",
          "timestamp": "04:45:00"
         },
         {
          "ID": 1,
          "max": 0,
          "min": 0,
          "quantiles": "45-55",
          "timestamp": "05:00:00"
         },
         {
          "ID": 1,
          "max": 0,
          "min": 0,
          "quantiles": "45-55",
          "timestamp": "05:15:00"
         },
         {
          "ID": 1,
          "max": 0,
          "min": 0,
          "quantiles": "45-55",
          "timestamp": "05:30:00"
         },
         {
          "ID": 1,
          "max": 0,
          "min": 0,
          "quantiles": "45-55",
          "timestamp": "05:45:00"
         },
         {
          "ID": 1,
          "max": 0,
          "min": 0,
          "quantiles": "45-55",
          "timestamp": "06:00:00"
         },
         {
          "ID": 1,
          "max": 0,
          "min": 0,
          "quantiles": "45-55",
          "timestamp": "06:15:00"
         },
         {
          "ID": 1,
          "max": 0,
          "min": 0,
          "quantiles": "45-55",
          "timestamp": "06:30:00"
         },
         {
          "ID": 1,
          "max": 0,
          "min": 0,
          "quantiles": "45-55",
          "timestamp": "06:45:00"
         },
         {
          "ID": 1,
          "max": 0.003,
          "min": 0,
          "quantiles": "45-55",
          "timestamp": "07:00:00"
         },
         {
          "ID": 1,
          "max": 0.011,
          "min": 0,
          "quantiles": "45-55",
          "timestamp": "07:15:00"
         },
         {
          "ID": 1,
          "max": 0.024,
          "min": 0.002,
          "quantiles": "45-55",
          "timestamp": "07:30:00"
         },
         {
          "ID": 1,
          "max": 0.039,
          "min": 0.008,
          "quantiles": "45-55",
          "timestamp": "07:45:00"
         },
         {
          "ID": 1,
          "max": 0.051,
          "min": 0.016,
          "quantiles": "45-55",
          "timestamp": "08:00:00"
         },
         {
          "ID": 1,
          "max": 0.069,
          "min": 0.026,
          "quantiles": "45-55",
          "timestamp": "08:15:00"
         },
         {
          "ID": 1,
          "max": 0.086,
          "min": 0.039,
          "quantiles": "45-55",
          "timestamp": "08:30:00"
         },
         {
          "ID": 1,
          "max": 0.104,
          "min": 0.054,
          "quantiles": "45-55",
          "timestamp": "08:45:00"
         },
         {
          "ID": 1,
          "max": 0.125,
          "min": 0.07,
          "quantiles": "45-55",
          "timestamp": "09:00:00"
         },
         {
          "ID": 1,
          "max": 0.144,
          "min": 0.085,
          "quantiles": "45-55",
          "timestamp": "09:15:00"
         },
         {
          "ID": 1,
          "max": 0.16,
          "min": 0.1,
          "quantiles": "45-55",
          "timestamp": "09:30:00"
         },
         {
          "ID": 1,
          "max": 0.177,
          "min": 0.111,
          "quantiles": "45-55",
          "timestamp": "09:45:00"
         },
         {
          "ID": 1,
          "max": 0.197,
          "min": 0.123,
          "quantiles": "45-55",
          "timestamp": "10:00:00"
         },
         {
          "ID": 1,
          "max": 0.21,
          "min": 0.136,
          "quantiles": "45-55",
          "timestamp": "10:15:00"
         },
         {
          "ID": 1,
          "max": 0.216,
          "min": 0.141,
          "quantiles": "45-55",
          "timestamp": "10:30:00"
         },
         {
          "ID": 1,
          "max": 0.226,
          "min": 0.146,
          "quantiles": "45-55",
          "timestamp": "10:45:00"
         },
         {
          "ID": 1,
          "max": 0.234,
          "min": 0.153,
          "quantiles": "45-55",
          "timestamp": "11:00:00"
         },
         {
          "ID": 1,
          "max": 0.243,
          "min": 0.164,
          "quantiles": "45-55",
          "timestamp": "11:15:00"
         },
         {
          "ID": 1,
          "max": 0.251,
          "min": 0.174,
          "quantiles": "45-55",
          "timestamp": "11:30:00"
         },
         {
          "ID": 1,
          "max": 0.256,
          "min": 0.177,
          "quantiles": "45-55",
          "timestamp": "11:45:00"
         },
         {
          "ID": 1,
          "max": 0.25,
          "min": 0.173,
          "quantiles": "45-55",
          "timestamp": "12:00:00"
         },
         {
          "ID": 1,
          "max": 0.248,
          "min": 0.167,
          "quantiles": "45-55",
          "timestamp": "12:15:00"
         },
         {
          "ID": 1,
          "max": 0.242,
          "min": 0.162,
          "quantiles": "45-55",
          "timestamp": "12:30:00"
         },
         {
          "ID": 1,
          "max": 0.236,
          "min": 0.153,
          "quantiles": "45-55",
          "timestamp": "12:45:00"
         },
         {
          "ID": 1,
          "max": 0.234,
          "min": 0.157,
          "quantiles": "45-55",
          "timestamp": "13:00:00"
         },
         {
          "ID": 1,
          "max": 0.23,
          "min": 0.153,
          "quantiles": "45-55",
          "timestamp": "13:15:00"
         },
         {
          "ID": 1,
          "max": 0.219,
          "min": 0.146,
          "quantiles": "45-55",
          "timestamp": "13:30:00"
         },
         {
          "ID": 1,
          "max": 0.208,
          "min": 0.135,
          "quantiles": "45-55",
          "timestamp": "13:45:00"
         },
         {
          "ID": 1,
          "max": 0.191,
          "min": 0.125,
          "quantiles": "45-55",
          "timestamp": "14:00:00"
         },
         {
          "ID": 1,
          "max": 0.17,
          "min": 0.106,
          "quantiles": "45-55",
          "timestamp": "14:15:00"
         },
         {
          "ID": 1,
          "max": 0.151,
          "min": 0.09,
          "quantiles": "45-55",
          "timestamp": "14:30:00"
         },
         {
          "ID": 1,
          "max": 0.125,
          "min": 0.071,
          "quantiles": "45-55",
          "timestamp": "14:45:00"
         },
         {
          "ID": 1,
          "max": 0.102,
          "min": 0.051,
          "quantiles": "45-55",
          "timestamp": "15:00:00"
         },
         {
          "ID": 1,
          "max": 0.077,
          "min": 0.035,
          "quantiles": "45-55",
          "timestamp": "15:15:00"
         },
         {
          "ID": 1,
          "max": 0.055,
          "min": 0.02,
          "quantiles": "45-55",
          "timestamp": "15:30:00"
         },
         {
          "ID": 1,
          "max": 0.038,
          "min": 0.009,
          "quantiles": "45-55",
          "timestamp": "15:45:00"
         },
         {
          "ID": 1,
          "max": 0.021,
          "min": 0.002,
          "quantiles": "45-55",
          "timestamp": "16:00:00"
         },
         {
          "ID": 1,
          "max": 0.01,
          "min": 0,
          "quantiles": "45-55",
          "timestamp": "16:15:00"
         },
         {
          "ID": 1,
          "max": 0.002,
          "min": 0,
          "quantiles": "45-55",
          "timestamp": "16:30:00"
         },
         {
          "ID": 1,
          "max": 0,
          "min": 0,
          "quantiles": "45-55",
          "timestamp": "16:45:00"
         },
         {
          "ID": 1,
          "max": 0,
          "min": 0,
          "quantiles": "45-55",
          "timestamp": "17:00:00"
         },
         {
          "ID": 1,
          "max": 0,
          "min": 0,
          "quantiles": "45-55",
          "timestamp": "17:15:00"
         },
         {
          "ID": 1,
          "max": 0,
          "min": 0,
          "quantiles": "45-55",
          "timestamp": "17:30:00"
         },
         {
          "ID": 1,
          "max": 0,
          "min": 0,
          "quantiles": "45-55",
          "timestamp": "17:45:00"
         },
         {
          "ID": 1,
          "max": 0,
          "min": 0,
          "quantiles": "45-55",
          "timestamp": "18:00:00"
         },
         {
          "ID": 1,
          "max": 0,
          "min": 0,
          "quantiles": "45-55",
          "timestamp": "18:15:00"
         },
         {
          "ID": 1,
          "max": 0,
          "min": 0,
          "quantiles": "45-55",
          "timestamp": "18:30:00"
         },
         {
          "ID": 1,
          "max": 0,
          "min": 0,
          "quantiles": "45-55",
          "timestamp": "18:45:00"
         },
         {
          "ID": 1,
          "max": 0,
          "min": 0,
          "quantiles": "45-55",
          "timestamp": "19:00:00"
         },
         {
          "ID": 1,
          "max": 0,
          "min": 0,
          "quantiles": "45-55",
          "timestamp": "19:15:00"
         },
         {
          "ID": 1,
          "max": 0,
          "min": 0,
          "quantiles": "45-55",
          "timestamp": "19:30:00"
         },
         {
          "ID": 1,
          "max": 0,
          "min": 0,
          "quantiles": "45-55",
          "timestamp": "19:45:00"
         },
         {
          "ID": 1,
          "max": 0,
          "min": 0,
          "quantiles": "45-55",
          "timestamp": "20:00:00"
         },
         {
          "ID": 1,
          "max": 0,
          "min": 0,
          "quantiles": "45-55",
          "timestamp": "20:15:00"
         },
         {
          "ID": 1,
          "max": 0,
          "min": 0,
          "quantiles": "45-55",
          "timestamp": "20:30:00"
         },
         {
          "ID": 1,
          "max": 0,
          "min": 0,
          "quantiles": "45-55",
          "timestamp": "20:45:00"
         },
         {
          "ID": 1,
          "max": 0,
          "min": 0,
          "quantiles": "45-55",
          "timestamp": "21:00:00"
         },
         {
          "ID": 1,
          "max": 0,
          "min": 0,
          "quantiles": "45-55",
          "timestamp": "21:15:00"
         },
         {
          "ID": 1,
          "max": 0,
          "min": 0,
          "quantiles": "45-55",
          "timestamp": "21:30:00"
         },
         {
          "ID": 1,
          "max": 0,
          "min": 0,
          "quantiles": "45-55",
          "timestamp": "21:45:00"
         },
         {
          "ID": 1,
          "max": 0,
          "min": 0,
          "quantiles": "45-55",
          "timestamp": "22:00:00"
         },
         {
          "ID": 1,
          "max": 0,
          "min": 0,
          "quantiles": "45-55",
          "timestamp": "22:15:00"
         },
         {
          "ID": 1,
          "max": 0,
          "min": 0,
          "quantiles": "45-55",
          "timestamp": "22:30:00"
         },
         {
          "ID": 1,
          "max": 0,
          "min": 0,
          "quantiles": "45-55",
          "timestamp": "22:45:00"
         },
         {
          "ID": 1,
          "max": 0,
          "min": 0,
          "quantiles": "45-55",
          "timestamp": "23:00:00"
         },
         {
          "ID": 1,
          "max": 0,
          "min": 0,
          "quantiles": "45-55",
          "timestamp": "23:15:00"
         },
         {
          "ID": 1,
          "max": 0,
          "min": 0,
          "quantiles": "45-55",
          "timestamp": "23:30:00"
         },
         {
          "ID": 1,
          "max": 0,
          "min": 0,
          "quantiles": "45-55",
          "timestamp": "23:45:00"
         }
        ]
       },
       "encoding": {
        "color": {
         "field": "quantiles",
         "type": "ordinal"
        },
        "column": {
         "field": "ID",
         "header": {
          "labelFontSize": 15
         },
         "type": "quantitative"
        },
        "x": {
         "field": "timestamp",
         "type": "nominal"
        },
        "y": {
         "axis": {
          "format": ".2f"
         },
         "field": "min",
         "title": "consumption (kWh)",
         "type": "quantitative"
        },
        "y2": {
         "field": "max"
        }
       },
       "mark": "area",
       "resolve": {
        "axis": {
         "y": "independent"
        },
        "scale": {
         "y": "shared"
        }
       },
       "selection": {
        "selector007": {
         "bind": "scales",
         "encodings": [
          "y"
         ],
         "type": "interval"
        }
       }
      },
      "text/plain": [
       "<VegaLite 4 object>\n",
       "\n",
       "If you see this message, it means the renderer has not been properly enabled\n",
       "for the frontend that you are using. For more information, see\n",
       "https://altair-viz.github.io/user_guide/troubleshooting.html\n"
      ]
     },
     "execution_count": 18,
     "metadata": {},
     "output_type": "execute_result"
    }
   ],
   "source": [
    "consumption_temp = consumption.reset_index().drop(columns=['date'])\n",
    "consumption_temp['ID']=1\n",
    "plot_df_consumption = injection_temp.groupby('ID').apply(data_df_to_quantiles).droplevel(1).reset_index()[1:]\n",
    "plot_df_consumption['timestamp'] = plot_df_consumption['timestamp'].apply(lambda x: str(x))\n",
    "area_chart = alt.Chart(plot_df_consumption).mark_area().encode(\n",
    "    x = 'timestamp', \n",
    "    y= alt.Y('min:Q',title = 'consumption (kWh)',axis = alt.Axis(format = '.2f')),  \n",
    "    y2='max:Q', \n",
    "    color= 'quantiles:O',    \n",
    "    column = alt.Column('ID',  header=alt.Header(labelFontSize=15))\n",
    ").resolve_scale(y = 'shared').resolve_axis(y= 'independent').interactive(bind_x = False).configure_legend(labelLimit= 0)\n",
    "area_chart"
   ]
  },
  {
   "cell_type": "code",
   "execution_count": 2,
   "metadata": {},
   "outputs": [],
   "source": [
    "full_year = r'C:\\Thesis\\data\\data_full\\data_full_filtered.pkl'\n",
    "full_year = pd.read_pickle(full_year).reset_index()\n",
    "full_year['Datetime'] = full_year['Datetime'].apply(lambda x: x.strftime('%H:%M:%S'))\n",
    "full_year = full_year.pivot_table(index = ['ID'], columns = ['Datetime'], values = 'Consumption')"
   ]
  },
  {
   "cell_type": "code",
   "execution_count": 3,
   "metadata": {},
   "outputs": [],
   "source": [
    "full_year = full_year.reset_index()\n",
    "full_year['ID'] = 1"
   ]
  },
  {
   "cell_type": "code",
   "execution_count": 6,
   "metadata": {},
   "outputs": [],
   "source": [
    "plot_df = full_year.groupby('ID').apply(data_df_to_quantiles).droplevel(1).reset_index()\n",
    "# plot_df['timestamp'] = plot_df['timestamp'].apply(lambda x: x.strftime('%H:%M:%S'))"
   ]
  },
  {
   "cell_type": "code",
   "execution_count": 19,
   "metadata": {},
   "outputs": [],
   "source": [
    "area_chart = alt.Chart(plot_df).mark_area().encode(\n",
    "        x = alt.X('timestamp',title='time', axis=alt.Axis(labels=False)), \n",
    "        y= alt.Y('min:Q',title = 'consumption (kWh)',axis = alt.Axis(format = '.2f')),  \n",
    "        y2='max:Q', \n",
    "        color= 'quantiles:O'\n",
    "    ).properties(width=700,\n",
    "                 height=500\n",
    "    ).resolve_scale(y = 'shared').resolve_axis(y= 'independent').interactive(bind_x = False).configure_legend(labelLimit= 0)"
   ]
  },
  {
   "cell_type": "code",
   "execution_count": 20,
   "metadata": {},
   "outputs": [
    {
     "data": {
      "text/html": [
       "\n",
       "<div id=\"altair-viz-e767bcea90ad40fc94b4ee82c1eef2f6\"></div>\n",
       "<script type=\"text/javascript\">\n",
       "  var VEGA_DEBUG = (typeof VEGA_DEBUG == \"undefined\") ? {} : VEGA_DEBUG;\n",
       "  (function(spec, embedOpt){\n",
       "    let outputDiv = document.currentScript.previousElementSibling;\n",
       "    if (outputDiv.id !== \"altair-viz-e767bcea90ad40fc94b4ee82c1eef2f6\") {\n",
       "      outputDiv = document.getElementById(\"altair-viz-e767bcea90ad40fc94b4ee82c1eef2f6\");\n",
       "    }\n",
       "    const paths = {\n",
       "      \"vega\": \"https://cdn.jsdelivr.net/npm//vega@5?noext\",\n",
       "      \"vega-lib\": \"https://cdn.jsdelivr.net/npm//vega-lib?noext\",\n",
       "      \"vega-lite\": \"https://cdn.jsdelivr.net/npm//vega-lite@4.17.0?noext\",\n",
       "      \"vega-embed\": \"https://cdn.jsdelivr.net/npm//vega-embed@6?noext\",\n",
       "    };\n",
       "\n",
       "    function maybeLoadScript(lib, version) {\n",
       "      var key = `${lib.replace(\"-\", \"\")}_version`;\n",
       "      return (VEGA_DEBUG[key] == version) ?\n",
       "        Promise.resolve(paths[lib]) :\n",
       "        new Promise(function(resolve, reject) {\n",
       "          var s = document.createElement('script');\n",
       "          document.getElementsByTagName(\"head\")[0].appendChild(s);\n",
       "          s.async = true;\n",
       "          s.onload = () => {\n",
       "            VEGA_DEBUG[key] = version;\n",
       "            return resolve(paths[lib]);\n",
       "          };\n",
       "          s.onerror = () => reject(`Error loading script: ${paths[lib]}`);\n",
       "          s.src = paths[lib];\n",
       "        });\n",
       "    }\n",
       "\n",
       "    function showError(err) {\n",
       "      outputDiv.innerHTML = `<div class=\"error\" style=\"color:red;\">${err}</div>`;\n",
       "      throw err;\n",
       "    }\n",
       "\n",
       "    function displayChart(vegaEmbed) {\n",
       "      vegaEmbed(outputDiv, spec, embedOpt)\n",
       "        .catch(err => showError(`Javascript Error: ${err.message}<br>This usually means there's a typo in your chart specification. See the javascript console for the full traceback.`));\n",
       "    }\n",
       "\n",
       "    if(typeof define === \"function\" && define.amd) {\n",
       "      requirejs.config({paths});\n",
       "      require([\"vega-embed\"], displayChart, err => showError(`Error loading script: ${err.message}`));\n",
       "    } else {\n",
       "      maybeLoadScript(\"vega\", \"5\")\n",
       "        .then(() => maybeLoadScript(\"vega-lite\", \"4.17.0\"))\n",
       "        .then(() => maybeLoadScript(\"vega-embed\", \"6\"))\n",
       "        .catch(showError)\n",
       "        .then(() => displayChart(vegaEmbed));\n",
       "    }\n",
       "  })({\"config\": {\"view\": {\"continuousWidth\": 400, \"continuousHeight\": 300}, \"legend\": {\"labelLimit\": 0}}, \"data\": {\"name\": \"data-628da91c364f85136818c6c263052620\"}, \"mark\": \"area\", \"encoding\": {\"color\": {\"field\": \"quantiles\", \"type\": \"ordinal\"}, \"x\": {\"axis\": {\"labels\": false}, \"field\": \"timestamp\", \"title\": \"time\", \"type\": \"nominal\"}, \"y\": {\"axis\": {\"format\": \".2f\"}, \"field\": \"min\", \"title\": \"consumption (kWh)\", \"type\": \"quantitative\"}, \"y2\": {\"field\": \"max\"}}, \"height\": 500, \"resolve\": {\"axis\": {\"y\": \"independent\"}, \"scale\": {\"y\": \"shared\"}}, \"selection\": {\"selector007\": {\"type\": \"interval\", \"bind\": \"scales\", \"encodings\": [\"y\"]}}, \"width\": 700, \"$schema\": \"https://vega.github.io/schema/vega-lite/v4.17.0.json\", \"datasets\": {\"data-628da91c364f85136818c6c263052620\": [{\"ID\": 1, \"timestamp\": \"ID\", \"min\": 1.0, \"max\": 1.0, \"quantiles\": \"00-100\"}, {\"ID\": 1, \"timestamp\": \"00:00:00\", \"min\": 0.005491803278688525, \"max\": 1.0639560439560438, \"quantiles\": \"00-100\"}, {\"ID\": 1, \"timestamp\": \"00:15:00\", \"min\": 0.0056830601092896175, \"max\": 1.046904109589041, \"quantiles\": \"00-100\"}, {\"ID\": 1, \"timestamp\": \"00:30:00\", \"min\": 0.005245901639344262, \"max\": 1.017945205479452, \"quantiles\": \"00-100\"}, {\"ID\": 1, \"timestamp\": \"00:45:00\", \"min\": 0.005573770491803279, \"max\": 1.3245205479452054, \"quantiles\": \"00-100\"}, {\"ID\": 1, \"timestamp\": \"01:00:00\", \"min\": 0.005655737704918032, \"max\": 1.308224043715847, \"quantiles\": \"00-100\"}, {\"ID\": 1, \"timestamp\": \"01:15:00\", \"min\": 0.006311475409836066, \"max\": 1.2971311475409837, \"quantiles\": \"00-100\"}, {\"ID\": 1, \"timestamp\": \"01:30:00\", \"min\": 0.005355191256830601, \"max\": 0.8976775956284153, \"quantiles\": \"00-100\"}, {\"ID\": 1, \"timestamp\": \"01:45:00\", \"min\": 0.005245901639344262, \"max\": 0.6563661202185792, \"quantiles\": \"00-100\"}, {\"ID\": 1, \"timestamp\": \"02:00:00\", \"min\": 0.005479452054794521, \"max\": 0.5735068493150686, \"quantiles\": \"00-100\"}, {\"ID\": 1, \"timestamp\": \"02:15:00\", \"min\": 0.0050958904109589045, \"max\": 0.5700000000000001, \"quantiles\": \"00-100\"}, {\"ID\": 1, \"timestamp\": \"02:30:00\", \"min\": 0.005342465753424657, \"max\": 0.5735068493150686, \"quantiles\": \"00-100\"}, {\"ID\": 1, \"timestamp\": \"02:45:00\", \"min\": 0.00515068493150685, \"max\": 0.6472054794520549, \"quantiles\": \"00-100\"}, {\"ID\": 1, \"timestamp\": \"03:00:00\", \"min\": 0.004945355191256831, \"max\": 0.7127868852459016, \"quantiles\": \"00-100\"}, {\"ID\": 1, \"timestamp\": \"03:15:00\", \"min\": 0.005054644808743169, \"max\": 0.703087431693989, \"quantiles\": \"00-100\"}, {\"ID\": 1, \"timestamp\": \"03:30:00\", \"min\": 0.005, \"max\": 0.8627272727272728, \"quantiles\": \"00-100\"}, {\"ID\": 1, \"timestamp\": \"03:45:00\", \"min\": 0.004726775956284153, \"max\": 1.1037741046831957, \"quantiles\": \"00-100\"}, {\"ID\": 1, \"timestamp\": \"04:00:00\", \"min\": 0.004863387978142076, \"max\": 1.2765289256198347, \"quantiles\": \"00-100\"}, {\"ID\": 1, \"timestamp\": \"04:15:00\", \"min\": 0.0036438356164383563, \"max\": 1.4515193370165747, \"quantiles\": \"00-100\"}, {\"ID\": 1, \"timestamp\": \"04:30:00\", \"min\": 0.004672131147540983, \"max\": 1.6062707182320444, \"quantiles\": \"00-100\"}, {\"ID\": 1, \"timestamp\": \"04:45:00\", \"min\": 0.004890710382513661, \"max\": 1.7505524861878452, \"quantiles\": \"00-100\"}, {\"ID\": 1, \"timestamp\": \"05:00:00\", \"min\": 0.004617486338797814, \"max\": 1.8356749311294767, \"quantiles\": \"00-100\"}, {\"ID\": 1, \"timestamp\": \"05:15:00\", \"min\": -0.004191780821917809, \"max\": 1.8721546961325968, \"quantiles\": \"00-100\"}, {\"ID\": 1, \"timestamp\": \"05:30:00\", \"min\": -0.029287671232876712, \"max\": 1.8433977900552485, \"quantiles\": \"00-100\"}, {\"ID\": 1, \"timestamp\": \"05:45:00\", \"min\": -0.036465753424657535, \"max\": 1.5134530386740332, \"quantiles\": \"00-100\"}, {\"ID\": 1, \"timestamp\": \"06:00:00\", \"min\": -0.060739726027397266, \"max\": 0.8370441988950276, \"quantiles\": \"00-100\"}, {\"ID\": 1, \"timestamp\": \"06:15:00\", \"min\": -0.08969863013698631, \"max\": 0.8661369863013698, \"quantiles\": \"00-100\"}, {\"ID\": 1, \"timestamp\": \"06:30:00\", \"min\": -0.11041095890410958, \"max\": 0.9289041095890411, \"quantiles\": \"00-100\"}, {\"ID\": 1, \"timestamp\": \"06:45:00\", \"min\": -0.1352054794520548, \"max\": 0.929945054945055, \"quantiles\": \"00-100\"}, {\"ID\": 1, \"timestamp\": \"07:00:00\", \"min\": -0.17583561643835618, \"max\": 0.8518406593406593, \"quantiles\": \"00-100\"}, {\"ID\": 1, \"timestamp\": \"07:15:00\", \"min\": -0.20928767123287673, \"max\": 0.7354395604395604, \"quantiles\": \"00-100\"}, {\"ID\": 1, \"timestamp\": \"07:30:00\", \"min\": -0.248986301369863, \"max\": 0.6590934065934065, \"quantiles\": \"00-100\"}, {\"ID\": 1, \"timestamp\": \"07:45:00\", \"min\": -0.2742191780821918, \"max\": 0.5837087912087912, \"quantiles\": \"00-100\"}, {\"ID\": 1, \"timestamp\": \"08:00:00\", \"min\": -0.3184109589041096, \"max\": 0.45663013698630134, \"quantiles\": \"00-100\"}, {\"ID\": 1, \"timestamp\": \"08:15:00\", \"min\": -0.3275616438356164, \"max\": 0.42369863013698633, \"quantiles\": \"00-100\"}, {\"ID\": 1, \"timestamp\": \"08:30:00\", \"min\": -0.3321095890410959, \"max\": 0.4298904109589041, \"quantiles\": \"00-100\"}, {\"ID\": 1, \"timestamp\": \"08:45:00\", \"min\": -0.341013698630137, \"max\": 0.425945205479452, \"quantiles\": \"00-100\"}, {\"ID\": 1, \"timestamp\": \"09:00:00\", \"min\": -0.35610958904109585, \"max\": 0.4157260273972603, \"quantiles\": \"00-100\"}, {\"ID\": 1, \"timestamp\": \"09:15:00\", \"min\": -0.34767123287671237, \"max\": 0.4124657534246576, \"quantiles\": \"00-100\"}, {\"ID\": 1, \"timestamp\": \"09:30:00\", \"min\": -0.36035616438356166, \"max\": 0.406958904109589, \"quantiles\": \"00-100\"}, {\"ID\": 1, \"timestamp\": \"09:45:00\", \"min\": -0.3618904109589041, \"max\": 0.399041095890411, \"quantiles\": \"00-100\"}, {\"ID\": 1, \"timestamp\": \"10:00:00\", \"min\": -0.3864931506849315, \"max\": 0.4056986301369863, \"quantiles\": \"00-100\"}, {\"ID\": 1, \"timestamp\": \"10:15:00\", \"min\": -0.38536986301369863, \"max\": 0.3995890410958904, \"quantiles\": \"00-100\"}, {\"ID\": 1, \"timestamp\": \"10:30:00\", \"min\": -0.3753698630136986, \"max\": 0.3853150684931507, \"quantiles\": \"00-100\"}, {\"ID\": 1, \"timestamp\": \"10:45:00\", \"min\": -0.37556164383561647, \"max\": 0.38224657534246576, \"quantiles\": \"00-100\"}, {\"ID\": 1, \"timestamp\": \"11:00:00\", \"min\": -0.3675342465753425, \"max\": 0.3655068493150685, \"quantiles\": \"00-100\"}, {\"ID\": 1, \"timestamp\": \"11:15:00\", \"min\": -0.3598630136986301, \"max\": 0.3563561643835616, \"quantiles\": \"00-100\"}, {\"ID\": 1, \"timestamp\": \"11:30:00\", \"min\": -0.34504109589041093, \"max\": 0.3503013698630137, \"quantiles\": \"00-100\"}, {\"ID\": 1, \"timestamp\": \"11:45:00\", \"min\": -0.329972602739726, \"max\": 0.47857534246575345, \"quantiles\": \"00-100\"}, {\"ID\": 1, \"timestamp\": \"12:00:00\", \"min\": -0.32353424657534247, \"max\": 0.3473150684931507, \"quantiles\": \"00-100\"}, {\"ID\": 1, \"timestamp\": \"12:15:00\", \"min\": -0.31772602739726025, \"max\": 0.3349041095890411, \"quantiles\": \"00-100\"}, {\"ID\": 1, \"timestamp\": \"12:30:00\", \"min\": -0.31265753424657533, \"max\": 0.3304109589041096, \"quantiles\": \"00-100\"}, {\"ID\": 1, \"timestamp\": \"12:45:00\", \"min\": -0.3082739726027397, \"max\": 0.3333150684931507, \"quantiles\": \"00-100\"}, {\"ID\": 1, \"timestamp\": \"13:00:00\", \"min\": -0.2977808219178082, \"max\": 0.32024657534246576, \"quantiles\": \"00-100\"}, {\"ID\": 1, \"timestamp\": \"13:15:00\", \"min\": -0.299013698630137, \"max\": 0.3243013698630137, \"quantiles\": \"00-100\"}, {\"ID\": 1, \"timestamp\": \"13:30:00\", \"min\": -0.2932328767123288, \"max\": 0.31953424657534246, \"quantiles\": \"00-100\"}, {\"ID\": 1, \"timestamp\": \"13:45:00\", \"min\": -0.30104109589041095, \"max\": 0.31375342465753425, \"quantiles\": \"00-100\"}, {\"ID\": 1, \"timestamp\": \"14:00:00\", \"min\": -0.32580821917808217, \"max\": 0.32304109589041097, \"quantiles\": \"00-100\"}, {\"ID\": 1, \"timestamp\": \"14:15:00\", \"min\": -0.3395342465753425, \"max\": 0.31545205479452054, \"quantiles\": \"00-100\"}, {\"ID\": 1, \"timestamp\": \"14:30:00\", \"min\": -0.36463013698630137, \"max\": 0.30339726027397257, \"quantiles\": \"00-100\"}, {\"ID\": 1, \"timestamp\": \"14:45:00\", \"min\": -0.37153424657534245, \"max\": 0.3219178082191781, \"quantiles\": \"00-100\"}, {\"ID\": 1, \"timestamp\": \"15:00:00\", \"min\": -0.3670958904109589, \"max\": 0.3127397260273973, \"quantiles\": \"00-100\"}, {\"ID\": 1, \"timestamp\": \"15:15:00\", \"min\": -0.3520821917808219, \"max\": 0.42073972602739723, \"quantiles\": \"00-100\"}, {\"ID\": 1, \"timestamp\": \"15:30:00\", \"min\": -0.35906849315068495, \"max\": 0.42945205479452053, \"quantiles\": \"00-100\"}, {\"ID\": 1, \"timestamp\": \"15:45:00\", \"min\": -0.3750546448087432, \"max\": 0.42852054794520544, \"quantiles\": \"00-100\"}, {\"ID\": 1, \"timestamp\": \"16:00:00\", \"min\": -0.3533698630136986, \"max\": 0.4255191256830601, \"quantiles\": \"00-100\"}, {\"ID\": 1, \"timestamp\": \"16:15:00\", \"min\": -0.34134246575342464, \"max\": 0.4172054794520548, \"quantiles\": \"00-100\"}, {\"ID\": 1, \"timestamp\": \"16:30:00\", \"min\": -0.30873972602739724, \"max\": 0.33956164383561643, \"quantiles\": \"00-100\"}, {\"ID\": 1, \"timestamp\": \"16:45:00\", \"min\": -0.2906043956043956, \"max\": 0.3462465753424657, \"quantiles\": \"00-100\"}, {\"ID\": 1, \"timestamp\": \"17:00:00\", \"min\": -0.25873626373626374, \"max\": 0.3566849315068493, \"quantiles\": \"00-100\"}, {\"ID\": 1, \"timestamp\": \"17:15:00\", \"min\": -0.2385205479452055, \"max\": 0.3564657534246576, \"quantiles\": \"00-100\"}, {\"ID\": 1, \"timestamp\": \"17:30:00\", \"min\": -0.21227397260273972, \"max\": 0.35578082191780824, \"quantiles\": \"00-100\"}, {\"ID\": 1, \"timestamp\": \"17:45:00\", \"min\": -0.19019178082191782, \"max\": 0.35016438356164387, \"quantiles\": \"00-100\"}, {\"ID\": 1, \"timestamp\": \"18:00:00\", \"min\": -0.16153424657534246, \"max\": 0.3548087431693989, \"quantiles\": \"00-100\"}, {\"ID\": 1, \"timestamp\": \"18:15:00\", \"min\": -0.11175824175824176, \"max\": 0.4045628415300546, \"quantiles\": \"00-100\"}, {\"ID\": 1, \"timestamp\": \"18:30:00\", \"min\": -0.06365384615384616, \"max\": 0.4387158469945355, \"quantiles\": \"00-100\"}, {\"ID\": 1, \"timestamp\": \"18:45:00\", \"min\": -0.02651098901098901, \"max\": 0.46, \"quantiles\": \"00-100\"}, {\"ID\": 1, \"timestamp\": \"19:00:00\", \"min\": -0.0016758241758241756, \"max\": 0.46081967213114755, \"quantiles\": \"00-100\"}, {\"ID\": 1, \"timestamp\": \"19:15:00\", \"min\": 0.0072054794520547945, \"max\": 0.4565300546448087, \"quantiles\": \"00-100\"}, {\"ID\": 1, \"timestamp\": \"19:30:00\", \"min\": 0.006958904109589041, \"max\": 0.4386065573770492, \"quantiles\": \"00-100\"}, {\"ID\": 1, \"timestamp\": \"19:45:00\", \"min\": 0.007068493150684932, \"max\": 0.42538251366120217, \"quantiles\": \"00-100\"}, {\"ID\": 1, \"timestamp\": \"20:00:00\", \"min\": 0.0072054794520547945, \"max\": 0.42806010928961746, \"quantiles\": \"00-100\"}, {\"ID\": 1, \"timestamp\": \"20:15:00\", \"min\": 0.007150684931506849, \"max\": 0.3694808743169399, \"quantiles\": \"00-100\"}, {\"ID\": 1, \"timestamp\": \"20:30:00\", \"min\": 0.0072054794520547945, \"max\": 0.39046575342465756, \"quantiles\": \"00-100\"}, {\"ID\": 1, \"timestamp\": \"20:45:00\", \"min\": 0.007342465753424658, \"max\": 0.39202739726027397, \"quantiles\": \"00-100\"}, {\"ID\": 1, \"timestamp\": \"21:00:00\", \"min\": 0.007424657534246575, \"max\": 0.37346994535519124, \"quantiles\": \"00-100\"}, {\"ID\": 1, \"timestamp\": \"21:15:00\", \"min\": 0.0072054794520547945, \"max\": 0.390655737704918, \"quantiles\": \"00-100\"}, {\"ID\": 1, \"timestamp\": \"21:30:00\", \"min\": 0.0072054794520547945, \"max\": 0.4007945205479452, \"quantiles\": \"00-100\"}, {\"ID\": 1, \"timestamp\": \"21:45:00\", \"min\": 0.0073150684931506844, \"max\": 0.3698087431693989, \"quantiles\": \"00-100\"}, {\"ID\": 1, \"timestamp\": \"22:00:00\", \"min\": 0.0073150684931506844, \"max\": 0.6550684931506849, \"quantiles\": \"00-100\"}, {\"ID\": 1, \"timestamp\": \"22:15:00\", \"min\": 0.007342465753424658, \"max\": 0.8807945205479453, \"quantiles\": \"00-100\"}, {\"ID\": 1, \"timestamp\": \"22:30:00\", \"min\": 0.007643835616438356, \"max\": 0.7324931506849316, \"quantiles\": \"00-100\"}, {\"ID\": 1, \"timestamp\": \"22:45:00\", \"min\": 0.006830601092896175, \"max\": 0.7273424657534248, \"quantiles\": \"00-100\"}, {\"ID\": 1, \"timestamp\": \"23:00:00\", \"min\": 0.006612021857923497, \"max\": 1.0297808219178082, \"quantiles\": \"00-100\"}, {\"ID\": 1, \"timestamp\": \"23:15:00\", \"min\": 0.0060655737704918035, \"max\": 1.0803591160220996, \"quantiles\": \"00-100\"}, {\"ID\": 1, \"timestamp\": \"23:30:00\", \"min\": 0.0061202185792349735, \"max\": 1.062087912087912, \"quantiles\": \"00-100\"}, {\"ID\": 1, \"timestamp\": \"23:45:00\", \"min\": 0.005628415300546448, \"max\": 1.0622527472527474, \"quantiles\": \"00-100\"}, {\"ID\": 1, \"timestamp\": \"ID\", \"min\": 1.0, \"max\": 1.0, \"quantiles\": \"05-95\"}, {\"ID\": 1, \"timestamp\": \"00:00:00\", \"min\": 0.01937158469945355, \"max\": 0.21771978021978022, \"quantiles\": \"05-95\"}, {\"ID\": 1, \"timestamp\": \"00:15:00\", \"min\": 0.018278688524590164, \"max\": 0.20216438356164382, \"quantiles\": \"05-95\"}, {\"ID\": 1, \"timestamp\": \"00:30:00\", \"min\": 0.017513661202185792, \"max\": 0.19918032786885248, \"quantiles\": \"05-95\"}, {\"ID\": 1, \"timestamp\": \"00:45:00\", \"min\": 0.01669398907103825, \"max\": 0.2006027397260274, \"quantiles\": \"05-95\"}, {\"ID\": 1, \"timestamp\": \"01:00:00\", \"min\": 0.01649315068493151, \"max\": 0.20024657534246576, \"quantiles\": \"05-95\"}, {\"ID\": 1, \"timestamp\": \"01:15:00\", \"min\": 0.01643835616438356, \"max\": 0.22204918032786883, \"quantiles\": \"05-95\"}, {\"ID\": 1, \"timestamp\": \"01:30:00\", \"min\": 0.0166027397260274, \"max\": 0.23795081967213116, \"quantiles\": \"05-95\"}, {\"ID\": 1, \"timestamp\": \"01:45:00\", \"min\": 0.01515068493150685, \"max\": 0.21942622950819674, \"quantiles\": \"05-95\"}, {\"ID\": 1, \"timestamp\": \"02:00:00\", \"min\": 0.015397260273972603, \"max\": 0.2462191780821918, \"quantiles\": \"05-95\"}, {\"ID\": 1, \"timestamp\": \"02:15:00\", \"min\": 0.015232876712328768, \"max\": 0.19610958904109588, \"quantiles\": \"05-95\"}, {\"ID\": 1, \"timestamp\": \"02:30:00\", \"min\": 0.015726027397260273, \"max\": 0.19216438356164384, \"quantiles\": \"05-95\"}, {\"ID\": 1, \"timestamp\": \"02:45:00\", \"min\": 0.01547945205479452, \"max\": 0.19208219178082192, \"quantiles\": \"05-95\"}, {\"ID\": 1, \"timestamp\": \"03:00:00\", \"min\": 0.015601092896174864, \"max\": 0.19166666666666668, \"quantiles\": \"05-95\"}, {\"ID\": 1, \"timestamp\": \"03:15:00\", \"min\": 0.016120218579234975, \"max\": 0.1918032786885246, \"quantiles\": \"05-95\"}, {\"ID\": 1, \"timestamp\": \"03:30:00\", \"min\": 0.01494535519125683, \"max\": 0.19183060109289615, \"quantiles\": \"05-95\"}, {\"ID\": 1, \"timestamp\": \"03:45:00\", \"min\": 0.015245901639344262, \"max\": 0.19265027322404374, \"quantiles\": \"05-95\"}, {\"ID\": 1, \"timestamp\": \"04:00:00\", \"min\": 0.014438356164383563, \"max\": 0.19275956284153004, \"quantiles\": \"05-95\"}, {\"ID\": 1, \"timestamp\": \"04:15:00\", \"min\": 0.014182825484764544, \"max\": 0.19226775956284153, \"quantiles\": \"05-95\"}, {\"ID\": 1, \"timestamp\": \"04:30:00\", \"min\": 0.013753424657534248, \"max\": 0.1911780821917808, \"quantiles\": \"05-95\"}, {\"ID\": 1, \"timestamp\": \"04:45:00\", \"min\": 0.014344262295081968, \"max\": 0.19065753424657536, \"quantiles\": \"05-95\"}, {\"ID\": 1, \"timestamp\": \"05:00:00\", \"min\": 0.01371584699453552, \"max\": 0.19210382513661203, \"quantiles\": \"05-95\"}, {\"ID\": 1, \"timestamp\": \"05:15:00\", \"min\": 0.011311475409836064, \"max\": 0.19226775956284153, \"quantiles\": \"05-95\"}, {\"ID\": 1, \"timestamp\": \"05:30:00\", \"min\": 0.010601092896174863, \"max\": 0.19273972602739725, \"quantiles\": \"05-95\"}, {\"ID\": 1, \"timestamp\": \"05:45:00\", \"min\": 0.008493150684931507, \"max\": 0.1962568306010929, \"quantiles\": \"05-95\"}, {\"ID\": 1, \"timestamp\": \"06:00:00\", \"min\": 0.004945355191256831, \"max\": 0.208027397260274, \"quantiles\": \"05-95\"}, {\"ID\": 1, \"timestamp\": \"06:15:00\", \"min\": 0.0022191780821917825, \"max\": 0.21155737704918035, \"quantiles\": \"05-95\"}, {\"ID\": 1, \"timestamp\": \"06:30:00\", \"min\": -0.00608219178082192, \"max\": 0.2176502732240437, \"quantiles\": \"05-95\"}, {\"ID\": 1, \"timestamp\": \"06:45:00\", \"min\": -0.017095890410958905, \"max\": 0.2078904109589041, \"quantiles\": \"05-95\"}, {\"ID\": 1, \"timestamp\": \"07:00:00\", \"min\": -0.0246027397260274, \"max\": 0.2012568306010929, \"quantiles\": \"05-95\"}, {\"ID\": 1, \"timestamp\": \"07:15:00\", \"min\": -0.042904109589041096, \"max\": 0.1844109589041096, \"quantiles\": \"05-95\"}, {\"ID\": 1, \"timestamp\": \"07:30:00\", \"min\": -0.06528767123287672, \"max\": 0.19673076923076924, \"quantiles\": \"05-95\"}, {\"ID\": 1, \"timestamp\": \"07:45:00\", \"min\": -0.07043835616438357, \"max\": 0.19147945205479452, \"quantiles\": \"05-95\"}, {\"ID\": 1, \"timestamp\": \"08:00:00\", \"min\": -0.0764109589041096, \"max\": 0.19287671232876713, \"quantiles\": \"05-95\"}, {\"ID\": 1, \"timestamp\": \"08:15:00\", \"min\": -0.10115068493150685, \"max\": 0.20213114754098363, \"quantiles\": \"05-95\"}, {\"ID\": 1, \"timestamp\": \"08:30:00\", \"min\": -0.12953424657534246, \"max\": 0.20052054794520546, \"quantiles\": \"05-95\"}, {\"ID\": 1, \"timestamp\": \"08:45:00\", \"min\": -0.15175342465753425, \"max\": 0.1987123287671233, \"quantiles\": \"05-95\"}, {\"ID\": 1, \"timestamp\": \"09:00:00\", \"min\": -0.1703013698630137, \"max\": 0.2050958904109589, \"quantiles\": \"05-95\"}, {\"ID\": 1, \"timestamp\": \"09:15:00\", \"min\": -0.18819178082191781, \"max\": 0.20367123287671235, \"quantiles\": \"05-95\"}, {\"ID\": 1, \"timestamp\": \"09:30:00\", \"min\": -0.19093150684931506, \"max\": 0.21583561643835616, \"quantiles\": \"05-95\"}, {\"ID\": 1, \"timestamp\": \"09:45:00\", \"min\": -0.20564383561643837, \"max\": 0.20254794520547947, \"quantiles\": \"05-95\"}, {\"ID\": 1, \"timestamp\": \"10:00:00\", \"min\": -0.20654794520547945, \"max\": 0.202, \"quantiles\": \"05-95\"}, {\"ID\": 1, \"timestamp\": \"10:15:00\", \"min\": -0.21605479452054793, \"max\": 0.20495890410958906, \"quantiles\": \"05-95\"}, {\"ID\": 1, \"timestamp\": \"10:30:00\", \"min\": -0.22052054794520545, \"max\": 0.20372602739726028, \"quantiles\": \"05-95\"}, {\"ID\": 1, \"timestamp\": \"10:45:00\", \"min\": -0.22183561643835617, \"max\": 0.19205479452054794, \"quantiles\": \"05-95\"}, {\"ID\": 1, \"timestamp\": \"11:00:00\", \"min\": -0.23621917808219178, \"max\": 0.18920329670329672, \"quantiles\": \"05-95\"}, {\"ID\": 1, \"timestamp\": \"11:15:00\", \"min\": -0.23575342465753424, \"max\": 0.19819672131147542, \"quantiles\": \"05-95\"}, {\"ID\": 1, \"timestamp\": \"11:30:00\", \"min\": -0.2546301369863014, \"max\": 0.20560109289617487, \"quantiles\": \"05-95\"}, {\"ID\": 1, \"timestamp\": \"11:45:00\", \"min\": -0.2470958904109589, \"max\": 0.21726027397260272, \"quantiles\": \"05-95\"}, {\"ID\": 1, \"timestamp\": \"12:00:00\", \"min\": -0.23523287671232876, \"max\": 0.23145205479452055, \"quantiles\": \"05-95\"}, {\"ID\": 1, \"timestamp\": \"12:15:00\", \"min\": -0.24326027397260275, \"max\": 0.2156318681318681, \"quantiles\": \"05-95\"}, {\"ID\": 1, \"timestamp\": \"12:30:00\", \"min\": -0.2503013698630137, \"max\": 0.22358904109589042, \"quantiles\": \"05-95\"}, {\"ID\": 1, \"timestamp\": \"12:45:00\", \"min\": -0.24156164383561643, \"max\": 0.20087671232876714, \"quantiles\": \"05-95\"}, {\"ID\": 1, \"timestamp\": \"13:00:00\", \"min\": -0.2366301369863014, \"max\": 0.2003551912568306, \"quantiles\": \"05-95\"}, {\"ID\": 1, \"timestamp\": \"13:15:00\", \"min\": -0.23084931506849315, \"max\": 0.19454794520547947, \"quantiles\": \"05-95\"}, {\"ID\": 1, \"timestamp\": \"13:30:00\", \"min\": -0.21315068493150685, \"max\": 0.1965205479452055, \"quantiles\": \"05-95\"}, {\"ID\": 1, \"timestamp\": \"13:45:00\", \"min\": -0.21936986301369865, \"max\": 0.1920054945054945, \"quantiles\": \"05-95\"}, {\"ID\": 1, \"timestamp\": \"14:00:00\", \"min\": -0.20925619834710743, \"max\": 0.19515068493150686, \"quantiles\": \"05-95\"}, {\"ID\": 1, \"timestamp\": \"14:15:00\", \"min\": -0.19312328767123285, \"max\": 0.18344262295081967, \"quantiles\": \"05-95\"}, {\"ID\": 1, \"timestamp\": \"14:30:00\", \"min\": -0.16224657534246575, \"max\": 0.1897808219178082, \"quantiles\": \"05-95\"}, {\"ID\": 1, \"timestamp\": \"14:45:00\", \"min\": -0.1431232876712329, \"max\": 0.19309589041095893, \"quantiles\": \"05-95\"}, {\"ID\": 1, \"timestamp\": \"15:00:00\", \"min\": -0.12608219178082192, \"max\": 0.19569863013698632, \"quantiles\": \"05-95\"}, {\"ID\": 1, \"timestamp\": \"15:15:00\", \"min\": -0.1026849315068493, \"max\": 0.20308743169398907, \"quantiles\": \"05-95\"}, {\"ID\": 1, \"timestamp\": \"15:30:00\", \"min\": -0.08786301369863014, \"max\": 0.2121095890410959, \"quantiles\": \"05-95\"}, {\"ID\": 1, \"timestamp\": \"15:45:00\", \"min\": -0.06112328767123287, \"max\": 0.21934246575342467, \"quantiles\": \"05-95\"}, {\"ID\": 1, \"timestamp\": \"16:00:00\", \"min\": -0.03959016393442623, \"max\": 0.2258082191780822, \"quantiles\": \"05-95\"}, {\"ID\": 1, \"timestamp\": \"16:15:00\", \"min\": -0.020575342465753425, \"max\": 0.23654794520547945, \"quantiles\": \"05-95\"}, {\"ID\": 1, \"timestamp\": \"16:30:00\", \"min\": 0.001671232876712329, \"max\": 0.24964383561643838, \"quantiles\": \"05-95\"}, {\"ID\": 1, \"timestamp\": \"16:45:00\", \"min\": 0.013736263736263736, \"max\": 0.2542349726775956, \"quantiles\": \"05-95\"}, {\"ID\": 1, \"timestamp\": \"17:00:00\", \"min\": 0.01228021978021978, \"max\": 0.2576438356164384, \"quantiles\": \"05-95\"}, {\"ID\": 1, \"timestamp\": \"17:15:00\", \"min\": 0.015835616438356164, \"max\": 0.25904109589041097, \"quantiles\": \"05-95\"}, {\"ID\": 1, \"timestamp\": \"17:30:00\", \"min\": 0.022794520547945205, \"max\": 0.2509041095890411, \"quantiles\": \"05-95\"}, {\"ID\": 1, \"timestamp\": \"17:45:00\", \"min\": 0.022547945205479453, \"max\": 0.24308743169398908, \"quantiles\": \"05-95\"}, {\"ID\": 1, \"timestamp\": \"18:00:00\", \"min\": 0.028333333333333335, \"max\": 0.2469230769230769, \"quantiles\": \"05-95\"}, {\"ID\": 1, \"timestamp\": \"18:15:00\", \"min\": 0.02778688524590164, \"max\": 0.25597260273972605, \"quantiles\": \"05-95\"}, {\"ID\": 1, \"timestamp\": \"18:30:00\", \"min\": 0.028060109289617486, \"max\": 0.2657808219178082, \"quantiles\": \"05-95\"}, {\"ID\": 1, \"timestamp\": \"18:45:00\", \"min\": 0.029260273972602738, \"max\": 0.2704657534246575, \"quantiles\": \"05-95\"}, {\"ID\": 1, \"timestamp\": \"19:00:00\", \"min\": 0.028602739726027396, \"max\": 0.27252054794520547, \"quantiles\": \"05-95\"}, {\"ID\": 1, \"timestamp\": \"19:15:00\", \"min\": 0.029260273972602738, \"max\": 0.26819672131147543, \"quantiles\": \"05-95\"}, {\"ID\": 1, \"timestamp\": \"19:30:00\", \"min\": 0.030357142857142853, \"max\": 0.2608219178082192, \"quantiles\": \"05-95\"}, {\"ID\": 1, \"timestamp\": \"19:45:00\", \"min\": 0.03224043715846995, \"max\": 0.258, \"quantiles\": \"05-95\"}, {\"ID\": 1, \"timestamp\": \"20:00:00\", \"min\": 0.03243169398907104, \"max\": 0.27572602739726026, \"quantiles\": \"05-95\"}, {\"ID\": 1, \"timestamp\": \"20:15:00\", \"min\": 0.030983606557377048, \"max\": 0.2673972602739726, \"quantiles\": \"05-95\"}, {\"ID\": 1, \"timestamp\": \"20:30:00\", \"min\": 0.03237704918032787, \"max\": 0.26975342465753427, \"quantiles\": \"05-95\"}, {\"ID\": 1, \"timestamp\": \"20:45:00\", \"min\": 0.03027397260273973, \"max\": 0.25710382513661206, \"quantiles\": \"05-95\"}, {\"ID\": 1, \"timestamp\": \"21:00:00\", \"min\": 0.031010928961748632, \"max\": 0.2579234972677596, \"quantiles\": \"05-95\"}, {\"ID\": 1, \"timestamp\": \"21:15:00\", \"min\": 0.0296448087431694, \"max\": 0.2637808219178082, \"quantiles\": \"05-95\"}, {\"ID\": 1, \"timestamp\": \"21:30:00\", \"min\": 0.028770491803278685, \"max\": 0.24920547945205482, \"quantiles\": \"05-95\"}, {\"ID\": 1, \"timestamp\": \"21:45:00\", \"min\": 0.02855191256830601, \"max\": 0.23293150684931505, \"quantiles\": \"05-95\"}, {\"ID\": 1, \"timestamp\": \"22:00:00\", \"min\": 0.02715846994535519, \"max\": 0.2500273224043716, \"quantiles\": \"05-95\"}, {\"ID\": 1, \"timestamp\": \"22:15:00\", \"min\": 0.02789041095890411, \"max\": 0.2502191780821918, \"quantiles\": \"05-95\"}, {\"ID\": 1, \"timestamp\": \"22:30:00\", \"min\": 0.025245901639344263, \"max\": 0.2586027397260274, \"quantiles\": \"05-95\"}, {\"ID\": 1, \"timestamp\": \"22:45:00\", \"min\": 0.02568306010928962, \"max\": 0.2558469945355191, \"quantiles\": \"05-95\"}, {\"ID\": 1, \"timestamp\": \"23:00:00\", \"min\": 0.024781420765027325, \"max\": 0.2792349726775956, \"quantiles\": \"05-95\"}, {\"ID\": 1, \"timestamp\": \"23:15:00\", \"min\": 0.023688524590163934, \"max\": 0.2717808219178082, \"quantiles\": \"05-95\"}, {\"ID\": 1, \"timestamp\": \"23:30:00\", \"min\": 0.020846994535519126, \"max\": 0.2597808219178082, \"quantiles\": \"05-95\"}, {\"ID\": 1, \"timestamp\": \"23:45:00\", \"min\": 0.020633608815426998, \"max\": 0.24406593406593408, \"quantiles\": \"05-95\"}, {\"ID\": 1, \"timestamp\": \"ID\", \"min\": 1.0, \"max\": 1.0, \"quantiles\": \"10-90\"}, {\"ID\": 1, \"timestamp\": \"00:00:00\", \"min\": 0.025150684931506847, \"max\": 0.16756164383561645, \"quantiles\": \"10-90\"}, {\"ID\": 1, \"timestamp\": \"00:15:00\", \"min\": 0.02382513661202186, \"max\": 0.15775342465753425, \"quantiles\": \"10-90\"}, {\"ID\": 1, \"timestamp\": \"00:30:00\", \"min\": 0.023205479452054797, \"max\": 0.14224657534246576, \"quantiles\": \"10-90\"}, {\"ID\": 1, \"timestamp\": \"00:45:00\", \"min\": 0.0233972602739726, \"max\": 0.14484931506849313, \"quantiles\": \"10-90\"}, {\"ID\": 1, \"timestamp\": \"01:00:00\", \"min\": 0.022076502732240436, \"max\": 0.14524590163934428, \"quantiles\": \"10-90\"}, {\"ID\": 1, \"timestamp\": \"01:15:00\", \"min\": 0.022923497267759566, \"max\": 0.14989071038251367, \"quantiles\": \"10-90\"}, {\"ID\": 1, \"timestamp\": \"01:30:00\", \"min\": 0.02122950819672131, \"max\": 0.1441917808219178, \"quantiles\": \"10-90\"}, {\"ID\": 1, \"timestamp\": \"01:45:00\", \"min\": 0.020219178082191782, \"max\": 0.13497267759562842, \"quantiles\": \"10-90\"}, {\"ID\": 1, \"timestamp\": \"02:00:00\", \"min\": 0.020246575342465753, \"max\": 0.142986301369863, \"quantiles\": \"10-90\"}, {\"ID\": 1, \"timestamp\": \"02:15:00\", \"min\": 0.019397260273972605, \"max\": 0.1380821917808219, \"quantiles\": \"10-90\"}, {\"ID\": 1, \"timestamp\": \"02:30:00\", \"min\": 0.019698630136986302, \"max\": 0.13068493150684932, \"quantiles\": \"10-90\"}, {\"ID\": 1, \"timestamp\": \"02:45:00\", \"min\": 0.01915068493150685, \"max\": 0.12772602739726027, \"quantiles\": \"10-90\"}, {\"ID\": 1, \"timestamp\": \"03:00:00\", \"min\": 0.019616438356164383, \"max\": 0.13145205479452055, \"quantiles\": \"10-90\"}, {\"ID\": 1, \"timestamp\": \"03:15:00\", \"min\": 0.019534246575342466, \"max\": 0.1247945205479452, \"quantiles\": \"10-90\"}, {\"ID\": 1, \"timestamp\": \"03:30:00\", \"min\": 0.019781420765027324, \"max\": 0.1301912568306011, \"quantiles\": \"10-90\"}, {\"ID\": 1, \"timestamp\": \"03:45:00\", \"min\": 0.019262295081967213, \"max\": 0.12745901639344262, \"quantiles\": \"10-90\"}, {\"ID\": 1, \"timestamp\": \"04:00:00\", \"min\": 0.019207650273224044, \"max\": 0.1275068493150685, \"quantiles\": \"10-90\"}, {\"ID\": 1, \"timestamp\": \"04:15:00\", \"min\": 0.019068493150684932, \"max\": 0.12704918032786885, \"quantiles\": \"10-90\"}, {\"ID\": 1, \"timestamp\": \"04:30:00\", \"min\": 0.018169398907103826, \"max\": 0.12327868852459016, \"quantiles\": \"10-90\"}, {\"ID\": 1, \"timestamp\": \"04:45:00\", \"min\": 0.018606557377049183, \"max\": 0.12063013698630137, \"quantiles\": \"10-90\"}, {\"ID\": 1, \"timestamp\": \"05:00:00\", \"min\": 0.017240437158469943, \"max\": 0.1294246575342466, \"quantiles\": \"10-90\"}, {\"ID\": 1, \"timestamp\": \"05:15:00\", \"min\": 0.01773224043715847, \"max\": 0.12825136612021856, \"quantiles\": \"10-90\"}, {\"ID\": 1, \"timestamp\": \"05:30:00\", \"min\": 0.016803278688524593, \"max\": 0.1469041095890411, \"quantiles\": \"10-90\"}, {\"ID\": 1, \"timestamp\": \"05:45:00\", \"min\": 0.016775956284153005, \"max\": 0.1541095890410959, \"quantiles\": \"10-90\"}, {\"ID\": 1, \"timestamp\": \"06:00:00\", \"min\": 0.014972527472527473, \"max\": 0.14920547945205478, \"quantiles\": \"10-90\"}, {\"ID\": 1, \"timestamp\": \"06:15:00\", \"min\": 0.014781420765027323, \"max\": 0.15278688524590164, \"quantiles\": \"10-90\"}, {\"ID\": 1, \"timestamp\": \"06:30:00\", \"min\": 0.01603305785123967, \"max\": 0.16285318559556786, \"quantiles\": \"10-90\"}, {\"ID\": 1, \"timestamp\": \"06:45:00\", \"min\": 0.011475409836065575, \"max\": 0.15783561643835617, \"quantiles\": \"10-90\"}, {\"ID\": 1, \"timestamp\": \"07:00:00\", \"min\": 0.011291208791208792, \"max\": 0.14698630136986301, \"quantiles\": \"10-90\"}, {\"ID\": 1, \"timestamp\": \"07:15:00\", \"min\": 0.007397260273972603, \"max\": 0.15592286501377411, \"quantiles\": \"10-90\"}, {\"ID\": 1, \"timestamp\": \"07:30:00\", \"min\": -0.0029863013698630137, \"max\": 0.16829201101928376, \"quantiles\": \"10-90\"}, {\"ID\": 1, \"timestamp\": \"07:45:00\", \"min\": -0.011123287671232877, \"max\": 0.17597260273972604, \"quantiles\": \"10-90\"}, {\"ID\": 1, \"timestamp\": \"08:00:00\", \"min\": -0.02504109589041096, \"max\": 0.1715068493150685, \"quantiles\": \"10-90\"}, {\"ID\": 1, \"timestamp\": \"08:15:00\", \"min\": -0.04238356164383562, \"max\": 0.17267217630853995, \"quantiles\": \"10-90\"}, {\"ID\": 1, \"timestamp\": \"08:30:00\", \"min\": -0.0586027397260274, \"max\": 0.16873972602739726, \"quantiles\": \"10-90\"}, {\"ID\": 1, \"timestamp\": \"08:45:00\", \"min\": -0.08326027397260274, \"max\": 0.1692054794520548, \"quantiles\": \"10-90\"}, {\"ID\": 1, \"timestamp\": \"09:00:00\", \"min\": -0.09263013698630138, \"max\": 0.16936986301369863, \"quantiles\": \"10-90\"}, {\"ID\": 1, \"timestamp\": \"09:15:00\", \"min\": -0.11093150684931508, \"max\": 0.17623626373626375, \"quantiles\": \"10-90\"}, {\"ID\": 1, \"timestamp\": \"09:30:00\", \"min\": -0.11898630136986302, \"max\": 0.1729041095890411, \"quantiles\": \"10-90\"}, {\"ID\": 1, \"timestamp\": \"09:45:00\", \"min\": -0.13482191780821917, \"max\": 0.1729041095890411, \"quantiles\": \"10-90\"}, {\"ID\": 1, \"timestamp\": \"10:00:00\", \"min\": -0.1552054794520548, \"max\": 0.16876712328767124, \"quantiles\": \"10-90\"}, {\"ID\": 1, \"timestamp\": \"10:15:00\", \"min\": -0.16767123287671234, \"max\": 0.16813698630136986, \"quantiles\": \"10-90\"}, {\"ID\": 1, \"timestamp\": \"10:30:00\", \"min\": -0.16197260273972602, \"max\": 0.16956164383561645, \"quantiles\": \"10-90\"}, {\"ID\": 1, \"timestamp\": \"10:45:00\", \"min\": -0.18495890410958907, \"max\": 0.17134246575342466, \"quantiles\": \"10-90\"}, {\"ID\": 1, \"timestamp\": \"11:00:00\", \"min\": -0.18213698630136987, \"max\": 0.172986301369863, \"quantiles\": \"10-90\"}, {\"ID\": 1, \"timestamp\": \"11:15:00\", \"min\": -0.19156164383561644, \"max\": 0.1780601092896175, \"quantiles\": \"10-90\"}, {\"ID\": 1, \"timestamp\": \"11:30:00\", \"min\": -0.1907945205479452, \"max\": 0.18493150684931506, \"quantiles\": \"10-90\"}, {\"ID\": 1, \"timestamp\": \"11:45:00\", \"min\": -0.1891780821917808, \"max\": 0.18549180327868853, \"quantiles\": \"10-90\"}, {\"ID\": 1, \"timestamp\": \"12:00:00\", \"min\": -0.18939726027397258, \"max\": 0.1953150684931507, \"quantiles\": \"10-90\"}, {\"ID\": 1, \"timestamp\": \"12:15:00\", \"min\": -0.1889041095890411, \"max\": 0.18010928961748635, \"quantiles\": \"10-90\"}, {\"ID\": 1, \"timestamp\": \"12:30:00\", \"min\": -0.1840821917808219, \"max\": 0.18846994535519127, \"quantiles\": \"10-90\"}, {\"ID\": 1, \"timestamp\": \"12:45:00\", \"min\": -0.18476712328767123, \"max\": 0.16761643835616438, \"quantiles\": \"10-90\"}, {\"ID\": 1, \"timestamp\": \"13:00:00\", \"min\": -0.17695890410958906, \"max\": 0.158224043715847, \"quantiles\": \"10-90\"}, {\"ID\": 1, \"timestamp\": \"13:15:00\", \"min\": -0.17156164383561642, \"max\": 0.15501369863013698, \"quantiles\": \"10-90\"}, {\"ID\": 1, \"timestamp\": \"13:30:00\", \"min\": -0.16454794520547947, \"max\": 0.15109289617486338, \"quantiles\": \"10-90\"}, {\"ID\": 1, \"timestamp\": \"13:45:00\", \"min\": -0.1578904109589041, \"max\": 0.15363387978142076, \"quantiles\": \"10-90\"}, {\"ID\": 1, \"timestamp\": \"14:00:00\", \"min\": -0.13728767123287672, \"max\": 0.15857534246575344, \"quantiles\": \"10-90\"}, {\"ID\": 1, \"timestamp\": \"14:15:00\", \"min\": -0.12715068493150686, \"max\": 0.15808219178082192, \"quantiles\": \"10-90\"}, {\"ID\": 1, \"timestamp\": \"14:30:00\", \"min\": -0.11695890410958903, \"max\": 0.15104109589041095, \"quantiles\": \"10-90\"}, {\"ID\": 1, \"timestamp\": \"14:45:00\", \"min\": -0.10120547945205478, \"max\": 0.15297814207650273, \"quantiles\": \"10-90\"}, {\"ID\": 1, \"timestamp\": \"15:00:00\", \"min\": -0.08330601092896175, \"max\": 0.162027397260274, \"quantiles\": \"10-90\"}, {\"ID\": 1, \"timestamp\": \"15:15:00\", \"min\": -0.05602739726027397, \"max\": 0.1701098901098901, \"quantiles\": \"10-90\"}, {\"ID\": 1, \"timestamp\": \"15:30:00\", \"min\": -0.029917808219178083, \"max\": 0.17734246575342466, \"quantiles\": \"10-90\"}, {\"ID\": 1, \"timestamp\": \"15:45:00\", \"min\": -0.014082191780821917, \"max\": 0.18934246575342464, \"quantiles\": \"10-90\"}, {\"ID\": 1, \"timestamp\": \"16:00:00\", \"min\": 0.0045479452054794514, \"max\": 0.1983013698630137, \"quantiles\": \"10-90\"}, {\"ID\": 1, \"timestamp\": \"16:15:00\", \"min\": 0.01087912087912088, \"max\": 0.204, \"quantiles\": \"10-90\"}, {\"ID\": 1, \"timestamp\": \"16:30:00\", \"min\": 0.019262295081967213, \"max\": 0.21046703296703295, \"quantiles\": \"10-90\"}, {\"ID\": 1, \"timestamp\": \"16:45:00\", \"min\": 0.029614325068870524, \"max\": 0.2139835164835165, \"quantiles\": \"10-90\"}, {\"ID\": 1, \"timestamp\": \"17:00:00\", \"min\": 0.028246575342465753, \"max\": 0.22634615384615384, \"quantiles\": \"10-90\"}, {\"ID\": 1, \"timestamp\": \"17:15:00\", \"min\": 0.032131147540983604, \"max\": 0.22381868131868132, \"quantiles\": \"10-90\"}, {\"ID\": 1, \"timestamp\": \"17:30:00\", \"min\": 0.032904109589041095, \"max\": 0.23304109589041097, \"quantiles\": \"10-90\"}, {\"ID\": 1, \"timestamp\": \"17:45:00\", \"min\": 0.03707650273224044, \"max\": 0.23120218579234975, \"quantiles\": \"10-90\"}, {\"ID\": 1, \"timestamp\": \"18:00:00\", \"min\": 0.03821917808219178, \"max\": 0.23262295081967213, \"quantiles\": \"10-90\"}, {\"ID\": 1, \"timestamp\": \"18:15:00\", \"min\": 0.04308539944903581, \"max\": 0.22432876712328767, \"quantiles\": \"10-90\"}, {\"ID\": 1, \"timestamp\": \"18:30:00\", \"min\": 0.04576923076923077, \"max\": 0.2166027397260274, \"quantiles\": \"10-90\"}, {\"ID\": 1, \"timestamp\": \"18:45:00\", \"min\": 0.045989010989010995, \"max\": 0.2191780821917808, \"quantiles\": \"10-90\"}, {\"ID\": 1, \"timestamp\": \"19:00:00\", \"min\": 0.04736263736263737, \"max\": 0.2217260273972603, \"quantiles\": \"10-90\"}, {\"ID\": 1, \"timestamp\": \"19:15:00\", \"min\": 0.048087431693989074, \"max\": 0.22170329670329672, \"quantiles\": \"10-90\"}, {\"ID\": 1, \"timestamp\": \"19:30:00\", \"min\": 0.04685792349726776, \"max\": 0.21578082191780823, \"quantiles\": \"10-90\"}, {\"ID\": 1, \"timestamp\": \"19:45:00\", \"min\": 0.049643835616438356, \"max\": 0.21027397260273972, \"quantiles\": \"10-90\"}, {\"ID\": 1, \"timestamp\": \"20:00:00\", \"min\": 0.04679452054794521, \"max\": 0.2075890410958904, \"quantiles\": \"10-90\"}, {\"ID\": 1, \"timestamp\": \"20:15:00\", \"min\": 0.045081967213114756, \"max\": 0.19915068493150684, \"quantiles\": \"10-90\"}, {\"ID\": 1, \"timestamp\": \"20:30:00\", \"min\": 0.04374316939890711, \"max\": 0.1976986301369863, \"quantiles\": \"10-90\"}, {\"ID\": 1, \"timestamp\": \"20:45:00\", \"min\": 0.04235616438356164, \"max\": 0.18846575342465754, \"quantiles\": \"10-90\"}, {\"ID\": 1, \"timestamp\": \"21:00:00\", \"min\": 0.04167123287671232, \"max\": 0.1886027397260274, \"quantiles\": \"10-90\"}, {\"ID\": 1, \"timestamp\": \"21:15:00\", \"min\": 0.04136986301369863, \"max\": 0.1844383561643836, \"quantiles\": \"10-90\"}, {\"ID\": 1, \"timestamp\": \"21:30:00\", \"min\": 0.039450549450549446, \"max\": 0.17057534246575343, \"quantiles\": \"10-90\"}, {\"ID\": 1, \"timestamp\": \"21:45:00\", \"min\": 0.038005464480874315, \"max\": 0.16684931506849315, \"quantiles\": \"10-90\"}, {\"ID\": 1, \"timestamp\": \"22:00:00\", \"min\": 0.03586301369863014, \"max\": 0.1907123287671233, \"quantiles\": \"10-90\"}, {\"ID\": 1, \"timestamp\": \"22:15:00\", \"min\": 0.03498630136986301, \"max\": 0.20054794520547947, \"quantiles\": \"10-90\"}, {\"ID\": 1, \"timestamp\": \"22:30:00\", \"min\": 0.03398351648351648, \"max\": 0.17953424657534248, \"quantiles\": \"10-90\"}, {\"ID\": 1, \"timestamp\": \"22:45:00\", \"min\": 0.032076502732240435, \"max\": 0.17843835616438355, \"quantiles\": \"10-90\"}, {\"ID\": 1, \"timestamp\": \"23:00:00\", \"min\": 0.030986301369863016, \"max\": 0.19035616438356165, \"quantiles\": \"10-90\"}, {\"ID\": 1, \"timestamp\": \"23:15:00\", \"min\": 0.029534246575342465, \"max\": 0.17561643835616436, \"quantiles\": \"10-90\"}, {\"ID\": 1, \"timestamp\": \"23:30:00\", \"min\": 0.028246575342465753, \"max\": 0.17695054945054944, \"quantiles\": \"10-90\"}, {\"ID\": 1, \"timestamp\": \"23:45:00\", \"min\": 0.026120218579234973, \"max\": 0.16565934065934065, \"quantiles\": \"10-90\"}, {\"ID\": 1, \"timestamp\": \"ID\", \"min\": 1.0, \"max\": 1.0, \"quantiles\": \"15-85\"}, {\"ID\": 1, \"timestamp\": \"00:00:00\", \"min\": 0.029972602739726024, \"max\": 0.1156986301369863, \"quantiles\": \"15-85\"}, {\"ID\": 1, \"timestamp\": \"00:15:00\", \"min\": 0.028273972602739728, \"max\": 0.10923076923076923, \"quantiles\": \"15-85\"}, {\"ID\": 1, \"timestamp\": \"00:30:00\", \"min\": 0.027076502732240437, \"max\": 0.10928767123287672, \"quantiles\": \"15-85\"}, {\"ID\": 1, \"timestamp\": \"00:45:00\", \"min\": 0.026438356164383562, \"max\": 0.1096986301369863, \"quantiles\": \"15-85\"}, {\"ID\": 1, \"timestamp\": \"01:00:00\", \"min\": 0.02655737704918033, \"max\": 0.108, \"quantiles\": \"15-85\"}, {\"ID\": 1, \"timestamp\": \"01:15:00\", \"min\": 0.026584699453551915, \"max\": 0.10221917808219179, \"quantiles\": \"15-85\"}, {\"ID\": 1, \"timestamp\": \"01:30:00\", \"min\": 0.023743169398907103, \"max\": 0.09501369863013699, \"quantiles\": \"15-85\"}, {\"ID\": 1, \"timestamp\": \"01:45:00\", \"min\": 0.023551912568306008, \"max\": 0.09204918032786885, \"quantiles\": \"15-85\"}, {\"ID\": 1, \"timestamp\": \"02:00:00\", \"min\": 0.02367123287671233, \"max\": 0.09526027397260275, \"quantiles\": \"15-85\"}, {\"ID\": 1, \"timestamp\": \"02:15:00\", \"min\": 0.023178082191780823, \"max\": 0.09901369863013698, \"quantiles\": \"15-85\"}, {\"ID\": 1, \"timestamp\": \"02:30:00\", \"min\": 0.022986301369863016, \"max\": 0.09835616438356164, \"quantiles\": \"15-85\"}, {\"ID\": 1, \"timestamp\": \"02:45:00\", \"min\": 0.022602739726027398, \"max\": 0.08753424657534246, \"quantiles\": \"15-85\"}, {\"ID\": 1, \"timestamp\": \"03:00:00\", \"min\": 0.023251366120218577, \"max\": 0.09005464480874317, \"quantiles\": \"15-85\"}, {\"ID\": 1, \"timestamp\": \"03:15:00\", \"min\": 0.023114754098360658, \"max\": 0.08673972602739725, \"quantiles\": \"15-85\"}, {\"ID\": 1, \"timestamp\": \"03:30:00\", \"min\": 0.022904109589041096, \"max\": 0.08843835616438356, \"quantiles\": \"15-85\"}, {\"ID\": 1, \"timestamp\": \"03:45:00\", \"min\": 0.023315068493150685, \"max\": 0.08747945205479452, \"quantiles\": \"15-85\"}, {\"ID\": 1, \"timestamp\": \"04:00:00\", \"min\": 0.023114754098360658, \"max\": 0.0965205479452055, \"quantiles\": \"15-85\"}, {\"ID\": 1, \"timestamp\": \"04:15:00\", \"min\": 0.022868852459016396, \"max\": 0.0975068493150685, \"quantiles\": \"15-85\"}, {\"ID\": 1, \"timestamp\": \"04:30:00\", \"min\": 0.022131147540983605, \"max\": 0.09873972602739725, \"quantiles\": \"15-85\"}, {\"ID\": 1, \"timestamp\": \"04:45:00\", \"min\": 0.02278688524590164, \"max\": 0.09920765027322405, \"quantiles\": \"15-85\"}, {\"ID\": 1, \"timestamp\": \"05:00:00\", \"min\": 0.02180327868852459, \"max\": 0.10424657534246574, \"quantiles\": \"15-85\"}, {\"ID\": 1, \"timestamp\": \"05:15:00\", \"min\": 0.022513661202185793, \"max\": 0.12005479452054794, \"quantiles\": \"15-85\"}, {\"ID\": 1, \"timestamp\": \"05:30:00\", \"min\": 0.021835616438356163, \"max\": 0.1233972602739726, \"quantiles\": \"15-85\"}, {\"ID\": 1, \"timestamp\": \"05:45:00\", \"min\": 0.019781420765027324, \"max\": 0.12476712328767123, \"quantiles\": \"15-85\"}, {\"ID\": 1, \"timestamp\": \"06:00:00\", \"min\": 0.019754098360655736, \"max\": 0.12934246575342467, \"quantiles\": \"15-85\"}, {\"ID\": 1, \"timestamp\": \"06:15:00\", \"min\": 0.019890710382513662, \"max\": 0.12936986301369863, \"quantiles\": \"15-85\"}, {\"ID\": 1, \"timestamp\": \"06:30:00\", \"min\": 0.019918032786885247, \"max\": 0.13194520547945207, \"quantiles\": \"15-85\"}, {\"ID\": 1, \"timestamp\": \"06:45:00\", \"min\": 0.018633879781420767, \"max\": 0.1377562326869806, \"quantiles\": \"15-85\"}, {\"ID\": 1, \"timestamp\": \"07:00:00\", \"min\": 0.01758904109589041, \"max\": 0.1293972602739726, \"quantiles\": \"15-85\"}, {\"ID\": 1, \"timestamp\": \"07:15:00\", \"min\": 0.015895316804407714, \"max\": 0.1328219178082192, \"quantiles\": \"15-85\"}, {\"ID\": 1, \"timestamp\": \"07:30:00\", \"min\": 0.012164383561643835, \"max\": 0.14183561643835618, \"quantiles\": \"15-85\"}, {\"ID\": 1, \"timestamp\": \"07:45:00\", \"min\": 0.007726027397260273, \"max\": 0.15284931506849314, \"quantiles\": \"15-85\"}, {\"ID\": 1, \"timestamp\": \"08:00:00\", \"min\": 0.00815426997245179, \"max\": 0.1465205479452055, \"quantiles\": \"15-85\"}, {\"ID\": 1, \"timestamp\": \"08:15:00\", \"min\": -0.004849315068493151, \"max\": 0.13532967032967033, \"quantiles\": \"15-85\"}, {\"ID\": 1, \"timestamp\": \"08:30:00\", \"min\": -0.005999999999999998, \"max\": 0.1304931506849315, \"quantiles\": \"15-85\"}, {\"ID\": 1, \"timestamp\": \"08:45:00\", \"min\": -0.019753424657534248, \"max\": 0.12279452054794521, \"quantiles\": \"15-85\"}, {\"ID\": 1, \"timestamp\": \"09:00:00\", \"min\": -0.04443835616438356, \"max\": 0.12764383561643836, \"quantiles\": \"15-85\"}, {\"ID\": 1, \"timestamp\": \"09:15:00\", \"min\": -0.05635616438356165, \"max\": 0.1332513661202186, \"quantiles\": \"15-85\"}, {\"ID\": 1, \"timestamp\": \"09:30:00\", \"min\": -0.07953424657534247, \"max\": 0.136986301369863, \"quantiles\": \"15-85\"}, {\"ID\": 1, \"timestamp\": \"09:45:00\", \"min\": -0.09260273972602741, \"max\": 0.13619178082191782, \"quantiles\": \"15-85\"}, {\"ID\": 1, \"timestamp\": \"10:00:00\", \"min\": -0.10854794520547945, \"max\": 0.13772602739726028, \"quantiles\": \"15-85\"}, {\"ID\": 1, \"timestamp\": \"10:15:00\", \"min\": -0.11632876712328767, \"max\": 0.1398082191780822, \"quantiles\": \"15-85\"}, {\"ID\": 1, \"timestamp\": \"10:30:00\", \"min\": -0.12394520547945206, \"max\": 0.14344262295081966, \"quantiles\": \"15-85\"}, {\"ID\": 1, \"timestamp\": \"10:45:00\", \"min\": -0.12682191780821916, \"max\": 0.15134246575342467, \"quantiles\": \"15-85\"}, {\"ID\": 1, \"timestamp\": \"11:00:00\", \"min\": -0.13767123287671232, \"max\": 0.15972602739726027, \"quantiles\": \"15-85\"}, {\"ID\": 1, \"timestamp\": \"11:15:00\", \"min\": -0.1521917808219178, \"max\": 0.16183561643835617, \"quantiles\": \"15-85\"}, {\"ID\": 1, \"timestamp\": \"11:30:00\", \"min\": -0.15326027397260272, \"max\": 0.14641095890410957, \"quantiles\": \"15-85\"}, {\"ID\": 1, \"timestamp\": \"11:45:00\", \"min\": -0.15583561643835617, \"max\": 0.14786301369863014, \"quantiles\": \"15-85\"}, {\"ID\": 1, \"timestamp\": \"12:00:00\", \"min\": -0.14153424657534247, \"max\": 0.1521311475409836, \"quantiles\": \"15-85\"}, {\"ID\": 1, \"timestamp\": \"12:15:00\", \"min\": -0.12904109589041096, \"max\": 0.15558904109589042, \"quantiles\": \"15-85\"}, {\"ID\": 1, \"timestamp\": \"12:30:00\", \"min\": -0.1345205479452055, \"max\": 0.15580821917808219, \"quantiles\": \"15-85\"}, {\"ID\": 1, \"timestamp\": \"12:45:00\", \"min\": -0.1338904109589041, \"max\": 0.14415300546448087, \"quantiles\": \"15-85\"}, {\"ID\": 1, \"timestamp\": \"13:00:00\", \"min\": -0.12594520547945204, \"max\": 0.14202185792349728, \"quantiles\": \"15-85\"}, {\"ID\": 1, \"timestamp\": \"13:15:00\", \"min\": -0.13136986301369863, \"max\": 0.1390958904109589, \"quantiles\": \"15-85\"}, {\"ID\": 1, \"timestamp\": \"13:30:00\", \"min\": -0.1305464480874317, \"max\": 0.13747945205479453, \"quantiles\": \"15-85\"}, {\"ID\": 1, \"timestamp\": \"13:45:00\", \"min\": -0.1279178082191781, \"max\": 0.13315068493150686, \"quantiles\": \"15-85\"}, {\"ID\": 1, \"timestamp\": \"14:00:00\", \"min\": -0.11197260273972602, \"max\": 0.13687671232876714, \"quantiles\": \"15-85\"}, {\"ID\": 1, \"timestamp\": \"14:15:00\", \"min\": -0.08810958904109588, \"max\": 0.13632876712328768, \"quantiles\": \"15-85\"}, {\"ID\": 1, \"timestamp\": \"14:30:00\", \"min\": -0.07098630136986302, \"max\": 0.1374246575342466, \"quantiles\": \"15-85\"}, {\"ID\": 1, \"timestamp\": \"14:45:00\", \"min\": -0.05295890410958905, \"max\": 0.13945054945054944, \"quantiles\": \"15-85\"}, {\"ID\": 1, \"timestamp\": \"15:00:00\", \"min\": -0.035041095890410955, \"max\": 0.14484931506849313, \"quantiles\": \"15-85\"}, {\"ID\": 1, \"timestamp\": \"15:15:00\", \"min\": -0.002109589041095891, \"max\": 0.1473972602739726, \"quantiles\": \"15-85\"}, {\"ID\": 1, \"timestamp\": \"15:30:00\", \"min\": 0.009835164835164835, \"max\": 0.15210382513661203, \"quantiles\": \"15-85\"}, {\"ID\": 1, \"timestamp\": \"15:45:00\", \"min\": 0.017616438356164384, \"max\": 0.1547123287671233, \"quantiles\": \"15-85\"}, {\"ID\": 1, \"timestamp\": \"16:00:00\", \"min\": 0.02243169398907104, \"max\": 0.16517808219178082, \"quantiles\": \"15-85\"}, {\"ID\": 1, \"timestamp\": \"16:15:00\", \"min\": 0.026675824175824172, \"max\": 0.18554644808743168, \"quantiles\": \"15-85\"}, {\"ID\": 1, \"timestamp\": \"16:30:00\", \"min\": 0.027637362637362637, \"max\": 0.1941917808219178, \"quantiles\": \"15-85\"}, {\"ID\": 1, \"timestamp\": \"16:45:00\", \"min\": 0.03336986301369863, \"max\": 0.19646575342465752, \"quantiles\": \"15-85\"}, {\"ID\": 1, \"timestamp\": \"17:00:00\", \"min\": 0.03695054945054945, \"max\": 0.20263736263736265, \"quantiles\": \"15-85\"}, {\"ID\": 1, \"timestamp\": \"17:15:00\", \"min\": 0.03808743169398907, \"max\": 0.20416438356164382, \"quantiles\": \"15-85\"}, {\"ID\": 1, \"timestamp\": \"17:30:00\", \"min\": 0.0412054794520548, \"max\": 0.20860655737704917, \"quantiles\": \"15-85\"}, {\"ID\": 1, \"timestamp\": \"17:45:00\", \"min\": 0.045095890410958905, \"max\": 0.21286885245901638, \"quantiles\": \"15-85\"}, {\"ID\": 1, \"timestamp\": \"18:00:00\", \"min\": 0.04819178082191781, \"max\": 0.21487671232876715, \"quantiles\": \"15-85\"}, {\"ID\": 1, \"timestamp\": \"18:15:00\", \"min\": 0.05153424657534246, \"max\": 0.19617486338797813, \"quantiles\": \"15-85\"}, {\"ID\": 1, \"timestamp\": \"18:30:00\", \"min\": 0.05392857142857142, \"max\": 0.20134246575342465, \"quantiles\": \"15-85\"}, {\"ID\": 1, \"timestamp\": \"18:45:00\", \"min\": 0.0553551912568306, \"max\": 0.19413698630136986, \"quantiles\": \"15-85\"}, {\"ID\": 1, \"timestamp\": \"19:00:00\", \"min\": 0.05385674931129477, \"max\": 0.20035616438356163, \"quantiles\": \"15-85\"}, {\"ID\": 1, \"timestamp\": \"19:15:00\", \"min\": 0.055232876712328766, \"max\": 0.1970958904109589, \"quantiles\": \"15-85\"}, {\"ID\": 1, \"timestamp\": \"19:30:00\", \"min\": 0.05426229508196721, \"max\": 0.18767123287671234, \"quantiles\": \"15-85\"}, {\"ID\": 1, \"timestamp\": \"19:45:00\", \"min\": 0.05296703296703297, \"max\": 0.18013698630136987, \"quantiles\": \"15-85\"}, {\"ID\": 1, \"timestamp\": \"20:00:00\", \"min\": 0.05341530054644809, \"max\": 0.1796164383561644, \"quantiles\": \"15-85\"}, {\"ID\": 1, \"timestamp\": \"20:15:00\", \"min\": 0.052295081967213115, \"max\": 0.17142465753424657, \"quantiles\": \"15-85\"}, {\"ID\": 1, \"timestamp\": \"20:30:00\", \"min\": 0.05173076923076923, \"max\": 0.17186301369863013, \"quantiles\": \"15-85\"}, {\"ID\": 1, \"timestamp\": \"20:45:00\", \"min\": 0.05065753424657535, \"max\": 0.16686813186813187, \"quantiles\": \"15-85\"}, {\"ID\": 1, \"timestamp\": \"21:00:00\", \"min\": 0.05013661202185793, \"max\": 0.16432876712328767, \"quantiles\": \"15-85\"}, {\"ID\": 1, \"timestamp\": \"21:15:00\", \"min\": 0.04854794520547945, \"max\": 0.1498087431693989, \"quantiles\": \"15-85\"}, {\"ID\": 1, \"timestamp\": \"21:30:00\", \"min\": 0.04418032786885246, \"max\": 0.15156164383561643, \"quantiles\": \"15-85\"}, {\"ID\": 1, \"timestamp\": \"21:45:00\", \"min\": 0.04319672131147541, \"max\": 0.14473972602739726, \"quantiles\": \"15-85\"}, {\"ID\": 1, \"timestamp\": \"22:00:00\", \"min\": 0.04084699453551913, \"max\": 0.1524109589041096, \"quantiles\": \"15-85\"}, {\"ID\": 1, \"timestamp\": \"22:15:00\", \"min\": 0.040109890109890106, \"max\": 0.15322314049586777, \"quantiles\": \"15-85\"}, {\"ID\": 1, \"timestamp\": \"22:30:00\", \"min\": 0.03868493150684931, \"max\": 0.15041095890410958, \"quantiles\": \"15-85\"}, {\"ID\": 1, \"timestamp\": \"22:45:00\", \"min\": 0.037232876712328764, \"max\": 0.1318904109589041, \"quantiles\": \"15-85\"}, {\"ID\": 1, \"timestamp\": \"23:00:00\", \"min\": 0.03471232876712329, \"max\": 0.14867768595041322, \"quantiles\": \"15-85\"}, {\"ID\": 1, \"timestamp\": \"23:15:00\", \"min\": 0.03320547945205479, \"max\": 0.13340659340659342, \"quantiles\": \"15-85\"}, {\"ID\": 1, \"timestamp\": \"23:30:00\", \"min\": 0.031205479452054798, \"max\": 0.12854794520547946, \"quantiles\": \"15-85\"}, {\"ID\": 1, \"timestamp\": \"23:45:00\", \"min\": 0.030876712328767122, \"max\": 0.12810958904109587, \"quantiles\": \"15-85\"}, {\"ID\": 1, \"timestamp\": \"ID\", \"min\": 1.0, \"max\": 1.0, \"quantiles\": \"20-80\"}, {\"ID\": 1, \"timestamp\": \"00:00:00\", \"min\": 0.033681318681318684, \"max\": 0.09545205479452055, \"quantiles\": \"20-80\"}, {\"ID\": 1, \"timestamp\": \"00:15:00\", \"min\": 0.0326775956284153, \"max\": 0.09046575342465754, \"quantiles\": \"20-80\"}, {\"ID\": 1, \"timestamp\": \"00:30:00\", \"min\": 0.031123287671232874, \"max\": 0.08538251366120218, \"quantiles\": \"20-80\"}, {\"ID\": 1, \"timestamp\": \"00:45:00\", \"min\": 0.030136612021857922, \"max\": 0.08504109589041095, \"quantiles\": \"20-80\"}, {\"ID\": 1, \"timestamp\": \"01:00:00\", \"min\": 0.030164383561643835, \"max\": 0.08421917808219179, \"quantiles\": \"20-80\"}, {\"ID\": 1, \"timestamp\": \"01:15:00\", \"min\": 0.029781420765027322, \"max\": 0.08391780821917807, \"quantiles\": \"20-80\"}, {\"ID\": 1, \"timestamp\": \"01:30:00\", \"min\": 0.028794520547945204, \"max\": 0.08393939393939394, \"quantiles\": \"20-80\"}, {\"ID\": 1, \"timestamp\": \"01:45:00\", \"min\": 0.027513661202185794, \"max\": 0.08076712328767123, \"quantiles\": \"20-80\"}, {\"ID\": 1, \"timestamp\": \"02:00:00\", \"min\": 0.026986301369863012, \"max\": 0.0801917808219178, \"quantiles\": \"20-80\"}, {\"ID\": 1, \"timestamp\": \"02:15:00\", \"min\": 0.027643835616438357, \"max\": 0.0789041095890411, \"quantiles\": \"20-80\"}, {\"ID\": 1, \"timestamp\": \"02:30:00\", \"min\": 0.02772602739726027, \"max\": 0.07904109589041096, \"quantiles\": \"20-80\"}, {\"ID\": 1, \"timestamp\": \"02:45:00\", \"min\": 0.027589041095890412, \"max\": 0.07813698630136987, \"quantiles\": \"20-80\"}, {\"ID\": 1, \"timestamp\": \"03:00:00\", \"min\": 0.026575342465753424, \"max\": 0.07761643835616439, \"quantiles\": \"20-80\"}, {\"ID\": 1, \"timestamp\": \"03:15:00\", \"min\": 0.025327868852459016, \"max\": 0.07906849315068493, \"quantiles\": \"20-80\"}, {\"ID\": 1, \"timestamp\": \"03:30:00\", \"min\": 0.027213114754098357, \"max\": 0.07852459016393443, \"quantiles\": \"20-80\"}, {\"ID\": 1, \"timestamp\": \"03:45:00\", \"min\": 0.02639344262295082, \"max\": 0.0763013698630137, \"quantiles\": \"20-80\"}, {\"ID\": 1, \"timestamp\": \"04:00:00\", \"min\": 0.0276775956284153, \"max\": 0.07934246575342466, \"quantiles\": \"20-80\"}, {\"ID\": 1, \"timestamp\": \"04:15:00\", \"min\": 0.026666666666666665, \"max\": 0.08024657534246575, \"quantiles\": \"20-80\"}, {\"ID\": 1, \"timestamp\": \"04:30:00\", \"min\": 0.026383561643835613, \"max\": 0.08046575342465753, \"quantiles\": \"20-80\"}, {\"ID\": 1, \"timestamp\": \"04:45:00\", \"min\": 0.02748633879781421, \"max\": 0.08380821917808219, \"quantiles\": \"20-80\"}, {\"ID\": 1, \"timestamp\": \"05:00:00\", \"min\": 0.026575342465753424, \"max\": 0.0876986301369863, \"quantiles\": \"20-80\"}, {\"ID\": 1, \"timestamp\": \"05:15:00\", \"min\": 0.026657534246575344, \"max\": 0.09153424657534248, \"quantiles\": \"20-80\"}, {\"ID\": 1, \"timestamp\": \"05:30:00\", \"min\": 0.02517808219178082, \"max\": 0.09876712328767122, \"quantiles\": \"20-80\"}, {\"ID\": 1, \"timestamp\": \"05:45:00\", \"min\": 0.025027322404371586, \"max\": 0.09443835616438356, \"quantiles\": \"20-80\"}, {\"ID\": 1, \"timestamp\": \"06:00:00\", \"min\": 0.02469945355191257, \"max\": 0.09838797814207649, \"quantiles\": \"20-80\"}, {\"ID\": 1, \"timestamp\": \"06:15:00\", \"min\": 0.024371584699453552, \"max\": 0.10400000000000001, \"quantiles\": \"20-80\"}, {\"ID\": 1, \"timestamp\": \"06:30:00\", \"min\": 0.022032967032967032, \"max\": 0.10652054794520549, \"quantiles\": \"20-80\"}, {\"ID\": 1, \"timestamp\": \"06:45:00\", \"min\": 0.024642857142857143, \"max\": 0.11243835616438357, \"quantiles\": \"20-80\"}, {\"ID\": 1, \"timestamp\": \"07:00:00\", \"min\": 0.024794520547945207, \"max\": 0.106353591160221, \"quantiles\": \"20-80\"}, {\"ID\": 1, \"timestamp\": \"07:15:00\", \"min\": 0.019508196721311474, \"max\": 0.1072054794520548, \"quantiles\": \"20-80\"}, {\"ID\": 1, \"timestamp\": \"07:30:00\", \"min\": 0.019313186813186813, \"max\": 0.11008219178082192, \"quantiles\": \"20-80\"}, {\"ID\": 1, \"timestamp\": \"07:45:00\", \"min\": 0.019562841530054643, \"max\": 0.11246575342465753, \"quantiles\": \"20-80\"}, {\"ID\": 1, \"timestamp\": \"08:00:00\", \"min\": 0.020684931506849316, \"max\": 0.1106027397260274, \"quantiles\": \"20-80\"}, {\"ID\": 1, \"timestamp\": \"08:15:00\", \"min\": 0.01887671232876712, \"max\": 0.10271978021978022, \"quantiles\": \"20-80\"}, {\"ID\": 1, \"timestamp\": \"08:30:00\", \"min\": 0.017178082191780825, \"max\": 0.10680440771349863, \"quantiles\": \"20-80\"}, {\"ID\": 1, \"timestamp\": \"08:45:00\", \"min\": 0.013873626373626373, \"max\": 0.09868852459016393, \"quantiles\": \"20-80\"}, {\"ID\": 1, \"timestamp\": \"09:00:00\", \"min\": 0.010465753424657534, \"max\": 0.10095890410958905, \"quantiles\": \"20-80\"}, {\"ID\": 1, \"timestamp\": \"09:15:00\", \"min\": 0.010575342465753425, \"max\": 0.10398907103825138, \"quantiles\": \"20-80\"}, {\"ID\": 1, \"timestamp\": \"09:30:00\", \"min\": 0.0060989010989010994, \"max\": 0.10926027397260275, \"quantiles\": \"20-80\"}, {\"ID\": 1, \"timestamp\": \"09:45:00\", \"min\": -0.0018630136986301392, \"max\": 0.11043835616438356, \"quantiles\": \"20-80\"}, {\"ID\": 1, \"timestamp\": \"10:00:00\", \"min\": -0.023753424657534248, \"max\": 0.11008219178082192, \"quantiles\": \"20-80\"}, {\"ID\": 1, \"timestamp\": \"10:15:00\", \"min\": -0.05756164383561644, \"max\": 0.11534246575342466, \"quantiles\": \"20-80\"}, {\"ID\": 1, \"timestamp\": \"10:30:00\", \"min\": -0.056821917808219186, \"max\": 0.11245901639344263, \"quantiles\": \"20-80\"}, {\"ID\": 1, \"timestamp\": \"10:45:00\", \"min\": -0.05594520547945206, \"max\": 0.11413698630136987, \"quantiles\": \"20-80\"}, {\"ID\": 1, \"timestamp\": \"11:00:00\", \"min\": -0.05312328767123288, \"max\": 0.11825136612021858, \"quantiles\": \"20-80\"}, {\"ID\": 1, \"timestamp\": \"11:15:00\", \"min\": -0.0753551912568306, \"max\": 0.11547945205479451, \"quantiles\": \"20-80\"}, {\"ID\": 1, \"timestamp\": \"11:30:00\", \"min\": -0.07783561643835617, \"max\": 0.11718579234972677, \"quantiles\": \"20-80\"}, {\"ID\": 1, \"timestamp\": \"11:45:00\", \"min\": -0.09060273972602739, \"max\": 0.11467213114754098, \"quantiles\": \"20-80\"}, {\"ID\": 1, \"timestamp\": \"12:00:00\", \"min\": -0.08789041095890411, \"max\": 0.12814207650273224, \"quantiles\": \"20-80\"}, {\"ID\": 1, \"timestamp\": \"12:15:00\", \"min\": -0.08926027397260274, \"max\": 0.1266849315068493, \"quantiles\": \"20-80\"}, {\"ID\": 1, \"timestamp\": \"12:30:00\", \"min\": -0.07821917808219178, \"max\": 0.12489071038251366, \"quantiles\": \"20-80\"}, {\"ID\": 1, \"timestamp\": \"12:45:00\", \"min\": -0.08167123287671234, \"max\": 0.12175342465753423, \"quantiles\": \"20-80\"}, {\"ID\": 1, \"timestamp\": \"13:00:00\", \"min\": -0.0793972602739726, \"max\": 0.10945205479452055, \"quantiles\": \"20-80\"}, {\"ID\": 1, \"timestamp\": \"13:15:00\", \"min\": -0.06936986301369863, \"max\": 0.11213698630136987, \"quantiles\": \"20-80\"}, {\"ID\": 1, \"timestamp\": \"13:30:00\", \"min\": -0.07682191780821918, \"max\": 0.10887671232876713, \"quantiles\": \"20-80\"}, {\"ID\": 1, \"timestamp\": \"13:45:00\", \"min\": -0.068, \"max\": 0.11424657534246577, \"quantiles\": \"20-80\"}, {\"ID\": 1, \"timestamp\": \"14:00:00\", \"min\": -0.06767123287671233, \"max\": 0.10270491803278689, \"quantiles\": \"20-80\"}, {\"ID\": 1, \"timestamp\": \"14:15:00\", \"min\": -0.04010958904109589, \"max\": 0.10679452054794522, \"quantiles\": \"20-80\"}, {\"ID\": 1, \"timestamp\": \"14:30:00\", \"min\": -0.037205479452054796, \"max\": 0.1047945205479452, \"quantiles\": \"20-80\"}, {\"ID\": 1, \"timestamp\": \"14:45:00\", \"min\": 0.007972602739726027, \"max\": 0.10693150684931507, \"quantiles\": \"20-80\"}, {\"ID\": 1, \"timestamp\": \"15:00:00\", \"min\": 0.011479452054794519, \"max\": 0.11142465753424657, \"quantiles\": \"20-80\"}, {\"ID\": 1, \"timestamp\": \"15:15:00\", \"min\": 0.018626373626373628, \"max\": 0.122, \"quantiles\": \"20-80\"}, {\"ID\": 1, \"timestamp\": \"15:30:00\", \"min\": 0.022904109589041096, \"max\": 0.12361643835616437, \"quantiles\": \"20-80\"}, {\"ID\": 1, \"timestamp\": \"15:45:00\", \"min\": 0.02934426229508197, \"max\": 0.13093150684931507, \"quantiles\": \"20-80\"}, {\"ID\": 1, \"timestamp\": \"16:00:00\", \"min\": 0.030874316939890713, \"max\": 0.1436065573770492, \"quantiles\": \"20-80\"}, {\"ID\": 1, \"timestamp\": \"16:15:00\", \"min\": 0.031229508196721312, \"max\": 0.16104109589041096, \"quantiles\": \"20-80\"}, {\"ID\": 1, \"timestamp\": \"16:30:00\", \"min\": 0.03366120218579235, \"max\": 0.17095890410958903, \"quantiles\": \"20-80\"}, {\"ID\": 1, \"timestamp\": \"16:45:00\", \"min\": 0.03904109589041096, \"max\": 0.17589041095890412, \"quantiles\": \"20-80\"}, {\"ID\": 1, \"timestamp\": \"17:00:00\", \"min\": 0.042994505494505494, \"max\": 0.1810958904109589, \"quantiles\": \"20-80\"}, {\"ID\": 1, \"timestamp\": \"17:15:00\", \"min\": 0.04956284153005465, \"max\": 0.1809041095890411, \"quantiles\": \"20-80\"}, {\"ID\": 1, \"timestamp\": \"17:30:00\", \"min\": 0.05040983606557377, \"max\": 0.17775342465753424, \"quantiles\": \"20-80\"}, {\"ID\": 1, \"timestamp\": \"17:45:00\", \"min\": 0.054480874316939897, \"max\": 0.17849315068493152, \"quantiles\": \"20-80\"}, {\"ID\": 1, \"timestamp\": \"18:00:00\", \"min\": 0.05403846153846154, \"max\": 0.1768219178082192, \"quantiles\": \"20-80\"}, {\"ID\": 1, \"timestamp\": \"18:15:00\", \"min\": 0.0585792349726776, \"max\": 0.18706849315068494, \"quantiles\": \"20-80\"}, {\"ID\": 1, \"timestamp\": \"18:30:00\", \"min\": 0.06040983606557377, \"max\": 0.1813150684931507, \"quantiles\": \"20-80\"}, {\"ID\": 1, \"timestamp\": \"18:45:00\", \"min\": 0.061452054794520546, \"max\": 0.1765205479452055, \"quantiles\": \"20-80\"}, {\"ID\": 1, \"timestamp\": \"19:00:00\", \"min\": 0.06164383561643835, \"max\": 0.17753424657534245, \"quantiles\": \"20-80\"}, {\"ID\": 1, \"timestamp\": \"19:15:00\", \"min\": 0.06068306010928962, \"max\": 0.17803324099722992, \"quantiles\": \"20-80\"}, {\"ID\": 1, \"timestamp\": \"19:30:00\", \"min\": 0.05978142076502732, \"max\": 0.17401639344262296, \"quantiles\": \"20-80\"}, {\"ID\": 1, \"timestamp\": \"19:45:00\", \"min\": 0.05889807162534435, \"max\": 0.1665205479452055, \"quantiles\": \"20-80\"}, {\"ID\": 1, \"timestamp\": \"20:00:00\", \"min\": 0.059590163934426225, \"max\": 0.16306010928961748, \"quantiles\": \"20-80\"}, {\"ID\": 1, \"timestamp\": \"20:15:00\", \"min\": 0.05572602739726027, \"max\": 0.15758904109589042, \"quantiles\": \"20-80\"}, {\"ID\": 1, \"timestamp\": \"20:30:00\", \"min\": 0.05598360655737705, \"max\": 0.15205479452054796, \"quantiles\": \"20-80\"}, {\"ID\": 1, \"timestamp\": \"20:45:00\", \"min\": 0.05508196721311476, \"max\": 0.14431693989071037, \"quantiles\": \"20-80\"}, {\"ID\": 1, \"timestamp\": \"21:00:00\", \"min\": 0.05491758241758241, \"max\": 0.14394520547945205, \"quantiles\": \"20-80\"}, {\"ID\": 1, \"timestamp\": \"21:15:00\", \"min\": 0.05275956284153005, \"max\": 0.14232876712328768, \"quantiles\": \"20-80\"}, {\"ID\": 1, \"timestamp\": \"21:30:00\", \"min\": 0.05082191780821918, \"max\": 0.14035616438356166, \"quantiles\": \"20-80\"}, {\"ID\": 1, \"timestamp\": \"21:45:00\", \"min\": 0.048907103825136605, \"max\": 0.13421917808219178, \"quantiles\": \"20-80\"}, {\"ID\": 1, \"timestamp\": \"22:00:00\", \"min\": 0.045780821917808225, \"max\": 0.1330958904109589, \"quantiles\": \"20-80\"}, {\"ID\": 1, \"timestamp\": \"22:15:00\", \"min\": 0.045027322404371586, \"max\": 0.14016483516483516, \"quantiles\": \"20-80\"}, {\"ID\": 1, \"timestamp\": \"22:30:00\", \"min\": 0.04229508196721311, \"max\": 0.13287671232876713, \"quantiles\": \"20-80\"}, {\"ID\": 1, \"timestamp\": \"22:45:00\", \"min\": 0.039781420765027324, \"max\": 0.11849726775956283, \"quantiles\": \"20-80\"}, {\"ID\": 1, \"timestamp\": \"23:00:00\", \"min\": 0.03866120218579235, \"max\": 0.12273972602739726, \"quantiles\": \"20-80\"}, {\"ID\": 1, \"timestamp\": \"23:15:00\", \"min\": 0.036821917808219175, \"max\": 0.11325136612021859, \"quantiles\": \"20-80\"}, {\"ID\": 1, \"timestamp\": \"23:30:00\", \"min\": 0.03441095890410959, \"max\": 0.1098360655737705, \"quantiles\": \"20-80\"}, {\"ID\": 1, \"timestamp\": \"23:45:00\", \"min\": 0.03547945205479452, \"max\": 0.10071232876712329, \"quantiles\": \"20-80\"}, {\"ID\": 1, \"timestamp\": \"ID\", \"min\": 1.0, \"max\": 1.0, \"quantiles\": \"25-75\"}, {\"ID\": 1, \"timestamp\": \"00:00:00\", \"min\": 0.0356986301369863, \"max\": 0.08284931506849316, \"quantiles\": \"25-75\"}, {\"ID\": 1, \"timestamp\": \"00:15:00\", \"min\": 0.035671232876712325, \"max\": 0.08198895027624309, \"quantiles\": \"25-75\"}, {\"ID\": 1, \"timestamp\": \"00:30:00\", \"min\": 0.034054794520547944, \"max\": 0.07917808219178082, \"quantiles\": \"25-75\"}, {\"ID\": 1, \"timestamp\": \"00:45:00\", \"min\": 0.033068493150684934, \"max\": 0.07575342465753425, \"quantiles\": \"25-75\"}, {\"ID\": 1, \"timestamp\": \"01:00:00\", \"min\": 0.032136986301369866, \"max\": 0.0747945205479452, \"quantiles\": \"25-75\"}, {\"ID\": 1, \"timestamp\": \"01:15:00\", \"min\": 0.031038251366120217, \"max\": 0.07323287671232877, \"quantiles\": \"25-75\"}, {\"ID\": 1, \"timestamp\": \"01:30:00\", \"min\": 0.03095890410958904, \"max\": 0.0763013698630137, \"quantiles\": \"25-75\"}, {\"ID\": 1, \"timestamp\": \"01:45:00\", \"min\": 0.030383561643835617, \"max\": 0.07216438356164384, \"quantiles\": \"25-75\"}, {\"ID\": 1, \"timestamp\": \"02:00:00\", \"min\": 0.030575342465753424, \"max\": 0.07216438356164384, \"quantiles\": \"25-75\"}, {\"ID\": 1, \"timestamp\": \"02:15:00\", \"min\": 0.030136986301369864, \"max\": 0.07164383561643836, \"quantiles\": \"25-75\"}, {\"ID\": 1, \"timestamp\": \"02:30:00\", \"min\": 0.02950684931506849, \"max\": 0.07, \"quantiles\": \"25-75\"}, {\"ID\": 1, \"timestamp\": \"02:45:00\", \"min\": 0.028712328767123287, \"max\": 0.07084931506849315, \"quantiles\": \"25-75\"}, {\"ID\": 1, \"timestamp\": \"03:00:00\", \"min\": 0.028246575342465753, \"max\": 0.07052054794520549, \"quantiles\": \"25-75\"}, {\"ID\": 1, \"timestamp\": \"03:15:00\", \"min\": 0.02871584699453552, \"max\": 0.07043835616438357, \"quantiles\": \"25-75\"}, {\"ID\": 1, \"timestamp\": \"03:30:00\", \"min\": 0.0292896174863388, \"max\": 0.07312328767123288, \"quantiles\": \"25-75\"}, {\"ID\": 1, \"timestamp\": \"03:45:00\", \"min\": 0.028142076502732243, \"max\": 0.07136986301369863, \"quantiles\": \"25-75\"}, {\"ID\": 1, \"timestamp\": \"04:00:00\", \"min\": 0.028684931506849316, \"max\": 0.07189041095890411, \"quantiles\": \"25-75\"}, {\"ID\": 1, \"timestamp\": \"04:15:00\", \"min\": 0.02849315068493151, \"max\": 0.07084931506849315, \"quantiles\": \"25-75\"}, {\"ID\": 1, \"timestamp\": \"04:30:00\", \"min\": 0.028934426229508196, \"max\": 0.07265193370165746, \"quantiles\": \"25-75\"}, {\"ID\": 1, \"timestamp\": \"04:45:00\", \"min\": 0.029043715846994538, \"max\": 0.07101369863013698, \"quantiles\": \"25-75\"}, {\"ID\": 1, \"timestamp\": \"05:00:00\", \"min\": 0.029316939890710384, \"max\": 0.07375342465753425, \"quantiles\": \"25-75\"}, {\"ID\": 1, \"timestamp\": \"05:15:00\", \"min\": 0.030247933884297522, \"max\": 0.0753972602739726, \"quantiles\": \"25-75\"}, {\"ID\": 1, \"timestamp\": \"05:30:00\", \"min\": 0.02852054794520548, \"max\": 0.0778082191780822, \"quantiles\": \"25-75\"}, {\"ID\": 1, \"timestamp\": \"05:45:00\", \"min\": 0.029780821917808217, \"max\": 0.08336065573770492, \"quantiles\": \"25-75\"}, {\"ID\": 1, \"timestamp\": \"06:00:00\", \"min\": 0.028579234972677597, \"max\": 0.08598360655737705, \"quantiles\": \"25-75\"}, {\"ID\": 1, \"timestamp\": \"06:15:00\", \"min\": 0.028907103825136612, \"max\": 0.08627397260273974, \"quantiles\": \"25-75\"}, {\"ID\": 1, \"timestamp\": \"06:30:00\", \"min\": 0.026666666666666665, \"max\": 0.08658469945355192, \"quantiles\": \"25-75\"}, {\"ID\": 1, \"timestamp\": \"06:45:00\", \"min\": 0.028442622950819674, \"max\": 0.0886027397260274, \"quantiles\": \"25-75\"}, {\"ID\": 1, \"timestamp\": \"07:00:00\", \"min\": 0.029835164835164834, \"max\": 0.09451790633608816, \"quantiles\": \"25-75\"}, {\"ID\": 1, \"timestamp\": \"07:15:00\", \"min\": 0.02947945205479452, \"max\": 0.09715068493150684, \"quantiles\": \"25-75\"}, {\"ID\": 1, \"timestamp\": \"07:30:00\", \"min\": 0.027178082191780823, \"max\": 0.09601648351648352, \"quantiles\": \"25-75\"}, {\"ID\": 1, \"timestamp\": \"07:45:00\", \"min\": 0.028770491803278685, \"max\": 0.10068493150684932, \"quantiles\": \"25-75\"}, {\"ID\": 1, \"timestamp\": \"08:00:00\", \"min\": 0.0273972602739726, \"max\": 0.08997260273972604, \"quantiles\": \"25-75\"}, {\"ID\": 1, \"timestamp\": \"08:15:00\", \"min\": 0.026475409836065573, \"max\": 0.0907967032967033, \"quantiles\": \"25-75\"}, {\"ID\": 1, \"timestamp\": \"08:30:00\", \"min\": 0.024234972677595626, \"max\": 0.09071038251366122, \"quantiles\": \"25-75\"}, {\"ID\": 1, \"timestamp\": \"08:45:00\", \"min\": 0.021338797814207652, \"max\": 0.09237704918032788, \"quantiles\": \"25-75\"}, {\"ID\": 1, \"timestamp\": \"09:00:00\", \"min\": 0.020519125683060108, \"max\": 0.09271232876712329, \"quantiles\": \"25-75\"}, {\"ID\": 1, \"timestamp\": \"09:15:00\", \"min\": 0.0196448087431694, \"max\": 0.09065934065934066, \"quantiles\": \"25-75\"}, {\"ID\": 1, \"timestamp\": \"09:30:00\", \"min\": 0.018005464480874315, \"max\": 0.09388429752066116, \"quantiles\": \"25-75\"}, {\"ID\": 1, \"timestamp\": \"09:45:00\", \"min\": 0.018087431693989072, \"max\": 0.10054794520547947, \"quantiles\": \"25-75\"}, {\"ID\": 1, \"timestamp\": \"10:00:00\", \"min\": 0.017540983606557377, \"max\": 0.09765027322404372, \"quantiles\": \"25-75\"}, {\"ID\": 1, \"timestamp\": \"10:15:00\", \"min\": 0.01669398907103825, \"max\": 0.10117808219178082, \"quantiles\": \"25-75\"}, {\"ID\": 1, \"timestamp\": \"10:30:00\", \"min\": 0.015546448087431695, \"max\": 0.09865753424657533, \"quantiles\": \"25-75\"}, {\"ID\": 1, \"timestamp\": \"10:45:00\", \"min\": 0.015081967213114755, \"max\": 0.10185792349726776, \"quantiles\": \"25-75\"}, {\"ID\": 1, \"timestamp\": \"11:00:00\", \"min\": 0.014508196721311477, \"max\": 0.09796703296703298, \"quantiles\": \"25-75\"}, {\"ID\": 1, \"timestamp\": \"11:15:00\", \"min\": 0.015737704918032787, \"max\": 0.10358904109589041, \"quantiles\": \"25-75\"}, {\"ID\": 1, \"timestamp\": \"11:30:00\", \"min\": 0.015601092896174864, \"max\": 0.10306849315068492, \"quantiles\": \"25-75\"}, {\"ID\": 1, \"timestamp\": \"11:45:00\", \"min\": 0.015792349726775956, \"max\": 0.10802739726027397, \"quantiles\": \"25-75\"}, {\"ID\": 1, \"timestamp\": \"12:00:00\", \"min\": 0.015792349726775956, \"max\": 0.10956164383561644, \"quantiles\": \"25-75\"}, {\"ID\": 1, \"timestamp\": \"12:15:00\", \"min\": 0.0164010989010989, \"max\": 0.10835616438356166, \"quantiles\": \"25-75\"}, {\"ID\": 1, \"timestamp\": \"12:30:00\", \"min\": 0.01870879120879121, \"max\": 0.1001917808219178, \"quantiles\": \"25-75\"}, {\"ID\": 1, \"timestamp\": \"12:45:00\", \"min\": 0.018818681318681318, \"max\": 0.10087671232876712, \"quantiles\": \"25-75\"}, {\"ID\": 1, \"timestamp\": \"13:00:00\", \"min\": 0.018579234972677595, \"max\": 0.09794520547945205, \"quantiles\": \"25-75\"}, {\"ID\": 1, \"timestamp\": \"13:15:00\", \"min\": 0.011287671232876712, \"max\": 0.09297814207650273, \"quantiles\": \"25-75\"}, {\"ID\": 1, \"timestamp\": \"13:30:00\", \"min\": 0.01221917808219178, \"max\": 0.09287671232876712, \"quantiles\": \"25-75\"}, {\"ID\": 1, \"timestamp\": \"13:45:00\", \"min\": 0.012547945205479452, \"max\": 0.09437158469945355, \"quantiles\": \"25-75\"}, {\"ID\": 1, \"timestamp\": \"14:00:00\", \"min\": 0.023369863013698627, \"max\": 0.09375342465753424, \"quantiles\": \"25-75\"}, {\"ID\": 1, \"timestamp\": \"14:15:00\", \"min\": 0.021693989071038252, \"max\": 0.09295890410958904, \"quantiles\": \"25-75\"}, {\"ID\": 1, \"timestamp\": \"14:30:00\", \"min\": 0.02032786885245902, \"max\": 0.09438016528925619, \"quantiles\": \"25-75\"}, {\"ID\": 1, \"timestamp\": \"14:45:00\", \"min\": 0.024356164383561644, \"max\": 0.09654794520547946, \"quantiles\": \"25-75\"}, {\"ID\": 1, \"timestamp\": \"15:00:00\", \"min\": 0.025300546448087432, \"max\": 0.09322314049586777, \"quantiles\": \"25-75\"}, {\"ID\": 1, \"timestamp\": \"15:15:00\", \"min\": 0.029508196721311476, \"max\": 0.10346994535519125, \"quantiles\": \"25-75\"}, {\"ID\": 1, \"timestamp\": \"15:30:00\", \"min\": 0.030928961748633882, \"max\": 0.10679452054794522, \"quantiles\": \"25-75\"}, {\"ID\": 1, \"timestamp\": \"15:45:00\", \"min\": 0.03517808219178082, \"max\": 0.11669398907103826, \"quantiles\": \"25-75\"}, {\"ID\": 1, \"timestamp\": \"16:00:00\", \"min\": 0.035573770491803276, \"max\": 0.12736986301369863, \"quantiles\": \"25-75\"}, {\"ID\": 1, \"timestamp\": \"16:15:00\", \"min\": 0.0392054794520548, \"max\": 0.1393956043956044, \"quantiles\": \"25-75\"}, {\"ID\": 1, \"timestamp\": \"16:30:00\", \"min\": 0.04095890410958904, \"max\": 0.15610958904109587, \"quantiles\": \"25-75\"}, {\"ID\": 1, \"timestamp\": \"16:45:00\", \"min\": 0.044426229508196725, \"max\": 0.156986301369863, \"quantiles\": \"25-75\"}, {\"ID\": 1, \"timestamp\": \"17:00:00\", \"min\": 0.05027397260273973, \"max\": 0.1581542699724518, \"quantiles\": \"25-75\"}, {\"ID\": 1, \"timestamp\": \"17:15:00\", \"min\": 0.05432876712328768, \"max\": 0.16136986301369863, \"quantiles\": \"25-75\"}, {\"ID\": 1, \"timestamp\": \"17:30:00\", \"min\": 0.056338797814207656, \"max\": 0.156, \"quantiles\": \"25-75\"}, {\"ID\": 1, \"timestamp\": \"17:45:00\", \"min\": 0.05986301369863014, \"max\": 0.15275956284153006, \"quantiles\": \"25-75\"}, {\"ID\": 1, \"timestamp\": \"18:00:00\", \"min\": 0.06320547945205479, \"max\": 0.1608743169398907, \"quantiles\": \"25-75\"}, {\"ID\": 1, \"timestamp\": \"18:15:00\", \"min\": 0.06651098901098901, \"max\": 0.15915300546448088, \"quantiles\": \"25-75\"}, {\"ID\": 1, \"timestamp\": \"18:30:00\", \"min\": 0.06498630136986301, \"max\": 0.1614246575342466, \"quantiles\": \"25-75\"}, {\"ID\": 1, \"timestamp\": \"18:45:00\", \"min\": 0.06826923076923078, \"max\": 0.1606043956043956, \"quantiles\": \"25-75\"}, {\"ID\": 1, \"timestamp\": \"19:00:00\", \"min\": 0.06613698630136987, \"max\": 0.16390710382513662, \"quantiles\": \"25-75\"}, {\"ID\": 1, \"timestamp\": \"19:15:00\", \"min\": 0.06557377049180328, \"max\": 0.1611780821917808, \"quantiles\": \"25-75\"}, {\"ID\": 1, \"timestamp\": \"19:30:00\", \"min\": 0.06543956043956044, \"max\": 0.15093150684931508, \"quantiles\": \"25-75\"}, {\"ID\": 1, \"timestamp\": \"19:45:00\", \"min\": 0.06387978142076503, \"max\": 0.1521917808219178, \"quantiles\": \"25-75\"}, {\"ID\": 1, \"timestamp\": \"20:00:00\", \"min\": 0.06357142857142857, \"max\": 0.14739726027397262, \"quantiles\": \"25-75\"}, {\"ID\": 1, \"timestamp\": \"20:15:00\", \"min\": 0.06254794520547946, \"max\": 0.14194520547945205, \"quantiles\": \"25-75\"}, {\"ID\": 1, \"timestamp\": \"20:30:00\", \"min\": 0.06106849315068493, \"max\": 0.1378082191780822, \"quantiles\": \"25-75\"}, {\"ID\": 1, \"timestamp\": \"20:45:00\", \"min\": 0.05997260273972603, \"max\": 0.13584699453551913, \"quantiles\": \"25-75\"}, {\"ID\": 1, \"timestamp\": \"21:00:00\", \"min\": 0.057753424657534254, \"max\": 0.133551912568306, \"quantiles\": \"25-75\"}, {\"ID\": 1, \"timestamp\": \"21:15:00\", \"min\": 0.05624657534246576, \"max\": 0.1301912568306011, \"quantiles\": \"25-75\"}, {\"ID\": 1, \"timestamp\": \"21:30:00\", \"min\": 0.052630136986301375, \"max\": 0.12969863013698632, \"quantiles\": \"25-75\"}, {\"ID\": 1, \"timestamp\": \"21:45:00\", \"min\": 0.05093150684931507, \"max\": 0.12317808219178082, \"quantiles\": \"25-75\"}, {\"ID\": 1, \"timestamp\": \"22:00:00\", \"min\": 0.048136986301369866, \"max\": 0.12249315068493151, \"quantiles\": \"25-75\"}, {\"ID\": 1, \"timestamp\": \"22:15:00\", \"min\": 0.04758904109589041, \"max\": 0.12235616438356166, \"quantiles\": \"25-75\"}, {\"ID\": 1, \"timestamp\": \"22:30:00\", \"min\": 0.04616438356164384, \"max\": 0.10928767123287672, \"quantiles\": \"25-75\"}, {\"ID\": 1, \"timestamp\": \"22:45:00\", \"min\": 0.04515068493150685, \"max\": 0.10441095890410959, \"quantiles\": \"25-75\"}, {\"ID\": 1, \"timestamp\": \"23:00:00\", \"min\": 0.04298630136986301, \"max\": 0.10497267759562842, \"quantiles\": \"25-75\"}, {\"ID\": 1, \"timestamp\": \"23:15:00\", \"min\": 0.039808743169398905, \"max\": 0.10150273224043715, \"quantiles\": \"25-75\"}, {\"ID\": 1, \"timestamp\": \"23:30:00\", \"min\": 0.03846575342465754, \"max\": 0.09449315068493151, \"quantiles\": \"25-75\"}, {\"ID\": 1, \"timestamp\": \"23:45:00\", \"min\": 0.037041095890410956, \"max\": 0.0870958904109589, \"quantiles\": \"25-75\"}, {\"ID\": 1, \"timestamp\": \"ID\", \"min\": 1.0, \"max\": 1.0, \"quantiles\": \"30-70\"}, {\"ID\": 1, \"timestamp\": \"00:00:00\", \"min\": 0.039506849315068496, \"max\": 0.0757142857142857, \"quantiles\": \"30-70\"}, {\"ID\": 1, \"timestamp\": \"00:15:00\", \"min\": 0.03840659340659341, \"max\": 0.07315068493150685, \"quantiles\": \"30-70\"}, {\"ID\": 1, \"timestamp\": \"00:30:00\", \"min\": 0.03665753424657534, \"max\": 0.07052054794520549, \"quantiles\": \"30-70\"}, {\"ID\": 1, \"timestamp\": \"00:45:00\", \"min\": 0.03487671232876712, \"max\": 0.069013698630137, \"quantiles\": \"30-70\"}, {\"ID\": 1, \"timestamp\": \"01:00:00\", \"min\": 0.03372602739726027, \"max\": 0.06936986301369863, \"quantiles\": \"30-70\"}, {\"ID\": 1, \"timestamp\": \"01:15:00\", \"min\": 0.03471074380165289, \"max\": 0.06863387978142077, \"quantiles\": \"30-70\"}, {\"ID\": 1, \"timestamp\": \"01:30:00\", \"min\": 0.034438356164383566, \"max\": 0.06717032967032967, \"quantiles\": \"30-70\"}, {\"ID\": 1, \"timestamp\": \"01:45:00\", \"min\": 0.03295081967213115, \"max\": 0.06637362637362637, \"quantiles\": \"30-70\"}, {\"ID\": 1, \"timestamp\": \"02:00:00\", \"min\": 0.032438356164383564, \"max\": 0.06358904109589042, \"quantiles\": \"30-70\"}, {\"ID\": 1, \"timestamp\": \"02:15:00\", \"min\": 0.0316986301369863, \"max\": 0.06402739726027397, \"quantiles\": \"30-70\"}, {\"ID\": 1, \"timestamp\": \"02:30:00\", \"min\": 0.031972602739726026, \"max\": 0.06257534246575343, \"quantiles\": \"30-70\"}, {\"ID\": 1, \"timestamp\": \"02:45:00\", \"min\": 0.03142465753424658, \"max\": 0.06493150684931506, \"quantiles\": \"30-70\"}, {\"ID\": 1, \"timestamp\": \"03:00:00\", \"min\": 0.03123287671232877, \"max\": 0.06309589041095891, \"quantiles\": \"30-70\"}, {\"ID\": 1, \"timestamp\": \"03:15:00\", \"min\": 0.03095890410958904, \"max\": 0.06391780821917808, \"quantiles\": \"30-70\"}, {\"ID\": 1, \"timestamp\": \"03:30:00\", \"min\": 0.030384615384615385, \"max\": 0.06512328767123288, \"quantiles\": \"30-70\"}, {\"ID\": 1, \"timestamp\": \"03:45:00\", \"min\": 0.030686813186813187, \"max\": 0.06398351648351648, \"quantiles\": \"30-70\"}, {\"ID\": 1, \"timestamp\": \"04:00:00\", \"min\": 0.031753424657534245, \"max\": 0.06534246575342466, \"quantiles\": \"30-70\"}, {\"ID\": 1, \"timestamp\": \"04:15:00\", \"min\": 0.03194520547945205, \"max\": 0.0652054794520548, \"quantiles\": \"30-70\"}, {\"ID\": 1, \"timestamp\": \"04:30:00\", \"min\": 0.03136986301369863, \"max\": 0.06336986301369862, \"quantiles\": \"30-70\"}, {\"ID\": 1, \"timestamp\": \"04:45:00\", \"min\": 0.03202739726027397, \"max\": 0.06345205479452055, \"quantiles\": \"30-70\"}, {\"ID\": 1, \"timestamp\": \"05:00:00\", \"min\": 0.03224657534246575, \"max\": 0.0641917808219178, \"quantiles\": \"30-70\"}, {\"ID\": 1, \"timestamp\": \"05:15:00\", \"min\": 0.033643835616438356, \"max\": 0.06484931506849316, \"quantiles\": \"30-70\"}, {\"ID\": 1, \"timestamp\": \"05:30:00\", \"min\": 0.032472527472527477, \"max\": 0.06568306010928962, \"quantiles\": \"30-70\"}, {\"ID\": 1, \"timestamp\": \"05:45:00\", \"min\": 0.03156593406593407, \"max\": 0.07465753424657534, \"quantiles\": \"30-70\"}, {\"ID\": 1, \"timestamp\": \"06:00:00\", \"min\": 0.031972602739726026, \"max\": 0.07013698630136987, \"quantiles\": \"30-70\"}, {\"ID\": 1, \"timestamp\": \"06:15:00\", \"min\": 0.03293150684931507, \"max\": 0.07254794520547946, \"quantiles\": \"30-70\"}, {\"ID\": 1, \"timestamp\": \"06:30:00\", \"min\": 0.031342465753424656, \"max\": 0.07594520547945205, \"quantiles\": \"30-70\"}, {\"ID\": 1, \"timestamp\": \"06:45:00\", \"min\": 0.03298630136986302, \"max\": 0.07775956284153006, \"quantiles\": \"30-70\"}, {\"ID\": 1, \"timestamp\": \"07:00:00\", \"min\": 0.03647540983606557, \"max\": 0.08482093663911845, \"quantiles\": \"30-70\"}, {\"ID\": 1, \"timestamp\": \"07:15:00\", \"min\": 0.03486338797814208, \"max\": 0.08446575342465754, \"quantiles\": \"30-70\"}, {\"ID\": 1, \"timestamp\": \"07:30:00\", \"min\": 0.033251366120218576, \"max\": 0.08501369863013698, \"quantiles\": \"30-70\"}, {\"ID\": 1, \"timestamp\": \"07:45:00\", \"min\": 0.03383561643835616, \"max\": 0.0816986301369863, \"quantiles\": \"30-70\"}, {\"ID\": 1, \"timestamp\": \"08:00:00\", \"min\": 0.033424657534246574, \"max\": 0.08259562841530055, \"quantiles\": \"30-70\"}, {\"ID\": 1, \"timestamp\": \"08:15:00\", \"min\": 0.03236914600550964, \"max\": 0.08273972602739726, \"quantiles\": \"30-70\"}, {\"ID\": 1, \"timestamp\": \"08:30:00\", \"min\": 0.031994535519125684, \"max\": 0.08282191780821918, \"quantiles\": \"30-70\"}, {\"ID\": 1, \"timestamp\": \"08:45:00\", \"min\": 0.031311475409836066, \"max\": 0.08052054794520548, \"quantiles\": \"30-70\"}, {\"ID\": 1, \"timestamp\": \"09:00:00\", \"min\": 0.03186301369863014, \"max\": 0.08245901639344262, \"quantiles\": \"30-70\"}, {\"ID\": 1, \"timestamp\": \"09:15:00\", \"min\": 0.028273972602739728, \"max\": 0.08076712328767123, \"quantiles\": \"30-70\"}, {\"ID\": 1, \"timestamp\": \"09:30:00\", \"min\": 0.02836065573770492, \"max\": 0.07980821917808219, \"quantiles\": \"30-70\"}, {\"ID\": 1, \"timestamp\": \"09:45:00\", \"min\": 0.02682191780821918, \"max\": 0.08153005464480874, \"quantiles\": \"30-70\"}, {\"ID\": 1, \"timestamp\": \"10:00:00\", \"min\": 0.02912328767123288, \"max\": 0.08598360655737705, \"quantiles\": \"30-70\"}, {\"ID\": 1, \"timestamp\": \"10:15:00\", \"min\": 0.02983606557377049, \"max\": 0.08934426229508198, \"quantiles\": \"30-70\"}, {\"ID\": 1, \"timestamp\": \"10:30:00\", \"min\": 0.028907103825136612, \"max\": 0.08961643835616438, \"quantiles\": \"30-70\"}, {\"ID\": 1, \"timestamp\": \"10:45:00\", \"min\": 0.02882513661202186, \"max\": 0.0907945205479452, \"quantiles\": \"30-70\"}, {\"ID\": 1, \"timestamp\": \"11:00:00\", \"min\": 0.030792349726775955, \"max\": 0.08704918032786885, \"quantiles\": \"30-70\"}, {\"ID\": 1, \"timestamp\": \"11:15:00\", \"min\": 0.028387978142076505, \"max\": 0.08803278688524589, \"quantiles\": \"30-70\"}, {\"ID\": 1, \"timestamp\": \"11:30:00\", \"min\": 0.02773224043715847, \"max\": 0.09021917808219178, \"quantiles\": \"30-70\"}, {\"ID\": 1, \"timestamp\": \"11:45:00\", \"min\": 0.027267759562841533, \"max\": 0.09467213114754099, \"quantiles\": \"30-70\"}, {\"ID\": 1, \"timestamp\": \"12:00:00\", \"min\": 0.027049180327868853, \"max\": 0.1016986301369863, \"quantiles\": \"30-70\"}, {\"ID\": 1, \"timestamp\": \"12:15:00\", \"min\": 0.028879781420765027, \"max\": 0.09375690607734806, \"quantiles\": \"30-70\"}, {\"ID\": 1, \"timestamp\": \"12:30:00\", \"min\": 0.02855191256830601, \"max\": 0.09311475409836065, \"quantiles\": \"30-70\"}, {\"ID\": 1, \"timestamp\": \"12:45:00\", \"min\": 0.02860655737704918, \"max\": 0.08860655737704919, \"quantiles\": \"30-70\"}, {\"ID\": 1, \"timestamp\": \"13:00:00\", \"min\": 0.029397260273972603, \"max\": 0.08813698630136987, \"quantiles\": \"30-70\"}, {\"ID\": 1, \"timestamp\": \"13:15:00\", \"min\": 0.02715846994535519, \"max\": 0.08676712328767124, \"quantiles\": \"30-70\"}, {\"ID\": 1, \"timestamp\": \"13:30:00\", \"min\": 0.02592896174863388, \"max\": 0.08504109589041095, \"quantiles\": \"30-70\"}, {\"ID\": 1, \"timestamp\": \"13:45:00\", \"min\": 0.026456043956043958, \"max\": 0.08256830601092896, \"quantiles\": \"30-70\"}, {\"ID\": 1, \"timestamp\": \"14:00:00\", \"min\": 0.029808743169398907, \"max\": 0.08284153005464481, \"quantiles\": \"30-70\"}, {\"ID\": 1, \"timestamp\": \"14:15:00\", \"min\": 0.029013698630136985, \"max\": 0.07936986301369862, \"quantiles\": \"30-70\"}, {\"ID\": 1, \"timestamp\": \"14:30:00\", \"min\": 0.03051912568306011, \"max\": 0.08172131147540984, \"quantiles\": \"30-70\"}, {\"ID\": 1, \"timestamp\": \"14:45:00\", \"min\": 0.029808743169398907, \"max\": 0.07942465753424659, \"quantiles\": \"30-70\"}, {\"ID\": 1, \"timestamp\": \"15:00:00\", \"min\": 0.03355191256830601, \"max\": 0.08535519125683061, \"quantiles\": \"30-70\"}, {\"ID\": 1, \"timestamp\": \"15:15:00\", \"min\": 0.03472677595628416, \"max\": 0.08849726775956285, \"quantiles\": \"30-70\"}, {\"ID\": 1, \"timestamp\": \"15:30:00\", \"min\": 0.03647540983606557, \"max\": 0.0941256830601093, \"quantiles\": \"30-70\"}, {\"ID\": 1, \"timestamp\": \"15:45:00\", \"min\": 0.0387431693989071, \"max\": 0.10210382513661201, \"quantiles\": \"30-70\"}, {\"ID\": 1, \"timestamp\": \"16:00:00\", \"min\": 0.04076502732240437, \"max\": 0.10912328767123287, \"quantiles\": \"30-70\"}, {\"ID\": 1, \"timestamp\": \"16:15:00\", \"min\": 0.0433972602739726, \"max\": 0.11972602739726028, \"quantiles\": \"30-70\"}, {\"ID\": 1, \"timestamp\": \"16:30:00\", \"min\": 0.048633879781420766, \"max\": 0.1273224043715847, \"quantiles\": \"30-70\"}, {\"ID\": 1, \"timestamp\": \"16:45:00\", \"min\": 0.05243169398907104, \"max\": 0.12543715846994535, \"quantiles\": \"30-70\"}, {\"ID\": 1, \"timestamp\": \"17:00:00\", \"min\": 0.05549180327868852, \"max\": 0.1304945054945055, \"quantiles\": \"30-70\"}, {\"ID\": 1, \"timestamp\": \"17:15:00\", \"min\": 0.0603551912568306, \"max\": 0.1341095890410959, \"quantiles\": \"30-70\"}, {\"ID\": 1, \"timestamp\": \"17:30:00\", \"min\": 0.06420765027322405, \"max\": 0.1378082191780822, \"quantiles\": \"30-70\"}, {\"ID\": 1, \"timestamp\": \"17:45:00\", \"min\": 0.06650273224043715, \"max\": 0.14383561643835616, \"quantiles\": \"30-70\"}, {\"ID\": 1, \"timestamp\": \"18:00:00\", \"min\": 0.06816939890710383, \"max\": 0.14624657534246577, \"quantiles\": \"30-70\"}, {\"ID\": 1, \"timestamp\": \"18:15:00\", \"min\": 0.07101092896174864, \"max\": 0.14706371191135734, \"quantiles\": \"30-70\"}, {\"ID\": 1, \"timestamp\": \"18:30:00\", \"min\": 0.07136612021857924, \"max\": 0.14736986301369862, \"quantiles\": \"30-70\"}, {\"ID\": 1, \"timestamp\": \"18:45:00\", \"min\": 0.07197260273972603, \"max\": 0.14832417582417584, \"quantiles\": \"30-70\"}, {\"ID\": 1, \"timestamp\": \"19:00:00\", \"min\": 0.07366120218579235, \"max\": 0.1471232876712329, \"quantiles\": \"30-70\"}, {\"ID\": 1, \"timestamp\": \"19:15:00\", \"min\": 0.07343406593406593, \"max\": 0.14260273972602738, \"quantiles\": \"30-70\"}, {\"ID\": 1, \"timestamp\": \"19:30:00\", \"min\": 0.07178082191780821, \"max\": 0.1404931506849315, \"quantiles\": \"30-70\"}, {\"ID\": 1, \"timestamp\": \"19:45:00\", \"min\": 0.07172602739726028, \"max\": 0.13613698630136986, \"quantiles\": \"30-70\"}, {\"ID\": 1, \"timestamp\": \"20:00:00\", \"min\": 0.0692054794520548, \"max\": 0.13040983606557377, \"quantiles\": \"30-70\"}, {\"ID\": 1, \"timestamp\": \"20:15:00\", \"min\": 0.06573770491803278, \"max\": 0.128986301369863, \"quantiles\": \"30-70\"}, {\"ID\": 1, \"timestamp\": \"20:30:00\", \"min\": 0.06418732782369146, \"max\": 0.12622950819672132, \"quantiles\": \"30-70\"}, {\"ID\": 1, \"timestamp\": \"20:45:00\", \"min\": 0.0633879781420765, \"max\": 0.12298342541436465, \"quantiles\": \"30-70\"}, {\"ID\": 1, \"timestamp\": \"21:00:00\", \"min\": 0.0609041095890411, \"max\": 0.12241095890410959, \"quantiles\": \"30-70\"}, {\"ID\": 1, \"timestamp\": \"21:15:00\", \"min\": 0.05926229508196722, \"max\": 0.12344262295081967, \"quantiles\": \"30-70\"}, {\"ID\": 1, \"timestamp\": \"21:30:00\", \"min\": 0.05506849315068493, \"max\": 0.11407103825136612, \"quantiles\": \"30-70\"}, {\"ID\": 1, \"timestamp\": \"21:45:00\", \"min\": 0.05279452054794521, \"max\": 0.1130327868852459, \"quantiles\": \"30-70\"}, {\"ID\": 1, \"timestamp\": \"22:00:00\", \"min\": 0.05186301369863014, \"max\": 0.11219178082191782, \"quantiles\": \"30-70\"}, {\"ID\": 1, \"timestamp\": \"22:15:00\", \"min\": 0.052602739726027394, \"max\": 0.11106849315068493, \"quantiles\": \"30-70\"}, {\"ID\": 1, \"timestamp\": \"22:30:00\", \"min\": 0.04969945355191257, \"max\": 0.10413698630136986, \"quantiles\": \"30-70\"}, {\"ID\": 1, \"timestamp\": \"22:45:00\", \"min\": 0.048136986301369866, \"max\": 0.09556164383561644, \"quantiles\": \"30-70\"}, {\"ID\": 1, \"timestamp\": \"23:00:00\", \"min\": 0.04706849315068493, \"max\": 0.09210958904109588, \"quantiles\": \"30-70\"}, {\"ID\": 1, \"timestamp\": \"23:15:00\", \"min\": 0.04543956043956044, \"max\": 0.08786301369863014, \"quantiles\": \"30-70\"}, {\"ID\": 1, \"timestamp\": \"23:30:00\", \"min\": 0.042994505494505494, \"max\": 0.08366391184573004, \"quantiles\": \"30-70\"}, {\"ID\": 1, \"timestamp\": \"23:45:00\", \"min\": 0.04131506849315068, \"max\": 0.07791780821917808, \"quantiles\": \"30-70\"}, {\"ID\": 1, \"timestamp\": \"ID\", \"min\": 1.0, \"max\": 1.0, \"quantiles\": \"35-65\"}, {\"ID\": 1, \"timestamp\": \"00:00:00\", \"min\": 0.04475274725274725, \"max\": 0.07073972602739727, \"quantiles\": \"35-65\"}, {\"ID\": 1, \"timestamp\": \"00:15:00\", \"min\": 0.043224043715846996, \"max\": 0.06865753424657534, \"quantiles\": \"35-65\"}, {\"ID\": 1, \"timestamp\": \"00:30:00\", \"min\": 0.04076502732240437, \"max\": 0.0665840220385675, \"quantiles\": \"35-65\"}, {\"ID\": 1, \"timestamp\": \"00:45:00\", \"min\": 0.03887978142076503, \"max\": 0.06232876712328767, \"quantiles\": \"35-65\"}, {\"ID\": 1, \"timestamp\": \"01:00:00\", \"min\": 0.03774104683195592, \"max\": 0.0627123287671233, \"quantiles\": \"35-65\"}, {\"ID\": 1, \"timestamp\": \"01:15:00\", \"min\": 0.039123287671232874, \"max\": 0.06153424657534247, \"quantiles\": \"35-65\"}, {\"ID\": 1, \"timestamp\": \"01:30:00\", \"min\": 0.036256830601092895, \"max\": 0.0603551912568306, \"quantiles\": \"35-65\"}, {\"ID\": 1, \"timestamp\": \"01:45:00\", \"min\": 0.034752747252747254, \"max\": 0.060575342465753426, \"quantiles\": \"35-65\"}, {\"ID\": 1, \"timestamp\": \"02:00:00\", \"min\": 0.034, \"max\": 0.05964383561643836, \"quantiles\": \"35-65\"}, {\"ID\": 1, \"timestamp\": \"02:15:00\", \"min\": 0.03504109589041096, \"max\": 0.059205479452054795, \"quantiles\": \"35-65\"}, {\"ID\": 1, \"timestamp\": \"02:30:00\", \"min\": 0.03446575342465753, \"max\": 0.05871232876712329, \"quantiles\": \"35-65\"}, {\"ID\": 1, \"timestamp\": \"02:45:00\", \"min\": 0.034, \"max\": 0.058598901098901104, \"quantiles\": \"35-65\"}, {\"ID\": 1, \"timestamp\": \"03:00:00\", \"min\": 0.03386301369863014, \"max\": 0.05772602739726027, \"quantiles\": \"35-65\"}, {\"ID\": 1, \"timestamp\": \"03:15:00\", \"min\": 0.03361643835616438, \"max\": 0.056191780821917815, \"quantiles\": \"35-65\"}, {\"ID\": 1, \"timestamp\": \"03:30:00\", \"min\": 0.03463013698630137, \"max\": 0.05512328767123288, \"quantiles\": \"35-65\"}, {\"ID\": 1, \"timestamp\": \"03:45:00\", \"min\": 0.035945205479452055, \"max\": 0.05427397260273972, \"quantiles\": \"35-65\"}, {\"ID\": 1, \"timestamp\": \"04:00:00\", \"min\": 0.03476712328767123, \"max\": 0.05621917808219178, \"quantiles\": \"35-65\"}, {\"ID\": 1, \"timestamp\": \"04:15:00\", \"min\": 0.03515068493150685, \"max\": 0.054602739726027395, \"quantiles\": \"35-65\"}, {\"ID\": 1, \"timestamp\": \"04:30:00\", \"min\": 0.03523287671232877, \"max\": 0.05536986301369863, \"quantiles\": \"35-65\"}, {\"ID\": 1, \"timestamp\": \"04:45:00\", \"min\": 0.03410958904109589, \"max\": 0.056191780821917815, \"quantiles\": \"35-65\"}, {\"ID\": 1, \"timestamp\": \"05:00:00\", \"min\": 0.0353551912568306, \"max\": 0.05443835616438356, \"quantiles\": \"35-65\"}, {\"ID\": 1, \"timestamp\": \"05:15:00\", \"min\": 0.0357103825136612, \"max\": 0.0598082191780822, \"quantiles\": \"35-65\"}, {\"ID\": 1, \"timestamp\": \"05:30:00\", \"min\": 0.03619178082191781, \"max\": 0.05958904109589041, \"quantiles\": \"35-65\"}, {\"ID\": 1, \"timestamp\": \"05:45:00\", \"min\": 0.03454794520547945, \"max\": 0.06178082191780822, \"quantiles\": \"35-65\"}, {\"ID\": 1, \"timestamp\": \"06:00:00\", \"min\": 0.03610958904109589, \"max\": 0.0626027397260274, \"quantiles\": \"35-65\"}, {\"ID\": 1, \"timestamp\": \"06:15:00\", \"min\": 0.03789041095890411, \"max\": 0.061693989071038256, \"quantiles\": \"35-65\"}, {\"ID\": 1, \"timestamp\": \"06:30:00\", \"min\": 0.03652054794520548, \"max\": 0.06567123287671232, \"quantiles\": \"35-65\"}, {\"ID\": 1, \"timestamp\": \"06:45:00\", \"min\": 0.0389344262295082, \"max\": 0.06713498622589532, \"quantiles\": \"35-65\"}, {\"ID\": 1, \"timestamp\": \"07:00:00\", \"min\": 0.03972527472527473, \"max\": 0.07413698630136986, \"quantiles\": \"35-65\"}, {\"ID\": 1, \"timestamp\": \"07:15:00\", \"min\": 0.04112021857923497, \"max\": 0.07292349726775957, \"quantiles\": \"35-65\"}, {\"ID\": 1, \"timestamp\": \"07:30:00\", \"min\": 0.03871584699453552, \"max\": 0.07424657534246576, \"quantiles\": \"35-65\"}, {\"ID\": 1, \"timestamp\": \"07:45:00\", \"min\": 0.03827868852459016, \"max\": 0.07472222222222222, \"quantiles\": \"35-65\"}, {\"ID\": 1, \"timestamp\": \"08:00:00\", \"min\": 0.040874316939890715, \"max\": 0.07349726775956283, \"quantiles\": \"35-65\"}, {\"ID\": 1, \"timestamp\": \"08:15:00\", \"min\": 0.041013698630136985, \"max\": 0.07505494505494506, \"quantiles\": \"35-65\"}, {\"ID\": 1, \"timestamp\": \"08:30:00\", \"min\": 0.039342465753424656, \"max\": 0.07523287671232877, \"quantiles\": \"35-65\"}, {\"ID\": 1, \"timestamp\": \"08:45:00\", \"min\": 0.03791780821917808, \"max\": 0.07290410958904109, \"quantiles\": \"35-65\"}, {\"ID\": 1, \"timestamp\": \"09:00:00\", \"min\": 0.03397260273972603, \"max\": 0.07131506849315068, \"quantiles\": \"35-65\"}, {\"ID\": 1, \"timestamp\": \"09:15:00\", \"min\": 0.0366120218579235, \"max\": 0.07163934426229508, \"quantiles\": \"35-65\"}, {\"ID\": 1, \"timestamp\": \"09:30:00\", \"min\": 0.03538251366120219, \"max\": 0.07449315068493151, \"quantiles\": \"35-65\"}, {\"ID\": 1, \"timestamp\": \"09:45:00\", \"min\": 0.03558904109589041, \"max\": 0.07493150684931507, \"quantiles\": \"35-65\"}, {\"ID\": 1, \"timestamp\": \"10:00:00\", \"min\": 0.038770491803278684, \"max\": 0.0787431693989071, \"quantiles\": \"35-65\"}, {\"ID\": 1, \"timestamp\": \"10:15:00\", \"min\": 0.04005479452054795, \"max\": 0.07579234972677597, \"quantiles\": \"35-65\"}, {\"ID\": 1, \"timestamp\": \"10:30:00\", \"min\": 0.03685792349726776, \"max\": 0.0746448087431694, \"quantiles\": \"35-65\"}, {\"ID\": 1, \"timestamp\": \"10:45:00\", \"min\": 0.03639344262295082, \"max\": 0.07923497267759563, \"quantiles\": \"35-65\"}, {\"ID\": 1, \"timestamp\": \"11:00:00\", \"min\": 0.03633879781420765, \"max\": 0.07800546448087432, \"quantiles\": \"35-65\"}, {\"ID\": 1, \"timestamp\": \"11:15:00\", \"min\": 0.03387978142076503, \"max\": 0.08040983606557377, \"quantiles\": \"35-65\"}, {\"ID\": 1, \"timestamp\": \"11:30:00\", \"min\": 0.03341530054644809, \"max\": 0.08627397260273974, \"quantiles\": \"35-65\"}, {\"ID\": 1, \"timestamp\": \"11:45:00\", \"min\": 0.03519125683060109, \"max\": 0.08076502732240437, \"quantiles\": \"35-65\"}, {\"ID\": 1, \"timestamp\": \"12:00:00\", \"min\": 0.036256830601092895, \"max\": 0.08407103825136612, \"quantiles\": \"35-65\"}, {\"ID\": 1, \"timestamp\": \"12:15:00\", \"min\": 0.03469945355191257, \"max\": 0.08495890410958905, \"quantiles\": \"35-65\"}, {\"ID\": 1, \"timestamp\": \"12:30:00\", \"min\": 0.03289617486338798, \"max\": 0.08624657534246576, \"quantiles\": \"35-65\"}, {\"ID\": 1, \"timestamp\": \"12:45:00\", \"min\": 0.03453551912568306, \"max\": 0.08394520547945206, \"quantiles\": \"35-65\"}, {\"ID\": 1, \"timestamp\": \"13:00:00\", \"min\": 0.033643835616438356, \"max\": 0.07726027397260274, \"quantiles\": \"35-65\"}, {\"ID\": 1, \"timestamp\": \"13:15:00\", \"min\": 0.03432876712328767, \"max\": 0.07758904109589042, \"quantiles\": \"35-65\"}, {\"ID\": 1, \"timestamp\": \"13:30:00\", \"min\": 0.03613698630136986, \"max\": 0.07742465753424659, \"quantiles\": \"35-65\"}, {\"ID\": 1, \"timestamp\": \"13:45:00\", \"min\": 0.03241095890410959, \"max\": 0.07478142076502732, \"quantiles\": \"35-65\"}, {\"ID\": 1, \"timestamp\": \"14:00:00\", \"min\": 0.03210958904109589, \"max\": 0.07456284153005464, \"quantiles\": \"35-65\"}, {\"ID\": 1, \"timestamp\": \"14:15:00\", \"min\": 0.03616438356164384, \"max\": 0.07297814207650273, \"quantiles\": \"35-65\"}, {\"ID\": 1, \"timestamp\": \"14:30:00\", \"min\": 0.03545205479452054, \"max\": 0.07457534246575342, \"quantiles\": \"35-65\"}, {\"ID\": 1, \"timestamp\": \"14:45:00\", \"min\": 0.03666666666666667, \"max\": 0.07336986301369863, \"quantiles\": \"35-65\"}, {\"ID\": 1, \"timestamp\": \"15:00:00\", \"min\": 0.03758904109589041, \"max\": 0.07423497267759563, \"quantiles\": \"35-65\"}, {\"ID\": 1, \"timestamp\": \"15:15:00\", \"min\": 0.03866120218579235, \"max\": 0.07972602739726027, \"quantiles\": \"35-65\"}, {\"ID\": 1, \"timestamp\": \"15:30:00\", \"min\": 0.04133879781420765, \"max\": 0.0869672131147541, \"quantiles\": \"35-65\"}, {\"ID\": 1, \"timestamp\": \"15:45:00\", \"min\": 0.04350684931506849, \"max\": 0.09643835616438357, \"quantiles\": \"35-65\"}, {\"ID\": 1, \"timestamp\": \"16:00:00\", \"min\": 0.04789617486338798, \"max\": 0.1004931506849315, \"quantiles\": \"35-65\"}, {\"ID\": 1, \"timestamp\": \"16:15:00\", \"min\": 0.05202185792349726, \"max\": 0.10472677595628414, \"quantiles\": \"35-65\"}, {\"ID\": 1, \"timestamp\": \"16:30:00\", \"min\": 0.054672131147540985, \"max\": 0.10610958904109588, \"quantiles\": \"35-65\"}, {\"ID\": 1, \"timestamp\": \"16:45:00\", \"min\": 0.055983606557377046, \"max\": 0.10789617486338798, \"quantiles\": \"35-65\"}, {\"ID\": 1, \"timestamp\": \"17:00:00\", \"min\": 0.06098901098901099, \"max\": 0.11619178082191782, \"quantiles\": \"35-65\"}, {\"ID\": 1, \"timestamp\": \"17:15:00\", \"min\": 0.06414835164835166, \"max\": 0.11819178082191781, \"quantiles\": \"35-65\"}, {\"ID\": 1, \"timestamp\": \"17:30:00\", \"min\": 0.06756830601092896, \"max\": 0.125564738292011, \"quantiles\": \"35-65\"}, {\"ID\": 1, \"timestamp\": \"17:45:00\", \"min\": 0.07227397260273973, \"max\": 0.1315426997245179, \"quantiles\": \"35-65\"}, {\"ID\": 1, \"timestamp\": \"18:00:00\", \"min\": 0.07268493150684932, \"max\": 0.1341095890410959, \"quantiles\": \"35-65\"}, {\"ID\": 1, \"timestamp\": \"18:15:00\", \"min\": 0.07562841530054645, \"max\": 0.13515068493150684, \"quantiles\": \"35-65\"}, {\"ID\": 1, \"timestamp\": \"18:30:00\", \"min\": 0.07636612021857923, \"max\": 0.13397260273972603, \"quantiles\": \"35-65\"}, {\"ID\": 1, \"timestamp\": \"18:45:00\", \"min\": 0.07852777777777778, \"max\": 0.13208219178082192, \"quantiles\": \"35-65\"}, {\"ID\": 1, \"timestamp\": \"19:00:00\", \"min\": 0.07931693989071038, \"max\": 0.12969863013698632, \"quantiles\": \"35-65\"}, {\"ID\": 1, \"timestamp\": \"19:15:00\", \"min\": 0.07730769230769231, \"max\": 0.13117808219178084, \"quantiles\": \"35-65\"}, {\"ID\": 1, \"timestamp\": \"19:30:00\", \"min\": 0.07632876712328766, \"max\": 0.12676712328767123, \"quantiles\": \"35-65\"}, {\"ID\": 1, \"timestamp\": \"19:45:00\", \"min\": 0.0755464480874317, \"max\": 0.12425824175824177, \"quantiles\": \"35-65\"}, {\"ID\": 1, \"timestamp\": \"20:00:00\", \"min\": 0.07353424657534247, \"max\": 0.12166666666666667, \"quantiles\": \"35-65\"}, {\"ID\": 1, \"timestamp\": \"20:15:00\", \"min\": 0.06980821917808219, \"max\": 0.11747945205479453, \"quantiles\": \"35-65\"}, {\"ID\": 1, \"timestamp\": \"20:30:00\", \"min\": 0.06830601092896176, \"max\": 0.11676712328767122, \"quantiles\": \"35-65\"}, {\"ID\": 1, \"timestamp\": \"20:45:00\", \"min\": 0.06647540983606558, \"max\": 0.11461538461538462, \"quantiles\": \"35-65\"}, {\"ID\": 1, \"timestamp\": \"21:00:00\", \"min\": 0.06501369863013699, \"max\": 0.11367123287671234, \"quantiles\": \"35-65\"}, {\"ID\": 1, \"timestamp\": \"21:15:00\", \"min\": 0.06465753424657535, \"max\": 0.10526027397260275, \"quantiles\": \"35-65\"}, {\"ID\": 1, \"timestamp\": \"21:30:00\", \"min\": 0.06164383561643835, \"max\": 0.09997260273972604, \"quantiles\": \"35-65\"}, {\"ID\": 1, \"timestamp\": \"21:45:00\", \"min\": 0.059369863013698634, \"max\": 0.09906849315068494, \"quantiles\": \"35-65\"}, {\"ID\": 1, \"timestamp\": \"22:00:00\", \"min\": 0.05868852459016394, \"max\": 0.1001917808219178, \"quantiles\": \"35-65\"}, {\"ID\": 1, \"timestamp\": \"22:15:00\", \"min\": 0.059398907103825144, \"max\": 0.10197260273972603, \"quantiles\": \"35-65\"}, {\"ID\": 1, \"timestamp\": \"22:30:00\", \"min\": 0.05493150684931507, \"max\": 0.09789041095890412, \"quantiles\": \"35-65\"}, {\"ID\": 1, \"timestamp\": \"22:45:00\", \"min\": 0.05262295081967214, \"max\": 0.08835616438356164, \"quantiles\": \"35-65\"}, {\"ID\": 1, \"timestamp\": \"23:00:00\", \"min\": 0.052978142076502734, \"max\": 0.08695890410958905, \"quantiles\": \"35-65\"}, {\"ID\": 1, \"timestamp\": \"23:15:00\", \"min\": 0.04903581267217631, \"max\": 0.08185792349726777, \"quantiles\": \"35-65\"}, {\"ID\": 1, \"timestamp\": \"23:30:00\", \"min\": 0.04723287671232877, \"max\": 0.07636363636363636, \"quantiles\": \"35-65\"}, {\"ID\": 1, \"timestamp\": \"23:45:00\", \"min\": 0.04475274725274725, \"max\": 0.07355371900826446, \"quantiles\": \"35-65\"}, {\"ID\": 1, \"timestamp\": \"ID\", \"min\": 1.0, \"max\": 1.0, \"quantiles\": \"40-60\"}, {\"ID\": 1, \"timestamp\": \"00:00:00\", \"min\": 0.047382920110192836, \"max\": 0.06442307692307692, \"quantiles\": \"40-60\"}, {\"ID\": 1, \"timestamp\": \"00:15:00\", \"min\": 0.046256830601092896, \"max\": 0.06054794520547946, \"quantiles\": \"40-60\"}, {\"ID\": 1, \"timestamp\": \"00:30:00\", \"min\": 0.044480874316939895, \"max\": 0.059369863013698634, \"quantiles\": \"40-60\"}, {\"ID\": 1, \"timestamp\": \"00:45:00\", \"min\": 0.04416438356164384, \"max\": 0.05795081967213115, \"quantiles\": \"40-60\"}, {\"ID\": 1, \"timestamp\": \"01:00:00\", \"min\": 0.04189041095890411, \"max\": 0.05589041095890412, \"quantiles\": \"40-60\"}, {\"ID\": 1, \"timestamp\": \"01:15:00\", \"min\": 0.04145205479452055, \"max\": 0.054699453551912566, \"quantiles\": \"40-60\"}, {\"ID\": 1, \"timestamp\": \"01:30:00\", \"min\": 0.03945205479452055, \"max\": 0.05341530054644809, \"quantiles\": \"40-60\"}, {\"ID\": 1, \"timestamp\": \"01:45:00\", \"min\": 0.04002732240437159, \"max\": 0.05339726027397261, \"quantiles\": \"40-60\"}, {\"ID\": 1, \"timestamp\": \"02:00:00\", \"min\": 0.03873972602739726, \"max\": 0.05416438356164383, \"quantiles\": \"40-60\"}, {\"ID\": 1, \"timestamp\": \"02:15:00\", \"min\": 0.03879452054794521, \"max\": 0.05232876712328768, \"quantiles\": \"40-60\"}, {\"ID\": 1, \"timestamp\": \"02:30:00\", \"min\": 0.03731506849315069, \"max\": 0.052356164383561644, \"quantiles\": \"40-60\"}, {\"ID\": 1, \"timestamp\": \"02:45:00\", \"min\": 0.03701369863013699, \"max\": 0.05128767123287672, \"quantiles\": \"40-60\"}, {\"ID\": 1, \"timestamp\": \"03:00:00\", \"min\": 0.03724043715846995, \"max\": 0.050027322404371584, \"quantiles\": \"40-60\"}, {\"ID\": 1, \"timestamp\": \"03:15:00\", \"min\": 0.037232876712328764, \"max\": 0.04884931506849315, \"quantiles\": \"40-60\"}, {\"ID\": 1, \"timestamp\": \"03:30:00\", \"min\": 0.037377049180327866, \"max\": 0.04857534246575342, \"quantiles\": \"40-60\"}, {\"ID\": 1, \"timestamp\": \"03:45:00\", \"min\": 0.03753424657534246, \"max\": 0.05065753424657535, \"quantiles\": \"40-60\"}, {\"ID\": 1, \"timestamp\": \"04:00:00\", \"min\": 0.03699453551912569, \"max\": 0.05030054644808743, \"quantiles\": \"40-60\"}, {\"ID\": 1, \"timestamp\": \"04:15:00\", \"min\": 0.03786885245901639, \"max\": 0.050328767123287675, \"quantiles\": \"40-60\"}, {\"ID\": 1, \"timestamp\": \"04:30:00\", \"min\": 0.0380327868852459, \"max\": 0.05051912568306011, \"quantiles\": \"40-60\"}, {\"ID\": 1, \"timestamp\": \"04:45:00\", \"min\": 0.03728767123287671, \"max\": 0.049123287671232876, \"quantiles\": \"40-60\"}, {\"ID\": 1, \"timestamp\": \"05:00:00\", \"min\": 0.038387978142076506, \"max\": 0.05013698630136987, \"quantiles\": \"40-60\"}, {\"ID\": 1, \"timestamp\": \"05:15:00\", \"min\": 0.038027397260273973, \"max\": 0.051205479452054795, \"quantiles\": \"40-60\"}, {\"ID\": 1, \"timestamp\": \"05:30:00\", \"min\": 0.037616438356164385, \"max\": 0.05095628415300546, \"quantiles\": \"40-60\"}, {\"ID\": 1, \"timestamp\": \"05:45:00\", \"min\": 0.03849726775956284, \"max\": 0.052410958904109586, \"quantiles\": \"40-60\"}, {\"ID\": 1, \"timestamp\": \"06:00:00\", \"min\": 0.03978082191780822, \"max\": 0.054821917808219184, \"quantiles\": \"40-60\"}, {\"ID\": 1, \"timestamp\": \"06:15:00\", \"min\": 0.04254794520547945, \"max\": 0.05671232876712329, \"quantiles\": \"40-60\"}, {\"ID\": 1, \"timestamp\": \"06:30:00\", \"min\": 0.04306010928961749, \"max\": 0.05784153005464481, \"quantiles\": \"40-60\"}, {\"ID\": 1, \"timestamp\": \"06:45:00\", \"min\": 0.041643835616438356, \"max\": 0.0625, \"quantiles\": \"40-60\"}, {\"ID\": 1, \"timestamp\": \"07:00:00\", \"min\": 0.04423497267759563, \"max\": 0.06188524590163934, \"quantiles\": \"40-60\"}, {\"ID\": 1, \"timestamp\": \"07:15:00\", \"min\": 0.04355191256830601, \"max\": 0.0623224043715847, \"quantiles\": \"40-60\"}, {\"ID\": 1, \"timestamp\": \"07:30:00\", \"min\": 0.04404371584699454, \"max\": 0.06446575342465753, \"quantiles\": \"40-60\"}, {\"ID\": 1, \"timestamp\": \"07:45:00\", \"min\": 0.04428571428571429, \"max\": 0.064, \"quantiles\": \"40-60\"}, {\"ID\": 1, \"timestamp\": \"08:00:00\", \"min\": 0.04574175824175824, \"max\": 0.06585164835164835, \"quantiles\": \"40-60\"}, {\"ID\": 1, \"timestamp\": \"08:15:00\", \"min\": 0.04666666666666667, \"max\": 0.06405479452054794, \"quantiles\": \"40-60\"}, {\"ID\": 1, \"timestamp\": \"08:30:00\", \"min\": 0.04795081967213115, \"max\": 0.06767123287671233, \"quantiles\": \"40-60\"}, {\"ID\": 1, \"timestamp\": \"08:45:00\", \"min\": 0.046767123287671235, \"max\": 0.06390710382513662, \"quantiles\": \"40-60\"}, {\"ID\": 1, \"timestamp\": \"09:00:00\", \"min\": 0.045081967213114756, \"max\": 0.06306010928961749, \"quantiles\": \"40-60\"}, {\"ID\": 1, \"timestamp\": \"09:15:00\", \"min\": 0.044246575342465747, \"max\": 0.06547945205479452, \"quantiles\": \"40-60\"}, {\"ID\": 1, \"timestamp\": \"09:30:00\", \"min\": 0.044575342465753426, \"max\": 0.06584699453551913, \"quantiles\": \"40-60\"}, {\"ID\": 1, \"timestamp\": \"09:45:00\", \"min\": 0.044191780821917805, \"max\": 0.06726027397260274, \"quantiles\": \"40-60\"}, {\"ID\": 1, \"timestamp\": \"10:00:00\", \"min\": 0.04437158469945355, \"max\": 0.0713972602739726, \"quantiles\": \"40-60\"}, {\"ID\": 1, \"timestamp\": \"10:15:00\", \"min\": 0.04543715846994535, \"max\": 0.07186301369863014, \"quantiles\": \"40-60\"}, {\"ID\": 1, \"timestamp\": \"10:30:00\", \"min\": 0.04248633879781421, \"max\": 0.07147540983606557, \"quantiles\": \"40-60\"}, {\"ID\": 1, \"timestamp\": \"10:45:00\", \"min\": 0.04185792349726776, \"max\": 0.0692054794520548, \"quantiles\": \"40-60\"}, {\"ID\": 1, \"timestamp\": \"11:00:00\", \"min\": 0.04167123287671233, \"max\": 0.06972602739726028, \"quantiles\": \"40-60\"}, {\"ID\": 1, \"timestamp\": \"11:15:00\", \"min\": 0.04316939890710383, \"max\": 0.07093922651933701, \"quantiles\": \"40-60\"}, {\"ID\": 1, \"timestamp\": \"11:30:00\", \"min\": 0.04237704918032787, \"max\": 0.07167123287671233, \"quantiles\": \"40-60\"}, {\"ID\": 1, \"timestamp\": \"11:45:00\", \"min\": 0.04193989071038251, \"max\": 0.07424657534246576, \"quantiles\": \"40-60\"}, {\"ID\": 1, \"timestamp\": \"12:00:00\", \"min\": 0.04117486338797814, \"max\": 0.07262295081967214, \"quantiles\": \"40-60\"}, {\"ID\": 1, \"timestamp\": \"12:15:00\", \"min\": 0.044465753424657535, \"max\": 0.0758082191780822, \"quantiles\": \"40-60\"}, {\"ID\": 1, \"timestamp\": \"12:30:00\", \"min\": 0.042, \"max\": 0.07645429362880887, \"quantiles\": \"40-60\"}, {\"ID\": 1, \"timestamp\": \"12:45:00\", \"min\": 0.044071038251366115, \"max\": 0.07420765027322404, \"quantiles\": \"40-60\"}, {\"ID\": 1, \"timestamp\": \"13:00:00\", \"min\": 0.04297814207650273, \"max\": 0.07197260273972603, \"quantiles\": \"40-60\"}, {\"ID\": 1, \"timestamp\": \"13:15:00\", \"min\": 0.03972602739726028, \"max\": 0.06969945355191257, \"quantiles\": \"40-60\"}, {\"ID\": 1, \"timestamp\": \"13:30:00\", \"min\": 0.03953424657534246, \"max\": 0.07068681318681319, \"quantiles\": \"40-60\"}, {\"ID\": 1, \"timestamp\": \"13:45:00\", \"min\": 0.03871232876712329, \"max\": 0.06964383561643836, \"quantiles\": \"40-60\"}, {\"ID\": 1, \"timestamp\": \"14:00:00\", \"min\": 0.04054644808743169, \"max\": 0.06933884297520662, \"quantiles\": \"40-60\"}, {\"ID\": 1, \"timestamp\": \"14:15:00\", \"min\": 0.04336065573770492, \"max\": 0.06729508196721311, \"quantiles\": \"40-60\"}, {\"ID\": 1, \"timestamp\": \"14:30:00\", \"min\": 0.04104109589041096, \"max\": 0.0664109589041096, \"quantiles\": \"40-60\"}, {\"ID\": 1, \"timestamp\": \"14:45:00\", \"min\": 0.04145205479452055, \"max\": 0.06827397260273974, \"quantiles\": \"40-60\"}, {\"ID\": 1, \"timestamp\": \"15:00:00\", \"min\": 0.042759562841530055, \"max\": 0.07051912568306011, \"quantiles\": \"40-60\"}, {\"ID\": 1, \"timestamp\": \"15:15:00\", \"min\": 0.049836065573770495, \"max\": 0.07259562841530055, \"quantiles\": \"40-60\"}, {\"ID\": 1, \"timestamp\": \"15:30:00\", \"min\": 0.05002739726027398, \"max\": 0.07575342465753425, \"quantiles\": \"40-60\"}, {\"ID\": 1, \"timestamp\": \"15:45:00\", \"min\": 0.052404371584699454, \"max\": 0.0812568306010929, \"quantiles\": \"40-60\"}, {\"ID\": 1, \"timestamp\": \"16:00:00\", \"min\": 0.05688524590163935, \"max\": 0.08956284153005464, \"quantiles\": \"40-60\"}, {\"ID\": 1, \"timestamp\": \"16:15:00\", \"min\": 0.058087431693989076, \"max\": 0.094, \"quantiles\": \"40-60\"}, {\"ID\": 1, \"timestamp\": \"16:30:00\", \"min\": 0.058770491803278695, \"max\": 0.0993956043956044, \"quantiles\": \"40-60\"}, {\"ID\": 1, \"timestamp\": \"16:45:00\", \"min\": 0.0607103825136612, \"max\": 0.09898630136986301, \"quantiles\": \"40-60\"}, {\"ID\": 1, \"timestamp\": \"17:00:00\", \"min\": 0.06931693989071039, \"max\": 0.10216438356164384, \"quantiles\": \"40-60\"}, {\"ID\": 1, \"timestamp\": \"17:15:00\", \"min\": 0.07243169398907104, \"max\": 0.11145205479452054, \"quantiles\": \"40-60\"}, {\"ID\": 1, \"timestamp\": \"17:30:00\", \"min\": 0.08024657534246575, \"max\": 0.11761643835616438, \"quantiles\": \"40-60\"}, {\"ID\": 1, \"timestamp\": \"17:45:00\", \"min\": 0.08358904109589041, \"max\": 0.12046961325966851, \"quantiles\": \"40-60\"}, {\"ID\": 1, \"timestamp\": \"18:00:00\", \"min\": 0.08371584699453552, \"max\": 0.12227397260273973, \"quantiles\": \"40-60\"}, {\"ID\": 1, \"timestamp\": \"18:15:00\", \"min\": 0.07917582417582418, \"max\": 0.1264931506849315, \"quantiles\": \"40-60\"}, {\"ID\": 1, \"timestamp\": \"18:30:00\", \"min\": 0.0818904109589041, \"max\": 0.1252054794520548, \"quantiles\": \"40-60\"}, {\"ID\": 1, \"timestamp\": \"18:45:00\", \"min\": 0.08318681318681319, \"max\": 0.11958904109589041, \"quantiles\": \"40-60\"}, {\"ID\": 1, \"timestamp\": \"19:00:00\", \"min\": 0.08348901098901099, \"max\": 0.12164383561643835, \"quantiles\": \"40-60\"}, {\"ID\": 1, \"timestamp\": \"19:15:00\", \"min\": 0.08063013698630137, \"max\": 0.12153846153846154, \"quantiles\": \"40-60\"}, {\"ID\": 1, \"timestamp\": \"19:30:00\", \"min\": 0.0807123287671233, \"max\": 0.11745901639344263, \"quantiles\": \"40-60\"}, {\"ID\": 1, \"timestamp\": \"19:45:00\", \"min\": 0.08295081967213115, \"max\": 0.11551912568306011, \"quantiles\": \"40-60\"}, {\"ID\": 1, \"timestamp\": \"20:00:00\", \"min\": 0.08005479452054795, \"max\": 0.1105205479452055, \"quantiles\": \"40-60\"}, {\"ID\": 1, \"timestamp\": \"20:15:00\", \"min\": 0.07459016393442623, \"max\": 0.10783561643835617, \"quantiles\": \"40-60\"}, {\"ID\": 1, \"timestamp\": \"20:30:00\", \"min\": 0.07383561643835616, \"max\": 0.10904371584699454, \"quantiles\": \"40-60\"}, {\"ID\": 1, \"timestamp\": \"20:45:00\", \"min\": 0.07204986149584489, \"max\": 0.10579670329670329, \"quantiles\": \"40-60\"}, {\"ID\": 1, \"timestamp\": \"21:00:00\", \"min\": 0.07117486338797814, \"max\": 0.09999999999999999, \"quantiles\": \"40-60\"}, {\"ID\": 1, \"timestamp\": \"21:15:00\", \"min\": 0.07167123287671233, \"max\": 0.0969672131147541, \"quantiles\": \"40-60\"}, {\"ID\": 1, \"timestamp\": \"21:30:00\", \"min\": 0.06737704918032787, \"max\": 0.09586301369863014, \"quantiles\": \"40-60\"}, {\"ID\": 1, \"timestamp\": \"21:45:00\", \"min\": 0.06573770491803278, \"max\": 0.09391780821917808, \"quantiles\": \"40-60\"}, {\"ID\": 1, \"timestamp\": \"22:00:00\", \"min\": 0.06513661202185793, \"max\": 0.0913972602739726, \"quantiles\": \"40-60\"}, {\"ID\": 1, \"timestamp\": \"22:15:00\", \"min\": 0.064, \"max\": 0.09052054794520548, \"quantiles\": \"40-60\"}, {\"ID\": 1, \"timestamp\": \"22:30:00\", \"min\": 0.06041095890410959, \"max\": 0.08583561643835617, \"quantiles\": \"40-60\"}, {\"ID\": 1, \"timestamp\": \"22:45:00\", \"min\": 0.055928961748633876, \"max\": 0.08057377049180328, \"quantiles\": \"40-60\"}, {\"ID\": 1, \"timestamp\": \"23:00:00\", \"min\": 0.05792349726775956, \"max\": 0.08043835616438356, \"quantiles\": \"40-60\"}, {\"ID\": 1, \"timestamp\": \"23:15:00\", \"min\": 0.054191780821917813, \"max\": 0.07386301369863014, \"quantiles\": \"40-60\"}, {\"ID\": 1, \"timestamp\": \"23:30:00\", \"min\": 0.05027397260273973, \"max\": 0.07024930747922438, \"quantiles\": \"40-60\"}, {\"ID\": 1, \"timestamp\": \"23:45:00\", \"min\": 0.04794520547945205, \"max\": 0.06909090909090909, \"quantiles\": \"40-60\"}, {\"ID\": 1, \"timestamp\": \"ID\", \"min\": 1.0, \"max\": 1.0, \"quantiles\": \"45-55\"}, {\"ID\": 1, \"timestamp\": \"00:00:00\", \"min\": 0.05136612021857924, \"max\": 0.05865753424657534, \"quantiles\": \"45-55\"}, {\"ID\": 1, \"timestamp\": \"00:15:00\", \"min\": 0.04877049180327869, \"max\": 0.057013698630136986, \"quantiles\": \"45-55\"}, {\"ID\": 1, \"timestamp\": \"00:30:00\", \"min\": 0.04695890410958904, \"max\": 0.054672131147540985, \"quantiles\": \"45-55\"}, {\"ID\": 1, \"timestamp\": \"00:45:00\", \"min\": 0.046446280991735533, \"max\": 0.05384615384615385, \"quantiles\": \"45-55\"}, {\"ID\": 1, \"timestamp\": \"01:00:00\", \"min\": 0.045506849315068494, \"max\": 0.050328767123287675, \"quantiles\": \"45-55\"}, {\"ID\": 1, \"timestamp\": \"01:15:00\", \"min\": 0.045245901639344256, \"max\": 0.051147540983606556, \"quantiles\": \"45-55\"}, {\"ID\": 1, \"timestamp\": \"01:30:00\", \"min\": 0.04297814207650273, \"max\": 0.04989041095890411, \"quantiles\": \"45-55\"}, {\"ID\": 1, \"timestamp\": \"01:45:00\", \"min\": 0.04319672131147541, \"max\": 0.04986301369863014, \"quantiles\": \"45-55\"}, {\"ID\": 1, \"timestamp\": \"02:00:00\", \"min\": 0.04186301369863014, \"max\": 0.048958904109589044, \"quantiles\": \"45-55\"}, {\"ID\": 1, \"timestamp\": \"02:15:00\", \"min\": 0.04175342465753425, \"max\": 0.04695890410958904, \"quantiles\": \"45-55\"}, {\"ID\": 1, \"timestamp\": \"02:30:00\", \"min\": 0.040794520547945204, \"max\": 0.04783561643835617, \"quantiles\": \"45-55\"}, {\"ID\": 1, \"timestamp\": \"02:45:00\", \"min\": 0.0403013698630137, \"max\": 0.0469041095890411, \"quantiles\": \"45-55\"}, {\"ID\": 1, \"timestamp\": \"03:00:00\", \"min\": 0.0392896174863388, \"max\": 0.045874316939890705, \"quantiles\": \"45-55\"}, {\"ID\": 1, \"timestamp\": \"03:15:00\", \"min\": 0.03945205479452055, \"max\": 0.04549180327868852, \"quantiles\": \"45-55\"}, {\"ID\": 1, \"timestamp\": \"03:30:00\", \"min\": 0.039098360655737706, \"max\": 0.04527322404371585, \"quantiles\": \"45-55\"}, {\"ID\": 1, \"timestamp\": \"03:45:00\", \"min\": 0.03983606557377049, \"max\": 0.045863013698630134, \"quantiles\": \"45-55\"}, {\"ID\": 1, \"timestamp\": \"04:00:00\", \"min\": 0.03956164383561644, \"max\": 0.046191780821917806, \"quantiles\": \"45-55\"}, {\"ID\": 1, \"timestamp\": \"04:15:00\", \"min\": 0.039753424657534245, \"max\": 0.04575342465753424, \"quantiles\": \"45-55\"}, {\"ID\": 1, \"timestamp\": \"04:30:00\", \"min\": 0.03926229508196721, \"max\": 0.04566298342541437, \"quantiles\": \"45-55\"}, {\"ID\": 1, \"timestamp\": \"04:45:00\", \"min\": 0.04046575342465753, \"max\": 0.04527322404371585, \"quantiles\": \"45-55\"}, {\"ID\": 1, \"timestamp\": \"05:00:00\", \"min\": 0.04046575342465753, \"max\": 0.04612021857923497, \"quantiles\": \"45-55\"}, {\"ID\": 1, \"timestamp\": \"05:15:00\", \"min\": 0.04161643835616438, \"max\": 0.04634615384615385, \"quantiles\": \"45-55\"}, {\"ID\": 1, \"timestamp\": \"05:30:00\", \"min\": 0.04084699453551913, \"max\": 0.04706849315068493, \"quantiles\": \"45-55\"}, {\"ID\": 1, \"timestamp\": \"05:45:00\", \"min\": 0.04133879781420765, \"max\": 0.04695290858725762, \"quantiles\": \"45-55\"}, {\"ID\": 1, \"timestamp\": \"06:00:00\", \"min\": 0.0439010989010989, \"max\": 0.05010958904109589, \"quantiles\": \"45-55\"}, {\"ID\": 1, \"timestamp\": \"06:15:00\", \"min\": 0.045506849315068494, \"max\": 0.05210382513661202, \"quantiles\": \"45-55\"}, {\"ID\": 1, \"timestamp\": \"06:30:00\", \"min\": 0.04574175824175824, \"max\": 0.05421917808219178, \"quantiles\": \"45-55\"}, {\"ID\": 1, \"timestamp\": \"06:45:00\", \"min\": 0.04621917808219178, \"max\": 0.05895890410958904, \"quantiles\": \"45-55\"}, {\"ID\": 1, \"timestamp\": \"07:00:00\", \"min\": 0.04809917355371901, \"max\": 0.05385674931129477, \"quantiles\": \"45-55\"}, {\"ID\": 1, \"timestamp\": \"07:15:00\", \"min\": 0.04841666666666666, \"max\": 0.054876712328767126, \"quantiles\": \"45-55\"}, {\"ID\": 1, \"timestamp\": \"07:30:00\", \"min\": 0.04964285714285714, \"max\": 0.05915300546448088, \"quantiles\": \"45-55\"}, {\"ID\": 1, \"timestamp\": \"07:45:00\", \"min\": 0.05024657534246575, \"max\": 0.05824657534246576, \"quantiles\": \"45-55\"}, {\"ID\": 1, \"timestamp\": \"08:00:00\", \"min\": 0.05002732240437159, \"max\": 0.05907103825136612, \"quantiles\": \"45-55\"}, {\"ID\": 1, \"timestamp\": \"08:15:00\", \"min\": 0.051502732240437166, \"max\": 0.060082191780821914, \"quantiles\": \"45-55\"}, {\"ID\": 1, \"timestamp\": \"08:30:00\", \"min\": 0.052814207650273226, \"max\": 0.0636986301369863, \"quantiles\": \"45-55\"}, {\"ID\": 1, \"timestamp\": \"08:45:00\", \"min\": 0.051721311475409835, \"max\": 0.059371584699453556, \"quantiles\": \"45-55\"}, {\"ID\": 1, \"timestamp\": \"09:00:00\", \"min\": 0.049918032786885246, \"max\": 0.05925824175824176, \"quantiles\": \"45-55\"}, {\"ID\": 1, \"timestamp\": \"09:15:00\", \"min\": 0.04969945355191257, \"max\": 0.06224657534246575, \"quantiles\": \"45-55\"}, {\"ID\": 1, \"timestamp\": \"09:30:00\", \"min\": 0.048715846994535524, \"max\": 0.060000000000000005, \"quantiles\": \"45-55\"}, {\"ID\": 1, \"timestamp\": \"09:45:00\", \"min\": 0.047041095890410965, \"max\": 0.059945355191256836, \"quantiles\": \"45-55\"}, {\"ID\": 1, \"timestamp\": \"10:00:00\", \"min\": 0.04786885245901639, \"max\": 0.06333333333333334, \"quantiles\": \"45-55\"}, {\"ID\": 1, \"timestamp\": \"10:15:00\", \"min\": 0.048958904109589044, \"max\": 0.06330601092896175, \"quantiles\": \"45-55\"}, {\"ID\": 1, \"timestamp\": \"10:30:00\", \"min\": 0.04989041095890411, \"max\": 0.06314207650273224, \"quantiles\": \"45-55\"}, {\"ID\": 1, \"timestamp\": \"10:45:00\", \"min\": 0.04912568306010929, \"max\": 0.06295081967213115, \"quantiles\": \"45-55\"}, {\"ID\": 1, \"timestamp\": \"11:00:00\", \"min\": 0.05046448087431694, \"max\": 0.06289617486338797, \"quantiles\": \"45-55\"}, {\"ID\": 1, \"timestamp\": \"11:15:00\", \"min\": 0.05024590163934426, \"max\": 0.06420765027322405, \"quantiles\": \"45-55\"}, {\"ID\": 1, \"timestamp\": \"11:30:00\", \"min\": 0.046994535519125684, \"max\": 0.06613698630136987, \"quantiles\": \"45-55\"}, {\"ID\": 1, \"timestamp\": \"11:45:00\", \"min\": 0.0501912568306011, \"max\": 0.06723287671232876, \"quantiles\": \"45-55\"}, {\"ID\": 1, \"timestamp\": \"12:00:00\", \"min\": 0.04877049180327869, \"max\": 0.06620218579234972, \"quantiles\": \"45-55\"}, {\"ID\": 1, \"timestamp\": \"12:15:00\", \"min\": 0.05210382513661202, \"max\": 0.06830601092896176, \"quantiles\": \"45-55\"}, {\"ID\": 1, \"timestamp\": \"12:30:00\", \"min\": 0.04975409836065574, \"max\": 0.06620218579234972, \"quantiles\": \"45-55\"}, {\"ID\": 1, \"timestamp\": \"12:45:00\", \"min\": 0.04945355191256831, \"max\": 0.065, \"quantiles\": \"45-55\"}, {\"ID\": 1, \"timestamp\": \"13:00:00\", \"min\": 0.048739726027397255, \"max\": 0.06367123287671234, \"quantiles\": \"45-55\"}, {\"ID\": 1, \"timestamp\": \"13:15:00\", \"min\": 0.04658469945355191, \"max\": 0.06468493150684931, \"quantiles\": \"45-55\"}, {\"ID\": 1, \"timestamp\": \"13:30:00\", \"min\": 0.04789617486338798, \"max\": 0.06312328767123287, \"quantiles\": \"45-55\"}, {\"ID\": 1, \"timestamp\": \"13:45:00\", \"min\": 0.048688524590163935, \"max\": 0.0614207650273224, \"quantiles\": \"45-55\"}, {\"ID\": 1, \"timestamp\": \"14:00:00\", \"min\": 0.04950684931506849, \"max\": 0.05920765027322405, \"quantiles\": \"45-55\"}, {\"ID\": 1, \"timestamp\": \"14:15:00\", \"min\": 0.04846575342465754, \"max\": 0.05907103825136612, \"quantiles\": \"45-55\"}, {\"ID\": 1, \"timestamp\": \"14:30:00\", \"min\": 0.04972677595628415, \"max\": 0.06063013698630137, \"quantiles\": \"45-55\"}, {\"ID\": 1, \"timestamp\": \"14:45:00\", \"min\": 0.05041095890410959, \"max\": 0.06164383561643835, \"quantiles\": \"45-55\"}, {\"ID\": 1, \"timestamp\": \"15:00:00\", \"min\": 0.052868852459016395, \"max\": 0.06390710382513662, \"quantiles\": \"45-55\"}, {\"ID\": 1, \"timestamp\": \"15:15:00\", \"min\": 0.054754098360655735, \"max\": 0.06450819672131147, \"quantiles\": \"45-55\"}, {\"ID\": 1, \"timestamp\": \"15:30:00\", \"min\": 0.055534246575342464, \"max\": 0.06925824175824176, \"quantiles\": \"45-55\"}, {\"ID\": 1, \"timestamp\": \"15:45:00\", \"min\": 0.05800546448087432, \"max\": 0.0707103825136612, \"quantiles\": \"45-55\"}, {\"ID\": 1, \"timestamp\": \"16:00:00\", \"min\": 0.06158904109589041, \"max\": 0.07794520547945205, \"quantiles\": \"45-55\"}, {\"ID\": 1, \"timestamp\": \"16:15:00\", \"min\": 0.06259562841530054, \"max\": 0.08019125683060109, \"quantiles\": \"45-55\"}, {\"ID\": 1, \"timestamp\": \"16:30:00\", \"min\": 0.06626373626373627, \"max\": 0.08342465753424658, \"quantiles\": \"45-55\"}, {\"ID\": 1, \"timestamp\": \"16:45:00\", \"min\": 0.06936111111111111, \"max\": 0.08456284153005464, \"quantiles\": \"45-55\"}, {\"ID\": 1, \"timestamp\": \"17:00:00\", \"min\": 0.07603825136612022, \"max\": 0.09506849315068494, \"quantiles\": \"45-55\"}, {\"ID\": 1, \"timestamp\": \"17:15:00\", \"min\": 0.07959016393442622, \"max\": 0.10084931506849315, \"quantiles\": \"45-55\"}, {\"ID\": 1, \"timestamp\": \"17:30:00\", \"min\": 0.08928767123287672, \"max\": 0.10734972677595628, \"quantiles\": \"45-55\"}, {\"ID\": 1, \"timestamp\": \"17:45:00\", \"min\": 0.09497267759562841, \"max\": 0.10915300546448088, \"quantiles\": \"45-55\"}, {\"ID\": 1, \"timestamp\": \"18:00:00\", \"min\": 0.09224043715846994, \"max\": 0.11232876712328767, \"quantiles\": \"45-55\"}, {\"ID\": 1, \"timestamp\": \"18:15:00\", \"min\": 0.08958904109589041, \"max\": 0.10964383561643837, \"quantiles\": \"45-55\"}, {\"ID\": 1, \"timestamp\": \"18:30:00\", \"min\": 0.08624657534246576, \"max\": 0.1103021978021978, \"quantiles\": \"45-55\"}, {\"ID\": 1, \"timestamp\": \"18:45:00\", \"min\": 0.09084931506849316, \"max\": 0.10873626373626373, \"quantiles\": \"45-55\"}, {\"ID\": 1, \"timestamp\": \"19:00:00\", \"min\": 0.08997260273972604, \"max\": 0.11002739726027398, \"quantiles\": \"45-55\"}, {\"ID\": 1, \"timestamp\": \"19:15:00\", \"min\": 0.08736986301369863, \"max\": 0.10997260273972603, \"quantiles\": \"45-55\"}, {\"ID\": 1, \"timestamp\": \"19:30:00\", \"min\": 0.08580821917808219, \"max\": 0.10953424657534246, \"quantiles\": \"45-55\"}, {\"ID\": 1, \"timestamp\": \"19:45:00\", \"min\": 0.08707650273224044, \"max\": 0.106, \"quantiles\": \"45-55\"}, {\"ID\": 1, \"timestamp\": \"20:00:00\", \"min\": 0.08420765027322405, \"max\": 0.10112328767123288, \"quantiles\": \"45-55\"}, {\"ID\": 1, \"timestamp\": \"20:15:00\", \"min\": 0.0835068493150685, \"max\": 0.10297814207650273, \"quantiles\": \"45-55\"}, {\"ID\": 1, \"timestamp\": \"20:30:00\", \"min\": 0.08297814207650274, \"max\": 0.09909589041095891, \"quantiles\": \"45-55\"}, {\"ID\": 1, \"timestamp\": \"20:45:00\", \"min\": 0.08038251366120219, \"max\": 0.09493150684931506, \"quantiles\": \"45-55\"}, {\"ID\": 1, \"timestamp\": \"21:00:00\", \"min\": 0.0807103825136612, \"max\": 0.09115384615384615, \"quantiles\": \"45-55\"}, {\"ID\": 1, \"timestamp\": \"21:15:00\", \"min\": 0.07784153005464481, \"max\": 0.09103825136612022, \"quantiles\": \"45-55\"}, {\"ID\": 1, \"timestamp\": \"21:30:00\", \"min\": 0.07490410958904109, \"max\": 0.09123287671232876, \"quantiles\": \"45-55\"}, {\"ID\": 1, \"timestamp\": \"21:45:00\", \"min\": 0.07082191780821918, \"max\": 0.09024657534246575, \"quantiles\": \"45-55\"}, {\"ID\": 1, \"timestamp\": \"22:00:00\", \"min\": 0.07246575342465754, \"max\": 0.08565573770491804, \"quantiles\": \"45-55\"}, {\"ID\": 1, \"timestamp\": \"22:15:00\", \"min\": 0.07240997229916897, \"max\": 0.08276712328767123, \"quantiles\": \"45-55\"}, {\"ID\": 1, \"timestamp\": \"22:30:00\", \"min\": 0.06581967213114755, \"max\": 0.07783561643835617, \"quantiles\": \"45-55\"}, {\"ID\": 1, \"timestamp\": \"22:45:00\", \"min\": 0.06421917808219178, \"max\": 0.07402739726027398, \"quantiles\": \"45-55\"}, {\"ID\": 1, \"timestamp\": \"23:00:00\", \"min\": 0.06353424657534247, \"max\": 0.0730958904109589, \"quantiles\": \"45-55\"}, {\"ID\": 1, \"timestamp\": \"23:15:00\", \"min\": 0.059424657534246576, \"max\": 0.06882513661202186, \"quantiles\": \"45-55\"}, {\"ID\": 1, \"timestamp\": \"23:30:00\", \"min\": 0.0553551912568306, \"max\": 0.06347945205479452, \"quantiles\": \"45-55\"}, {\"ID\": 1, \"timestamp\": \"23:45:00\", \"min\": 0.05360655737704918, \"max\": 0.06123287671232877, \"quantiles\": \"45-55\"}]}}, {\"mode\": \"vega-lite\"});\n",
       "</script>"
      ],
      "text/plain": [
       "alt.Chart(...)"
      ]
     },
     "execution_count": 20,
     "metadata": {},
     "output_type": "execute_result"
    }
   ],
   "source": [
    "area_chart"
   ]
  },
  {
   "cell_type": "code",
   "execution_count": null,
   "metadata": {},
   "outputs": [],
   "source": []
  }
 ],
 "metadata": {
  "kernelspec": {
   "display_name": "base",
   "language": "python",
   "name": "python3"
  },
  "language_info": {
   "codemirror_mode": {
    "name": "ipython",
    "version": 3
   },
   "file_extension": ".py",
   "mimetype": "text/x-python",
   "name": "python",
   "nbconvert_exporter": "python",
   "pygments_lexer": "ipython3",
   "version": "3.9.12"
  },
  "orig_nbformat": 4,
  "vscode": {
   "interpreter": {
    "hash": "21741f1f921b3f2f15c5f8623ef1a03103ddd51826838e44af38574b0a1f30dd"
   }
  }
 },
 "nbformat": 4,
 "nbformat_minor": 2
}
