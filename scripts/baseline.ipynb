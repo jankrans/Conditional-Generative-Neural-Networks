{
 "cells": [
  {
   "cell_type": "code",
   "execution_count": 1,
   "metadata": {},
   "outputs": [],
   "source": [
    "import os\n",
    "import sys\n",
    "import numpy as np\n",
    "import utils\n",
    "import plot\n",
    "from tqdm import tqdm\n",
    "\n",
    "from sklearn.metrics import mean_absolute_error, mean_squared_error"
   ]
  },
  {
   "cell_type": "markdown",
   "metadata": {},
   "source": []
  },
  {
   "cell_type": "code",
   "execution_count": 3,
   "metadata": {},
   "outputs": [],
   "source": [
    "train_f, train_a = utils.get_training_data()\n",
    "test_f, test_a = utils.get_test_data()\n",
    "val_f, val_a = utils.get_validation_data()\n",
    "train_f_norm = utils.normalize_numpy(train_f, per_sample=False, minusone_one=True)\n",
    "test_f_norm = utils.normalize_numpy(test_f, per_sample=False, minusone_one=True)\n",
    "val_f_norm = utils.normalize_numpy(val_f, per_sample=False, minusone_one=True)"
   ]
  },
  {
   "cell_type": "code",
   "execution_count": 4,
   "metadata": {},
   "outputs": [],
   "source": [
    "full_set = np.concatenate([train_f,val_f])\n",
    "full_set_norm = np.concatenate([train_f_norm,val_f_norm])\n",
    "full_attribute = np.concatenate([train_a,val_a])"
   ]
  },
  {
   "attachments": {},
   "cell_type": "markdown",
   "metadata": {},
   "source": [
    "Completely random sampling"
   ]
  },
  {
   "attachments": {},
   "cell_type": "markdown",
   "metadata": {},
   "source": [
    "without normalization"
   ]
  },
  {
   "cell_type": "code",
   "execution_count": 38,
   "metadata": {},
   "outputs": [
    {
     "name": "stderr",
     "output_type": "stream",
     "text": [
      "11414it [00:22, 506.26it/s]"
     ]
    },
    {
     "name": "stdout",
     "output_type": "stream",
     "text": [
      "Energy scores | Median: 0.779   Mean: 1.185 \n",
      "MSE | Median: 0.060   Mean: 0.089 \n",
      "MAE | Median: 0.126   Mean: 0.155 \n"
     ]
    },
    {
     "name": "stderr",
     "output_type": "stream",
     "text": [
      "\n"
     ]
    }
   ],
   "source": [
    "#no normalization\n",
    "energy_scores = []\n",
    "mse = []\n",
    "mae = []\n",
    "for org_sample,_ in tqdm(zip(test_f,test_a)):\n",
    "\n",
    "    #Take 250 random samples from the full dataset\n",
    "    random_samples = full_set[np.random.choice(full_set.shape[0], 250, replace=False)]\n",
    "\n",
    "    probality_array = [1/len(random_samples)]*len(random_samples) #All have the same probability of occuring!\n",
    "    energy_scores.append(utils.calculate_energy_score(probality_array,random_samples,org_sample))\n",
    "\n",
    "    mae_temp = []\n",
    "    mse_temp = []\n",
    "    for s in random_samples:\n",
    "        mae_temp.append(np.abs(org_sample - s))\n",
    "        mse_temp.append(np.square(org_sample - s))\n",
    "    mae.append(np.mean(mae_temp))\n",
    "    mse.append(np.mean(mse_temp))\n",
    "\n",
    "print(f'Energy scores | Median: {np.nanmedian(energy_scores):.3f}   Mean: {np.nanmean(energy_scores) :.3f} ')\n",
    "print(f'MSE | Median: {np.nanmedian(mse):.3f}   Mean: {np.nanmean(mse) :.3f} ')\n",
    "print(f'MAE | Median: {np.nanmedian(mae):.3f}   Mean: {np.nanmean(mae) :.3f} ')"
   ]
  },
  {
   "attachments": {},
   "cell_type": "markdown",
   "metadata": {},
   "source": [
    "Look-alike days"
   ]
  },
  {
   "cell_type": "code",
   "execution_count": 6,
   "metadata": {},
   "outputs": [
    {
     "name": "stdout",
     "output_type": "stream",
     "text": [
      "0\n"
     ]
    },
    {
     "name": "stderr",
     "output_type": "stream",
     "text": [
      "11414it [00:15, 757.94it/s]\n"
     ]
    },
    {
     "name": "stdout",
     "output_type": "stream",
     "text": [
      "Energy scores | Median: 0.772   Mean: 1.185 \n",
      "MSE | Median: 0.046   Mean: 0.077 \n",
      "MAE | Median: 0.115   Mean: 0.145 \n",
      "1\n"
     ]
    },
    {
     "name": "stderr",
     "output_type": "stream",
     "text": [
      "11414it [00:18, 627.14it/s]\n"
     ]
    },
    {
     "name": "stdout",
     "output_type": "stream",
     "text": [
      "Energy scores | Median: 0.754   Mean: 1.064 \n",
      "MSE | Median: 0.042   Mean: 0.069 \n",
      "MAE | Median: 0.109   Mean: 0.131 \n",
      "2\n"
     ]
    },
    {
     "name": "stderr",
     "output_type": "stream",
     "text": [
      "11414it [00:20, 565.64it/s]\n"
     ]
    },
    {
     "name": "stdout",
     "output_type": "stream",
     "text": [
      "Energy scores | Median: 0.749   Mean: 1.024 \n",
      "MSE | Median: 0.040   Mean: 0.067 \n",
      "MAE | Median: 0.106   Mean: 0.126 \n",
      "3\n"
     ]
    },
    {
     "name": "stderr",
     "output_type": "stream",
     "text": [
      "11414it [00:25, 454.23it/s]\n"
     ]
    },
    {
     "name": "stdout",
     "output_type": "stream",
     "text": [
      "Energy scores | Median: 0.749   Mean: 1.008 \n",
      "MSE | Median: 0.038   Mean: 0.066 \n",
      "MAE | Median: 0.105   Mean: 0.125 \n",
      "4\n"
     ]
    },
    {
     "name": "stderr",
     "output_type": "stream",
     "text": [
      "11414it [00:27, 420.06it/s]\n"
     ]
    },
    {
     "name": "stdout",
     "output_type": "stream",
     "text": [
      "Energy scores | Median: 0.748   Mean: 0.997 \n",
      "MSE | Median: 0.038   Mean: 0.065 \n",
      "MAE | Median: 0.104   Mean: 0.125 \n",
      "5\n"
     ]
    },
    {
     "name": "stderr",
     "output_type": "stream",
     "text": [
      "11414it [00:29, 384.59it/s]\n"
     ]
    },
    {
     "name": "stdout",
     "output_type": "stream",
     "text": [
      "Energy scores | Median: 0.747   Mean: 0.991 \n",
      "MSE | Median: 0.037   Mean: 0.065 \n",
      "MAE | Median: 0.103   Mean: 0.124 \n",
      "6\n"
     ]
    },
    {
     "name": "stderr",
     "output_type": "stream",
     "text": [
      "11414it [00:32, 348.70it/s]"
     ]
    },
    {
     "name": "stdout",
     "output_type": "stream",
     "text": [
      "Energy scores | Median: 0.746   Mean: 0.987 \n",
      "MSE | Median: 0.037   Mean: 0.064 \n",
      "MAE | Median: 0.103   Mean: 0.124 \n"
     ]
    },
    {
     "name": "stderr",
     "output_type": "stream",
     "text": [
      "\n"
     ]
    }
   ],
   "source": [
    "energy_scores = []\n",
    "mse = []\n",
    "mae = []\n",
    "test_a_1 = utils.undo_onehot_encoding(test_a,[4,7,8,9])\n",
    "full_a_1 = utils.undo_onehot_encoding(full_attribute,[4,7,8,9])\n",
    "for i in range(7):\n",
    "    print(i)\n",
    "    for org_sample,org_attribute in tqdm(zip(test_f,test_a_1)):\n",
    "\n",
    "        #Take 250 samples from the dataset that with a +- similar day\n",
    "        samples = utils.get_similar_days(full_set, full_a_1[:,:i], org_attribute[:i], k = 250)\n",
    "\n",
    "        probality_array = [1/len(samples)]*len(samples) #All have the same probability of occuring!\n",
    "        energy_scores.append(utils.calculate_energy_score(probality_array,samples,org_sample))\n",
    "\n",
    "        mae_temp = []\n",
    "        mse_temp = []\n",
    "        for s in samples:\n",
    "            mae_temp.append(np.abs(org_sample - s))\n",
    "            mse_temp.append(np.square(org_sample - s))\n",
    "        mae.append(np.mean(mae_temp))\n",
    "        mse.append(np.mean(mse_temp))\n",
    "\n",
    "    print(f'Energy scores | Median: {np.nanmedian(energy_scores):.3f}   Mean: {np.nanmean(energy_scores) :.3f} ')\n",
    "    print(f'MSE | Median: {np.nanmedian(mse):.3f}   Mean: {np.nanmean(mse) :.3f} ')\n",
    "    print(f'MAE | Median: {np.nanmedian(mae):.3f}   Mean: {np.nanmean(mae) :.3f} ')"
   ]
  },
  {
   "cell_type": "code",
   "execution_count": null,
   "metadata": {},
   "outputs": [],
   "source": []
  }
 ],
 "metadata": {
  "kernelspec": {
   "display_name": "NF",
   "language": "python",
   "name": "python3"
  },
  "language_info": {
   "codemirror_mode": {
    "name": "ipython",
    "version": 3
   },
   "file_extension": ".py",
   "mimetype": "text/x-python",
   "name": "python",
   "nbconvert_exporter": "python",
   "pygments_lexer": "ipython3",
   "version": "3.10.10"
  },
  "orig_nbformat": 4
 },
 "nbformat": 4,
 "nbformat_minor": 2
}
